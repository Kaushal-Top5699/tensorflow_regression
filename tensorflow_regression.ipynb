{
  "cells": [
    {
      "cell_type": "markdown",
      "metadata": {
        "id": "view-in-github",
        "colab_type": "text"
      },
      "source": [
        "<a href=\"https://colab.research.google.com/github/Kaushal-Top5699/tensorflow_regression/blob/main/tensorflow_regression.ipynb\" target=\"_parent\"><img src=\"https://colab.research.google.com/assets/colab-badge.svg\" alt=\"Open In Colab\"/></a>"
      ]
    },
    {
      "cell_type": "markdown",
      "metadata": {
        "id": "VgH3Sw6wVtUr"
      },
      "source": [
        "# **Regression in Neural Networks**\n",
        "Introduction to Regression in Neural Networks in Tensorflow.\n",
        "Predicting numerical values based on someother combination of values or more specifically variables."
      ]
    },
    {
      "cell_type": "code",
      "execution_count": 1,
      "metadata": {
        "colab": {
          "base_uri": "https://localhost:8080/",
          "height": 35
        },
        "id": "ES9WGICnVrU3",
        "outputId": "246bd769-e9cb-4bfa-bff8-6bf30cb804a7"
      },
      "outputs": [
        {
          "output_type": "execute_result",
          "data": {
            "text/plain": [
              "'2.11.0'"
            ],
            "application/vnd.google.colaboratory.intrinsic+json": {
              "type": "string"
            }
          },
          "metadata": {},
          "execution_count": 1
        }
      ],
      "source": [
        "import tensorflow as tf\n",
        "tf.__version__"
      ]
    },
    {
      "cell_type": "markdown",
      "metadata": {
        "id": "r-dLNR8m2awI"
      },
      "source": [
        "Creating data to view and fit."
      ]
    },
    {
      "cell_type": "code",
      "execution_count": 2,
      "metadata": {
        "colab": {
          "base_uri": "https://localhost:8080/",
          "height": 287
        },
        "id": "eNIrDxhy2Hh5",
        "outputId": "8c9441d8-2336-45f3-d2ab-51be858ca652"
      },
      "outputs": [
        {
          "output_type": "execute_result",
          "data": {
            "text/plain": [
              "<matplotlib.collections.PathCollection at 0x7f0d96e117f0>"
            ]
          },
          "metadata": {},
          "execution_count": 2
        },
        {
          "output_type": "display_data",
          "data": {
            "text/plain": [
              "<Figure size 432x288 with 1 Axes>"
            ],
            "image/png": "[encoded data removed]"
          },
          "metadata": {
            "needs_background": "light"
          }
        }
      ],
      "source": [
        "import numpy as np\n",
        "import matplotlib.pyplot as plt\n",
        "\n",
        "# Creating features\n",
        "X = np.array([-7.0, -4.0, -1.0, 2.0, 5.0, 8.0, 11.0, 14.0])\n",
        "\n",
        "# Creating lables\n",
        "y = np.array([3.0, 6.0, 9.0, 12.0, 15.0, 18.0, 21.0, 24.0])\n",
        "\n",
        "# Visualise it\n",
        "plt.scatter(X, y)"
      ]
    },
    {
      "cell_type": "code",
      "execution_count": 3,
      "metadata": {
        "colab": {
          "base_uri": "https://localhost:8080/"
        },
        "id": "gKoqLW1H3Qwo",
        "outputId": "03409317-35e1-4319-bb09-1251094599bf"
      },
      "outputs": [
        {
          "output_type": "execute_result",
          "data": {
            "text/plain": [
              "array([ 3.,  6.,  9., 12., 15., 18., 21., 24.])"
            ]
          },
          "metadata": {},
          "execution_count": 3
        }
      ],
      "source": [
        "# Try find relation between X and y. Its basically X + 10. For example, -7.0 + 10 = 3.0 and same is the case with other features and lables.\n",
        "# Perform a check\n",
        "X + 10"
      ]
    },
    {
      "cell_type": "markdown",
      "metadata": {
        "id": "_CtFVrBD5Elz"
      },
      "source": [
        "The model will basically return a number or predict a number or what 'y' should be when we pass it an 'X'. So after all the work is done if we pass it a number say, 17.0 the model should output 27.0 (Remeber the relation between X and y is? its X + 10). This is what we are trying to do here, happy learning."
      ]
    },
    {
      "cell_type": "code",
      "execution_count": 4,
      "metadata": {
        "colab": {
          "base_uri": "https://localhost:8080/"
        },
        "id": "oHlmjxfp3uA9",
        "outputId": "deb98ae8-63f5-434a-8092-c875d6ca8660"
      },
      "outputs": [
        {
          "output_type": "execute_result",
          "data": {
            "text/plain": [
              "array([ True,  True,  True,  True,  True,  True,  True,  True])"
            ]
          },
          "metadata": {},
          "execution_count": 4
        }
      ],
      "source": [
        "# Verify our check\n",
        "y == X + 10"
      ]
    },
    {
      "cell_type": "markdown",
      "metadata": {
        "id": "__ZAhdOI4Evc"
      },
      "source": [
        "### Input and output shapes"
      ]
    },
    {
      "cell_type": "code",
      "execution_count": 5,
      "metadata": {
        "colab": {
          "base_uri": "https://localhost:8080/"
        },
        "id": "dgJTArAt3yol",
        "outputId": "611ef324-b1ab-4b23-fe3e-6ce9d57ed87d"
      },
      "outputs": [
        {
          "output_type": "execute_result",
          "data": {
            "text/plain": [
              "(<tf.Tensor: shape=(3,), dtype=string, numpy=array([b'bedroom', b'bathroom', b'gurage'], dtype=object)>,\n",
              " <tf.Tensor: shape=(1,), dtype=int32, numpy=array([939700], dtype=int32)>)"
            ]
          },
          "metadata": {},
          "execution_count": 5
        }
      ],
      "source": [
        "# Create a demo tensor for housing price prediction problem.\n",
        "house_info = tf.constant([\"bedroom\", \"bathroom\", \"gurage\"])\n",
        "house_price = tf.constant([939700])\n",
        "house_info, house_price"
      ]
    },
    {
      "cell_type": "code",
      "execution_count": 6,
      "metadata": {
        "colab": {
          "base_uri": "https://localhost:8080/"
        },
        "id": "6rGHQqo94sV9",
        "outputId": "8ac54508-31a8-4714-b3b9-63b167da198c"
      },
      "outputs": [
        {
          "output_type": "execute_result",
          "data": {
            "text/plain": [
              "((8,), (8,))"
            ]
          },
          "metadata": {},
          "execution_count": 6
        }
      ],
      "source": [
        "input_shape = X.shape\n",
        "output_shape = y.shape\n",
        "input_shape, output_shape"
      ]
    },
    {
      "cell_type": "code",
      "execution_count": 7,
      "metadata": {
        "colab": {
          "base_uri": "https://localhost:8080/"
        },
        "id": "z_eCDArx49ob",
        "outputId": "dd3818ba-996a-491a-86f9-e9f027b7a372"
      },
      "outputs": [
        {
          "output_type": "execute_result",
          "data": {
            "text/plain": [
              "(0, 0)"
            ]
          },
          "metadata": {},
          "execution_count": 7
        }
      ],
      "source": [
        "# Note that the input X is a scalar and same is the output, lets check, because if it is then it should have 0 dimensions.\n",
        "# Remember we want one feature which is one of the elements of X and then predict or output one value or number which again an element of y.\n",
        "X[0].ndim, y[0].ndim"
      ]
    },
    {
      "cell_type": "code",
      "execution_count": 8,
      "metadata": {
        "colab": {
          "base_uri": "https://localhost:8080/"
        },
        "id": "-RogcmTY6Npe",
        "outputId": "850c0797-7c63-49fc-959b-69120ece9733"
      },
      "outputs": [
        {
          "output_type": "execute_result",
          "data": {
            "text/plain": [
              "(<tf.Tensor: shape=(8,), dtype=float32, numpy=array([-7., -4., -1.,  2.,  5.,  8., 11., 14.], dtype=float32)>,\n",
              " <tf.Tensor: shape=(8,), dtype=float32, numpy=array([ 3.,  6.,  9., 12., 15., 18., 21., 24.], dtype=float32)>)"
            ]
          },
          "metadata": {},
          "execution_count": 8
        }
      ],
      "source": [
        "# Lets turn our numpy arrays into tensors. More specifically, turning data into tensors!\n",
        "X = tf.cast(tf.constant(X), dtype=tf.float32)\n",
        "y = tf.cast(tf.constant(y), dtype=tf.float32)\n",
        "X, y"
      ]
    },
    {
      "cell_type": "code",
      "execution_count": 9,
      "metadata": {
        "colab": {
          "base_uri": "https://localhost:8080/"
        },
        "id": "pUHOP8bN63dv",
        "outputId": "199dcfc4-ae50-42bc-fa0a-3ba1407b1bd0"
      },
      "outputs": [
        {
          "output_type": "execute_result",
          "data": {
            "text/plain": [
              "(TensorShape([]), TensorShape([]))"
            ]
          },
          "metadata": {},
          "execution_count": 9
        }
      ],
      "source": [
        "input_shape = X[0].shape\n",
        "output_shape = y[0].shape\n",
        "input_shape, output_shape"
      ]
    },
    {
      "cell_type": "code",
      "execution_count": 10,
      "metadata": {
        "colab": {
          "base_uri": "https://localhost:8080/",
          "height": 287
        },
        "id": "BSjJ4KHG65nb",
        "outputId": "86f8e0d8-2c45-4bfa-8df8-5eba658399a9"
      },
      "outputs": [
        {
          "output_type": "execute_result",
          "data": {
            "text/plain": [
              "<matplotlib.collections.PathCollection at 0x7f0d80bb4f40>"
            ]
          },
          "metadata": {},
          "execution_count": 10
        },
        {
          "output_type": "display_data",
          "data": {
            "text/plain": [
              "<Figure size 432x288 with 1 Axes>"
            ],
            "image/png": "[encoded data removed]"
          },
          "metadata": {
            "needs_background": "light"
          }
        }
      ],
      "source": [
        "plt.scatter(X, y)"
      ]
    },
    {
      "cell_type": "markdown",
      "metadata": {
        "id": "edi9fKTQ7ano"
      },
      "source": [
        "## **Steps for modelling with tensorflow**\n",
        "1) **Creating a model** - defining the number of input and output layers, as well as the hindden layers of deep learning model.\n",
        "\n",
        "2) **Compile the model** - defining the loss function (which tells our model how wrong it is), the optimizer (which tells our model how to correct the error) and evaluation matrix (which we can use to interpret the performance of our model).\n",
        "\n",
        "3) **Fitting the model** - leting the model try to find patterns between X and y (features and labels)."
      ]
    },
    {
      "cell_type": "code",
      "execution_count": 11,
      "metadata": {
        "colab": {
          "base_uri": "https://localhost:8080/"
        },
        "id": "ASpNjdWW7Yuw",
        "outputId": "b5d8d09d-98de-4703-8e99-e94647c0410d"
      },
      "outputs": [
        {
          "output_type": "stream",
          "name": "stdout",
          "text": [
            "Epoch 1/5\n",
            "1/1 [==============================] - 7s 7s/step - loss: 18.4521 - mae: 18.4521\n",
            "Epoch 2/5\n",
            "1/1 [==============================] - 0s 22ms/step - loss: 18.1708 - mae: 18.1708\n",
            "Epoch 3/5\n",
            "1/1 [==============================] - 0s 17ms/step - loss: 17.8896 - mae: 17.8896\n",
            "Epoch 4/5\n",
            "1/1 [==============================] - 0s 12ms/step - loss: 17.6083 - mae: 17.6083\n",
            "Epoch 5/5\n",
            "1/1 [==============================] - 0s 14ms/step - loss: 17.3271 - mae: 17.3271\n"
          ]
        },
        {
          "output_type": "execute_result",
          "data": {
            "text/plain": [
              "<keras.callbacks.History at 0x7f0d809f49d0>"
            ]
          },
          "metadata": {},
          "execution_count": 11
        }
      ],
      "source": [
        "# Set the random seed.\n",
        "tf.random.set_seed(42)\n",
        "\n",
        "# 1) Create the model. Sequential API\n",
        "model = tf.keras.Sequential([\n",
        "    tf.keras.layers.Dense(1) # Note that we want to take one feature and predict the output therefore, 1.\n",
        "])\n",
        "\n",
        "\n",
        "# 2) Compile the model.\n",
        "model.compile(loss=tf.keras.losses.mae,\n",
        "              optimizer=tf.keras.optimizers.SGD(),\n",
        "              metrics=[\"mae\"])\n",
        "# MAE is Mean Absolute Error (On Avg. how wrong our model is?)\n",
        "# SGD is Stcochastic Gradient Descent\n",
        "\n",
        "\n",
        "# 3) Fit the model. (Here we fit the model and tell it you have 5 chances to look at the patterns and finally start the prediction).\n",
        "X_input = tf.expand_dims(X, axis = 1) # No of dimensions of one input is Zero and that gave error so I increased the dimensions by 1.\n",
        "model.fit(X_input, y, epochs=5)"
      ]
    },
    {
      "cell_type": "code",
      "execution_count": 12,
      "metadata": {
        "colab": {
          "base_uri": "https://localhost:8080/"
        },
        "id": "gYyBQda-APlf",
        "outputId": "0a6cb283-47c3-4a63-f941-b6988094a64f"
      },
      "outputs": [
        {
          "output_type": "execute_result",
          "data": {
            "text/plain": [
              "(<tf.Tensor: shape=(8,), dtype=float32, numpy=array([-7., -4., -1.,  2.,  5.,  8., 11., 14.], dtype=float32)>,\n",
              " <tf.Tensor: shape=(8,), dtype=float32, numpy=array([ 3.,  6.,  9., 12., 15., 18., 21., 24.], dtype=float32)>)"
            ]
          },
          "metadata": {},
          "execution_count": 12
        }
      ],
      "source": [
        "# This is how X and y looks like.\n",
        "X, y"
      ]
    },
    {
      "cell_type": "code",
      "execution_count": 13,
      "metadata": {
        "colab": {
          "base_uri": "https://localhost:8080/"
        },
        "id": "Mw6lQAMNDB1f",
        "outputId": "18094976-3e24-45d9-ef25-a0b08cfb95e8"
      },
      "outputs": [
        {
          "output_type": "stream",
          "name": "stdout",
          "text": [
            "1/1 [==============================] - 0s 76ms/step\n"
          ]
        },
        {
          "output_type": "execute_result",
          "data": {
            "text/plain": [
              "array([[-13.963862]], dtype=float32)"
            ]
          },
          "metadata": {},
          "execution_count": 13
        }
      ],
      "source": [
        "# Now lets try to make a prediction.\n",
        "y_pred = model.predict([17.0])\n",
        "y_pred"
      ]
    },
    {
      "cell_type": "code",
      "execution_count": 14,
      "metadata": {
        "colab": {
          "base_uri": "https://localhost:8080/"
        },
        "id": "TA3RgqteDVx0",
        "outputId": "94f5c0b3-c4e6-4843-dafc-8a2b682fcd81"
      },
      "outputs": [
        {
          "output_type": "execute_result",
          "data": {
            "text/plain": [
              "array([[-3.363862]], dtype=float32)"
            ]
          },
          "metadata": {},
          "execution_count": 14
        }
      ],
      "source": [
        "# Now if you look at last epoch data, its says on avg. our model will make mistake approximately 10.6 points off. Lets try it to add those 10.6 points,\n",
        "# our predicted value and check how correct or closer is the prediction of model now.\n",
        "y_pred + 10.6\n",
        "# Pretty close to actual answer which is 27.0"
      ]
    },
    {
      "cell_type": "markdown",
      "metadata": {
        "id": "TMUqxqGVEie2"
      },
      "source": [
        "### Improving our model. Now since, we are getting wrong predictions lets try to improve it.\n",
        "We can improve the model by altering the steps we used while creating the model.\n",
        "\n",
        "1) **Create Model** - we might increase the number of layers, neurons and change activation or transfer functions within each layer.\n",
        "\n",
        "2) **Compile Model** - we might change the optimization function and perhaps the **learning rate** of the optimization function.\n",
        "\n",
        "3) **Fitting Model** - we might increase the number of **epochs**, or on more **Data**."
      ]
    },
    {
      "cell_type": "code",
      "execution_count": 15,
      "metadata": {
        "colab": {
          "base_uri": "https://localhost:8080/"
        },
        "id": "2Uqh8CWPDxIp",
        "outputId": "a91f4081-17b8-4016-b6c4-0f4a8c5ed413"
      },
      "outputs": [
        {
          "output_type": "stream",
          "name": "stdout",
          "text": [
            "Epoch 1/500\n",
            "1/1 [==============================] - 2s 2s/step - loss: 13.0899 - mae: 13.0899\n",
            "Epoch 2/500\n",
            "1/1 [==============================] - 0s 9ms/step - loss: 11.2994 - mae: 11.2994\n",
            "Epoch 3/500\n",
            "1/1 [==============================] - 0s 10ms/step - loss: 9.3936 - mae: 9.3936\n",
            "Epoch 4/500\n",
            "1/1 [==============================] - 0s 13ms/step - loss: 7.0258 - mae: 7.0258\n",
            "Epoch 5/500\n",
            "1/1 [==============================] - 0s 9ms/step - loss: 4.0419 - mae: 4.0419\n",
            "Epoch 6/500\n",
            "1/1 [==============================] - 0s 9ms/step - loss: 5.5406 - mae: 5.5406\n",
            "Epoch 7/500\n",
            "1/1 [==============================] - 0s 10ms/step - loss: 6.4213 - mae: 6.4213\n",
            "Epoch 8/500\n",
            "1/1 [==============================] - 0s 18ms/step - loss: 5.7476 - mae: 5.7476\n",
            "Epoch 9/500\n",
            "1/1 [==============================] - 0s 10ms/step - loss: 4.6798 - mae: 4.6798\n",
            "Epoch 10/500\n",
            "1/1 [==============================] - 0s 12ms/step - loss: 3.7569 - mae: 3.7569\n",
            "Epoch 11/500\n",
            "1/1 [==============================] - 0s 11ms/step - loss: 3.9246 - mae: 3.9246\n",
            "Epoch 12/500\n",
            "1/1 [==============================] - 0s 12ms/step - loss: 4.4105 - mae: 4.4105\n",
            "Epoch 13/500\n",
            "1/1 [==============================] - 0s 13ms/step - loss: 4.1919 - mae: 4.1919\n",
            "Epoch 14/500\n",
            "1/1 [==============================] - 0s 10ms/step - loss: 3.5373 - mae: 3.5373\n",
            "Epoch 15/500\n",
            "1/1 [==============================] - 0s 11ms/step - loss: 3.3269 - mae: 3.3269\n",
            "Epoch 16/500\n",
            "1/1 [==============================] - 0s 11ms/step - loss: 3.4251 - mae: 3.4251\n",
            "Epoch 17/500\n",
            "1/1 [==============================] - 0s 10ms/step - loss: 3.5981 - mae: 3.5981\n",
            "Epoch 18/500\n",
            "1/1 [==============================] - 0s 10ms/step - loss: 3.4767 - mae: 3.4767\n",
            "Epoch 19/500\n",
            "1/1 [==============================] - 0s 18ms/step - loss: 3.1882 - mae: 3.1882\n",
            "Epoch 20/500\n",
            "1/1 [==============================] - 0s 10ms/step - loss: 2.9772 - mae: 2.9772\n",
            "Epoch 21/500\n",
            "1/1 [==============================] - 0s 10ms/step - loss: 2.9092 - mae: 2.9092\n",
            "Epoch 22/500\n",
            "1/1 [==============================] - 0s 11ms/step - loss: 2.8907 - mae: 2.8907\n",
            "Epoch 23/500\n",
            "1/1 [==============================] - 0s 14ms/step - loss: 2.7491 - mae: 2.7491\n",
            "Epoch 24/500\n",
            "1/1 [==============================] - 0s 10ms/step - loss: 2.4732 - mae: 2.4732\n",
            "Epoch 25/500\n",
            "1/1 [==============================] - 0s 11ms/step - loss: 2.2400 - mae: 2.2400\n",
            "Epoch 26/500\n",
            "1/1 [==============================] - 0s 9ms/step - loss: 2.0531 - mae: 2.0531\n",
            "Epoch 27/500\n",
            "1/1 [==============================] - 0s 10ms/step - loss: 2.1150 - mae: 2.1150\n",
            "Epoch 28/500\n",
            "1/1 [==============================] - 0s 14ms/step - loss: 1.5610 - mae: 1.5610\n",
            "Epoch 29/500\n",
            "1/1 [==============================] - 0s 10ms/step - loss: 1.0854 - mae: 1.0854\n",
            "Epoch 30/500\n",
            "1/1 [==============================] - 0s 11ms/step - loss: 1.1489 - mae: 1.1489\n",
            "Epoch 31/500\n",
            "1/1 [==============================] - 0s 12ms/step - loss: 1.0215 - mae: 1.0215\n",
            "Epoch 32/500\n",
            "1/1 [==============================] - 0s 10ms/step - loss: 1.0356 - mae: 1.0356\n",
            "Epoch 33/500\n",
            "1/1 [==============================] - 0s 9ms/step - loss: 0.8694 - mae: 0.8694\n",
            "Epoch 34/500\n",
            "1/1 [==============================] - 0s 16ms/step - loss: 1.0666 - mae: 1.0666\n",
            "Epoch 35/500\n",
            "1/1 [==============================] - 0s 12ms/step - loss: 0.6187 - mae: 0.6187\n",
            "Epoch 36/500\n",
            "1/1 [==============================] - 0s 11ms/step - loss: 1.2485 - mae: 1.2485\n",
            "Epoch 37/500\n",
            "1/1 [==============================] - 0s 10ms/step - loss: 0.4598 - mae: 0.4598\n",
            "Epoch 38/500\n",
            "1/1 [==============================] - 0s 11ms/step - loss: 0.5351 - mae: 0.5351\n",
            "Epoch 39/500\n",
            "1/1 [==============================] - 0s 11ms/step - loss: 1.0469 - mae: 1.0469\n",
            "Epoch 40/500\n",
            "1/1 [==============================] - 0s 19ms/step - loss: 0.8584 - mae: 0.8584\n",
            "Epoch 41/500\n",
            "1/1 [==============================] - 0s 10ms/step - loss: 0.6661 - mae: 0.6661\n",
            "Epoch 42/500\n",
            "1/1 [==============================] - 0s 11ms/step - loss: 0.5111 - mae: 0.5111\n",
            "Epoch 43/500\n",
            "1/1 [==============================] - 0s 11ms/step - loss: 0.8204 - mae: 0.8204\n",
            "Epoch 44/500\n",
            "1/1 [==============================] - 0s 11ms/step - loss: 0.8348 - mae: 0.8348\n",
            "Epoch 45/500\n",
            "1/1 [==============================] - 0s 17ms/step - loss: 0.2809 - mae: 0.2809\n",
            "Epoch 46/500\n",
            "1/1 [==============================] - 0s 12ms/step - loss: 0.6069 - mae: 0.6069\n",
            "Epoch 47/500\n",
            "1/1 [==============================] - 0s 17ms/step - loss: 0.1670 - mae: 0.1670\n",
            "Epoch 48/500\n",
            "1/1 [==============================] - 0s 10ms/step - loss: 0.3103 - mae: 0.3103\n",
            "Epoch 49/500\n",
            "1/1 [==============================] - 0s 9ms/step - loss: 0.4789 - mae: 0.4789\n",
            "Epoch 50/500\n",
            "1/1 [==============================] - 0s 20ms/step - loss: 0.2082 - mae: 0.2082\n",
            "Epoch 51/500\n",
            "1/1 [==============================] - 0s 17ms/step - loss: 0.7649 - mae: 0.7649\n",
            "Epoch 52/500\n",
            "1/1 [==============================] - 0s 12ms/step - loss: 0.7527 - mae: 0.7527\n",
            "Epoch 53/500\n",
            "1/1 [==============================] - 0s 10ms/step - loss: 0.2721 - mae: 0.2721\n",
            "Epoch 54/500\n",
            "1/1 [==============================] - 0s 10ms/step - loss: 0.1208 - mae: 0.1208\n",
            "Epoch 55/500\n",
            "1/1 [==============================] - 0s 10ms/step - loss: 0.5382 - mae: 0.5382\n",
            "Epoch 56/500\n",
            "1/1 [==============================] - 0s 11ms/step - loss: 0.1385 - mae: 0.1385\n",
            "Epoch 57/500\n",
            "1/1 [==============================] - 0s 10ms/step - loss: 1.0490 - mae: 1.0490\n",
            "Epoch 58/500\n",
            "1/1 [==============================] - 0s 11ms/step - loss: 1.2945 - mae: 1.2945\n",
            "Epoch 59/500\n",
            "1/1 [==============================] - 0s 10ms/step - loss: 0.8833 - mae: 0.8833\n",
            "Epoch 60/500\n",
            "1/1 [==============================] - 0s 11ms/step - loss: 0.4966 - mae: 0.4966\n",
            "Epoch 61/500\n",
            "1/1 [==============================] - 0s 10ms/step - loss: 0.6144 - mae: 0.6144\n",
            "Epoch 62/500\n",
            "1/1 [==============================] - 0s 16ms/step - loss: 0.2791 - mae: 0.2791\n",
            "Epoch 63/500\n",
            "1/1 [==============================] - 0s 10ms/step - loss: 1.0901 - mae: 1.0901\n",
            "Epoch 64/500\n",
            "1/1 [==============================] - 0s 10ms/step - loss: 1.0869 - mae: 1.0869\n",
            "Epoch 65/500\n",
            "1/1 [==============================] - 0s 10ms/step - loss: 0.3023 - mae: 0.3023\n",
            "Epoch 66/500\n",
            "1/1 [==============================] - 0s 10ms/step - loss: 1.2853 - mae: 1.2853\n",
            "Epoch 67/500\n",
            "1/1 [==============================] - 0s 10ms/step - loss: 1.8122 - mae: 1.8122\n",
            "Epoch 68/500\n",
            "1/1 [==============================] - 0s 12ms/step - loss: 1.3257 - mae: 1.3257\n",
            "Epoch 69/500\n",
            "1/1 [==============================] - 0s 18ms/step - loss: 0.0898 - mae: 0.0898\n",
            "Epoch 70/500\n",
            "1/1 [==============================] - 0s 9ms/step - loss: 1.6203 - mae: 1.6203\n",
            "Epoch 71/500\n",
            "1/1 [==============================] - 0s 10ms/step - loss: 2.3521 - mae: 2.3521\n",
            "Epoch 72/500\n",
            "1/1 [==============================] - 0s 10ms/step - loss: 2.4597 - mae: 2.4597\n",
            "Epoch 73/500\n",
            "1/1 [==============================] - 0s 11ms/step - loss: 2.1334 - mae: 2.1334\n",
            "Epoch 74/500\n",
            "1/1 [==============================] - 0s 10ms/step - loss: 1.3219 - mae: 1.3219\n",
            "Epoch 75/500\n",
            "1/1 [==============================] - 0s 11ms/step - loss: 0.3691 - mae: 0.3691\n",
            "Epoch 76/500\n",
            "1/1 [==============================] - 0s 11ms/step - loss: 0.8918 - mae: 0.8918\n",
            "Epoch 77/500\n",
            "1/1 [==============================] - 0s 10ms/step - loss: 0.7355 - mae: 0.7355\n",
            "Epoch 78/500\n",
            "1/1 [==============================] - 0s 10ms/step - loss: 0.2958 - mae: 0.2958\n",
            "Epoch 79/500\n",
            "1/1 [==============================] - 0s 10ms/step - loss: 0.3642 - mae: 0.3642\n",
            "Epoch 80/500\n",
            "1/1 [==============================] - 0s 9ms/step - loss: 0.5382 - mae: 0.5382\n",
            "Epoch 81/500\n",
            "1/1 [==============================] - 0s 10ms/step - loss: 0.3707 - mae: 0.3707\n",
            "Epoch 82/500\n",
            "1/1 [==============================] - 0s 11ms/step - loss: 0.3917 - mae: 0.3917\n",
            "Epoch 83/500\n",
            "1/1 [==============================] - 0s 12ms/step - loss: 0.4844 - mae: 0.4844\n",
            "Epoch 84/500\n",
            "1/1 [==============================] - 0s 13ms/step - loss: 0.2290 - mae: 0.2290\n",
            "Epoch 85/500\n",
            "1/1 [==============================] - 0s 13ms/step - loss: 0.1253 - mae: 0.1253\n",
            "Epoch 86/500\n",
            "1/1 [==============================] - 0s 10ms/step - loss: 0.1100 - mae: 0.1100\n",
            "Epoch 87/500\n",
            "1/1 [==============================] - 0s 10ms/step - loss: 0.1593 - mae: 0.1593\n",
            "Epoch 88/500\n",
            "1/1 [==============================] - 0s 9ms/step - loss: 0.2749 - mae: 0.2749\n",
            "Epoch 89/500\n",
            "1/1 [==============================] - 0s 9ms/step - loss: 0.2219 - mae: 0.2219\n",
            "Epoch 90/500\n",
            "1/1 [==============================] - 0s 8ms/step - loss: 0.1756 - mae: 0.1756\n",
            "Epoch 91/500\n",
            "1/1 [==============================] - 0s 13ms/step - loss: 0.2745 - mae: 0.2745\n",
            "Epoch 92/500\n",
            "1/1 [==============================] - 0s 12ms/step - loss: 0.3235 - mae: 0.3235\n",
            "Epoch 93/500\n",
            "1/1 [==============================] - 0s 11ms/step - loss: 0.1964 - mae: 0.1964\n",
            "Epoch 94/500\n",
            "1/1 [==============================] - 0s 11ms/step - loss: 0.5781 - mae: 0.5781\n",
            "Epoch 95/500\n",
            "1/1 [==============================] - 0s 13ms/step - loss: 0.5682 - mae: 0.5682\n",
            "Epoch 96/500\n",
            "1/1 [==============================] - 0s 13ms/step - loss: 0.1502 - mae: 0.1502\n",
            "Epoch 97/500\n",
            "1/1 [==============================] - 0s 12ms/step - loss: 0.0542 - mae: 0.0542\n",
            "Epoch 98/500\n",
            "1/1 [==============================] - 0s 10ms/step - loss: 0.7027 - mae: 0.7027\n",
            "Epoch 99/500\n",
            "1/1 [==============================] - 0s 9ms/step - loss: 0.6761 - mae: 0.6761\n",
            "Epoch 100/500\n",
            "1/1 [==============================] - 0s 11ms/step - loss: 0.1383 - mae: 0.1383\n",
            "Epoch 101/500\n",
            "1/1 [==============================] - 0s 10ms/step - loss: 0.1386 - mae: 0.1386\n",
            "Epoch 102/500\n",
            "1/1 [==============================] - 0s 11ms/step - loss: 0.4735 - mae: 0.4735\n",
            "Epoch 103/500\n",
            "1/1 [==============================] - 0s 12ms/step - loss: 0.4661 - mae: 0.4661\n",
            "Epoch 104/500\n",
            "1/1 [==============================] - 0s 11ms/step - loss: 0.1632 - mae: 0.1632\n",
            "Epoch 105/500\n",
            "1/1 [==============================] - 0s 13ms/step - loss: 0.0466 - mae: 0.0466\n",
            "Epoch 106/500\n",
            "1/1 [==============================] - 0s 12ms/step - loss: 0.3327 - mae: 0.3327\n",
            "Epoch 107/500\n",
            "1/1 [==============================] - 0s 11ms/step - loss: 0.0877 - mae: 0.0877\n",
            "Epoch 108/500\n",
            "1/1 [==============================] - 0s 9ms/step - loss: 0.1049 - mae: 0.1049\n",
            "Epoch 109/500\n",
            "1/1 [==============================] - 0s 15ms/step - loss: 0.4627 - mae: 0.4627\n",
            "Epoch 110/500\n",
            "1/1 [==============================] - 0s 10ms/step - loss: 0.3314 - mae: 0.3314\n",
            "Epoch 111/500\n",
            "1/1 [==============================] - 0s 11ms/step - loss: 0.4332 - mae: 0.4332\n",
            "Epoch 112/500\n",
            "1/1 [==============================] - 0s 10ms/step - loss: 0.4421 - mae: 0.4421\n",
            "Epoch 113/500\n",
            "1/1 [==============================] - 0s 10ms/step - loss: 0.1417 - mae: 0.1417\n",
            "Epoch 114/500\n",
            "1/1 [==============================] - 0s 12ms/step - loss: 0.0939 - mae: 0.0939\n",
            "Epoch 115/500\n",
            "1/1 [==============================] - 0s 11ms/step - loss: 0.1826 - mae: 0.1826\n",
            "Epoch 116/500\n",
            "1/1 [==============================] - 0s 11ms/step - loss: 0.3966 - mae: 0.3966\n",
            "Epoch 117/500\n",
            "1/1 [==============================] - 0s 11ms/step - loss: 0.2752 - mae: 0.2752\n",
            "Epoch 118/500\n",
            "1/1 [==============================] - 0s 10ms/step - loss: 0.4083 - mae: 0.4083\n",
            "Epoch 119/500\n",
            "1/1 [==============================] - 0s 10ms/step - loss: 0.4953 - mae: 0.4953\n",
            "Epoch 120/500\n",
            "1/1 [==============================] - 0s 11ms/step - loss: 0.0211 - mae: 0.0211\n",
            "Epoch 121/500\n",
            "1/1 [==============================] - 0s 10ms/step - loss: 0.4515 - mae: 0.4515\n",
            "Epoch 122/500\n",
            "1/1 [==============================] - 0s 10ms/step - loss: 0.3634 - mae: 0.3634\n",
            "Epoch 123/500\n",
            "1/1 [==============================] - 0s 12ms/step - loss: 0.3413 - mae: 0.3413\n",
            "Epoch 124/500\n",
            "1/1 [==============================] - 0s 10ms/step - loss: 0.2425 - mae: 0.2425\n",
            "Epoch 125/500\n",
            "1/1 [==============================] - 0s 9ms/step - loss: 0.4528 - mae: 0.4528\n",
            "Epoch 126/500\n",
            "1/1 [==============================] - 0s 10ms/step - loss: 0.4927 - mae: 0.4927\n",
            "Epoch 127/500\n",
            "1/1 [==============================] - 0s 9ms/step - loss: 0.2272 - mae: 0.2272\n",
            "Epoch 128/500\n",
            "1/1 [==============================] - 0s 15ms/step - loss: 0.1895 - mae: 0.1895\n",
            "Epoch 129/500\n",
            "1/1 [==============================] - 0s 12ms/step - loss: 0.3856 - mae: 0.3856\n",
            "Epoch 130/500\n",
            "1/1 [==============================] - 0s 11ms/step - loss: 0.3909 - mae: 0.3909\n",
            "Epoch 131/500\n",
            "1/1 [==============================] - 0s 12ms/step - loss: 0.3281 - mae: 0.3281\n",
            "Epoch 132/500\n",
            "1/1 [==============================] - 0s 10ms/step - loss: 0.2274 - mae: 0.2274\n",
            "Epoch 133/500\n",
            "1/1 [==============================] - 0s 8ms/step - loss: 0.5679 - mae: 0.5679\n",
            "Epoch 134/500\n",
            "1/1 [==============================] - 0s 9ms/step - loss: 0.6050 - mae: 0.6050\n",
            "Epoch 135/500\n",
            "1/1 [==============================] - 0s 9ms/step - loss: 0.1633 - mae: 0.1633\n",
            "Epoch 136/500\n",
            "1/1 [==============================] - 0s 11ms/step - loss: 0.8140 - mae: 0.8140\n",
            "Epoch 137/500\n",
            "1/1 [==============================] - 0s 11ms/step - loss: 1.1180 - mae: 1.1180\n",
            "Epoch 138/500\n",
            "1/1 [==============================] - 0s 9ms/step - loss: 0.8109 - mae: 0.8109\n",
            "Epoch 139/500\n",
            "1/1 [==============================] - 0s 9ms/step - loss: 0.0529 - mae: 0.0529\n",
            "Epoch 140/500\n",
            "1/1 [==============================] - 0s 9ms/step - loss: 0.7435 - mae: 0.7435\n",
            "Epoch 141/500\n",
            "1/1 [==============================] - 0s 10ms/step - loss: 0.8755 - mae: 0.8755\n",
            "Epoch 142/500\n",
            "1/1 [==============================] - 0s 11ms/step - loss: 0.5552 - mae: 0.5552\n",
            "Epoch 143/500\n",
            "1/1 [==============================] - 0s 16ms/step - loss: 0.2816 - mae: 0.2816\n",
            "Epoch 144/500\n",
            "1/1 [==============================] - 0s 10ms/step - loss: 0.4285 - mae: 0.4285\n",
            "Epoch 145/500\n",
            "1/1 [==============================] - 0s 12ms/step - loss: 0.1023 - mae: 0.1023\n",
            "Epoch 146/500\n",
            "1/1 [==============================] - 0s 14ms/step - loss: 0.1311 - mae: 0.1311\n",
            "Epoch 147/500\n",
            "1/1 [==============================] - 0s 11ms/step - loss: 0.3861 - mae: 0.3861\n",
            "Epoch 148/500\n",
            "1/1 [==============================] - 0s 12ms/step - loss: 0.2055 - mae: 0.2055\n",
            "Epoch 149/500\n",
            "1/1 [==============================] - 0s 15ms/step - loss: 0.5073 - mae: 0.5073\n",
            "Epoch 150/500\n",
            "1/1 [==============================] - 0s 11ms/step - loss: 0.5560 - mae: 0.5560\n",
            "Epoch 151/500\n",
            "1/1 [==============================] - 0s 16ms/step - loss: 0.0478 - mae: 0.0478\n",
            "Epoch 152/500\n",
            "1/1 [==============================] - 0s 10ms/step - loss: 0.2674 - mae: 0.2674\n",
            "Epoch 153/500\n",
            "1/1 [==============================] - 0s 10ms/step - loss: 0.0517 - mae: 0.0517\n",
            "Epoch 154/500\n",
            "1/1 [==============================] - 0s 10ms/step - loss: 0.0481 - mae: 0.0481\n",
            "Epoch 155/500\n",
            "1/1 [==============================] - 0s 11ms/step - loss: 0.4192 - mae: 0.4192\n",
            "Epoch 156/500\n",
            "1/1 [==============================] - 0s 11ms/step - loss: 0.3073 - mae: 0.3073\n",
            "Epoch 157/500\n",
            "1/1 [==============================] - 0s 10ms/step - loss: 0.3316 - mae: 0.3316\n",
            "Epoch 158/500\n",
            "1/1 [==============================] - 0s 10ms/step - loss: 0.3378 - mae: 0.3378\n",
            "Epoch 159/500\n",
            "1/1 [==============================] - 0s 10ms/step - loss: 0.2605 - mae: 0.2605\n",
            "Epoch 160/500\n",
            "1/1 [==============================] - 0s 12ms/step - loss: 0.2656 - mae: 0.2656\n",
            "Epoch 161/500\n",
            "1/1 [==============================] - 0s 10ms/step - loss: 0.2047 - mae: 0.2047\n",
            "Epoch 162/500\n",
            "1/1 [==============================] - 0s 9ms/step - loss: 0.0892 - mae: 0.0892\n",
            "Epoch 163/500\n",
            "1/1 [==============================] - 0s 9ms/step - loss: 0.0869 - mae: 0.0869\n",
            "Epoch 164/500\n",
            "1/1 [==============================] - 0s 10ms/step - loss: 0.3850 - mae: 0.3850\n",
            "Epoch 165/500\n",
            "1/1 [==============================] - 0s 11ms/step - loss: 0.2752 - mae: 0.2752\n",
            "Epoch 166/500\n",
            "1/1 [==============================] - 0s 10ms/step - loss: 0.3552 - mae: 0.3552\n",
            "Epoch 167/500\n",
            "1/1 [==============================] - 0s 11ms/step - loss: 0.3185 - mae: 0.3185\n",
            "Epoch 168/500\n",
            "1/1 [==============================] - 0s 11ms/step - loss: 0.2390 - mae: 0.2390\n",
            "Epoch 169/500\n",
            "1/1 [==============================] - 0s 9ms/step - loss: 0.1897 - mae: 0.1897\n",
            "Epoch 170/500\n",
            "1/1 [==============================] - 0s 11ms/step - loss: 0.4342 - mae: 0.4342\n",
            "Epoch 171/500\n",
            "1/1 [==============================] - 0s 10ms/step - loss: 0.4654 - mae: 0.4654\n",
            "Epoch 172/500\n",
            "1/1 [==============================] - 0s 11ms/step - loss: 0.0769 - mae: 0.0769\n",
            "Epoch 173/500\n",
            "1/1 [==============================] - 0s 10ms/step - loss: 0.0675 - mae: 0.0675\n",
            "Epoch 174/500\n",
            "1/1 [==============================] - 0s 10ms/step - loss: 0.0608 - mae: 0.0608\n",
            "Epoch 175/500\n",
            "1/1 [==============================] - 0s 11ms/step - loss: 0.0844 - mae: 0.0844\n",
            "Epoch 176/500\n",
            "1/1 [==============================] - 0s 9ms/step - loss: 0.4041 - mae: 0.4041\n",
            "Epoch 177/500\n",
            "1/1 [==============================] - 0s 10ms/step - loss: 0.2826 - mae: 0.2826\n",
            "Epoch 178/500\n",
            "1/1 [==============================] - 0s 11ms/step - loss: 0.4037 - mae: 0.4037\n",
            "Epoch 179/500\n",
            "1/1 [==============================] - 0s 9ms/step - loss: 0.4372 - mae: 0.4372\n",
            "Epoch 180/500\n",
            "1/1 [==============================] - 0s 11ms/step - loss: 0.0493 - mae: 0.0493\n",
            "Epoch 181/500\n",
            "1/1 [==============================] - 0s 12ms/step - loss: 0.2597 - mae: 0.2597\n",
            "Epoch 182/500\n",
            "1/1 [==============================] - 0s 11ms/step - loss: 0.1347 - mae: 0.1347\n",
            "Epoch 183/500\n",
            "1/1 [==============================] - 0s 11ms/step - loss: 0.0886 - mae: 0.0886\n",
            "Epoch 184/500\n",
            "1/1 [==============================] - 0s 10ms/step - loss: 0.2532 - mae: 0.2532\n",
            "Epoch 185/500\n",
            "1/1 [==============================] - 0s 32ms/step - loss: 0.0729 - mae: 0.0729\n",
            "Epoch 186/500\n",
            "1/1 [==============================] - 0s 19ms/step - loss: 0.4007 - mae: 0.4007\n",
            "Epoch 187/500\n",
            "1/1 [==============================] - 0s 21ms/step - loss: 0.2491 - mae: 0.2491\n",
            "Epoch 188/500\n",
            "1/1 [==============================] - 0s 20ms/step - loss: 0.4059 - mae: 0.4059\n",
            "Epoch 189/500\n",
            "1/1 [==============================] - 0s 19ms/step - loss: 0.4918 - mae: 0.4918\n",
            "Epoch 190/500\n",
            "1/1 [==============================] - 0s 13ms/step - loss: 0.0835 - mae: 0.0835\n",
            "Epoch 191/500\n",
            "1/1 [==============================] - 0s 12ms/step - loss: 0.7986 - mae: 0.7986\n",
            "Epoch 192/500\n",
            "1/1 [==============================] - 0s 13ms/step - loss: 1.0460 - mae: 1.0460\n",
            "Epoch 193/500\n",
            "1/1 [==============================] - 0s 12ms/step - loss: 0.7106 - mae: 0.7106\n",
            "Epoch 194/500\n",
            "1/1 [==============================] - 0s 12ms/step - loss: 0.1546 - mae: 0.1546\n",
            "Epoch 195/500\n",
            "1/1 [==============================] - 0s 17ms/step - loss: 0.3370 - mae: 0.3370\n",
            "Epoch 196/500\n",
            "1/1 [==============================] - 0s 16ms/step - loss: 0.0859 - mae: 0.0859\n",
            "Epoch 197/500\n",
            "1/1 [==============================] - 0s 10ms/step - loss: 0.2981 - mae: 0.2981\n",
            "Epoch 198/500\n",
            "1/1 [==============================] - 0s 9ms/step - loss: 0.1415 - mae: 0.1415\n",
            "Epoch 199/500\n",
            "1/1 [==============================] - 0s 9ms/step - loss: 0.1800 - mae: 0.1800\n",
            "Epoch 200/500\n",
            "1/1 [==============================] - 0s 12ms/step - loss: 0.1574 - mae: 0.1574\n",
            "Epoch 201/500\n",
            "1/1 [==============================] - 0s 13ms/step - loss: 0.1265 - mae: 0.1265\n",
            "Epoch 202/500\n",
            "1/1 [==============================] - 0s 12ms/step - loss: 0.1192 - mae: 0.1192\n",
            "Epoch 203/500\n",
            "1/1 [==============================] - 0s 10ms/step - loss: 0.2273 - mae: 0.2273\n",
            "Epoch 204/500\n",
            "1/1 [==============================] - 0s 11ms/step - loss: 0.0738 - mae: 0.0738\n",
            "Epoch 205/500\n",
            "1/1 [==============================] - 0s 11ms/step - loss: 0.1257 - mae: 0.1257\n",
            "Epoch 206/500\n",
            "1/1 [==============================] - 0s 10ms/step - loss: 0.2845 - mae: 0.2845\n",
            "Epoch 207/500\n",
            "1/1 [==============================] - 0s 10ms/step - loss: 0.1403 - mae: 0.1403\n",
            "Epoch 208/500\n",
            "1/1 [==============================] - 0s 11ms/step - loss: 0.4667 - mae: 0.4667\n",
            "Epoch 209/500\n",
            "1/1 [==============================] - 0s 8ms/step - loss: 0.4679 - mae: 0.4679\n",
            "Epoch 210/500\n",
            "1/1 [==============================] - 0s 12ms/step - loss: 0.0679 - mae: 0.0679\n",
            "Epoch 211/500\n",
            "1/1 [==============================] - 0s 10ms/step - loss: 0.0626 - mae: 0.0626\n",
            "Epoch 212/500\n",
            "1/1 [==============================] - 0s 9ms/step - loss: 0.2562 - mae: 0.2562\n",
            "Epoch 213/500\n",
            "1/1 [==============================] - 0s 9ms/step - loss: 0.0973 - mae: 0.0973\n",
            "Epoch 214/500\n",
            "1/1 [==============================] - 0s 9ms/step - loss: 0.5871 - mae: 0.5871\n",
            "Epoch 215/500\n",
            "1/1 [==============================] - 0s 11ms/step - loss: 0.5315 - mae: 0.5315\n",
            "Epoch 216/500\n",
            "1/1 [==============================] - 0s 10ms/step - loss: 0.0641 - mae: 0.0641\n",
            "Epoch 217/500\n",
            "1/1 [==============================] - 0s 10ms/step - loss: 0.0711 - mae: 0.0711\n",
            "Epoch 218/500\n",
            "1/1 [==============================] - 0s 8ms/step - loss: 0.4785 - mae: 0.4785\n",
            "Epoch 219/500\n",
            "1/1 [==============================] - 0s 11ms/step - loss: 0.4502 - mae: 0.4502\n",
            "Epoch 220/500\n",
            "1/1 [==============================] - 0s 8ms/step - loss: 0.1057 - mae: 0.1057\n",
            "Epoch 221/500\n",
            "1/1 [==============================] - 0s 8ms/step - loss: 0.1165 - mae: 0.1165\n",
            "Epoch 222/500\n",
            "1/1 [==============================] - 0s 10ms/step - loss: 0.3424 - mae: 0.3424\n",
            "Epoch 223/500\n",
            "1/1 [==============================] - 0s 8ms/step - loss: 0.2777 - mae: 0.2777\n",
            "Epoch 224/500\n",
            "1/1 [==============================] - 0s 10ms/step - loss: 0.3209 - mae: 0.3209\n",
            "Epoch 225/500\n",
            "1/1 [==============================] - 0s 10ms/step - loss: 0.2873 - mae: 0.2873\n",
            "Epoch 226/500\n",
            "1/1 [==============================] - 0s 9ms/step - loss: 0.2574 - mae: 0.2574\n",
            "Epoch 227/500\n",
            "1/1 [==============================] - 0s 9ms/step - loss: 0.2724 - mae: 0.2724\n",
            "Epoch 228/500\n",
            "1/1 [==============================] - 0s 12ms/step - loss: 0.3001 - mae: 0.3001\n",
            "Epoch 229/500\n",
            "1/1 [==============================] - 0s 10ms/step - loss: 0.3100 - mae: 0.3100\n",
            "Epoch 230/500\n",
            "1/1 [==============================] - 0s 9ms/step - loss: 0.1957 - mae: 0.1957\n",
            "Epoch 231/500\n",
            "1/1 [==============================] - 0s 10ms/step - loss: 0.0722 - mae: 0.0722\n",
            "Epoch 232/500\n",
            "1/1 [==============================] - 0s 8ms/step - loss: 0.4175 - mae: 0.4175\n",
            "Epoch 233/500\n",
            "1/1 [==============================] - 0s 10ms/step - loss: 0.3616 - mae: 0.3616\n",
            "Epoch 234/500\n",
            "1/1 [==============================] - 0s 10ms/step - loss: 0.1926 - mae: 0.1926\n",
            "Epoch 235/500\n",
            "1/1 [==============================] - 0s 9ms/step - loss: 0.2287 - mae: 0.2287\n",
            "Epoch 236/500\n",
            "1/1 [==============================] - 0s 10ms/step - loss: 0.2953 - mae: 0.2953\n",
            "Epoch 237/500\n",
            "1/1 [==============================] - 0s 8ms/step - loss: 0.3006 - mae: 0.3006\n",
            "Epoch 238/500\n",
            "1/1 [==============================] - 0s 11ms/step - loss: 0.1174 - mae: 0.1174\n",
            "Epoch 239/500\n",
            "1/1 [==============================] - 0s 9ms/step - loss: 0.0404 - mae: 0.0404\n",
            "Epoch 240/500\n",
            "1/1 [==============================] - 0s 9ms/step - loss: 0.3268 - mae: 0.3268\n",
            "Epoch 241/500\n",
            "1/1 [==============================] - 0s 9ms/step - loss: 0.1420 - mae: 0.1420\n",
            "Epoch 242/500\n",
            "1/1 [==============================] - 0s 9ms/step - loss: 0.5529 - mae: 0.5529\n",
            "Epoch 243/500\n",
            "1/1 [==============================] - 0s 9ms/step - loss: 0.6341 - mae: 0.6341\n",
            "Epoch 244/500\n",
            "1/1 [==============================] - 0s 9ms/step - loss: 0.1728 - mae: 0.1728\n",
            "Epoch 245/500\n",
            "1/1 [==============================] - 0s 9ms/step - loss: 0.6984 - mae: 0.6984\n",
            "Epoch 246/500\n",
            "1/1 [==============================] - 0s 12ms/step - loss: 0.9980 - mae: 0.9980\n",
            "Epoch 247/500\n",
            "1/1 [==============================] - 0s 12ms/step - loss: 0.8262 - mae: 0.8262\n",
            "Epoch 248/500\n",
            "1/1 [==============================] - 0s 11ms/step - loss: 0.2332 - mae: 0.2332\n",
            "Epoch 249/500\n",
            "1/1 [==============================] - 0s 8ms/step - loss: 0.8226 - mae: 0.8226\n",
            "Epoch 250/500\n",
            "1/1 [==============================] - 0s 8ms/step - loss: 1.2283 - mae: 1.2283\n",
            "Epoch 251/500\n",
            "1/1 [==============================] - 0s 13ms/step - loss: 1.0340 - mae: 1.0340\n",
            "Epoch 252/500\n",
            "1/1 [==============================] - 0s 9ms/step - loss: 0.3691 - mae: 0.3691\n",
            "Epoch 253/500\n",
            "1/1 [==============================] - 0s 9ms/step - loss: 0.7356 - mae: 0.7356\n",
            "Epoch 254/500\n",
            "1/1 [==============================] - 0s 10ms/step - loss: 1.1875 - mae: 1.1875\n",
            "Epoch 255/500\n",
            "1/1 [==============================] - 0s 11ms/step - loss: 1.1618 - mae: 1.1618\n",
            "Epoch 256/500\n",
            "1/1 [==============================] - 0s 10ms/step - loss: 0.7064 - mae: 0.7064\n",
            "Epoch 257/500\n",
            "1/1 [==============================] - 0s 10ms/step - loss: 0.1888 - mae: 0.1888\n",
            "Epoch 258/500\n",
            "1/1 [==============================] - 0s 9ms/step - loss: 0.5123 - mae: 0.5123\n",
            "Epoch 259/500\n",
            "1/1 [==============================] - 0s 10ms/step - loss: 0.2828 - mae: 0.2828\n",
            "Epoch 260/500\n",
            "1/1 [==============================] - 0s 9ms/step - loss: 0.4891 - mae: 0.4891\n",
            "Epoch 261/500\n",
            "1/1 [==============================] - 0s 9ms/step - loss: 0.6344 - mae: 0.6344\n",
            "Epoch 262/500\n",
            "1/1 [==============================] - 0s 10ms/step - loss: 0.3677 - mae: 0.3677\n",
            "Epoch 263/500\n",
            "1/1 [==============================] - 0s 9ms/step - loss: 0.3382 - mae: 0.3382\n",
            "Epoch 264/500\n",
            "1/1 [==============================] - 0s 9ms/step - loss: 0.5233 - mae: 0.5233\n",
            "Epoch 265/500\n",
            "1/1 [==============================] - 0s 9ms/step - loss: 0.2254 - mae: 0.2254\n",
            "Epoch 266/500\n",
            "1/1 [==============================] - 0s 9ms/step - loss: 0.5166 - mae: 0.5166\n",
            "Epoch 267/500\n",
            "1/1 [==============================] - 0s 8ms/step - loss: 0.6883 - mae: 0.6883\n",
            "Epoch 268/500\n",
            "1/1 [==============================] - 0s 9ms/step - loss: 0.4443 - mae: 0.4443\n",
            "Epoch 269/500\n",
            "1/1 [==============================] - 0s 9ms/step - loss: 0.2491 - mae: 0.2491\n",
            "Epoch 270/500\n",
            "1/1 [==============================] - 0s 9ms/step - loss: 0.3608 - mae: 0.3608\n",
            "Epoch 271/500\n",
            "1/1 [==============================] - 0s 9ms/step - loss: 0.0414 - mae: 0.0414\n",
            "Epoch 272/500\n",
            "1/1 [==============================] - 0s 9ms/step - loss: 0.0501 - mae: 0.0501\n",
            "Epoch 273/500\n",
            "1/1 [==============================] - 0s 9ms/step - loss: 0.4281 - mae: 0.4281\n",
            "Epoch 274/500\n",
            "1/1 [==============================] - 0s 9ms/step - loss: 0.3949 - mae: 0.3949\n",
            "Epoch 275/500\n",
            "1/1 [==============================] - 0s 10ms/step - loss: 0.1136 - mae: 0.1136\n",
            "Epoch 276/500\n",
            "1/1 [==============================] - 0s 8ms/step - loss: 0.1044 - mae: 0.1044\n",
            "Epoch 277/500\n",
            "1/1 [==============================] - 0s 11ms/step - loss: 0.3780 - mae: 0.3780\n",
            "Epoch 278/500\n",
            "1/1 [==============================] - 0s 9ms/step - loss: 0.3149 - mae: 0.3149\n",
            "Epoch 279/500\n",
            "1/1 [==============================] - 0s 8ms/step - loss: 0.2224 - mae: 0.2224\n",
            "Epoch 280/500\n",
            "1/1 [==============================] - 0s 9ms/step - loss: 0.2392 - mae: 0.2392\n",
            "Epoch 281/500\n",
            "1/1 [==============================] - 0s 8ms/step - loss: 0.2239 - mae: 0.2239\n",
            "Epoch 282/500\n",
            "1/1 [==============================] - 0s 10ms/step - loss: 0.2000 - mae: 0.2000\n",
            "Epoch 283/500\n",
            "1/1 [==============================] - 0s 10ms/step - loss: 0.2505 - mae: 0.2505\n",
            "Epoch 284/500\n",
            "1/1 [==============================] - 0s 10ms/step - loss: 0.2008 - mae: 0.2008\n",
            "Epoch 285/500\n",
            "1/1 [==============================] - 0s 9ms/step - loss: 0.3036 - mae: 0.3036\n",
            "Epoch 286/500\n",
            "1/1 [==============================] - 0s 9ms/step - loss: 0.2611 - mae: 0.2611\n",
            "Epoch 287/500\n",
            "1/1 [==============================] - 0s 9ms/step - loss: 0.2515 - mae: 0.2515\n",
            "Epoch 288/500\n",
            "1/1 [==============================] - 0s 9ms/step - loss: 0.2518 - mae: 0.2518\n",
            "Epoch 289/500\n",
            "1/1 [==============================] - 0s 9ms/step - loss: 0.2211 - mae: 0.2211\n",
            "Epoch 290/500\n",
            "1/1 [==============================] - 0s 11ms/step - loss: 0.1698 - mae: 0.1698\n",
            "Epoch 291/500\n",
            "1/1 [==============================] - 0s 8ms/step - loss: 0.3249 - mae: 0.3249\n",
            "Epoch 292/500\n",
            "1/1 [==============================] - 0s 10ms/step - loss: 0.3292 - mae: 0.3292\n",
            "Epoch 293/500\n",
            "1/1 [==============================] - 0s 10ms/step - loss: 0.1370 - mae: 0.1370\n",
            "Epoch 294/500\n",
            "1/1 [==============================] - 0s 8ms/step - loss: 0.0784 - mae: 0.0784\n",
            "Epoch 295/500\n",
            "1/1 [==============================] - 0s 12ms/step - loss: 0.3484 - mae: 0.3484\n",
            "Epoch 296/500\n",
            "1/1 [==============================] - 0s 11ms/step - loss: 0.2624 - mae: 0.2624\n",
            "Epoch 297/500\n",
            "1/1 [==============================] - 0s 9ms/step - loss: 0.2719 - mae: 0.2719\n",
            "Epoch 298/500\n",
            "1/1 [==============================] - 0s 9ms/step - loss: 0.2618 - mae: 0.2618\n",
            "Epoch 299/500\n",
            "1/1 [==============================] - 0s 9ms/step - loss: 0.2180 - mae: 0.2180\n",
            "Epoch 300/500\n",
            "1/1 [==============================] - 0s 9ms/step - loss: 0.1928 - mae: 0.1928\n",
            "Epoch 301/500\n",
            "1/1 [==============================] - 0s 9ms/step - loss: 0.3614 - mae: 0.3614\n",
            "Epoch 302/500\n",
            "1/1 [==============================] - 0s 11ms/step - loss: 0.3452 - mae: 0.3452\n",
            "Epoch 303/500\n",
            "1/1 [==============================] - 0s 11ms/step - loss: 0.1374 - mae: 0.1374\n",
            "Epoch 304/500\n",
            "1/1 [==============================] - 0s 10ms/step - loss: 0.1463 - mae: 0.1463\n",
            "Epoch 305/500\n",
            "1/1 [==============================] - 0s 11ms/step - loss: 0.2748 - mae: 0.2748\n",
            "Epoch 306/500\n",
            "1/1 [==============================] - 0s 8ms/step - loss: 0.1384 - mae: 0.1384\n",
            "Epoch 307/500\n",
            "1/1 [==============================] - 0s 10ms/step - loss: 0.4393 - mae: 0.4393\n",
            "Epoch 308/500\n",
            "1/1 [==============================] - 0s 11ms/step - loss: 0.5155 - mae: 0.5155\n",
            "Epoch 309/500\n",
            "1/1 [==============================] - 0s 10ms/step - loss: 0.1615 - mae: 0.1615\n",
            "Epoch 310/500\n",
            "1/1 [==============================] - 0s 11ms/step - loss: 0.6370 - mae: 0.6370\n",
            "Epoch 311/500\n",
            "1/1 [==============================] - 0s 9ms/step - loss: 0.9024 - mae: 0.9024\n",
            "Epoch 312/500\n",
            "1/1 [==============================] - 0s 11ms/step - loss: 0.6414 - mae: 0.6414\n",
            "Epoch 313/500\n",
            "1/1 [==============================] - 0s 13ms/step - loss: 0.1223 - mae: 0.1223\n",
            "Epoch 314/500\n",
            "1/1 [==============================] - 0s 10ms/step - loss: 0.6799 - mae: 0.6799\n",
            "Epoch 315/500\n",
            "1/1 [==============================] - 0s 9ms/step - loss: 0.8005 - mae: 0.8005\n",
            "Epoch 316/500\n",
            "1/1 [==============================] - 0s 10ms/step - loss: 0.5040 - mae: 0.5040\n",
            "Epoch 317/500\n",
            "1/1 [==============================] - 0s 10ms/step - loss: 0.2142 - mae: 0.2142\n",
            "Epoch 318/500\n",
            "1/1 [==============================] - 0s 10ms/step - loss: 0.3945 - mae: 0.3945\n",
            "Epoch 319/500\n",
            "1/1 [==============================] - 0s 10ms/step - loss: 0.0834 - mae: 0.0834\n",
            "Epoch 320/500\n",
            "1/1 [==============================] - 0s 10ms/step - loss: 0.5140 - mae: 0.5140\n",
            "Epoch 321/500\n",
            "1/1 [==============================] - 0s 10ms/step - loss: 0.6352 - mae: 0.6352\n",
            "Epoch 322/500\n",
            "1/1 [==============================] - 0s 10ms/step - loss: 0.3286 - mae: 0.3286\n",
            "Epoch 323/500\n",
            "1/1 [==============================] - 0s 10ms/step - loss: 0.4350 - mae: 0.4350\n",
            "Epoch 324/500\n",
            "1/1 [==============================] - 0s 10ms/step - loss: 0.6386 - mae: 0.6386\n",
            "Epoch 325/500\n",
            "1/1 [==============================] - 0s 10ms/step - loss: 0.3573 - mae: 0.3573\n",
            "Epoch 326/500\n",
            "1/1 [==============================] - 0s 9ms/step - loss: 0.3492 - mae: 0.3492\n",
            "Epoch 327/500\n",
            "1/1 [==============================] - 0s 12ms/step - loss: 0.5203 - mae: 0.5203\n",
            "Epoch 328/500\n",
            "1/1 [==============================] - 0s 8ms/step - loss: 0.3005 - mae: 0.3005\n",
            "Epoch 329/500\n",
            "1/1 [==============================] - 0s 10ms/step - loss: 0.3403 - mae: 0.3403\n",
            "Epoch 330/500\n",
            "1/1 [==============================] - 0s 9ms/step - loss: 0.4129 - mae: 0.4129\n",
            "Epoch 331/500\n",
            "1/1 [==============================] - 0s 10ms/step - loss: 0.0533 - mae: 0.0533\n",
            "Epoch 332/500\n",
            "1/1 [==============================] - 0s 8ms/step - loss: 0.4151 - mae: 0.4151\n",
            "Epoch 333/500\n",
            "1/1 [==============================] - 0s 9ms/step - loss: 0.3525 - mae: 0.3525\n",
            "Epoch 334/500\n",
            "1/1 [==============================] - 0s 8ms/step - loss: 0.2222 - mae: 0.2222\n",
            "Epoch 335/500\n",
            "1/1 [==============================] - 0s 8ms/step - loss: 0.2635 - mae: 0.2635\n",
            "Epoch 336/500\n",
            "1/1 [==============================] - 0s 9ms/step - loss: 0.1566 - mae: 0.1566\n",
            "Epoch 337/500\n",
            "1/1 [==============================] - 0s 9ms/step - loss: 0.0487 - mae: 0.0487\n",
            "Epoch 338/500\n",
            "1/1 [==============================] - 0s 9ms/step - loss: 0.3737 - mae: 0.3737\n",
            "Epoch 339/500\n",
            "1/1 [==============================] - 0s 9ms/step - loss: 0.2664 - mae: 0.2664\n",
            "Epoch 340/500\n",
            "1/1 [==============================] - 0s 11ms/step - loss: 0.2964 - mae: 0.2964\n",
            "Epoch 341/500\n",
            "1/1 [==============================] - 0s 11ms/step - loss: 0.3281 - mae: 0.3281\n",
            "Epoch 342/500\n",
            "1/1 [==============================] - 0s 9ms/step - loss: 0.0941 - mae: 0.0941\n",
            "Epoch 343/500\n",
            "1/1 [==============================] - 0s 9ms/step - loss: 0.0570 - mae: 0.0570\n",
            "Epoch 344/500\n",
            "1/1 [==============================] - 0s 9ms/step - loss: 0.1774 - mae: 0.1774\n",
            "Epoch 345/500\n",
            "1/1 [==============================] - 0s 9ms/step - loss: 0.1371 - mae: 0.1371\n",
            "Epoch 346/500\n",
            "1/1 [==============================] - 0s 8ms/step - loss: 0.0829 - mae: 0.0829\n",
            "Epoch 347/500\n",
            "1/1 [==============================] - 0s 9ms/step - loss: 0.1932 - mae: 0.1932\n",
            "Epoch 348/500\n",
            "1/1 [==============================] - 0s 9ms/step - loss: 0.0712 - mae: 0.0712\n",
            "Epoch 349/500\n",
            "1/1 [==============================] - 0s 10ms/step - loss: 0.2878 - mae: 0.2878\n",
            "Epoch 350/500\n",
            "1/1 [==============================] - 0s 8ms/step - loss: 0.1828 - mae: 0.1828\n",
            "Epoch 351/500\n",
            "1/1 [==============================] - 0s 12ms/step - loss: 0.3991 - mae: 0.3991\n",
            "Epoch 352/500\n",
            "1/1 [==============================] - 0s 10ms/step - loss: 0.4033 - mae: 0.4033\n",
            "Epoch 353/500\n",
            "1/1 [==============================] - 0s 10ms/step - loss: 0.0585 - mae: 0.0585\n",
            "Epoch 354/500\n",
            "1/1 [==============================] - 0s 10ms/step - loss: 0.1538 - mae: 0.1538\n",
            "Epoch 355/500\n",
            "1/1 [==============================] - 0s 9ms/step - loss: 0.2860 - mae: 0.2860\n",
            "Epoch 356/500\n",
            "1/1 [==============================] - 0s 10ms/step - loss: 0.1885 - mae: 0.1885\n",
            "Epoch 357/500\n",
            "1/1 [==============================] - 0s 9ms/step - loss: 0.3365 - mae: 0.3365\n",
            "Epoch 358/500\n",
            "1/1 [==============================] - 0s 8ms/step - loss: 0.3580 - mae: 0.3580\n",
            "Epoch 359/500\n",
            "1/1 [==============================] - 0s 10ms/step - loss: 0.0783 - mae: 0.0783\n",
            "Epoch 360/500\n",
            "1/1 [==============================] - 0s 10ms/step - loss: 0.0969 - mae: 0.0969\n",
            "Epoch 361/500\n",
            "1/1 [==============================] - 0s 10ms/step - loss: 0.1920 - mae: 0.1920\n",
            "Epoch 362/500\n",
            "1/1 [==============================] - 0s 9ms/step - loss: 0.0902 - mae: 0.0902\n",
            "Epoch 363/500\n",
            "1/1 [==============================] - 0s 9ms/step - loss: 0.1687 - mae: 0.1687\n",
            "Epoch 364/500\n",
            "1/1 [==============================] - 0s 9ms/step - loss: 0.0742 - mae: 0.0742\n",
            "Epoch 365/500\n",
            "1/1 [==============================] - 0s 11ms/step - loss: 0.2133 - mae: 0.2133\n",
            "Epoch 366/500\n",
            "1/1 [==============================] - 0s 10ms/step - loss: 0.0476 - mae: 0.0476\n",
            "Epoch 367/500\n",
            "1/1 [==============================] - 0s 10ms/step - loss: 0.3373 - mae: 0.3373\n",
            "Epoch 368/500\n",
            "1/1 [==============================] - 0s 9ms/step - loss: 0.2514 - mae: 0.2514\n",
            "Epoch 369/500\n",
            "1/1 [==============================] - 0s 10ms/step - loss: 0.2471 - mae: 0.2471\n",
            "Epoch 370/500\n",
            "1/1 [==============================] - 0s 10ms/step - loss: 0.2448 - mae: 0.2448\n",
            "Epoch 371/500\n",
            "1/1 [==============================] - 0s 11ms/step - loss: 0.2263 - mae: 0.2263\n",
            "Epoch 372/500\n",
            "1/1 [==============================] - 0s 11ms/step - loss: 0.1936 - mae: 0.1936\n",
            "Epoch 373/500\n",
            "1/1 [==============================] - 0s 11ms/step - loss: 0.2978 - mae: 0.2978\n",
            "Epoch 374/500\n",
            "1/1 [==============================] - 0s 9ms/step - loss: 0.2703 - mae: 0.2703\n",
            "Epoch 375/500\n",
            "1/1 [==============================] - 0s 10ms/step - loss: 0.1894 - mae: 0.1894\n",
            "Epoch 376/500\n",
            "1/1 [==============================] - 0s 12ms/step - loss: 0.2441 - mae: 0.2441\n",
            "Epoch 377/500\n",
            "1/1 [==============================] - 0s 12ms/step - loss: 0.1320 - mae: 0.1320\n",
            "Epoch 378/500\n",
            "1/1 [==============================] - 0s 12ms/step - loss: 0.0614 - mae: 0.0614\n",
            "Epoch 379/500\n",
            "1/1 [==============================] - 0s 11ms/step - loss: 0.4283 - mae: 0.4283\n",
            "Epoch 380/500\n",
            "1/1 [==============================] - 0s 10ms/step - loss: 0.4372 - mae: 0.4372\n",
            "Epoch 381/500\n",
            "1/1 [==============================] - 0s 8ms/step - loss: 0.0801 - mae: 0.0801\n",
            "Epoch 382/500\n",
            "1/1 [==============================] - 0s 9ms/step - loss: 0.6347 - mae: 0.6347\n",
            "Epoch 383/500\n",
            "1/1 [==============================] - 0s 10ms/step - loss: 0.7479 - mae: 0.7479\n",
            "Epoch 384/500\n",
            "1/1 [==============================] - 0s 12ms/step - loss: 0.3941 - mae: 0.3941\n",
            "Epoch 385/500\n",
            "1/1 [==============================] - 0s 9ms/step - loss: 0.3449 - mae: 0.3449\n",
            "Epoch 386/500\n",
            "1/1 [==============================] - 0s 9ms/step - loss: 0.5566 - mae: 0.5566\n",
            "Epoch 387/500\n",
            "1/1 [==============================] - 0s 8ms/step - loss: 0.3362 - mae: 0.3362\n",
            "Epoch 388/500\n",
            "1/1 [==============================] - 0s 8ms/step - loss: 0.3096 - mae: 0.3096\n",
            "Epoch 389/500\n",
            "1/1 [==============================] - 0s 8ms/step - loss: 0.4743 - mae: 0.4743\n",
            "Epoch 390/500\n",
            "1/1 [==============================] - 0s 9ms/step - loss: 0.1931 - mae: 0.1931\n",
            "Epoch 391/500\n",
            "1/1 [==============================] - 0s 10ms/step - loss: 0.4962 - mae: 0.4962\n",
            "Epoch 392/500\n",
            "1/1 [==============================] - 0s 9ms/step - loss: 0.6595 - mae: 0.6595\n",
            "Epoch 393/500\n",
            "1/1 [==============================] - 0s 12ms/step - loss: 0.4345 - mae: 0.4345\n",
            "Epoch 394/500\n",
            "1/1 [==============================] - 0s 9ms/step - loss: 0.1888 - mae: 0.1888\n",
            "Epoch 395/500\n",
            "1/1 [==============================] - 0s 9ms/step - loss: 0.3359 - mae: 0.3359\n",
            "Epoch 396/500\n",
            "1/1 [==============================] - 0s 10ms/step - loss: 0.0382 - mae: 0.0382\n",
            "Epoch 397/500\n",
            "1/1 [==============================] - 0s 9ms/step - loss: 0.4206 - mae: 0.4206\n",
            "Epoch 398/500\n",
            "1/1 [==============================] - 0s 8ms/step - loss: 0.4168 - mae: 0.4168\n",
            "Epoch 399/500\n",
            "1/1 [==============================] - 0s 9ms/step - loss: 0.0981 - mae: 0.0981\n",
            "Epoch 400/500\n",
            "1/1 [==============================] - 0s 9ms/step - loss: 0.6116 - mae: 0.6116\n",
            "Epoch 401/500\n",
            "1/1 [==============================] - 0s 10ms/step - loss: 0.7174 - mae: 0.7174\n",
            "Epoch 402/500\n",
            "1/1 [==============================] - 0s 10ms/step - loss: 0.4075 - mae: 0.4075\n",
            "Epoch 403/500\n",
            "1/1 [==============================] - 0s 10ms/step - loss: 0.3434 - mae: 0.3434\n",
            "Epoch 404/500\n",
            "1/1 [==============================] - 0s 11ms/step - loss: 0.5430 - mae: 0.5430\n",
            "Epoch 405/500\n",
            "1/1 [==============================] - 0s 9ms/step - loss: 0.3279 - mae: 0.3279\n",
            "Epoch 406/500\n",
            "1/1 [==============================] - 0s 9ms/step - loss: 0.3029 - mae: 0.3029\n",
            "Epoch 407/500\n",
            "1/1 [==============================] - 0s 10ms/step - loss: 0.4457 - mae: 0.4457\n",
            "Epoch 408/500\n",
            "1/1 [==============================] - 0s 9ms/step - loss: 0.1332 - mae: 0.1332\n",
            "Epoch 409/500\n",
            "1/1 [==============================] - 0s 9ms/step - loss: 0.5963 - mae: 0.5963\n",
            "Epoch 410/500\n",
            "1/1 [==============================] - 0s 11ms/step - loss: 0.8107 - mae: 0.8107\n",
            "Epoch 411/500\n",
            "1/1 [==============================] - 0s 9ms/step - loss: 0.6375 - mae: 0.6375\n",
            "Epoch 412/500\n",
            "1/1 [==============================] - 0s 8ms/step - loss: 0.0914 - mae: 0.0914\n",
            "Epoch 413/500\n",
            "1/1 [==============================] - 0s 12ms/step - loss: 0.7941 - mae: 0.7941\n",
            "Epoch 414/500\n",
            "1/1 [==============================] - 0s 10ms/step - loss: 1.1580 - mae: 1.1580\n",
            "Epoch 415/500\n",
            "1/1 [==============================] - 0s 9ms/step - loss: 1.0236 - mae: 1.0236\n",
            "Epoch 416/500\n",
            "1/1 [==============================] - 0s 10ms/step - loss: 0.4757 - mae: 0.4757\n",
            "Epoch 417/500\n",
            "1/1 [==============================] - 0s 10ms/step - loss: 0.4845 - mae: 0.4845\n",
            "Epoch 418/500\n",
            "1/1 [==============================] - 0s 12ms/step - loss: 0.8141 - mae: 0.8141\n",
            "Epoch 419/500\n",
            "1/1 [==============================] - 0s 10ms/step - loss: 0.6245 - mae: 0.6245\n",
            "Epoch 420/500\n",
            "1/1 [==============================] - 0s 11ms/step - loss: 0.1581 - mae: 0.1581\n",
            "Epoch 421/500\n",
            "1/1 [==============================] - 0s 11ms/step - loss: 0.2428 - mae: 0.2428\n",
            "Epoch 422/500\n",
            "1/1 [==============================] - 0s 11ms/step - loss: 0.3491 - mae: 0.3491\n",
            "Epoch 423/500\n",
            "1/1 [==============================] - 0s 9ms/step - loss: 0.2427 - mae: 0.2427\n",
            "Epoch 424/500\n",
            "1/1 [==============================] - 0s 10ms/step - loss: 0.4532 - mae: 0.4532\n",
            "Epoch 425/500\n",
            "1/1 [==============================] - 0s 10ms/step - loss: 0.3970 - mae: 0.3970\n",
            "Epoch 426/500\n",
            "1/1 [==============================] - 0s 10ms/step - loss: 0.1660 - mae: 0.1660\n",
            "Epoch 427/500\n",
            "1/1 [==============================] - 0s 12ms/step - loss: 0.1795 - mae: 0.1795\n",
            "Epoch 428/500\n",
            "1/1 [==============================] - 0s 11ms/step - loss: 0.3749 - mae: 0.3749\n",
            "Epoch 429/500\n",
            "1/1 [==============================] - 0s 12ms/step - loss: 0.3392 - mae: 0.3392\n",
            "Epoch 430/500\n",
            "1/1 [==============================] - 0s 9ms/step - loss: 0.1790 - mae: 0.1790\n",
            "Epoch 431/500\n",
            "1/1 [==============================] - 0s 8ms/step - loss: 0.1784 - mae: 0.1784\n",
            "Epoch 432/500\n",
            "1/1 [==============================] - 0s 10ms/step - loss: 0.2350 - mae: 0.2350\n",
            "Epoch 433/500\n",
            "1/1 [==============================] - 0s 11ms/step - loss: 0.1333 - mae: 0.1333\n",
            "Epoch 434/500\n",
            "1/1 [==============================] - 0s 9ms/step - loss: 0.4062 - mae: 0.4062\n",
            "Epoch 435/500\n",
            "1/1 [==============================] - 0s 9ms/step - loss: 0.4598 - mae: 0.4598\n",
            "Epoch 436/500\n",
            "1/1 [==============================] - 0s 10ms/step - loss: 0.1232 - mae: 0.1232\n",
            "Epoch 437/500\n",
            "1/1 [==============================] - 0s 9ms/step - loss: 0.5761 - mae: 0.5761\n",
            "Epoch 438/500\n",
            "1/1 [==============================] - 0s 10ms/step - loss: 0.7574 - mae: 0.7574\n",
            "Epoch 439/500\n",
            "1/1 [==============================] - 0s 11ms/step - loss: 0.4785 - mae: 0.4785\n",
            "Epoch 440/500\n",
            "1/1 [==============================] - 0s 11ms/step - loss: 0.1961 - mae: 0.1961\n",
            "Epoch 441/500\n",
            "1/1 [==============================] - 0s 9ms/step - loss: 0.3580 - mae: 0.3580\n",
            "Epoch 442/500\n",
            "1/1 [==============================] - 0s 13ms/step - loss: 0.0992 - mae: 0.0992\n",
            "Epoch 443/500\n",
            "1/1 [==============================] - 0s 9ms/step - loss: 0.5634 - mae: 0.5634\n",
            "Epoch 444/500\n",
            "1/1 [==============================] - 0s 10ms/step - loss: 0.7233 - mae: 0.7233\n",
            "Epoch 445/500\n",
            "1/1 [==============================] - 0s 11ms/step - loss: 0.4129 - mae: 0.4129\n",
            "Epoch 446/500\n",
            "1/1 [==============================] - 0s 9ms/step - loss: 0.2855 - mae: 0.2855\n",
            "Epoch 447/500\n",
            "1/1 [==============================] - 0s 8ms/step - loss: 0.5091 - mae: 0.5091\n",
            "Epoch 448/500\n",
            "1/1 [==============================] - 0s 9ms/step - loss: 0.3234 - mae: 0.3234\n",
            "Epoch 449/500\n",
            "1/1 [==============================] - 0s 10ms/step - loss: 0.2547 - mae: 0.2547\n",
            "Epoch 450/500\n",
            "1/1 [==============================] - 0s 9ms/step - loss: 0.4161 - mae: 0.4161\n",
            "Epoch 451/500\n",
            "1/1 [==============================] - 0s 9ms/step - loss: 0.1397 - mae: 0.1397\n",
            "Epoch 452/500\n",
            "1/1 [==============================] - 0s 9ms/step - loss: 0.4673 - mae: 0.4673\n",
            "Epoch 453/500\n",
            "1/1 [==============================] - 0s 11ms/step - loss: 0.6147 - mae: 0.6147\n",
            "Epoch 454/500\n",
            "1/1 [==============================] - 0s 11ms/step - loss: 0.3931 - mae: 0.3931\n",
            "Epoch 455/500\n",
            "1/1 [==============================] - 0s 14ms/step - loss: 0.2081 - mae: 0.2081\n",
            "Epoch 456/500\n",
            "1/1 [==============================] - 0s 10ms/step - loss: 0.3166 - mae: 0.3166\n",
            "Epoch 457/500\n",
            "1/1 [==============================] - 0s 14ms/step - loss: 0.0272 - mae: 0.0272\n",
            "Epoch 458/500\n",
            "1/1 [==============================] - 0s 11ms/step - loss: 0.0523 - mae: 0.0523\n",
            "Epoch 459/500\n",
            "1/1 [==============================] - 0s 10ms/step - loss: 0.0630 - mae: 0.0630\n",
            "Epoch 460/500\n",
            "1/1 [==============================] - 0s 11ms/step - loss: 0.1797 - mae: 0.1797\n",
            "Epoch 461/500\n",
            "1/1 [==============================] - 0s 9ms/step - loss: 0.0898 - mae: 0.0898\n",
            "Epoch 462/500\n",
            "1/1 [==============================] - 0s 11ms/step - loss: 0.0932 - mae: 0.0932\n",
            "Epoch 463/500\n",
            "1/1 [==============================] - 0s 14ms/step - loss: 0.1815 - mae: 0.1815\n",
            "Epoch 464/500\n",
            "1/1 [==============================] - 0s 10ms/step - loss: 0.0974 - mae: 0.0974\n",
            "Epoch 465/500\n",
            "1/1 [==============================] - 0s 14ms/step - loss: 0.3524 - mae: 0.3524\n",
            "Epoch 466/500\n",
            "1/1 [==============================] - 0s 10ms/step - loss: 0.3520 - mae: 0.3520\n",
            "Epoch 467/500\n",
            "1/1 [==============================] - 0s 12ms/step - loss: 0.0441 - mae: 0.0441\n",
            "Epoch 468/500\n",
            "1/1 [==============================] - 0s 11ms/step - loss: 0.0222 - mae: 0.0222\n",
            "Epoch 469/500\n",
            "1/1 [==============================] - 0s 12ms/step - loss: 0.2731 - mae: 0.2731\n",
            "Epoch 470/500\n",
            "1/1 [==============================] - 0s 12ms/step - loss: 0.1849 - mae: 0.1849\n",
            "Epoch 471/500\n",
            "1/1 [==============================] - 0s 12ms/step - loss: 0.3262 - mae: 0.3262\n",
            "Epoch 472/500\n",
            "1/1 [==============================] - 0s 12ms/step - loss: 0.3267 - mae: 0.3267\n",
            "Epoch 473/500\n",
            "1/1 [==============================] - 0s 11ms/step - loss: 0.0890 - mae: 0.0890\n",
            "Epoch 474/500\n",
            "1/1 [==============================] - 0s 10ms/step - loss: 0.0683 - mae: 0.0683\n",
            "Epoch 475/500\n",
            "1/1 [==============================] - 0s 11ms/step - loss: 0.3648 - mae: 0.3648\n",
            "Epoch 476/500\n",
            "1/1 [==============================] - 0s 11ms/step - loss: 0.3464 - mae: 0.3464\n",
            "Epoch 477/500\n",
            "1/1 [==============================] - 0s 9ms/step - loss: 0.0818 - mae: 0.0818\n",
            "Epoch 478/500\n",
            "1/1 [==============================] - 0s 11ms/step - loss: 0.0407 - mae: 0.0407\n",
            "Epoch 479/500\n",
            "1/1 [==============================] - 0s 11ms/step - loss: 0.3995 - mae: 0.3995\n",
            "Epoch 480/500\n",
            "1/1 [==============================] - 0s 11ms/step - loss: 0.3734 - mae: 0.3734\n",
            "Epoch 481/500\n",
            "1/1 [==============================] - 0s 10ms/step - loss: 0.0823 - mae: 0.0823\n",
            "Epoch 482/500\n",
            "1/1 [==============================] - 0s 11ms/step - loss: 0.0813 - mae: 0.0813\n",
            "Epoch 483/500\n",
            "1/1 [==============================] - 0s 13ms/step - loss: 0.3202 - mae: 0.3202\n",
            "Epoch 484/500\n",
            "1/1 [==============================] - 0s 11ms/step - loss: 0.2559 - mae: 0.2559\n",
            "Epoch 485/500\n",
            "1/1 [==============================] - 0s 13ms/step - loss: 0.1791 - mae: 0.1791\n",
            "Epoch 486/500\n",
            "1/1 [==============================] - 0s 12ms/step - loss: 0.1722 - mae: 0.1722\n",
            "Epoch 487/500\n",
            "1/1 [==============================] - 0s 13ms/step - loss: 0.2398 - mae: 0.2398\n",
            "Epoch 488/500\n",
            "1/1 [==============================] - 0s 12ms/step - loss: 0.2023 - mae: 0.2023\n",
            "Epoch 489/500\n",
            "1/1 [==============================] - 0s 11ms/step - loss: 0.2539 - mae: 0.2539\n",
            "Epoch 490/500\n",
            "1/1 [==============================] - 0s 13ms/step - loss: 0.2713 - mae: 0.2713\n",
            "Epoch 491/500\n",
            "1/1 [==============================] - 0s 11ms/step - loss: 0.0811 - mae: 0.0811\n",
            "Epoch 492/500\n",
            "1/1 [==============================] - 0s 11ms/step - loss: 0.0433 - mae: 0.0433\n",
            "Epoch 493/500\n",
            "1/1 [==============================] - 0s 13ms/step - loss: 0.3417 - mae: 0.3417\n",
            "Epoch 494/500\n",
            "1/1 [==============================] - 0s 10ms/step - loss: 0.2770 - mae: 0.2770\n",
            "Epoch 495/500\n",
            "1/1 [==============================] - 0s 13ms/step - loss: 0.1446 - mae: 0.1446\n",
            "Epoch 496/500\n",
            "1/1 [==============================] - 0s 12ms/step - loss: 0.1207 - mae: 0.1207\n",
            "Epoch 497/500\n",
            "1/1 [==============================] - 0s 11ms/step - loss: 0.3020 - mae: 0.3020\n",
            "Epoch 498/500\n",
            "1/1 [==============================] - 0s 11ms/step - loss: 0.3027 - mae: 0.3027\n",
            "Epoch 499/500\n",
            "1/1 [==============================] - 0s 11ms/step - loss: 0.0860 - mae: 0.0860\n",
            "Epoch 500/500\n",
            "1/1 [==============================] - 0s 15ms/step - loss: 0.0659 - mae: 0.0659\n"
          ]
        },
        {
          "output_type": "execute_result",
          "data": {
            "text/plain": [
              "<keras.callbacks.History at 0x7f0d8048cb50>"
            ]
          },
          "metadata": {},
          "execution_count": 15
        }
      ],
      "source": [
        "# Lets create the same model again with improvements.\n",
        "tf.random.set_seed(42)\n",
        "\n",
        "# Create Model\n",
        "improved_model = tf.keras.Sequential([\n",
        "    # These are the 2 hidden layers\n",
        "    tf.keras.layers.Dense(50, activation=\"relu\"),\n",
        "    tf.keras.layers.Dense(50, activation=\"relu\"),\n",
        "    tf.keras.layers.Dense(100, activation=\"relu\"),\n",
        "    # These are the 2 hidden layers\n",
        "    tf.keras.layers.Dense(1)\n",
        "    # Totally, we have 4 layers with 100 in each of the hidden layers and one in 4th layer.\n",
        "])\n",
        "\n",
        "# Compile Model\n",
        "improved_model.compile(loss = tf.keras.losses.mae,\n",
        "                       optimizer = tf.keras.optimizers.Adam(learning_rate = 0.01), # Learning Rate is the most important hyperparameter in Neural Networks. \n",
        "                       metrics=[\"mae\"])\n",
        "\n",
        "# Fitting Model\n",
        "X_input = tf.expand_dims(X, axis = 1) # Don't forget increase the dimension to prevent the error.\n",
        "improved_model.fit(X_input, y, epochs = 500)"
      ]
    },
    {
      "cell_type": "code",
      "execution_count": 16,
      "metadata": {
        "colab": {
          "base_uri": "https://localhost:8080/"
        },
        "id": "s_R-XE0OIRFN",
        "outputId": "2df8e051-7e76-4665-ddae-7ce690a6c02d"
      },
      "outputs": [
        {
          "output_type": "execute_result",
          "data": {
            "text/plain": [
              "(<tf.Tensor: shape=(8,), dtype=float32, numpy=array([-7., -4., -1.,  2.,  5.,  8., 11., 14.], dtype=float32)>,\n",
              " <tf.Tensor: shape=(8,), dtype=float32, numpy=array([ 3.,  6.,  9., 12., 15., 18., 21., 24.], dtype=float32)>)"
            ]
          },
          "metadata": {},
          "execution_count": 16
        }
      ],
      "source": [
        "X, y"
      ]
    },
    {
      "cell_type": "code",
      "execution_count": 17,
      "metadata": {
        "colab": {
          "base_uri": "https://localhost:8080/"
        },
        "id": "NATH_SjdIfUL",
        "outputId": "42225007-2f9d-4d7c-ab92-40cbd7a9a83a"
      },
      "outputs": [
        {
          "output_type": "stream",
          "name": "stdout",
          "text": [
            "1/1 [==============================] - 0s 75ms/step\n"
          ]
        },
        {
          "output_type": "execute_result",
          "data": {
            "text/plain": [
              "array([[25.97355]], dtype=float32)"
            ]
          },
          "metadata": {},
          "execution_count": 17
        }
      ],
      "source": [
        "y_pred = improved_model.predict([17.0])\n",
        "y_pred"
      ]
    },
    {
      "cell_type": "markdown",
      "metadata": {
        "id": "en4DLX39jFto"
      },
      "source": [
        "# **Evaluating**\n",
        "\n",
        "Lets start with creating larger dataset."
      ]
    },
    {
      "cell_type": "code",
      "execution_count": 18,
      "metadata": {
        "colab": {
          "base_uri": "https://localhost:8080/"
        },
        "id": "sTNOGeHgIk5t",
        "outputId": "49d57ae3-ad3b-4d46-a066-963a65821bd7"
      },
      "outputs": [
        {
          "output_type": "execute_result",
          "data": {
            "text/plain": [
              "<tf.Tensor: shape=(50,), dtype=int32, numpy=\n",
              "array([-100,  -96,  -92,  -88,  -84,  -80,  -76,  -72,  -68,  -64,  -60,\n",
              "        -56,  -52,  -48,  -44,  -40,  -36,  -32,  -28,  -24,  -20,  -16,\n",
              "        -12,   -8,   -4,    0,    4,    8,   12,   16,   20,   24,   28,\n",
              "         32,   36,   40,   44,   48,   52,   56,   60,   64,   68,   72,\n",
              "         76,   80,   84,   88,   92,   96], dtype=int32)>"
            ]
          },
          "metadata": {},
          "execution_count": 18
        }
      ],
      "source": [
        "X = tf.range(-100, 100, 4)\n",
        "X\n",
        "# Numbers from -100 to 100 with a step size of 4"
      ]
    },
    {
      "cell_type": "code",
      "execution_count": 19,
      "metadata": {
        "colab": {
          "base_uri": "https://localhost:8080/"
        },
        "id": "7GUWjC0AjfAl",
        "outputId": "78b3e388-bd12-4549-f656-70db1c20e030"
      },
      "outputs": [
        {
          "output_type": "execute_result",
          "data": {
            "text/plain": [
              "<tf.Tensor: shape=(50,), dtype=int32, numpy=\n",
              "array([-90, -86, -82, -78, -74, -70, -66, -62, -58, -54, -50, -46, -42,\n",
              "       -38, -34, -30, -26, -22, -18, -14, -10,  -6,  -2,   2,   6,  10,\n",
              "        14,  18,  22,  26,  30,  34,  38,  42,  46,  50,  54,  58,  62,\n",
              "        66,  70,  74,  78,  82,  86,  90,  94,  98, 102, 106], dtype=int32)>"
            ]
          },
          "metadata": {},
          "execution_count": 19
        }
      ],
      "source": [
        "# Creating labels for the dataset.\n",
        "y = X + 10\n",
        "y"
      ]
    },
    {
      "cell_type": "code",
      "execution_count": 20,
      "metadata": {
        "colab": {
          "base_uri": "https://localhost:8080/",
          "height": 283
        },
        "id": "wzIo7_yojspG",
        "outputId": "d7f2c854-c27c-4876-e323-1fdd274b02c9"
      },
      "outputs": [
        {
          "output_type": "execute_result",
          "data": {
            "text/plain": [
              "<matplotlib.collections.PathCollection at 0x7f0d80288df0>"
            ]
          },
          "metadata": {},
          "execution_count": 20
        },
        {
          "output_type": "display_data",
          "data": {
            "text/plain": [
              "<Figure size 432x288 with 1 Axes>"
            ],
            "image/png": "[encoded data removed]"
          },
          "metadata": {
            "needs_background": "light"
          }
        }
      ],
      "source": [
        "# Visualize the data.\n",
        "import matplotlib.pyplot as plt\n",
        "plt.scatter(X, y)"
      ]
    },
    {
      "cell_type": "code",
      "execution_count": 21,
      "metadata": {
        "colab": {
          "base_uri": "https://localhost:8080/",
          "height": 283
        },
        "id": "4_coOR_Bj51L",
        "outputId": "9c17cf5d-daec-4f36-96ca-75ae3527bf5a"
      },
      "outputs": [
        {
          "output_type": "execute_result",
          "data": {
            "text/plain": [
              "[<matplotlib.lines.Line2D at 0x7f0d802b8e20>]"
            ]
          },
          "metadata": {},
          "execution_count": 21
        },
        {
          "output_type": "display_data",
          "data": {
            "text/plain": [
              "<Figure size 432x288 with 1 Axes>"
            ],
            "image/png": "[encoded data removed]"
          },
          "metadata": {
            "needs_background": "light"
          }
        }
      ],
      "source": [
        "plt.plot(X, y)"
      ]
    },
    {
      "cell_type": "markdown",
      "metadata": {
        "id": "JrAfotc0kUx6"
      },
      "source": [
        "# **Splitting data into 3 sets...**\n",
        "\n",
        "1) **Training set** - 70%-80% of the dataset, model learns from this data.\n",
        "\n",
        "2) **Validation set** - using this dataset model is tunned or tweeked, like chnaging hyperparameters. Typically 10%-15% of the data availale.\n",
        "\n",
        "3) **Test set** - model gets evaluated on this data, its 10%-15%."
      ]
    },
    {
      "cell_type": "code",
      "execution_count": 22,
      "metadata": {
        "colab": {
          "base_uri": "https://localhost:8080/"
        },
        "id": "3ItetzrbkGUI",
        "outputId": "ac3079fc-67b3-47ba-9c64-aeec5fe144e5"
      },
      "outputs": [
        {
          "output_type": "execute_result",
          "data": {
            "text/plain": [
              "50"
            ]
          },
          "metadata": {},
          "execution_count": 22
        }
      ],
      "source": [
        "# Lets check the size of data available.\n",
        "len(X)"
      ]
    },
    {
      "cell_type": "code",
      "execution_count": 23,
      "metadata": {
        "colab": {
          "base_uri": "https://localhost:8080/"
        },
        "id": "YvSb7q6hlyDd",
        "outputId": "1b9432e6-ce7c-4db0-c039-8bf6060b672a"
      },
      "outputs": [
        {
          "output_type": "execute_result",
          "data": {
            "text/plain": [
              "(40, 10, 40, 10)"
            ]
          },
          "metadata": {},
          "execution_count": 23
        }
      ],
      "source": [
        "# Splitting data into train and test. Validation is another split done when data size is a 100+.\n",
        "X_train = X[:40] # 80% of the data (the first 40 samples).\n",
        "y_train = y[:40]\n",
        "\n",
        "X_test = X[40:] # 20% of the data (the last 10 samples).\n",
        "y_test = y[40:]\n",
        "\n",
        "len(X_train), len(X_test), len(y_train), len(y_test)"
      ]
    },
    {
      "cell_type": "code",
      "execution_count": 24,
      "metadata": {
        "colab": {
          "base_uri": "https://localhost:8080/",
          "height": 446
        },
        "id": "ED8hVC_7mnxU",
        "outputId": "94e97024-2510-4cc2-bd59-53b794cc8255"
      },
      "outputs": [
        {
          "output_type": "execute_result",
          "data": {
            "text/plain": [
              "<matplotlib.legend.Legend at 0x7f0d801a7430>"
            ]
          },
          "metadata": {},
          "execution_count": 24
        },
        {
          "output_type": "display_data",
          "data": {
            "text/plain": [
              "<Figure size 720x504 with 1 Axes>"
            ],
            "image/png": "[encoded data removed]"
          },
          "metadata": {
            "needs_background": "light"
          }
        }
      ],
      "source": [
        "# Visualize the datasets.\n",
        "plt.figure(figsize=(10, 7))\n",
        "plt.scatter(X_train, y_train, c=\"b\", label=\"Training Dataset\")\n",
        "plt.scatter(X_test, y_test, c=\"g\", label=\"Testing Dataset\")\n",
        "plt.legend()"
      ]
    },
    {
      "cell_type": "markdown",
      "metadata": {
        "id": "79KNI6N3rFBK"
      },
      "source": [
        "## Building a model for above data"
      ]
    },
    {
      "cell_type": "code",
      "execution_count": 25,
      "metadata": {
        "colab": {
          "base_uri": "https://localhost:8080/"
        },
        "id": "ILAYpByMmwIK",
        "outputId": "405c6a31-6f37-4439-c305-6eaf5a4c86f8"
      },
      "outputs": [
        {
          "output_type": "stream",
          "name": "stdout",
          "text": [
            "Epoch 1/500\n",
            "2/2 [==============================] - 1s 13ms/step - loss: 42.0414 - mae: 42.0414\n",
            "Epoch 2/500\n",
            "2/2 [==============================] - 0s 7ms/step - loss: 38.9810 - mae: 38.9810\n",
            "Epoch 3/500\n",
            "2/2 [==============================] - 0s 8ms/step - loss: 36.3581 - mae: 36.3581\n",
            "Epoch 4/500\n",
            "2/2 [==============================] - 0s 6ms/step - loss: 33.7471 - mae: 33.7471\n",
            "Epoch 5/500\n",
            "2/2 [==============================] - 0s 7ms/step - loss: 31.2050 - mae: 31.2050\n",
            "Epoch 6/500\n",
            "2/2 [==============================] - 0s 7ms/step - loss: 28.5544 - mae: 28.5544\n",
            "Epoch 7/500\n",
            "2/2 [==============================] - 0s 7ms/step - loss: 25.5911 - mae: 25.5911\n",
            "Epoch 8/500\n",
            "2/2 [==============================] - 0s 7ms/step - loss: 22.2547 - mae: 22.2547\n",
            "Epoch 9/500\n",
            "2/2 [==============================] - 0s 8ms/step - loss: 18.9403 - mae: 18.9403\n",
            "Epoch 10/500\n",
            "2/2 [==============================] - 0s 6ms/step - loss: 15.4189 - mae: 15.4189\n",
            "Epoch 11/500\n",
            "2/2 [==============================] - 0s 10ms/step - loss: 11.6794 - mae: 11.6794\n",
            "Epoch 12/500\n",
            "2/2 [==============================] - 0s 7ms/step - loss: 9.4919 - mae: 9.4919\n",
            "Epoch 13/500\n",
            "2/2 [==============================] - 0s 7ms/step - loss: 10.5160 - mae: 10.5160\n",
            "Epoch 14/500\n",
            "2/2 [==============================] - 0s 10ms/step - loss: 9.4562 - mae: 9.4562\n",
            "Epoch 15/500\n",
            "2/2 [==============================] - 0s 7ms/step - loss: 6.7428 - mae: 6.7428\n",
            "Epoch 16/500\n",
            "2/2 [==============================] - 0s 7ms/step - loss: 4.2675 - mae: 4.2675\n",
            "Epoch 17/500\n",
            "2/2 [==============================] - 0s 7ms/step - loss: 5.1141 - mae: 5.1141\n",
            "Epoch 18/500\n",
            "2/2 [==============================] - 0s 7ms/step - loss: 5.9116 - mae: 5.9116\n",
            "Epoch 19/500\n",
            "2/2 [==============================] - 0s 8ms/step - loss: 6.1847 - mae: 6.1847\n",
            "Epoch 20/500\n",
            "2/2 [==============================] - 0s 7ms/step - loss: 5.8592 - mae: 5.8592\n",
            "Epoch 21/500\n",
            "2/2 [==============================] - 0s 7ms/step - loss: 5.1331 - mae: 5.1331\n",
            "Epoch 22/500\n",
            "2/2 [==============================] - 0s 7ms/step - loss: 4.4526 - mae: 4.4526\n",
            "Epoch 23/500\n",
            "2/2 [==============================] - 0s 7ms/step - loss: 4.8319 - mae: 4.8319\n",
            "Epoch 24/500\n",
            "2/2 [==============================] - 0s 7ms/step - loss: 4.7524 - mae: 4.7524\n",
            "Epoch 25/500\n",
            "2/2 [==============================] - 0s 14ms/step - loss: 4.4115 - mae: 4.4115\n",
            "Epoch 26/500\n",
            "2/2 [==============================] - 0s 7ms/step - loss: 4.4468 - mae: 4.4468\n",
            "Epoch 27/500\n",
            "2/2 [==============================] - 0s 7ms/step - loss: 4.3384 - mae: 4.3384\n",
            "Epoch 28/500\n",
            "2/2 [==============================] - 0s 7ms/step - loss: 4.1909 - mae: 4.1909\n",
            "Epoch 29/500\n",
            "2/2 [==============================] - 0s 7ms/step - loss: 4.0682 - mae: 4.0682\n",
            "Epoch 30/500\n",
            "2/2 [==============================] - 0s 8ms/step - loss: 4.0412 - mae: 4.0412\n",
            "Epoch 31/500\n",
            "2/2 [==============================] - 0s 7ms/step - loss: 4.1387 - mae: 4.1387\n",
            "Epoch 32/500\n",
            "2/2 [==============================] - 0s 7ms/step - loss: 4.1188 - mae: 4.1188\n",
            "Epoch 33/500\n",
            "2/2 [==============================] - 0s 9ms/step - loss: 4.0410 - mae: 4.0410\n",
            "Epoch 34/500\n",
            "2/2 [==============================] - 0s 8ms/step - loss: 4.0108 - mae: 4.0108\n",
            "Epoch 35/500\n",
            "2/2 [==============================] - 0s 6ms/step - loss: 4.0657 - mae: 4.0657\n",
            "Epoch 36/500\n",
            "2/2 [==============================] - 0s 7ms/step - loss: 4.1497 - mae: 4.1497\n",
            "Epoch 37/500\n",
            "2/2 [==============================] - 0s 7ms/step - loss: 4.1201 - mae: 4.1201\n",
            "Epoch 38/500\n",
            "2/2 [==============================] - 0s 7ms/step - loss: 4.0099 - mae: 4.0099\n",
            "Epoch 39/500\n",
            "2/2 [==============================] - 0s 8ms/step - loss: 3.9753 - mae: 3.9753\n",
            "Epoch 40/500\n",
            "2/2 [==============================] - 0s 7ms/step - loss: 3.9709 - mae: 3.9709\n",
            "Epoch 41/500\n",
            "2/2 [==============================] - 0s 14ms/step - loss: 4.0083 - mae: 4.0083\n",
            "Epoch 42/500\n",
            "2/2 [==============================] - 0s 7ms/step - loss: 3.9820 - mae: 3.9820\n",
            "Epoch 43/500\n",
            "2/2 [==============================] - 0s 7ms/step - loss: 4.0208 - mae: 4.0208\n",
            "Epoch 44/500\n",
            "2/2 [==============================] - 0s 7ms/step - loss: 4.0447 - mae: 4.0447\n",
            "Epoch 45/500\n",
            "2/2 [==============================] - 0s 12ms/step - loss: 4.0148 - mae: 4.0148\n",
            "Epoch 46/500\n",
            "2/2 [==============================] - 0s 7ms/step - loss: 3.9853 - mae: 3.9853\n",
            "Epoch 47/500\n",
            "2/2 [==============================] - 0s 6ms/step - loss: 3.9258 - mae: 3.9258\n",
            "Epoch 48/500\n",
            "2/2 [==============================] - 0s 7ms/step - loss: 3.9167 - mae: 3.9167\n",
            "Epoch 49/500\n",
            "2/2 [==============================] - 0s 7ms/step - loss: 3.9073 - mae: 3.9073\n",
            "Epoch 50/500\n",
            "2/2 [==============================] - 0s 7ms/step - loss: 3.8952 - mae: 3.8952\n",
            "Epoch 51/500\n",
            "2/2 [==============================] - 0s 7ms/step - loss: 3.8737 - mae: 3.8737\n",
            "Epoch 52/500\n",
            "2/2 [==============================] - 0s 7ms/step - loss: 3.8814 - mae: 3.8814\n",
            "Epoch 53/500\n",
            "2/2 [==============================] - 0s 6ms/step - loss: 3.7987 - mae: 3.7987\n",
            "Epoch 54/500\n",
            "2/2 [==============================] - 0s 8ms/step - loss: 3.7864 - mae: 3.7864\n",
            "Epoch 55/500\n",
            "2/2 [==============================] - 0s 8ms/step - loss: 3.7931 - mae: 3.7931\n",
            "Epoch 56/500\n",
            "2/2 [==============================] - 0s 7ms/step - loss: 3.8275 - mae: 3.8275\n",
            "Epoch 57/500\n",
            "2/2 [==============================] - 0s 7ms/step - loss: 3.8949 - mae: 3.8949\n",
            "Epoch 58/500\n",
            "2/2 [==============================] - 0s 8ms/step - loss: 3.8655 - mae: 3.8655\n",
            "Epoch 59/500\n",
            "2/2 [==============================] - 0s 14ms/step - loss: 3.6985 - mae: 3.6985\n",
            "Epoch 60/500\n",
            "2/2 [==============================] - 0s 7ms/step - loss: 3.8290 - mae: 3.8290\n",
            "Epoch 61/500\n",
            "2/2 [==============================] - 0s 7ms/step - loss: 3.9979 - mae: 3.9979\n",
            "Epoch 62/500\n",
            "2/2 [==============================] - 0s 7ms/step - loss: 3.8383 - mae: 3.8383\n",
            "Epoch 63/500\n",
            "2/2 [==============================] - 0s 7ms/step - loss: 3.7458 - mae: 3.7458\n",
            "Epoch 64/500\n",
            "2/2 [==============================] - 0s 10ms/step - loss: 3.7023 - mae: 3.7023\n",
            "Epoch 65/500\n",
            "2/2 [==============================] - 0s 7ms/step - loss: 3.6790 - mae: 3.6790\n",
            "Epoch 66/500\n",
            "2/2 [==============================] - 0s 8ms/step - loss: 3.6576 - mae: 3.6576\n",
            "Epoch 67/500\n",
            "2/2 [==============================] - 0s 8ms/step - loss: 3.6526 - mae: 3.6526\n",
            "Epoch 68/500\n",
            "2/2 [==============================] - 0s 12ms/step - loss: 3.6604 - mae: 3.6604\n",
            "Epoch 69/500\n",
            "2/2 [==============================] - 0s 7ms/step - loss: 3.6659 - mae: 3.6659\n",
            "Epoch 70/500\n",
            "2/2 [==============================] - 0s 7ms/step - loss: 3.7281 - mae: 3.7281\n",
            "Epoch 71/500\n",
            "2/2 [==============================] - 0s 12ms/step - loss: 3.7347 - mae: 3.7347\n",
            "Epoch 72/500\n",
            "2/2 [==============================] - 0s 7ms/step - loss: 3.6926 - mae: 3.6926\n",
            "Epoch 73/500\n",
            "2/2 [==============================] - 0s 11ms/step - loss: 3.5833 - mae: 3.5833\n",
            "Epoch 74/500\n",
            "2/2 [==============================] - 0s 7ms/step - loss: 3.6221 - mae: 3.6221\n",
            "Epoch 75/500\n",
            "2/2 [==============================] - 0s 7ms/step - loss: 3.5979 - mae: 3.5979\n",
            "Epoch 76/500\n",
            "2/2 [==============================] - 0s 7ms/step - loss: 3.7743 - mae: 3.7743\n",
            "Epoch 77/500\n",
            "2/2 [==============================] - 0s 8ms/step - loss: 3.8053 - mae: 3.8053\n",
            "Epoch 78/500\n",
            "2/2 [==============================] - 0s 8ms/step - loss: 3.5668 - mae: 3.5668\n",
            "Epoch 79/500\n",
            "2/2 [==============================] - 0s 7ms/step - loss: 3.4348 - mae: 3.4348\n",
            "Epoch 80/500\n",
            "2/2 [==============================] - 0s 7ms/step - loss: 3.6322 - mae: 3.6322\n",
            "Epoch 81/500\n",
            "2/2 [==============================] - 0s 7ms/step - loss: 3.5580 - mae: 3.5580\n",
            "Epoch 82/500\n",
            "2/2 [==============================] - 0s 7ms/step - loss: 3.4479 - mae: 3.4479\n",
            "Epoch 83/500\n",
            "2/2 [==============================] - 0s 7ms/step - loss: 3.7282 - mae: 3.7282\n",
            "Epoch 84/500\n",
            "2/2 [==============================] - 0s 7ms/step - loss: 3.7760 - mae: 3.7760\n",
            "Epoch 85/500\n",
            "2/2 [==============================] - 0s 7ms/step - loss: 3.3563 - mae: 3.3563\n",
            "Epoch 86/500\n",
            "2/2 [==============================] - 0s 7ms/step - loss: 3.3900 - mae: 3.3900\n",
            "Epoch 87/500\n",
            "2/2 [==============================] - 0s 7ms/step - loss: 3.3810 - mae: 3.3810\n",
            "Epoch 88/500\n",
            "2/2 [==============================] - 0s 14ms/step - loss: 3.2272 - mae: 3.2272\n",
            "Epoch 89/500\n",
            "2/2 [==============================] - 0s 7ms/step - loss: 3.4332 - mae: 3.4332\n",
            "Epoch 90/500\n",
            "2/2 [==============================] - 0s 7ms/step - loss: 3.2223 - mae: 3.2223\n",
            "Epoch 91/500\n",
            "2/2 [==============================] - 0s 7ms/step - loss: 3.3382 - mae: 3.3382\n",
            "Epoch 92/500\n",
            "2/2 [==============================] - 0s 7ms/step - loss: 3.3614 - mae: 3.3614\n",
            "Epoch 93/500\n",
            "2/2 [==============================] - 0s 7ms/step - loss: 3.2245 - mae: 3.2245\n",
            "Epoch 94/500\n",
            "2/2 [==============================] - 0s 9ms/step - loss: 3.1212 - mae: 3.1212\n",
            "Epoch 95/500\n",
            "2/2 [==============================] - 0s 8ms/step - loss: 3.3424 - mae: 3.3424\n",
            "Epoch 96/500\n",
            "2/2 [==============================] - 0s 7ms/step - loss: 3.1870 - mae: 3.1870\n",
            "Epoch 97/500\n",
            "2/2 [==============================] - 0s 8ms/step - loss: 3.4410 - mae: 3.4410\n",
            "Epoch 98/500\n",
            "2/2 [==============================] - 0s 14ms/step - loss: 3.2695 - mae: 3.2695\n",
            "Epoch 99/500\n",
            "2/2 [==============================] - 0s 8ms/step - loss: 3.2123 - mae: 3.2123\n",
            "Epoch 100/500\n",
            "2/2 [==============================] - 0s 10ms/step - loss: 2.8454 - mae: 2.8454\n",
            "Epoch 101/500\n",
            "2/2 [==============================] - 0s 7ms/step - loss: 3.8219 - mae: 3.8219\n",
            "Epoch 102/500\n",
            "2/2 [==============================] - 0s 8ms/step - loss: 2.9812 - mae: 2.9812\n",
            "Epoch 103/500\n",
            "2/2 [==============================] - 0s 7ms/step - loss: 3.2282 - mae: 3.2282\n",
            "Epoch 104/500\n",
            "2/2 [==============================] - 0s 8ms/step - loss: 2.7474 - mae: 2.7474\n",
            "Epoch 105/500\n",
            "2/2 [==============================] - 0s 7ms/step - loss: 3.1798 - mae: 3.1798\n",
            "Epoch 106/500\n",
            "2/2 [==============================] - 0s 7ms/step - loss: 2.8395 - mae: 2.8395\n",
            "Epoch 107/500\n",
            "2/2 [==============================] - 0s 7ms/step - loss: 3.1596 - mae: 3.1596\n",
            "Epoch 108/500\n",
            "2/2 [==============================] - 0s 10ms/step - loss: 2.6299 - mae: 2.6299\n",
            "Epoch 109/500\n",
            "2/2 [==============================] - 0s 7ms/step - loss: 2.5229 - mae: 2.5229\n",
            "Epoch 110/500\n",
            "2/2 [==============================] - 0s 8ms/step - loss: 2.8356 - mae: 2.8356\n",
            "Epoch 111/500\n",
            "2/2 [==============================] - 0s 9ms/step - loss: 3.1204 - mae: 3.1204\n",
            "Epoch 112/500\n",
            "2/2 [==============================] - 0s 7ms/step - loss: 2.4999 - mae: 2.4999\n",
            "Epoch 113/500\n",
            "2/2 [==============================] - 0s 7ms/step - loss: 2.3515 - mae: 2.3515\n",
            "Epoch 114/500\n",
            "2/2 [==============================] - 0s 6ms/step - loss: 2.6117 - mae: 2.6117\n",
            "Epoch 115/500\n",
            "2/2 [==============================] - 0s 7ms/step - loss: 2.3314 - mae: 2.3314\n",
            "Epoch 116/500\n",
            "2/2 [==============================] - 0s 7ms/step - loss: 2.1220 - mae: 2.1220\n",
            "Epoch 117/500\n",
            "2/2 [==============================] - 0s 8ms/step - loss: 2.4028 - mae: 2.4028\n",
            "Epoch 118/500\n",
            "2/2 [==============================] - 0s 13ms/step - loss: 2.3498 - mae: 2.3498\n",
            "Epoch 119/500\n",
            "2/2 [==============================] - 0s 7ms/step - loss: 1.9824 - mae: 1.9824\n",
            "Epoch 120/500\n",
            "2/2 [==============================] - 0s 9ms/step - loss: 1.8175 - mae: 1.8175\n",
            "Epoch 121/500\n",
            "2/2 [==============================] - 0s 8ms/step - loss: 1.8148 - mae: 1.8148\n",
            "Epoch 122/500\n",
            "2/2 [==============================] - 0s 7ms/step - loss: 2.9279 - mae: 2.9279\n",
            "Epoch 123/500\n",
            "2/2 [==============================] - 0s 7ms/step - loss: 2.2504 - mae: 2.2504\n",
            "Epoch 124/500\n",
            "2/2 [==============================] - 0s 7ms/step - loss: 2.5253 - mae: 2.5253\n",
            "Epoch 125/500\n",
            "2/2 [==============================] - 0s 7ms/step - loss: 2.8021 - mae: 2.8021\n",
            "Epoch 126/500\n",
            "2/2 [==============================] - 0s 12ms/step - loss: 2.1064 - mae: 2.1064\n",
            "Epoch 127/500\n",
            "2/2 [==============================] - 0s 7ms/step - loss: 2.3097 - mae: 2.3097\n",
            "Epoch 128/500\n",
            "2/2 [==============================] - 0s 7ms/step - loss: 1.8700 - mae: 1.8700\n",
            "Epoch 129/500\n",
            "2/2 [==============================] - 0s 7ms/step - loss: 1.6587 - mae: 1.6587\n",
            "Epoch 130/500\n",
            "2/2 [==============================] - 0s 7ms/step - loss: 2.1197 - mae: 2.1197\n",
            "Epoch 131/500\n",
            "2/2 [==============================] - 0s 11ms/step - loss: 2.2748 - mae: 2.2748\n",
            "Epoch 132/500\n",
            "2/2 [==============================] - 0s 8ms/step - loss: 2.0061 - mae: 2.0061\n",
            "Epoch 133/500\n",
            "2/2 [==============================] - 0s 7ms/step - loss: 2.0845 - mae: 2.0845\n",
            "Epoch 134/500\n",
            "2/2 [==============================] - 0s 7ms/step - loss: 1.5024 - mae: 1.5024\n",
            "Epoch 135/500\n",
            "2/2 [==============================] - 0s 7ms/step - loss: 1.2650 - mae: 1.2650\n",
            "Epoch 136/500\n",
            "2/2 [==============================] - 0s 8ms/step - loss: 1.2661 - mae: 1.2661\n",
            "Epoch 137/500\n",
            "2/2 [==============================] - 0s 7ms/step - loss: 1.1926 - mae: 1.1926\n",
            "Epoch 138/500\n",
            "2/2 [==============================] - 0s 7ms/step - loss: 1.0213 - mae: 1.0213\n",
            "Epoch 139/500\n",
            "2/2 [==============================] - 0s 13ms/step - loss: 1.0790 - mae: 1.0790\n",
            "Epoch 140/500\n",
            "2/2 [==============================] - 0s 7ms/step - loss: 1.2157 - mae: 1.2157\n",
            "Epoch 141/500\n",
            "2/2 [==============================] - 0s 7ms/step - loss: 2.0100 - mae: 2.0100\n",
            "Epoch 142/500\n",
            "2/2 [==============================] - 0s 7ms/step - loss: 2.5209 - mae: 2.5209\n",
            "Epoch 143/500\n",
            "2/2 [==============================] - 0s 8ms/step - loss: 2.7936 - mae: 2.7936\n",
            "Epoch 144/500\n",
            "2/2 [==============================] - 0s 9ms/step - loss: 1.9026 - mae: 1.9026\n",
            "Epoch 145/500\n",
            "2/2 [==============================] - 0s 14ms/step - loss: 1.6644 - mae: 1.6644\n",
            "Epoch 146/500\n",
            "2/2 [==============================] - 0s 7ms/step - loss: 1.5603 - mae: 1.5603\n",
            "Epoch 147/500\n",
            "2/2 [==============================] - 0s 7ms/step - loss: 1.1805 - mae: 1.1805\n",
            "Epoch 148/500\n",
            "2/2 [==============================] - 0s 8ms/step - loss: 1.4031 - mae: 1.4031\n",
            "Epoch 149/500\n",
            "2/2 [==============================] - 0s 7ms/step - loss: 1.1163 - mae: 1.1163\n",
            "Epoch 150/500\n",
            "2/2 [==============================] - 0s 10ms/step - loss: 2.2209 - mae: 2.2209\n",
            "Epoch 151/500\n",
            "2/2 [==============================] - 0s 7ms/step - loss: 0.9566 - mae: 0.9566\n",
            "Epoch 152/500\n",
            "2/2 [==============================] - 0s 7ms/step - loss: 2.0602 - mae: 2.0602\n",
            "Epoch 153/500\n",
            "2/2 [==============================] - 0s 7ms/step - loss: 1.0573 - mae: 1.0573\n",
            "Epoch 154/500\n",
            "2/2 [==============================] - 0s 7ms/step - loss: 1.1874 - mae: 1.1874\n",
            "Epoch 155/500\n",
            "2/2 [==============================] - 0s 8ms/step - loss: 1.2204 - mae: 1.2204\n",
            "Epoch 156/500\n",
            "2/2 [==============================] - 0s 7ms/step - loss: 1.4036 - mae: 1.4036\n",
            "Epoch 157/500\n",
            "2/2 [==============================] - 0s 8ms/step - loss: 1.1206 - mae: 1.1206\n",
            "Epoch 158/500\n",
            "2/2 [==============================] - 0s 7ms/step - loss: 2.0177 - mae: 2.0177\n",
            "Epoch 159/500\n",
            "2/2 [==============================] - 0s 10ms/step - loss: 1.0540 - mae: 1.0540\n",
            "Epoch 160/500\n",
            "2/2 [==============================] - 0s 12ms/step - loss: 1.8310 - mae: 1.8310\n",
            "Epoch 161/500\n",
            "2/2 [==============================] - 0s 7ms/step - loss: 0.9318 - mae: 0.9318\n",
            "Epoch 162/500\n",
            "2/2 [==============================] - 0s 8ms/step - loss: 0.9439 - mae: 0.9439\n",
            "Epoch 163/500\n",
            "2/2 [==============================] - 0s 8ms/step - loss: 0.9996 - mae: 0.9996\n",
            "Epoch 164/500\n",
            "2/2 [==============================] - 0s 7ms/step - loss: 0.7816 - mae: 0.7816\n",
            "Epoch 165/500\n",
            "2/2 [==============================] - 0s 8ms/step - loss: 1.0080 - mae: 1.0080\n",
            "Epoch 166/500\n",
            "2/2 [==============================] - 0s 13ms/step - loss: 0.8232 - mae: 0.8232\n",
            "Epoch 167/500\n",
            "2/2 [==============================] - 0s 10ms/step - loss: 1.2681 - mae: 1.2681\n",
            "Epoch 168/500\n",
            "2/2 [==============================] - 0s 6ms/step - loss: 0.9390 - mae: 0.9390\n",
            "Epoch 169/500\n",
            "2/2 [==============================] - 0s 16ms/step - loss: 1.4232 - mae: 1.4232\n",
            "Epoch 170/500\n",
            "2/2 [==============================] - 0s 7ms/step - loss: 1.0019 - mae: 1.0019\n",
            "Epoch 171/500\n",
            "2/2 [==============================] - 0s 8ms/step - loss: 0.8439 - mae: 0.8439\n",
            "Epoch 172/500\n",
            "2/2 [==============================] - 0s 12ms/step - loss: 1.3385 - mae: 1.3385\n",
            "Epoch 173/500\n",
            "2/2 [==============================] - 0s 7ms/step - loss: 1.1302 - mae: 1.1302\n",
            "Epoch 174/500\n",
            "2/2 [==============================] - 0s 8ms/step - loss: 1.1211 - mae: 1.1211\n",
            "Epoch 175/500\n",
            "2/2 [==============================] - 0s 8ms/step - loss: 1.6532 - mae: 1.6532\n",
            "Epoch 176/500\n",
            "2/2 [==============================] - 0s 8ms/step - loss: 1.9788 - mae: 1.9788\n",
            "Epoch 177/500\n",
            "2/2 [==============================] - 0s 10ms/step - loss: 0.8261 - mae: 0.8261\n",
            "Epoch 178/500\n",
            "2/2 [==============================] - 0s 8ms/step - loss: 0.9171 - mae: 0.9171\n",
            "Epoch 179/500\n",
            "2/2 [==============================] - 0s 8ms/step - loss: 1.0904 - mae: 1.0904\n",
            "Epoch 180/500\n",
            "2/2 [==============================] - 0s 7ms/step - loss: 0.6011 - mae: 0.6011\n",
            "Epoch 181/500\n",
            "2/2 [==============================] - 0s 7ms/step - loss: 0.7286 - mae: 0.7286\n",
            "Epoch 182/500\n",
            "2/2 [==============================] - 0s 7ms/step - loss: 0.5953 - mae: 0.5953\n",
            "Epoch 183/500\n",
            "2/2 [==============================] - 0s 9ms/step - loss: 0.6996 - mae: 0.6996\n",
            "Epoch 184/500\n",
            "2/2 [==============================] - 0s 8ms/step - loss: 1.0118 - mae: 1.0118\n",
            "Epoch 185/500\n",
            "2/2 [==============================] - 0s 7ms/step - loss: 0.6625 - mae: 0.6625\n",
            "Epoch 186/500\n",
            "2/2 [==============================] - 0s 8ms/step - loss: 0.6185 - mae: 0.6185\n",
            "Epoch 187/500\n",
            "2/2 [==============================] - 0s 7ms/step - loss: 0.7060 - mae: 0.7060\n",
            "Epoch 188/500\n",
            "2/2 [==============================] - 0s 8ms/step - loss: 0.5680 - mae: 0.5680\n",
            "Epoch 189/500\n",
            "2/2 [==============================] - 0s 8ms/step - loss: 0.6265 - mae: 0.6265\n",
            "Epoch 190/500\n",
            "2/2 [==============================] - 0s 8ms/step - loss: 0.5527 - mae: 0.5527\n",
            "Epoch 191/500\n",
            "2/2 [==============================] - 0s 8ms/step - loss: 0.4981 - mae: 0.4981\n",
            "Epoch 192/500\n",
            "2/2 [==============================] - 0s 14ms/step - loss: 0.5173 - mae: 0.5173\n",
            "Epoch 193/500\n",
            "2/2 [==============================] - 0s 8ms/step - loss: 0.7194 - mae: 0.7194\n",
            "Epoch 194/500\n",
            "2/2 [==============================] - 0s 8ms/step - loss: 0.5230 - mae: 0.5230\n",
            "Epoch 195/500\n",
            "2/2 [==============================] - 0s 8ms/step - loss: 0.5838 - mae: 0.5838\n",
            "Epoch 196/500\n",
            "2/2 [==============================] - 0s 8ms/step - loss: 0.8211 - mae: 0.8211\n",
            "Epoch 197/500\n",
            "2/2 [==============================] - 0s 7ms/step - loss: 0.5762 - mae: 0.5762\n",
            "Epoch 198/500\n",
            "2/2 [==============================] - 0s 7ms/step - loss: 0.5910 - mae: 0.5910\n",
            "Epoch 199/500\n",
            "2/2 [==============================] - 0s 7ms/step - loss: 0.6352 - mae: 0.6352\n",
            "Epoch 200/500\n",
            "2/2 [==============================] - 0s 7ms/step - loss: 0.8082 - mae: 0.8082\n",
            "Epoch 201/500\n",
            "2/2 [==============================] - 0s 8ms/step - loss: 0.6109 - mae: 0.6109\n",
            "Epoch 202/500\n",
            "2/2 [==============================] - 0s 8ms/step - loss: 0.5646 - mae: 0.5646\n",
            "Epoch 203/500\n",
            "2/2 [==============================] - 0s 9ms/step - loss: 0.5225 - mae: 0.5225\n",
            "Epoch 204/500\n",
            "2/2 [==============================] - 0s 9ms/step - loss: 0.8599 - mae: 0.8599\n",
            "Epoch 205/500\n",
            "2/2 [==============================] - 0s 8ms/step - loss: 0.4394 - mae: 0.4394\n",
            "Epoch 206/500\n",
            "2/2 [==============================] - 0s 14ms/step - loss: 0.4428 - mae: 0.4428\n",
            "Epoch 207/500\n",
            "2/2 [==============================] - 0s 8ms/step - loss: 0.4338 - mae: 0.4338\n",
            "Epoch 208/500\n",
            "2/2 [==============================] - 0s 8ms/step - loss: 0.4779 - mae: 0.4779\n",
            "Epoch 209/500\n",
            "2/2 [==============================] - 0s 8ms/step - loss: 0.8145 - mae: 0.8145\n",
            "Epoch 210/500\n",
            "2/2 [==============================] - 0s 7ms/step - loss: 0.4000 - mae: 0.4000\n",
            "Epoch 211/500\n",
            "2/2 [==============================] - 0s 9ms/step - loss: 0.6116 - mae: 0.6116\n",
            "Epoch 212/500\n",
            "2/2 [==============================] - 0s 7ms/step - loss: 0.6322 - mae: 0.6322\n",
            "Epoch 213/500\n",
            "2/2 [==============================] - 0s 7ms/step - loss: 0.5382 - mae: 0.5382\n",
            "Epoch 214/500\n",
            "2/2 [==============================] - 0s 7ms/step - loss: 0.5373 - mae: 0.5373\n",
            "Epoch 215/500\n",
            "2/2 [==============================] - 0s 8ms/step - loss: 0.4907 - mae: 0.4907\n",
            "Epoch 216/500\n",
            "2/2 [==============================] - 0s 8ms/step - loss: 0.6667 - mae: 0.6667\n",
            "Epoch 217/500\n",
            "2/2 [==============================] - 0s 8ms/step - loss: 0.5346 - mae: 0.5346\n",
            "Epoch 218/500\n",
            "2/2 [==============================] - 0s 8ms/step - loss: 0.5952 - mae: 0.5952\n",
            "Epoch 219/500\n",
            "2/2 [==============================] - 0s 13ms/step - loss: 0.9552 - mae: 0.9552\n",
            "Epoch 220/500\n",
            "2/2 [==============================] - 0s 12ms/step - loss: 0.3760 - mae: 0.3760\n",
            "Epoch 221/500\n",
            "2/2 [==============================] - 0s 8ms/step - loss: 1.4437 - mae: 1.4437\n",
            "Epoch 222/500\n",
            "2/2 [==============================] - 0s 8ms/step - loss: 1.1940 - mae: 1.1940\n",
            "Epoch 223/500\n",
            "2/2 [==============================] - 0s 10ms/step - loss: 1.5482 - mae: 1.5482\n",
            "Epoch 224/500\n",
            "2/2 [==============================] - 0s 6ms/step - loss: 0.9780 - mae: 0.9780\n",
            "Epoch 225/500\n",
            "2/2 [==============================] - 0s 12ms/step - loss: 1.2122 - mae: 1.2122\n",
            "Epoch 226/500\n",
            "2/2 [==============================] - 0s 9ms/step - loss: 1.4269 - mae: 1.4269\n",
            "Epoch 227/500\n",
            "2/2 [==============================] - 0s 7ms/step - loss: 0.7429 - mae: 0.7429\n",
            "Epoch 228/500\n",
            "2/2 [==============================] - 0s 8ms/step - loss: 1.3341 - mae: 1.3341\n",
            "Epoch 229/500\n",
            "2/2 [==============================] - 0s 8ms/step - loss: 0.4976 - mae: 0.4976\n",
            "Epoch 230/500\n",
            "2/2 [==============================] - 0s 9ms/step - loss: 0.9694 - mae: 0.9694\n",
            "Epoch 231/500\n",
            "2/2 [==============================] - 0s 10ms/step - loss: 1.1873 - mae: 1.1873\n",
            "Epoch 232/500\n",
            "2/2 [==============================] - 0s 8ms/step - loss: 0.5229 - mae: 0.5229\n",
            "Epoch 233/500\n",
            "2/2 [==============================] - 0s 8ms/step - loss: 1.1290 - mae: 1.1290\n",
            "Epoch 234/500\n",
            "2/2 [==============================] - 0s 8ms/step - loss: 0.6471 - mae: 0.6471\n",
            "Epoch 235/500\n",
            "2/2 [==============================] - 0s 12ms/step - loss: 1.0901 - mae: 1.0901\n",
            "Epoch 236/500\n",
            "2/2 [==============================] - 0s 8ms/step - loss: 0.6463 - mae: 0.6463\n",
            "Epoch 237/500\n",
            "2/2 [==============================] - 0s 9ms/step - loss: 0.6502 - mae: 0.6502\n",
            "Epoch 238/500\n",
            "2/2 [==============================] - 0s 8ms/step - loss: 0.6352 - mae: 0.6352\n",
            "Epoch 239/500\n",
            "2/2 [==============================] - 0s 10ms/step - loss: 0.5262 - mae: 0.5262\n",
            "Epoch 240/500\n",
            "2/2 [==============================] - 0s 8ms/step - loss: 0.4225 - mae: 0.4225\n",
            "Epoch 241/500\n",
            "2/2 [==============================] - 0s 10ms/step - loss: 0.5984 - mae: 0.5984\n",
            "Epoch 242/500\n",
            "2/2 [==============================] - 0s 9ms/step - loss: 0.7639 - mae: 0.7639\n",
            "Epoch 243/500\n",
            "2/2 [==============================] - 0s 8ms/step - loss: 0.5745 - mae: 0.5745\n",
            "Epoch 244/500\n",
            "2/2 [==============================] - 0s 8ms/step - loss: 0.8330 - mae: 0.8330\n",
            "Epoch 245/500\n",
            "2/2 [==============================] - 0s 16ms/step - loss: 0.4415 - mae: 0.4415\n",
            "Epoch 246/500\n",
            "2/2 [==============================] - 0s 9ms/step - loss: 0.5892 - mae: 0.5892\n",
            "Epoch 247/500\n",
            "2/2 [==============================] - 0s 8ms/step - loss: 1.1306 - mae: 1.1306\n",
            "Epoch 248/500\n",
            "2/2 [==============================] - 0s 8ms/step - loss: 0.7108 - mae: 0.7108\n",
            "Epoch 249/500\n",
            "2/2 [==============================] - 0s 10ms/step - loss: 0.6674 - mae: 0.6674\n",
            "Epoch 250/500\n",
            "2/2 [==============================] - 0s 8ms/step - loss: 0.4988 - mae: 0.4988\n",
            "Epoch 251/500\n",
            "2/2 [==============================] - 0s 12ms/step - loss: 0.6783 - mae: 0.6783\n",
            "Epoch 252/500\n",
            "2/2 [==============================] - 0s 8ms/step - loss: 0.9512 - mae: 0.9512\n",
            "Epoch 253/500\n",
            "2/2 [==============================] - 0s 9ms/step - loss: 1.0496 - mae: 1.0496\n",
            "Epoch 254/500\n",
            "2/2 [==============================] - 0s 8ms/step - loss: 0.5122 - mae: 0.5122\n",
            "Epoch 255/500\n",
            "2/2 [==============================] - 0s 9ms/step - loss: 0.5296 - mae: 0.5296\n",
            "Epoch 256/500\n",
            "2/2 [==============================] - 0s 8ms/step - loss: 0.6470 - mae: 0.6470\n",
            "Epoch 257/500\n",
            "2/2 [==============================] - 0s 8ms/step - loss: 0.5091 - mae: 0.5091\n",
            "Epoch 258/500\n",
            "2/2 [==============================] - 0s 8ms/step - loss: 0.5481 - mae: 0.5481\n",
            "Epoch 259/500\n",
            "2/2 [==============================] - 0s 8ms/step - loss: 0.6003 - mae: 0.6003\n",
            "Epoch 260/500\n",
            "2/2 [==============================] - 0s 8ms/step - loss: 0.3774 - mae: 0.3774\n",
            "Epoch 261/500\n",
            "2/2 [==============================] - 0s 15ms/step - loss: 0.9634 - mae: 0.9634\n",
            "Epoch 262/500\n",
            "2/2 [==============================] - 0s 7ms/step - loss: 0.7007 - mae: 0.7007\n",
            "Epoch 263/500\n",
            "2/2 [==============================] - 0s 8ms/step - loss: 0.8369 - mae: 0.8369\n",
            "Epoch 264/500\n",
            "2/2 [==============================] - 0s 8ms/step - loss: 1.2576 - mae: 1.2576\n",
            "Epoch 265/500\n",
            "2/2 [==============================] - 0s 10ms/step - loss: 1.0259 - mae: 1.0259\n",
            "Epoch 266/500\n",
            "2/2 [==============================] - 0s 7ms/step - loss: 0.5374 - mae: 0.5374\n",
            "Epoch 267/500\n",
            "2/2 [==============================] - 0s 9ms/step - loss: 1.5619 - mae: 1.5619\n",
            "Epoch 268/500\n",
            "2/2 [==============================] - 0s 11ms/step - loss: 0.9571 - mae: 0.9571\n",
            "Epoch 269/500\n",
            "2/2 [==============================] - 0s 10ms/step - loss: 0.3487 - mae: 0.3487\n",
            "Epoch 270/500\n",
            "2/2 [==============================] - 0s 7ms/step - loss: 1.2171 - mae: 1.2171\n",
            "Epoch 271/500\n",
            "2/2 [==============================] - 0s 8ms/step - loss: 1.5570 - mae: 1.5570\n",
            "Epoch 272/500\n",
            "2/2 [==============================] - 0s 9ms/step - loss: 0.8804 - mae: 0.8804\n",
            "Epoch 273/500\n",
            "2/2 [==============================] - 0s 8ms/step - loss: 0.9063 - mae: 0.9063\n",
            "Epoch 274/500\n",
            "2/2 [==============================] - 0s 8ms/step - loss: 0.7501 - mae: 0.7501\n",
            "Epoch 275/500\n",
            "2/2 [==============================] - 0s 11ms/step - loss: 0.5661 - mae: 0.5661\n",
            "Epoch 276/500\n",
            "2/2 [==============================] - 0s 10ms/step - loss: 0.6175 - mae: 0.6175\n",
            "Epoch 277/500\n",
            "2/2 [==============================] - 0s 10ms/step - loss: 0.3729 - mae: 0.3729\n",
            "Epoch 278/500\n",
            "2/2 [==============================] - 0s 9ms/step - loss: 0.8256 - mae: 0.8256\n",
            "Epoch 279/500\n",
            "2/2 [==============================] - 0s 10ms/step - loss: 0.6384 - mae: 0.6384\n",
            "Epoch 280/500\n",
            "2/2 [==============================] - 0s 8ms/step - loss: 0.3835 - mae: 0.3835\n",
            "Epoch 281/500\n",
            "2/2 [==============================] - 0s 9ms/step - loss: 1.2416 - mae: 1.2416\n",
            "Epoch 282/500\n",
            "2/2 [==============================] - 0s 10ms/step - loss: 0.6589 - mae: 0.6589\n",
            "Epoch 283/500\n",
            "2/2 [==============================] - 0s 8ms/step - loss: 0.8724 - mae: 0.8724\n",
            "Epoch 284/500\n",
            "2/2 [==============================] - 0s 10ms/step - loss: 0.3925 - mae: 0.3925\n",
            "Epoch 285/500\n",
            "2/2 [==============================] - 0s 10ms/step - loss: 1.1349 - mae: 1.1349\n",
            "Epoch 286/500\n",
            "2/2 [==============================] - 0s 11ms/step - loss: 0.4233 - mae: 0.4233\n",
            "Epoch 287/500\n",
            "2/2 [==============================] - 0s 7ms/step - loss: 0.8460 - mae: 0.8460\n",
            "Epoch 288/500\n",
            "2/2 [==============================] - 0s 12ms/step - loss: 0.4955 - mae: 0.4955\n",
            "Epoch 289/500\n",
            "2/2 [==============================] - 0s 11ms/step - loss: 0.8521 - mae: 0.8521\n",
            "Epoch 290/500\n",
            "2/2 [==============================] - 0s 14ms/step - loss: 0.4707 - mae: 0.4707\n",
            "Epoch 291/500\n",
            "2/2 [==============================] - 0s 10ms/step - loss: 0.5698 - mae: 0.5698\n",
            "Epoch 292/500\n",
            "2/2 [==============================] - 0s 10ms/step - loss: 0.2917 - mae: 0.2917\n",
            "Epoch 293/500\n",
            "2/2 [==============================] - 0s 11ms/step - loss: 0.2767 - mae: 0.2767\n",
            "Epoch 294/500\n",
            "2/2 [==============================] - 0s 11ms/step - loss: 0.2685 - mae: 0.2685\n",
            "Epoch 295/500\n",
            "2/2 [==============================] - 0s 10ms/step - loss: 0.3327 - mae: 0.3327\n",
            "Epoch 296/500\n",
            "2/2 [==============================] - 0s 10ms/step - loss: 0.3351 - mae: 0.3351\n",
            "Epoch 297/500\n",
            "2/2 [==============================] - 0s 11ms/step - loss: 0.3801 - mae: 0.3801\n",
            "Epoch 298/500\n",
            "2/2 [==============================] - 0s 11ms/step - loss: 0.7432 - mae: 0.7432\n",
            "Epoch 299/500\n",
            "2/2 [==============================] - 0s 7ms/step - loss: 0.2937 - mae: 0.2937\n",
            "Epoch 300/500\n",
            "2/2 [==============================] - 0s 11ms/step - loss: 0.7865 - mae: 0.7865\n",
            "Epoch 301/500\n",
            "2/2 [==============================] - 0s 11ms/step - loss: 0.3032 - mae: 0.3032\n",
            "Epoch 302/500\n",
            "2/2 [==============================] - 0s 10ms/step - loss: 1.5386 - mae: 1.5386\n",
            "Epoch 303/500\n",
            "2/2 [==============================] - 0s 9ms/step - loss: 0.8025 - mae: 0.8025\n",
            "Epoch 304/500\n",
            "2/2 [==============================] - 0s 10ms/step - loss: 0.4782 - mae: 0.4782\n",
            "Epoch 305/500\n",
            "2/2 [==============================] - 0s 9ms/step - loss: 0.3246 - mae: 0.3246\n",
            "Epoch 306/500\n",
            "2/2 [==============================] - 0s 10ms/step - loss: 0.3318 - mae: 0.3318\n",
            "Epoch 307/500\n",
            "2/2 [==============================] - 0s 9ms/step - loss: 0.3138 - mae: 0.3138\n",
            "Epoch 308/500\n",
            "2/2 [==============================] - 0s 10ms/step - loss: 0.3038 - mae: 0.3038\n",
            "Epoch 309/500\n",
            "2/2 [==============================] - 0s 10ms/step - loss: 0.2247 - mae: 0.2247\n",
            "Epoch 310/500\n",
            "2/2 [==============================] - 0s 9ms/step - loss: 0.1810 - mae: 0.1810\n",
            "Epoch 311/500\n",
            "2/2 [==============================] - 0s 10ms/step - loss: 0.3382 - mae: 0.3382\n",
            "Epoch 312/500\n",
            "2/2 [==============================] - 0s 11ms/step - loss: 0.1954 - mae: 0.1954\n",
            "Epoch 313/500\n",
            "2/2 [==============================] - 0s 9ms/step - loss: 0.5095 - mae: 0.5095\n",
            "Epoch 314/500\n",
            "2/2 [==============================] - 0s 9ms/step - loss: 0.1984 - mae: 0.1984\n",
            "Epoch 315/500\n",
            "2/2 [==============================] - 0s 9ms/step - loss: 0.5525 - mae: 0.5525\n",
            "Epoch 316/500\n",
            "2/2 [==============================] - 0s 14ms/step - loss: 0.4120 - mae: 0.4120\n",
            "Epoch 317/500\n",
            "2/2 [==============================] - 0s 9ms/step - loss: 0.6671 - mae: 0.6671\n",
            "Epoch 318/500\n",
            "2/2 [==============================] - 0s 6ms/step - loss: 0.2682 - mae: 0.2682\n",
            "Epoch 319/500\n",
            "2/2 [==============================] - 0s 11ms/step - loss: 0.8198 - mae: 0.8198\n",
            "Epoch 320/500\n",
            "2/2 [==============================] - 0s 11ms/step - loss: 0.7869 - mae: 0.7869\n",
            "Epoch 321/500\n",
            "2/2 [==============================] - 0s 11ms/step - loss: 0.6442 - mae: 0.6442\n",
            "Epoch 322/500\n",
            "2/2 [==============================] - 0s 8ms/step - loss: 0.4682 - mae: 0.4682\n",
            "Epoch 323/500\n",
            "2/2 [==============================] - 0s 13ms/step - loss: 0.6889 - mae: 0.6889\n",
            "Epoch 324/500\n",
            "2/2 [==============================] - 0s 11ms/step - loss: 0.8696 - mae: 0.8696\n",
            "Epoch 325/500\n",
            "2/2 [==============================] - 0s 10ms/step - loss: 0.4969 - mae: 0.4969\n",
            "Epoch 326/500\n",
            "2/2 [==============================] - 0s 11ms/step - loss: 0.4231 - mae: 0.4231\n",
            "Epoch 327/500\n",
            "2/2 [==============================] - 0s 9ms/step - loss: 0.5441 - mae: 0.5441\n",
            "Epoch 328/500\n",
            "2/2 [==============================] - 0s 12ms/step - loss: 0.5306 - mae: 0.5306\n",
            "Epoch 329/500\n",
            "2/2 [==============================] - 0s 9ms/step - loss: 0.5602 - mae: 0.5602\n",
            "Epoch 330/500\n",
            "2/2 [==============================] - 0s 9ms/step - loss: 0.2781 - mae: 0.2781\n",
            "Epoch 331/500\n",
            "2/2 [==============================] - 0s 9ms/step - loss: 0.6048 - mae: 0.6048\n",
            "Epoch 332/500\n",
            "2/2 [==============================] - 0s 8ms/step - loss: 0.4451 - mae: 0.4451\n",
            "Epoch 333/500\n",
            "2/2 [==============================] - 0s 7ms/step - loss: 0.3459 - mae: 0.3459\n",
            "Epoch 334/500\n",
            "2/2 [==============================] - 0s 10ms/step - loss: 0.3911 - mae: 0.3911\n",
            "Epoch 335/500\n",
            "2/2 [==============================] - 0s 6ms/step - loss: 0.5890 - mae: 0.5890\n",
            "Epoch 336/500\n",
            "2/2 [==============================] - 0s 8ms/step - loss: 0.5615 - mae: 0.5615\n",
            "Epoch 337/500\n",
            "2/2 [==============================] - 0s 8ms/step - loss: 0.5648 - mae: 0.5648\n",
            "Epoch 338/500\n",
            "2/2 [==============================] - 0s 9ms/step - loss: 0.8523 - mae: 0.8523\n",
            "Epoch 339/500\n",
            "2/2 [==============================] - 0s 11ms/step - loss: 0.5710 - mae: 0.5710\n",
            "Epoch 340/500\n",
            "2/2 [==============================] - 0s 10ms/step - loss: 0.6731 - mae: 0.6731\n",
            "Epoch 341/500\n",
            "2/2 [==============================] - 0s 7ms/step - loss: 0.3292 - mae: 0.3292\n",
            "Epoch 342/500\n",
            "2/2 [==============================] - 0s 7ms/step - loss: 1.0474 - mae: 1.0474\n",
            "Epoch 343/500\n",
            "2/2 [==============================] - 0s 7ms/step - loss: 0.6301 - mae: 0.6301\n",
            "Epoch 344/500\n",
            "2/2 [==============================] - 0s 7ms/step - loss: 1.4638 - mae: 1.4638\n",
            "Epoch 345/500\n",
            "2/2 [==============================] - 0s 7ms/step - loss: 0.6509 - mae: 0.6509\n",
            "Epoch 346/500\n",
            "2/2 [==============================] - 0s 7ms/step - loss: 0.9134 - mae: 0.9134\n",
            "Epoch 347/500\n",
            "2/2 [==============================] - 0s 7ms/step - loss: 0.3444 - mae: 0.3444\n",
            "Epoch 348/500\n",
            "2/2 [==============================] - 0s 7ms/step - loss: 0.8342 - mae: 0.8342\n",
            "Epoch 349/500\n",
            "2/2 [==============================] - 0s 7ms/step - loss: 0.3944 - mae: 0.3944\n",
            "Epoch 350/500\n",
            "2/2 [==============================] - 0s 6ms/step - loss: 1.1161 - mae: 1.1161\n",
            "Epoch 351/500\n",
            "2/2 [==============================] - 0s 10ms/step - loss: 0.7576 - mae: 0.7576\n",
            "Epoch 352/500\n",
            "2/2 [==============================] - 0s 10ms/step - loss: 0.4084 - mae: 0.4084\n",
            "Epoch 353/500\n",
            "2/2 [==============================] - 0s 8ms/step - loss: 0.3894 - mae: 0.3894\n",
            "Epoch 354/500\n",
            "2/2 [==============================] - 0s 7ms/step - loss: 0.3160 - mae: 0.3160\n",
            "Epoch 355/500\n",
            "2/2 [==============================] - 0s 7ms/step - loss: 0.2915 - mae: 0.2915\n",
            "Epoch 356/500\n",
            "2/2 [==============================] - 0s 7ms/step - loss: 0.3082 - mae: 0.3082\n",
            "Epoch 357/500\n",
            "2/2 [==============================] - 0s 7ms/step - loss: 0.5877 - mae: 0.5877\n",
            "Epoch 358/500\n",
            "2/2 [==============================] - 0s 8ms/step - loss: 0.2886 - mae: 0.2886\n",
            "Epoch 359/500\n",
            "2/2 [==============================] - 0s 7ms/step - loss: 0.7105 - mae: 0.7105\n",
            "Epoch 360/500\n",
            "2/2 [==============================] - 0s 7ms/step - loss: 0.5710 - mae: 0.5710\n",
            "Epoch 361/500\n",
            "2/2 [==============================] - 0s 12ms/step - loss: 0.8000 - mae: 0.8000\n",
            "Epoch 362/500\n",
            "2/2 [==============================] - 0s 10ms/step - loss: 0.5759 - mae: 0.5759\n",
            "Epoch 363/500\n",
            "2/2 [==============================] - 0s 7ms/step - loss: 0.2076 - mae: 0.2076\n",
            "Epoch 364/500\n",
            "2/2 [==============================] - 0s 8ms/step - loss: 0.5516 - mae: 0.5516\n",
            "Epoch 365/500\n",
            "2/2 [==============================] - 0s 7ms/step - loss: 0.5576 - mae: 0.5576\n",
            "Epoch 366/500\n",
            "2/2 [==============================] - 0s 9ms/step - loss: 0.8151 - mae: 0.8151\n",
            "Epoch 367/500\n",
            "2/2 [==============================] - 0s 7ms/step - loss: 0.8491 - mae: 0.8491\n",
            "Epoch 368/500\n",
            "2/2 [==============================] - 0s 11ms/step - loss: 0.7938 - mae: 0.7938\n",
            "Epoch 369/500\n",
            "2/2 [==============================] - 0s 10ms/step - loss: 0.8855 - mae: 0.8855\n",
            "Epoch 370/500\n",
            "2/2 [==============================] - 0s 11ms/step - loss: 0.6282 - mae: 0.6282\n",
            "Epoch 371/500\n",
            "2/2 [==============================] - 0s 7ms/step - loss: 1.3374 - mae: 1.3374\n",
            "Epoch 372/500\n",
            "2/2 [==============================] - 0s 8ms/step - loss: 0.5587 - mae: 0.5587\n",
            "Epoch 373/500\n",
            "2/2 [==============================] - 0s 8ms/step - loss: 0.9347 - mae: 0.9347\n",
            "Epoch 374/500\n",
            "2/2 [==============================] - 0s 8ms/step - loss: 0.5399 - mae: 0.5399\n",
            "Epoch 375/500\n",
            "2/2 [==============================] - 0s 8ms/step - loss: 0.4372 - mae: 0.4372\n",
            "Epoch 376/500\n",
            "2/2 [==============================] - 0s 9ms/step - loss: 0.5405 - mae: 0.5405\n",
            "Epoch 377/500\n",
            "2/2 [==============================] - 0s 11ms/step - loss: 0.2491 - mae: 0.2491\n",
            "Epoch 378/500\n",
            "2/2 [==============================] - 0s 9ms/step - loss: 0.3833 - mae: 0.3833\n",
            "Epoch 379/500\n",
            "2/2 [==============================] - 0s 11ms/step - loss: 0.3474 - mae: 0.3474\n",
            "Epoch 380/500\n",
            "2/2 [==============================] - 0s 11ms/step - loss: 0.1809 - mae: 0.1809\n",
            "Epoch 381/500\n",
            "2/2 [==============================] - 0s 12ms/step - loss: 0.1660 - mae: 0.1660\n",
            "Epoch 382/500\n",
            "2/2 [==============================] - 0s 6ms/step - loss: 0.3827 - mae: 0.3827\n",
            "Epoch 383/500\n",
            "2/2 [==============================] - 0s 9ms/step - loss: 0.2309 - mae: 0.2309\n",
            "Epoch 384/500\n",
            "2/2 [==============================] - 0s 9ms/step - loss: 0.5827 - mae: 0.5827\n",
            "Epoch 385/500\n",
            "2/2 [==============================] - 0s 8ms/step - loss: 0.3562 - mae: 0.3562\n",
            "Epoch 386/500\n",
            "2/2 [==============================] - 0s 9ms/step - loss: 0.4544 - mae: 0.4544\n",
            "Epoch 387/500\n",
            "2/2 [==============================] - 0s 9ms/step - loss: 0.7669 - mae: 0.7669\n",
            "Epoch 388/500\n",
            "2/2 [==============================] - 0s 8ms/step - loss: 0.5782 - mae: 0.5782\n",
            "Epoch 389/500\n",
            "2/2 [==============================] - 0s 9ms/step - loss: 0.4855 - mae: 0.4855\n",
            "Epoch 390/500\n",
            "2/2 [==============================] - 0s 12ms/step - loss: 0.4414 - mae: 0.4414\n",
            "Epoch 391/500\n",
            "2/2 [==============================] - 0s 9ms/step - loss: 0.3231 - mae: 0.3231\n",
            "Epoch 392/500\n",
            "2/2 [==============================] - 0s 10ms/step - loss: 0.4215 - mae: 0.4215\n",
            "Epoch 393/500\n",
            "2/2 [==============================] - 0s 11ms/step - loss: 0.4877 - mae: 0.4877\n",
            "Epoch 394/500\n",
            "2/2 [==============================] - 0s 12ms/step - loss: 0.3652 - mae: 0.3652\n",
            "Epoch 395/500\n",
            "2/2 [==============================] - 0s 10ms/step - loss: 0.3699 - mae: 0.3699\n",
            "Epoch 396/500\n",
            "2/2 [==============================] - 0s 11ms/step - loss: 0.2848 - mae: 0.2848\n",
            "Epoch 397/500\n",
            "2/2 [==============================] - 0s 10ms/step - loss: 0.3931 - mae: 0.3931\n",
            "Epoch 398/500\n",
            "2/2 [==============================] - 0s 8ms/step - loss: 0.5673 - mae: 0.5673\n",
            "Epoch 399/500\n",
            "2/2 [==============================] - 0s 13ms/step - loss: 0.4438 - mae: 0.4438\n",
            "Epoch 400/500\n",
            "2/2 [==============================] - 0s 9ms/step - loss: 0.5740 - mae: 0.5740\n",
            "Epoch 401/500\n",
            "2/2 [==============================] - 0s 8ms/step - loss: 0.4506 - mae: 0.4506\n",
            "Epoch 402/500\n",
            "2/2 [==============================] - 0s 11ms/step - loss: 0.3178 - mae: 0.3178\n",
            "Epoch 403/500\n",
            "2/2 [==============================] - 0s 11ms/step - loss: 0.5952 - mae: 0.5952\n",
            "Epoch 404/500\n",
            "2/2 [==============================] - 0s 7ms/step - loss: 0.7082 - mae: 0.7082\n",
            "Epoch 405/500\n",
            "2/2 [==============================] - 0s 7ms/step - loss: 0.6792 - mae: 0.6792\n",
            "Epoch 406/500\n",
            "2/2 [==============================] - 0s 16ms/step - loss: 0.5249 - mae: 0.5249\n",
            "Epoch 407/500\n",
            "2/2 [==============================] - 0s 8ms/step - loss: 0.5968 - mae: 0.5968\n",
            "Epoch 408/500\n",
            "2/2 [==============================] - 0s 11ms/step - loss: 0.5554 - mae: 0.5554\n",
            "Epoch 409/500\n",
            "2/2 [==============================] - 0s 11ms/step - loss: 0.2533 - mae: 0.2533\n",
            "Epoch 410/500\n",
            "2/2 [==============================] - 0s 8ms/step - loss: 0.4245 - mae: 0.4245\n",
            "Epoch 411/500\n",
            "2/2 [==============================] - 0s 8ms/step - loss: 0.1939 - mae: 0.1939\n",
            "Epoch 412/500\n",
            "2/2 [==============================] - 0s 11ms/step - loss: 0.4085 - mae: 0.4085\n",
            "Epoch 413/500\n",
            "2/2 [==============================] - 0s 11ms/step - loss: 0.2685 - mae: 0.2685\n",
            "Epoch 414/500\n",
            "2/2 [==============================] - 0s 11ms/step - loss: 0.3962 - mae: 0.3962\n",
            "Epoch 415/500\n",
            "2/2 [==============================] - 0s 13ms/step - loss: 0.5871 - mae: 0.5871\n",
            "Epoch 416/500\n",
            "2/2 [==============================] - 0s 9ms/step - loss: 0.3602 - mae: 0.3602\n",
            "Epoch 417/500\n",
            "2/2 [==============================] - 0s 11ms/step - loss: 0.5356 - mae: 0.5356\n",
            "Epoch 418/500\n",
            "2/2 [==============================] - 0s 10ms/step - loss: 0.5523 - mae: 0.5523\n",
            "Epoch 419/500\n",
            "2/2 [==============================] - 0s 8ms/step - loss: 0.6447 - mae: 0.6447\n",
            "Epoch 420/500\n",
            "2/2 [==============================] - 0s 12ms/step - loss: 1.0261 - mae: 1.0261\n",
            "Epoch 421/500\n",
            "2/2 [==============================] - 0s 9ms/step - loss: 1.1473 - mae: 1.1473\n",
            "Epoch 422/500\n",
            "2/2 [==============================] - 0s 11ms/step - loss: 0.7994 - mae: 0.7994\n",
            "Epoch 423/500\n",
            "2/2 [==============================] - 0s 9ms/step - loss: 0.7151 - mae: 0.7151\n",
            "Epoch 424/500\n",
            "2/2 [==============================] - 0s 11ms/step - loss: 1.2014 - mae: 1.2014\n",
            "Epoch 425/500\n",
            "2/2 [==============================] - 0s 11ms/step - loss: 0.3872 - mae: 0.3872\n",
            "Epoch 426/500\n",
            "2/2 [==============================] - 0s 12ms/step - loss: 0.8229 - mae: 0.8229\n",
            "Epoch 427/500\n",
            "2/2 [==============================] - 0s 10ms/step - loss: 0.8279 - mae: 0.8279\n",
            "Epoch 428/500\n",
            "2/2 [==============================] - 0s 11ms/step - loss: 0.3253 - mae: 0.3253\n",
            "Epoch 429/500\n",
            "2/2 [==============================] - 0s 10ms/step - loss: 0.4334 - mae: 0.4334\n",
            "Epoch 430/500\n",
            "2/2 [==============================] - 0s 9ms/step - loss: 0.4138 - mae: 0.4138\n",
            "Epoch 431/500\n",
            "2/2 [==============================] - 0s 9ms/step - loss: 0.4251 - mae: 0.4251\n",
            "Epoch 432/500\n",
            "2/2 [==============================] - 0s 10ms/step - loss: 0.4031 - mae: 0.4031\n",
            "Epoch 433/500\n",
            "2/2 [==============================] - 0s 9ms/step - loss: 0.3154 - mae: 0.3154\n",
            "Epoch 434/500\n",
            "2/2 [==============================] - 0s 9ms/step - loss: 0.3036 - mae: 0.3036\n",
            "Epoch 435/500\n",
            "2/2 [==============================] - 0s 9ms/step - loss: 0.3954 - mae: 0.3954\n",
            "Epoch 436/500\n",
            "2/2 [==============================] - 0s 8ms/step - loss: 0.8277 - mae: 0.8277\n",
            "Epoch 437/500\n",
            "2/2 [==============================] - 0s 9ms/step - loss: 0.8123 - mae: 0.8123\n",
            "Epoch 438/500\n",
            "2/2 [==============================] - 0s 8ms/step - loss: 0.6568 - mae: 0.6568\n",
            "Epoch 439/500\n",
            "2/2 [==============================] - 0s 10ms/step - loss: 0.3418 - mae: 0.3418\n",
            "Epoch 440/500\n",
            "2/2 [==============================] - 0s 12ms/step - loss: 0.3967 - mae: 0.3967\n",
            "Epoch 441/500\n",
            "2/2 [==============================] - 0s 10ms/step - loss: 0.6413 - mae: 0.6413\n",
            "Epoch 442/500\n",
            "2/2 [==============================] - 0s 9ms/step - loss: 0.8871 - mae: 0.8871\n",
            "Epoch 443/500\n",
            "2/2 [==============================] - 0s 8ms/step - loss: 1.1980 - mae: 1.1980\n",
            "Epoch 444/500\n",
            "2/2 [==============================] - 0s 9ms/step - loss: 0.2105 - mae: 0.2105\n",
            "Epoch 445/500\n",
            "2/2 [==============================] - 0s 11ms/step - loss: 1.1915 - mae: 1.1915\n",
            "Epoch 446/500\n",
            "2/2 [==============================] - 0s 10ms/step - loss: 0.8647 - mae: 0.8647\n",
            "Epoch 447/500\n",
            "2/2 [==============================] - 0s 10ms/step - loss: 0.6582 - mae: 0.6582\n",
            "Epoch 448/500\n",
            "2/2 [==============================] - 0s 9ms/step - loss: 0.7743 - mae: 0.7743\n",
            "Epoch 449/500\n",
            "2/2 [==============================] - 0s 9ms/step - loss: 0.4184 - mae: 0.4184\n",
            "Epoch 450/500\n",
            "2/2 [==============================] - 0s 9ms/step - loss: 0.5279 - mae: 0.5279\n",
            "Epoch 451/500\n",
            "2/2 [==============================] - 0s 9ms/step - loss: 0.5051 - mae: 0.5051\n",
            "Epoch 452/500\n",
            "2/2 [==============================] - 0s 8ms/step - loss: 0.4078 - mae: 0.4078\n",
            "Epoch 453/500\n",
            "2/2 [==============================] - 0s 9ms/step - loss: 0.7764 - mae: 0.7764\n",
            "Epoch 454/500\n",
            "2/2 [==============================] - 0s 7ms/step - loss: 0.7284 - mae: 0.7284\n",
            "Epoch 455/500\n",
            "2/2 [==============================] - 0s 6ms/step - loss: 0.5371 - mae: 0.5371\n",
            "Epoch 456/500\n",
            "2/2 [==============================] - 0s 7ms/step - loss: 1.0574 - mae: 1.0574\n",
            "Epoch 457/500\n",
            "2/2 [==============================] - 0s 7ms/step - loss: 0.5715 - mae: 0.5715\n",
            "Epoch 458/500\n",
            "2/2 [==============================] - 0s 11ms/step - loss: 0.8326 - mae: 0.8326\n",
            "Epoch 459/500\n",
            "2/2 [==============================] - 0s 9ms/step - loss: 0.6044 - mae: 0.6044\n",
            "Epoch 460/500\n",
            "2/2 [==============================] - 0s 6ms/step - loss: 0.4994 - mae: 0.4994\n",
            "Epoch 461/500\n",
            "2/2 [==============================] - 0s 8ms/step - loss: 0.5093 - mae: 0.5093\n",
            "Epoch 462/500\n",
            "2/2 [==============================] - 0s 9ms/step - loss: 0.4656 - mae: 0.4656\n",
            "Epoch 463/500\n",
            "2/2 [==============================] - 0s 8ms/step - loss: 0.4607 - mae: 0.4607\n",
            "Epoch 464/500\n",
            "2/2 [==============================] - 0s 10ms/step - loss: 0.5285 - mae: 0.5285\n",
            "Epoch 465/500\n",
            "2/2 [==============================] - 0s 8ms/step - loss: 0.7583 - mae: 0.7583\n",
            "Epoch 466/500\n",
            "2/2 [==============================] - 0s 10ms/step - loss: 0.7852 - mae: 0.7852\n",
            "Epoch 467/500\n",
            "2/2 [==============================] - 0s 7ms/step - loss: 0.6578 - mae: 0.6578\n",
            "Epoch 468/500\n",
            "2/2 [==============================] - 0s 8ms/step - loss: 0.7028 - mae: 0.7028\n",
            "Epoch 469/500\n",
            "2/2 [==============================] - 0s 9ms/step - loss: 0.3212 - mae: 0.3212\n",
            "Epoch 470/500\n",
            "2/2 [==============================] - 0s 11ms/step - loss: 0.5402 - mae: 0.5402\n",
            "Epoch 471/500\n",
            "2/2 [==============================] - 0s 10ms/step - loss: 0.7016 - mae: 0.7016\n",
            "Epoch 472/500\n",
            "2/2 [==============================] - 0s 10ms/step - loss: 0.3248 - mae: 0.3248\n",
            "Epoch 473/500\n",
            "2/2 [==============================] - 0s 10ms/step - loss: 0.3546 - mae: 0.3546\n",
            "Epoch 474/500\n",
            "2/2 [==============================] - 0s 10ms/step - loss: 0.3601 - mae: 0.3601\n",
            "Epoch 475/500\n",
            "2/2 [==============================] - 0s 8ms/step - loss: 0.6059 - mae: 0.6059\n",
            "Epoch 476/500\n",
            "2/2 [==============================] - 0s 9ms/step - loss: 0.2564 - mae: 0.2564\n",
            "Epoch 477/500\n",
            "2/2 [==============================] - 0s 7ms/step - loss: 0.4073 - mae: 0.4073\n",
            "Epoch 478/500\n",
            "2/2 [==============================] - 0s 10ms/step - loss: 0.2490 - mae: 0.2490\n",
            "Epoch 479/500\n",
            "2/2 [==============================] - 0s 11ms/step - loss: 0.5765 - mae: 0.5765\n",
            "Epoch 480/500\n",
            "2/2 [==============================] - 0s 10ms/step - loss: 0.3984 - mae: 0.3984\n",
            "Epoch 481/500\n",
            "2/2 [==============================] - 0s 10ms/step - loss: 0.2887 - mae: 0.2887\n",
            "Epoch 482/500\n",
            "2/2 [==============================] - 0s 11ms/step - loss: 0.5321 - mae: 0.5321\n",
            "Epoch 483/500\n",
            "2/2 [==============================] - 0s 11ms/step - loss: 0.2155 - mae: 0.2155\n",
            "Epoch 484/500\n",
            "2/2 [==============================] - 0s 7ms/step - loss: 0.4045 - mae: 0.4045\n",
            "Epoch 485/500\n",
            "2/2 [==============================] - 0s 8ms/step - loss: 0.1171 - mae: 0.1171\n",
            "Epoch 486/500\n",
            "2/2 [==============================] - 0s 8ms/step - loss: 0.7563 - mae: 0.7563\n",
            "Epoch 487/500\n",
            "2/2 [==============================] - 0s 8ms/step - loss: 0.7371 - mae: 0.7371\n",
            "Epoch 488/500\n",
            "2/2 [==============================] - 0s 9ms/step - loss: 0.6788 - mae: 0.6788\n",
            "Epoch 489/500\n",
            "2/2 [==============================] - 0s 8ms/step - loss: 0.4279 - mae: 0.4279\n",
            "Epoch 490/500\n",
            "2/2 [==============================] - 0s 8ms/step - loss: 0.6621 - mae: 0.6621\n",
            "Epoch 491/500\n",
            "2/2 [==============================] - 0s 8ms/step - loss: 0.3509 - mae: 0.3509\n",
            "Epoch 492/500\n",
            "2/2 [==============================] - 0s 10ms/step - loss: 0.2406 - mae: 0.2406\n",
            "Epoch 493/500\n",
            "2/2 [==============================] - 0s 9ms/step - loss: 0.4433 - mae: 0.4433\n",
            "Epoch 494/500\n",
            "2/2 [==============================] - 0s 9ms/step - loss: 0.2590 - mae: 0.2590\n",
            "Epoch 495/500\n",
            "2/2 [==============================] - 0s 7ms/step - loss: 0.1317 - mae: 0.1317\n",
            "Epoch 496/500\n",
            "2/2 [==============================] - 0s 9ms/step - loss: 0.1799 - mae: 0.1799\n",
            "Epoch 497/500\n",
            "2/2 [==============================] - 0s 10ms/step - loss: 0.2695 - mae: 0.2695\n",
            "Epoch 498/500\n",
            "2/2 [==============================] - 0s 12ms/step - loss: 0.2437 - mae: 0.2437\n",
            "Epoch 499/500\n",
            "2/2 [==============================] - 0s 9ms/step - loss: 0.6027 - mae: 0.6027\n",
            "Epoch 500/500\n",
            "2/2 [==============================] - 0s 10ms/step - loss: 0.6012 - mae: 0.6012\n"
          ]
        },
        {
          "output_type": "execute_result",
          "data": {
            "text/plain": [
              "<keras.callbacks.History at 0x7f0d801208b0>"
            ]
          },
          "metadata": {},
          "execution_count": 25
        }
      ],
      "source": [
        "tf.random.set_seed(42)\n",
        "\n",
        "# Create Model\n",
        "model_2 = tf.keras.Sequential([\n",
        "    tf.keras.layers.Dense(100, activation=\"relu\"),\n",
        "    tf.keras.layers.Dense(100, activation=\"relu\"),\n",
        "    tf.keras.layers.Dense(100, activation=\"relu\"),\n",
        "    tf.keras.layers.Dense(1)\n",
        "])\n",
        "\n",
        "# Compile Model\n",
        "model_2.compile(loss = tf.keras.losses.mae,\n",
        "                optimizer = tf.keras.optimizers.Adam(learning_rate=0.001),\n",
        "                metrics=[\"mae\"])\n",
        "\n",
        "# Fitting Model\n",
        "model_2.fit(tf.expand_dims(X_train, axis = 1), y_train, epochs = 500)"
      ]
    },
    {
      "cell_type": "code",
      "execution_count": 26,
      "metadata": {
        "colab": {
          "base_uri": "https://localhost:8080/"
        },
        "id": "VqAke2y-q5h5",
        "outputId": "6d3bb752-cc5d-424a-b578-5fd7eca67bb5"
      },
      "outputs": [
        {
          "output_type": "execute_result",
          "data": {
            "text/plain": [
              "(<tf.Tensor: shape=(10,), dtype=int32, numpy=array([60, 64, 68, 72, 76, 80, 84, 88, 92, 96], dtype=int32)>,\n",
              " <tf.Tensor: shape=(10,), dtype=int32, numpy=array([ 70,  74,  78,  82,  86,  90,  94,  98, 102, 106], dtype=int32)>)"
            ]
          },
          "metadata": {},
          "execution_count": 26
        }
      ],
      "source": [
        "# Actual values\n",
        "X_test, y_test"
      ]
    },
    {
      "cell_type": "code",
      "execution_count": 27,
      "metadata": {
        "colab": {
          "base_uri": "https://localhost:8080/"
        },
        "id": "Ov4gf1mDn0C9",
        "outputId": "35658bcf-9085-49c8-b8de-4e8999789936"
      },
      "outputs": [
        {
          "output_type": "stream",
          "name": "stderr",
          "text": [
            "WARNING:tensorflow:Layers in a Sequential model should only have a single input tensor. Received: inputs=(<tf.Tensor 'IteratorGetNext:0' shape=(None,) dtype=int32>,). Consider rewriting this model with the Functional API.\n"
          ]
        },
        {
          "output_type": "stream",
          "name": "stdout",
          "text": [
            "1/1 [==============================] - 0s 100ms/step\n"
          ]
        },
        {
          "output_type": "execute_result",
          "data": {
            "text/plain": [
              "array([[ 70.82724 ],\n",
              "       [ 74.8872  ],\n",
              "       [ 78.94716 ],\n",
              "       [ 83.007126],\n",
              "       [ 87.0671  ],\n",
              "       [ 91.12707 ],\n",
              "       [ 95.18703 ],\n",
              "       [ 99.24698 ],\n",
              "       [103.30926 ],\n",
              "       [107.38887 ]], dtype=float32)"
            ]
          },
          "metadata": {},
          "execution_count": 27
        }
      ],
      "source": [
        "# Testing\n",
        "y_pred = model_2.predict([X_test])\n",
        "y_pred"
      ]
    },
    {
      "cell_type": "code",
      "execution_count": 28,
      "metadata": {
        "colab": {
          "base_uri": "https://localhost:8080/",
          "height": 283
        },
        "id": "njBp2NXjoLMC",
        "outputId": "73d98c5e-dd01-4f3d-efa4-8388c7b30d48"
      },
      "outputs": [
        {
          "output_type": "execute_result",
          "data": {
            "text/plain": [
              "<matplotlib.collections.PathCollection at 0x7f0d80171340>"
            ]
          },
          "metadata": {},
          "execution_count": 28
        },
        {
          "output_type": "display_data",
          "data": {
            "text/plain": [
              "<Figure size 432x288 with 1 Axes>"
            ],
            "image/png": "[encoded data removed]"
          },
          "metadata": {
            "needs_background": "light"
          }
        }
      ],
      "source": [
        "plt.scatter(X_test, y_pred)"
      ]
    },
    {
      "cell_type": "code",
      "execution_count": 29,
      "metadata": {
        "id": "Zirix-WGvjHQ"
      },
      "outputs": [],
      "source": [
        "# Creating a model that builds automatically by defining the input_shape argument\n",
        "import tensorflow as tf\n",
        "tf.random.set_seed(42)\n",
        "\n",
        "# Create a model\n",
        "model = tf.keras.Sequential([\n",
        "    # tf.keras.layers.Dense(100, activation = \"relu\"),\n",
        "    tf.keras.layers.Dense(100, input_shape=[1], name = \"input_layer\"),\n",
        "    tf.keras.layers.Dense(100, input_shape=[1], name = \"hidden_layer\"),\n",
        "    tf.keras.layers.Dense(1, name = \"output_layer\")\n",
        "], name = \"model_1\")\n",
        "\n",
        "model.compile(loss = tf.keras.losses.mse,\n",
        "              optimizer = tf.keras.optimizers.Adam(learning_rate = 0.01),\n",
        "              metrics = [\"mse\"])\n",
        "\n",
        "# model.fit(tf.expand_dims(X_train, axis = 1), y_train, epochs = 100)"
      ]
    },
    {
      "cell_type": "code",
      "execution_count": 30,
      "metadata": {
        "colab": {
          "base_uri": "https://localhost:8080/"
        },
        "id": "6C7m7GQWvxYK",
        "outputId": "865c95a8-329b-4e45-826b-98af8e814f7d"
      },
      "outputs": [
        {
          "output_type": "stream",
          "name": "stdout",
          "text": [
            "Model: \"model_1\"\n",
            "_________________________________________________________________\n",
            " Layer (type)                Output Shape              Param #   \n",
            "=================================================================\n",
            " input_layer (Dense)         (None, 100)               200       \n",
            "                                                                 \n",
            " hidden_layer (Dense)        (None, 100)               10100     \n",
            "                                                                 \n",
            " output_layer (Dense)        (None, 1)                 101       \n",
            "                                                                 \n",
            "=================================================================\n",
            "Total params: 10,401\n",
            "Trainable params: 10,401\n",
            "Non-trainable params: 0\n",
            "_________________________________________________________________\n"
          ]
        }
      ],
      "source": [
        "model.summary()"
      ]
    },
    {
      "cell_type": "markdown",
      "metadata": {
        "id": "I1qEJ4Jbyg9L"
      },
      "source": [
        "## **What is that summary!**\n",
        "Total Params - Total number of parameters in the model.\n",
        "\n",
        "Trainable params - Parameters the model can update as it trains.\n",
        "\n",
        "Non-trainable params - These are the parameters aren't updated while training."
      ]
    },
    {
      "cell_type": "code",
      "execution_count": 31,
      "metadata": {
        "colab": {
          "base_uri": "https://localhost:8080/"
        },
        "id": "O2tTtVMnxsQm",
        "outputId": "c6157b07-0498-4fa3-f797-83800cb8641a"
      },
      "outputs": [
        {
          "output_type": "execute_result",
          "data": {
            "text/plain": [
              "<keras.callbacks.History at 0x7f0d104f3880>"
            ]
          },
          "metadata": {},
          "execution_count": 31
        }
      ],
      "source": [
        "model.fit(X_train, y_train, epochs = 200, verbose = 0)"
      ]
    },
    {
      "cell_type": "code",
      "execution_count": 32,
      "metadata": {
        "colab": {
          "base_uri": "https://localhost:8080/"
        },
        "id": "FiCODmY84LFC",
        "outputId": "60ffae47-cd8d-493d-9aa4-a2e8d44afdd5"
      },
      "outputs": [
        {
          "output_type": "execute_result",
          "data": {
            "text/plain": [
              "(<tf.Tensor: shape=(10,), dtype=int32, numpy=array([60, 64, 68, 72, 76, 80, 84, 88, 92, 96], dtype=int32)>,\n",
              " <tf.Tensor: shape=(10,), dtype=int32, numpy=array([ 70,  74,  78,  82,  86,  90,  94,  98, 102, 106], dtype=int32)>)"
            ]
          },
          "metadata": {},
          "execution_count": 32
        }
      ],
      "source": [
        "X_test, y_test"
      ]
    },
    {
      "cell_type": "code",
      "execution_count": 33,
      "metadata": {
        "colab": {
          "base_uri": "https://localhost:8080/"
        },
        "id": "UXW3_E9L4C3b",
        "outputId": "6679e0b2-184a-4557-c39b-f68a01c6d2e9"
      },
      "outputs": [
        {
          "output_type": "stream",
          "name": "stdout",
          "text": [
            "1/1 [==============================] - 0s 47ms/step\n"
          ]
        },
        {
          "output_type": "execute_result",
          "data": {
            "text/plain": [
              "array([[ 70.      ],\n",
              "       [ 74.00001 ],\n",
              "       [ 78.00001 ],\n",
              "       [ 82.00001 ],\n",
              "       [ 86.      ],\n",
              "       [ 90.00001 ],\n",
              "       [ 94.00001 ],\n",
              "       [ 98.000015],\n",
              "       [102.000015],\n",
              "       [106.000015]], dtype=float32)"
            ]
          },
          "metadata": {},
          "execution_count": 33
        }
      ],
      "source": [
        "y_pred = model.predict([X_test])\n",
        "y_pred"
      ]
    },
    {
      "cell_type": "code",
      "execution_count": 34,
      "metadata": {
        "colab": {
          "base_uri": "https://localhost:8080/"
        },
        "id": "MY-gzunD29jb",
        "outputId": "2c3d147a-27e0-45f0-f3be-d06ce187d833"
      },
      "outputs": [
        {
          "output_type": "stream",
          "name": "stdout",
          "text": [
            "Model: \"model_1\"\n",
            "_________________________________________________________________\n",
            " Layer (type)                Output Shape              Param #   \n",
            "=================================================================\n",
            " input_layer (Dense)         (None, 100)               200       \n",
            "                                                                 \n",
            " hidden_layer (Dense)        (None, 100)               10100     \n",
            "                                                                 \n",
            " output_layer (Dense)        (None, 1)                 101       \n",
            "                                                                 \n",
            "=================================================================\n",
            "Total params: 10,401\n",
            "Trainable params: 10,401\n",
            "Non-trainable params: 0\n",
            "_________________________________________________________________\n"
          ]
        }
      ],
      "source": [
        "model.summary()"
      ]
    },
    {
      "cell_type": "code",
      "execution_count": 35,
      "metadata": {
        "colab": {
          "base_uri": "https://localhost:8080/",
          "height": 422
        },
        "id": "xDHYNeRF2-wf",
        "outputId": "c02ea2b0-6198-48da-a933-6c94ab89520a"
      },
      "outputs": [
        {
          "output_type": "execute_result",
          "data": {
            "image/png": "[encoded data removed]",
            "text/plain": [
              "<IPython.core.display.Image object>"
            ]
          },
          "metadata": {},
          "execution_count": 35
        }
      ],
      "source": [
        "from tensorflow.keras.utils import plot_model\n",
        "plot_model(model = model, show_shapes = True)"
      ]
    },
    {
      "cell_type": "code",
      "execution_count": 36,
      "metadata": {
        "id": "bItzGkXZ35HC"
      },
      "outputs": [],
      "source": [
        "# Lets set a function for plotting\n",
        "def plot_predictions(train_data = X_train, train_labels = y_train, test_data = X_test, test_labels = y_test, predictions = y_pred):\n",
        "  plt.figure(figsize = (10, 7))\n",
        "  plt.scatter(train_data, train_labels, c = \"b\", label = \"Training Data\")\n",
        "  plt.scatter(test_data, test_labels, c = \"g\", label = \"Testing Data\")\n",
        "  plt.scatter(test_data, predictions, c = \"r\", label = \"Predictions\")\n",
        "  plt.legend()"
      ]
    },
    {
      "cell_type": "code",
      "execution_count": 37,
      "metadata": {
        "colab": {
          "base_uri": "https://localhost:8080/",
          "height": 428
        },
        "id": "ietRxLxF7y6H",
        "outputId": "ffa9c0fc-54a4-420f-d1f1-d7f9d0679a0f"
      },
      "outputs": [
        {
          "output_type": "display_data",
          "data": {
            "text/plain": [
              "<Figure size 720x504 with 1 Axes>"
            ],
            "image/png": "[encoded data removed]"
          },
          "metadata": {
            "needs_background": "light"
          }
        }
      ],
      "source": [
        "plot_predictions()"
      ]
    },
    {
      "cell_type": "markdown",
      "metadata": {
        "id": "-GVp19CS99Fn"
      },
      "source": [
        "## Evaluation using regression evaluation matrics.\n",
        "\n",
        "Here, we have two main metrices:\n",
        "\n",
        "1) MAE - Mean Absolute Error.\n",
        "\n",
        "2) MSE - Mean Square Error."
      ]
    },
    {
      "cell_type": "code",
      "execution_count": 38,
      "metadata": {
        "colab": {
          "base_uri": "https://localhost:8080/"
        },
        "id": "IqPL_535_2_R",
        "outputId": "0913d610-3372-4cb8-f21e-71f810ef7a52"
      },
      "outputs": [
        {
          "output_type": "stream",
          "name": "stdout",
          "text": [
            "1/1 [==============================] - 0s 132ms/step - loss: 9.8953e-11 - mse: 9.8953e-11\n"
          ]
        },
        {
          "output_type": "execute_result",
          "data": {
            "text/plain": [
              "[9.895302632845215e-11, 9.895302632845215e-11]"
            ]
          },
          "metadata": {},
          "execution_count": 38
        }
      ],
      "source": [
        "model.evaluate(X_test, y_test)"
      ]
    },
    {
      "cell_type": "code",
      "execution_count": 39,
      "metadata": {
        "colab": {
          "base_uri": "https://localhost:8080/"
        },
        "id": "g1uy5dlx_7lu",
        "outputId": "05c28b72-ea7e-489e-e75d-e77fb3810ce6"
      },
      "outputs": [
        {
          "output_type": "execute_result",
          "data": {
            "text/plain": [
              "array([[ 70.      ],\n",
              "       [ 74.00001 ],\n",
              "       [ 78.00001 ],\n",
              "       [ 82.00001 ],\n",
              "       [ 86.      ],\n",
              "       [ 90.00001 ],\n",
              "       [ 94.00001 ],\n",
              "       [ 98.000015],\n",
              "       [102.000015],\n",
              "       [106.000015]], dtype=float32)"
            ]
          },
          "metadata": {},
          "execution_count": 39
        }
      ],
      "source": [
        "y_pred"
      ]
    },
    {
      "cell_type": "code",
      "execution_count": 40,
      "metadata": {
        "colab": {
          "base_uri": "https://localhost:8080/"
        },
        "id": "ydm5hRNOAUV6",
        "outputId": "e857b782-407a-4311-fd71-61783a18d934"
      },
      "outputs": [
        {
          "output_type": "execute_result",
          "data": {
            "text/plain": [
              "<tf.Tensor: shape=(10,), dtype=int32, numpy=array([ 70,  74,  78,  82,  86,  90,  94,  98, 102, 106], dtype=int32)>"
            ]
          },
          "metadata": {},
          "execution_count": 40
        }
      ],
      "source": [
        "y_test"
      ]
    },
    {
      "cell_type": "code",
      "execution_count": 41,
      "metadata": {
        "colab": {
          "base_uri": "https://localhost:8080/"
        },
        "id": "C0AQ7bLqAVue",
        "outputId": "38d1051b-6c25-4975-a918-c9ee7967aa28"
      },
      "outputs": [
        {
          "output_type": "execute_result",
          "data": {
            "text/plain": [
              "<tf.Tensor: shape=(), dtype=int32, numpy=13>"
            ]
          },
          "metadata": {},
          "execution_count": 41
        }
      ],
      "source": [
        "mae = tf.reduce_mean(tf.abs(y_test - y_pred))\n",
        "mae"
      ]
    },
    {
      "cell_type": "code",
      "execution_count": 42,
      "metadata": {
        "colab": {
          "base_uri": "https://localhost:8080/"
        },
        "id": "zpU6lebG4JgZ",
        "outputId": "739b44e9-57c3-40b5-9e38-3b27d413905c"
      },
      "outputs": [
        {
          "output_type": "execute_result",
          "data": {
            "text/plain": [
              "<tf.Tensor: shape=(), dtype=float32, numpy=8.392334e-06>"
            ]
          },
          "metadata": {},
          "execution_count": 42
        }
      ],
      "source": [
        "tf.metrics.mean_absolute_error(y_test, tf.squeeze(y_pred))"
      ]
    },
    {
      "cell_type": "code",
      "execution_count": 43,
      "metadata": {
        "colab": {
          "base_uri": "https://localhost:8080/"
        },
        "id": "M2TQjj5G5juo",
        "outputId": "cf7a3828-5b6c-44d4-ddde-1d4d7ea55800"
      },
      "outputs": [
        {
          "output_type": "execute_result",
          "data": {
            "text/plain": [
              "<tf.Tensor: shape=(), dtype=float32, numpy=9.8953026e-11>"
            ]
          },
          "metadata": {},
          "execution_count": 43
        }
      ],
      "source": [
        "tf.metrics.mean_squared_error(y_test, tf.squeeze(y_pred))"
      ]
    },
    {
      "cell_type": "code",
      "execution_count": 44,
      "metadata": {
        "id": "x_bTrp7M6LQD"
      },
      "outputs": [],
      "source": [
        "def mae(y_test, y_pred):\n",
        "  return tf.metrics.mean_absolute_error(y_test, tf.squeeze(y_pred))\n",
        "\n",
        "def mse(y_test, y_pred):\n",
        "  return tf.metrics.mean_squared_error(y_test, tf.squeeze(y_pred))"
      ]
    },
    {
      "cell_type": "code",
      "execution_count": 45,
      "metadata": {
        "id": "BiMR_Zpc6cJf"
      },
      "outputs": [],
      "source": [
        "# Model 1\n",
        "tf.random.set_seed(42)\n",
        "\n",
        "# Create Model\n",
        "model_1 = tf.keras.Sequential([\n",
        "    tf.keras.layers.Dense(1)\n",
        "])\n",
        "\n",
        "model_1.compile(loss = tf.keras.losses.mae,\n",
        "                optimizer = tf.keras.optimizers.SGD(),\n",
        "                metrics = ['mae'])"
      ]
    },
    {
      "cell_type": "code",
      "execution_count": 46,
      "metadata": {
        "colab": {
          "base_uri": "https://localhost:8080/"
        },
        "id": "ZIa-kp4j8pf_",
        "outputId": "34730ed2-6662-4de8-a730-b5e81a2c57b4"
      },
      "outputs": [
        {
          "output_type": "stream",
          "name": "stdout",
          "text": [
            "Epoch 1/100\n",
            "2/2 [==============================] - 0s 10ms/step - loss: 85.6736 - mae: 85.6736\n",
            "Epoch 2/100\n",
            "2/2 [==============================] - 0s 6ms/step - loss: 50.2182 - mae: 50.2182\n",
            "Epoch 3/100\n",
            "2/2 [==============================] - 0s 7ms/step - loss: 15.3285 - mae: 15.3285\n",
            "Epoch 4/100\n",
            "2/2 [==============================] - 0s 8ms/step - loss: 8.0168 - mae: 8.0168\n",
            "Epoch 5/100\n",
            "2/2 [==============================] - 0s 7ms/step - loss: 10.2000 - mae: 10.2000\n",
            "Epoch 6/100\n",
            "2/2 [==============================] - 0s 6ms/step - loss: 9.4627 - mae: 9.4627\n",
            "Epoch 7/100\n",
            "2/2 [==============================] - 0s 6ms/step - loss: 8.6010 - mae: 8.6010\n",
            "Epoch 8/100\n",
            "2/2 [==============================] - 0s 6ms/step - loss: 9.0713 - mae: 9.0713\n",
            "Epoch 9/100\n",
            "2/2 [==============================] - 0s 6ms/step - loss: 18.7802 - mae: 18.7802\n",
            "Epoch 10/100\n",
            "2/2 [==============================] - 0s 7ms/step - loss: 10.1484 - mae: 10.1484\n",
            "Epoch 11/100\n",
            "2/2 [==============================] - 0s 6ms/step - loss: 8.4269 - mae: 8.4269\n",
            "Epoch 12/100\n",
            "2/2 [==============================] - 0s 6ms/step - loss: 10.6963 - mae: 10.6963\n",
            "Epoch 13/100\n",
            "2/2 [==============================] - 0s 6ms/step - loss: 9.8266 - mae: 9.8266\n",
            "Epoch 14/100\n",
            "2/2 [==============================] - 0s 6ms/step - loss: 16.0370 - mae: 16.0370\n",
            "Epoch 15/100\n",
            "2/2 [==============================] - 0s 8ms/step - loss: 11.4181 - mae: 11.4181\n",
            "Epoch 16/100\n",
            "2/2 [==============================] - 0s 6ms/step - loss: 8.5664 - mae: 8.5664\n",
            "Epoch 17/100\n",
            "2/2 [==============================] - 0s 6ms/step - loss: 13.6690 - mae: 13.6690\n",
            "Epoch 18/100\n",
            "2/2 [==============================] - 0s 6ms/step - loss: 11.4988 - mae: 11.4988\n",
            "Epoch 19/100\n",
            "2/2 [==============================] - 0s 6ms/step - loss: 17.9225 - mae: 17.9225\n",
            "Epoch 20/100\n",
            "2/2 [==============================] - 0s 7ms/step - loss: 15.0571 - mae: 15.0571\n",
            "Epoch 21/100\n",
            "2/2 [==============================] - 0s 6ms/step - loss: 10.9247 - mae: 10.9247\n",
            "Epoch 22/100\n",
            "2/2 [==============================] - 0s 6ms/step - loss: 8.6834 - mae: 8.6834\n",
            "Epoch 23/100\n",
            "2/2 [==============================] - 0s 6ms/step - loss: 9.6921 - mae: 9.6921\n",
            "Epoch 24/100\n",
            "2/2 [==============================] - 0s 6ms/step - loss: 8.6016 - mae: 8.6016\n",
            "Epoch 25/100\n",
            "2/2 [==============================] - 0s 7ms/step - loss: 11.5860 - mae: 11.5860\n",
            "Epoch 26/100\n",
            "2/2 [==============================] - 0s 6ms/step - loss: 15.1929 - mae: 15.1929\n",
            "Epoch 27/100\n",
            "2/2 [==============================] - 0s 7ms/step - loss: 12.0796 - mae: 12.0796\n",
            "Epoch 28/100\n",
            "2/2 [==============================] - 0s 6ms/step - loss: 13.3759 - mae: 13.3759\n",
            "Epoch 29/100\n",
            "2/2 [==============================] - 0s 9ms/step - loss: 9.6265 - mae: 9.6265\n",
            "Epoch 30/100\n",
            "2/2 [==============================] - 0s 6ms/step - loss: 17.1601 - mae: 17.1601\n",
            "Epoch 31/100\n",
            "2/2 [==============================] - 0s 7ms/step - loss: 22.9178 - mae: 22.9178\n",
            "Epoch 32/100\n",
            "2/2 [==============================] - 0s 16ms/step - loss: 7.9405 - mae: 7.9405\n",
            "Epoch 33/100\n",
            "2/2 [==============================] - 0s 6ms/step - loss: 14.1273 - mae: 14.1273\n",
            "Epoch 34/100\n",
            "2/2 [==============================] - 0s 6ms/step - loss: 12.3689 - mae: 12.3689\n",
            "Epoch 35/100\n",
            "2/2 [==============================] - 0s 6ms/step - loss: 8.2929 - mae: 8.2929\n",
            "Epoch 36/100\n",
            "2/2 [==============================] - 0s 6ms/step - loss: 10.5203 - mae: 10.5203\n",
            "Epoch 37/100\n",
            "2/2 [==============================] - 0s 16ms/step - loss: 10.1621 - mae: 10.1621\n",
            "Epoch 38/100\n",
            "2/2 [==============================] - 0s 6ms/step - loss: 11.3663 - mae: 11.3663\n",
            "Epoch 39/100\n",
            "2/2 [==============================] - 0s 7ms/step - loss: 14.7516 - mae: 14.7516\n",
            "Epoch 40/100\n",
            "2/2 [==============================] - 0s 6ms/step - loss: 12.8819 - mae: 12.8819\n",
            "Epoch 41/100\n",
            "2/2 [==============================] - 0s 6ms/step - loss: 9.2701 - mae: 9.2701\n",
            "Epoch 42/100\n",
            "2/2 [==============================] - 0s 6ms/step - loss: 11.0436 - mae: 11.0436\n",
            "Epoch 43/100\n",
            "2/2 [==============================] - 0s 7ms/step - loss: 8.3598 - mae: 8.3598\n",
            "Epoch 44/100\n",
            "2/2 [==============================] - 0s 6ms/step - loss: 13.0913 - mae: 13.0913\n",
            "Epoch 45/100\n",
            "2/2 [==============================] - 0s 10ms/step - loss: 13.6690 - mae: 13.6690\n",
            "Epoch 46/100\n",
            "2/2 [==============================] - 0s 7ms/step - loss: 8.2952 - mae: 8.2952\n",
            "Epoch 47/100\n",
            "2/2 [==============================] - 0s 6ms/step - loss: 8.7585 - mae: 8.7585\n",
            "Epoch 48/100\n",
            "2/2 [==============================] - 0s 10ms/step - loss: 10.0624 - mae: 10.0624\n",
            "Epoch 49/100\n",
            "2/2 [==============================] - 0s 6ms/step - loss: 8.5437 - mae: 8.5437\n",
            "Epoch 50/100\n",
            "2/2 [==============================] - 0s 7ms/step - loss: 9.0504 - mae: 9.0504\n",
            "Epoch 51/100\n",
            "2/2 [==============================] - 0s 10ms/step - loss: 9.4024 - mae: 9.4024\n",
            "Epoch 52/100\n",
            "2/2 [==============================] - 0s 6ms/step - loss: 14.2119 - mae: 14.2119\n",
            "Epoch 53/100\n",
            "2/2 [==============================] - 0s 8ms/step - loss: 14.8847 - mae: 14.8847\n",
            "Epoch 54/100\n",
            "2/2 [==============================] - 0s 7ms/step - loss: 14.8204 - mae: 14.8204\n",
            "Epoch 55/100\n",
            "2/2 [==============================] - 0s 7ms/step - loss: 12.6028 - mae: 12.6028\n",
            "Epoch 56/100\n",
            "2/2 [==============================] - 0s 8ms/step - loss: 7.6061 - mae: 7.6061\n",
            "Epoch 57/100\n",
            "2/2 [==============================] - 0s 6ms/step - loss: 8.8267 - mae: 8.8267\n",
            "Epoch 58/100\n",
            "2/2 [==============================] - 0s 7ms/step - loss: 8.4109 - mae: 8.4109\n",
            "Epoch 59/100\n",
            "2/2 [==============================] - 0s 7ms/step - loss: 9.2099 - mae: 9.2099\n",
            "Epoch 60/100\n",
            "2/2 [==============================] - 0s 7ms/step - loss: 9.1499 - mae: 9.1499\n",
            "Epoch 61/100\n",
            "2/2 [==============================] - 0s 8ms/step - loss: 10.6958 - mae: 10.6958\n",
            "Epoch 62/100\n",
            "2/2 [==============================] - 0s 10ms/step - loss: 7.4567 - mae: 7.4567\n",
            "Epoch 63/100\n",
            "2/2 [==============================] - 0s 6ms/step - loss: 10.5377 - mae: 10.5377\n",
            "Epoch 64/100\n",
            "2/2 [==============================] - 0s 6ms/step - loss: 12.1358 - mae: 12.1358\n",
            "Epoch 65/100\n",
            "2/2 [==============================] - 0s 7ms/step - loss: 9.4699 - mae: 9.4699\n",
            "Epoch 66/100\n",
            "2/2 [==============================] - 0s 7ms/step - loss: 11.5393 - mae: 11.5393\n",
            "Epoch 67/100\n",
            "2/2 [==============================] - 0s 6ms/step - loss: 8.0554 - mae: 8.0554\n",
            "Epoch 68/100\n",
            "2/2 [==============================] - 0s 6ms/step - loss: 8.5854 - mae: 8.5854\n",
            "Epoch 69/100\n",
            "2/2 [==============================] - 0s 7ms/step - loss: 12.2650 - mae: 12.2650\n",
            "Epoch 70/100\n",
            "2/2 [==============================] - 0s 7ms/step - loss: 8.9751 - mae: 8.9751\n",
            "Epoch 71/100\n",
            "2/2 [==============================] - 0s 8ms/step - loss: 9.9493 - mae: 9.9493\n",
            "Epoch 72/100\n",
            "2/2 [==============================] - 0s 6ms/step - loss: 9.9890 - mae: 9.9890\n",
            "Epoch 73/100\n",
            "2/2 [==============================] - 0s 7ms/step - loss: 12.4510 - mae: 12.4510\n",
            "Epoch 74/100\n",
            "2/2 [==============================] - 0s 6ms/step - loss: 10.6004 - mae: 10.6004\n",
            "Epoch 75/100\n",
            "2/2 [==============================] - 0s 7ms/step - loss: 9.6468 - mae: 9.6468\n",
            "Epoch 76/100\n",
            "2/2 [==============================] - 0s 7ms/step - loss: 11.1122 - mae: 11.1122\n",
            "Epoch 77/100\n",
            "2/2 [==============================] - 0s 6ms/step - loss: 8.2945 - mae: 8.2945\n",
            "Epoch 78/100\n",
            "2/2 [==============================] - 0s 7ms/step - loss: 8.9840 - mae: 8.9840\n",
            "Epoch 79/100\n",
            "2/2 [==============================] - 0s 6ms/step - loss: 19.8110 - mae: 19.8110\n",
            "Epoch 80/100\n",
            "2/2 [==============================] - 0s 6ms/step - loss: 17.8193 - mae: 17.8193\n",
            "Epoch 81/100\n",
            "2/2 [==============================] - 0s 6ms/step - loss: 7.1044 - mae: 7.1044\n",
            "Epoch 82/100\n",
            "2/2 [==============================] - 0s 6ms/step - loss: 10.4242 - mae: 10.4242\n",
            "Epoch 83/100\n",
            "2/2 [==============================] - 0s 8ms/step - loss: 9.8467 - mae: 9.8467\n",
            "Epoch 84/100\n",
            "2/2 [==============================] - 0s 6ms/step - loss: 7.9598 - mae: 7.9598\n",
            "Epoch 85/100\n",
            "2/2 [==============================] - 0s 7ms/step - loss: 9.4698 - mae: 9.4698\n",
            "Epoch 86/100\n",
            "2/2 [==============================] - 0s 6ms/step - loss: 9.5130 - mae: 9.5130\n",
            "Epoch 87/100\n",
            "2/2 [==============================] - 0s 7ms/step - loss: 11.4562 - mae: 11.4562\n",
            "Epoch 88/100\n",
            "2/2 [==============================] - 0s 7ms/step - loss: 9.9573 - mae: 9.9573\n",
            "Epoch 89/100\n",
            "2/2 [==============================] - 0s 6ms/step - loss: 7.2738 - mae: 7.2738\n",
            "Epoch 90/100\n",
            "2/2 [==============================] - 0s 6ms/step - loss: 12.7169 - mae: 12.7169\n",
            "Epoch 91/100\n",
            "2/2 [==============================] - 0s 6ms/step - loss: 7.3344 - mae: 7.3344\n",
            "Epoch 92/100\n",
            "2/2 [==============================] - 0s 7ms/step - loss: 7.6988 - mae: 7.6988\n",
            "Epoch 93/100\n",
            "2/2 [==============================] - 0s 7ms/step - loss: 7.1398 - mae: 7.1398\n",
            "Epoch 94/100\n",
            "2/2 [==============================] - 0s 7ms/step - loss: 12.5647 - mae: 12.5647\n",
            "Epoch 95/100\n",
            "2/2 [==============================] - 0s 11ms/step - loss: 9.9428 - mae: 9.9428\n",
            "Epoch 96/100\n",
            "2/2 [==============================] - 0s 7ms/step - loss: 9.1600 - mae: 9.1600\n",
            "Epoch 97/100\n",
            "2/2 [==============================] - 0s 6ms/step - loss: 12.1011 - mae: 12.1011\n",
            "Epoch 98/100\n",
            "2/2 [==============================] - 0s 8ms/step - loss: 9.0876 - mae: 9.0876\n",
            "Epoch 99/100\n",
            "2/2 [==============================] - 0s 7ms/step - loss: 8.5166 - mae: 8.5166\n",
            "Epoch 100/100\n",
            "2/2 [==============================] - 0s 6ms/step - loss: 14.4674 - mae: 14.4674\n"
          ]
        },
        {
          "output_type": "execute_result",
          "data": {
            "text/plain": [
              "<keras.callbacks.History at 0x7f0d1048e9a0>"
            ]
          },
          "metadata": {},
          "execution_count": 46
        }
      ],
      "source": [
        "model_1.fit(tf.expand_dims(X_train, axis = 1), y_train, epochs = 100)"
      ]
    },
    {
      "cell_type": "code",
      "execution_count": 47,
      "metadata": {
        "colab": {
          "base_uri": "https://localhost:8080/"
        },
        "id": "wFhXibh89WsG",
        "outputId": "da629e2a-a9b7-4d0e-b7cb-4b93ba5107dd"
      },
      "outputs": [
        {
          "output_type": "execute_result",
          "data": {
            "text/plain": [
              "(<tf.Tensor: shape=(10,), dtype=int32, numpy=array([60, 64, 68, 72, 76, 80, 84, 88, 92, 96], dtype=int32)>,\n",
              " <tf.Tensor: shape=(10,), dtype=int32, numpy=array([ 70,  74,  78,  82,  86,  90,  94,  98, 102, 106], dtype=int32)>)"
            ]
          },
          "metadata": {},
          "execution_count": 47
        }
      ],
      "source": [
        "X_test, y_test"
      ]
    },
    {
      "cell_type": "code",
      "execution_count": 48,
      "metadata": {
        "colab": {
          "base_uri": "https://localhost:8080/"
        },
        "id": "4jbO_5l683Xr",
        "outputId": "142edfba-a476-41b2-a2e4-a839a6f9b85a"
      },
      "outputs": [
        {
          "output_type": "stream",
          "name": "stderr",
          "text": [
            "WARNING:tensorflow:Layers in a Sequential model should only have a single input tensor. Received: inputs=(<tf.Tensor 'IteratorGetNext:0' shape=(None,) dtype=int32>,). Consider rewriting this model with the Functional API.\n",
            "WARNING:tensorflow:5 out of the last 5 calls to <function Model.make_predict_function.<locals>.predict_function at 0x7f0e21506280> triggered tf.function retracing. Tracing is expensive and the excessive number of tracings could be due to (1) creating @tf.function repeatedly in a loop, (2) passing tensors with different shapes, (3) passing Python objects instead of tensors. For (1), please define your @tf.function outside of the loop. For (2), @tf.function has reduce_retracing=True option that can avoid unnecessary retracing. For (3), please refer to https://www.tensorflow.org/guide/function#controlling_retracing and https://www.tensorflow.org/api_docs/python/tf/function for  more details.\n"
          ]
        },
        {
          "output_type": "stream",
          "name": "stdout",
          "text": [
            "1/1 [==============================] - 0s 51ms/step\n"
          ]
        },
        {
          "output_type": "execute_result",
          "data": {
            "text/plain": [
              "array([[44.39825 ],\n",
              "       [47.273426],\n",
              "       [50.1486  ],\n",
              "       [53.023777],\n",
              "       [55.898952],\n",
              "       [58.774128],\n",
              "       [61.6493  ],\n",
              "       [64.524475],\n",
              "       [67.39965 ],\n",
              "       [70.27482 ]], dtype=float32)"
            ]
          },
          "metadata": {},
          "execution_count": 48
        }
      ],
      "source": [
        "y_pred = model_1.predict([X_test])\n",
        "y_pred"
      ]
    },
    {
      "cell_type": "code",
      "execution_count": 49,
      "metadata": {
        "colab": {
          "base_uri": "https://localhost:8080/",
          "height": 428
        },
        "id": "BO2zzABh_hip",
        "outputId": "d7d94f1b-cb0e-4d09-8b54-6412af881d1d"
      },
      "outputs": [
        {
          "output_type": "display_data",
          "data": {
            "text/plain": [
              "<Figure size 720x504 with 1 Axes>"
            ],
            "image/png": "[encoded data removed]"
          },
          "metadata": {
            "needs_background": "light"
          }
        }
      ],
      "source": [
        "plot_predictions(predictions = y_pred)"
      ]
    },
    {
      "cell_type": "code",
      "execution_count": 50,
      "metadata": {
        "colab": {
          "base_uri": "https://localhost:8080/"
        },
        "id": "jMOmHVAlAJMn",
        "outputId": "05eb9d43-8b8d-4a79-a845-cecc460300b3"
      },
      "outputs": [
        {
          "output_type": "execute_result",
          "data": {
            "text/plain": [
              "(<tf.Tensor: shape=(), dtype=float32, numpy=30.663462>,\n",
              " <tf.Tensor: shape=(), dtype=float32, numpy=950.68604>)"
            ]
          },
          "metadata": {},
          "execution_count": 50
        }
      ],
      "source": [
        "mae_1 = mae(y_test, y_pred)\n",
        "mse_1 = mse(y_test, y_pred)\n",
        "mae_1, mse_1"
      ]
    },
    {
      "cell_type": "code",
      "execution_count": 51,
      "metadata": {
        "id": "HxUMoFu79aIk"
      },
      "outputs": [],
      "source": [
        "# Model 2\n",
        "tf.random.set_seed(42)\n",
        "\n",
        "model_2 = tf.keras.Sequential([\n",
        "    tf.keras.layers.Dense(10),\n",
        "    tf.keras.layers.Dense(1)\n",
        "])\n",
        "\n",
        "model_2.compile(loss = tf.keras.losses.mae,\n",
        "                optimizer = tf.keras.optimizers.SGD(),\n",
        "                metrics = ['mse'])"
      ]
    },
    {
      "cell_type": "code",
      "execution_count": 52,
      "metadata": {
        "colab": {
          "base_uri": "https://localhost:8080/"
        },
        "id": "2gnUjDdZ-BI6",
        "outputId": "f77cbc5f-af79-4398-db24-794253a00fd3"
      },
      "outputs": [
        {
          "output_type": "execute_result",
          "data": {
            "text/plain": [
              "<keras.callbacks.History at 0x7f0e213f97f0>"
            ]
          },
          "metadata": {},
          "execution_count": 52
        }
      ],
      "source": [
        "model_2.fit(tf.expand_dims(X_train, axis = 1), y_train, epochs = 100, verbose=0)"
      ]
    },
    {
      "cell_type": "code",
      "execution_count": 53,
      "metadata": {
        "colab": {
          "base_uri": "https://localhost:8080/"
        },
        "id": "991goUY2BiIg",
        "outputId": "48ea9977-534d-4281-ad19-1236a42022dc"
      },
      "outputs": [
        {
          "output_type": "execute_result",
          "data": {
            "text/plain": [
              "(<tf.Tensor: shape=(10,), dtype=int32, numpy=array([60, 64, 68, 72, 76, 80, 84, 88, 92, 96], dtype=int32)>,\n",
              " <tf.Tensor: shape=(10,), dtype=int32, numpy=array([ 70,  74,  78,  82,  86,  90,  94,  98, 102, 106], dtype=int32)>)"
            ]
          },
          "metadata": {},
          "execution_count": 53
        }
      ],
      "source": [
        "X_test, y_test"
      ]
    },
    {
      "cell_type": "code",
      "execution_count": 54,
      "metadata": {
        "colab": {
          "base_uri": "https://localhost:8080/"
        },
        "id": "Z7cnYP9G-R55",
        "outputId": "3ec30858-22b4-4447-9471-d726f9f416bc"
      },
      "outputs": [
        {
          "output_type": "stream",
          "name": "stderr",
          "text": [
            "WARNING:tensorflow:Layers in a Sequential model should only have a single input tensor. Received: inputs=(<tf.Tensor 'IteratorGetNext:0' shape=(None,) dtype=int32>,). Consider rewriting this model with the Functional API.\n",
            "WARNING:tensorflow:6 out of the last 6 calls to <function Model.make_predict_function.<locals>.predict_function at 0x7f0e213d44c0> triggered tf.function retracing. Tracing is expensive and the excessive number of tracings could be due to (1) creating @tf.function repeatedly in a loop, (2) passing tensors with different shapes, (3) passing Python objects instead of tensors. For (1), please define your @tf.function outside of the loop. For (2), @tf.function has reduce_retracing=True option that can avoid unnecessary retracing. For (3), please refer to https://www.tensorflow.org/guide/function#controlling_retracing and https://www.tensorflow.org/api_docs/python/tf/function for  more details.\n"
          ]
        },
        {
          "output_type": "stream",
          "name": "stdout",
          "text": [
            "1/1 [==============================] - 0s 58ms/step\n"
          ]
        },
        {
          "output_type": "execute_result",
          "data": {
            "text/plain": [
              "array([[35.04242 ],\n",
              "       [37.2834  ],\n",
              "       [39.524387],\n",
              "       [41.765373],\n",
              "       [44.006363],\n",
              "       [46.247345],\n",
              "       [48.48833 ],\n",
              "       [50.729317],\n",
              "       [52.970306],\n",
              "       [55.211292]], dtype=float32)"
            ]
          },
          "metadata": {},
          "execution_count": 54
        }
      ],
      "source": [
        "y_pred = model_2.predict([X_test])\n",
        "y_pred"
      ]
    },
    {
      "cell_type": "code",
      "execution_count": 55,
      "metadata": {
        "colab": {
          "base_uri": "https://localhost:8080/",
          "height": 428
        },
        "id": "DDq3YWUjBn-v",
        "outputId": "04b1dead-b6a0-4cb5-fb46-1eb74914a085"
      },
      "outputs": [
        {
          "output_type": "display_data",
          "data": {
            "text/plain": [
              "<Figure size 720x504 with 1 Axes>"
            ],
            "image/png": "[encoded data removed]"
          },
          "metadata": {
            "needs_background": "light"
          }
        }
      ],
      "source": [
        "plot_predictions(predictions = y_pred)"
      ]
    },
    {
      "cell_type": "code",
      "execution_count": 56,
      "metadata": {
        "colab": {
          "base_uri": "https://localhost:8080/"
        },
        "id": "UWRSeNdrBuwS",
        "outputId": "84326e18-9e86-4709-87e4-68e94a1eee66"
      },
      "outputs": [
        {
          "output_type": "execute_result",
          "data": {
            "text/plain": [
              "(<tf.Tensor: shape=(), dtype=float32, numpy=42.873146>,\n",
              " <tf.Tensor: shape=(), dtype=float32, numpy=1863.6332>)"
            ]
          },
          "metadata": {},
          "execution_count": 56
        }
      ],
      "source": [
        "mae_2 = mae(y_test, y_pred)\n",
        "mse_2 = mse(y_test, y_pred)\n",
        "mae_2, mse_2"
      ]
    },
    {
      "cell_type": "markdown",
      "metadata": {
        "id": "GnvPrMLASio2"
      },
      "source": [
        "# Model 3"
      ]
    },
    {
      "cell_type": "code",
      "execution_count": 57,
      "metadata": {
        "id": "sftGnsyx-gTg"
      },
      "outputs": [],
      "source": [
        "# Model 3\n",
        "tf.random.set_seed(42)\n",
        "\n",
        "model_3 = tf.keras.Sequential([\n",
        "    tf.keras.layers.Dense(100, activation='relu'),\n",
        "    tf.keras.layers.Dense(1)\n",
        "])\n",
        "\n",
        "model_3.compile(loss = tf.keras.losses.mae,\n",
        "                optimizer = tf.keras.optimizers.SGD(),\n",
        "                metrics = ['mae'])"
      ]
    },
    {
      "cell_type": "code",
      "execution_count": 58,
      "metadata": {
        "colab": {
          "base_uri": "https://localhost:8080/"
        },
        "id": "ZmF591Aa-oFS",
        "outputId": "f25c2add-048c-4ab4-9fa1-6a2baa3c6417"
      },
      "outputs": [
        {
          "output_type": "execute_result",
          "data": {
            "text/plain": [
              "<keras.callbacks.History at 0x7f0e21282a90>"
            ]
          },
          "metadata": {},
          "execution_count": 58
        }
      ],
      "source": [
        "model_3.fit(tf.expand_dims(X_train, axis = 1), y_train, epochs = 200, verbose = 0) # Never always overtrain, meaning always increasing number of epochs will not always improve model."
      ]
    },
    {
      "cell_type": "code",
      "execution_count": 59,
      "metadata": {
        "colab": {
          "base_uri": "https://localhost:8080/"
        },
        "id": "r4eEvD7CD98T",
        "outputId": "023b1a67-42c2-44a4-f18b-edc7206836eb"
      },
      "outputs": [
        {
          "output_type": "execute_result",
          "data": {
            "text/plain": [
              "(<tf.Tensor: shape=(10,), dtype=int32, numpy=array([60, 64, 68, 72, 76, 80, 84, 88, 92, 96], dtype=int32)>,\n",
              " <tf.Tensor: shape=(10,), dtype=int32, numpy=array([ 70,  74,  78,  82,  86,  90,  94,  98, 102, 106], dtype=int32)>)"
            ]
          },
          "metadata": {},
          "execution_count": 59
        }
      ],
      "source": [
        "X_test, y_test"
      ]
    },
    {
      "cell_type": "code",
      "execution_count": 60,
      "metadata": {
        "colab": {
          "base_uri": "https://localhost:8080/"
        },
        "id": "DT6AYWJ0-3cE",
        "outputId": "cfb45416-c33c-4983-c388-25246baa1b41"
      },
      "outputs": [
        {
          "output_type": "stream",
          "name": "stderr",
          "text": [
            "WARNING:tensorflow:Layers in a Sequential model should only have a single input tensor. Received: inputs=(<tf.Tensor 'IteratorGetNext:0' shape=(None,) dtype=int32>,). Consider rewriting this model with the Functional API.\n"
          ]
        },
        {
          "output_type": "stream",
          "name": "stdout",
          "text": [
            "1/1 [==============================] - 0s 408ms/step\n"
          ]
        },
        {
          "output_type": "execute_result",
          "data": {
            "text/plain": [
              "array([[ 73.13472 ],\n",
              "       [ 77.9159  ],\n",
              "       [ 82.6971  ],\n",
              "       [ 87.47829 ],\n",
              "       [ 92.259476],\n",
              "       [ 97.04066 ],\n",
              "       [101.82185 ],\n",
              "       [106.60306 ],\n",
              "       [111.38423 ],\n",
              "       [116.16543 ]], dtype=float32)"
            ]
          },
          "metadata": {},
          "execution_count": 60
        }
      ],
      "source": [
        "y_pred = model_3.predict([X_test])\n",
        "y_pred"
      ]
    },
    {
      "cell_type": "code",
      "execution_count": 61,
      "metadata": {
        "colab": {
          "base_uri": "https://localhost:8080/",
          "height": 428
        },
        "id": "UTm9e29PD0Qu",
        "outputId": "78ac3e62-4058-4159-a752-aa774801fa11"
      },
      "outputs": [
        {
          "output_type": "display_data",
          "data": {
            "text/plain": [
              "<Figure size 720x504 with 1 Axes>"
            ],
            "image/png": "[encoded data removed]"
          },
          "metadata": {
            "needs_background": "light"
          }
        }
      ],
      "source": [
        "plot_predictions(predictions = y_pred)"
      ]
    },
    {
      "cell_type": "code",
      "execution_count": 62,
      "metadata": {
        "colab": {
          "base_uri": "https://localhost:8080/"
        },
        "id": "riQ-FQSWESpA",
        "outputId": "c2fe002d-241c-4960-ce5a-fc0b51e109b1"
      },
      "outputs": [
        {
          "output_type": "execute_result",
          "data": {
            "text/plain": [
              "(<tf.Tensor: shape=(), dtype=float32, numpy=6.650071>,\n",
              " <tf.Tensor: shape=(), dtype=float32, numpy=49.258076>)"
            ]
          },
          "metadata": {},
          "execution_count": 62
        }
      ],
      "source": [
        "mae_3 = mae(y_test, y_pred)\n",
        "mse_3 = mse(y_test, y_pred)\n",
        "mae_3, mse_3"
      ]
    },
    {
      "cell_type": "markdown",
      "metadata": {
        "id": "Wlmb8stLFdyc"
      },
      "source": [
        "## **Compairing Results of our experiments.**"
      ]
    },
    {
      "cell_type": "code",
      "execution_count": 63,
      "metadata": {
        "colab": {
          "base_uri": "https://localhost:8080/",
          "height": 143
        },
        "id": "_sOfEm1IEn3N",
        "outputId": "b58a367c-5373-4145-c722-ca14fc9dc7cd"
      },
      "outputs": [
        {
          "output_type": "execute_result",
          "data": {
            "text/plain": [
              "     model        mae          mse\n",
              "0  model_1  30.663462   950.686035\n",
              "1  model_2  42.873146  1863.633179\n",
              "2  model_3   6.650071    49.258076"
            ],
            "text/html": [
              "\n",
              "  <div id=\"df-8500c3f4-8c20-41f9-a2f4-27514dcce1e5\">\n",
              "    <div class=\"colab-df-container\">\n",
              "      <div>\n",
              "<style scoped>\n",
              "    .dataframe tbody tr th:only-of-type {\n",
              "        vertical-align: middle;\n",
              "    }\n",
              "\n",
              "    .dataframe tbody tr th {\n",
              "        vertical-align: top;\n",
              "    }\n",
              "\n",
              "    .dataframe thead th {\n",
              "        text-align: right;\n",
              "    }\n",
              "</style>\n",
              "<table border=\"1\" class=\"dataframe\">\n",
              "  <thead>\n",
              "    <tr style=\"text-align: right;\">\n",
              "      <th></th>\n",
              "      <th>model</th>\n",
              "      <th>mae</th>\n",
              "      <th>mse</th>\n",
              "    </tr>\n",
              "  </thead>\n",
              "  <tbody>\n",
              "    <tr>\n",
              "      <th>0</th>\n",
              "      <td>model_1</td>\n",
              "      <td>30.663462</td>\n",
              "      <td>950.686035</td>\n",
              "    </tr>\n",
              "    <tr>\n",
              "      <th>1</th>\n",
              "      <td>model_2</td>\n",
              "      <td>42.873146</td>\n",
              "      <td>1863.633179</td>\n",
              "    </tr>\n",
              "    <tr>\n",
              "      <th>2</th>\n",
              "      <td>model_3</td>\n",
              "      <td>6.650071</td>\n",
              "      <td>49.258076</td>\n",
              "    </tr>\n",
              "  </tbody>\n",
              "</table>\n",
              "</div>\n",
              "      <button class=\"colab-df-convert\" onclick=\"convertToInteractive('df-8500c3f4-8c20-41f9-a2f4-27514dcce1e5')\"\n",
              "              title=\"Convert this dataframe to an interactive table.\"\n",
              "              style=\"display:none;\">\n",
              "        \n",
              "  <svg xmlns=\"http://www.w3.org/2000/svg\" height=\"24px\"viewBox=\"0 0 24 24\"\n",
              "       width=\"24px\">\n",
              "    <path d=\"M0 0h24v24H0V0z\" fill=\"none\"/>\n",
              "    <path d=\"M18.56 5.44l.94 2.06.94-2.06 2.06-.94-2.06-.94-.94-2.06-.94 2.06-2.06.94zm-11 1L8.5 8.5l.94-2.06 2.06-.94-2.06-.94L8.5 2.5l-.94 2.06-2.06.94zm10 10l.94 2.06.94-2.06 2.06-.94-2.06-.94-.94-2.06-.94 2.06-2.06.94z\"/><path d=\"M17.41 7.96l-1.37-1.37c-.4-.4-.92-.59-1.43-.59-.52 0-1.04.2-1.43.59L10.3 9.45l-7.72 7.72c-.78.78-.78 2.05 0 2.83L4 21.41c.39.39.9.59 1.41.59.51 0 1.02-.2 1.41-.59l7.78-7.78 2.81-2.81c.8-.78.8-2.07 0-2.86zM5.41 20L4 18.59l7.72-7.72 1.47 1.35L5.41 20z\"/>\n",
              "  </svg>\n",
              "      </button>\n",
              "      \n",
              "  <style>\n",
              "    .colab-df-container {\n",
              "      display:flex;\n",
              "      flex-wrap:wrap;\n",
              "      gap: 12px;\n",
              "    }\n",
              "\n",
              "    .colab-df-convert {\n",
              "      background-color: #E8F0FE;\n",
              "      border: none;\n",
              "      border-radius: 50%;\n",
              "      cursor: pointer;\n",
              "      display: none;\n",
              "      fill: #1967D2;\n",
              "      height: 32px;\n",
              "      padding: 0 0 0 0;\n",
              "      width: 32px;\n",
              "    }\n",
              "\n",
              "    .colab-df-convert:hover {\n",
              "      background-color: #E2EBFA;\n",
              "      box-shadow: 0px 1px 2px rgba(60, 64, 67, 0.3), 0px 1px 3px 1px rgba(60, 64, 67, 0.15);\n",
              "      fill: #174EA6;\n",
              "    }\n",
              "\n",
              "    [theme=dark] .colab-df-convert {\n",
              "      background-color: #3B4455;\n",
              "      fill: #D2E3FC;\n",
              "    }\n",
              "\n",
              "    [theme=dark] .colab-df-convert:hover {\n",
              "      background-color: #434B5C;\n",
              "      box-shadow: 0px 1px 3px 1px rgba(0, 0, 0, 0.15);\n",
              "      filter: drop-shadow(0px 1px 2px rgba(0, 0, 0, 0.3));\n",
              "      fill: #FFFFFF;\n",
              "    }\n",
              "  </style>\n",
              "\n",
              "      <script>\n",
              "        const buttonEl =\n",
              "          document.querySelector('#df-8500c3f4-8c20-41f9-a2f4-27514dcce1e5 button.colab-df-convert');\n",
              "        buttonEl.style.display =\n",
              "          google.colab.kernel.accessAllowed ? 'block' : 'none';\n",
              "\n",
              "        async function convertToInteractive(key) {\n",
              "          const element = document.querySelector('#df-8500c3f4-8c20-41f9-a2f4-27514dcce1e5');\n",
              "          const dataTable =\n",
              "            await google.colab.kernel.invokeFunction('convertToInteractive',\n",
              "                                                     [key], {});\n",
              "          if (!dataTable) return;\n",
              "\n",
              "          const docLinkHtml = 'Like what you see? Visit the ' +\n",
              "            '<a target=\"_blank\" href=https://colab.research.google.com/notebooks/data_table.ipynb>data table notebook</a>'\n",
              "            + ' to learn more about interactive tables.';\n",
              "          element.innerHTML = '';\n",
              "          dataTable['output_type'] = 'display_data';\n",
              "          await google.colab.output.renderOutput(dataTable, element);\n",
              "          const docLink = document.createElement('div');\n",
              "          docLink.innerHTML = docLinkHtml;\n",
              "          element.appendChild(docLink);\n",
              "        }\n",
              "      </script>\n",
              "    </div>\n",
              "  </div>\n",
              "  "
            ]
          },
          "metadata": {},
          "execution_count": 63
        }
      ],
      "source": [
        "# Using pandas DataFrame to compair our model's results\n",
        "import pandas as pd\n",
        "\n",
        "model_results = [['model_1', mae_1.numpy(), mse_1.numpy()],\n",
        "                 ['model_2', mae_2.numpy(), mse_2.numpy()],\n",
        "                 ['model_3', mae_3.numpy(), mse_3.numpy()]]\n",
        "\n",
        "all_results = pd.DataFrame(model_results, columns=['model', 'mae', 'mse'])\n",
        "all_results"
      ]
    },
    {
      "cell_type": "markdown",
      "metadata": {
        "id": "QDss7PyrY2kK"
      },
      "source": [
        "### **Saving our models**\n",
        "Saving our models allow us to use them outside of google colab say, in a web application or mobile app.\n",
        "\n",
        "There two main formats to save our model:\n",
        "\n",
        "1. The SaveModel format.\n",
        "2. The HDF5 format."
      ]
    },
    {
      "cell_type": "code",
      "execution_count": 64,
      "metadata": {
        "colab": {
          "base_uri": "https://localhost:8080/"
        },
        "id": "ys-thW7xY1qi",
        "outputId": "15d9e6d6-c4b7-46db-b4b1-56b4641971b8"
      },
      "outputs": [
        {
          "output_type": "stream",
          "name": "stderr",
          "text": [
            "WARNING:absl:Found untraced functions such as _update_step_xla while saving (showing 1 of 1). These functions will not be directly callable after loading.\n"
          ]
        }
      ],
      "source": [
        "model_3.save('model_3_SavedModel_format')"
      ]
    },
    {
      "cell_type": "code",
      "execution_count": 65,
      "metadata": {
        "id": "xv6roc6gbCZQ"
      },
      "outputs": [],
      "source": [
        "# HDF5 format\n",
        "model_3.save('model_3_HDF5_format.h5')"
      ]
    },
    {
      "cell_type": "markdown",
      "metadata": {
        "id": "tV6y_7y_bbg3"
      },
      "source": [
        "### **Loading our models**"
      ]
    },
    {
      "cell_type": "code",
      "execution_count": 66,
      "metadata": {
        "colab": {
          "base_uri": "https://localhost:8080/"
        },
        "id": "A_VhZmozb4Uc",
        "outputId": "edf593ad-cc5e-4ae4-80fb-059364f0a25b"
      },
      "outputs": [
        {
          "output_type": "stream",
          "name": "stdout",
          "text": [
            "Model: \"sequential_5\"\n",
            "_________________________________________________________________\n",
            " Layer (type)                Output Shape              Param #   \n",
            "=================================================================\n",
            " dense_12 (Dense)            (None, 100)               200       \n",
            "                                                                 \n",
            " dense_13 (Dense)            (None, 1)                 101       \n",
            "                                                                 \n",
            "=================================================================\n",
            "Total params: 301\n",
            "Trainable params: 301\n",
            "Non-trainable params: 0\n",
            "_________________________________________________________________\n"
          ]
        }
      ],
      "source": [
        "load_model_3 = tf.keras.models.load_model('/content/model_3_SavedModel_format')\n",
        "load_model_3.summary()"
      ]
    },
    {
      "cell_type": "code",
      "execution_count": 67,
      "metadata": {
        "colab": {
          "base_uri": "https://localhost:8080/"
        },
        "id": "7FSRoqpEcaaO",
        "outputId": "27ca890e-7b06-4906-df11-bdaa23499863"
      },
      "outputs": [
        {
          "output_type": "stream",
          "name": "stdout",
          "text": [
            "Model: \"sequential_5\"\n",
            "_________________________________________________________________\n",
            " Layer (type)                Output Shape              Param #   \n",
            "=================================================================\n",
            " dense_12 (Dense)            (None, 100)               200       \n",
            "                                                                 \n",
            " dense_13 (Dense)            (None, 1)                 101       \n",
            "                                                                 \n",
            "=================================================================\n",
            "Total params: 301\n",
            "Trainable params: 301\n",
            "Non-trainable params: 0\n",
            "_________________________________________________________________\n"
          ]
        }
      ],
      "source": [
        "model_3.summary()"
      ]
    },
    {
      "cell_type": "code",
      "source": [
        "X_test, y_test"
      ],
      "metadata": {
        "colab": {
          "base_uri": "https://localhost:8080/"
        },
        "id": "IhQfneD8vJz_",
        "outputId": "a3ee54c9-85ca-49cb-a813-9a05d7ee435f"
      },
      "execution_count": 71,
      "outputs": [
        {
          "output_type": "execute_result",
          "data": {
            "text/plain": [
              "(<tf.Tensor: shape=(10,), dtype=int32, numpy=array([60, 64, 68, 72, 76, 80, 84, 88, 92, 96], dtype=int32)>,\n",
              " <tf.Tensor: shape=(10,), dtype=int32, numpy=array([ 70,  74,  78,  82,  86,  90,  94,  98, 102, 106], dtype=int32)>)"
            ]
          },
          "metadata": {},
          "execution_count": 71
        }
      ]
    },
    {
      "cell_type": "code",
      "execution_count": 68,
      "metadata": {
        "colab": {
          "base_uri": "https://localhost:8080/"
        },
        "id": "wrGePNH9ccbO",
        "outputId": "24c59823-3637-4221-e198-c9764c344421"
      },
      "outputs": [
        {
          "output_type": "stream",
          "name": "stdout",
          "text": [
            "1/1 [==============================] - 0s 44ms/step\n"
          ]
        },
        {
          "output_type": "execute_result",
          "data": {
            "text/plain": [
              "array([[ 73.13472 ],\n",
              "       [ 77.9159  ],\n",
              "       [ 82.6971  ],\n",
              "       [ 87.47829 ],\n",
              "       [ 92.259476],\n",
              "       [ 97.04066 ],\n",
              "       [101.82185 ],\n",
              "       [106.60306 ],\n",
              "       [111.38423 ],\n",
              "       [116.16543 ]], dtype=float32)"
            ]
          },
          "metadata": {},
          "execution_count": 68
        }
      ],
      "source": [
        "# Lets test whether saved model is making same predictions as model_3.\n",
        "# First lets check loaded model\n",
        "y_saved_pred = load_model_3.predict(X_test)\n",
        "y_saved_pred"
      ]
    },
    {
      "cell_type": "code",
      "execution_count": 69,
      "metadata": {
        "colab": {
          "base_uri": "https://localhost:8080/"
        },
        "id": "9bvUOl00c6Fy",
        "outputId": "5a91fd3e-d24e-475b-b452-a3474fe728a5"
      },
      "outputs": [
        {
          "output_type": "stream",
          "name": "stdout",
          "text": [
            "1/1 [==============================] - 0s 44ms/step\n"
          ]
        },
        {
          "output_type": "execute_result",
          "data": {
            "text/plain": [
              "array([[ 73.13472 ],\n",
              "       [ 77.9159  ],\n",
              "       [ 82.6971  ],\n",
              "       [ 87.47829 ],\n",
              "       [ 92.259476],\n",
              "       [ 97.04066 ],\n",
              "       [101.82185 ],\n",
              "       [106.60306 ],\n",
              "       [111.38423 ],\n",
              "       [116.16543 ]], dtype=float32)"
            ]
          },
          "metadata": {},
          "execution_count": 69
        }
      ],
      "source": [
        "# Now lets check the model_2's prections\n",
        "y_model_3_pred = model_3.predict(X_test)\n",
        "y_model_3_pred"
      ]
    },
    {
      "cell_type": "markdown",
      "metadata": {
        "id": "UA_M6ZELdhik"
      },
      "source": [
        "Looks like the saved model works the same as model_3"
      ]
    },
    {
      "cell_type": "code",
      "execution_count": 70,
      "metadata": {
        "colab": {
          "base_uri": "https://localhost:8080/",
          "height": 857
        },
        "id": "GSX84-FYdQXp",
        "outputId": "b099188f-356e-49f6-8e1e-de97a2f2c9cb"
      },
      "outputs": [
        {
          "output_type": "execute_result",
          "data": {
            "text/plain": [
              "(None, None)"
            ]
          },
          "metadata": {},
          "execution_count": 70
        },
        {
          "output_type": "display_data",
          "data": {
            "text/plain": [
              "<Figure size 720x504 with 1 Axes>"
            ],
            "image/png": "[encoded data removed]"
          },
          "metadata": {
            "needs_background": "light"
          }
        },
        {
          "output_type": "display_data",
          "data": {
            "text/plain": [
              "<Figure size 720x504 with 1 Axes>"
            ],
            "image/png": "[encoded data removed]"
          },
          "metadata": {
            "needs_background": "light"
          }
        }
      ],
      "source": [
        "plot_predictions(predictions = y_saved_pred), plot_predictions(predictions = y_model_3_pred)"
      ]
    },
    {
      "cell_type": "code",
      "source": [
        "mae(y_test, y_saved_pred), mae(y_test, y_model_3_pred)"
      ],
      "metadata": {
        "colab": {
          "base_uri": "https://localhost:8080/"
        },
        "id": "DrGoNbVWvHrS",
        "outputId": "6ae4a7de-b52d-44c7-b35c-c420112d6989"
      },
      "execution_count": 72,
      "outputs": [
        {
          "output_type": "execute_result",
          "data": {
            "text/plain": [
              "(<tf.Tensor: shape=(), dtype=float32, numpy=6.650071>,\n",
              " <tf.Tensor: shape=(), dtype=float32, numpy=6.650071>)"
            ]
          },
          "metadata": {},
          "execution_count": 72
        }
      ]
    },
    {
      "cell_type": "code",
      "source": [
        "# Loading H5 format model.\n",
        "h5_model = tf.keras.models.load_model('/content/model_3_HDF5_format.h5')"
      ],
      "metadata": {
        "id": "NxE5ndg0v1PI"
      },
      "execution_count": 73,
      "outputs": []
    },
    {
      "cell_type": "code",
      "source": [
        "# Compairing h5_model predictions with model_2 predictions.\n",
        "h5_pred = h5_model.predict(X_test)\n",
        "model_2_pred = model_2.predict(X_test)\n",
        "h5_pred.squeeze(), y_model_3_pred.squeeze()"
      ],
      "metadata": {
        "colab": {
          "base_uri": "https://localhost:8080/"
        },
        "id": "kC_Y3RmjwgiU",
        "outputId": "00b7d936-562e-472b-e5f4-e56772ec8265"
      },
      "execution_count": 77,
      "outputs": [
        {
          "output_type": "stream",
          "name": "stdout",
          "text": [
            "1/1 [==============================] - 0s 22ms/step\n",
            "1/1 [==============================] - 0s 31ms/step\n"
          ]
        },
        {
          "output_type": "execute_result",
          "data": {
            "text/plain": [
              "(array([ 73.13472 ,  77.9159  ,  82.6971  ,  87.47829 ,  92.259476,\n",
              "         97.04066 , 101.82185 , 106.60306 , 111.38423 , 116.16543 ],\n",
              "       dtype=float32),\n",
              " array([ 73.13472 ,  77.9159  ,  82.6971  ,  87.47829 ,  92.259476,\n",
              "         97.04066 , 101.82185 , 106.60306 , 111.38423 , 116.16543 ],\n",
              "       dtype=float32))"
            ]
          },
          "metadata": {},
          "execution_count": 77
        }
      ]
    },
    {
      "cell_type": "markdown",
      "source": [
        "## **Downloading a file from Google Colab.**"
      ],
      "metadata": {
        "id": "Cg_muHq_x_ek"
      }
    },
    {
      "cell_type": "code",
      "source": [
        "from google.colab import files\n",
        "files.download('/content/model_3_HDF5_format.h5')"
      ],
      "metadata": {
        "colab": {
          "base_uri": "https://localhost:8080/",
          "height": 17
        },
        "id": "dPD5x2QsxDus",
        "outputId": "52ebd3f8-2fa8-4b2e-9280-f97bc1ce897b"
      },
      "execution_count": 78,
      "outputs": [
        {
          "output_type": "display_data",
          "data": {
            "text/plain": [
              "<IPython.core.display.Javascript object>"
            ],
            "application/javascript": [
              "\n",
              "    async function download(id, filename, size) {\n",
              "      if (!google.colab.kernel.accessAllowed) {\n",
              "        return;\n",
              "      }\n",
              "      const div = document.createElement('div');\n",
              "      const label = document.createElement('label');\n",
              "      label.textContent = `Downloading \"${filename}\": `;\n",
              "      div.appendChild(label);\n",
              "      const progress = document.createElement('progress');\n",
              "      progress.max = size;\n",
              "      div.appendChild(progress);\n",
              "      document.body.appendChild(div);\n",
              "\n",
              "      const buffers = [];\n",
              "      let downloaded = 0;\n",
              "\n",
              "      const channel = await google.colab.kernel.comms.open(id);\n",
              "      // Send a message to notify the kernel that we're ready.\n",
              "      channel.send({})\n",
              "\n",
              "      for await (const message of channel.messages) {\n",
              "        // Send a message to notify the kernel that we're ready.\n",
              "        channel.send({})\n",
              "        if (message.buffers) {\n",
              "          for (const buffer of message.buffers) {\n",
              "            buffers.push(buffer);\n",
              "            downloaded += buffer.byteLength;\n",
              "            progress.value = downloaded;\n",
              "          }\n",
              "        }\n",
              "      }\n",
              "      const blob = new Blob(buffers, {type: 'application/binary'});\n",
              "      const a = document.createElement('a');\n",
              "      a.href = window.URL.createObjectURL(blob);\n",
              "      a.download = filename;\n",
              "      div.appendChild(a);\n",
              "      a.click();\n",
              "      div.remove();\n",
              "    }\n",
              "  "
            ]
          },
          "metadata": {}
        },
        {
          "output_type": "display_data",
          "data": {
            "text/plain": [
              "<IPython.core.display.Javascript object>"
            ],
            "application/javascript": [
              "download(\"download_11d24994-658c-43c9-a3a8-026836f63c31\", \"model_3_HDF5_format.h5\", 24000)"
            ]
          },
          "metadata": {}
        }
      ]
    },
    {
      "cell_type": "markdown",
      "source": [
        "## **Now lets work on a Larger DataSet (A Real One).**\n",
        "Medical insurance cost dataset available at '[GitHub](https://github.com/stedy/Machine-Learning-with-R-datasets/blob/master/insurance.csv)'."
      ],
      "metadata": {
        "id": "yb2sVkzszE0O"
      }
    },
    {
      "cell_type": "code",
      "source": [
        "import tensorflow as tf\n",
        "import pandas as pd\n",
        "import matplotlib.pyplot as plt"
      ],
      "metadata": {
        "id": "IICJq3z7yKND"
      },
      "execution_count": 1,
      "outputs": []
    },
    {
      "cell_type": "code",
      "source": [
        "# Read the insurnce dataset\n",
        "insurance = pd.read_csv('https://raw.githubusercontent.com/stedy/Machine-Learning-with-R-datasets/master/insurance.csv')\n",
        "insurance.head()"
      ],
      "metadata": {
        "colab": {
          "base_uri": "https://localhost:8080/",
          "height": 206
        },
        "id": "OOw70veR0LRz",
        "outputId": "5a5c37b2-2e98-4962-a49e-b1d07cde9391"
      },
      "execution_count": 2,
      "outputs": [
        {
          "output_type": "execute_result",
          "data": {
            "text/plain": [
              "   age     sex     bmi  children smoker     region      charges\n",
              "0   19  female  27.900         0    yes  southwest  16884.92400\n",
              "1   18    male  33.770         1     no  southeast   1725.55230\n",
              "2   28    male  33.000         3     no  southeast   4449.46200\n",
              "3   33    male  22.705         0     no  northwest  21984.47061\n",
              "4   32    male  28.880         0     no  northwest   3866.85520"
            ],
            "text/html": [
              "\n",
              "  <div id=\"df-f6c2906c-04d8-4e80-95e9-0af67c7024a5\">\n",
              "    <div class=\"colab-df-container\">\n",
              "      <div>\n",
              "<style scoped>\n",
              "    .dataframe tbody tr th:only-of-type {\n",
              "        vertical-align: middle;\n",
              "    }\n",
              "\n",
              "    .dataframe tbody tr th {\n",
              "        vertical-align: top;\n",
              "    }\n",
              "\n",
              "    .dataframe thead th {\n",
              "        text-align: right;\n",
              "    }\n",
              "</style>\n",
              "<table border=\"1\" class=\"dataframe\">\n",
              "  <thead>\n",
              "    <tr style=\"text-align: right;\">\n",
              "      <th></th>\n",
              "      <th>age</th>\n",
              "      <th>sex</th>\n",
              "      <th>bmi</th>\n",
              "      <th>children</th>\n",
              "      <th>smoker</th>\n",
              "      <th>region</th>\n",
              "      <th>charges</th>\n",
              "    </tr>\n",
              "  </thead>\n",
              "  <tbody>\n",
              "    <tr>\n",
              "      <th>0</th>\n",
              "      <td>19</td>\n",
              "      <td>female</td>\n",
              "      <td>27.900</td>\n",
              "      <td>0</td>\n",
              "      <td>yes</td>\n",
              "      <td>southwest</td>\n",
              "      <td>16884.92400</td>\n",
              "    </tr>\n",
              "    <tr>\n",
              "      <th>1</th>\n",
              "      <td>18</td>\n",
              "      <td>male</td>\n",
              "      <td>33.770</td>\n",
              "      <td>1</td>\n",
              "      <td>no</td>\n",
              "      <td>southeast</td>\n",
              "      <td>1725.55230</td>\n",
              "    </tr>\n",
              "    <tr>\n",
              "      <th>2</th>\n",
              "      <td>28</td>\n",
              "      <td>male</td>\n",
              "      <td>33.000</td>\n",
              "      <td>3</td>\n",
              "      <td>no</td>\n",
              "      <td>southeast</td>\n",
              "      <td>4449.46200</td>\n",
              "    </tr>\n",
              "    <tr>\n",
              "      <th>3</th>\n",
              "      <td>33</td>\n",
              "      <td>male</td>\n",
              "      <td>22.705</td>\n",
              "      <td>0</td>\n",
              "      <td>no</td>\n",
              "      <td>northwest</td>\n",
              "      <td>21984.47061</td>\n",
              "    </tr>\n",
              "    <tr>\n",
              "      <th>4</th>\n",
              "      <td>32</td>\n",
              "      <td>male</td>\n",
              "      <td>28.880</td>\n",
              "      <td>0</td>\n",
              "      <td>no</td>\n",
              "      <td>northwest</td>\n",
              "      <td>3866.85520</td>\n",
              "    </tr>\n",
              "  </tbody>\n",
              "</table>\n",
              "</div>\n",
              "      <button class=\"colab-df-convert\" onclick=\"convertToInteractive('df-f6c2906c-04d8-4e80-95e9-0af67c7024a5')\"\n",
              "              title=\"Convert this dataframe to an interactive table.\"\n",
              "              style=\"display:none;\">\n",
              "        \n",
              "  <svg xmlns=\"http://www.w3.org/2000/svg\" height=\"24px\"viewBox=\"0 0 24 24\"\n",
              "       width=\"24px\">\n",
              "    <path d=\"M0 0h24v24H0V0z\" fill=\"none\"/>\n",
              "    <path d=\"M18.56 5.44l.94 2.06.94-2.06 2.06-.94-2.06-.94-.94-2.06-.94 2.06-2.06.94zm-11 1L8.5 8.5l.94-2.06 2.06-.94-2.06-.94L8.5 2.5l-.94 2.06-2.06.94zm10 10l.94 2.06.94-2.06 2.06-.94-2.06-.94-.94-2.06-.94 2.06-2.06.94z\"/><path d=\"M17.41 7.96l-1.37-1.37c-.4-.4-.92-.59-1.43-.59-.52 0-1.04.2-1.43.59L10.3 9.45l-7.72 7.72c-.78.78-.78 2.05 0 2.83L4 21.41c.39.39.9.59 1.41.59.51 0 1.02-.2 1.41-.59l7.78-7.78 2.81-2.81c.8-.78.8-2.07 0-2.86zM5.41 20L4 18.59l7.72-7.72 1.47 1.35L5.41 20z\"/>\n",
              "  </svg>\n",
              "      </button>\n",
              "      \n",
              "  <style>\n",
              "    .colab-df-container {\n",
              "      display:flex;\n",
              "      flex-wrap:wrap;\n",
              "      gap: 12px;\n",
              "    }\n",
              "\n",
              "    .colab-df-convert {\n",
              "      background-color: #E8F0FE;\n",
              "      border: none;\n",
              "      border-radius: 50%;\n",
              "      cursor: pointer;\n",
              "      display: none;\n",
              "      fill: #1967D2;\n",
              "      height: 32px;\n",
              "      padding: 0 0 0 0;\n",
              "      width: 32px;\n",
              "    }\n",
              "\n",
              "    .colab-df-convert:hover {\n",
              "      background-color: #E2EBFA;\n",
              "      box-shadow: 0px 1px 2px rgba(60, 64, 67, 0.3), 0px 1px 3px 1px rgba(60, 64, 67, 0.15);\n",
              "      fill: #174EA6;\n",
              "    }\n",
              "\n",
              "    [theme=dark] .colab-df-convert {\n",
              "      background-color: #3B4455;\n",
              "      fill: #D2E3FC;\n",
              "    }\n",
              "\n",
              "    [theme=dark] .colab-df-convert:hover {\n",
              "      background-color: #434B5C;\n",
              "      box-shadow: 0px 1px 3px 1px rgba(0, 0, 0, 0.15);\n",
              "      filter: drop-shadow(0px 1px 2px rgba(0, 0, 0, 0.3));\n",
              "      fill: #FFFFFF;\n",
              "    }\n",
              "  </style>\n",
              "\n",
              "      <script>\n",
              "        const buttonEl =\n",
              "          document.querySelector('#df-f6c2906c-04d8-4e80-95e9-0af67c7024a5 button.colab-df-convert');\n",
              "        buttonEl.style.display =\n",
              "          google.colab.kernel.accessAllowed ? 'block' : 'none';\n",
              "\n",
              "        async function convertToInteractive(key) {\n",
              "          const element = document.querySelector('#df-f6c2906c-04d8-4e80-95e9-0af67c7024a5');\n",
              "          const dataTable =\n",
              "            await google.colab.kernel.invokeFunction('convertToInteractive',\n",
              "                                                     [key], {});\n",
              "          if (!dataTable) return;\n",
              "\n",
              "          const docLinkHtml = 'Like what you see? Visit the ' +\n",
              "            '<a target=\"_blank\" href=https://colab.research.google.com/notebooks/data_table.ipynb>data table notebook</a>'\n",
              "            + ' to learn more about interactive tables.';\n",
              "          element.innerHTML = '';\n",
              "          dataTable['output_type'] = 'display_data';\n",
              "          await google.colab.output.renderOutput(dataTable, element);\n",
              "          const docLink = document.createElement('div');\n",
              "          docLink.innerHTML = docLinkHtml;\n",
              "          element.appendChild(docLink);\n",
              "        }\n",
              "      </script>\n",
              "    </div>\n",
              "  </div>\n",
              "  "
            ]
          },
          "metadata": {},
          "execution_count": 2
        }
      ]
    },
    {
      "cell_type": "markdown",
      "source": [
        "### Now since our network wont understnt english language, we simply cannot say sex = \"female\". Therefore, we have to convert it into numbers. This is done using encoding technique called One-Hot Encoding."
      ],
      "metadata": {
        "id": "whMtt6RJ2A2G"
      }
    },
    {
      "cell_type": "code",
      "source": [
        "insur_one_hot = pd.get_dummies(insurance)\n",
        "insur_one_hot.head()"
      ],
      "metadata": {
        "colab": {
          "base_uri": "https://localhost:8080/",
          "height": 206
        },
        "id": "tgvZ-mm_0dbX",
        "outputId": "50cf9d6a-3b89-44fc-f5be-8d021e7fa51c"
      },
      "execution_count": 3,
      "outputs": [
        {
          "output_type": "execute_result",
          "data": {
            "text/plain": [
              "   age     bmi  children      charges  sex_female  sex_male  smoker_no  \\\n",
              "0   19  27.900         0  16884.92400           1         0          0   \n",
              "1   18  33.770         1   1725.55230           0         1          1   \n",
              "2   28  33.000         3   4449.46200           0         1          1   \n",
              "3   33  22.705         0  21984.47061           0         1          1   \n",
              "4   32  28.880         0   3866.85520           0         1          1   \n",
              "\n",
              "   smoker_yes  region_northeast  region_northwest  region_southeast  \\\n",
              "0           1                 0                 0                 0   \n",
              "1           0                 0                 0                 1   \n",
              "2           0                 0                 0                 1   \n",
              "3           0                 0                 1                 0   \n",
              "4           0                 0                 1                 0   \n",
              "\n",
              "   region_southwest  \n",
              "0                 1  \n",
              "1                 0  \n",
              "2                 0  \n",
              "3                 0  \n",
              "4                 0  "
            ],
            "text/html": [
              "\n",
              "  <div id=\"df-1b17c518-2e07-4cac-bbf8-079aaa3a6342\">\n",
              "    <div class=\"colab-df-container\">\n",
              "      <div>\n",
              "<style scoped>\n",
              "    .dataframe tbody tr th:only-of-type {\n",
              "        vertical-align: middle;\n",
              "    }\n",
              "\n",
              "    .dataframe tbody tr th {\n",
              "        vertical-align: top;\n",
              "    }\n",
              "\n",
              "    .dataframe thead th {\n",
              "        text-align: right;\n",
              "    }\n",
              "</style>\n",
              "<table border=\"1\" class=\"dataframe\">\n",
              "  <thead>\n",
              "    <tr style=\"text-align: right;\">\n",
              "      <th></th>\n",
              "      <th>age</th>\n",
              "      <th>bmi</th>\n",
              "      <th>children</th>\n",
              "      <th>charges</th>\n",
              "      <th>sex_female</th>\n",
              "      <th>sex_male</th>\n",
              "      <th>smoker_no</th>\n",
              "      <th>smoker_yes</th>\n",
              "      <th>region_northeast</th>\n",
              "      <th>region_northwest</th>\n",
              "      <th>region_southeast</th>\n",
              "      <th>region_southwest</th>\n",
              "    </tr>\n",
              "  </thead>\n",
              "  <tbody>\n",
              "    <tr>\n",
              "      <th>0</th>\n",
              "      <td>19</td>\n",
              "      <td>27.900</td>\n",
              "      <td>0</td>\n",
              "      <td>16884.92400</td>\n",
              "      <td>1</td>\n",
              "      <td>0</td>\n",
              "      <td>0</td>\n",
              "      <td>1</td>\n",
              "      <td>0</td>\n",
              "      <td>0</td>\n",
              "      <td>0</td>\n",
              "      <td>1</td>\n",
              "    </tr>\n",
              "    <tr>\n",
              "      <th>1</th>\n",
              "      <td>18</td>\n",
              "      <td>33.770</td>\n",
              "      <td>1</td>\n",
              "      <td>1725.55230</td>\n",
              "      <td>0</td>\n",
              "      <td>1</td>\n",
              "      <td>1</td>\n",
              "      <td>0</td>\n",
              "      <td>0</td>\n",
              "      <td>0</td>\n",
              "      <td>1</td>\n",
              "      <td>0</td>\n",
              "    </tr>\n",
              "    <tr>\n",
              "      <th>2</th>\n",
              "      <td>28</td>\n",
              "      <td>33.000</td>\n",
              "      <td>3</td>\n",
              "      <td>4449.46200</td>\n",
              "      <td>0</td>\n",
              "      <td>1</td>\n",
              "      <td>1</td>\n",
              "      <td>0</td>\n",
              "      <td>0</td>\n",
              "      <td>0</td>\n",
              "      <td>1</td>\n",
              "      <td>0</td>\n",
              "    </tr>\n",
              "    <tr>\n",
              "      <th>3</th>\n",
              "      <td>33</td>\n",
              "      <td>22.705</td>\n",
              "      <td>0</td>\n",
              "      <td>21984.47061</td>\n",
              "      <td>0</td>\n",
              "      <td>1</td>\n",
              "      <td>1</td>\n",
              "      <td>0</td>\n",
              "      <td>0</td>\n",
              "      <td>1</td>\n",
              "      <td>0</td>\n",
              "      <td>0</td>\n",
              "    </tr>\n",
              "    <tr>\n",
              "      <th>4</th>\n",
              "      <td>32</td>\n",
              "      <td>28.880</td>\n",
              "      <td>0</td>\n",
              "      <td>3866.85520</td>\n",
              "      <td>0</td>\n",
              "      <td>1</td>\n",
              "      <td>1</td>\n",
              "      <td>0</td>\n",
              "      <td>0</td>\n",
              "      <td>1</td>\n",
              "      <td>0</td>\n",
              "      <td>0</td>\n",
              "    </tr>\n",
              "  </tbody>\n",
              "</table>\n",
              "</div>\n",
              "      <button class=\"colab-df-convert\" onclick=\"convertToInteractive('df-1b17c518-2e07-4cac-bbf8-079aaa3a6342')\"\n",
              "              title=\"Convert this dataframe to an interactive table.\"\n",
              "              style=\"display:none;\">\n",
              "        \n",
              "  <svg xmlns=\"http://www.w3.org/2000/svg\" height=\"24px\"viewBox=\"0 0 24 24\"\n",
              "       width=\"24px\">\n",
              "    <path d=\"M0 0h24v24H0V0z\" fill=\"none\"/>\n",
              "    <path d=\"M18.56 5.44l.94 2.06.94-2.06 2.06-.94-2.06-.94-.94-2.06-.94 2.06-2.06.94zm-11 1L8.5 8.5l.94-2.06 2.06-.94-2.06-.94L8.5 2.5l-.94 2.06-2.06.94zm10 10l.94 2.06.94-2.06 2.06-.94-2.06-.94-.94-2.06-.94 2.06-2.06.94z\"/><path d=\"M17.41 7.96l-1.37-1.37c-.4-.4-.92-.59-1.43-.59-.52 0-1.04.2-1.43.59L10.3 9.45l-7.72 7.72c-.78.78-.78 2.05 0 2.83L4 21.41c.39.39.9.59 1.41.59.51 0 1.02-.2 1.41-.59l7.78-7.78 2.81-2.81c.8-.78.8-2.07 0-2.86zM5.41 20L4 18.59l7.72-7.72 1.47 1.35L5.41 20z\"/>\n",
              "  </svg>\n",
              "      </button>\n",
              "      \n",
              "  <style>\n",
              "    .colab-df-container {\n",
              "      display:flex;\n",
              "      flex-wrap:wrap;\n",
              "      gap: 12px;\n",
              "    }\n",
              "\n",
              "    .colab-df-convert {\n",
              "      background-color: #E8F0FE;\n",
              "      border: none;\n",
              "      border-radius: 50%;\n",
              "      cursor: pointer;\n",
              "      display: none;\n",
              "      fill: #1967D2;\n",
              "      height: 32px;\n",
              "      padding: 0 0 0 0;\n",
              "      width: 32px;\n",
              "    }\n",
              "\n",
              "    .colab-df-convert:hover {\n",
              "      background-color: #E2EBFA;\n",
              "      box-shadow: 0px 1px 2px rgba(60, 64, 67, 0.3), 0px 1px 3px 1px rgba(60, 64, 67, 0.15);\n",
              "      fill: #174EA6;\n",
              "    }\n",
              "\n",
              "    [theme=dark] .colab-df-convert {\n",
              "      background-color: #3B4455;\n",
              "      fill: #D2E3FC;\n",
              "    }\n",
              "\n",
              "    [theme=dark] .colab-df-convert:hover {\n",
              "      background-color: #434B5C;\n",
              "      box-shadow: 0px 1px 3px 1px rgba(0, 0, 0, 0.15);\n",
              "      filter: drop-shadow(0px 1px 2px rgba(0, 0, 0, 0.3));\n",
              "      fill: #FFFFFF;\n",
              "    }\n",
              "  </style>\n",
              "\n",
              "      <script>\n",
              "        const buttonEl =\n",
              "          document.querySelector('#df-1b17c518-2e07-4cac-bbf8-079aaa3a6342 button.colab-df-convert');\n",
              "        buttonEl.style.display =\n",
              "          google.colab.kernel.accessAllowed ? 'block' : 'none';\n",
              "\n",
              "        async function convertToInteractive(key) {\n",
              "          const element = document.querySelector('#df-1b17c518-2e07-4cac-bbf8-079aaa3a6342');\n",
              "          const dataTable =\n",
              "            await google.colab.kernel.invokeFunction('convertToInteractive',\n",
              "                                                     [key], {});\n",
              "          if (!dataTable) return;\n",
              "\n",
              "          const docLinkHtml = 'Like what you see? Visit the ' +\n",
              "            '<a target=\"_blank\" href=https://colab.research.google.com/notebooks/data_table.ipynb>data table notebook</a>'\n",
              "            + ' to learn more about interactive tables.';\n",
              "          element.innerHTML = '';\n",
              "          dataTable['output_type'] = 'display_data';\n",
              "          await google.colab.output.renderOutput(dataTable, element);\n",
              "          const docLink = document.createElement('div');\n",
              "          docLink.innerHTML = docLinkHtml;\n",
              "          element.appendChild(docLink);\n",
              "        }\n",
              "      </script>\n",
              "    </div>\n",
              "  </div>\n",
              "  "
            ]
          },
          "metadata": {},
          "execution_count": 3
        }
      ]
    },
    {
      "cell_type": "code",
      "source": [
        "# Droping charges coloumn and create X dataset.\n",
        "X = insur_one_hot.drop('charges', axis = 1)\n",
        "X.head()"
      ],
      "metadata": {
        "colab": {
          "base_uri": "https://localhost:8080/",
          "height": 206
        },
        "id": "hRM9TJ6h13Ov",
        "outputId": "03327b3a-e63a-46a1-9330-087e717d24a9"
      },
      "execution_count": 4,
      "outputs": [
        {
          "output_type": "execute_result",
          "data": {
            "text/plain": [
              "   age     bmi  children  sex_female  sex_male  smoker_no  smoker_yes  \\\n",
              "0   19  27.900         0           1         0          0           1   \n",
              "1   18  33.770         1           0         1          1           0   \n",
              "2   28  33.000         3           0         1          1           0   \n",
              "3   33  22.705         0           0         1          1           0   \n",
              "4   32  28.880         0           0         1          1           0   \n",
              "\n",
              "   region_northeast  region_northwest  region_southeast  region_southwest  \n",
              "0                 0                 0                 0                 1  \n",
              "1                 0                 0                 1                 0  \n",
              "2                 0                 0                 1                 0  \n",
              "3                 0                 1                 0                 0  \n",
              "4                 0                 1                 0                 0  "
            ],
            "text/html": [
              "\n",
              "  <div id=\"df-cce5b7b3-37a3-4270-a871-196bea51e8b6\">\n",
              "    <div class=\"colab-df-container\">\n",
              "      <div>\n",
              "<style scoped>\n",
              "    .dataframe tbody tr th:only-of-type {\n",
              "        vertical-align: middle;\n",
              "    }\n",
              "\n",
              "    .dataframe tbody tr th {\n",
              "        vertical-align: top;\n",
              "    }\n",
              "\n",
              "    .dataframe thead th {\n",
              "        text-align: right;\n",
              "    }\n",
              "</style>\n",
              "<table border=\"1\" class=\"dataframe\">\n",
              "  <thead>\n",
              "    <tr style=\"text-align: right;\">\n",
              "      <th></th>\n",
              "      <th>age</th>\n",
              "      <th>bmi</th>\n",
              "      <th>children</th>\n",
              "      <th>sex_female</th>\n",
              "      <th>sex_male</th>\n",
              "      <th>smoker_no</th>\n",
              "      <th>smoker_yes</th>\n",
              "      <th>region_northeast</th>\n",
              "      <th>region_northwest</th>\n",
              "      <th>region_southeast</th>\n",
              "      <th>region_southwest</th>\n",
              "    </tr>\n",
              "  </thead>\n",
              "  <tbody>\n",
              "    <tr>\n",
              "      <th>0</th>\n",
              "      <td>19</td>\n",
              "      <td>27.900</td>\n",
              "      <td>0</td>\n",
              "      <td>1</td>\n",
              "      <td>0</td>\n",
              "      <td>0</td>\n",
              "      <td>1</td>\n",
              "      <td>0</td>\n",
              "      <td>0</td>\n",
              "      <td>0</td>\n",
              "      <td>1</td>\n",
              "    </tr>\n",
              "    <tr>\n",
              "      <th>1</th>\n",
              "      <td>18</td>\n",
              "      <td>33.770</td>\n",
              "      <td>1</td>\n",
              "      <td>0</td>\n",
              "      <td>1</td>\n",
              "      <td>1</td>\n",
              "      <td>0</td>\n",
              "      <td>0</td>\n",
              "      <td>0</td>\n",
              "      <td>1</td>\n",
              "      <td>0</td>\n",
              "    </tr>\n",
              "    <tr>\n",
              "      <th>2</th>\n",
              "      <td>28</td>\n",
              "      <td>33.000</td>\n",
              "      <td>3</td>\n",
              "      <td>0</td>\n",
              "      <td>1</td>\n",
              "      <td>1</td>\n",
              "      <td>0</td>\n",
              "      <td>0</td>\n",
              "      <td>0</td>\n",
              "      <td>1</td>\n",
              "      <td>0</td>\n",
              "    </tr>\n",
              "    <tr>\n",
              "      <th>3</th>\n",
              "      <td>33</td>\n",
              "      <td>22.705</td>\n",
              "      <td>0</td>\n",
              "      <td>0</td>\n",
              "      <td>1</td>\n",
              "      <td>1</td>\n",
              "      <td>0</td>\n",
              "      <td>0</td>\n",
              "      <td>1</td>\n",
              "      <td>0</td>\n",
              "      <td>0</td>\n",
              "    </tr>\n",
              "    <tr>\n",
              "      <th>4</th>\n",
              "      <td>32</td>\n",
              "      <td>28.880</td>\n",
              "      <td>0</td>\n",
              "      <td>0</td>\n",
              "      <td>1</td>\n",
              "      <td>1</td>\n",
              "      <td>0</td>\n",
              "      <td>0</td>\n",
              "      <td>1</td>\n",
              "      <td>0</td>\n",
              "      <td>0</td>\n",
              "    </tr>\n",
              "  </tbody>\n",
              "</table>\n",
              "</div>\n",
              "      <button class=\"colab-df-convert\" onclick=\"convertToInteractive('df-cce5b7b3-37a3-4270-a871-196bea51e8b6')\"\n",
              "              title=\"Convert this dataframe to an interactive table.\"\n",
              "              style=\"display:none;\">\n",
              "        \n",
              "  <svg xmlns=\"http://www.w3.org/2000/svg\" height=\"24px\"viewBox=\"0 0 24 24\"\n",
              "       width=\"24px\">\n",
              "    <path d=\"M0 0h24v24H0V0z\" fill=\"none\"/>\n",
              "    <path d=\"M18.56 5.44l.94 2.06.94-2.06 2.06-.94-2.06-.94-.94-2.06-.94 2.06-2.06.94zm-11 1L8.5 8.5l.94-2.06 2.06-.94-2.06-.94L8.5 2.5l-.94 2.06-2.06.94zm10 10l.94 2.06.94-2.06 2.06-.94-2.06-.94-.94-2.06-.94 2.06-2.06.94z\"/><path d=\"M17.41 7.96l-1.37-1.37c-.4-.4-.92-.59-1.43-.59-.52 0-1.04.2-1.43.59L10.3 9.45l-7.72 7.72c-.78.78-.78 2.05 0 2.83L4 21.41c.39.39.9.59 1.41.59.51 0 1.02-.2 1.41-.59l7.78-7.78 2.81-2.81c.8-.78.8-2.07 0-2.86zM5.41 20L4 18.59l7.72-7.72 1.47 1.35L5.41 20z\"/>\n",
              "  </svg>\n",
              "      </button>\n",
              "      \n",
              "  <style>\n",
              "    .colab-df-container {\n",
              "      display:flex;\n",
              "      flex-wrap:wrap;\n",
              "      gap: 12px;\n",
              "    }\n",
              "\n",
              "    .colab-df-convert {\n",
              "      background-color: #E8F0FE;\n",
              "      border: none;\n",
              "      border-radius: 50%;\n",
              "      cursor: pointer;\n",
              "      display: none;\n",
              "      fill: #1967D2;\n",
              "      height: 32px;\n",
              "      padding: 0 0 0 0;\n",
              "      width: 32px;\n",
              "    }\n",
              "\n",
              "    .colab-df-convert:hover {\n",
              "      background-color: #E2EBFA;\n",
              "      box-shadow: 0px 1px 2px rgba(60, 64, 67, 0.3), 0px 1px 3px 1px rgba(60, 64, 67, 0.15);\n",
              "      fill: #174EA6;\n",
              "    }\n",
              "\n",
              "    [theme=dark] .colab-df-convert {\n",
              "      background-color: #3B4455;\n",
              "      fill: #D2E3FC;\n",
              "    }\n",
              "\n",
              "    [theme=dark] .colab-df-convert:hover {\n",
              "      background-color: #434B5C;\n",
              "      box-shadow: 0px 1px 3px 1px rgba(0, 0, 0, 0.15);\n",
              "      filter: drop-shadow(0px 1px 2px rgba(0, 0, 0, 0.3));\n",
              "      fill: #FFFFFF;\n",
              "    }\n",
              "  </style>\n",
              "\n",
              "      <script>\n",
              "        const buttonEl =\n",
              "          document.querySelector('#df-cce5b7b3-37a3-4270-a871-196bea51e8b6 button.colab-df-convert');\n",
              "        buttonEl.style.display =\n",
              "          google.colab.kernel.accessAllowed ? 'block' : 'none';\n",
              "\n",
              "        async function convertToInteractive(key) {\n",
              "          const element = document.querySelector('#df-cce5b7b3-37a3-4270-a871-196bea51e8b6');\n",
              "          const dataTable =\n",
              "            await google.colab.kernel.invokeFunction('convertToInteractive',\n",
              "                                                     [key], {});\n",
              "          if (!dataTable) return;\n",
              "\n",
              "          const docLinkHtml = 'Like what you see? Visit the ' +\n",
              "            '<a target=\"_blank\" href=https://colab.research.google.com/notebooks/data_table.ipynb>data table notebook</a>'\n",
              "            + ' to learn more about interactive tables.';\n",
              "          element.innerHTML = '';\n",
              "          dataTable['output_type'] = 'display_data';\n",
              "          await google.colab.output.renderOutput(dataTable, element);\n",
              "          const docLink = document.createElement('div');\n",
              "          docLink.innerHTML = docLinkHtml;\n",
              "          element.appendChild(docLink);\n",
              "        }\n",
              "      </script>\n",
              "    </div>\n",
              "  </div>\n",
              "  "
            ]
          },
          "metadata": {},
          "execution_count": 4
        }
      ]
    },
    {
      "cell_type": "code",
      "source": [
        "# Droping all other expect charges coloumn and create y dataset.\n",
        "y = insur_one_hot['charges']\n",
        "y.head()"
      ],
      "metadata": {
        "colab": {
          "base_uri": "https://localhost:8080/"
        },
        "id": "ENIoOtgR4G_k",
        "outputId": "3f317611-82ea-4d83-871a-54554987ba6b"
      },
      "execution_count": 5,
      "outputs": [
        {
          "output_type": "execute_result",
          "data": {
            "text/plain": [
              "0    16884.92400\n",
              "1     1725.55230\n",
              "2     4449.46200\n",
              "3    21984.47061\n",
              "4     3866.85520\n",
              "Name: charges, dtype: float64"
            ]
          },
          "metadata": {},
          "execution_count": 5
        }
      ]
    },
    {
      "cell_type": "code",
      "source": [
        "# Creating training and testing set.\n",
        "from sklearn.model_selection import train_test_split\n",
        "X_train, X_test, y_train, y_test = train_test_split(X, y, test_size = 0.2, random_state = 42)"
      ],
      "metadata": {
        "id": "kj3f2FPa5Hk0"
      },
      "execution_count": 6,
      "outputs": []
    },
    {
      "cell_type": "code",
      "source": [
        "# Checking whether split tooke place!\n",
        "len(X), len(X_train), len(X_test)"
      ],
      "metadata": {
        "colab": {
          "base_uri": "https://localhost:8080/"
        },
        "id": "AVTt7mu66FH4",
        "outputId": "8f9516f7-ece9-44a7-bbe6-7fb54b0303e3"
      },
      "execution_count": 7,
      "outputs": [
        {
          "output_type": "execute_result",
          "data": {
            "text/plain": [
              "(1338, 1070, 268)"
            ]
          },
          "metadata": {},
          "execution_count": 7
        }
      ]
    },
    {
      "cell_type": "code",
      "source": [
        "# Building a neural network.\n",
        "tf.random.set_seed(42)\n",
        "\n",
        "# 1. Create a model.\n",
        "insurance_model = tf.keras.Sequential([\n",
        "    \n",
        "    tf.keras.layers.Dense(10),\n",
        "    tf.keras.layers.Dense(1)\n",
        "\n",
        "])\n",
        "\n",
        "# 2. Compile\n",
        "insurance_model.compile(loss = tf.keras.losses.mae,\n",
        "                        optimizer = tf.keras.optimizers.SGD(),\n",
        "                        metrics = ['mae'])"
      ],
      "metadata": {
        "id": "4HY8Docv6f5O"
      },
      "execution_count": 118,
      "outputs": []
    },
    {
      "cell_type": "code",
      "source": [
        "insurance_model.fit(X_train, y_train, epochs = 100)"
      ],
      "metadata": {
        "id": "0x48qxft7WNU"
      },
      "execution_count": null,
      "outputs": []
    },
    {
      "cell_type": "code",
      "source": [
        "insurance_model.evaluate(X_test, y_test), \n",
        "X_train.median(), \n",
        "y_train.mean()"
      ],
      "metadata": {
        "colab": {
          "base_uri": "https://localhost:8080/"
        },
        "id": "5qreMZnr9uGw",
        "outputId": "a198ca1b-197b-4b0a-cfbb-f52dbc6b7952"
      },
      "execution_count": 131,
      "outputs": [
        {
          "output_type": "stream",
          "name": "stdout",
          "text": [
            "9/9 [==============================] - 0s 3ms/step - loss: 7208.2280 - mae: 7208.2280\n"
          ]
        },
        {
          "output_type": "execute_result",
          "data": {
            "text/plain": [
              "([7208.22802734375, 7208.22802734375], age                 39.50\n",
              " bmi                 30.21\n",
              " children             1.00\n",
              " sex_female           0.00\n",
              " sex_male             1.00\n",
              " smoker_no            1.00\n",
              " smoker_yes           0.00\n",
              " region_northeast     0.00\n",
              " region_northwest     0.00\n",
              " region_southeast     0.00\n",
              " region_southwest     0.00\n",
              " dtype: float64, 13346.089736364485)"
            ]
          },
          "metadata": {},
          "execution_count": 131
        }
      ]
    },
    {
      "cell_type": "code",
      "source": [
        "X_test.head(), y_test.head()"
      ],
      "metadata": {
        "colab": {
          "base_uri": "https://localhost:8080/"
        },
        "id": "iMwfAhKh8CUl",
        "outputId": "b2149b1c-6807-49bf-effb-8561ebc56fc6"
      },
      "execution_count": 127,
      "outputs": [
        {
          "output_type": "execute_result",
          "data": {
            "text/plain": [
              "(      age     bmi  children  sex_female  sex_male  smoker_no  smoker_yes  \\\n",
              " 764    45  25.175         2           1         0          1           0   \n",
              " 887    36  30.020         0           1         0          1           0   \n",
              " 890    64  26.885         0           1         0          0           1   \n",
              " 1293   46  25.745         3           0         1          1           0   \n",
              " 259    19  31.920         0           0         1          0           1   \n",
              " \n",
              "       region_northeast  region_northwest  region_southeast  region_southwest  \n",
              " 764                  1                 0                 0                 0  \n",
              " 887                  0                 1                 0                 0  \n",
              " 890                  0                 1                 0                 0  \n",
              " 1293                 0                 1                 0                 0  \n",
              " 259                  0                 1                 0                 0  ,\n",
              " 764      9095.06825\n",
              " 887      5272.17580\n",
              " 890     29330.98315\n",
              " 1293     9301.89355\n",
              " 259     33750.29180\n",
              " Name: charges, dtype: float64)"
            ]
          },
          "metadata": {},
          "execution_count": 127
        }
      ]
    },
    {
      "cell_type": "code",
      "source": [
        "# Predictions\n",
        "y_pred = insurance_model.predict(X_test)\n",
        "y_pred[:10]"
      ],
      "metadata": {
        "colab": {
          "base_uri": "https://localhost:8080/"
        },
        "id": "IIxdL2lW8bJV",
        "outputId": "4ea92be8-56a4-4f1c-9ccb-066e3cfd713a"
      },
      "execution_count": 133,
      "outputs": [
        {
          "output_type": "stream",
          "name": "stdout",
          "text": [
            "9/9 [==============================] - 0s 2ms/step\n"
          ]
        },
        {
          "output_type": "execute_result",
          "data": {
            "text/plain": [
              "array([[13054.799 ],\n",
              "       [ 9346.032 ],\n",
              "       [21026.379 ],\n",
              "       [13565.577 ],\n",
              "       [ 7822.473 ],\n",
              "       [ 9392.602 ],\n",
              "       [ 4135.4365],\n",
              "       [17734.398 ],\n",
              "       [ 6860.392 ],\n",
              "       [14528.269 ]], dtype=float32)"
            ]
          },
          "metadata": {},
          "execution_count": 133
        }
      ]
    },
    {
      "cell_type": "code",
      "source": [
        "# Lets try imporving our model.\n",
        "tf.random.set_seed(42)\n",
        "\n",
        "insurance_model_2 = tf.keras.Sequential([\n",
        "    tf.keras.layers.Dense(100),\n",
        "    tf.keras.layers.Dense(1)\n",
        "])\n",
        "\n",
        "insurance_model_2.compile(loss = tf.keras.losses.mae,\n",
        "                          optimizer = tf.keras.optimizers.Adam(learning_rate = 0.001),\n",
        "                          metrics = [\"mae\"])"
      ],
      "metadata": {
        "id": "vCeGdpY98wIk"
      },
      "execution_count": 13,
      "outputs": []
    },
    {
      "cell_type": "code",
      "source": [
        "insurance_model_2.fit(X_train, y_train, epochs = 200)"
      ],
      "metadata": {
        "id": "65DkTzVI_S2Q"
      },
      "execution_count": null,
      "outputs": []
    },
    {
      "cell_type": "code",
      "source": [
        "insurance_model_2.evaluate(X_test, y_test)"
      ],
      "metadata": {
        "colab": {
          "base_uri": "https://localhost:8080/"
        },
        "id": "1Dc14V4L_uZn",
        "outputId": "40fac8d2-f3bc-4b64-bbc2-6fa91491aba9"
      },
      "execution_count": 15,
      "outputs": [
        {
          "output_type": "stream",
          "name": "stdout",
          "text": [
            "9/9 [==============================] - 0s 3ms/step - loss: 6023.5151 - mae: 6023.5151\n"
          ]
        },
        {
          "output_type": "execute_result",
          "data": {
            "text/plain": [
              "[6023.51513671875, 6023.51513671875]"
            ]
          },
          "metadata": {},
          "execution_count": 15
        }
      ]
    },
    {
      "cell_type": "code",
      "source": [
        "# Still not much of a progress, let make a slight heavy change.\n",
        "tf.random.set_seed(42)\n",
        "\n",
        "insurance_model_3 = tf.keras.Sequential([\n",
        "    tf.keras.layers.Dense(100, activation = 'relu'),\n",
        "    tf.keras.layers.Dense(100, activation = 'relu'),\n",
        "    tf.keras.layers.Dense(1)\n",
        "])\n",
        "\n",
        "insurance_model_3.compile(loss = tf.keras.losses.mae,\n",
        "                          optimizer = tf.keras.optimizers.Adam(learning_rate = 0.001),\n",
        "                          metrics = ['mae'])"
      ],
      "metadata": {
        "id": "3RDC9D-fANqr"
      },
      "execution_count": 8,
      "outputs": []
    },
    {
      "cell_type": "code",
      "source": [
        "history = insurance_model_3.fit(X_train, y_train, epochs = 200, verbose = 0)"
      ],
      "metadata": {
        "id": "TjRk_4XXDEdT"
      },
      "execution_count": 9,
      "outputs": []
    },
    {
      "cell_type": "code",
      "source": [
        "insurance_model_3.evaluate(X_test, y_test)"
      ],
      "metadata": {
        "colab": {
          "base_uri": "https://localhost:8080/"
        },
        "id": "as1WmIL2DJaJ",
        "outputId": "41775c3a-565b-4fc9-bd5a-5b9b595a0ba6"
      },
      "execution_count": 10,
      "outputs": [
        {
          "output_type": "stream",
          "name": "stdout",
          "text": [
            "9/9 [==============================] - 0s 3ms/step - loss: 2406.1750 - mae: 2406.1750\n"
          ]
        },
        {
          "output_type": "execute_result",
          "data": {
            "text/plain": [
              "[2406.175048828125, 2406.175048828125]"
            ]
          },
          "metadata": {},
          "execution_count": 10
        }
      ]
    },
    {
      "cell_type": "code",
      "source": [
        "# Prediction test\n",
        "y_pred_model_2 = insurance_model_2.predict(X_test)\n",
        "y_pred_model_3 = insurance_model_3.predict(X_test)\n",
        "\n",
        "print(y_pred_model_2[:10])\n",
        "print()\n",
        "print(y_pred_model_3[:10])"
      ],
      "metadata": {
        "colab": {
          "base_uri": "https://localhost:8080/"
        },
        "id": "dx-L-kntDabk",
        "outputId": "08ce9f19-3835-4e85-d3d0-05096abc0ab2"
      },
      "execution_count": 16,
      "outputs": [
        {
          "output_type": "stream",
          "name": "stdout",
          "text": [
            "9/9 [==============================] - 0s 2ms/step\n",
            "9/9 [==============================] - 0s 2ms/step\n",
            "[[10045.323 ]\n",
            " [ 6380.9463]\n",
            " [16344.682 ]\n",
            " [ 9915.71  ]\n",
            " [ 3784.672 ]\n",
            " [ 4722.141 ]\n",
            " [ 2363.8628]\n",
            " [12875.523 ]\n",
            " [ 5361.773 ]\n",
            " [10525.048 ]]\n",
            "\n",
            "[[ 9026.698 ]\n",
            " [ 5232.9907]\n",
            " [33063.8   ]\n",
            " [ 9207.073 ]\n",
            " [32155.361 ]\n",
            " [ 4664.931 ]\n",
            " [ 1879.3092]\n",
            " [13934.548 ]\n",
            " [ 3595.363 ]\n",
            " [10153.895 ]]\n"
          ]
        }
      ]
    },
    {
      "cell_type": "code",
      "source": [
        "# Plot history (also know as loss curve or training curve).\n",
        "pd.DataFrame(history.history).plot()\n",
        "plt.ylabel('loss')\n",
        "plt.xlabel('epochs')"
      ],
      "metadata": {
        "colab": {
          "base_uri": "https://localhost:8080/",
          "height": 297
        },
        "id": "1_sD1EqTEJFJ",
        "outputId": "07b3119b-b846-4039-b54e-5b70a2e852bc"
      },
      "execution_count": 17,
      "outputs": [
        {
          "output_type": "execute_result",
          "data": {
            "text/plain": [
              "Text(0.5, 0, 'epochs')"
            ]
          },
          "metadata": {},
          "execution_count": 17
        },
        {
          "output_type": "display_data",
          "data": {
            "text/plain": [
              "<Figure size 432x288 with 1 Axes>"
            ],
            "image/png": "[encoded data removed]"
          },
          "metadata": {
            "needs_background": "light"
          }
        }
      ]
    },
    {
      "cell_type": "markdown",
      "source": [
        "If you look at the above curve, at 1st epoch the loss was around 13,000.00 but as we reached closer to the final epochs we ended up below 4000.00. In practice we got 2427... something."
      ],
      "metadata": {
        "id": "KICRTU-5H2XA"
      }
    },
    {
      "cell_type": "markdown",
      "source": [
        "## **Preprocessing Data (Normalisation and Standardisation).**\n",
        "In terms of scaling values, neural networks tend to prefer normalization."
      ],
      "metadata": {
        "id": "0KpSNbm9uIaX"
      }
    },
    {
      "cell_type": "code",
      "source": [
        "import pandas as pd\n",
        "import matplotlib.pyplot as plt\n",
        "import tensorflow as tf\n",
        "\n",
        "# Read the csv file.\n",
        "insurance = pd.read_csv(\"https://raw.githubusercontent.com/stedy/Machine-Learning-with-R-datasets/master/insurance.csv\")\n",
        "insurance.head()"
      ],
      "metadata": {
        "colab": {
          "base_uri": "https://localhost:8080/",
          "height": 206
        },
        "id": "HmdLdB65xDCi",
        "outputId": "67db5fd4-b792-40d2-bdb9-b6a573bcd91e"
      },
      "execution_count": 30,
      "outputs": [
        {
          "output_type": "execute_result",
          "data": {
            "text/plain": [
              "   age     sex     bmi  children smoker     region      charges\n",
              "0   19  female  27.900         0    yes  southwest  16884.92400\n",
              "1   18    male  33.770         1     no  southeast   1725.55230\n",
              "2   28    male  33.000         3     no  southeast   4449.46200\n",
              "3   33    male  22.705         0     no  northwest  21984.47061\n",
              "4   32    male  28.880         0     no  northwest   3866.85520"
            ],
            "text/html": [
              "\n",
              "  <div id=\"df-f3161cbb-264a-4654-b414-456f13331aff\">\n",
              "    <div class=\"colab-df-container\">\n",
              "      <div>\n",
              "<style scoped>\n",
              "    .dataframe tbody tr th:only-of-type {\n",
              "        vertical-align: middle;\n",
              "    }\n",
              "\n",
              "    .dataframe tbody tr th {\n",
              "        vertical-align: top;\n",
              "    }\n",
              "\n",
              "    .dataframe thead th {\n",
              "        text-align: right;\n",
              "    }\n",
              "</style>\n",
              "<table border=\"1\" class=\"dataframe\">\n",
              "  <thead>\n",
              "    <tr style=\"text-align: right;\">\n",
              "      <th></th>\n",
              "      <th>age</th>\n",
              "      <th>sex</th>\n",
              "      <th>bmi</th>\n",
              "      <th>children</th>\n",
              "      <th>smoker</th>\n",
              "      <th>region</th>\n",
              "      <th>charges</th>\n",
              "    </tr>\n",
              "  </thead>\n",
              "  <tbody>\n",
              "    <tr>\n",
              "      <th>0</th>\n",
              "      <td>19</td>\n",
              "      <td>female</td>\n",
              "      <td>27.900</td>\n",
              "      <td>0</td>\n",
              "      <td>yes</td>\n",
              "      <td>southwest</td>\n",
              "      <td>16884.92400</td>\n",
              "    </tr>\n",
              "    <tr>\n",
              "      <th>1</th>\n",
              "      <td>18</td>\n",
              "      <td>male</td>\n",
              "      <td>33.770</td>\n",
              "      <td>1</td>\n",
              "      <td>no</td>\n",
              "      <td>southeast</td>\n",
              "      <td>1725.55230</td>\n",
              "    </tr>\n",
              "    <tr>\n",
              "      <th>2</th>\n",
              "      <td>28</td>\n",
              "      <td>male</td>\n",
              "      <td>33.000</td>\n",
              "      <td>3</td>\n",
              "      <td>no</td>\n",
              "      <td>southeast</td>\n",
              "      <td>4449.46200</td>\n",
              "    </tr>\n",
              "    <tr>\n",
              "      <th>3</th>\n",
              "      <td>33</td>\n",
              "      <td>male</td>\n",
              "      <td>22.705</td>\n",
              "      <td>0</td>\n",
              "      <td>no</td>\n",
              "      <td>northwest</td>\n",
              "      <td>21984.47061</td>\n",
              "    </tr>\n",
              "    <tr>\n",
              "      <th>4</th>\n",
              "      <td>32</td>\n",
              "      <td>male</td>\n",
              "      <td>28.880</td>\n",
              "      <td>0</td>\n",
              "      <td>no</td>\n",
              "      <td>northwest</td>\n",
              "      <td>3866.85520</td>\n",
              "    </tr>\n",
              "  </tbody>\n",
              "</table>\n",
              "</div>\n",
              "      <button class=\"colab-df-convert\" onclick=\"convertToInteractive('df-f3161cbb-264a-4654-b414-456f13331aff')\"\n",
              "              title=\"Convert this dataframe to an interactive table.\"\n",
              "              style=\"display:none;\">\n",
              "        \n",
              "  <svg xmlns=\"http://www.w3.org/2000/svg\" height=\"24px\"viewBox=\"0 0 24 24\"\n",
              "       width=\"24px\">\n",
              "    <path d=\"M0 0h24v24H0V0z\" fill=\"none\"/>\n",
              "    <path d=\"M18.56 5.44l.94 2.06.94-2.06 2.06-.94-2.06-.94-.94-2.06-.94 2.06-2.06.94zm-11 1L8.5 8.5l.94-2.06 2.06-.94-2.06-.94L8.5 2.5l-.94 2.06-2.06.94zm10 10l.94 2.06.94-2.06 2.06-.94-2.06-.94-.94-2.06-.94 2.06-2.06.94z\"/><path d=\"M17.41 7.96l-1.37-1.37c-.4-.4-.92-.59-1.43-.59-.52 0-1.04.2-1.43.59L10.3 9.45l-7.72 7.72c-.78.78-.78 2.05 0 2.83L4 21.41c.39.39.9.59 1.41.59.51 0 1.02-.2 1.41-.59l7.78-7.78 2.81-2.81c.8-.78.8-2.07 0-2.86zM5.41 20L4 18.59l7.72-7.72 1.47 1.35L5.41 20z\"/>\n",
              "  </svg>\n",
              "      </button>\n",
              "      \n",
              "  <style>\n",
              "    .colab-df-container {\n",
              "      display:flex;\n",
              "      flex-wrap:wrap;\n",
              "      gap: 12px;\n",
              "    }\n",
              "\n",
              "    .colab-df-convert {\n",
              "      background-color: #E8F0FE;\n",
              "      border: none;\n",
              "      border-radius: 50%;\n",
              "      cursor: pointer;\n",
              "      display: none;\n",
              "      fill: #1967D2;\n",
              "      height: 32px;\n",
              "      padding: 0 0 0 0;\n",
              "      width: 32px;\n",
              "    }\n",
              "\n",
              "    .colab-df-convert:hover {\n",
              "      background-color: #E2EBFA;\n",
              "      box-shadow: 0px 1px 2px rgba(60, 64, 67, 0.3), 0px 1px 3px 1px rgba(60, 64, 67, 0.15);\n",
              "      fill: #174EA6;\n",
              "    }\n",
              "\n",
              "    [theme=dark] .colab-df-convert {\n",
              "      background-color: #3B4455;\n",
              "      fill: #D2E3FC;\n",
              "    }\n",
              "\n",
              "    [theme=dark] .colab-df-convert:hover {\n",
              "      background-color: #434B5C;\n",
              "      box-shadow: 0px 1px 3px 1px rgba(0, 0, 0, 0.15);\n",
              "      filter: drop-shadow(0px 1px 2px rgba(0, 0, 0, 0.3));\n",
              "      fill: #FFFFFF;\n",
              "    }\n",
              "  </style>\n",
              "\n",
              "      <script>\n",
              "        const buttonEl =\n",
              "          document.querySelector('#df-f3161cbb-264a-4654-b414-456f13331aff button.colab-df-convert');\n",
              "        buttonEl.style.display =\n",
              "          google.colab.kernel.accessAllowed ? 'block' : 'none';\n",
              "\n",
              "        async function convertToInteractive(key) {\n",
              "          const element = document.querySelector('#df-f3161cbb-264a-4654-b414-456f13331aff');\n",
              "          const dataTable =\n",
              "            await google.colab.kernel.invokeFunction('convertToInteractive',\n",
              "                                                     [key], {});\n",
              "          if (!dataTable) return;\n",
              "\n",
              "          const docLinkHtml = 'Like what you see? Visit the ' +\n",
              "            '<a target=\"_blank\" href=https://colab.research.google.com/notebooks/data_table.ipynb>data table notebook</a>'\n",
              "            + ' to learn more about interactive tables.';\n",
              "          element.innerHTML = '';\n",
              "          dataTable['output_type'] = 'display_data';\n",
              "          await google.colab.output.renderOutput(dataTable, element);\n",
              "          const docLink = document.createElement('div');\n",
              "          docLink.innerHTML = docLinkHtml;\n",
              "          element.appendChild(docLink);\n",
              "        }\n",
              "      </script>\n",
              "    </div>\n",
              "  </div>\n",
              "  "
            ]
          },
          "metadata": {},
          "execution_count": 30
        }
      ]
    },
    {
      "cell_type": "markdown",
      "source": [
        "To prepare our data we can borrow few classes from scikit-learn."
      ],
      "metadata": {
        "id": "lENm-N6fxnKj"
      }
    },
    {
      "cell_type": "code",
      "source": [
        "from sklearn.compose import make_column_transformer\n",
        "from sklearn.preprocessing import MinMaxScaler, OneHotEncoder"
      ],
      "metadata": {
        "id": "_TLA4xIUuQZN"
      },
      "execution_count": 39,
      "outputs": []
    },
    {
      "cell_type": "code",
      "source": [
        "# Create a column tranformer.\n",
        "ct = make_column_transformer((MinMaxScaler(), [\"age\", \"bmi\", \"children\"]), # Turns all values in these columns between 0 and 1.\n",
        "                             (OneHotEncoder(handle_unknown = \"ignore\"), [\"sex\", \"smoker\", \"region\"])) # Turns all these columns into One-Hot Encoding.\n",
        "\n",
        "# Creating X and y values.\n",
        "X = insurance.drop(\"charges\", axis = 1)\n",
        "y = insurance[\"charges\"]"
      ],
      "metadata": {
        "id": "JfX23gFQvJA4"
      },
      "execution_count": 40,
      "outputs": []
    },
    {
      "cell_type": "code",
      "source": [
        "# Splitting data into train and test\n",
        "from sklearn.model_selection import train_test_split\n",
        "X_train, X_test, y_train, y_test = train_test_split(X, y, test_size = 0.2, random_state = 42)\n",
        "# Make sure here order matters, after X_train you can directly y_train, first include X_test."
      ],
      "metadata": {
        "id": "OS5MAHIYzyYT"
      },
      "execution_count": 46,
      "outputs": []
    },
    {
      "cell_type": "code",
      "source": [
        "# Fitting column transformer to the training data.\n",
        "ct.fit(X_train)\n",
        "\n",
        "# Now we have to transform training and test data with Normalization (MinMaxScalar) and One-Hot-Encoding.\n",
        "X_train_normal = ct.transform(X_train)\n",
        "X_test_normal = ct.transform(X_test)"
      ],
      "metadata": {
        "id": "7LeznRJEvMes"
      },
      "execution_count": 49,
      "outputs": []
    },
    {
      "cell_type": "code",
      "source": [
        "X_train.loc[0]"
      ],
      "metadata": {
        "colab": {
          "base_uri": "https://localhost:8080/"
        },
        "id": "lBjBXfm31kRi",
        "outputId": "4337f98a-fe04-4107-f9ac-fd4b9351f52d"
      },
      "execution_count": 50,
      "outputs": [
        {
          "output_type": "execute_result",
          "data": {
            "text/plain": [
              "age                19\n",
              "sex            female\n",
              "bmi              27.9\n",
              "children            0\n",
              "smoker            yes\n",
              "region      southwest\n",
              "Name: 0, dtype: object"
            ]
          },
          "metadata": {},
          "execution_count": 50
        }
      ]
    },
    {
      "cell_type": "code",
      "source": [
        "# As you can see we have converted everything into numbers uing Normalization and One Hot Encoder.\n",
        "X_train_normal"
      ],
      "metadata": {
        "colab": {
          "base_uri": "https://localhost:8080/"
        },
        "id": "7swDwH2z1sOa",
        "outputId": "66496074-9ab1-4349-d7ad-2554d4d51f96"
      },
      "execution_count": 54,
      "outputs": [
        {
          "output_type": "execute_result",
          "data": {
            "text/plain": [
              "array([[0.60869565, 0.10734463, 0.4       , ..., 1.        , 0.        ,\n",
              "        0.        ],\n",
              "       [0.63043478, 0.22491256, 0.        , ..., 0.        , 0.        ,\n",
              "        0.        ],\n",
              "       [0.73913043, 0.23944041, 0.        , ..., 0.        , 1.        ,\n",
              "        0.        ],\n",
              "       ...,\n",
              "       [0.86956522, 0.24791499, 0.        , ..., 0.        , 0.        ,\n",
              "        0.        ],\n",
              "       [0.41304348, 0.85122411, 0.4       , ..., 0.        , 0.        ,\n",
              "        1.        ],\n",
              "       [0.80434783, 0.37503363, 0.        , ..., 0.        , 0.        ,\n",
              "        1.        ]])"
            ]
          },
          "metadata": {},
          "execution_count": 54
        }
      ]
    },
    {
      "cell_type": "code",
      "source": [
        "# Lets check the shapes.\n",
        "X_train.shape, X_train_normal.shape"
      ],
      "metadata": {
        "colab": {
          "base_uri": "https://localhost:8080/"
        },
        "id": "X4PPLujdvUkY",
        "outputId": "787bb719-325f-40c4-a6d7-ceefb52cfd91"
      },
      "execution_count": 55,
      "outputs": [
        {
          "output_type": "execute_result",
          "data": {
            "text/plain": [
              "((1070, 6), (1070, 11))"
            ]
          },
          "metadata": {},
          "execution_count": 55
        }
      ]
    },
    {
      "cell_type": "code",
      "source": [
        "X[\"children\"].value_counts()"
      ],
      "metadata": {
        "colab": {
          "base_uri": "https://localhost:8080/"
        },
        "id": "VbD8F1savq62",
        "outputId": "ff4d3629-5c2a-49bf-cd51-0344222e8bd2"
      },
      "execution_count": 29,
      "outputs": [
        {
          "output_type": "execute_result",
          "data": {
            "text/plain": [
              "0    574\n",
              "1    324\n",
              "2    240\n",
              "3    157\n",
              "4     25\n",
              "5     18\n",
              "Name: children, dtype: int64"
            ]
          },
          "metadata": {},
          "execution_count": 29
        }
      ]
    },
    {
      "cell_type": "code",
      "source": [
        "def mae(y_test, y_pred):\n",
        "  return tf.metrics.mean_absolute_error(y_test, tf.squeeze(y_pred))\n",
        "\n",
        "def mse(y_test, y_pred):\n",
        "  return tf.metrics.mean_squared_error(y_test, tf.squeeze(y_pred))"
      ],
      "metadata": {
        "id": "wjHHSWK25Rns"
      },
      "execution_count": 64,
      "outputs": []
    },
    {
      "cell_type": "markdown",
      "source": [
        "### Now that our data is ready we can build a Neural Network Model."
      ],
      "metadata": {
        "id": "EYtj6uZK3Uo6"
      }
    },
    {
      "cell_type": "code",
      "source": [
        "# Model 1\n",
        "tf.random.set_seed(42)\n",
        "\n",
        "model_1 = tf.keras.Sequential([\n",
        "    tf.keras.layers.Dense(100, activation = 'relu'),\n",
        "    tf.keras.layers.Dense(100, activation = 'relu'),\n",
        "    tf.keras.layers.Dense(100, activation = 'relu'),\n",
        "    tf.keras.layers.Dense(1)\n",
        "])\n",
        "\n",
        "model_1.compile(loss = tf.keras.losses.mae,\n",
        "                optimizer = tf.keras.optimizers.Adam(learning_rate = 0.001),\n",
        "                metrics = [\"mae\"])\n",
        "\n",
        "model_1.fit(X_train_normal, y_train, epochs = 200)"
      ],
      "metadata": {
        "id": "wJwEocXav4VB"
      },
      "execution_count": null,
      "outputs": []
    },
    {
      "cell_type": "code",
      "source": [
        "y_pred_1 = model_1.predict(X_test_normal)\n",
        "model_1.evaluate(X_test_normal, y_test)\n",
        "# 9/9 [==============================] - 0s 3ms/step - loss: 2406.1750 - mae: 2406.1750\n",
        "# Before normalization and One Hot Encoding."
      ],
      "metadata": {
        "colab": {
          "base_uri": "https://localhost:8080/"
        },
        "id": "0XPLqBq83-P6",
        "outputId": "8dadc23d-7f9f-40e2-bed3-133eef2dc2cd"
      },
      "execution_count": 77,
      "outputs": [
        {
          "output_type": "stream",
          "name": "stdout",
          "text": [
            "9/9 [==============================] - 0s 2ms/step\n",
            "9/9 [==============================] - 0s 2ms/step - loss: 1764.9991 - mae: 1764.9991\n"
          ]
        },
        {
          "output_type": "execute_result",
          "data": {
            "text/plain": [
              "[1764.9991455078125, 1764.9991455078125]"
            ]
          },
          "metadata": {},
          "execution_count": 77
        }
      ]
    },
    {
      "cell_type": "code",
      "source": [
        "mae(y_test, y_pred_1), mse(y_test, y_pred_1)"
      ],
      "metadata": {
        "colab": {
          "base_uri": "https://localhost:8080/"
        },
        "id": "vA3U11Gr4rKU",
        "outputId": "07a0db3d-4b7f-4185-bd7b-feae070432fa"
      },
      "execution_count": 78,
      "outputs": [
        {
          "output_type": "execute_result",
          "data": {
            "text/plain": [
              "(<tf.Tensor: shape=(), dtype=float32, numpy=1764.999>,\n",
              " <tf.Tensor: shape=(), dtype=float32, numpy=21012906.0>)"
            ]
          },
          "metadata": {},
          "execution_count": 78
        }
      ]
    }
  ],
  "metadata": {
    "accelerator": "GPU",
    "colab": {
      "provenance": [],
      "authorship_tag": "ABX9TyP/4fcR4SuIQx/W3Kw8m56R",
      "include_colab_link": true
    },
    "gpuClass": "standard",
    "kernelspec": {
      "display_name": "Python 3",
      "name": "python3"
    },
    "language_info": {
      "name": "python"
    }
  },
  "nbformat": 4,
  "nbformat_minor": 0
}