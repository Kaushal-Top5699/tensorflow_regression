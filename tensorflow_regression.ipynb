{
  "nbformat": 4,
  "nbformat_minor": 0,
  "metadata": {
    "colab": {
      "provenance": [],
      "authorship_tag": "ABX9TyMhT0Ep3D7Atrak6ntf6CY+",
      "include_colab_link": true
    },
    "kernelspec": {
      "name": "python3",
      "display_name": "Python 3"
    },
    "language_info": {
      "name": "python"
    },
    "accelerator": "GPU",
    "gpuClass": "standard"
  },
  "cells": [
    {
      "cell_type": "markdown",
      "metadata": {
        "id": "view-in-github",
        "colab_type": "text"
      },
      "source": [
        "<a href=\"https://colab.research.google.com/github/Kaushal-Top5699/tensorflow_regression/blob/main/tensorflow_regression.ipynb\" target=\"_parent\"><img src=\"https://colab.research.google.com/assets/colab-badge.svg\" alt=\"Open In Colab\"/></a>"
      ]
    },
    {
      "cell_type": "markdown",
      "source": [
        "# **Regression in Neural Networks**\n",
        "Introduction to Regression in Neural Networks in Tensorflow.\n",
        "Predicting numerical values based on someother combination of values or more specifically variables."
      ],
      "metadata": {
        "id": "VgH3Sw6wVtUr"
      }
    },
    {
      "cell_type": "code",
      "source": [
        "import tensorflow as tf\n",
        "tf.__version__"
      ],
      "metadata": {
        "colab": {
          "base_uri": "https://localhost:8080/",
          "height": 35
        },
        "id": "ES9WGICnVrU3",
        "outputId": "c9ca0b06-0c49-4a15-9d85-a7be476512b5"
      },
      "execution_count": null,
      "outputs": [
        {
          "output_type": "execute_result",
          "data": {
            "text/plain": [
              "'2.11.0'"
            ],
            "application/vnd.google.colaboratory.intrinsic+json": {
              "type": "string"
            }
          },
          "metadata": {},
          "execution_count": 1
        }
      ]
    },
    {
      "cell_type": "markdown",
      "source": [
        "Creating data to view and fit."
      ],
      "metadata": {
        "id": "r-dLNR8m2awI"
      }
    },
    {
      "cell_type": "code",
      "source": [
        "import numpy as np\n",
        "import matplotlib.pyplot as plt\n",
        "\n",
        "# Creating features\n",
        "X = np.array([-7.0, -4.0, -1.0, 2.0, 5.0, 8.0, 11.0, 14.0])\n",
        "\n",
        "# Creating lables\n",
        "y = np.array([3.0, 6.0, 9.0, 12.0, 15.0, 18.0, 21.0, 24.0])\n",
        "\n",
        "# Visualise it\n",
        "plt.scatter(X, y)"
      ],
      "metadata": {
        "colab": {
          "base_uri": "https://localhost:8080/",
          "height": 286
        },
        "id": "eNIrDxhy2Hh5",
        "outputId": "9f806eef-375f-441c-8202-41bf62488938"
      },
      "execution_count": null,
      "outputs": [
        {
          "output_type": "execute_result",
          "data": {
            "text/plain": [
              "<matplotlib.collections.PathCollection at 0x7f6ca08e4910>"
            ]
          },
          "metadata": {},
          "execution_count": 2
        },
        {
          "output_type": "display_data",
          "data": {
            "text/plain": [
              "<Figure size 432x288 with 1 Axes>"
            ],
            "image/png": "[encoded data removed]"
          },
          "metadata": {
            "needs_background": "light"
          }
        }
      ]
    },
    {
      "cell_type": "code",
      "source": [
        "# Try find relation between X and y. Its basically X + 10. For example, -7.0 + 10 = 3.0 and same is the case with other features and lables.\n",
        "# Perform a check\n",
        "X + 10"
      ],
      "metadata": {
        "colab": {
          "base_uri": "https://localhost:8080/"
        },
        "id": "gKoqLW1H3Qwo",
        "outputId": "d0260c7e-a15e-4c63-fdcd-11f712478eb0"
      },
      "execution_count": null,
      "outputs": [
        {
          "output_type": "execute_result",
          "data": {
            "text/plain": [
              "array([ 3.,  6.,  9., 12., 15., 18., 21., 24.])"
            ]
          },
          "metadata": {},
          "execution_count": 3
        }
      ]
    },
    {
      "cell_type": "markdown",
      "source": [
        "The model will basically return a number or predict a number or what 'y' should be when we pass it an 'X'. So after all the work is done if we pass it a number say, 17.0 the model should output 27.0 (Remeber the relation between X and y is? its X + 10). This is what we are trying to do here, happy learning."
      ],
      "metadata": {
        "id": "_CtFVrBD5Elz"
      }
    },
    {
      "cell_type": "code",
      "source": [
        "# Verify our check\n",
        "y == X + 10"
      ],
      "metadata": {
        "colab": {
          "base_uri": "https://localhost:8080/"
        },
        "id": "oHlmjxfp3uA9",
        "outputId": "23320af9-09d5-4810-fc60-24df2eeb11eb"
      },
      "execution_count": null,
      "outputs": [
        {
          "output_type": "execute_result",
          "data": {
            "text/plain": [
              "array([ True,  True,  True,  True,  True,  True,  True,  True])"
            ]
          },
          "metadata": {},
          "execution_count": 4
        }
      ]
    },
    {
      "cell_type": "markdown",
      "source": [
        "### Input and output shapes"
      ],
      "metadata": {
        "id": "__ZAhdOI4Evc"
      }
    },
    {
      "cell_type": "code",
      "source": [
        "# Create a demo tensor for housing price prediction problem.\n",
        "house_info = tf.constant([\"bedroom\", \"bathroom\", \"gurage\"])\n",
        "house_price = tf.constant([939700])\n",
        "house_info, house_price"
      ],
      "metadata": {
        "colab": {
          "base_uri": "https://localhost:8080/"
        },
        "id": "dgJTArAt3yol",
        "outputId": "c259f96c-794c-416a-8305-afe5335d77b3"
      },
      "execution_count": null,
      "outputs": [
        {
          "output_type": "execute_result",
          "data": {
            "text/plain": [
              "(<tf.Tensor: shape=(3,), dtype=string, numpy=array([b'bedroom', b'bathroom', b'gurage'], dtype=object)>,\n",
              " <tf.Tensor: shape=(1,), dtype=int32, numpy=array([939700], dtype=int32)>)"
            ]
          },
          "metadata": {},
          "execution_count": 5
        }
      ]
    },
    {
      "cell_type": "code",
      "source": [
        "input_shape = X.shape\n",
        "output_shape = y.shape\n",
        "input_shape, output_shape"
      ],
      "metadata": {
        "colab": {
          "base_uri": "https://localhost:8080/"
        },
        "id": "6rGHQqo94sV9",
        "outputId": "5c68f25d-b82a-4050-a5d1-c3b8ef4fcd92"
      },
      "execution_count": null,
      "outputs": [
        {
          "output_type": "execute_result",
          "data": {
            "text/plain": [
              "((8,), (8,))"
            ]
          },
          "metadata": {},
          "execution_count": 6
        }
      ]
    },
    {
      "cell_type": "code",
      "source": [
        "# Note that the input X is a scalar and same is the output, lets check, because if it is then it should have 0 dimensions.\n",
        "# Remember we want one feature which is one of the elements of X and then predict or output one value or number which again an element of y.\n",
        "X[0].ndim, y[0].ndim"
      ],
      "metadata": {
        "colab": {
          "base_uri": "https://localhost:8080/"
        },
        "id": "z_eCDArx49ob",
        "outputId": "ec385028-adec-41cf-cfdf-33ecd4936764"
      },
      "execution_count": null,
      "outputs": [
        {
          "output_type": "execute_result",
          "data": {
            "text/plain": [
              "(0, 0)"
            ]
          },
          "metadata": {},
          "execution_count": 7
        }
      ]
    },
    {
      "cell_type": "code",
      "source": [
        "# Lets turn our numpy arrays into tensors. More specifically, turning data into tensors!\n",
        "X = tf.cast(tf.constant(X), dtype=tf.float32)\n",
        "y = tf.cast(tf.constant(y), dtype=tf.float32)\n",
        "X, y"
      ],
      "metadata": {
        "colab": {
          "base_uri": "https://localhost:8080/"
        },
        "id": "-RogcmTY6Npe",
        "outputId": "606c2b63-86d5-4b8f-aa4a-920ab9667c1c"
      },
      "execution_count": null,
      "outputs": [
        {
          "output_type": "execute_result",
          "data": {
            "text/plain": [
              "(<tf.Tensor: shape=(8,), dtype=float32, numpy=array([-7., -4., -1.,  2.,  5.,  8., 11., 14.], dtype=float32)>,\n",
              " <tf.Tensor: shape=(8,), dtype=float32, numpy=array([ 3.,  6.,  9., 12., 15., 18., 21., 24.], dtype=float32)>)"
            ]
          },
          "metadata": {},
          "execution_count": 8
        }
      ]
    },
    {
      "cell_type": "code",
      "source": [
        "input_shape = X[0].shape\n",
        "output_shape = y[0].shape\n",
        "input_shape, output_shape"
      ],
      "metadata": {
        "colab": {
          "base_uri": "https://localhost:8080/"
        },
        "id": "pUHOP8bN63dv",
        "outputId": "4082731d-85f9-4d02-d273-68036fabde14"
      },
      "execution_count": null,
      "outputs": [
        {
          "output_type": "execute_result",
          "data": {
            "text/plain": [
              "(TensorShape([]), TensorShape([]))"
            ]
          },
          "metadata": {},
          "execution_count": 9
        }
      ]
    },
    {
      "cell_type": "code",
      "source": [
        "plt.scatter(X, y)"
      ],
      "metadata": {
        "colab": {
          "base_uri": "https://localhost:8080/",
          "height": 286
        },
        "id": "BSjJ4KHG65nb",
        "outputId": "ed583b29-3fe3-4e36-d6e1-430e4fa7b553"
      },
      "execution_count": null,
      "outputs": [
        {
          "output_type": "execute_result",
          "data": {
            "text/plain": [
              "<matplotlib.collections.PathCollection at 0x7f6c9029ec40>"
            ]
          },
          "metadata": {},
          "execution_count": 10
        },
        {
          "output_type": "display_data",
          "data": {
            "text/plain": [
              "<Figure size 432x288 with 1 Axes>"
            ],
            "image/png": "[encoded data removed]"
          },
          "metadata": {
            "needs_background": "light"
          }
        }
      ]
    },
    {
      "cell_type": "markdown",
      "source": [
        "## **Steps for modelling with tensorflow**\n",
        "1) **Creating a model** - defining the number of input and output layers, as well as the hindden layers of deep learning model.\n",
        "\n",
        "2) **Compile the model** - defining the loss function (which tells our model how wrong it is), the optimizer (which tells our model how to correct the error) and evaluation matrix (which we can use to interpret the performance of our model).\n",
        "\n",
        "3) **Fitting the model** - leting the model try to find patterns between X and y (features and labels)."
      ],
      "metadata": {
        "id": "edi9fKTQ7ano"
      }
    },
    {
      "cell_type": "code",
      "source": [
        "# Set the random seed.\n",
        "tf.random.set_seed(42)\n",
        "\n",
        "# 1) Create the model. Sequential API\n",
        "model = tf.keras.Sequential([\n",
        "    tf.keras.layers.Dense(1) # Note that we want to take one feature and predict the output therefore, 1.\n",
        "])\n",
        "\n",
        "\n",
        "# 2) Compile the model.\n",
        "model.compile(loss=tf.keras.losses.mae,\n",
        "              optimizer=tf.keras.optimizers.SGD(),\n",
        "              metrics=[\"mae\"])\n",
        "# MAE is Mean Absolute Error (On Avg. how wrong our model is?)\n",
        "# SGD is Stcochastic Gradient Descent\n",
        "\n",
        "\n",
        "# 3) Fit the model. (Here we fit the model and tell it you have 5 chances to look at the patterns and finally start the prediction).\n",
        "X_input = tf.expand_dims(X, axis = 1) # No of dimensions of one input is Zero and that gave error so I increased the dimensions by 1.\n",
        "model.fit(X_input, y, epochs=5)"
      ],
      "metadata": {
        "colab": {
          "base_uri": "https://localhost:8080/"
        },
        "id": "ASpNjdWW7Yuw",
        "outputId": "ba2ac911-9ec8-4efb-c810-02d88f089671"
      },
      "execution_count": null,
      "outputs": [
        {
          "output_type": "stream",
          "name": "stdout",
          "text": [
            "Epoch 1/5\n",
            "1/1 [==============================] - 5s 5s/step - loss: 8.6130 - mae: 8.6130\n",
            "Epoch 2/5\n",
            "1/1 [==============================] - 0s 9ms/step - loss: 8.4805 - mae: 8.4805\n",
            "Epoch 3/5\n",
            "1/1 [==============================] - 0s 9ms/step - loss: 8.3480 - mae: 8.3480\n",
            "Epoch 4/5\n",
            "1/1 [==============================] - 0s 13ms/step - loss: 8.2155 - mae: 8.2155\n",
            "Epoch 5/5\n",
            "1/1 [==============================] - 0s 10ms/step - loss: 8.0830 - mae: 8.0830\n"
          ]
        },
        {
          "output_type": "execute_result",
          "data": {
            "text/plain": [
              "<keras.callbacks.History at 0x7f6c90120880>"
            ]
          },
          "metadata": {},
          "execution_count": 11
        }
      ]
    },
    {
      "cell_type": "code",
      "source": [
        "# This is how X and y looks like.\n",
        "X, y"
      ],
      "metadata": {
        "colab": {
          "base_uri": "https://localhost:8080/"
        },
        "id": "gYyBQda-APlf",
        "outputId": "e7e2c558-6342-4904-d66c-6325e7d60a49"
      },
      "execution_count": null,
      "outputs": [
        {
          "output_type": "execute_result",
          "data": {
            "text/plain": [
              "(<tf.Tensor: shape=(8,), dtype=float32, numpy=array([-7., -4., -1.,  2.,  5.,  8., 11., 14.], dtype=float32)>,\n",
              " <tf.Tensor: shape=(8,), dtype=float32, numpy=array([ 3.,  6.,  9., 12., 15., 18., 21., 24.], dtype=float32)>)"
            ]
          },
          "metadata": {},
          "execution_count": 12
        }
      ]
    },
    {
      "cell_type": "code",
      "source": [
        "# Now lets try to make a prediction.\n",
        "y_pred = model.predict([17.0])\n",
        "y_pred"
      ],
      "metadata": {
        "colab": {
          "base_uri": "https://localhost:8080/"
        },
        "id": "Mw6lQAMNDB1f",
        "outputId": "c268f4f1-0041-46d9-d5d4-d6224c80fed9"
      },
      "execution_count": null,
      "outputs": [
        {
          "output_type": "stream",
          "name": "stdout",
          "text": [
            "1/1 [==============================] - 0s 79ms/step\n"
          ]
        },
        {
          "output_type": "execute_result",
          "data": {
            "text/plain": [
              "array([[26.761768]], dtype=float32)"
            ]
          },
          "metadata": {},
          "execution_count": 13
        }
      ]
    },
    {
      "cell_type": "code",
      "source": [
        "# Now if you look at last epoch data, its says on avg. our model will make mistake approximately 10.6 points off. Lets try it to add those 10.6 points,\n",
        "# our predicted value and check how correct or closer is the prediction of model now.\n",
        "y_pred + 10.6\n",
        "# Pretty close to actual answer which is 27.0"
      ],
      "metadata": {
        "colab": {
          "base_uri": "https://localhost:8080/"
        },
        "id": "TA3RgqteDVx0",
        "outputId": "61a5bde8-ef51-44cb-b5fe-3c19b2b5451c"
      },
      "execution_count": null,
      "outputs": [
        {
          "output_type": "execute_result",
          "data": {
            "text/plain": [
              "array([[37.36177]], dtype=float32)"
            ]
          },
          "metadata": {},
          "execution_count": 14
        }
      ]
    },
    {
      "cell_type": "markdown",
      "source": [
        "### Improving our model. Now since, we are getting wrong predictions lets try to improve it.\n",
        "We can improve the model by altering the steps we used while creating the model.\n",
        "\n",
        "1) **Create Model** - we might increase the number of layers, neurons and change activation or transfer functions within each layer.\n",
        "\n",
        "2) **Compile Model** - we might change the optimization function and perhaps the **learning rate** of the optimization function.\n",
        "\n",
        "3) **Fitting Model** - we might increase the number of **epochs**, or on more **Data**."
      ],
      "metadata": {
        "id": "TMUqxqGVEie2"
      }
    },
    {
      "cell_type": "code",
      "source": [
        "# Lets create the same model again with improvements.\n",
        "tf.random.set_seed(42)\n",
        "\n",
        "# Create Model\n",
        "improved_model = tf.keras.Sequential([\n",
        "    # These are the 2 hidden layers\n",
        "    tf.keras.layers.Dense(50, activation=\"relu\"),\n",
        "    tf.keras.layers.Dense(50, activation=\"relu\"),\n",
        "    tf.keras.layers.Dense(100, activation=\"relu\"),\n",
        "    # These are the 2 hidden layers\n",
        "    tf.keras.layers.Dense(1)\n",
        "    # Totally, we have 4 layers with 100 in each of the hidden layers and one in 4th layer.\n",
        "])\n",
        "\n",
        "# Compile Model\n",
        "improved_model.compile(loss = tf.keras.losses.mae,\n",
        "                       optimizer = tf.keras.optimizers.Adam(learning_rate = 0.01), # Learning Rate is the most important hyperparameter in Neural Networks. \n",
        "                       metrics=[\"mae\"])\n",
        "\n",
        "# Fitting Model\n",
        "X_input = tf.expand_dims(X, axis = 1) # Don't forget increase the dimension to prevent the error.\n",
        "improved_model.fit(X_input, y, epochs = 500)"
      ],
      "metadata": {
        "colab": {
          "base_uri": "https://localhost:8080/"
        },
        "id": "2Uqh8CWPDxIp",
        "outputId": "ca5ae9ce-be11-49d8-d9bc-56b061efc772"
      },
      "execution_count": null,
      "outputs": [
        {
          "output_type": "stream",
          "name": "stdout",
          "text": [
            "Epoch 1/500\n",
            "1/1 [==============================] - 2s 2s/step - loss: 13.6474 - mae: 13.6474\n",
            "Epoch 2/500\n",
            "1/1 [==============================] - 0s 14ms/step - loss: 11.6762 - mae: 11.6762\n",
            "Epoch 3/500\n",
            "1/1 [==============================] - 0s 12ms/step - loss: 9.8237 - mae: 9.8237\n",
            "Epoch 4/500\n",
            "1/1 [==============================] - 0s 11ms/step - loss: 7.7182 - mae: 7.7182\n",
            "Epoch 5/500\n",
            "1/1 [==============================] - 0s 11ms/step - loss: 4.7870 - mae: 4.7870\n",
            "Epoch 6/500\n",
            "1/1 [==============================] - 0s 20ms/step - loss: 4.7763 - mae: 4.7763\n",
            "Epoch 7/500\n",
            "1/1 [==============================] - 0s 11ms/step - loss: 6.1167 - mae: 6.1167\n",
            "Epoch 8/500\n",
            "1/1 [==============================] - 0s 16ms/step - loss: 6.2875 - mae: 6.2875\n",
            "Epoch 9/500\n",
            "1/1 [==============================] - 0s 13ms/step - loss: 5.4607 - mae: 5.4607\n",
            "Epoch 10/500\n",
            "1/1 [==============================] - 0s 14ms/step - loss: 4.3004 - mae: 4.3004\n",
            "Epoch 11/500\n",
            "1/1 [==============================] - 0s 15ms/step - loss: 3.6301 - mae: 3.6301\n",
            "Epoch 12/500\n",
            "1/1 [==============================] - 0s 11ms/step - loss: 4.3888 - mae: 4.3888\n",
            "Epoch 13/500\n",
            "1/1 [==============================] - 0s 20ms/step - loss: 4.9312 - mae: 4.9312\n",
            "Epoch 14/500\n",
            "1/1 [==============================] - 0s 15ms/step - loss: 4.8515 - mae: 4.8515\n",
            "Epoch 15/500\n",
            "1/1 [==============================] - 0s 16ms/step - loss: 4.2687 - mae: 4.2687\n",
            "Epoch 16/500\n",
            "1/1 [==============================] - 0s 18ms/step - loss: 3.4559 - mae: 3.4559\n",
            "Epoch 17/500\n",
            "1/1 [==============================] - 0s 12ms/step - loss: 3.3394 - mae: 3.3394\n",
            "Epoch 18/500\n",
            "1/1 [==============================] - 0s 13ms/step - loss: 3.6469 - mae: 3.6469\n",
            "Epoch 19/500\n",
            "1/1 [==============================] - 0s 14ms/step - loss: 3.8612 - mae: 3.8612\n",
            "Epoch 20/500\n",
            "1/1 [==============================] - 0s 18ms/step - loss: 3.7281 - mae: 3.7281\n",
            "Epoch 21/500\n",
            "1/1 [==============================] - 0s 19ms/step - loss: 3.2859 - mae: 3.2859\n",
            "Epoch 22/500\n",
            "1/1 [==============================] - 0s 18ms/step - loss: 2.9163 - mae: 2.9163\n",
            "Epoch 23/500\n",
            "1/1 [==============================] - 0s 22ms/step - loss: 2.7612 - mae: 2.7612\n",
            "Epoch 24/500\n",
            "1/1 [==============================] - 0s 16ms/step - loss: 2.7831 - mae: 2.7831\n",
            "Epoch 25/500\n",
            "1/1 [==============================] - 0s 12ms/step - loss: 2.6729 - mae: 2.6729\n",
            "Epoch 26/500\n",
            "1/1 [==============================] - 0s 30ms/step - loss: 2.2560 - mae: 2.2560\n",
            "Epoch 27/500\n",
            "1/1 [==============================] - 0s 22ms/step - loss: 2.2234 - mae: 2.2234\n",
            "Epoch 28/500\n",
            "1/1 [==============================] - 0s 25ms/step - loss: 2.2473 - mae: 2.2473\n",
            "Epoch 29/500\n",
            "1/1 [==============================] - 0s 15ms/step - loss: 1.9271 - mae: 1.9271\n",
            "Epoch 30/500\n",
            "1/1 [==============================] - 0s 16ms/step - loss: 1.4908 - mae: 1.4908\n",
            "Epoch 31/500\n",
            "1/1 [==============================] - 0s 18ms/step - loss: 1.1468 - mae: 1.1468\n",
            "Epoch 32/500\n",
            "1/1 [==============================] - 0s 19ms/step - loss: 0.9448 - mae: 0.9448\n",
            "Epoch 33/500\n",
            "1/1 [==============================] - 0s 14ms/step - loss: 1.3530 - mae: 1.3530\n",
            "Epoch 34/500\n",
            "1/1 [==============================] - 0s 22ms/step - loss: 0.5633 - mae: 0.5633\n",
            "Epoch 35/500\n",
            "1/1 [==============================] - 0s 21ms/step - loss: 1.3117 - mae: 1.3117\n",
            "Epoch 36/500\n",
            "1/1 [==============================] - 0s 23ms/step - loss: 1.2912 - mae: 1.2912\n",
            "Epoch 37/500\n",
            "1/1 [==============================] - 0s 21ms/step - loss: 0.6307 - mae: 0.6307\n",
            "Epoch 38/500\n",
            "1/1 [==============================] - 0s 20ms/step - loss: 0.3808 - mae: 0.3808\n",
            "Epoch 39/500\n",
            "1/1 [==============================] - 0s 24ms/step - loss: 0.4347 - mae: 0.4347\n",
            "Epoch 40/500\n",
            "1/1 [==============================] - 0s 21ms/step - loss: 0.7326 - mae: 0.7326\n",
            "Epoch 41/500\n",
            "1/1 [==============================] - 0s 22ms/step - loss: 0.5979 - mae: 0.5979\n",
            "Epoch 42/500\n",
            "1/1 [==============================] - 0s 24ms/step - loss: 0.2443 - mae: 0.2443\n",
            "Epoch 43/500\n",
            "1/1 [==============================] - 0s 31ms/step - loss: 0.2128 - mae: 0.2128\n",
            "Epoch 44/500\n",
            "1/1 [==============================] - 0s 18ms/step - loss: 0.5056 - mae: 0.5056\n",
            "Epoch 45/500\n",
            "1/1 [==============================] - 0s 39ms/step - loss: 0.4956 - mae: 0.4956\n",
            "Epoch 46/500\n",
            "1/1 [==============================] - 0s 24ms/step - loss: 0.1697 - mae: 0.1697\n",
            "Epoch 47/500\n",
            "1/1 [==============================] - 0s 25ms/step - loss: 0.4228 - mae: 0.4228\n",
            "Epoch 48/500\n",
            "1/1 [==============================] - 0s 32ms/step - loss: 0.3952 - mae: 0.3952\n",
            "Epoch 49/500\n",
            "1/1 [==============================] - 0s 23ms/step - loss: 0.1850 - mae: 0.1850\n",
            "Epoch 50/500\n",
            "1/1 [==============================] - 0s 15ms/step - loss: 0.1402 - mae: 0.1402\n",
            "Epoch 51/500\n",
            "1/1 [==============================] - 0s 22ms/step - loss: 0.4891 - mae: 0.4891\n",
            "Epoch 52/500\n",
            "1/1 [==============================] - 0s 33ms/step - loss: 0.1779 - mae: 0.1779\n",
            "Epoch 53/500\n",
            "1/1 [==============================] - 0s 24ms/step - loss: 0.3924 - mae: 0.3924\n",
            "Epoch 54/500\n",
            "1/1 [==============================] - 0s 27ms/step - loss: 0.1839 - mae: 0.1839\n",
            "Epoch 55/500\n",
            "1/1 [==============================] - 0s 29ms/step - loss: 0.4550 - mae: 0.4550\n",
            "Epoch 56/500\n",
            "1/1 [==============================] - 0s 20ms/step - loss: 0.2566 - mae: 0.2566\n",
            "Epoch 57/500\n",
            "1/1 [==============================] - 0s 25ms/step - loss: 0.8166 - mae: 0.8166\n",
            "Epoch 58/500\n",
            "1/1 [==============================] - 0s 24ms/step - loss: 0.6372 - mae: 0.6372\n",
            "Epoch 59/500\n",
            "1/1 [==============================] - 0s 21ms/step - loss: 0.5258 - mae: 0.5258\n",
            "Epoch 60/500\n",
            "1/1 [==============================] - 0s 24ms/step - loss: 0.6322 - mae: 0.6322\n",
            "Epoch 61/500\n",
            "1/1 [==============================] - 0s 23ms/step - loss: 0.2596 - mae: 0.2596\n",
            "Epoch 62/500\n",
            "1/1 [==============================] - 0s 22ms/step - loss: 0.1687 - mae: 0.1687\n",
            "Epoch 63/500\n",
            "1/1 [==============================] - 0s 21ms/step - loss: 0.7291 - mae: 0.7291\n",
            "Epoch 64/500\n",
            "1/1 [==============================] - 0s 28ms/step - loss: 0.6230 - mae: 0.6230\n",
            "Epoch 65/500\n",
            "1/1 [==============================] - 0s 24ms/step - loss: 0.2934 - mae: 0.2934\n",
            "Epoch 66/500\n",
            "1/1 [==============================] - 0s 21ms/step - loss: 0.2008 - mae: 0.2008\n",
            "Epoch 67/500\n",
            "1/1 [==============================] - 0s 19ms/step - loss: 0.7400 - mae: 0.7400\n",
            "Epoch 68/500\n",
            "1/1 [==============================] - 0s 24ms/step - loss: 0.8426 - mae: 0.8426\n",
            "Epoch 69/500\n",
            "1/1 [==============================] - 0s 22ms/step - loss: 0.2661 - mae: 0.2661\n",
            "Epoch 70/500\n",
            "1/1 [==============================] - 0s 22ms/step - loss: 1.1101 - mae: 1.1101\n",
            "Epoch 71/500\n",
            "1/1 [==============================] - 0s 33ms/step - loss: 1.3957 - mae: 1.3957\n",
            "Epoch 72/500\n",
            "1/1 [==============================] - 0s 22ms/step - loss: 0.7397 - mae: 0.7397\n",
            "Epoch 73/500\n",
            "1/1 [==============================] - 0s 27ms/step - loss: 0.6535 - mae: 0.6535\n",
            "Epoch 74/500\n",
            "1/1 [==============================] - 0s 32ms/step - loss: 1.0955 - mae: 1.0955\n",
            "Epoch 75/500\n",
            "1/1 [==============================] - 0s 25ms/step - loss: 0.8477 - mae: 0.8477\n",
            "Epoch 76/500\n",
            "1/1 [==============================] - 0s 27ms/step - loss: 0.1588 - mae: 0.1588\n",
            "Epoch 77/500\n",
            "1/1 [==============================] - 0s 22ms/step - loss: 0.2344 - mae: 0.2344\n",
            "Epoch 78/500\n",
            "1/1 [==============================] - 0s 25ms/step - loss: 0.4650 - mae: 0.4650\n",
            "Epoch 79/500\n",
            "1/1 [==============================] - 0s 26ms/step - loss: 0.3583 - mae: 0.3583\n",
            "Epoch 80/500\n",
            "1/1 [==============================] - 0s 29ms/step - loss: 0.4951 - mae: 0.4951\n",
            "Epoch 81/500\n",
            "1/1 [==============================] - 0s 47ms/step - loss: 0.6140 - mae: 0.6140\n",
            "Epoch 82/500\n",
            "1/1 [==============================] - 0s 31ms/step - loss: 0.1241 - mae: 0.1241\n",
            "Epoch 83/500\n",
            "1/1 [==============================] - 0s 34ms/step - loss: 0.6224 - mae: 0.6224\n",
            "Epoch 84/500\n",
            "1/1 [==============================] - 0s 29ms/step - loss: 0.4779 - mae: 0.4779\n",
            "Epoch 85/500\n",
            "1/1 [==============================] - 0s 28ms/step - loss: 0.2993 - mae: 0.2993\n",
            "Epoch 86/500\n",
            "1/1 [==============================] - 0s 28ms/step - loss: 0.3172 - mae: 0.3172\n",
            "Epoch 87/500\n",
            "1/1 [==============================] - 0s 44ms/step - loss: 0.3778 - mae: 0.3778\n",
            "Epoch 88/500\n",
            "1/1 [==============================] - 0s 20ms/step - loss: 0.3710 - mae: 0.3710\n",
            "Epoch 89/500\n",
            "1/1 [==============================] - 0s 24ms/step - loss: 0.1788 - mae: 0.1788\n",
            "Epoch 90/500\n",
            "1/1 [==============================] - 0s 23ms/step - loss: 0.0598 - mae: 0.0598\n",
            "Epoch 91/500\n",
            "1/1 [==============================] - 0s 23ms/step - loss: 0.2471 - mae: 0.2471\n",
            "Epoch 92/500\n",
            "1/1 [==============================] - 0s 21ms/step - loss: 0.2153 - mae: 0.2153\n",
            "Epoch 93/500\n",
            "1/1 [==============================] - 0s 23ms/step - loss: 0.1008 - mae: 0.1008\n",
            "Epoch 94/500\n",
            "1/1 [==============================] - 0s 23ms/step - loss: 0.3355 - mae: 0.3355\n",
            "Epoch 95/500\n",
            "1/1 [==============================] - 0s 27ms/step - loss: 0.0719 - mae: 0.0719\n",
            "Epoch 96/500\n",
            "1/1 [==============================] - 0s 17ms/step - loss: 0.7471 - mae: 0.7471\n",
            "Epoch 97/500\n",
            "1/1 [==============================] - 0s 27ms/step - loss: 0.8874 - mae: 0.8874\n",
            "Epoch 98/500\n",
            "1/1 [==============================] - 0s 14ms/step - loss: 0.4537 - mae: 0.4537\n",
            "Epoch 99/500\n",
            "1/1 [==============================] - 0s 15ms/step - loss: 0.5796 - mae: 0.5796\n",
            "Epoch 100/500\n",
            "1/1 [==============================] - 0s 13ms/step - loss: 0.8959 - mae: 0.8959\n",
            "Epoch 101/500\n",
            "1/1 [==============================] - 0s 17ms/step - loss: 0.5332 - mae: 0.5332\n",
            "Epoch 102/500\n",
            "1/1 [==============================] - 0s 19ms/step - loss: 0.7617 - mae: 0.7617\n",
            "Epoch 103/500\n",
            "1/1 [==============================] - 0s 30ms/step - loss: 0.9797 - mae: 0.9797\n",
            "Epoch 104/500\n",
            "1/1 [==============================] - 0s 25ms/step - loss: 0.5585 - mae: 0.5585\n",
            "Epoch 105/500\n",
            "1/1 [==============================] - 0s 20ms/step - loss: 0.4825 - mae: 0.4825\n",
            "Epoch 106/500\n",
            "1/1 [==============================] - 0s 38ms/step - loss: 0.7364 - mae: 0.7364\n",
            "Epoch 107/500\n",
            "1/1 [==============================] - 0s 33ms/step - loss: 0.2578 - mae: 0.2578\n",
            "Epoch 108/500\n",
            "1/1 [==============================] - 0s 11ms/step - loss: 0.4674 - mae: 0.4674\n",
            "Epoch 109/500\n",
            "1/1 [==============================] - 0s 19ms/step - loss: 0.2614 - mae: 0.2614\n",
            "Epoch 110/500\n",
            "1/1 [==============================] - 0s 22ms/step - loss: 0.5122 - mae: 0.5122\n",
            "Epoch 111/500\n",
            "1/1 [==============================] - 0s 21ms/step - loss: 0.6434 - mae: 0.6434\n",
            "Epoch 112/500\n",
            "1/1 [==============================] - 0s 25ms/step - loss: 0.2340 - mae: 0.2340\n",
            "Epoch 113/500\n",
            "1/1 [==============================] - 0s 33ms/step - loss: 0.6870 - mae: 0.6870\n",
            "Epoch 114/500\n",
            "1/1 [==============================] - 0s 31ms/step - loss: 0.8292 - mae: 0.8292\n",
            "Epoch 115/500\n",
            "1/1 [==============================] - 0s 26ms/step - loss: 0.4794 - mae: 0.4794\n",
            "Epoch 116/500\n",
            "1/1 [==============================] - 0s 49ms/step - loss: 0.5649 - mae: 0.5649\n",
            "Epoch 117/500\n",
            "1/1 [==============================] - 0s 30ms/step - loss: 0.7171 - mae: 0.7171\n",
            "Epoch 118/500\n",
            "1/1 [==============================] - 0s 29ms/step - loss: 0.3128 - mae: 0.3128\n",
            "Epoch 119/500\n",
            "1/1 [==============================] - 0s 27ms/step - loss: 0.8205 - mae: 0.8205\n",
            "Epoch 120/500\n",
            "1/1 [==============================] - 0s 20ms/step - loss: 1.1077 - mae: 1.1077\n",
            "Epoch 121/500\n",
            "1/1 [==============================] - 0s 17ms/step - loss: 0.8049 - mae: 0.8049\n",
            "Epoch 122/500\n",
            "1/1 [==============================] - 0s 15ms/step - loss: 0.1311 - mae: 0.1311\n",
            "Epoch 123/500\n",
            "1/1 [==============================] - 0s 26ms/step - loss: 0.3310 - mae: 0.3310\n",
            "Epoch 124/500\n",
            "1/1 [==============================] - 0s 22ms/step - loss: 0.3100 - mae: 0.3100\n",
            "Epoch 125/500\n",
            "1/1 [==============================] - 0s 20ms/step - loss: 0.2768 - mae: 0.2768\n",
            "Epoch 126/500\n",
            "1/1 [==============================] - 0s 20ms/step - loss: 0.3029 - mae: 0.3029\n",
            "Epoch 127/500\n",
            "1/1 [==============================] - 0s 15ms/step - loss: 0.1938 - mae: 0.1938\n",
            "Epoch 128/500\n",
            "1/1 [==============================] - 0s 17ms/step - loss: 0.6956 - mae: 0.6956\n",
            "Epoch 129/500\n",
            "1/1 [==============================] - 0s 27ms/step - loss: 0.7827 - mae: 0.7827\n",
            "Epoch 130/500\n",
            "1/1 [==============================] - 0s 40ms/step - loss: 0.2956 - mae: 0.2956\n",
            "Epoch 131/500\n",
            "1/1 [==============================] - 0s 14ms/step - loss: 0.8609 - mae: 0.8609\n",
            "Epoch 132/500\n",
            "1/1 [==============================] - 0s 15ms/step - loss: 1.1797 - mae: 1.1797\n",
            "Epoch 133/500\n",
            "1/1 [==============================] - 0s 15ms/step - loss: 0.9281 - mae: 0.9281\n",
            "Epoch 134/500\n",
            "1/1 [==============================] - 0s 20ms/step - loss: 0.1684 - mae: 0.1684\n",
            "Epoch 135/500\n",
            "1/1 [==============================] - 0s 29ms/step - loss: 0.8324 - mae: 0.8324\n",
            "Epoch 136/500\n",
            "1/1 [==============================] - 0s 16ms/step - loss: 1.0110 - mae: 1.0110\n",
            "Epoch 137/500\n",
            "1/1 [==============================] - 0s 16ms/step - loss: 0.6777 - mae: 0.6777\n",
            "Epoch 138/500\n",
            "1/1 [==============================] - 0s 15ms/step - loss: 0.2067 - mae: 0.2067\n",
            "Epoch 139/500\n",
            "1/1 [==============================] - 0s 41ms/step - loss: 0.3298 - mae: 0.3298\n",
            "Epoch 140/500\n",
            "1/1 [==============================] - 0s 23ms/step - loss: 0.1372 - mae: 0.1372\n",
            "Epoch 141/500\n",
            "1/1 [==============================] - 0s 21ms/step - loss: 0.2249 - mae: 0.2249\n",
            "Epoch 142/500\n",
            "1/1 [==============================] - 0s 22ms/step - loss: 0.2973 - mae: 0.2973\n",
            "Epoch 143/500\n",
            "1/1 [==============================] - 0s 35ms/step - loss: 0.1823 - mae: 0.1823\n",
            "Epoch 144/500\n",
            "1/1 [==============================] - 0s 16ms/step - loss: 0.5219 - mae: 0.5219\n",
            "Epoch 145/500\n",
            "1/1 [==============================] - 0s 27ms/step - loss: 0.6165 - mae: 0.6165\n",
            "Epoch 146/500\n",
            "1/1 [==============================] - 0s 38ms/step - loss: 0.2415 - mae: 0.2415\n",
            "Epoch 147/500\n",
            "1/1 [==============================] - 0s 23ms/step - loss: 0.6783 - mae: 0.6783\n",
            "Epoch 148/500\n",
            "1/1 [==============================] - 0s 39ms/step - loss: 0.8528 - mae: 0.8528\n",
            "Epoch 149/500\n",
            "1/1 [==============================] - 0s 18ms/step - loss: 0.4853 - mae: 0.4853\n",
            "Epoch 150/500\n",
            "1/1 [==============================] - 0s 19ms/step - loss: 0.6106 - mae: 0.6106\n",
            "Epoch 151/500\n",
            "1/1 [==============================] - 0s 27ms/step - loss: 0.8731 - mae: 0.8731\n",
            "Epoch 152/500\n",
            "1/1 [==============================] - 0s 13ms/step - loss: 0.5869 - mae: 0.5869\n",
            "Epoch 153/500\n",
            "1/1 [==============================] - 0s 16ms/step - loss: 0.2779 - mae: 0.2779\n",
            "Epoch 154/500\n",
            "1/1 [==============================] - 0s 16ms/step - loss: 0.4735 - mae: 0.4735\n",
            "Epoch 155/500\n",
            "1/1 [==============================] - 0s 15ms/step - loss: 0.1163 - mae: 0.1163\n",
            "Epoch 156/500\n",
            "1/1 [==============================] - 0s 23ms/step - loss: 0.4807 - mae: 0.4807\n",
            "Epoch 157/500\n",
            "1/1 [==============================] - 0s 15ms/step - loss: 0.3929 - mae: 0.3929\n",
            "Epoch 158/500\n",
            "1/1 [==============================] - 0s 14ms/step - loss: 0.2491 - mae: 0.2491\n",
            "Epoch 159/500\n",
            "1/1 [==============================] - 0s 10ms/step - loss: 0.2241 - mae: 0.2241\n",
            "Epoch 160/500\n",
            "1/1 [==============================] - 0s 19ms/step - loss: 0.3736 - mae: 0.3736\n",
            "Epoch 161/500\n",
            "1/1 [==============================] - 0s 17ms/step - loss: 0.3049 - mae: 0.3049\n",
            "Epoch 162/500\n",
            "1/1 [==============================] - 0s 15ms/step - loss: 0.3967 - mae: 0.3967\n",
            "Epoch 163/500\n",
            "1/1 [==============================] - 0s 34ms/step - loss: 0.4127 - mae: 0.4127\n",
            "Epoch 164/500\n",
            "1/1 [==============================] - 0s 23ms/step - loss: 0.1474 - mae: 0.1474\n",
            "Epoch 165/500\n",
            "1/1 [==============================] - 0s 17ms/step - loss: 0.0848 - mae: 0.0848\n",
            "Epoch 166/500\n",
            "1/1 [==============================] - 0s 18ms/step - loss: 0.3940 - mae: 0.3940\n",
            "Epoch 167/500\n",
            "1/1 [==============================] - 0s 25ms/step - loss: 0.1942 - mae: 0.1942\n",
            "Epoch 168/500\n",
            "1/1 [==============================] - 0s 14ms/step - loss: 0.5072 - mae: 0.5072\n",
            "Epoch 169/500\n",
            "1/1 [==============================] - 0s 11ms/step - loss: 0.5925 - mae: 0.5925\n",
            "Epoch 170/500\n",
            "1/1 [==============================] - 0s 13ms/step - loss: 0.1402 - mae: 0.1402\n",
            "Epoch 171/500\n",
            "1/1 [==============================] - 0s 15ms/step - loss: 0.7999 - mae: 0.7999\n",
            "Epoch 172/500\n",
            "1/1 [==============================] - 0s 16ms/step - loss: 1.0556 - mae: 1.0556\n",
            "Epoch 173/500\n",
            "1/1 [==============================] - 0s 12ms/step - loss: 0.6638 - mae: 0.6638\n",
            "Epoch 174/500\n",
            "1/1 [==============================] - 0s 13ms/step - loss: 0.2571 - mae: 0.2571\n",
            "Epoch 175/500\n",
            "1/1 [==============================] - 0s 12ms/step - loss: 0.5227 - mae: 0.5227\n",
            "Epoch 176/500\n",
            "1/1 [==============================] - 0s 12ms/step - loss: 0.2388 - mae: 0.2388\n",
            "Epoch 177/500\n",
            "1/1 [==============================] - 0s 12ms/step - loss: 0.6193 - mae: 0.6193\n",
            "Epoch 178/500\n",
            "1/1 [==============================] - 0s 10ms/step - loss: 0.8097 - mae: 0.8097\n",
            "Epoch 179/500\n",
            "1/1 [==============================] - 0s 15ms/step - loss: 0.4312 - mae: 0.4312\n",
            "Epoch 180/500\n",
            "1/1 [==============================] - 0s 12ms/step - loss: 0.4632 - mae: 0.4632\n",
            "Epoch 181/500\n",
            "1/1 [==============================] - 0s 30ms/step - loss: 0.7422 - mae: 0.7422\n",
            "Epoch 182/500\n",
            "1/1 [==============================] - 0s 14ms/step - loss: 0.5059 - mae: 0.5059\n",
            "Epoch 183/500\n",
            "1/1 [==============================] - 0s 15ms/step - loss: 0.2176 - mae: 0.2176\n",
            "Epoch 184/500\n",
            "1/1 [==============================] - 0s 26ms/step - loss: 0.3837 - mae: 0.3837\n",
            "Epoch 185/500\n",
            "1/1 [==============================] - 0s 24ms/step - loss: 0.0908 - mae: 0.0908\n",
            "Epoch 186/500\n",
            "1/1 [==============================] - 0s 14ms/step - loss: 0.4079 - mae: 0.4079\n",
            "Epoch 187/500\n",
            "1/1 [==============================] - 0s 20ms/step - loss: 0.2776 - mae: 0.2776\n",
            "Epoch 188/500\n",
            "1/1 [==============================] - 0s 16ms/step - loss: 0.4155 - mae: 0.4155\n",
            "Epoch 189/500\n",
            "1/1 [==============================] - 0s 23ms/step - loss: 0.4620 - mae: 0.4620\n",
            "Epoch 190/500\n",
            "1/1 [==============================] - 0s 31ms/step - loss: 0.0820 - mae: 0.0820\n",
            "Epoch 191/500\n",
            "1/1 [==============================] - 0s 13ms/step - loss: 0.0582 - mae: 0.0582\n",
            "Epoch 192/500\n",
            "1/1 [==============================] - 0s 25ms/step - loss: 0.4397 - mae: 0.4397\n",
            "Epoch 193/500\n",
            "1/1 [==============================] - 0s 23ms/step - loss: 0.3326 - mae: 0.3326\n",
            "Epoch 194/500\n",
            "1/1 [==============================] - 0s 30ms/step - loss: 0.3137 - mae: 0.3137\n",
            "Epoch 195/500\n",
            "1/1 [==============================] - 0s 17ms/step - loss: 0.3550 - mae: 0.3550\n",
            "Epoch 196/500\n",
            "1/1 [==============================] - 0s 22ms/step - loss: 0.1839 - mae: 0.1839\n",
            "Epoch 197/500\n",
            "1/1 [==============================] - 0s 32ms/step - loss: 0.1461 - mae: 0.1461\n",
            "Epoch 198/500\n",
            "1/1 [==============================] - 0s 27ms/step - loss: 0.3541 - mae: 0.3541\n",
            "Epoch 199/500\n",
            "1/1 [==============================] - 0s 19ms/step - loss: 0.2642 - mae: 0.2642\n",
            "Epoch 200/500\n",
            "1/1 [==============================] - 0s 21ms/step - loss: 0.3400 - mae: 0.3400\n",
            "Epoch 201/500\n",
            "1/1 [==============================] - 0s 18ms/step - loss: 0.3445 - mae: 0.3445\n",
            "Epoch 202/500\n",
            "1/1 [==============================] - 0s 17ms/step - loss: 0.2764 - mae: 0.2764\n",
            "Epoch 203/500\n",
            "1/1 [==============================] - 0s 22ms/step - loss: 0.3088 - mae: 0.3088\n",
            "Epoch 204/500\n",
            "1/1 [==============================] - 0s 22ms/step - loss: 0.1570 - mae: 0.1570\n",
            "Epoch 205/500\n",
            "1/1 [==============================] - 0s 17ms/step - loss: 0.0920 - mae: 0.0920\n",
            "Epoch 206/500\n",
            "1/1 [==============================] - 0s 22ms/step - loss: 0.2410 - mae: 0.2410\n",
            "Epoch 207/500\n",
            "1/1 [==============================] - 0s 23ms/step - loss: 0.0877 - mae: 0.0877\n",
            "Epoch 208/500\n",
            "1/1 [==============================] - 0s 22ms/step - loss: 0.1829 - mae: 0.1829\n",
            "Epoch 209/500\n",
            "1/1 [==============================] - 0s 17ms/step - loss: 0.1629 - mae: 0.1629\n",
            "Epoch 210/500\n",
            "1/1 [==============================] - 0s 15ms/step - loss: 0.1390 - mae: 0.1390\n",
            "Epoch 211/500\n",
            "1/1 [==============================] - 0s 21ms/step - loss: 0.1141 - mae: 0.1141\n",
            "Epoch 212/500\n",
            "1/1 [==============================] - 0s 20ms/step - loss: 0.2370 - mae: 0.2370\n",
            "Epoch 213/500\n",
            "1/1 [==============================] - 0s 17ms/step - loss: 0.1128 - mae: 0.1128\n",
            "Epoch 214/500\n",
            "1/1 [==============================] - 0s 17ms/step - loss: 0.0926 - mae: 0.0926\n",
            "Epoch 215/500\n",
            "1/1 [==============================] - 0s 12ms/step - loss: 0.3066 - mae: 0.3066\n",
            "Epoch 216/500\n",
            "1/1 [==============================] - 0s 16ms/step - loss: 0.2444 - mae: 0.2444\n",
            "Epoch 217/500\n",
            "1/1 [==============================] - 0s 28ms/step - loss: 0.3715 - mae: 0.3715\n",
            "Epoch 218/500\n",
            "1/1 [==============================] - 0s 24ms/step - loss: 0.3041 - mae: 0.3041\n",
            "Epoch 219/500\n",
            "1/1 [==============================] - 0s 25ms/step - loss: 0.3236 - mae: 0.3236\n",
            "Epoch 220/500\n",
            "1/1 [==============================] - 0s 32ms/step - loss: 0.3784 - mae: 0.3784\n",
            "Epoch 221/500\n",
            "1/1 [==============================] - 0s 23ms/step - loss: 0.1510 - mae: 0.1510\n",
            "Epoch 222/500\n",
            "1/1 [==============================] - 0s 29ms/step - loss: 0.1451 - mae: 0.1451\n",
            "Epoch 223/500\n",
            "1/1 [==============================] - 0s 27ms/step - loss: 0.0924 - mae: 0.0924\n",
            "Epoch 224/500\n",
            "1/1 [==============================] - 0s 34ms/step - loss: 0.3335 - mae: 0.3335\n",
            "Epoch 225/500\n",
            "1/1 [==============================] - 0s 25ms/step - loss: 0.2142 - mae: 0.2142\n",
            "Epoch 226/500\n",
            "1/1 [==============================] - 0s 20ms/step - loss: 0.3990 - mae: 0.3990\n",
            "Epoch 227/500\n",
            "1/1 [==============================] - 0s 24ms/step - loss: 0.3419 - mae: 0.3419\n",
            "Epoch 228/500\n",
            "1/1 [==============================] - 0s 23ms/step - loss: 0.2440 - mae: 0.2440\n",
            "Epoch 229/500\n",
            "1/1 [==============================] - 0s 23ms/step - loss: 0.2527 - mae: 0.2527\n",
            "Epoch 230/500\n",
            "1/1 [==============================] - 0s 16ms/step - loss: 0.3688 - mae: 0.3688\n",
            "Epoch 231/500\n",
            "1/1 [==============================] - 0s 20ms/step - loss: 0.3589 - mae: 0.3589\n",
            "Epoch 232/500\n",
            "1/1 [==============================] - 0s 34ms/step - loss: 0.1037 - mae: 0.1037\n",
            "Epoch 233/500\n",
            "1/1 [==============================] - 0s 17ms/step - loss: 0.1008 - mae: 0.1008\n",
            "Epoch 234/500\n",
            "1/1 [==============================] - 0s 17ms/step - loss: 0.2767 - mae: 0.2767\n",
            "Epoch 235/500\n",
            "1/1 [==============================] - 0s 16ms/step - loss: 0.0766 - mae: 0.0766\n",
            "Epoch 236/500\n",
            "1/1 [==============================] - 0s 25ms/step - loss: 0.2771 - mae: 0.2771\n",
            "Epoch 237/500\n",
            "1/1 [==============================] - 0s 18ms/step - loss: 0.0831 - mae: 0.0831\n",
            "Epoch 238/500\n",
            "1/1 [==============================] - 0s 19ms/step - loss: 0.6331 - mae: 0.6331\n",
            "Epoch 239/500\n",
            "1/1 [==============================] - 0s 18ms/step - loss: 0.7528 - mae: 0.7528\n",
            "Epoch 240/500\n",
            "1/1 [==============================] - 0s 18ms/step - loss: 0.3640 - mae: 0.3640\n",
            "Epoch 241/500\n",
            "1/1 [==============================] - 0s 19ms/step - loss: 0.5975 - mae: 0.5975\n",
            "Epoch 242/500\n",
            "1/1 [==============================] - 0s 20ms/step - loss: 0.8325 - mae: 0.8325\n",
            "Epoch 243/500\n",
            "1/1 [==============================] - 0s 18ms/step - loss: 0.5731 - mae: 0.5731\n",
            "Epoch 244/500\n",
            "1/1 [==============================] - 0s 18ms/step - loss: 0.1673 - mae: 0.1673\n",
            "Epoch 245/500\n",
            "1/1 [==============================] - 0s 35ms/step - loss: 0.3174 - mae: 0.3174\n",
            "Epoch 246/500\n",
            "1/1 [==============================] - 0s 16ms/step - loss: 0.3113 - mae: 0.3113\n",
            "Epoch 247/500\n",
            "1/1 [==============================] - 0s 18ms/step - loss: 0.2798 - mae: 0.2798\n",
            "Epoch 248/500\n",
            "1/1 [==============================] - 0s 17ms/step - loss: 0.1504 - mae: 0.1504\n",
            "Epoch 249/500\n",
            "1/1 [==============================] - 0s 25ms/step - loss: 0.0788 - mae: 0.0788\n",
            "Epoch 250/500\n",
            "1/1 [==============================] - 0s 28ms/step - loss: 0.3909 - mae: 0.3909\n",
            "Epoch 251/500\n",
            "1/1 [==============================] - 0s 21ms/step - loss: 0.3080 - mae: 0.3080\n",
            "Epoch 252/500\n",
            "1/1 [==============================] - 0s 30ms/step - loss: 0.4198 - mae: 0.4198\n",
            "Epoch 253/500\n",
            "1/1 [==============================] - 0s 18ms/step - loss: 0.3894 - mae: 0.3894\n",
            "Epoch 254/500\n",
            "1/1 [==============================] - 0s 25ms/step - loss: 0.2051 - mae: 0.2051\n",
            "Epoch 255/500\n",
            "1/1 [==============================] - 0s 15ms/step - loss: 0.1624 - mae: 0.1624\n",
            "Epoch 256/500\n",
            "1/1 [==============================] - 0s 33ms/step - loss: 0.3891 - mae: 0.3891\n",
            "Epoch 257/500\n",
            "1/1 [==============================] - 0s 18ms/step - loss: 0.3906 - mae: 0.3906\n",
            "Epoch 258/500\n",
            "1/1 [==============================] - 0s 14ms/step - loss: 0.1394 - mae: 0.1394\n",
            "Epoch 259/500\n",
            "1/1 [==============================] - 0s 20ms/step - loss: 0.1653 - mae: 0.1653\n",
            "Epoch 260/500\n",
            "1/1 [==============================] - 0s 16ms/step - loss: 0.1878 - mae: 0.1878\n",
            "Epoch 261/500\n",
            "1/1 [==============================] - 0s 16ms/step - loss: 0.1814 - mae: 0.1814\n",
            "Epoch 262/500\n",
            "1/1 [==============================] - 0s 16ms/step - loss: 0.0860 - mae: 0.0860\n",
            "Epoch 263/500\n",
            "1/1 [==============================] - 0s 17ms/step - loss: 0.1436 - mae: 0.1436\n",
            "Epoch 264/500\n",
            "1/1 [==============================] - 0s 24ms/step - loss: 0.2461 - mae: 0.2461\n",
            "Epoch 265/500\n",
            "1/1 [==============================] - 0s 11ms/step - loss: 0.1087 - mae: 0.1087\n",
            "Epoch 266/500\n",
            "1/1 [==============================] - 0s 32ms/step - loss: 0.4501 - mae: 0.4501\n",
            "Epoch 267/500\n",
            "1/1 [==============================] - 0s 19ms/step - loss: 0.5063 - mae: 0.5063\n",
            "Epoch 268/500\n",
            "1/1 [==============================] - 0s 28ms/step - loss: 0.1349 - mae: 0.1349\n",
            "Epoch 269/500\n",
            "1/1 [==============================] - 0s 33ms/step - loss: 0.6688 - mae: 0.6688\n",
            "Epoch 270/500\n",
            "1/1 [==============================] - 0s 28ms/step - loss: 0.8922 - mae: 0.8922\n",
            "Epoch 271/500\n",
            "1/1 [==============================] - 0s 36ms/step - loss: 0.6235 - mae: 0.6235\n",
            "Epoch 272/500\n",
            "1/1 [==============================] - 0s 33ms/step - loss: 0.1794 - mae: 0.1794\n",
            "Epoch 273/500\n",
            "1/1 [==============================] - 0s 21ms/step - loss: 0.3368 - mae: 0.3368\n",
            "Epoch 274/500\n",
            "1/1 [==============================] - 0s 20ms/step - loss: 0.0333 - mae: 0.0333\n",
            "Epoch 275/500\n",
            "1/1 [==============================] - 0s 25ms/step - loss: 0.0408 - mae: 0.0408\n",
            "Epoch 276/500\n",
            "1/1 [==============================] - 0s 20ms/step - loss: 0.1018 - mae: 0.1018\n",
            "Epoch 277/500\n",
            "1/1 [==============================] - 0s 19ms/step - loss: 0.2628 - mae: 0.2628\n",
            "Epoch 278/500\n",
            "1/1 [==============================] - 0s 22ms/step - loss: 0.0804 - mae: 0.0804\n",
            "Epoch 279/500\n",
            "1/1 [==============================] - 0s 28ms/step - loss: 0.4697 - mae: 0.4697\n",
            "Epoch 280/500\n",
            "1/1 [==============================] - 0s 25ms/step - loss: 0.4472 - mae: 0.4472\n",
            "Epoch 281/500\n",
            "1/1 [==============================] - 0s 30ms/step - loss: 0.0534 - mae: 0.0534\n",
            "Epoch 282/500\n",
            "1/1 [==============================] - 0s 23ms/step - loss: 0.1033 - mae: 0.1033\n",
            "Epoch 283/500\n",
            "1/1 [==============================] - 0s 20ms/step - loss: 0.3833 - mae: 0.3833\n",
            "Epoch 284/500\n",
            "1/1 [==============================] - 0s 29ms/step - loss: 0.3567 - mae: 0.3567\n",
            "Epoch 285/500\n",
            "1/1 [==============================] - 0s 20ms/step - loss: 0.1296 - mae: 0.1296\n",
            "Epoch 286/500\n",
            "1/1 [==============================] - 0s 25ms/step - loss: 0.0620 - mae: 0.0620\n",
            "Epoch 287/500\n",
            "1/1 [==============================] - 0s 24ms/step - loss: 0.5042 - mae: 0.5042\n",
            "Epoch 288/500\n",
            "1/1 [==============================] - 0s 14ms/step - loss: 0.5226 - mae: 0.5226\n",
            "Epoch 289/500\n",
            "1/1 [==============================] - 0s 15ms/step - loss: 0.0862 - mae: 0.0862\n",
            "Epoch 290/500\n",
            "1/1 [==============================] - 0s 14ms/step - loss: 0.8037 - mae: 0.8037\n",
            "Epoch 291/500\n",
            "1/1 [==============================] - 0s 13ms/step - loss: 1.0727 - mae: 1.0727\n",
            "Epoch 292/500\n",
            "1/1 [==============================] - 0s 13ms/step - loss: 0.7688 - mae: 0.7688\n",
            "Epoch 293/500\n",
            "1/1 [==============================] - 0s 14ms/step - loss: 0.0468 - mae: 0.0468\n",
            "Epoch 294/500\n",
            "1/1 [==============================] - 0s 11ms/step - loss: 0.8981 - mae: 0.8981\n",
            "Epoch 295/500\n",
            "1/1 [==============================] - 0s 11ms/step - loss: 1.2245 - mae: 1.2245\n",
            "Epoch 296/500\n",
            "1/1 [==============================] - 0s 12ms/step - loss: 1.0963 - mae: 1.0963\n",
            "Epoch 297/500\n",
            "1/1 [==============================] - 0s 13ms/step - loss: 0.5711 - mae: 0.5711\n",
            "Epoch 298/500\n",
            "1/1 [==============================] - 0s 10ms/step - loss: 0.4235 - mae: 0.4235\n",
            "Epoch 299/500\n",
            "1/1 [==============================] - 0s 11ms/step - loss: 0.8146 - mae: 0.8146\n",
            "Epoch 300/500\n",
            "1/1 [==============================] - 0s 16ms/step - loss: 0.6376 - mae: 0.6376\n",
            "Epoch 301/500\n",
            "1/1 [==============================] - 0s 9ms/step - loss: 0.1846 - mae: 0.1846\n",
            "Epoch 302/500\n",
            "1/1 [==============================] - 0s 10ms/step - loss: 0.3711 - mae: 0.3711\n",
            "Epoch 303/500\n",
            "1/1 [==============================] - 0s 12ms/step - loss: 0.2085 - mae: 0.2085\n",
            "Epoch 304/500\n",
            "1/1 [==============================] - 0s 11ms/step - loss: 0.4344 - mae: 0.4344\n",
            "Epoch 305/500\n",
            "1/1 [==============================] - 0s 10ms/step - loss: 0.5433 - mae: 0.5433\n",
            "Epoch 306/500\n",
            "1/1 [==============================] - 0s 11ms/step - loss: 0.2212 - mae: 0.2212\n",
            "Epoch 307/500\n",
            "1/1 [==============================] - 0s 9ms/step - loss: 0.6167 - mae: 0.6167\n",
            "Epoch 308/500\n",
            "1/1 [==============================] - 0s 12ms/step - loss: 0.7913 - mae: 0.7913\n",
            "Epoch 309/500\n",
            "1/1 [==============================] - 0s 11ms/step - loss: 0.5125 - mae: 0.5125\n",
            "Epoch 310/500\n",
            "1/1 [==============================] - 0s 12ms/step - loss: 0.2066 - mae: 0.2066\n",
            "Epoch 311/500\n",
            "1/1 [==============================] - 0s 11ms/step - loss: 0.3807 - mae: 0.3807\n",
            "Epoch 312/500\n",
            "1/1 [==============================] - 0s 11ms/step - loss: 0.0911 - mae: 0.0911\n",
            "Epoch 313/500\n",
            "1/1 [==============================] - 0s 10ms/step - loss: 0.0844 - mae: 0.0844\n",
            "Epoch 314/500\n",
            "1/1 [==============================] - 0s 11ms/step - loss: 0.3394 - mae: 0.3394\n",
            "Epoch 315/500\n",
            "1/1 [==============================] - 0s 12ms/step - loss: 0.2607 - mae: 0.2607\n",
            "Epoch 316/500\n",
            "1/1 [==============================] - 0s 11ms/step - loss: 0.3016 - mae: 0.3016\n",
            "Epoch 317/500\n",
            "1/1 [==============================] - 0s 11ms/step - loss: 0.3404 - mae: 0.3404\n",
            "Epoch 318/500\n",
            "1/1 [==============================] - 0s 11ms/step - loss: 0.0909 - mae: 0.0909\n",
            "Epoch 319/500\n",
            "1/1 [==============================] - 0s 9ms/step - loss: 0.0659 - mae: 0.0659\n",
            "Epoch 320/500\n",
            "1/1 [==============================] - 0s 11ms/step - loss: 0.1181 - mae: 0.1181\n",
            "Epoch 321/500\n",
            "1/1 [==============================] - 0s 11ms/step - loss: 0.2662 - mae: 0.2662\n",
            "Epoch 322/500\n",
            "1/1 [==============================] - 0s 11ms/step - loss: 0.0932 - mae: 0.0932\n",
            "Epoch 323/500\n",
            "1/1 [==============================] - 0s 11ms/step - loss: 0.5272 - mae: 0.5272\n",
            "Epoch 324/500\n",
            "1/1 [==============================] - 0s 11ms/step - loss: 0.6403 - mae: 0.6403\n",
            "Epoch 325/500\n",
            "1/1 [==============================] - 0s 10ms/step - loss: 0.3085 - mae: 0.3085\n",
            "Epoch 326/500\n",
            "1/1 [==============================] - 0s 11ms/step - loss: 0.4499 - mae: 0.4499\n",
            "Epoch 327/500\n",
            "1/1 [==============================] - 0s 11ms/step - loss: 0.6543 - mae: 0.6543\n",
            "Epoch 328/500\n",
            "1/1 [==============================] - 0s 11ms/step - loss: 0.3440 - mae: 0.3440\n",
            "Epoch 329/500\n",
            "1/1 [==============================] - 0s 11ms/step - loss: 0.4061 - mae: 0.4061\n",
            "Epoch 330/500\n",
            "1/1 [==============================] - 0s 10ms/step - loss: 0.6120 - mae: 0.6120\n",
            "Epoch 331/500\n",
            "1/1 [==============================] - 0s 10ms/step - loss: 0.3613 - mae: 0.3613\n",
            "Epoch 332/500\n",
            "1/1 [==============================] - 0s 10ms/step - loss: 0.3436 - mae: 0.3436\n",
            "Epoch 333/500\n",
            "1/1 [==============================] - 0s 11ms/step - loss: 0.5246 - mae: 0.5246\n",
            "Epoch 334/500\n",
            "1/1 [==============================] - 0s 10ms/step - loss: 0.2126 - mae: 0.2126\n",
            "Epoch 335/500\n",
            "1/1 [==============================] - 0s 12ms/step - loss: 0.5261 - mae: 0.5261\n",
            "Epoch 336/500\n",
            "1/1 [==============================] - 0s 14ms/step - loss: 0.7396 - mae: 0.7396\n",
            "Epoch 337/500\n",
            "1/1 [==============================] - 0s 12ms/step - loss: 0.5539 - mae: 0.5539\n",
            "Epoch 338/500\n",
            "1/1 [==============================] - 0s 10ms/step - loss: 0.0996 - mae: 0.0996\n",
            "Epoch 339/500\n",
            "1/1 [==============================] - 0s 10ms/step - loss: 0.7734 - mae: 0.7734\n",
            "Epoch 340/500\n",
            "1/1 [==============================] - 0s 14ms/step - loss: 0.9160 - mae: 0.9160\n",
            "Epoch 341/500\n",
            "1/1 [==============================] - 0s 17ms/step - loss: 0.6050 - mae: 0.6050\n",
            "Epoch 342/500\n",
            "1/1 [==============================] - 0s 14ms/step - loss: 0.2180 - mae: 0.2180\n",
            "Epoch 343/500\n",
            "1/1 [==============================] - 0s 19ms/step - loss: 0.4327 - mae: 0.4327\n",
            "Epoch 344/500\n",
            "1/1 [==============================] - 0s 16ms/step - loss: 0.1872 - mae: 0.1872\n",
            "Epoch 345/500\n",
            "1/1 [==============================] - 0s 15ms/step - loss: 0.5772 - mae: 0.5772\n",
            "Epoch 346/500\n",
            "1/1 [==============================] - 0s 11ms/step - loss: 0.7139 - mae: 0.7139\n",
            "Epoch 347/500\n",
            "1/1 [==============================] - 0s 10ms/step - loss: 0.4163 - mae: 0.4163\n",
            "Epoch 348/500\n",
            "1/1 [==============================] - 0s 9ms/step - loss: 0.2977 - mae: 0.2977\n",
            "Epoch 349/500\n",
            "1/1 [==============================] - 0s 12ms/step - loss: 0.5034 - mae: 0.5034\n",
            "Epoch 350/500\n",
            "1/1 [==============================] - 0s 11ms/step - loss: 0.3193 - mae: 0.3193\n",
            "Epoch 351/500\n",
            "1/1 [==============================] - 0s 9ms/step - loss: 0.3099 - mae: 0.3099\n",
            "Epoch 352/500\n",
            "1/1 [==============================] - 0s 8ms/step - loss: 0.3757 - mae: 0.3757\n",
            "Epoch 353/500\n",
            "1/1 [==============================] - 0s 10ms/step - loss: 0.1174 - mae: 0.1174\n",
            "Epoch 354/500\n",
            "1/1 [==============================] - 0s 13ms/step - loss: 0.5454 - mae: 0.5454\n",
            "Epoch 355/500\n",
            "1/1 [==============================] - 0s 12ms/step - loss: 0.5755 - mae: 0.5755\n",
            "Epoch 356/500\n",
            "1/1 [==============================] - 0s 9ms/step - loss: 0.1767 - mae: 0.1767\n",
            "Epoch 357/500\n",
            "1/1 [==============================] - 0s 15ms/step - loss: 0.6493 - mae: 0.6493\n",
            "Epoch 358/500\n",
            "1/1 [==============================] - 0s 12ms/step - loss: 0.9247 - mae: 0.9247\n",
            "Epoch 359/500\n",
            "1/1 [==============================] - 0s 12ms/step - loss: 0.6721 - mae: 0.6721\n",
            "Epoch 360/500\n",
            "1/1 [==============================] - 0s 13ms/step - loss: 0.0474 - mae: 0.0474\n",
            "Epoch 361/500\n",
            "1/1 [==============================] - 0s 11ms/step - loss: 0.6155 - mae: 0.6155\n",
            "Epoch 362/500\n",
            "1/1 [==============================] - 0s 11ms/step - loss: 0.7181 - mae: 0.7181\n",
            "Epoch 363/500\n",
            "1/1 [==============================] - 0s 10ms/step - loss: 0.4092 - mae: 0.4092\n",
            "Epoch 364/500\n",
            "1/1 [==============================] - 0s 9ms/step - loss: 0.2898 - mae: 0.2898\n",
            "Epoch 365/500\n",
            "1/1 [==============================] - 0s 11ms/step - loss: 0.4555 - mae: 0.4555\n",
            "Epoch 366/500\n",
            "1/1 [==============================] - 0s 11ms/step - loss: 0.1350 - mae: 0.1350\n",
            "Epoch 367/500\n",
            "1/1 [==============================] - 0s 10ms/step - loss: 0.5889 - mae: 0.5889\n",
            "Epoch 368/500\n",
            "1/1 [==============================] - 0s 9ms/step - loss: 0.8085 - mae: 0.8085\n",
            "Epoch 369/500\n",
            "1/1 [==============================] - 0s 9ms/step - loss: 0.6002 - mae: 0.6002\n",
            "Epoch 370/500\n",
            "1/1 [==============================] - 0s 10ms/step - loss: 0.1012 - mae: 0.1012\n",
            "Epoch 371/500\n",
            "1/1 [==============================] - 0s 12ms/step - loss: 0.7824 - mae: 0.7824\n",
            "Epoch 372/500\n",
            "1/1 [==============================] - 0s 9ms/step - loss: 1.0008 - mae: 1.0008\n",
            "Epoch 373/500\n",
            "1/1 [==============================] - 0s 10ms/step - loss: 0.6993 - mae: 0.6993\n",
            "Epoch 374/500\n",
            "1/1 [==============================] - 0s 13ms/step - loss: 0.0849 - mae: 0.0849\n",
            "Epoch 375/500\n",
            "1/1 [==============================] - 0s 10ms/step - loss: 0.3721 - mae: 0.3721\n",
            "Epoch 376/500\n",
            "1/1 [==============================] - 0s 10ms/step - loss: 0.2481 - mae: 0.2481\n",
            "Epoch 377/500\n",
            "1/1 [==============================] - 0s 10ms/step - loss: 0.3413 - mae: 0.3413\n",
            "Epoch 378/500\n",
            "1/1 [==============================] - 0s 9ms/step - loss: 0.4010 - mae: 0.4010\n",
            "Epoch 379/500\n",
            "1/1 [==============================] - 0s 9ms/step - loss: 0.0560 - mae: 0.0560\n",
            "Epoch 380/500\n",
            "1/1 [==============================] - 0s 12ms/step - loss: 0.5957 - mae: 0.5957\n",
            "Epoch 381/500\n",
            "1/1 [==============================] - 0s 11ms/step - loss: 0.7660 - mae: 0.7660\n",
            "Epoch 382/500\n",
            "1/1 [==============================] - 0s 12ms/step - loss: 0.5778 - mae: 0.5778\n",
            "Epoch 383/500\n",
            "1/1 [==============================] - 0s 11ms/step - loss: 0.0659 - mae: 0.0659\n",
            "Epoch 384/500\n",
            "1/1 [==============================] - 0s 12ms/step - loss: 0.4853 - mae: 0.4853\n",
            "Epoch 385/500\n",
            "1/1 [==============================] - 0s 11ms/step - loss: 0.4318 - mae: 0.4318\n",
            "Epoch 386/500\n",
            "1/1 [==============================] - 0s 11ms/step - loss: 0.0720 - mae: 0.0720\n",
            "Epoch 387/500\n",
            "1/1 [==============================] - 0s 12ms/step - loss: 0.0906 - mae: 0.0906\n",
            "Epoch 388/500\n",
            "1/1 [==============================] - 0s 13ms/step - loss: 0.3445 - mae: 0.3445\n",
            "Epoch 389/500\n",
            "1/1 [==============================] - 0s 11ms/step - loss: 0.3091 - mae: 0.3091\n",
            "Epoch 390/500\n",
            "1/1 [==============================] - 0s 11ms/step - loss: 0.1232 - mae: 0.1232\n",
            "Epoch 391/500\n",
            "1/1 [==============================] - 0s 11ms/step - loss: 0.1031 - mae: 0.1031\n",
            "Epoch 392/500\n",
            "1/1 [==============================] - 0s 10ms/step - loss: 0.3656 - mae: 0.3656\n",
            "Epoch 393/500\n",
            "1/1 [==============================] - 0s 10ms/step - loss: 0.3103 - mae: 0.3103\n",
            "Epoch 394/500\n",
            "1/1 [==============================] - 0s 10ms/step - loss: 0.2114 - mae: 0.2114\n",
            "Epoch 395/500\n",
            "1/1 [==============================] - 0s 10ms/step - loss: 0.2352 - mae: 0.2352\n",
            "Epoch 396/500\n",
            "1/1 [==============================] - 0s 10ms/step - loss: 0.1390 - mae: 0.1390\n",
            "Epoch 397/500\n",
            "1/1 [==============================] - 0s 10ms/step - loss: 0.1806 - mae: 0.1806\n",
            "Epoch 398/500\n",
            "1/1 [==============================] - 0s 10ms/step - loss: 0.1418 - mae: 0.1418\n",
            "Epoch 399/500\n",
            "1/1 [==============================] - 0s 10ms/step - loss: 0.0289 - mae: 0.0289\n",
            "Epoch 400/500\n",
            "1/1 [==============================] - 0s 12ms/step - loss: 0.4797 - mae: 0.4797\n",
            "Epoch 401/500\n",
            "1/1 [==============================] - 0s 12ms/step - loss: 0.4552 - mae: 0.4552\n",
            "Epoch 402/500\n",
            "1/1 [==============================] - 0s 10ms/step - loss: 0.0297 - mae: 0.0297\n",
            "Epoch 403/500\n",
            "1/1 [==============================] - 0s 11ms/step - loss: 0.0568 - mae: 0.0568\n",
            "Epoch 404/500\n",
            "1/1 [==============================] - 0s 11ms/step - loss: 0.3358 - mae: 0.3358\n",
            "Epoch 405/500\n",
            "1/1 [==============================] - 0s 11ms/step - loss: 0.2491 - mae: 0.2491\n",
            "Epoch 406/500\n",
            "1/1 [==============================] - 0s 10ms/step - loss: 0.2612 - mae: 0.2612\n",
            "Epoch 407/500\n",
            "1/1 [==============================] - 0s 11ms/step - loss: 0.2603 - mae: 0.2603\n",
            "Epoch 408/500\n",
            "1/1 [==============================] - 0s 10ms/step - loss: 0.1640 - mae: 0.1640\n",
            "Epoch 409/500\n",
            "1/1 [==============================] - 0s 9ms/step - loss: 0.1103 - mae: 0.1103\n",
            "Epoch 410/500\n",
            "1/1 [==============================] - 0s 13ms/step - loss: 0.4177 - mae: 0.4177\n",
            "Epoch 411/500\n",
            "1/1 [==============================] - 0s 15ms/step - loss: 0.4611 - mae: 0.4611\n",
            "Epoch 412/500\n",
            "1/1 [==============================] - 0s 15ms/step - loss: 0.1377 - mae: 0.1377\n",
            "Epoch 413/500\n",
            "1/1 [==============================] - 0s 14ms/step - loss: 0.5940 - mae: 0.5940\n",
            "Epoch 414/500\n",
            "1/1 [==============================] - 0s 17ms/step - loss: 0.7686 - mae: 0.7686\n",
            "Epoch 415/500\n",
            "1/1 [==============================] - 0s 13ms/step - loss: 0.5113 - mae: 0.5113\n",
            "Epoch 416/500\n",
            "1/1 [==============================] - 0s 12ms/step - loss: 0.1709 - mae: 0.1709\n",
            "Epoch 417/500\n",
            "1/1 [==============================] - 0s 14ms/step - loss: 0.3030 - mae: 0.3030\n",
            "Epoch 418/500\n",
            "1/1 [==============================] - 0s 11ms/step - loss: 0.1782 - mae: 0.1782\n",
            "Epoch 419/500\n",
            "1/1 [==============================] - 0s 10ms/step - loss: 0.1331 - mae: 0.1331\n",
            "Epoch 420/500\n",
            "1/1 [==============================] - 0s 13ms/step - loss: 0.2420 - mae: 0.2420\n",
            "Epoch 421/500\n",
            "1/1 [==============================] - 0s 11ms/step - loss: 0.0939 - mae: 0.0939\n",
            "Epoch 422/500\n",
            "1/1 [==============================] - 0s 11ms/step - loss: 0.4623 - mae: 0.4623\n",
            "Epoch 423/500\n",
            "1/1 [==============================] - 0s 10ms/step - loss: 0.4777 - mae: 0.4777\n",
            "Epoch 424/500\n",
            "1/1 [==============================] - 0s 10ms/step - loss: 0.1240 - mae: 0.1240\n",
            "Epoch 425/500\n",
            "1/1 [==============================] - 0s 10ms/step - loss: 0.2515 - mae: 0.2515\n",
            "Epoch 426/500\n",
            "1/1 [==============================] - 0s 10ms/step - loss: 0.1110 - mae: 0.1110\n",
            "Epoch 427/500\n",
            "1/1 [==============================] - 0s 10ms/step - loss: 0.3892 - mae: 0.3892\n",
            "Epoch 428/500\n",
            "1/1 [==============================] - 0s 9ms/step - loss: 0.4240 - mae: 0.4240\n",
            "Epoch 429/500\n",
            "1/1 [==============================] - 0s 10ms/step - loss: 0.1084 - mae: 0.1084\n",
            "Epoch 430/500\n",
            "1/1 [==============================] - 0s 10ms/step - loss: 0.6036 - mae: 0.6036\n",
            "Epoch 431/500\n",
            "1/1 [==============================] - 0s 16ms/step - loss: 0.7307 - mae: 0.7307\n",
            "Epoch 432/500\n",
            "1/1 [==============================] - 0s 12ms/step - loss: 0.4532 - mae: 0.4532\n",
            "Epoch 433/500\n",
            "1/1 [==============================] - 0s 11ms/step - loss: 0.2213 - mae: 0.2213\n",
            "Epoch 434/500\n",
            "1/1 [==============================] - 0s 10ms/step - loss: 0.4133 - mae: 0.4133\n",
            "Epoch 435/500\n",
            "1/1 [==============================] - 0s 13ms/step - loss: 0.1322 - mae: 0.1322\n",
            "Epoch 436/500\n",
            "1/1 [==============================] - 0s 11ms/step - loss: 0.5873 - mae: 0.5873\n",
            "Epoch 437/500\n",
            "1/1 [==============================] - 0s 12ms/step - loss: 0.7818 - mae: 0.7818\n",
            "Epoch 438/500\n",
            "1/1 [==============================] - 0s 9ms/step - loss: 0.6184 - mae: 0.6184\n",
            "Epoch 439/500\n",
            "1/1 [==============================] - 0s 10ms/step - loss: 0.0801 - mae: 0.0801\n",
            "Epoch 440/500\n",
            "1/1 [==============================] - 0s 11ms/step - loss: 0.8569 - mae: 0.8569\n",
            "Epoch 441/500\n",
            "1/1 [==============================] - 0s 10ms/step - loss: 1.2520 - mae: 1.2520\n",
            "Epoch 442/500\n",
            "1/1 [==============================] - 0s 10ms/step - loss: 1.1261 - mae: 1.1261\n",
            "Epoch 443/500\n",
            "1/1 [==============================] - 0s 10ms/step - loss: 0.6110 - mae: 0.6110\n",
            "Epoch 444/500\n",
            "1/1 [==============================] - 0s 11ms/step - loss: 0.3239 - mae: 0.3239\n",
            "Epoch 445/500\n",
            "1/1 [==============================] - 0s 11ms/step - loss: 0.6892 - mae: 0.6892\n",
            "Epoch 446/500\n",
            "1/1 [==============================] - 0s 11ms/step - loss: 0.6280 - mae: 0.6280\n",
            "Epoch 447/500\n",
            "1/1 [==============================] - 0s 11ms/step - loss: 0.1807 - mae: 0.1807\n",
            "Epoch 448/500\n",
            "1/1 [==============================] - 0s 9ms/step - loss: 0.6559 - mae: 0.6559\n",
            "Epoch 449/500\n",
            "1/1 [==============================] - 0s 9ms/step - loss: 0.9721 - mae: 0.9721\n",
            "Epoch 450/500\n",
            "1/1 [==============================] - 0s 12ms/step - loss: 0.7849 - mae: 0.7849\n",
            "Epoch 451/500\n",
            "1/1 [==============================] - 0s 11ms/step - loss: 0.1695 - mae: 0.1695\n",
            "Epoch 452/500\n",
            "1/1 [==============================] - 0s 11ms/step - loss: 0.7705 - mae: 0.7705\n",
            "Epoch 453/500\n",
            "1/1 [==============================] - 0s 11ms/step - loss: 1.2062 - mae: 1.2062\n",
            "Epoch 454/500\n",
            "1/1 [==============================] - 0s 10ms/step - loss: 1.2366 - mae: 1.2366\n",
            "Epoch 455/500\n",
            "1/1 [==============================] - 0s 10ms/step - loss: 0.9064 - mae: 0.9064\n",
            "Epoch 456/500\n",
            "1/1 [==============================] - 0s 11ms/step - loss: 0.2354 - mae: 0.2354\n",
            "Epoch 457/500\n",
            "1/1 [==============================] - 0s 11ms/step - loss: 0.8036 - mae: 0.8036\n",
            "Epoch 458/500\n",
            "1/1 [==============================] - 0s 11ms/step - loss: 1.3004 - mae: 1.3004\n",
            "Epoch 459/500\n",
            "1/1 [==============================] - 0s 11ms/step - loss: 1.2682 - mae: 1.2682\n",
            "Epoch 460/500\n",
            "1/1 [==============================] - 0s 9ms/step - loss: 0.7676 - mae: 0.7676\n",
            "Epoch 461/500\n",
            "1/1 [==============================] - 0s 10ms/step - loss: 0.1096 - mae: 0.1096\n",
            "Epoch 462/500\n",
            "1/1 [==============================] - 0s 12ms/step - loss: 0.6670 - mae: 0.6670\n",
            "Epoch 463/500\n",
            "1/1 [==============================] - 0s 11ms/step - loss: 0.7824 - mae: 0.7824\n",
            "Epoch 464/500\n",
            "1/1 [==============================] - 0s 12ms/step - loss: 0.5119 - mae: 0.5119\n",
            "Epoch 465/500\n",
            "1/1 [==============================] - 0s 10ms/step - loss: 0.1995 - mae: 0.1995\n",
            "Epoch 466/500\n",
            "1/1 [==============================] - 0s 16ms/step - loss: 0.4064 - mae: 0.4064\n",
            "Epoch 467/500\n",
            "1/1 [==============================] - 0s 12ms/step - loss: 0.2339 - mae: 0.2339\n",
            "Epoch 468/500\n",
            "1/1 [==============================] - 0s 11ms/step - loss: 0.3386 - mae: 0.3386\n",
            "Epoch 469/500\n",
            "1/1 [==============================] - 0s 11ms/step - loss: 0.4771 - mae: 0.4771\n",
            "Epoch 470/500\n",
            "1/1 [==============================] - 0s 14ms/step - loss: 0.2814 - mae: 0.2814\n",
            "Epoch 471/500\n",
            "1/1 [==============================] - 0s 14ms/step - loss: 0.2906 - mae: 0.2906\n",
            "Epoch 472/500\n",
            "1/1 [==============================] - 0s 13ms/step - loss: 0.3449 - mae: 0.3449\n",
            "Epoch 473/500\n",
            "1/1 [==============================] - 0s 14ms/step - loss: 0.0415 - mae: 0.0415\n",
            "Epoch 474/500\n",
            "1/1 [==============================] - 0s 13ms/step - loss: 0.1869 - mae: 0.1869\n",
            "Epoch 475/500\n",
            "1/1 [==============================] - 0s 12ms/step - loss: 0.1760 - mae: 0.1760\n",
            "Epoch 476/500\n",
            "1/1 [==============================] - 0s 15ms/step - loss: 0.1100 - mae: 0.1100\n",
            "Epoch 477/500\n",
            "1/1 [==============================] - 0s 13ms/step - loss: 0.3478 - mae: 0.3478\n",
            "Epoch 478/500\n",
            "1/1 [==============================] - 0s 13ms/step - loss: 0.2468 - mae: 0.2468\n",
            "Epoch 479/500\n",
            "1/1 [==============================] - 0s 14ms/step - loss: 0.2441 - mae: 0.2441\n",
            "Epoch 480/500\n",
            "1/1 [==============================] - 0s 16ms/step - loss: 0.2750 - mae: 0.2750\n",
            "Epoch 481/500\n",
            "1/1 [==============================] - 0s 14ms/step - loss: 0.1731 - mae: 0.1731\n",
            "Epoch 482/500\n",
            "1/1 [==============================] - 0s 17ms/step - loss: 0.1801 - mae: 0.1801\n",
            "Epoch 483/500\n",
            "1/1 [==============================] - 0s 14ms/step - loss: 0.1434 - mae: 0.1434\n",
            "Epoch 484/500\n",
            "1/1 [==============================] - 0s 12ms/step - loss: 0.0367 - mae: 0.0367\n",
            "Epoch 485/500\n",
            "1/1 [==============================] - 0s 12ms/step - loss: 0.3177 - mae: 0.3177\n",
            "Epoch 486/500\n",
            "1/1 [==============================] - 0s 12ms/step - loss: 0.2049 - mae: 0.2049\n",
            "Epoch 487/500\n",
            "1/1 [==============================] - 0s 11ms/step - loss: 0.3385 - mae: 0.3385\n",
            "Epoch 488/500\n",
            "1/1 [==============================] - 0s 13ms/step - loss: 0.3905 - mae: 0.3905\n",
            "Epoch 489/500\n",
            "1/1 [==============================] - 0s 12ms/step - loss: 0.0590 - mae: 0.0590\n",
            "Epoch 490/500\n",
            "1/1 [==============================] - 0s 13ms/step - loss: 0.5908 - mae: 0.5908\n",
            "Epoch 491/500\n",
            "1/1 [==============================] - 0s 15ms/step - loss: 0.8026 - mae: 0.8026\n",
            "Epoch 492/500\n",
            "1/1 [==============================] - 0s 13ms/step - loss: 0.6836 - mae: 0.6836\n",
            "Epoch 493/500\n",
            "1/1 [==============================] - 0s 11ms/step - loss: 0.2416 - mae: 0.2416\n",
            "Epoch 494/500\n",
            "1/1 [==============================] - 0s 10ms/step - loss: 0.6155 - mae: 0.6155\n",
            "Epoch 495/500\n",
            "1/1 [==============================] - 0s 13ms/step - loss: 0.8839 - mae: 0.8839\n",
            "Epoch 496/500\n",
            "1/1 [==============================] - 0s 9ms/step - loss: 0.6806 - mae: 0.6806\n",
            "Epoch 497/500\n",
            "1/1 [==============================] - 0s 11ms/step - loss: 0.1599 - mae: 0.1599\n",
            "Epoch 498/500\n",
            "1/1 [==============================] - 0s 10ms/step - loss: 0.6933 - mae: 0.6933\n",
            "Epoch 499/500\n",
            "1/1 [==============================] - 0s 10ms/step - loss: 0.9903 - mae: 0.9903\n",
            "Epoch 500/500\n",
            "1/1 [==============================] - 0s 9ms/step - loss: 0.8989 - mae: 0.8989\n"
          ]
        },
        {
          "output_type": "execute_result",
          "data": {
            "text/plain": [
              "<keras.callbacks.History at 0x7f6c182da6d0>"
            ]
          },
          "metadata": {},
          "execution_count": 38
        }
      ]
    },
    {
      "cell_type": "code",
      "source": [
        "X, y"
      ],
      "metadata": {
        "colab": {
          "base_uri": "https://localhost:8080/"
        },
        "id": "s_R-XE0OIRFN",
        "outputId": "f3f4a3a1-5d1b-499b-dad7-a131d2fd95d4"
      },
      "execution_count": null,
      "outputs": [
        {
          "output_type": "execute_result",
          "data": {
            "text/plain": [
              "(<tf.Tensor: shape=(8,), dtype=float32, numpy=array([-7., -4., -1.,  2.,  5.,  8., 11., 14.], dtype=float32)>,\n",
              " <tf.Tensor: shape=(8,), dtype=float32, numpy=array([ 3.,  6.,  9., 12., 15., 18., 21., 24.], dtype=float32)>)"
            ]
          },
          "metadata": {},
          "execution_count": 36
        }
      ]
    },
    {
      "cell_type": "code",
      "source": [
        "y_pred = improved_model.predict([17.0])\n",
        "y_pred"
      ],
      "metadata": {
        "colab": {
          "base_uri": "https://localhost:8080/"
        },
        "id": "NATH_SjdIfUL",
        "outputId": "cc548a60-43af-429c-a608-99b61658e9b5"
      },
      "execution_count": null,
      "outputs": [
        {
          "output_type": "stream",
          "name": "stdout",
          "text": [
            "1/1 [==============================] - 0s 74ms/step\n"
          ]
        },
        {
          "output_type": "execute_result",
          "data": {
            "text/plain": [
              "array([[26.128393]], dtype=float32)"
            ]
          },
          "metadata": {},
          "execution_count": 39
        }
      ]
    },
    {
      "cell_type": "markdown",
      "source": [
        "# **Evaluating**\n",
        "\n",
        "Lets start with creating larger dataset."
      ],
      "metadata": {
        "id": "en4DLX39jFto"
      }
    },
    {
      "cell_type": "code",
      "source": [
        "X = tf.range(-100, 100, 4)\n",
        "X\n",
        "# Numbers from -100 to 100 with a step size of 4"
      ],
      "metadata": {
        "colab": {
          "base_uri": "https://localhost:8080/"
        },
        "id": "sTNOGeHgIk5t",
        "outputId": "7ddc71f3-77d0-4f9f-9399-d084eff2529d"
      },
      "execution_count": null,
      "outputs": [
        {
          "output_type": "execute_result",
          "data": {
            "text/plain": [
              "<tf.Tensor: shape=(50,), dtype=int32, numpy=\n",
              "array([-100,  -96,  -92,  -88,  -84,  -80,  -76,  -72,  -68,  -64,  -60,\n",
              "        -56,  -52,  -48,  -44,  -40,  -36,  -32,  -28,  -24,  -20,  -16,\n",
              "        -12,   -8,   -4,    0,    4,    8,   12,   16,   20,   24,   28,\n",
              "         32,   36,   40,   44,   48,   52,   56,   60,   64,   68,   72,\n",
              "         76,   80,   84,   88,   92,   96], dtype=int32)>"
            ]
          },
          "metadata": {},
          "execution_count": 2
        }
      ]
    },
    {
      "cell_type": "code",
      "source": [
        "# Creating labels for the dataset.\n",
        "y = X + 10\n",
        "y"
      ],
      "metadata": {
        "colab": {
          "base_uri": "https://localhost:8080/"
        },
        "id": "7GUWjC0AjfAl",
        "outputId": "f3c3e94e-2ecc-4181-9eba-da11e8cfc6f2"
      },
      "execution_count": null,
      "outputs": [
        {
          "output_type": "execute_result",
          "data": {
            "text/plain": [
              "<tf.Tensor: shape=(50,), dtype=int32, numpy=\n",
              "array([-90, -86, -82, -78, -74, -70, -66, -62, -58, -54, -50, -46, -42,\n",
              "       -38, -34, -30, -26, -22, -18, -14, -10,  -6,  -2,   2,   6,  10,\n",
              "        14,  18,  22,  26,  30,  34,  38,  42,  46,  50,  54,  58,  62,\n",
              "        66,  70,  74,  78,  82,  86,  90,  94,  98, 102, 106], dtype=int32)>"
            ]
          },
          "metadata": {},
          "execution_count": 3
        }
      ]
    },
    {
      "cell_type": "code",
      "source": [
        "# Visualize the data.\n",
        "import matplotlib.pyplot as plt\n",
        "plt.scatter(X, y)"
      ],
      "metadata": {
        "colab": {
          "base_uri": "https://localhost:8080/"
        },
        "id": "wzIo7_yojspG",
        "outputId": "10986c7c-55e2-4557-9f49-bbb70c6f3dfa"
      },
      "execution_count": null,
      "outputs": [
        {
          "output_type": "execute_result",
          "data": {
            "text/plain": [
              "<matplotlib.collections.PathCollection at 0x7f68b074f3a0>"
            ]
          },
          "metadata": {},
          "execution_count": 5
        },
        {
          "output_type": "display_data",
          "data": {
            "text/plain": [
              "<Figure size 432x288 with 1 Axes>"
            ],
            "image/png": "[encoded data removed]"
          },
          "metadata": {
            "needs_background": "light"
          }
        }
      ]
    },
    {
      "cell_type": "code",
      "source": [
        "plt.plot(X, y)"
      ],
      "metadata": {
        "colab": {
          "base_uri": "https://localhost:8080/",
          "height": 282
        },
        "id": "4_coOR_Bj51L",
        "outputId": "8b011930-b536-4fe3-8417-23d2554a2d9c"
      },
      "execution_count": 7,
      "outputs": [
        {
          "output_type": "execute_result",
          "data": {
            "text/plain": [
              "[<matplotlib.lines.Line2D at 0x7f68b0595550>]"
            ]
          },
          "metadata": {},
          "execution_count": 7
        },
        {
          "output_type": "display_data",
          "data": {
            "text/plain": [
              "<Figure size 432x288 with 1 Axes>"
            ],
            "image/png": "[encoded data removed]"
          },
          "metadata": {
            "needs_background": "light"
          }
        }
      ]
    },
    {
      "cell_type": "markdown",
      "source": [
        "# **Splitting data into 3 sets...**\n",
        "\n",
        "1) **Training set** - 70%-80% of the dataset, model learns from this data.\n",
        "\n",
        "2) **Validation set** - using this dataset model is tunned or tweeked, like chnaging hyperparameters. Typically 10%-15% of the data availale.\n",
        "\n",
        "3) **Test set** - model gets evaluated on this data, its 10%-15%."
      ],
      "metadata": {
        "id": "JrAfotc0kUx6"
      }
    },
    {
      "cell_type": "code",
      "source": [
        "# Lets check the size of data available.\n",
        "len(X)"
      ],
      "metadata": {
        "colab": {
          "base_uri": "https://localhost:8080/"
        },
        "id": "3ItetzrbkGUI",
        "outputId": "753ce6ab-4287-4efa-9dee-2f54ffc725d1"
      },
      "execution_count": 8,
      "outputs": [
        {
          "output_type": "execute_result",
          "data": {
            "text/plain": [
              "50"
            ]
          },
          "metadata": {},
          "execution_count": 8
        }
      ]
    },
    {
      "cell_type": "code",
      "source": [
        "# Splitting data into train and test. Validation is another split done when data size is a 100+.\n",
        "X_train = X[:40] # 80% of the data (the first 40 samples).\n",
        "y_train = y[:40]\n",
        "\n",
        "X_test = X[40:] # 20% of the data (the last 10 samples).\n",
        "y_test = y[40:]\n",
        "\n",
        "len(X_train), len(X_test), len(y_train), len(y_test)"
      ],
      "metadata": {
        "colab": {
          "base_uri": "https://localhost:8080/"
        },
        "id": "YvSb7q6hlyDd",
        "outputId": "bd38f665-30b6-420a-c119-593ec0b47a2b"
      },
      "execution_count": 9,
      "outputs": [
        {
          "output_type": "execute_result",
          "data": {
            "text/plain": [
              "(40, 10, 40, 10)"
            ]
          },
          "metadata": {},
          "execution_count": 9
        }
      ]
    },
    {
      "cell_type": "code",
      "source": [
        "# Visualize the datasets.\n",
        "plt.figure(figsize=(10, 7))\n",
        "plt.scatter(X_train, y_train, c=\"b\", label=\"Training Dataset\")\n",
        "plt.scatter(X_test, y_test, c=\"g\", label=\"Testing Dataset\")\n",
        "plt.legend()"
      ],
      "metadata": {
        "colab": {
          "base_uri": "https://localhost:8080/",
          "height": 445
        },
        "id": "ED8hVC_7mnxU",
        "outputId": "98d817f8-ef90-4b74-e9c1-63693da367d8"
      },
      "execution_count": 10,
      "outputs": [
        {
          "output_type": "execute_result",
          "data": {
            "text/plain": [
              "<matplotlib.legend.Legend at 0x7f68b0529430>"
            ]
          },
          "metadata": {},
          "execution_count": 10
        },
        {
          "output_type": "display_data",
          "data": {
            "text/plain": [
              "<Figure size 720x504 with 1 Axes>"
            ],
            "image/png": "[encoded data removed]"
          },
          "metadata": {
            "needs_background": "light"
          }
        }
      ]
    },
    {
      "cell_type": "markdown",
      "source": [
        "## Building a model for above data"
      ],
      "metadata": {
        "id": "79KNI6N3rFBK"
      }
    },
    {
      "cell_type": "code",
      "source": [
        "tf.random.set_seed(42)\n",
        "\n",
        "# Create Model\n",
        "model_2 = tf.keras.Sequential([\n",
        "    tf.keras.layers.Dense(100, activation=\"relu\"),\n",
        "    tf.keras.layers.Dense(100, activation=\"relu\"),\n",
        "    tf.keras.layers.Dense(100, activation=\"relu\"),\n",
        "    tf.keras.layers.Dense(1)\n",
        "])\n",
        "\n",
        "# Compile Model\n",
        "model_2.compile(loss = tf.keras.losses.mae,\n",
        "                optimizer = tf.keras.optimizers.Adam(learning_rate=0.001),\n",
        "                metrics=[\"mae\"])\n",
        "\n",
        "# Fitting Model\n",
        "model_2.fit(tf.expand_dims(X_train, axis = 1), y_train, epochs = 500)"
      ],
      "metadata": {
        "colab": {
          "base_uri": "https://localhost:8080/"
        },
        "id": "ILAYpByMmwIK",
        "outputId": "73963fb3-8039-4a03-a170-6fda26763cea"
      },
      "execution_count": 71,
      "outputs": [
        {
          "output_type": "stream",
          "name": "stdout",
          "text": [
            "Epoch 1/500\n",
            "2/2 [==============================] - 2s 16ms/step - loss: 40.1003 - mae: 40.1003\n",
            "Epoch 2/500\n",
            "2/2 [==============================] - 0s 9ms/step - loss: 36.7638 - mae: 36.7638\n",
            "Epoch 3/500\n",
            "2/2 [==============================] - 0s 9ms/step - loss: 33.8859 - mae: 33.8859\n",
            "Epoch 4/500\n",
            "2/2 [==============================] - 0s 10ms/step - loss: 31.1967 - mae: 31.1967\n",
            "Epoch 5/500\n",
            "2/2 [==============================] - 0s 8ms/step - loss: 28.4555 - mae: 28.4555\n",
            "Epoch 6/500\n",
            "2/2 [==============================] - 0s 9ms/step - loss: 25.4155 - mae: 25.4155\n",
            "Epoch 7/500\n",
            "2/2 [==============================] - 0s 10ms/step - loss: 21.9758 - mae: 21.9758\n",
            "Epoch 8/500\n",
            "2/2 [==============================] - 0s 7ms/step - loss: 18.0624 - mae: 18.0624\n",
            "Epoch 9/500\n",
            "2/2 [==============================] - 0s 7ms/step - loss: 14.2010 - mae: 14.2010\n",
            "Epoch 10/500\n",
            "2/2 [==============================] - 0s 8ms/step - loss: 10.7619 - mae: 10.7619\n",
            "Epoch 11/500\n",
            "2/2 [==============================] - 0s 7ms/step - loss: 12.3981 - mae: 12.3981\n",
            "Epoch 12/500\n",
            "2/2 [==============================] - 0s 7ms/step - loss: 12.5475 - mae: 12.5475\n",
            "Epoch 13/500\n",
            "2/2 [==============================] - 0s 8ms/step - loss: 10.2366 - mae: 10.2366\n",
            "Epoch 14/500\n",
            "2/2 [==============================] - 0s 7ms/step - loss: 6.4691 - mae: 6.4691\n",
            "Epoch 15/500\n",
            "2/2 [==============================] - 0s 9ms/step - loss: 4.5584 - mae: 4.5584\n",
            "Epoch 16/500\n",
            "2/2 [==============================] - 0s 7ms/step - loss: 5.7823 - mae: 5.7823\n",
            "Epoch 17/500\n",
            "2/2 [==============================] - 0s 8ms/step - loss: 6.9514 - mae: 6.9514\n",
            "Epoch 18/500\n",
            "2/2 [==============================] - 0s 8ms/step - loss: 6.6604 - mae: 6.6604\n",
            "Epoch 19/500\n",
            "2/2 [==============================] - 0s 8ms/step - loss: 5.8072 - mae: 5.8072\n",
            "Epoch 20/500\n",
            "2/2 [==============================] - 0s 8ms/step - loss: 5.0026 - mae: 5.0026\n",
            "Epoch 21/500\n",
            "2/2 [==============================] - 0s 7ms/step - loss: 4.9218 - mae: 4.9218\n",
            "Epoch 22/500\n",
            "2/2 [==============================] - 0s 8ms/step - loss: 4.4822 - mae: 4.4822\n",
            "Epoch 23/500\n",
            "2/2 [==============================] - 0s 8ms/step - loss: 4.0775 - mae: 4.0775\n",
            "Epoch 24/500\n",
            "2/2 [==============================] - 0s 7ms/step - loss: 4.3081 - mae: 4.3081\n",
            "Epoch 25/500\n",
            "2/2 [==============================] - 0s 7ms/step - loss: 4.5053 - mae: 4.5053\n",
            "Epoch 26/500\n",
            "2/2 [==============================] - 0s 8ms/step - loss: 4.4252 - mae: 4.4252\n",
            "Epoch 27/500\n",
            "2/2 [==============================] - 0s 8ms/step - loss: 4.2776 - mae: 4.2776\n",
            "Epoch 28/500\n",
            "2/2 [==============================] - 0s 8ms/step - loss: 4.1268 - mae: 4.1268\n",
            "Epoch 29/500\n",
            "2/2 [==============================] - 0s 7ms/step - loss: 4.0494 - mae: 4.0494\n",
            "Epoch 30/500\n",
            "2/2 [==============================] - 0s 8ms/step - loss: 4.1021 - mae: 4.1021\n",
            "Epoch 31/500\n",
            "2/2 [==============================] - 0s 8ms/step - loss: 4.1132 - mae: 4.1132\n",
            "Epoch 32/500\n",
            "2/2 [==============================] - 0s 15ms/step - loss: 4.0239 - mae: 4.0239\n",
            "Epoch 33/500\n",
            "2/2 [==============================] - 0s 10ms/step - loss: 4.0238 - mae: 4.0238\n",
            "Epoch 34/500\n",
            "2/2 [==============================] - 0s 8ms/step - loss: 4.0073 - mae: 4.0073\n",
            "Epoch 35/500\n",
            "2/2 [==============================] - 0s 8ms/step - loss: 3.9613 - mae: 3.9613\n",
            "Epoch 36/500\n",
            "2/2 [==============================] - 0s 8ms/step - loss: 3.9664 - mae: 3.9664\n",
            "Epoch 37/500\n",
            "2/2 [==============================] - 0s 8ms/step - loss: 3.9707 - mae: 3.9707\n",
            "Epoch 38/500\n",
            "2/2 [==============================] - 0s 8ms/step - loss: 3.9366 - mae: 3.9366\n",
            "Epoch 39/500\n",
            "2/2 [==============================] - 0s 9ms/step - loss: 3.9457 - mae: 3.9457\n",
            "Epoch 40/500\n",
            "2/2 [==============================] - 0s 8ms/step - loss: 3.9395 - mae: 3.9395\n",
            "Epoch 41/500\n",
            "2/2 [==============================] - 0s 8ms/step - loss: 3.9068 - mae: 3.9068\n",
            "Epoch 42/500\n",
            "2/2 [==============================] - 0s 8ms/step - loss: 3.9027 - mae: 3.9027\n",
            "Epoch 43/500\n",
            "2/2 [==============================] - 0s 8ms/step - loss: 3.8814 - mae: 3.8814\n",
            "Epoch 44/500\n",
            "2/2 [==============================] - 0s 8ms/step - loss: 3.9095 - mae: 3.9095\n",
            "Epoch 45/500\n",
            "2/2 [==============================] - 0s 8ms/step - loss: 3.8937 - mae: 3.8937\n",
            "Epoch 46/500\n",
            "2/2 [==============================] - 0s 8ms/step - loss: 3.9110 - mae: 3.9110\n",
            "Epoch 47/500\n",
            "2/2 [==============================] - 0s 8ms/step - loss: 3.9162 - mae: 3.9162\n",
            "Epoch 48/500\n",
            "2/2 [==============================] - 0s 8ms/step - loss: 3.9186 - mae: 3.9186\n",
            "Epoch 49/500\n",
            "2/2 [==============================] - 0s 8ms/step - loss: 3.8872 - mae: 3.8872\n",
            "Epoch 50/500\n",
            "2/2 [==============================] - 0s 11ms/step - loss: 3.8185 - mae: 3.8185\n",
            "Epoch 51/500\n",
            "2/2 [==============================] - 0s 8ms/step - loss: 3.8259 - mae: 3.8259\n",
            "Epoch 52/500\n",
            "2/2 [==============================] - 0s 8ms/step - loss: 3.8499 - mae: 3.8499\n",
            "Epoch 53/500\n",
            "2/2 [==============================] - 0s 8ms/step - loss: 3.7967 - mae: 3.7967\n",
            "Epoch 54/500\n",
            "2/2 [==============================] - 0s 9ms/step - loss: 3.7662 - mae: 3.7662\n",
            "Epoch 55/500\n",
            "2/2 [==============================] - 0s 8ms/step - loss: 3.7374 - mae: 3.7374\n",
            "Epoch 56/500\n",
            "2/2 [==============================] - 0s 8ms/step - loss: 3.7887 - mae: 3.7887\n",
            "Epoch 57/500\n",
            "2/2 [==============================] - 0s 7ms/step - loss: 3.9744 - mae: 3.9744\n",
            "Epoch 58/500\n",
            "2/2 [==============================] - 0s 7ms/step - loss: 3.8353 - mae: 3.8353\n",
            "Epoch 59/500\n",
            "2/2 [==============================] - 0s 7ms/step - loss: 3.7077 - mae: 3.7077\n",
            "Epoch 60/500\n",
            "2/2 [==============================] - 0s 8ms/step - loss: 3.8699 - mae: 3.8699\n",
            "Epoch 61/500\n",
            "2/2 [==============================] - 0s 8ms/step - loss: 3.9375 - mae: 3.9375\n",
            "Epoch 62/500\n",
            "2/2 [==============================] - 0s 8ms/step - loss: 3.7544 - mae: 3.7544\n",
            "Epoch 63/500\n",
            "2/2 [==============================] - 0s 8ms/step - loss: 3.7420 - mae: 3.7420\n",
            "Epoch 64/500\n",
            "2/2 [==============================] - 0s 8ms/step - loss: 3.7164 - mae: 3.7164\n",
            "Epoch 65/500\n",
            "2/2 [==============================] - 0s 8ms/step - loss: 3.7630 - mae: 3.7630\n",
            "Epoch 66/500\n",
            "2/2 [==============================] - 0s 7ms/step - loss: 3.6954 - mae: 3.6954\n",
            "Epoch 67/500\n",
            "2/2 [==============================] - 0s 8ms/step - loss: 3.6849 - mae: 3.6849\n",
            "Epoch 68/500\n",
            "2/2 [==============================] - 0s 8ms/step - loss: 3.8136 - mae: 3.8136\n",
            "Epoch 69/500\n",
            "2/2 [==============================] - 0s 14ms/step - loss: 3.6630 - mae: 3.6630\n",
            "Epoch 70/500\n",
            "2/2 [==============================] - 0s 8ms/step - loss: 3.7906 - mae: 3.7906\n",
            "Epoch 71/500\n",
            "2/2 [==============================] - 0s 8ms/step - loss: 3.7264 - mae: 3.7264\n",
            "Epoch 72/500\n",
            "2/2 [==============================] - 0s 8ms/step - loss: 3.5773 - mae: 3.5773\n",
            "Epoch 73/500\n",
            "2/2 [==============================] - 0s 8ms/step - loss: 3.6819 - mae: 3.6819\n",
            "Epoch 74/500\n",
            "2/2 [==============================] - 0s 8ms/step - loss: 3.5834 - mae: 3.5834\n",
            "Epoch 75/500\n",
            "2/2 [==============================] - 0s 9ms/step - loss: 3.5285 - mae: 3.5285\n",
            "Epoch 76/500\n",
            "2/2 [==============================] - 0s 8ms/step - loss: 3.7306 - mae: 3.7306\n",
            "Epoch 77/500\n",
            "2/2 [==============================] - 0s 8ms/step - loss: 3.7787 - mae: 3.7787\n",
            "Epoch 78/500\n",
            "2/2 [==============================] - 0s 8ms/step - loss: 3.5038 - mae: 3.5038\n",
            "Epoch 79/500\n",
            "2/2 [==============================] - 0s 8ms/step - loss: 3.4801 - mae: 3.4801\n",
            "Epoch 80/500\n",
            "2/2 [==============================] - 0s 8ms/step - loss: 3.5378 - mae: 3.5378\n",
            "Epoch 81/500\n",
            "2/2 [==============================] - 0s 8ms/step - loss: 3.4013 - mae: 3.4013\n",
            "Epoch 82/500\n",
            "2/2 [==============================] - 0s 13ms/step - loss: 3.5784 - mae: 3.5784\n",
            "Epoch 83/500\n",
            "2/2 [==============================] - 0s 9ms/step - loss: 3.6810 - mae: 3.6810\n",
            "Epoch 84/500\n",
            "2/2 [==============================] - 0s 10ms/step - loss: 3.4958 - mae: 3.4958\n",
            "Epoch 85/500\n",
            "2/2 [==============================] - 0s 8ms/step - loss: 3.3999 - mae: 3.3999\n",
            "Epoch 86/500\n",
            "2/2 [==============================] - 0s 8ms/step - loss: 3.4754 - mae: 3.4754\n",
            "Epoch 87/500\n",
            "2/2 [==============================] - 0s 8ms/step - loss: 3.2845 - mae: 3.2845\n",
            "Epoch 88/500\n",
            "2/2 [==============================] - 0s 8ms/step - loss: 3.5675 - mae: 3.5675\n",
            "Epoch 89/500\n",
            "2/2 [==============================] - 0s 9ms/step - loss: 3.6360 - mae: 3.6360\n",
            "Epoch 90/500\n",
            "2/2 [==============================] - 0s 8ms/step - loss: 3.3395 - mae: 3.3395\n",
            "Epoch 91/500\n",
            "2/2 [==============================] - 0s 8ms/step - loss: 3.2601 - mae: 3.2601\n",
            "Epoch 92/500\n",
            "2/2 [==============================] - 0s 8ms/step - loss: 3.3776 - mae: 3.3776\n",
            "Epoch 93/500\n",
            "2/2 [==============================] - 0s 8ms/step - loss: 3.3437 - mae: 3.3437\n",
            "Epoch 94/500\n",
            "2/2 [==============================] - 0s 8ms/step - loss: 3.3278 - mae: 3.3278\n",
            "Epoch 95/500\n",
            "2/2 [==============================] - 0s 8ms/step - loss: 3.3313 - mae: 3.3313\n",
            "Epoch 96/500\n",
            "2/2 [==============================] - 0s 8ms/step - loss: 3.2591 - mae: 3.2591\n",
            "Epoch 97/500\n",
            "2/2 [==============================] - 0s 9ms/step - loss: 3.4110 - mae: 3.4110\n",
            "Epoch 98/500\n",
            "2/2 [==============================] - 0s 9ms/step - loss: 3.4372 - mae: 3.4372\n",
            "Epoch 99/500\n",
            "2/2 [==============================] - 0s 8ms/step - loss: 3.1062 - mae: 3.1062\n",
            "Epoch 100/500\n",
            "2/2 [==============================] - 0s 8ms/step - loss: 3.1517 - mae: 3.1517\n",
            "Epoch 101/500\n",
            "2/2 [==============================] - 0s 8ms/step - loss: 3.1307 - mae: 3.1307\n",
            "Epoch 102/500\n",
            "2/2 [==============================] - 0s 9ms/step - loss: 3.0047 - mae: 3.0047\n",
            "Epoch 103/500\n",
            "2/2 [==============================] - 0s 9ms/step - loss: 2.9600 - mae: 2.9600\n",
            "Epoch 104/500\n",
            "2/2 [==============================] - 0s 9ms/step - loss: 2.9383 - mae: 2.9383\n",
            "Epoch 105/500\n",
            "2/2 [==============================] - 0s 9ms/step - loss: 2.9034 - mae: 2.9034\n",
            "Epoch 106/500\n",
            "2/2 [==============================] - 0s 9ms/step - loss: 2.8861 - mae: 2.8861\n",
            "Epoch 107/500\n",
            "2/2 [==============================] - 0s 8ms/step - loss: 2.8947 - mae: 2.8947\n",
            "Epoch 108/500\n",
            "2/2 [==============================] - 0s 9ms/step - loss: 2.8460 - mae: 2.8460\n",
            "Epoch 109/500\n",
            "2/2 [==============================] - 0s 10ms/step - loss: 3.2447 - mae: 3.2447\n",
            "Epoch 110/500\n",
            "2/2 [==============================] - 0s 8ms/step - loss: 2.8420 - mae: 2.8420\n",
            "Epoch 111/500\n",
            "2/2 [==============================] - 0s 9ms/step - loss: 2.8667 - mae: 2.8667\n",
            "Epoch 112/500\n",
            "2/2 [==============================] - 0s 8ms/step - loss: 3.0858 - mae: 3.0858\n",
            "Epoch 113/500\n",
            "2/2 [==============================] - 0s 8ms/step - loss: 3.0495 - mae: 3.0495\n",
            "Epoch 114/500\n",
            "2/2 [==============================] - 0s 10ms/step - loss: 3.8723 - mae: 3.8723\n",
            "Epoch 115/500\n",
            "2/2 [==============================] - 0s 8ms/step - loss: 3.0874 - mae: 3.0874\n",
            "Epoch 116/500\n",
            "2/2 [==============================] - 0s 8ms/step - loss: 3.3495 - mae: 3.3495\n",
            "Epoch 117/500\n",
            "2/2 [==============================] - 0s 9ms/step - loss: 3.3510 - mae: 3.3510\n",
            "Epoch 118/500\n",
            "2/2 [==============================] - 0s 8ms/step - loss: 2.5762 - mae: 2.5762\n",
            "Epoch 119/500\n",
            "2/2 [==============================] - 0s 17ms/step - loss: 3.0602 - mae: 3.0602\n",
            "Epoch 120/500\n",
            "2/2 [==============================] - 0s 9ms/step - loss: 3.0463 - mae: 3.0463\n",
            "Epoch 121/500\n",
            "2/2 [==============================] - 0s 8ms/step - loss: 3.8749 - mae: 3.8749\n",
            "Epoch 122/500\n",
            "2/2 [==============================] - 0s 8ms/step - loss: 2.3697 - mae: 2.3697\n",
            "Epoch 123/500\n",
            "2/2 [==============================] - 0s 9ms/step - loss: 2.7086 - mae: 2.7086\n",
            "Epoch 124/500\n",
            "2/2 [==============================] - 0s 8ms/step - loss: 2.4862 - mae: 2.4862\n",
            "Epoch 125/500\n",
            "2/2 [==============================] - 0s 11ms/step - loss: 2.2885 - mae: 2.2885\n",
            "Epoch 126/500\n",
            "2/2 [==============================] - 0s 8ms/step - loss: 2.2365 - mae: 2.2365\n",
            "Epoch 127/500\n",
            "2/2 [==============================] - 0s 9ms/step - loss: 2.1667 - mae: 2.1667\n",
            "Epoch 128/500\n",
            "2/2 [==============================] - 0s 8ms/step - loss: 2.2048 - mae: 2.2048\n",
            "Epoch 129/500\n",
            "2/2 [==============================] - 0s 8ms/step - loss: 2.1299 - mae: 2.1299\n",
            "Epoch 130/500\n",
            "2/2 [==============================] - 0s 16ms/step - loss: 1.9983 - mae: 1.9983\n",
            "Epoch 131/500\n",
            "2/2 [==============================] - 0s 15ms/step - loss: 1.8962 - mae: 1.8962\n",
            "Epoch 132/500\n",
            "2/2 [==============================] - 0s 9ms/step - loss: 1.7763 - mae: 1.7763\n",
            "Epoch 133/500\n",
            "2/2 [==============================] - 0s 8ms/step - loss: 1.7033 - mae: 1.7033\n",
            "Epoch 134/500\n",
            "2/2 [==============================] - 0s 8ms/step - loss: 1.9715 - mae: 1.9715\n",
            "Epoch 135/500\n",
            "2/2 [==============================] - 0s 8ms/step - loss: 1.6202 - mae: 1.6202\n",
            "Epoch 136/500\n",
            "2/2 [==============================] - 0s 11ms/step - loss: 1.7502 - mae: 1.7502\n",
            "Epoch 137/500\n",
            "2/2 [==============================] - 0s 9ms/step - loss: 1.4368 - mae: 1.4368\n",
            "Epoch 138/500\n",
            "2/2 [==============================] - 0s 9ms/step - loss: 1.3219 - mae: 1.3219\n",
            "Epoch 139/500\n",
            "2/2 [==============================] - 0s 11ms/step - loss: 1.8625 - mae: 1.8625\n",
            "Epoch 140/500\n",
            "2/2 [==============================] - 0s 7ms/step - loss: 2.9326 - mae: 2.9326\n",
            "Epoch 141/500\n",
            "2/2 [==============================] - 0s 8ms/step - loss: 1.9137 - mae: 1.9137\n",
            "Epoch 142/500\n",
            "2/2 [==============================] - 0s 8ms/step - loss: 2.0259 - mae: 2.0259\n",
            "Epoch 143/500\n",
            "2/2 [==============================] - 0s 13ms/step - loss: 1.5634 - mae: 1.5634\n",
            "Epoch 144/500\n",
            "2/2 [==============================] - 0s 8ms/step - loss: 1.5510 - mae: 1.5510\n",
            "Epoch 145/500\n",
            "2/2 [==============================] - 0s 8ms/step - loss: 2.4674 - mae: 2.4674\n",
            "Epoch 146/500\n",
            "2/2 [==============================] - 0s 9ms/step - loss: 1.4176 - mae: 1.4176\n",
            "Epoch 147/500\n",
            "2/2 [==============================] - 0s 8ms/step - loss: 4.4399 - mae: 4.4399\n",
            "Epoch 148/500\n",
            "2/2 [==============================] - 0s 9ms/step - loss: 3.3874 - mae: 3.3874\n",
            "Epoch 149/500\n",
            "2/2 [==============================] - 0s 8ms/step - loss: 2.6492 - mae: 2.6492\n",
            "Epoch 150/500\n",
            "2/2 [==============================] - 0s 8ms/step - loss: 3.5867 - mae: 3.5867\n",
            "Epoch 151/500\n",
            "2/2 [==============================] - 0s 10ms/step - loss: 1.3998 - mae: 1.3998\n",
            "Epoch 152/500\n",
            "2/2 [==============================] - 0s 10ms/step - loss: 2.6708 - mae: 2.6708\n",
            "Epoch 153/500\n",
            "2/2 [==============================] - 0s 8ms/step - loss: 1.4826 - mae: 1.4826\n",
            "Epoch 154/500\n",
            "2/2 [==============================] - 0s 9ms/step - loss: 3.8856 - mae: 3.8856\n",
            "Epoch 155/500\n",
            "2/2 [==============================] - 0s 8ms/step - loss: 3.1900 - mae: 3.1900\n",
            "Epoch 156/500\n",
            "2/2 [==============================] - 0s 10ms/step - loss: 1.9796 - mae: 1.9796\n",
            "Epoch 157/500\n",
            "2/2 [==============================] - 0s 8ms/step - loss: 2.8364 - mae: 2.8364\n",
            "Epoch 158/500\n",
            "2/2 [==============================] - 0s 8ms/step - loss: 1.4696 - mae: 1.4696\n",
            "Epoch 159/500\n",
            "2/2 [==============================] - 0s 8ms/step - loss: 2.7334 - mae: 2.7334\n",
            "Epoch 160/500\n",
            "2/2 [==============================] - 0s 8ms/step - loss: 1.9979 - mae: 1.9979\n",
            "Epoch 161/500\n",
            "2/2 [==============================] - 0s 7ms/step - loss: 1.8021 - mae: 1.8021\n",
            "Epoch 162/500\n",
            "2/2 [==============================] - 0s 7ms/step - loss: 1.8168 - mae: 1.8168\n",
            "Epoch 163/500\n",
            "2/2 [==============================] - 0s 8ms/step - loss: 1.4436 - mae: 1.4436\n",
            "Epoch 164/500\n",
            "2/2 [==============================] - 0s 8ms/step - loss: 1.7491 - mae: 1.7491\n",
            "Epoch 165/500\n",
            "2/2 [==============================] - 0s 8ms/step - loss: 1.3030 - mae: 1.3030\n",
            "Epoch 166/500\n",
            "2/2 [==============================] - 0s 8ms/step - loss: 1.5880 - mae: 1.5880\n",
            "Epoch 167/500\n",
            "2/2 [==============================] - 0s 8ms/step - loss: 0.9388 - mae: 0.9388\n",
            "Epoch 168/500\n",
            "2/2 [==============================] - 0s 8ms/step - loss: 1.6338 - mae: 1.6338\n",
            "Epoch 169/500\n",
            "2/2 [==============================] - 0s 8ms/step - loss: 0.9651 - mae: 0.9651\n",
            "Epoch 170/500\n",
            "2/2 [==============================] - 0s 8ms/step - loss: 1.3128 - mae: 1.3128\n",
            "Epoch 171/500\n",
            "2/2 [==============================] - 0s 8ms/step - loss: 1.2014 - mae: 1.2014\n",
            "Epoch 172/500\n",
            "2/2 [==============================] - 0s 9ms/step - loss: 1.1761 - mae: 1.1761\n",
            "Epoch 173/500\n",
            "2/2 [==============================] - 0s 9ms/step - loss: 1.5118 - mae: 1.5118\n",
            "Epoch 174/500\n",
            "2/2 [==============================] - 0s 9ms/step - loss: 0.9052 - mae: 0.9052\n",
            "Epoch 175/500\n",
            "2/2 [==============================] - 0s 9ms/step - loss: 0.6884 - mae: 0.6884\n",
            "Epoch 176/500\n",
            "2/2 [==============================] - 0s 9ms/step - loss: 1.4591 - mae: 1.4591\n",
            "Epoch 177/500\n",
            "2/2 [==============================] - 0s 8ms/step - loss: 0.9267 - mae: 0.9267\n",
            "Epoch 178/500\n",
            "2/2 [==============================] - 0s 8ms/step - loss: 1.0044 - mae: 1.0044\n",
            "Epoch 179/500\n",
            "2/2 [==============================] - 0s 11ms/step - loss: 1.2197 - mae: 1.2197\n",
            "Epoch 180/500\n",
            "2/2 [==============================] - 0s 7ms/step - loss: 0.5670 - mae: 0.5670\n",
            "Epoch 181/500\n",
            "2/2 [==============================] - 0s 8ms/step - loss: 0.7868 - mae: 0.7868\n",
            "Epoch 182/500\n",
            "2/2 [==============================] - 0s 9ms/step - loss: 0.5630 - mae: 0.5630\n",
            "Epoch 183/500\n",
            "2/2 [==============================] - 0s 13ms/step - loss: 0.5709 - mae: 0.5709\n",
            "Epoch 184/500\n",
            "2/2 [==============================] - 0s 9ms/step - loss: 1.1968 - mae: 1.1968\n",
            "Epoch 185/500\n",
            "2/2 [==============================] - 0s 9ms/step - loss: 0.7743 - mae: 0.7743\n",
            "Epoch 186/500\n",
            "2/2 [==============================] - 0s 9ms/step - loss: 1.3933 - mae: 1.3933\n",
            "Epoch 187/500\n",
            "2/2 [==============================] - 0s 8ms/step - loss: 1.6280 - mae: 1.6280\n",
            "Epoch 188/500\n",
            "2/2 [==============================] - 0s 8ms/step - loss: 0.7108 - mae: 0.7108\n",
            "Epoch 189/500\n",
            "2/2 [==============================] - 0s 9ms/step - loss: 2.2202 - mae: 2.2202\n",
            "Epoch 190/500\n",
            "2/2 [==============================] - 0s 10ms/step - loss: 1.8027 - mae: 1.8027\n",
            "Epoch 191/500\n",
            "2/2 [==============================] - 0s 8ms/step - loss: 0.9097 - mae: 0.9097\n",
            "Epoch 192/500\n",
            "2/2 [==============================] - 0s 7ms/step - loss: 1.2227 - mae: 1.2227\n",
            "Epoch 193/500\n",
            "2/2 [==============================] - 0s 9ms/step - loss: 0.9833 - mae: 0.9833\n",
            "Epoch 194/500\n",
            "2/2 [==============================] - 0s 9ms/step - loss: 1.8030 - mae: 1.8030\n",
            "Epoch 195/500\n",
            "2/2 [==============================] - 0s 8ms/step - loss: 1.0801 - mae: 1.0801\n",
            "Epoch 196/500\n",
            "2/2 [==============================] - 0s 8ms/step - loss: 0.9593 - mae: 0.9593\n",
            "Epoch 197/500\n",
            "2/2 [==============================] - 0s 9ms/step - loss: 1.6450 - mae: 1.6450\n",
            "Epoch 198/500\n",
            "2/2 [==============================] - 0s 9ms/step - loss: 0.7582 - mae: 0.7582\n",
            "Epoch 199/500\n",
            "2/2 [==============================] - 0s 9ms/step - loss: 0.8579 - mae: 0.8579\n",
            "Epoch 200/500\n",
            "2/2 [==============================] - 0s 8ms/step - loss: 0.7251 - mae: 0.7251\n",
            "Epoch 201/500\n",
            "2/2 [==============================] - 0s 8ms/step - loss: 1.0530 - mae: 1.0530\n",
            "Epoch 202/500\n",
            "2/2 [==============================] - 0s 9ms/step - loss: 1.0702 - mae: 1.0702\n",
            "Epoch 203/500\n",
            "2/2 [==============================] - 0s 10ms/step - loss: 1.3739 - mae: 1.3739\n",
            "Epoch 204/500\n",
            "2/2 [==============================] - 0s 9ms/step - loss: 0.8362 - mae: 0.8362\n",
            "Epoch 205/500\n",
            "2/2 [==============================] - 0s 9ms/step - loss: 1.2985 - mae: 1.2985\n",
            "Epoch 206/500\n",
            "2/2 [==============================] - 0s 9ms/step - loss: 1.0276 - mae: 1.0276\n",
            "Epoch 207/500\n",
            "2/2 [==============================] - 0s 18ms/step - loss: 1.2054 - mae: 1.2054\n",
            "Epoch 208/500\n",
            "2/2 [==============================] - 0s 9ms/step - loss: 0.9132 - mae: 0.9132\n",
            "Epoch 209/500\n",
            "2/2 [==============================] - 0s 11ms/step - loss: 0.7332 - mae: 0.7332\n",
            "Epoch 210/500\n",
            "2/2 [==============================] - 0s 10ms/step - loss: 0.8745 - mae: 0.8745\n",
            "Epoch 211/500\n",
            "2/2 [==============================] - 0s 9ms/step - loss: 0.6197 - mae: 0.6197\n",
            "Epoch 212/500\n",
            "2/2 [==============================] - 0s 9ms/step - loss: 0.9840 - mae: 0.9840\n",
            "Epoch 213/500\n",
            "2/2 [==============================] - 0s 9ms/step - loss: 1.0386 - mae: 1.0386\n",
            "Epoch 214/500\n",
            "2/2 [==============================] - 0s 9ms/step - loss: 1.2702 - mae: 1.2702\n",
            "Epoch 215/500\n",
            "2/2 [==============================] - 0s 10ms/step - loss: 0.4423 - mae: 0.4423\n",
            "Epoch 216/500\n",
            "2/2 [==============================] - 0s 10ms/step - loss: 0.6566 - mae: 0.6566\n",
            "Epoch 217/500\n",
            "2/2 [==============================] - 0s 8ms/step - loss: 0.4501 - mae: 0.4501\n",
            "Epoch 218/500\n",
            "2/2 [==============================] - 0s 10ms/step - loss: 0.8161 - mae: 0.8161\n",
            "Epoch 219/500\n",
            "2/2 [==============================] - 0s 9ms/step - loss: 0.3639 - mae: 0.3639\n",
            "Epoch 220/500\n",
            "2/2 [==============================] - 0s 8ms/step - loss: 0.8041 - mae: 0.8041\n",
            "Epoch 221/500\n",
            "2/2 [==============================] - 0s 9ms/step - loss: 1.0821 - mae: 1.0821\n",
            "Epoch 222/500\n",
            "2/2 [==============================] - 0s 13ms/step - loss: 0.8285 - mae: 0.8285\n",
            "Epoch 223/500\n",
            "2/2 [==============================] - 0s 9ms/step - loss: 1.6606 - mae: 1.6606\n",
            "Epoch 224/500\n",
            "2/2 [==============================] - 0s 12ms/step - loss: 0.7887 - mae: 0.7887\n",
            "Epoch 225/500\n",
            "2/2 [==============================] - 0s 10ms/step - loss: 0.6781 - mae: 0.6781\n",
            "Epoch 226/500\n",
            "2/2 [==============================] - 0s 8ms/step - loss: 0.4930 - mae: 0.4930\n",
            "Epoch 227/500\n",
            "2/2 [==============================] - 0s 9ms/step - loss: 0.7885 - mae: 0.7885\n",
            "Epoch 228/500\n",
            "2/2 [==============================] - 0s 9ms/step - loss: 0.3353 - mae: 0.3353\n",
            "Epoch 229/500\n",
            "2/2 [==============================] - 0s 10ms/step - loss: 0.4298 - mae: 0.4298\n",
            "Epoch 230/500\n",
            "2/2 [==============================] - 0s 9ms/step - loss: 0.3643 - mae: 0.3643\n",
            "Epoch 231/500\n",
            "2/2 [==============================] - 0s 7ms/step - loss: 0.5071 - mae: 0.5071\n",
            "Epoch 232/500\n",
            "2/2 [==============================] - 0s 9ms/step - loss: 0.2863 - mae: 0.2863\n",
            "Epoch 233/500\n",
            "2/2 [==============================] - 0s 9ms/step - loss: 0.5148 - mae: 0.5148\n",
            "Epoch 234/500\n",
            "2/2 [==============================] - 0s 8ms/step - loss: 0.3723 - mae: 0.3723\n",
            "Epoch 235/500\n",
            "2/2 [==============================] - 0s 8ms/step - loss: 0.6077 - mae: 0.6077\n",
            "Epoch 236/500\n",
            "2/2 [==============================] - 0s 8ms/step - loss: 1.1657 - mae: 1.1657\n",
            "Epoch 237/500\n",
            "2/2 [==============================] - 0s 11ms/step - loss: 0.7456 - mae: 0.7456\n",
            "Epoch 238/500\n",
            "2/2 [==============================] - 0s 8ms/step - loss: 1.6848 - mae: 1.6848\n",
            "Epoch 239/500\n",
            "2/2 [==============================] - 0s 10ms/step - loss: 1.0042 - mae: 1.0042\n",
            "Epoch 240/500\n",
            "2/2 [==============================] - 0s 13ms/step - loss: 1.4718 - mae: 1.4718\n",
            "Epoch 241/500\n",
            "2/2 [==============================] - 0s 9ms/step - loss: 0.6972 - mae: 0.6972\n",
            "Epoch 242/500\n",
            "2/2 [==============================] - 0s 8ms/step - loss: 1.2400 - mae: 1.2400\n",
            "Epoch 243/500\n",
            "2/2 [==============================] - 0s 9ms/step - loss: 0.3469 - mae: 0.3469\n",
            "Epoch 244/500\n",
            "2/2 [==============================] - 0s 9ms/step - loss: 1.1628 - mae: 1.1628\n",
            "Epoch 245/500\n",
            "2/2 [==============================] - 0s 9ms/step - loss: 0.5788 - mae: 0.5788\n",
            "Epoch 246/500\n",
            "2/2 [==============================] - 0s 9ms/step - loss: 1.4789 - mae: 1.4789\n",
            "Epoch 247/500\n",
            "2/2 [==============================] - 0s 18ms/step - loss: 0.6506 - mae: 0.6506\n",
            "Epoch 248/500\n",
            "2/2 [==============================] - 0s 13ms/step - loss: 1.8628 - mae: 1.8628\n",
            "Epoch 249/500\n",
            "2/2 [==============================] - 0s 15ms/step - loss: 1.4443 - mae: 1.4443\n",
            "Epoch 250/500\n",
            "2/2 [==============================] - 0s 9ms/step - loss: 0.9211 - mae: 0.9211\n",
            "Epoch 251/500\n",
            "2/2 [==============================] - 0s 8ms/step - loss: 1.3143 - mae: 1.3143\n",
            "Epoch 252/500\n",
            "2/2 [==============================] - 0s 9ms/step - loss: 1.0193 - mae: 1.0193\n",
            "Epoch 253/500\n",
            "2/2 [==============================] - 0s 9ms/step - loss: 1.7576 - mae: 1.7576\n",
            "Epoch 254/500\n",
            "2/2 [==============================] - 0s 8ms/step - loss: 0.6876 - mae: 0.6876\n",
            "Epoch 255/500\n",
            "2/2 [==============================] - 0s 9ms/step - loss: 1.0498 - mae: 1.0498\n",
            "Epoch 256/500\n",
            "2/2 [==============================] - 0s 8ms/step - loss: 0.9140 - mae: 0.9140\n",
            "Epoch 257/500\n",
            "2/2 [==============================] - 0s 9ms/step - loss: 1.5229 - mae: 1.5229\n",
            "Epoch 258/500\n",
            "2/2 [==============================] - 0s 9ms/step - loss: 1.4863 - mae: 1.4863\n",
            "Epoch 259/500\n",
            "2/2 [==============================] - 0s 9ms/step - loss: 1.3361 - mae: 1.3361\n",
            "Epoch 260/500\n",
            "2/2 [==============================] - 0s 9ms/step - loss: 0.5802 - mae: 0.5802\n",
            "Epoch 261/500\n",
            "2/2 [==============================] - 0s 9ms/step - loss: 1.6153 - mae: 1.6153\n",
            "Epoch 262/500\n",
            "2/2 [==============================] - 0s 10ms/step - loss: 1.9713 - mae: 1.9713\n",
            "Epoch 263/500\n",
            "2/2 [==============================] - 0s 10ms/step - loss: 0.9644 - mae: 0.9644\n",
            "Epoch 264/500\n",
            "2/2 [==============================] - 0s 9ms/step - loss: 0.8222 - mae: 0.8222\n",
            "Epoch 265/500\n",
            "2/2 [==============================] - 0s 8ms/step - loss: 1.5239 - mae: 1.5239\n",
            "Epoch 266/500\n",
            "2/2 [==============================] - 0s 8ms/step - loss: 0.7307 - mae: 0.7307\n",
            "Epoch 267/500\n",
            "2/2 [==============================] - 0s 8ms/step - loss: 0.5361 - mae: 0.5361\n",
            "Epoch 268/500\n",
            "2/2 [==============================] - 0s 9ms/step - loss: 0.8251 - mae: 0.8251\n",
            "Epoch 269/500\n",
            "2/2 [==============================] - 0s 14ms/step - loss: 0.3942 - mae: 0.3942\n",
            "Epoch 270/500\n",
            "2/2 [==============================] - 0s 9ms/step - loss: 0.6811 - mae: 0.6811\n",
            "Epoch 271/500\n",
            "2/2 [==============================] - 0s 8ms/step - loss: 0.6622 - mae: 0.6622\n",
            "Epoch 272/500\n",
            "2/2 [==============================] - 0s 9ms/step - loss: 0.4338 - mae: 0.4338\n",
            "Epoch 273/500\n",
            "2/2 [==============================] - 0s 9ms/step - loss: 0.7207 - mae: 0.7207\n",
            "Epoch 274/500\n",
            "2/2 [==============================] - 0s 10ms/step - loss: 0.4297 - mae: 0.4297\n",
            "Epoch 275/500\n",
            "2/2 [==============================] - 0s 9ms/step - loss: 0.4454 - mae: 0.4454\n",
            "Epoch 276/500\n",
            "2/2 [==============================] - 0s 10ms/step - loss: 1.0310 - mae: 1.0310\n",
            "Epoch 277/500\n",
            "2/2 [==============================] - 0s 9ms/step - loss: 0.3285 - mae: 0.3285\n",
            "Epoch 278/500\n",
            "2/2 [==============================] - 0s 9ms/step - loss: 1.2315 - mae: 1.2315\n",
            "Epoch 279/500\n",
            "2/2 [==============================] - 0s 9ms/step - loss: 0.4994 - mae: 0.4994\n",
            "Epoch 280/500\n",
            "2/2 [==============================] - 0s 9ms/step - loss: 0.9631 - mae: 0.9631\n",
            "Epoch 281/500\n",
            "2/2 [==============================] - 0s 10ms/step - loss: 0.4563 - mae: 0.4563\n",
            "Epoch 282/500\n",
            "2/2 [==============================] - 0s 10ms/step - loss: 1.1701 - mae: 1.1701\n",
            "Epoch 283/500\n",
            "2/2 [==============================] - 0s 11ms/step - loss: 0.5602 - mae: 0.5602\n",
            "Epoch 284/500\n",
            "2/2 [==============================] - 0s 10ms/step - loss: 0.7428 - mae: 0.7428\n",
            "Epoch 285/500\n",
            "2/2 [==============================] - 0s 10ms/step - loss: 0.5503 - mae: 0.5503\n",
            "Epoch 286/500\n",
            "2/2 [==============================] - 0s 10ms/step - loss: 0.8138 - mae: 0.8138\n",
            "Epoch 287/500\n",
            "2/2 [==============================] - 0s 9ms/step - loss: 0.5949 - mae: 0.5949\n",
            "Epoch 288/500\n",
            "2/2 [==============================] - 0s 9ms/step - loss: 0.5358 - mae: 0.5358\n",
            "Epoch 289/500\n",
            "2/2 [==============================] - 0s 9ms/step - loss: 0.6996 - mae: 0.6996\n",
            "Epoch 290/500\n",
            "2/2 [==============================] - 0s 13ms/step - loss: 0.4832 - mae: 0.4832\n",
            "Epoch 291/500\n",
            "2/2 [==============================] - 0s 8ms/step - loss: 0.7437 - mae: 0.7437\n",
            "Epoch 292/500\n",
            "2/2 [==============================] - 0s 9ms/step - loss: 0.5705 - mae: 0.5705\n",
            "Epoch 293/500\n",
            "2/2 [==============================] - 0s 8ms/step - loss: 0.4913 - mae: 0.4913\n",
            "Epoch 294/500\n",
            "2/2 [==============================] - 0s 8ms/step - loss: 0.8721 - mae: 0.8721\n",
            "Epoch 295/500\n",
            "2/2 [==============================] - 0s 9ms/step - loss: 0.8532 - mae: 0.8532\n",
            "Epoch 296/500\n",
            "2/2 [==============================] - 0s 11ms/step - loss: 1.2053 - mae: 1.2053\n",
            "Epoch 297/500\n",
            "2/2 [==============================] - 0s 10ms/step - loss: 1.0686 - mae: 1.0686\n",
            "Epoch 298/500\n",
            "2/2 [==============================] - 0s 11ms/step - loss: 1.0909 - mae: 1.0909\n",
            "Epoch 299/500\n",
            "2/2 [==============================] - 0s 13ms/step - loss: 1.2776 - mae: 1.2776\n",
            "Epoch 300/500\n",
            "2/2 [==============================] - 0s 13ms/step - loss: 0.7919 - mae: 0.7919\n",
            "Epoch 301/500\n",
            "2/2 [==============================] - 0s 11ms/step - loss: 1.1263 - mae: 1.1263\n",
            "Epoch 302/500\n",
            "2/2 [==============================] - 0s 10ms/step - loss: 0.7133 - mae: 0.7133\n",
            "Epoch 303/500\n",
            "2/2 [==============================] - 0s 10ms/step - loss: 1.1127 - mae: 1.1127\n",
            "Epoch 304/500\n",
            "2/2 [==============================] - 0s 11ms/step - loss: 0.6579 - mae: 0.6579\n",
            "Epoch 305/500\n",
            "2/2 [==============================] - 0s 8ms/step - loss: 0.9023 - mae: 0.9023\n",
            "Epoch 306/500\n",
            "2/2 [==============================] - 0s 9ms/step - loss: 0.6221 - mae: 0.6221\n",
            "Epoch 307/500\n",
            "2/2 [==============================] - 0s 11ms/step - loss: 0.8469 - mae: 0.8469\n",
            "Epoch 308/500\n",
            "2/2 [==============================] - 0s 11ms/step - loss: 0.7829 - mae: 0.7829\n",
            "Epoch 309/500\n",
            "2/2 [==============================] - 0s 12ms/step - loss: 0.8889 - mae: 0.8889\n",
            "Epoch 310/500\n",
            "2/2 [==============================] - 0s 12ms/step - loss: 0.7061 - mae: 0.7061\n",
            "Epoch 311/500\n",
            "2/2 [==============================] - 0s 9ms/step - loss: 0.6789 - mae: 0.6789\n",
            "Epoch 312/500\n",
            "2/2 [==============================] - 0s 10ms/step - loss: 0.5005 - mae: 0.5005\n",
            "Epoch 313/500\n",
            "2/2 [==============================] - 0s 12ms/step - loss: 0.5664 - mae: 0.5664\n",
            "Epoch 314/500\n",
            "2/2 [==============================] - 0s 9ms/step - loss: 0.9494 - mae: 0.9494\n",
            "Epoch 315/500\n",
            "2/2 [==============================] - 0s 7ms/step - loss: 0.5785 - mae: 0.5785\n",
            "Epoch 316/500\n",
            "2/2 [==============================] - 0s 10ms/step - loss: 0.7011 - mae: 0.7011\n",
            "Epoch 317/500\n",
            "2/2 [==============================] - 0s 10ms/step - loss: 0.8496 - mae: 0.8496\n",
            "Epoch 318/500\n",
            "2/2 [==============================] - 0s 12ms/step - loss: 0.9581 - mae: 0.9581\n",
            "Epoch 319/500\n",
            "2/2 [==============================] - 0s 9ms/step - loss: 0.8925 - mae: 0.8925\n",
            "Epoch 320/500\n",
            "2/2 [==============================] - 0s 11ms/step - loss: 1.0384 - mae: 1.0384\n",
            "Epoch 321/500\n",
            "2/2 [==============================] - 0s 9ms/step - loss: 0.5588 - mae: 0.5588\n",
            "Epoch 322/500\n",
            "2/2 [==============================] - 0s 11ms/step - loss: 0.8762 - mae: 0.8762\n",
            "Epoch 323/500\n",
            "2/2 [==============================] - 0s 9ms/step - loss: 0.4779 - mae: 0.4779\n",
            "Epoch 324/500\n",
            "2/2 [==============================] - 0s 8ms/step - loss: 0.5835 - mae: 0.5835\n",
            "Epoch 325/500\n",
            "2/2 [==============================] - 0s 11ms/step - loss: 0.6918 - mae: 0.6918\n",
            "Epoch 326/500\n",
            "2/2 [==============================] - 0s 9ms/step - loss: 0.5466 - mae: 0.5466\n",
            "Epoch 327/500\n",
            "2/2 [==============================] - 0s 10ms/step - loss: 0.6952 - mae: 0.6952\n",
            "Epoch 328/500\n",
            "2/2 [==============================] - 0s 11ms/step - loss: 1.0182 - mae: 1.0182\n",
            "Epoch 329/500\n",
            "2/2 [==============================] - 0s 8ms/step - loss: 0.4321 - mae: 0.4321\n",
            "Epoch 330/500\n",
            "2/2 [==============================] - 0s 15ms/step - loss: 1.0871 - mae: 1.0871\n",
            "Epoch 331/500\n",
            "2/2 [==============================] - 0s 8ms/step - loss: 0.9143 - mae: 0.9143\n",
            "Epoch 332/500\n",
            "2/2 [==============================] - 0s 10ms/step - loss: 1.2922 - mae: 1.2922\n",
            "Epoch 333/500\n",
            "2/2 [==============================] - 0s 9ms/step - loss: 0.3888 - mae: 0.3888\n",
            "Epoch 334/500\n",
            "2/2 [==============================] - 0s 9ms/step - loss: 1.2349 - mae: 1.2349\n",
            "Epoch 335/500\n",
            "2/2 [==============================] - 0s 10ms/step - loss: 0.8546 - mae: 0.8546\n",
            "Epoch 336/500\n",
            "2/2 [==============================] - 0s 10ms/step - loss: 0.3799 - mae: 0.3799\n",
            "Epoch 337/500\n",
            "2/2 [==============================] - 0s 10ms/step - loss: 0.4432 - mae: 0.4432\n",
            "Epoch 338/500\n",
            "2/2 [==============================] - 0s 8ms/step - loss: 0.8120 - mae: 0.8120\n",
            "Epoch 339/500\n",
            "2/2 [==============================] - 0s 9ms/step - loss: 0.6850 - mae: 0.6850\n",
            "Epoch 340/500\n",
            "2/2 [==============================] - 0s 9ms/step - loss: 0.4186 - mae: 0.4186\n",
            "Epoch 341/500\n",
            "2/2 [==============================] - 0s 8ms/step - loss: 0.6169 - mae: 0.6169\n",
            "Epoch 342/500\n",
            "2/2 [==============================] - 0s 8ms/step - loss: 0.9210 - mae: 0.9210\n",
            "Epoch 343/500\n",
            "2/2 [==============================] - 0s 8ms/step - loss: 0.5076 - mae: 0.5076\n",
            "Epoch 344/500\n",
            "2/2 [==============================] - 0s 8ms/step - loss: 1.8970 - mae: 1.8970\n",
            "Epoch 345/500\n",
            "2/2 [==============================] - 0s 8ms/step - loss: 0.8781 - mae: 0.8781\n",
            "Epoch 346/500\n",
            "2/2 [==============================] - 0s 8ms/step - loss: 1.4136 - mae: 1.4136\n",
            "Epoch 347/500\n",
            "2/2 [==============================] - 0s 7ms/step - loss: 1.1537 - mae: 1.1537\n",
            "Epoch 348/500\n",
            "2/2 [==============================] - 0s 9ms/step - loss: 0.8724 - mae: 0.8724\n",
            "Epoch 349/500\n",
            "2/2 [==============================] - 0s 8ms/step - loss: 0.7953 - mae: 0.7953\n",
            "Epoch 350/500\n",
            "2/2 [==============================] - 0s 8ms/step - loss: 0.6485 - mae: 0.6485\n",
            "Epoch 351/500\n",
            "2/2 [==============================] - 0s 9ms/step - loss: 0.4027 - mae: 0.4027\n",
            "Epoch 352/500\n",
            "2/2 [==============================] - 0s 8ms/step - loss: 0.5978 - mae: 0.5978\n",
            "Epoch 353/500\n",
            "2/2 [==============================] - 0s 10ms/step - loss: 0.4629 - mae: 0.4629\n",
            "Epoch 354/500\n",
            "2/2 [==============================] - 0s 9ms/step - loss: 0.4194 - mae: 0.4194\n",
            "Epoch 355/500\n",
            "2/2 [==============================] - 0s 10ms/step - loss: 0.6806 - mae: 0.6806\n",
            "Epoch 356/500\n",
            "2/2 [==============================] - 0s 12ms/step - loss: 0.8052 - mae: 0.8052\n",
            "Epoch 357/500\n",
            "2/2 [==============================] - 0s 7ms/step - loss: 1.0154 - mae: 1.0154\n",
            "Epoch 358/500\n",
            "2/2 [==============================] - 0s 8ms/step - loss: 0.9125 - mae: 0.9125\n",
            "Epoch 359/500\n",
            "2/2 [==============================] - 0s 8ms/step - loss: 1.3030 - mae: 1.3030\n",
            "Epoch 360/500\n",
            "2/2 [==============================] - 0s 7ms/step - loss: 0.3441 - mae: 0.3441\n",
            "Epoch 361/500\n",
            "2/2 [==============================] - 0s 8ms/step - loss: 2.1031 - mae: 2.1031\n",
            "Epoch 362/500\n",
            "2/2 [==============================] - 0s 15ms/step - loss: 1.3368 - mae: 1.3368\n",
            "Epoch 363/500\n",
            "2/2 [==============================] - 0s 9ms/step - loss: 1.2980 - mae: 1.2980\n",
            "Epoch 364/500\n",
            "2/2 [==============================] - 0s 8ms/step - loss: 1.6630 - mae: 1.6630\n",
            "Epoch 365/500\n",
            "2/2 [==============================] - 0s 10ms/step - loss: 0.5586 - mae: 0.5586\n",
            "Epoch 366/500\n",
            "2/2 [==============================] - 0s 7ms/step - loss: 1.8020 - mae: 1.8020\n",
            "Epoch 367/500\n",
            "2/2 [==============================] - 0s 10ms/step - loss: 1.6938 - mae: 1.6938\n",
            "Epoch 368/500\n",
            "2/2 [==============================] - 0s 8ms/step - loss: 0.5498 - mae: 0.5498\n",
            "Epoch 369/500\n",
            "2/2 [==============================] - 0s 13ms/step - loss: 1.5940 - mae: 1.5940\n",
            "Epoch 370/500\n",
            "2/2 [==============================] - 0s 7ms/step - loss: 1.2768 - mae: 1.2768\n",
            "Epoch 371/500\n",
            "2/2 [==============================] - 0s 13ms/step - loss: 0.6554 - mae: 0.6554\n",
            "Epoch 372/500\n",
            "2/2 [==============================] - 0s 10ms/step - loss: 1.4168 - mae: 1.4168\n",
            "Epoch 373/500\n",
            "2/2 [==============================] - 0s 9ms/step - loss: 1.2082 - mae: 1.2082\n",
            "Epoch 374/500\n",
            "2/2 [==============================] - 0s 11ms/step - loss: 0.6461 - mae: 0.6461\n",
            "Epoch 375/500\n",
            "2/2 [==============================] - 0s 9ms/step - loss: 1.2169 - mae: 1.2169\n",
            "Epoch 376/500\n",
            "2/2 [==============================] - 0s 13ms/step - loss: 0.8011 - mae: 0.8011\n",
            "Epoch 377/500\n",
            "2/2 [==============================] - 0s 9ms/step - loss: 0.9690 - mae: 0.9690\n",
            "Epoch 378/500\n",
            "2/2 [==============================] - 0s 9ms/step - loss: 0.9942 - mae: 0.9942\n",
            "Epoch 379/500\n",
            "2/2 [==============================] - 0s 9ms/step - loss: 0.4161 - mae: 0.4161\n",
            "Epoch 380/500\n",
            "2/2 [==============================] - 0s 9ms/step - loss: 0.7707 - mae: 0.7707\n",
            "Epoch 381/500\n",
            "2/2 [==============================] - 0s 8ms/step - loss: 0.4080 - mae: 0.4080\n",
            "Epoch 382/500\n",
            "2/2 [==============================] - 0s 8ms/step - loss: 0.5168 - mae: 0.5168\n",
            "Epoch 383/500\n",
            "2/2 [==============================] - 0s 11ms/step - loss: 0.3156 - mae: 0.3156\n",
            "Epoch 384/500\n",
            "2/2 [==============================] - 0s 8ms/step - loss: 0.3475 - mae: 0.3475\n",
            "Epoch 385/500\n",
            "2/2 [==============================] - 0s 9ms/step - loss: 0.5886 - mae: 0.5886\n",
            "Epoch 386/500\n",
            "2/2 [==============================] - 0s 16ms/step - loss: 0.2619 - mae: 0.2619\n",
            "Epoch 387/500\n",
            "2/2 [==============================] - 0s 11ms/step - loss: 0.3072 - mae: 0.3072\n",
            "Epoch 388/500\n",
            "2/2 [==============================] - 0s 11ms/step - loss: 0.6637 - mae: 0.6637\n",
            "Epoch 389/500\n",
            "2/2 [==============================] - 0s 11ms/step - loss: 0.3581 - mae: 0.3581\n",
            "Epoch 390/500\n",
            "2/2 [==============================] - 0s 10ms/step - loss: 0.3862 - mae: 0.3862\n",
            "Epoch 391/500\n",
            "2/2 [==============================] - 0s 9ms/step - loss: 0.4202 - mae: 0.4202\n",
            "Epoch 392/500\n",
            "2/2 [==============================] - 0s 9ms/step - loss: 0.1883 - mae: 0.1883\n",
            "Epoch 393/500\n",
            "2/2 [==============================] - 0s 10ms/step - loss: 0.3907 - mae: 0.3907\n",
            "Epoch 394/500\n",
            "2/2 [==============================] - 0s 9ms/step - loss: 0.6734 - mae: 0.6734\n",
            "Epoch 395/500\n",
            "2/2 [==============================] - 0s 9ms/step - loss: 0.9279 - mae: 0.9279\n",
            "Epoch 396/500\n",
            "2/2 [==============================] - 0s 9ms/step - loss: 0.9116 - mae: 0.9116\n",
            "Epoch 397/500\n",
            "2/2 [==============================] - 0s 9ms/step - loss: 0.6869 - mae: 0.6869\n",
            "Epoch 398/500\n",
            "2/2 [==============================] - 0s 10ms/step - loss: 0.5038 - mae: 0.5038\n",
            "Epoch 399/500\n",
            "2/2 [==============================] - 0s 8ms/step - loss: 0.9209 - mae: 0.9209\n",
            "Epoch 400/500\n",
            "2/2 [==============================] - 0s 9ms/step - loss: 0.6085 - mae: 0.6085\n",
            "Epoch 401/500\n",
            "2/2 [==============================] - 0s 8ms/step - loss: 0.7684 - mae: 0.7684\n",
            "Epoch 402/500\n",
            "2/2 [==============================] - 0s 8ms/step - loss: 0.6832 - mae: 0.6832\n",
            "Epoch 403/500\n",
            "2/2 [==============================] - 0s 8ms/step - loss: 0.5270 - mae: 0.5270\n",
            "Epoch 404/500\n",
            "2/2 [==============================] - 0s 10ms/step - loss: 0.6727 - mae: 0.6727\n",
            "Epoch 405/500\n",
            "2/2 [==============================] - 0s 9ms/step - loss: 0.3270 - mae: 0.3270\n",
            "Epoch 406/500\n",
            "2/2 [==============================] - 0s 10ms/step - loss: 0.9023 - mae: 0.9023\n",
            "Epoch 407/500\n",
            "2/2 [==============================] - 0s 11ms/step - loss: 0.5626 - mae: 0.5626\n",
            "Epoch 408/500\n",
            "2/2 [==============================] - 0s 12ms/step - loss: 0.3757 - mae: 0.3757\n",
            "Epoch 409/500\n",
            "2/2 [==============================] - 0s 10ms/step - loss: 0.2806 - mae: 0.2806\n",
            "Epoch 410/500\n",
            "2/2 [==============================] - 0s 9ms/step - loss: 0.3347 - mae: 0.3347\n",
            "Epoch 411/500\n",
            "2/2 [==============================] - 0s 10ms/step - loss: 0.2159 - mae: 0.2159\n",
            "Epoch 412/500\n",
            "2/2 [==============================] - 0s 12ms/step - loss: 0.2852 - mae: 0.2852\n",
            "Epoch 413/500\n",
            "2/2 [==============================] - 0s 9ms/step - loss: 0.2306 - mae: 0.2306\n",
            "Epoch 414/500\n",
            "2/2 [==============================] - 0s 8ms/step - loss: 0.2435 - mae: 0.2435\n",
            "Epoch 415/500\n",
            "2/2 [==============================] - 0s 9ms/step - loss: 0.1520 - mae: 0.1520\n",
            "Epoch 416/500\n",
            "2/2 [==============================] - 0s 8ms/step - loss: 0.1549 - mae: 0.1549\n",
            "Epoch 417/500\n",
            "2/2 [==============================] - 0s 8ms/step - loss: 0.2003 - mae: 0.2003\n",
            "Epoch 418/500\n",
            "2/2 [==============================] - 0s 8ms/step - loss: 0.3935 - mae: 0.3935\n",
            "Epoch 419/500\n",
            "2/2 [==============================] - 0s 8ms/step - loss: 0.4635 - mae: 0.4635\n",
            "Epoch 420/500\n",
            "2/2 [==============================] - 0s 8ms/step - loss: 0.2529 - mae: 0.2529\n",
            "Epoch 421/500\n",
            "2/2 [==============================] - 0s 8ms/step - loss: 0.2320 - mae: 0.2320\n",
            "Epoch 422/500\n",
            "2/2 [==============================] - 0s 9ms/step - loss: 0.1817 - mae: 0.1817\n",
            "Epoch 423/500\n",
            "2/2 [==============================] - 0s 8ms/step - loss: 0.7423 - mae: 0.7423\n",
            "Epoch 424/500\n",
            "2/2 [==============================] - 0s 8ms/step - loss: 0.4877 - mae: 0.4877\n",
            "Epoch 425/500\n",
            "2/2 [==============================] - 0s 9ms/step - loss: 0.5177 - mae: 0.5177\n",
            "Epoch 426/500\n",
            "2/2 [==============================] - 0s 9ms/step - loss: 0.2673 - mae: 0.2673\n",
            "Epoch 427/500\n",
            "2/2 [==============================] - 0s 8ms/step - loss: 0.4831 - mae: 0.4831\n",
            "Epoch 428/500\n",
            "2/2 [==============================] - 0s 8ms/step - loss: 0.7144 - mae: 0.7144\n",
            "Epoch 429/500\n",
            "2/2 [==============================] - 0s 8ms/step - loss: 1.1030 - mae: 1.1030\n",
            "Epoch 430/500\n",
            "2/2 [==============================] - 0s 8ms/step - loss: 1.2078 - mae: 1.2078\n",
            "Epoch 431/500\n",
            "2/2 [==============================] - 0s 9ms/step - loss: 1.5948 - mae: 1.5948\n",
            "Epoch 432/500\n",
            "2/2 [==============================] - 0s 8ms/step - loss: 1.7661 - mae: 1.7661\n",
            "Epoch 433/500\n",
            "2/2 [==============================] - 0s 8ms/step - loss: 0.6593 - mae: 0.6593\n",
            "Epoch 434/500\n",
            "2/2 [==============================] - 0s 9ms/step - loss: 0.7161 - mae: 0.7161\n",
            "Epoch 435/500\n",
            "2/2 [==============================] - 0s 8ms/step - loss: 0.5151 - mae: 0.5151\n",
            "Epoch 436/500\n",
            "2/2 [==============================] - 0s 9ms/step - loss: 0.4847 - mae: 0.4847\n",
            "Epoch 437/500\n",
            "2/2 [==============================] - 0s 8ms/step - loss: 0.7692 - mae: 0.7692\n",
            "Epoch 438/500\n",
            "2/2 [==============================] - 0s 8ms/step - loss: 0.5080 - mae: 0.5080\n",
            "Epoch 439/500\n",
            "2/2 [==============================] - 0s 8ms/step - loss: 0.3110 - mae: 0.3110\n",
            "Epoch 440/500\n",
            "2/2 [==============================] - 0s 10ms/step - loss: 0.2231 - mae: 0.2231\n",
            "Epoch 441/500\n",
            "2/2 [==============================] - 0s 8ms/step - loss: 0.6470 - mae: 0.6470\n",
            "Epoch 442/500\n",
            "2/2 [==============================] - 0s 9ms/step - loss: 0.2591 - mae: 0.2591\n",
            "Epoch 443/500\n",
            "2/2 [==============================] - 0s 8ms/step - loss: 0.9141 - mae: 0.9141\n",
            "Epoch 444/500\n",
            "2/2 [==============================] - 0s 9ms/step - loss: 0.1999 - mae: 0.1999\n",
            "Epoch 445/500\n",
            "2/2 [==============================] - 0s 8ms/step - loss: 1.1182 - mae: 1.1182\n",
            "Epoch 446/500\n",
            "2/2 [==============================] - 0s 9ms/step - loss: 0.4778 - mae: 0.4778\n",
            "Epoch 447/500\n",
            "2/2 [==============================] - 0s 8ms/step - loss: 1.2168 - mae: 1.2168\n",
            "Epoch 448/500\n",
            "2/2 [==============================] - 0s 9ms/step - loss: 1.0143 - mae: 1.0143\n",
            "Epoch 449/500\n",
            "2/2 [==============================] - 0s 8ms/step - loss: 0.3834 - mae: 0.3834\n",
            "Epoch 450/500\n",
            "2/2 [==============================] - 0s 8ms/step - loss: 0.8776 - mae: 0.8776\n",
            "Epoch 451/500\n",
            "2/2 [==============================] - 0s 9ms/step - loss: 0.4579 - mae: 0.4579\n",
            "Epoch 452/500\n",
            "2/2 [==============================] - 0s 8ms/step - loss: 0.3873 - mae: 0.3873\n",
            "Epoch 453/500\n",
            "2/2 [==============================] - 0s 9ms/step - loss: 0.9440 - mae: 0.9440\n",
            "Epoch 454/500\n",
            "2/2 [==============================] - 0s 9ms/step - loss: 0.8122 - mae: 0.8122\n",
            "Epoch 455/500\n",
            "2/2 [==============================] - 0s 10ms/step - loss: 0.7091 - mae: 0.7091\n",
            "Epoch 456/500\n",
            "2/2 [==============================] - 0s 8ms/step - loss: 1.2583 - mae: 1.2583\n",
            "Epoch 457/500\n",
            "2/2 [==============================] - 0s 8ms/step - loss: 0.5302 - mae: 0.5302\n",
            "Epoch 458/500\n",
            "2/2 [==============================] - 0s 8ms/step - loss: 1.1080 - mae: 1.1080\n",
            "Epoch 459/500\n",
            "2/2 [==============================] - 0s 9ms/step - loss: 0.7260 - mae: 0.7260\n",
            "Epoch 460/500\n",
            "2/2 [==============================] - 0s 7ms/step - loss: 0.6508 - mae: 0.6508\n",
            "Epoch 461/500\n",
            "2/2 [==============================] - 0s 8ms/step - loss: 0.5572 - mae: 0.5572\n",
            "Epoch 462/500\n",
            "2/2 [==============================] - 0s 8ms/step - loss: 0.4738 - mae: 0.4738\n",
            "Epoch 463/500\n",
            "2/2 [==============================] - 0s 8ms/step - loss: 0.2897 - mae: 0.2897\n",
            "Epoch 464/500\n",
            "2/2 [==============================] - 0s 9ms/step - loss: 0.7079 - mae: 0.7079\n",
            "Epoch 465/500\n",
            "2/2 [==============================] - 0s 8ms/step - loss: 0.4342 - mae: 0.4342\n",
            "Epoch 466/500\n",
            "2/2 [==============================] - 0s 8ms/step - loss: 0.8096 - mae: 0.8096\n",
            "Epoch 467/500\n",
            "2/2 [==============================] - 0s 8ms/step - loss: 0.4016 - mae: 0.4016\n",
            "Epoch 468/500\n",
            "2/2 [==============================] - 0s 8ms/step - loss: 0.5638 - mae: 0.5638\n",
            "Epoch 469/500\n",
            "2/2 [==============================] - 0s 9ms/step - loss: 0.6423 - mae: 0.6423\n",
            "Epoch 470/500\n",
            "2/2 [==============================] - 0s 8ms/step - loss: 0.4797 - mae: 0.4797\n",
            "Epoch 471/500\n",
            "2/2 [==============================] - 0s 8ms/step - loss: 0.7204 - mae: 0.7204\n",
            "Epoch 472/500\n",
            "2/2 [==============================] - 0s 8ms/step - loss: 0.5640 - mae: 0.5640\n",
            "Epoch 473/500\n",
            "2/2 [==============================] - 0s 7ms/step - loss: 0.5268 - mae: 0.5268\n",
            "Epoch 474/500\n",
            "2/2 [==============================] - 0s 8ms/step - loss: 0.7293 - mae: 0.7293\n",
            "Epoch 475/500\n",
            "2/2 [==============================] - 0s 9ms/step - loss: 0.5968 - mae: 0.5968\n",
            "Epoch 476/500\n",
            "2/2 [==============================] - 0s 8ms/step - loss: 0.6243 - mae: 0.6243\n",
            "Epoch 477/500\n",
            "2/2 [==============================] - 0s 10ms/step - loss: 0.4119 - mae: 0.4119\n",
            "Epoch 478/500\n",
            "2/2 [==============================] - 0s 8ms/step - loss: 0.5743 - mae: 0.5743\n",
            "Epoch 479/500\n",
            "2/2 [==============================] - 0s 10ms/step - loss: 0.2920 - mae: 0.2920\n",
            "Epoch 480/500\n",
            "2/2 [==============================] - 0s 9ms/step - loss: 0.2969 - mae: 0.2969\n",
            "Epoch 481/500\n",
            "2/2 [==============================] - 0s 9ms/step - loss: 0.2760 - mae: 0.2760\n",
            "Epoch 482/500\n",
            "2/2 [==============================] - 0s 9ms/step - loss: 0.2418 - mae: 0.2418\n",
            "Epoch 483/500\n",
            "2/2 [==============================] - 0s 8ms/step - loss: 0.5467 - mae: 0.5467\n",
            "Epoch 484/500\n",
            "2/2 [==============================] - 0s 8ms/step - loss: 0.1873 - mae: 0.1873\n",
            "Epoch 485/500\n",
            "2/2 [==============================] - 0s 10ms/step - loss: 1.5335 - mae: 1.5335\n",
            "Epoch 486/500\n",
            "2/2 [==============================] - 0s 9ms/step - loss: 1.0520 - mae: 1.0520\n",
            "Epoch 487/500\n",
            "2/2 [==============================] - 0s 8ms/step - loss: 1.1097 - mae: 1.1097\n",
            "Epoch 488/500\n",
            "2/2 [==============================] - 0s 8ms/step - loss: 1.3316 - mae: 1.3316\n",
            "Epoch 489/500\n",
            "2/2 [==============================] - 0s 9ms/step - loss: 0.6618 - mae: 0.6618\n",
            "Epoch 490/500\n",
            "2/2 [==============================] - 0s 8ms/step - loss: 0.7171 - mae: 0.7171\n",
            "Epoch 491/500\n",
            "2/2 [==============================] - 0s 8ms/step - loss: 0.3989 - mae: 0.3989\n",
            "Epoch 492/500\n",
            "2/2 [==============================] - 0s 9ms/step - loss: 0.5538 - mae: 0.5538\n",
            "Epoch 493/500\n",
            "2/2 [==============================] - 0s 13ms/step - loss: 0.3895 - mae: 0.3895\n",
            "Epoch 494/500\n",
            "2/2 [==============================] - 0s 13ms/step - loss: 0.4117 - mae: 0.4117\n",
            "Epoch 495/500\n",
            "2/2 [==============================] - 0s 8ms/step - loss: 0.4592 - mae: 0.4592\n",
            "Epoch 496/500\n",
            "2/2 [==============================] - 0s 8ms/step - loss: 0.3584 - mae: 0.3584\n",
            "Epoch 497/500\n",
            "2/2 [==============================] - 0s 8ms/step - loss: 0.4422 - mae: 0.4422\n",
            "Epoch 498/500\n",
            "2/2 [==============================] - 0s 8ms/step - loss: 0.5604 - mae: 0.5604\n",
            "Epoch 499/500\n",
            "2/2 [==============================] - 0s 9ms/step - loss: 0.2892 - mae: 0.2892\n",
            "Epoch 500/500\n",
            "2/2 [==============================] - 0s 7ms/step - loss: 0.5601 - mae: 0.5601\n"
          ]
        },
        {
          "output_type": "execute_result",
          "data": {
            "text/plain": [
              "<keras.callbacks.History at 0x7f688c78a850>"
            ]
          },
          "metadata": {},
          "execution_count": 71
        }
      ]
    },
    {
      "cell_type": "code",
      "source": [
        "# Actual values\n",
        "X_test, y_test"
      ],
      "metadata": {
        "colab": {
          "base_uri": "https://localhost:8080/"
        },
        "id": "VqAke2y-q5h5",
        "outputId": "0fa5d840-b835-49f0-96e0-de04162ef59c"
      },
      "execution_count": 67,
      "outputs": [
        {
          "output_type": "execute_result",
          "data": {
            "text/plain": [
              "(<tf.Tensor: shape=(10,), dtype=int32, numpy=array([60, 64, 68, 72, 76, 80, 84, 88, 92, 96], dtype=int32)>,\n",
              " <tf.Tensor: shape=(10,), dtype=int32, numpy=array([ 70,  74,  78,  82,  86,  90,  94,  98, 102, 106], dtype=int32)>)"
            ]
          },
          "metadata": {},
          "execution_count": 67
        }
      ]
    },
    {
      "cell_type": "code",
      "source": [
        "# Testing\n",
        "y_pred = model_2.predict([X_test])\n",
        "y_pred"
      ],
      "metadata": {
        "colab": {
          "base_uri": "https://localhost:8080/"
        },
        "id": "Ov4gf1mDn0C9",
        "outputId": "d6223dbd-f93b-475b-9a33-30747b1059ed"
      },
      "execution_count": 75,
      "outputs": [
        {
          "output_type": "stream",
          "name": "stdout",
          "text": [
            "1/1 [==============================] - 0s 57ms/step\n"
          ]
        },
        {
          "output_type": "execute_result",
          "data": {
            "text/plain": [
              "array([[ 67.089195],\n",
              "       [ 70.90863 ],\n",
              "       [ 74.72809 ],\n",
              "       [ 78.54827 ],\n",
              "       [ 82.36873 ],\n",
              "       [ 86.18919 ],\n",
              "       [ 90.00964 ],\n",
              "       [ 93.83012 ],\n",
              "       [ 97.65056 ],\n",
              "       [101.47103 ]], dtype=float32)"
            ]
          },
          "metadata": {},
          "execution_count": 75
        }
      ]
    },
    {
      "cell_type": "code",
      "source": [
        "plt.scatter(X_test, y_pred)"
      ],
      "metadata": {
        "colab": {
          "base_uri": "https://localhost:8080/",
          "height": 282
        },
        "id": "njBp2NXjoLMC",
        "outputId": "75de067a-b9d1-41e4-a65c-9525d873fac1"
      },
      "execution_count": 76,
      "outputs": [
        {
          "output_type": "execute_result",
          "data": {
            "text/plain": [
              "<matplotlib.collections.PathCollection at 0x7f688c2ef5e0>"
            ]
          },
          "metadata": {},
          "execution_count": 76
        },
        {
          "output_type": "display_data",
          "data": {
            "text/plain": [
              "<Figure size 432x288 with 1 Axes>"
            ],
            "image/png": "[encoded data removed]"
          },
          "metadata": {
            "needs_background": "light"
          }
        }
      ]
    },
    {
      "cell_type": "code",
      "source": [
        "# Creating a model that builds automatically by defining the input_shape argument\n",
        "tf.random.set_seed(42)\n",
        "\n",
        "# Create a model\n",
        "model = tf.keras.Sequential([\n",
        "    # tf.keras.layers.Dense(100, activation = \"relu\"),\n",
        "    tf.keras.layers.Dense(100, input_shape=[1], name = \"input_layer\"),\n",
        "    tf.keras.layers.Dense(100, input_shape=[1], name = \"hidden_layer\"),\n",
        "    tf.keras.layers.Dense(1, name = \"output_layer\")\n",
        "], name = \"model_1\")\n",
        "\n",
        "model.compile(loss = tf.keras.losses.mse,\n",
        "              optimizer = tf.keras.optimizers.Adam(learning_rate = 0.01),\n",
        "              metrics = [\"mse\"])\n",
        "\n",
        "# model.fit(tf.expand_dims(X_train, axis = 1), y_train, epochs = 100)"
      ],
      "metadata": {
        "id": "Zirix-WGvjHQ"
      },
      "execution_count": 138,
      "outputs": []
    },
    {
      "cell_type": "code",
      "source": [
        "model.summary()"
      ],
      "metadata": {
        "colab": {
          "base_uri": "https://localhost:8080/"
        },
        "id": "6C7m7GQWvxYK",
        "outputId": "ee395b1e-4a78-430a-e01c-1ef865a04705"
      },
      "execution_count": 119,
      "outputs": [
        {
          "output_type": "stream",
          "name": "stdout",
          "text": [
            "Model: \"model_1\"\n",
            "_________________________________________________________________\n",
            " Layer (type)                Output Shape              Param #   \n",
            "=================================================================\n",
            " input_layer (Dense)         (None, 10)                20        \n",
            "                                                                 \n",
            " output_layer (Dense)        (None, 1)                 11        \n",
            "                                                                 \n",
            "=================================================================\n",
            "Total params: 31\n",
            "Trainable params: 31\n",
            "Non-trainable params: 0\n",
            "_________________________________________________________________\n"
          ]
        }
      ]
    },
    {
      "cell_type": "markdown",
      "source": [
        "## **What is that summary!**\n",
        "Total Params - Total number of parameters in the model.\n",
        "\n",
        "Trainable params - Parameters the model can update as it trains.\n",
        "\n",
        "Non-trainable params - These are the parameters aren't updated while training."
      ],
      "metadata": {
        "id": "I1qEJ4Jbyg9L"
      }
    },
    {
      "cell_type": "code",
      "source": [
        "model.fit(X_train, y_train, epochs = 200, verbose = 0)"
      ],
      "metadata": {
        "colab": {
          "base_uri": "https://localhost:8080/"
        },
        "id": "O2tTtVMnxsQm",
        "outputId": "882c5dab-35f5-4aad-f337-da4a4d12a13b"
      },
      "execution_count": 139,
      "outputs": [
        {
          "output_type": "execute_result",
          "data": {
            "text/plain": [
              "<keras.callbacks.History at 0x7f69b2a2a8e0>"
            ]
          },
          "metadata": {},
          "execution_count": 139
        }
      ]
    },
    {
      "cell_type": "code",
      "source": [
        "X_test, y_test"
      ],
      "metadata": {
        "colab": {
          "base_uri": "https://localhost:8080/"
        },
        "id": "FiCODmY84LFC",
        "outputId": "28a1346b-8f9a-43b5-bc06-a103b8e780d1"
      },
      "execution_count": 120,
      "outputs": [
        {
          "output_type": "execute_result",
          "data": {
            "text/plain": [
              "(<tf.Tensor: shape=(10,), dtype=int32, numpy=array([60, 64, 68, 72, 76, 80, 84, 88, 92, 96], dtype=int32)>,\n",
              " <tf.Tensor: shape=(10,), dtype=int32, numpy=array([ 70,  74,  78,  82,  86,  90,  94,  98, 102, 106], dtype=int32)>)"
            ]
          },
          "metadata": {},
          "execution_count": 120
        }
      ]
    },
    {
      "cell_type": "code",
      "source": [
        "y_pred = model.predict([X_test])\n",
        "y_pred"
      ],
      "metadata": {
        "colab": {
          "base_uri": "https://localhost:8080/"
        },
        "id": "UXW3_E9L4C3b",
        "outputId": "d571d80d-ddd3-4a2d-b89b-b557a75ddee7"
      },
      "execution_count": 140,
      "outputs": [
        {
          "output_type": "stream",
          "name": "stdout",
          "text": [
            "1/1 [==============================] - 0s 83ms/step\n"
          ]
        },
        {
          "output_type": "execute_result",
          "data": {
            "text/plain": [
              "array([[ 70.      ],\n",
              "       [ 73.99999 ],\n",
              "       [ 78.      ],\n",
              "       [ 82.00001 ],\n",
              "       [ 85.99999 ],\n",
              "       [ 90.      ],\n",
              "       [ 93.999985],\n",
              "       [ 97.99999 ],\n",
              "       [101.99999 ],\n",
              "       [106.      ]], dtype=float32)"
            ]
          },
          "metadata": {},
          "execution_count": 140
        }
      ]
    },
    {
      "cell_type": "code",
      "source": [
        "model.summary()"
      ],
      "metadata": {
        "colab": {
          "base_uri": "https://localhost:8080/"
        },
        "id": "MY-gzunD29jb",
        "outputId": "10cde2b8-6c18-4b9b-cab3-0d8b613b2521"
      },
      "execution_count": 106,
      "outputs": [
        {
          "output_type": "stream",
          "name": "stdout",
          "text": [
            "Model: \"model_1\"\n",
            "_________________________________________________________________\n",
            " Layer (type)                Output Shape              Param #   \n",
            "=================================================================\n",
            " input_layer (Dense)         (None, 10)                20        \n",
            "                                                                 \n",
            " output_layer (Dense)        (None, 1)                 11        \n",
            "                                                                 \n",
            "=================================================================\n",
            "Total params: 31\n",
            "Trainable params: 31\n",
            "Non-trainable params: 0\n",
            "_________________________________________________________________\n"
          ]
        }
      ]
    },
    {
      "cell_type": "code",
      "source": [
        "from tensorflow.keras.utils import plot_model\n",
        "plot_model(model = model, show_shapes = True)"
      ],
      "metadata": {
        "colab": {
          "base_uri": "https://localhost:8080/",
          "height": 422
        },
        "id": "xDHYNeRF2-wf",
        "outputId": "21146e4b-0ab6-413f-c71a-7a745b113f8f"
      },
      "execution_count": 131,
      "outputs": [
        {
          "output_type": "execute_result",
          "data": {
            "image/png": "[encoded data removed]",
            "text/plain": [
              "<IPython.core.display.Image object>"
            ]
          },
          "metadata": {},
          "execution_count": 131
        }
      ]
    },
    {
      "cell_type": "code",
      "source": [
        "# Lets set a function for plotting\n",
        "def plot_predictions(train_data = X_train, train_labels = y_train, test_data = X_test, test_labels = y_test, predictions = y_pred):\n",
        "  plt.figure(figsize = (10, 7))\n",
        "  plt.scatter(train_data, train_labels, c = \"b\", label = \"Training Data\")\n",
        "  plt.scatter(test_data, test_labels, c = \"g\", label = \"Testing Data\")\n",
        "  plt.scatter(test_data, predictions, c = \"r\", label = \"Predictions\")\n",
        "  plt.legend()"
      ],
      "metadata": {
        "id": "bItzGkXZ35HC"
      },
      "execution_count": 142,
      "outputs": []
    },
    {
      "cell_type": "code",
      "source": [
        "plot_predictions()"
      ],
      "metadata": {
        "colab": {
          "base_uri": "https://localhost:8080/",
          "height": 428
        },
        "id": "ietRxLxF7y6H",
        "outputId": "7872c4ca-bc40-48cf-9bc1-b39a0cd15372"
      },
      "execution_count": 143,
      "outputs": [
        {
          "output_type": "display_data",
          "data": {
            "text/plain": [
              "<Figure size 720x504 with 1 Axes>"
            ],
            "image/png": "[encoded data removed]"
          },
          "metadata": {
            "needs_background": "light"
          }
        }
      ]
    },
    {
      "cell_type": "markdown",
      "source": [
        "## Evaluation using regression evaluation matrics.\n",
        "\n",
        "Here, we have two main metrices:\n",
        "\n",
        "1) MAE - Mean Absolute Error.\n",
        "\n",
        "2) MSE - Mean Square Error."
      ],
      "metadata": {
        "id": "-GVp19CS99Fn"
      }
    },
    {
      "cell_type": "code",
      "source": [
        "model.evaluate(X_test, y_test)"
      ],
      "metadata": {
        "colab": {
          "base_uri": "https://localhost:8080/"
        },
        "id": "IqPL_535_2_R",
        "outputId": "78151c36-51ed-4e49-916c-99743b4a4fd4"
      },
      "execution_count": 144,
      "outputs": [
        {
          "output_type": "stream",
          "name": "stdout",
          "text": [
            "1/1 [==============================] - 0s 235ms/step - loss: 5.2387e-11 - mse: 5.2387e-11\n"
          ]
        },
        {
          "output_type": "execute_result",
          "data": {
            "text/plain": [
              "[5.2386893434341886e-11, 5.2386893434341886e-11]"
            ]
          },
          "metadata": {},
          "execution_count": 144
        }
      ]
    },
    {
      "cell_type": "code",
      "source": [
        "y_pred"
      ],
      "metadata": {
        "colab": {
          "base_uri": "https://localhost:8080/"
        },
        "id": "g1uy5dlx_7lu",
        "outputId": "b910799f-580c-452d-dc12-a1b13ebef83c"
      },
      "execution_count": 145,
      "outputs": [
        {
          "output_type": "execute_result",
          "data": {
            "text/plain": [
              "array([[ 70.      ],\n",
              "       [ 73.99999 ],\n",
              "       [ 78.      ],\n",
              "       [ 82.00001 ],\n",
              "       [ 85.99999 ],\n",
              "       [ 90.      ],\n",
              "       [ 93.999985],\n",
              "       [ 97.99999 ],\n",
              "       [101.99999 ],\n",
              "       [106.      ]], dtype=float32)"
            ]
          },
          "metadata": {},
          "execution_count": 145
        }
      ]
    },
    {
      "cell_type": "code",
      "source": [
        "y_test"
      ],
      "metadata": {
        "colab": {
          "base_uri": "https://localhost:8080/"
        },
        "id": "ydm5hRNOAUV6",
        "outputId": "a1376929-5ef6-451d-e723-f652c23b2d56"
      },
      "execution_count": 146,
      "outputs": [
        {
          "output_type": "execute_result",
          "data": {
            "text/plain": [
              "<tf.Tensor: shape=(10,), dtype=int32, numpy=array([ 70,  74,  78,  82,  86,  90,  94,  98, 102, 106], dtype=int32)>"
            ]
          },
          "metadata": {},
          "execution_count": 146
        }
      ]
    },
    {
      "cell_type": "code",
      "source": [
        "mae = tf.reduce_mean(tf.abs(y_test - y_pred))\n",
        "mae"
      ],
      "metadata": {
        "colab": {
          "base_uri": "https://localhost:8080/"
        },
        "id": "C0AQ7bLqAVue",
        "outputId": "2f1bde86-962b-46d7-b822-5092a25ef6a5"
      },
      "execution_count": 150,
      "outputs": [
        {
          "output_type": "execute_result",
          "data": {
            "text/plain": [
              "<tf.Tensor: shape=(), dtype=int32, numpy=13>"
            ]
          },
          "metadata": {},
          "execution_count": 150
        }
      ]
    }
  ]
}