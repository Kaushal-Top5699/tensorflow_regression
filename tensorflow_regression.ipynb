{
  "nbformat": 4,
  "nbformat_minor": 0,
  "metadata": {
    "colab": {
      "provenance": [],
      "authorship_tag": "ABX9TyOC5xadFViu0KL1ucSdxdd/",
      "include_colab_link": true
    },
    "kernelspec": {
      "name": "python3",
      "display_name": "Python 3"
    },
    "language_info": {
      "name": "python"
    },
    "accelerator": "GPU",
    "gpuClass": "standard"
  },
  "cells": [
    {
      "cell_type": "markdown",
      "metadata": {
        "id": "view-in-github",
        "colab_type": "text"
      },
      "source": [
        "<a href=\"https://colab.research.google.com/github/Kaushal-Top5699/tensorflow_regression/blob/main/tensorflow_regression.ipynb\" target=\"_parent\"><img src=\"https://colab.research.google.com/assets/colab-badge.svg\" alt=\"Open In Colab\"/></a>"
      ]
    },
    {
      "cell_type": "markdown",
      "source": [
        "# **Regression in Neural Networks**\n",
        "Introduction to Regression in Neural Networks in Tensorflow.\n",
        "Predicting numerical values based on someother combination of values or more specifically variables."
      ],
      "metadata": {
        "id": "VgH3Sw6wVtUr"
      }
    },
    {
      "cell_type": "code",
      "source": [
        "import tensorflow as tf\n",
        "tf.__version__"
      ],
      "metadata": {
        "colab": {
          "base_uri": "https://localhost:8080/",
          "height": 35
        },
        "id": "ES9WGICnVrU3",
        "outputId": "9972cc34-cbaf-44cb-8422-f9f02d76f774"
      },
      "execution_count": 1,
      "outputs": [
        {
          "output_type": "execute_result",
          "data": {
            "text/plain": [
              "'2.11.0'"
            ],
            "application/vnd.google.colaboratory.intrinsic+json": {
              "type": "string"
            }
          },
          "metadata": {},
          "execution_count": 1
        }
      ]
    },
    {
      "cell_type": "markdown",
      "source": [
        "Creating data to view and fit."
      ],
      "metadata": {
        "id": "r-dLNR8m2awI"
      }
    },
    {
      "cell_type": "code",
      "source": [
        "import numpy as np\n",
        "import matplotlib.pyplot as plt\n",
        "\n",
        "# Creating features\n",
        "X = np.array([-7.0, -4.0, -1.0, 2.0, 5.0, 8.0, 11.0, 14.0])\n",
        "\n",
        "# Creating lables\n",
        "y = np.array([3.0, 6.0, 9.0, 12.0, 15.0, 18.0, 21.0, 24.0])\n",
        "\n",
        "# Visualise it\n",
        "plt.scatter(X, y)"
      ],
      "metadata": {
        "colab": {
          "base_uri": "https://localhost:8080/",
          "height": 286
        },
        "id": "eNIrDxhy2Hh5",
        "outputId": "61c008fa-ae0b-4f7a-9404-99720c6ef999"
      },
      "execution_count": 2,
      "outputs": [
        {
          "output_type": "execute_result",
          "data": {
            "text/plain": [
              "<matplotlib.collections.PathCollection at 0x7fad7b78abe0>"
            ]
          },
          "metadata": {},
          "execution_count": 2
        },
        {
          "output_type": "display_data",
          "data": {
            "text/plain": [
              "<Figure size 432x288 with 1 Axes>"
            ],
            "image/png": "[encoded data removed]"
          },
          "metadata": {
            "needs_background": "light"
          }
        }
      ]
    },
    {
      "cell_type": "code",
      "source": [
        "# Try find relation between X and y. Its basically X + 10. For example, -7.0 + 10 = 3.0 and same is the case with other features and lables.\n",
        "# Perform a check\n",
        "X + 10"
      ],
      "metadata": {
        "colab": {
          "base_uri": "https://localhost:8080/"
        },
        "id": "gKoqLW1H3Qwo",
        "outputId": "d707e249-6500-48fc-bb72-340c23a7c283"
      },
      "execution_count": 3,
      "outputs": [
        {
          "output_type": "execute_result",
          "data": {
            "text/plain": [
              "array([ 3.,  6.,  9., 12., 15., 18., 21., 24.])"
            ]
          },
          "metadata": {},
          "execution_count": 3
        }
      ]
    },
    {
      "cell_type": "markdown",
      "source": [
        "The model will basically return a number or predict a number or what 'y' should be when we pass it an 'X'. So after all the work is done if we pass it a number say, 17.0 the model should output 27.0 (Remeber the relation between X and y is? its X + 10). This is what we are trying to do here, happy learning."
      ],
      "metadata": {
        "id": "_CtFVrBD5Elz"
      }
    },
    {
      "cell_type": "code",
      "source": [
        "# Verify our check\n",
        "y == X + 10"
      ],
      "metadata": {
        "colab": {
          "base_uri": "https://localhost:8080/"
        },
        "id": "oHlmjxfp3uA9",
        "outputId": "58909fcb-7606-4a45-85cd-79a5cb4e3ccf"
      },
      "execution_count": 4,
      "outputs": [
        {
          "output_type": "execute_result",
          "data": {
            "text/plain": [
              "array([ True,  True,  True,  True,  True,  True,  True,  True])"
            ]
          },
          "metadata": {},
          "execution_count": 4
        }
      ]
    },
    {
      "cell_type": "markdown",
      "source": [
        "### Input and output shapes"
      ],
      "metadata": {
        "id": "__ZAhdOI4Evc"
      }
    },
    {
      "cell_type": "code",
      "source": [
        "# Create a demo tensor for housing price prediction problem.\n",
        "house_info = tf.constant([\"bedroom\", \"bathroom\", \"gurage\"])\n",
        "house_price = tf.constant([939700])\n",
        "house_info, house_price"
      ],
      "metadata": {
        "colab": {
          "base_uri": "https://localhost:8080/"
        },
        "id": "dgJTArAt3yol",
        "outputId": "1f8ef2bb-403e-4e35-f609-f0bd7c6c62ff"
      },
      "execution_count": 5,
      "outputs": [
        {
          "output_type": "execute_result",
          "data": {
            "text/plain": [
              "(<tf.Tensor: shape=(3,), dtype=string, numpy=array([b'bedroom', b'bathroom', b'gurage'], dtype=object)>,\n",
              " <tf.Tensor: shape=(1,), dtype=int32, numpy=array([939700], dtype=int32)>)"
            ]
          },
          "metadata": {},
          "execution_count": 5
        }
      ]
    },
    {
      "cell_type": "code",
      "source": [
        "input_shape = X.shape\n",
        "output_shape = y.shape\n",
        "input_shape, output_shape"
      ],
      "metadata": {
        "colab": {
          "base_uri": "https://localhost:8080/"
        },
        "id": "6rGHQqo94sV9",
        "outputId": "f2a3f92f-d2ca-4b12-ee36-90ff56f68ba3"
      },
      "execution_count": 6,
      "outputs": [
        {
          "output_type": "execute_result",
          "data": {
            "text/plain": [
              "((8,), (8,))"
            ]
          },
          "metadata": {},
          "execution_count": 6
        }
      ]
    },
    {
      "cell_type": "code",
      "source": [
        "# Note that the input X is a scalar and same is the output, lets check, because if it is then it should have 0 dimensions.\n",
        "# Remember we want one feature which is one of the elements of X and then predict or output one value or number which again an element of y.\n",
        "X[0].ndim, y[0].ndim"
      ],
      "metadata": {
        "colab": {
          "base_uri": "https://localhost:8080/"
        },
        "id": "z_eCDArx49ob",
        "outputId": "e13ea9f2-f1a0-4bb4-fef7-6b2bc6705555"
      },
      "execution_count": 7,
      "outputs": [
        {
          "output_type": "execute_result",
          "data": {
            "text/plain": [
              "(0, 0)"
            ]
          },
          "metadata": {},
          "execution_count": 7
        }
      ]
    },
    {
      "cell_type": "code",
      "source": [
        "# Lets turn our numpy arrays into tensors. More specifically, turning data into tensors!\n",
        "X = tf.cast(tf.constant(X), dtype=tf.float32)\n",
        "y = tf.cast(tf.constant(y), dtype=tf.float32)\n",
        "X, y"
      ],
      "metadata": {
        "colab": {
          "base_uri": "https://localhost:8080/"
        },
        "id": "-RogcmTY6Npe",
        "outputId": "d2431a8a-bc29-45cb-bb45-274d67c28f33"
      },
      "execution_count": 8,
      "outputs": [
        {
          "output_type": "execute_result",
          "data": {
            "text/plain": [
              "(<tf.Tensor: shape=(8,), dtype=float32, numpy=array([-7., -4., -1.,  2.,  5.,  8., 11., 14.], dtype=float32)>,\n",
              " <tf.Tensor: shape=(8,), dtype=float32, numpy=array([ 3.,  6.,  9., 12., 15., 18., 21., 24.], dtype=float32)>)"
            ]
          },
          "metadata": {},
          "execution_count": 8
        }
      ]
    },
    {
      "cell_type": "code",
      "source": [
        "input_shape = X[0].shape\n",
        "output_shape = y[0].shape\n",
        "input_shape, output_shape"
      ],
      "metadata": {
        "colab": {
          "base_uri": "https://localhost:8080/"
        },
        "id": "pUHOP8bN63dv",
        "outputId": "7c71c8d3-31df-4765-9a65-c0dc60591026"
      },
      "execution_count": 9,
      "outputs": [
        {
          "output_type": "execute_result",
          "data": {
            "text/plain": [
              "(TensorShape([]), TensorShape([]))"
            ]
          },
          "metadata": {},
          "execution_count": 9
        }
      ]
    },
    {
      "cell_type": "code",
      "source": [
        "plt.scatter(X, y)"
      ],
      "metadata": {
        "colab": {
          "base_uri": "https://localhost:8080/",
          "height": 286
        },
        "id": "BSjJ4KHG65nb",
        "outputId": "0b029e1b-a8bf-4e2a-b46a-577e28afda0d"
      },
      "execution_count": 10,
      "outputs": [
        {
          "output_type": "execute_result",
          "data": {
            "text/plain": [
              "<matplotlib.collections.PathCollection at 0x7fad70035eb0>"
            ]
          },
          "metadata": {},
          "execution_count": 10
        },
        {
          "output_type": "display_data",
          "data": {
            "text/plain": [
              "<Figure size 432x288 with 1 Axes>"
            ],
            "image/png": "[encoded data removed]"
          },
          "metadata": {
            "needs_background": "light"
          }
        }
      ]
    },
    {
      "cell_type": "markdown",
      "source": [
        "## **Steps for modelling with tensorflow**\n",
        "1) **Creating a model** - defining the number of input and output layers, as well as the hindden layers of deep learning model.\n",
        "\n",
        "2) **Compile the model** - defining the loss function (which tells our model how wrong it is), the optimizer (which tells our model how to correct the error) and evaluation matrix (which we can use to interpret the performance of our model).\n",
        "\n",
        "3) **Fitting the model** - leting the model try to find patterns between X and y (features and labels)."
      ],
      "metadata": {
        "id": "edi9fKTQ7ano"
      }
    },
    {
      "cell_type": "code",
      "source": [
        "# Set the random seed.\n",
        "tf.random.set_seed(42)\n",
        "\n",
        "# 1) Create the model. Sequential API\n",
        "model = tf.keras.Sequential([\n",
        "    tf.keras.layers.Dense(1) # Note that we want to take one feature and predict the output therefore, 1.\n",
        "])\n",
        "\n",
        "\n",
        "# 2) Compile the model.\n",
        "model.compile(loss=tf.keras.losses.mae,\n",
        "              optimizer=tf.keras.optimizers.SGD(),\n",
        "              metrics=[\"mae\"])\n",
        "# MAE is Mean Absolute Error (On Avg. how wrong our model is?)\n",
        "# SGD is Stcochastic Gradient Descent\n",
        "\n",
        "\n",
        "# 3) Fit the model. (Here we fit the model and tell it you have 5 chances to look at the patterns and finally start the prediction).\n",
        "X_input = tf.expand_dims(X, axis = 1) # No of dimensions of one input is Zero and that gave error so I increased the dimensions by 1.\n",
        "model.fit(X_input, y, epochs=5)"
      ],
      "metadata": {
        "colab": {
          "base_uri": "https://localhost:8080/"
        },
        "id": "ASpNjdWW7Yuw",
        "outputId": "a69f30b1-2f73-4ad3-e298-3db33b5e7edd"
      },
      "execution_count": 11,
      "outputs": [
        {
          "output_type": "stream",
          "name": "stdout",
          "text": [
            "Epoch 1/5\n",
            "1/1 [==============================] - 4s 4s/step - loss: 8.9267 - mae: 8.9267\n",
            "Epoch 2/5\n",
            "1/1 [==============================] - 0s 11ms/step - loss: 8.7942 - mae: 8.7942\n",
            "Epoch 3/5\n",
            "1/1 [==============================] - 0s 10ms/step - loss: 8.6617 - mae: 8.6617\n",
            "Epoch 4/5\n",
            "1/1 [==============================] - 0s 10ms/step - loss: 8.5292 - mae: 8.5292\n",
            "Epoch 5/5\n",
            "1/1 [==============================] - 0s 9ms/step - loss: 8.3967 - mae: 8.3967\n"
          ]
        },
        {
          "output_type": "execute_result",
          "data": {
            "text/plain": [
              "<keras.callbacks.History at 0x7facf66836d0>"
            ]
          },
          "metadata": {},
          "execution_count": 11
        }
      ]
    },
    {
      "cell_type": "code",
      "source": [
        "# This is how X and y looks like.\n",
        "X, y"
      ],
      "metadata": {
        "colab": {
          "base_uri": "https://localhost:8080/"
        },
        "id": "gYyBQda-APlf",
        "outputId": "257fc8e9-2965-483e-ef5a-b7e7b32a97f0"
      },
      "execution_count": 12,
      "outputs": [
        {
          "output_type": "execute_result",
          "data": {
            "text/plain": [
              "(<tf.Tensor: shape=(8,), dtype=float32, numpy=array([-7., -4., -1.,  2.,  5.,  8., 11., 14.], dtype=float32)>,\n",
              " <tf.Tensor: shape=(8,), dtype=float32, numpy=array([ 3.,  6.,  9., 12., 15., 18., 21., 24.], dtype=float32)>)"
            ]
          },
          "metadata": {},
          "execution_count": 12
        }
      ]
    },
    {
      "cell_type": "code",
      "source": [
        "# Now lets try to make a prediction.\n",
        "y_pred = model.predict([17.0])\n",
        "y_pred"
      ],
      "metadata": {
        "colab": {
          "base_uri": "https://localhost:8080/"
        },
        "id": "Mw6lQAMNDB1f",
        "outputId": "db144e17-6755-4aab-8cd5-5d35e56c7abe"
      },
      "execution_count": 13,
      "outputs": [
        {
          "output_type": "stream",
          "name": "stdout",
          "text": [
            "1/1 [==============================] - 0s 81ms/step\n"
          ]
        },
        {
          "output_type": "execute_result",
          "data": {
            "text/plain": [
              "array([[25.238115]], dtype=float32)"
            ]
          },
          "metadata": {},
          "execution_count": 13
        }
      ]
    },
    {
      "cell_type": "code",
      "source": [
        "# Now if you look at last epoch data, its says on avg. our model will make mistake approximately 10.6 points off. Lets try it to add those 10.6 points,\n",
        "# our predicted value and check how correct or closer is the prediction of model now.\n",
        "y_pred + 10.6\n",
        "# Pretty close to actual answer which is 27.0"
      ],
      "metadata": {
        "colab": {
          "base_uri": "https://localhost:8080/"
        },
        "id": "TA3RgqteDVx0",
        "outputId": "4b2e2b9a-4b54-407c-ef4d-9bd87233cf42"
      },
      "execution_count": 14,
      "outputs": [
        {
          "output_type": "execute_result",
          "data": {
            "text/plain": [
              "array([[35.838116]], dtype=float32)"
            ]
          },
          "metadata": {},
          "execution_count": 14
        }
      ]
    },
    {
      "cell_type": "markdown",
      "source": [
        "### Improving our model. Now since, we are getting wrong predictions lets try to improve it.\n",
        "We can improve the model by altering the steps we used while creating the model.\n",
        "\n",
        "1) **Create Model** - we might increase the number of layers, neurons and change activation or transfer functions within each layer.\n",
        "\n",
        "2) **Compile Model** - we might change the optimization function and perhaps the **learning rate** of the optimization function.\n",
        "\n",
        "3) **Fitting Model** - we might increase the number of **epochs**, or on more **Data**."
      ],
      "metadata": {
        "id": "TMUqxqGVEie2"
      }
    },
    {
      "cell_type": "code",
      "source": [
        "# Lets create the same model again with improvements.\n",
        "tf.random.set_seed(42)\n",
        "\n",
        "# Create Model\n",
        "improved_model = tf.keras.Sequential([\n",
        "    # These are the 2 hidden layers\n",
        "    tf.keras.layers.Dense(50, activation=\"relu\"),\n",
        "    tf.keras.layers.Dense(50, activation=\"relu\"),\n",
        "    tf.keras.layers.Dense(100, activation=\"relu\"),\n",
        "    # These are the 2 hidden layers\n",
        "    tf.keras.layers.Dense(1)\n",
        "    # Totally, we have 4 layers with 100 in each of the hidden layers and one in 4th layer.\n",
        "])\n",
        "\n",
        "# Compile Model\n",
        "improved_model.compile(loss = tf.keras.losses.mae,\n",
        "                       optimizer = tf.keras.optimizers.Adam(learning_rate = 0.01), # Learning Rate is the most important hyperparameter in Neural Networks. \n",
        "                       metrics=[\"mae\"])\n",
        "\n",
        "# Fitting Model\n",
        "X_input = tf.expand_dims(X, axis = 1) # Don't forget increase the dimension to prevent the error.\n",
        "improved_model.fit(X_input, y, epochs = 500)"
      ],
      "metadata": {
        "colab": {
          "base_uri": "https://localhost:8080/"
        },
        "id": "2Uqh8CWPDxIp",
        "outputId": "0509d2c4-11b5-4651-f904-ea3f05b2cf1c"
      },
      "execution_count": 15,
      "outputs": [
        {
          "output_type": "stream",
          "name": "stdout",
          "text": [
            "Epoch 1/500\n",
            "1/1 [==============================] - 2s 2s/step - loss: 12.7895 - mae: 12.7895\n",
            "Epoch 2/500\n",
            "1/1 [==============================] - 0s 10ms/step - loss: 10.6273 - mae: 10.6273\n",
            "Epoch 3/500\n",
            "1/1 [==============================] - 0s 10ms/step - loss: 7.9186 - mae: 7.9186\n",
            "Epoch 4/500\n",
            "1/1 [==============================] - 0s 11ms/step - loss: 4.6159 - mae: 4.6159\n",
            "Epoch 5/500\n",
            "1/1 [==============================] - 0s 13ms/step - loss: 5.1975 - mae: 5.1975\n",
            "Epoch 6/500\n",
            "1/1 [==============================] - 0s 12ms/step - loss: 6.6017 - mae: 6.6017\n",
            "Epoch 7/500\n",
            "1/1 [==============================] - 0s 16ms/step - loss: 6.2274 - mae: 6.2274\n",
            "Epoch 8/500\n",
            "1/1 [==============================] - 0s 12ms/step - loss: 5.2677 - mae: 5.2677\n",
            "Epoch 9/500\n",
            "1/1 [==============================] - 0s 9ms/step - loss: 4.1109 - mae: 4.1109\n",
            "Epoch 10/500\n",
            "1/1 [==============================] - 0s 13ms/step - loss: 3.8500 - mae: 3.8500\n",
            "Epoch 11/500\n",
            "1/1 [==============================] - 0s 10ms/step - loss: 4.4847 - mae: 4.4847\n",
            "Epoch 12/500\n",
            "1/1 [==============================] - 0s 12ms/step - loss: 4.6122 - mae: 4.6122\n",
            "Epoch 13/500\n",
            "1/1 [==============================] - 0s 10ms/step - loss: 4.1056 - mae: 4.1056\n",
            "Epoch 14/500\n",
            "1/1 [==============================] - 0s 10ms/step - loss: 3.5245 - mae: 3.5245\n",
            "Epoch 15/500\n",
            "1/1 [==============================] - 0s 19ms/step - loss: 3.7232 - mae: 3.7232\n",
            "Epoch 16/500\n",
            "1/1 [==============================] - 0s 11ms/step - loss: 4.2429 - mae: 4.2429\n",
            "Epoch 17/500\n",
            "1/1 [==============================] - 0s 10ms/step - loss: 4.3768 - mae: 4.3768\n",
            "Epoch 18/500\n",
            "1/1 [==============================] - 0s 16ms/step - loss: 4.0772 - mae: 4.0772\n",
            "Epoch 19/500\n",
            "1/1 [==============================] - 0s 11ms/step - loss: 3.4845 - mae: 3.4845\n",
            "Epoch 20/500\n",
            "1/1 [==============================] - 0s 10ms/step - loss: 3.1617 - mae: 3.1617\n",
            "Epoch 21/500\n",
            "1/1 [==============================] - 0s 11ms/step - loss: 3.2361 - mae: 3.2361\n",
            "Epoch 22/500\n",
            "1/1 [==============================] - 0s 9ms/step - loss: 3.5597 - mae: 3.5597\n",
            "Epoch 23/500\n",
            "1/1 [==============================] - 0s 18ms/step - loss: 3.1132 - mae: 3.1132\n",
            "Epoch 24/500\n",
            "1/1 [==============================] - 0s 10ms/step - loss: 2.7319 - mae: 2.7319\n",
            "Epoch 25/500\n",
            "1/1 [==============================] - 0s 11ms/step - loss: 2.7445 - mae: 2.7445\n",
            "Epoch 26/500\n",
            "1/1 [==============================] - 0s 9ms/step - loss: 2.7370 - mae: 2.7370\n",
            "Epoch 27/500\n",
            "1/1 [==============================] - 0s 11ms/step - loss: 2.4145 - mae: 2.4145\n",
            "Epoch 28/500\n",
            "1/1 [==============================] - 0s 11ms/step - loss: 2.1835 - mae: 2.1835\n",
            "Epoch 29/500\n",
            "1/1 [==============================] - 0s 23ms/step - loss: 1.9313 - mae: 1.9313\n",
            "Epoch 30/500\n",
            "1/1 [==============================] - 0s 12ms/step - loss: 1.6990 - mae: 1.6990\n",
            "Epoch 31/500\n",
            "1/1 [==============================] - 0s 12ms/step - loss: 1.5236 - mae: 1.5236\n",
            "Epoch 32/500\n",
            "1/1 [==============================] - 0s 11ms/step - loss: 1.2888 - mae: 1.2888\n",
            "Epoch 33/500\n",
            "1/1 [==============================] - 0s 11ms/step - loss: 1.1599 - mae: 1.1599\n",
            "Epoch 34/500\n",
            "1/1 [==============================] - 0s 12ms/step - loss: 0.6370 - mae: 0.6370\n",
            "Epoch 35/500\n",
            "1/1 [==============================] - 0s 12ms/step - loss: 0.6640 - mae: 0.6640\n",
            "Epoch 36/500\n",
            "1/1 [==============================] - 0s 11ms/step - loss: 0.9533 - mae: 0.9533\n",
            "Epoch 37/500\n",
            "1/1 [==============================] - 0s 11ms/step - loss: 0.5383 - mae: 0.5383\n",
            "Epoch 38/500\n",
            "1/1 [==============================] - 0s 11ms/step - loss: 0.4353 - mae: 0.4353\n",
            "Epoch 39/500\n",
            "1/1 [==============================] - 0s 11ms/step - loss: 0.6431 - mae: 0.6431\n",
            "Epoch 40/500\n",
            "1/1 [==============================] - 0s 11ms/step - loss: 0.6813 - mae: 0.6813\n",
            "Epoch 41/500\n",
            "1/1 [==============================] - 0s 19ms/step - loss: 0.6350 - mae: 0.6350\n",
            "Epoch 42/500\n",
            "1/1 [==============================] - 0s 10ms/step - loss: 0.3922 - mae: 0.3922\n",
            "Epoch 43/500\n",
            "1/1 [==============================] - 0s 13ms/step - loss: 1.2875 - mae: 1.2875\n",
            "Epoch 44/500\n",
            "1/1 [==============================] - 0s 11ms/step - loss: 1.1280 - mae: 1.1280\n",
            "Epoch 45/500\n",
            "1/1 [==============================] - 0s 12ms/step - loss: 0.3644 - mae: 0.3644\n",
            "Epoch 46/500\n",
            "1/1 [==============================] - 0s 14ms/step - loss: 0.8972 - mae: 0.8972\n",
            "Epoch 47/500\n",
            "1/1 [==============================] - 0s 19ms/step - loss: 0.4390 - mae: 0.4390\n",
            "Epoch 48/500\n",
            "1/1 [==============================] - 0s 13ms/step - loss: 1.0459 - mae: 1.0459\n",
            "Epoch 49/500\n",
            "1/1 [==============================] - 0s 11ms/step - loss: 1.1738 - mae: 1.1738\n",
            "Epoch 50/500\n",
            "1/1 [==============================] - 0s 11ms/step - loss: 0.5329 - mae: 0.5329\n",
            "Epoch 51/500\n",
            "1/1 [==============================] - 0s 13ms/step - loss: 0.9327 - mae: 0.9327\n",
            "Epoch 52/500\n",
            "1/1 [==============================] - 0s 11ms/step - loss: 1.0351 - mae: 1.0351\n",
            "Epoch 53/500\n",
            "1/1 [==============================] - 0s 11ms/step - loss: 0.4463 - mae: 0.4463\n",
            "Epoch 54/500\n",
            "1/1 [==============================] - 0s 12ms/step - loss: 1.2255 - mae: 1.2255\n",
            "Epoch 55/500\n",
            "1/1 [==============================] - 0s 10ms/step - loss: 1.4979 - mae: 1.4979\n",
            "Epoch 56/500\n",
            "1/1 [==============================] - 0s 11ms/step - loss: 1.0109 - mae: 1.0109\n",
            "Epoch 57/500\n",
            "1/1 [==============================] - 0s 11ms/step - loss: 0.5973 - mae: 0.5973\n",
            "Epoch 58/500\n",
            "1/1 [==============================] - 0s 13ms/step - loss: 0.9041 - mae: 0.9041\n",
            "Epoch 59/500\n",
            "1/1 [==============================] - 0s 12ms/step - loss: 0.4152 - mae: 0.4152\n",
            "Epoch 60/500\n",
            "1/1 [==============================] - 0s 10ms/step - loss: 0.5253 - mae: 0.5253\n",
            "Epoch 61/500\n",
            "1/1 [==============================] - 0s 10ms/step - loss: 0.6003 - mae: 0.6003\n",
            "Epoch 62/500\n",
            "1/1 [==============================] - 0s 10ms/step - loss: 0.3886 - mae: 0.3886\n",
            "Epoch 63/500\n",
            "1/1 [==============================] - 0s 10ms/step - loss: 0.3266 - mae: 0.3266\n",
            "Epoch 64/500\n",
            "1/1 [==============================] - 0s 10ms/step - loss: 0.4581 - mae: 0.4581\n",
            "Epoch 65/500\n",
            "1/1 [==============================] - 0s 9ms/step - loss: 0.4028 - mae: 0.4028\n",
            "Epoch 66/500\n",
            "1/1 [==============================] - 0s 9ms/step - loss: 0.5154 - mae: 0.5154\n",
            "Epoch 67/500\n",
            "1/1 [==============================] - 0s 14ms/step - loss: 0.4772 - mae: 0.4772\n",
            "Epoch 68/500\n",
            "1/1 [==============================] - 0s 10ms/step - loss: 0.3231 - mae: 0.3231\n",
            "Epoch 69/500\n",
            "1/1 [==============================] - 0s 11ms/step - loss: 0.2329 - mae: 0.2329\n",
            "Epoch 70/500\n",
            "1/1 [==============================] - 0s 10ms/step - loss: 0.4817 - mae: 0.4817\n",
            "Epoch 71/500\n",
            "1/1 [==============================] - 0s 9ms/step - loss: 0.4236 - mae: 0.4236\n",
            "Epoch 72/500\n",
            "1/1 [==============================] - 0s 11ms/step - loss: 0.4372 - mae: 0.4372\n",
            "Epoch 73/500\n",
            "1/1 [==============================] - 0s 14ms/step - loss: 0.4025 - mae: 0.4025\n",
            "Epoch 74/500\n",
            "1/1 [==============================] - 0s 11ms/step - loss: 0.3563 - mae: 0.3563\n",
            "Epoch 75/500\n",
            "1/1 [==============================] - 0s 11ms/step - loss: 0.3706 - mae: 0.3706\n",
            "Epoch 76/500\n",
            "1/1 [==============================] - 0s 11ms/step - loss: 0.2649 - mae: 0.2649\n",
            "Epoch 77/500\n",
            "1/1 [==============================] - 0s 12ms/step - loss: 0.2350 - mae: 0.2350\n",
            "Epoch 78/500\n",
            "1/1 [==============================] - 0s 9ms/step - loss: 0.5127 - mae: 0.5127\n",
            "Epoch 79/500\n",
            "1/1 [==============================] - 0s 14ms/step - loss: 0.2544 - mae: 0.2544\n",
            "Epoch 80/500\n",
            "1/1 [==============================] - 0s 13ms/step - loss: 0.3839 - mae: 0.3839\n",
            "Epoch 81/500\n",
            "1/1 [==============================] - 0s 13ms/step - loss: 0.2634 - mae: 0.2634\n",
            "Epoch 82/500\n",
            "1/1 [==============================] - 0s 10ms/step - loss: 0.6258 - mae: 0.6258\n",
            "Epoch 83/500\n",
            "1/1 [==============================] - 0s 13ms/step - loss: 0.7127 - mae: 0.7127\n",
            "Epoch 84/500\n",
            "1/1 [==============================] - 0s 11ms/step - loss: 0.1826 - mae: 0.1826\n",
            "Epoch 85/500\n",
            "1/1 [==============================] - 0s 11ms/step - loss: 0.9614 - mae: 0.9614\n",
            "Epoch 86/500\n",
            "1/1 [==============================] - 0s 11ms/step - loss: 1.2563 - mae: 1.2563\n",
            "Epoch 87/500\n",
            "1/1 [==============================] - 0s 8ms/step - loss: 0.8034 - mae: 0.8034\n",
            "Epoch 88/500\n",
            "1/1 [==============================] - 0s 12ms/step - loss: 0.4376 - mae: 0.4376\n",
            "Epoch 89/500\n",
            "1/1 [==============================] - 0s 14ms/step - loss: 0.6803 - mae: 0.6803\n",
            "Epoch 90/500\n",
            "1/1 [==============================] - 0s 11ms/step - loss: 0.3356 - mae: 0.3356\n",
            "Epoch 91/500\n",
            "1/1 [==============================] - 0s 11ms/step - loss: 0.6652 - mae: 0.6652\n",
            "Epoch 92/500\n",
            "1/1 [==============================] - 0s 11ms/step - loss: 0.7538 - mae: 0.7538\n",
            "Epoch 93/500\n",
            "1/1 [==============================] - 0s 15ms/step - loss: 0.1467 - mae: 0.1467\n",
            "Epoch 94/500\n",
            "1/1 [==============================] - 0s 16ms/step - loss: 0.8616 - mae: 0.8616\n",
            "Epoch 95/500\n",
            "1/1 [==============================] - 0s 12ms/step - loss: 1.0915 - mae: 1.0915\n",
            "Epoch 96/500\n",
            "1/1 [==============================] - 0s 15ms/step - loss: 0.6930 - mae: 0.6930\n",
            "Epoch 97/500\n",
            "1/1 [==============================] - 0s 11ms/step - loss: 0.3786 - mae: 0.3786\n",
            "Epoch 98/500\n",
            "1/1 [==============================] - 0s 11ms/step - loss: 0.7351 - mae: 0.7351\n",
            "Epoch 99/500\n",
            "1/1 [==============================] - 0s 15ms/step - loss: 0.4007 - mae: 0.4007\n",
            "Epoch 100/500\n",
            "1/1 [==============================] - 0s 12ms/step - loss: 0.6746 - mae: 0.6746\n",
            "Epoch 101/500\n",
            "1/1 [==============================] - 0s 10ms/step - loss: 0.9311 - mae: 0.9311\n",
            "Epoch 102/500\n",
            "1/1 [==============================] - 0s 13ms/step - loss: 0.6280 - mae: 0.6280\n",
            "Epoch 103/500\n",
            "1/1 [==============================] - 0s 11ms/step - loss: 0.2609 - mae: 0.2609\n",
            "Epoch 104/500\n",
            "1/1 [==============================] - 0s 10ms/step - loss: 0.4265 - mae: 0.4265\n",
            "Epoch 105/500\n",
            "1/1 [==============================] - 0s 12ms/step - loss: 0.1416 - mae: 0.1416\n",
            "Epoch 106/500\n",
            "1/1 [==============================] - 0s 12ms/step - loss: 0.1983 - mae: 0.1983\n",
            "Epoch 107/500\n",
            "1/1 [==============================] - 0s 15ms/step - loss: 0.3478 - mae: 0.3478\n",
            "Epoch 108/500\n",
            "1/1 [==============================] - 0s 12ms/step - loss: 0.1869 - mae: 0.1869\n",
            "Epoch 109/500\n",
            "1/1 [==============================] - 0s 10ms/step - loss: 0.4495 - mae: 0.4495\n",
            "Epoch 110/500\n",
            "1/1 [==============================] - 0s 15ms/step - loss: 0.4260 - mae: 0.4260\n",
            "Epoch 111/500\n",
            "1/1 [==============================] - 0s 12ms/step - loss: 0.1925 - mae: 0.1925\n",
            "Epoch 112/500\n",
            "1/1 [==============================] - 0s 11ms/step - loss: 0.1258 - mae: 0.1258\n",
            "Epoch 113/500\n",
            "1/1 [==============================] - 0s 10ms/step - loss: 0.1827 - mae: 0.1827\n",
            "Epoch 114/500\n",
            "1/1 [==============================] - 0s 11ms/step - loss: 0.1946 - mae: 0.1946\n",
            "Epoch 115/500\n",
            "1/1 [==============================] - 0s 10ms/step - loss: 0.1245 - mae: 0.1245\n",
            "Epoch 116/500\n",
            "1/1 [==============================] - 0s 11ms/step - loss: 0.2387 - mae: 0.2387\n",
            "Epoch 117/500\n",
            "1/1 [==============================] - 0s 10ms/step - loss: 0.1125 - mae: 0.1125\n",
            "Epoch 118/500\n",
            "1/1 [==============================] - 0s 17ms/step - loss: 0.0964 - mae: 0.0964\n",
            "Epoch 119/500\n",
            "1/1 [==============================] - 0s 11ms/step - loss: 0.1154 - mae: 0.1154\n",
            "Epoch 120/500\n",
            "1/1 [==============================] - 0s 11ms/step - loss: 0.1545 - mae: 0.1545\n",
            "Epoch 121/500\n",
            "1/1 [==============================] - 0s 12ms/step - loss: 0.2522 - mae: 0.2522\n",
            "Epoch 122/500\n",
            "1/1 [==============================] - 0s 12ms/step - loss: 0.0879 - mae: 0.0879\n",
            "Epoch 123/500\n",
            "1/1 [==============================] - 0s 11ms/step - loss: 0.1539 - mae: 0.1539\n",
            "Epoch 124/500\n",
            "1/1 [==============================] - 0s 11ms/step - loss: 0.3245 - mae: 0.3245\n",
            "Epoch 125/500\n",
            "1/1 [==============================] - 0s 13ms/step - loss: 0.1296 - mae: 0.1296\n",
            "Epoch 126/500\n",
            "1/1 [==============================] - 0s 11ms/step - loss: 0.6585 - mae: 0.6585\n",
            "Epoch 127/500\n",
            "1/1 [==============================] - 0s 11ms/step - loss: 0.7049 - mae: 0.7049\n",
            "Epoch 128/500\n",
            "1/1 [==============================] - 0s 20ms/step - loss: 0.1999 - mae: 0.1999\n",
            "Epoch 129/500\n",
            "1/1 [==============================] - 0s 12ms/step - loss: 0.9144 - mae: 0.9144\n",
            "Epoch 130/500\n",
            "1/1 [==============================] - 0s 10ms/step - loss: 1.2202 - mae: 1.2202\n",
            "Epoch 131/500\n",
            "1/1 [==============================] - 0s 12ms/step - loss: 0.9955 - mae: 0.9955\n",
            "Epoch 132/500\n",
            "1/1 [==============================] - 0s 12ms/step - loss: 0.3385 - mae: 0.3385\n",
            "Epoch 133/500\n",
            "1/1 [==============================] - 0s 12ms/step - loss: 1.0770 - mae: 1.0770\n",
            "Epoch 134/500\n",
            "1/1 [==============================] - 0s 12ms/step - loss: 1.5594 - mae: 1.5594\n",
            "Epoch 135/500\n",
            "1/1 [==============================] - 0s 12ms/step - loss: 1.2871 - mae: 1.2871\n",
            "Epoch 136/500\n",
            "1/1 [==============================] - 0s 13ms/step - loss: 0.4460 - mae: 0.4460\n",
            "Epoch 137/500\n",
            "1/1 [==============================] - 0s 10ms/step - loss: 0.8408 - mae: 0.8408\n",
            "Epoch 138/500\n",
            "1/1 [==============================] - 0s 11ms/step - loss: 1.3472 - mae: 1.3472\n",
            "Epoch 139/500\n",
            "1/1 [==============================] - 0s 11ms/step - loss: 1.2868 - mae: 1.2868\n",
            "Epoch 140/500\n",
            "1/1 [==============================] - 0s 17ms/step - loss: 0.7356 - mae: 0.7356\n",
            "Epoch 141/500\n",
            "1/1 [==============================] - 0s 10ms/step - loss: 0.3443 - mae: 0.3443\n",
            "Epoch 142/500\n",
            "1/1 [==============================] - 0s 11ms/step - loss: 0.7217 - mae: 0.7217\n",
            "Epoch 143/500\n",
            "1/1 [==============================] - 0s 12ms/step - loss: 0.4389 - mae: 0.4389\n",
            "Epoch 144/500\n",
            "1/1 [==============================] - 0s 10ms/step - loss: 0.4300 - mae: 0.4300\n",
            "Epoch 145/500\n",
            "1/1 [==============================] - 0s 12ms/step - loss: 0.6595 - mae: 0.6595\n",
            "Epoch 146/500\n",
            "1/1 [==============================] - 0s 12ms/step - loss: 0.3597 - mae: 0.3597\n",
            "Epoch 147/500\n",
            "1/1 [==============================] - 0s 14ms/step - loss: 0.5660 - mae: 0.5660\n",
            "Epoch 148/500\n",
            "1/1 [==============================] - 0s 10ms/step - loss: 0.7698 - mae: 0.7698\n",
            "Epoch 149/500\n",
            "1/1 [==============================] - 0s 12ms/step - loss: 0.3994 - mae: 0.3994\n",
            "Epoch 150/500\n",
            "1/1 [==============================] - 0s 11ms/step - loss: 0.4675 - mae: 0.4675\n",
            "Epoch 151/500\n",
            "1/1 [==============================] - 0s 11ms/step - loss: 0.7138 - mae: 0.7138\n",
            "Epoch 152/500\n",
            "1/1 [==============================] - 0s 14ms/step - loss: 0.4980 - mae: 0.4980\n",
            "Epoch 153/500\n",
            "1/1 [==============================] - 0s 12ms/step - loss: 0.2730 - mae: 0.2730\n",
            "Epoch 154/500\n",
            "1/1 [==============================] - 0s 12ms/step - loss: 0.4796 - mae: 0.4796\n",
            "Epoch 155/500\n",
            "1/1 [==============================] - 0s 9ms/step - loss: 0.2905 - mae: 0.2905\n",
            "Epoch 156/500\n",
            "1/1 [==============================] - 0s 11ms/step - loss: 0.4180 - mae: 0.4180\n",
            "Epoch 157/500\n",
            "1/1 [==============================] - 0s 11ms/step - loss: 0.3364 - mae: 0.3364\n",
            "Epoch 158/500\n",
            "1/1 [==============================] - 0s 18ms/step - loss: 0.3172 - mae: 0.3172\n",
            "Epoch 159/500\n",
            "1/1 [==============================] - 0s 12ms/step - loss: 0.3253 - mae: 0.3253\n",
            "Epoch 160/500\n",
            "1/1 [==============================] - 0s 12ms/step - loss: 0.2234 - mae: 0.2234\n",
            "Epoch 161/500\n",
            "1/1 [==============================] - 0s 10ms/step - loss: 0.2285 - mae: 0.2285\n",
            "Epoch 162/500\n",
            "1/1 [==============================] - 0s 11ms/step - loss: 0.2902 - mae: 0.2902\n",
            "Epoch 163/500\n",
            "1/1 [==============================] - 0s 12ms/step - loss: 0.2144 - mae: 0.2144\n",
            "Epoch 164/500\n",
            "1/1 [==============================] - 0s 13ms/step - loss: 0.2463 - mae: 0.2463\n",
            "Epoch 165/500\n",
            "1/1 [==============================] - 0s 12ms/step - loss: 0.1289 - mae: 0.1289\n",
            "Epoch 166/500\n",
            "1/1 [==============================] - 0s 9ms/step - loss: 0.2038 - mae: 0.2038\n",
            "Epoch 167/500\n",
            "1/1 [==============================] - 0s 11ms/step - loss: 0.1119 - mae: 0.1119\n",
            "Epoch 168/500\n",
            "1/1 [==============================] - 0s 13ms/step - loss: 0.2592 - mae: 0.2592\n",
            "Epoch 169/500\n",
            "1/1 [==============================] - 0s 11ms/step - loss: 0.0825 - mae: 0.0825\n",
            "Epoch 170/500\n",
            "1/1 [==============================] - 0s 10ms/step - loss: 0.1297 - mae: 0.1297\n",
            "Epoch 171/500\n",
            "1/1 [==============================] - 0s 13ms/step - loss: 0.1456 - mae: 0.1456\n",
            "Epoch 172/500\n",
            "1/1 [==============================] - 0s 10ms/step - loss: 0.1659 - mae: 0.1659\n",
            "Epoch 173/500\n",
            "1/1 [==============================] - 0s 11ms/step - loss: 0.1192 - mae: 0.1192\n",
            "Epoch 174/500\n",
            "1/1 [==============================] - 0s 11ms/step - loss: 0.1884 - mae: 0.1884\n",
            "Epoch 175/500\n",
            "1/1 [==============================] - 0s 10ms/step - loss: 0.0969 - mae: 0.0969\n",
            "Epoch 176/500\n",
            "1/1 [==============================] - 0s 10ms/step - loss: 0.2272 - mae: 0.2272\n",
            "Epoch 177/500\n",
            "1/1 [==============================] - 0s 11ms/step - loss: 0.0476 - mae: 0.0476\n",
            "Epoch 178/500\n",
            "1/1 [==============================] - 0s 11ms/step - loss: 0.1323 - mae: 0.1323\n",
            "Epoch 179/500\n",
            "1/1 [==============================] - 0s 9ms/step - loss: 0.2823 - mae: 0.2823\n",
            "Epoch 180/500\n",
            "1/1 [==============================] - 0s 10ms/step - loss: 0.1346 - mae: 0.1346\n",
            "Epoch 181/500\n",
            "1/1 [==============================] - 0s 10ms/step - loss: 0.5286 - mae: 0.5286\n",
            "Epoch 182/500\n",
            "1/1 [==============================] - 0s 10ms/step - loss: 0.6067 - mae: 0.6067\n",
            "Epoch 183/500\n",
            "1/1 [==============================] - 0s 10ms/step - loss: 0.2529 - mae: 0.2529\n",
            "Epoch 184/500\n",
            "1/1 [==============================] - 0s 10ms/step - loss: 0.6126 - mae: 0.6126\n",
            "Epoch 185/500\n",
            "1/1 [==============================] - 0s 11ms/step - loss: 0.6997 - mae: 0.6997\n",
            "Epoch 186/500\n",
            "1/1 [==============================] - 0s 10ms/step - loss: 0.2984 - mae: 0.2984\n",
            "Epoch 187/500\n",
            "1/1 [==============================] - 0s 10ms/step - loss: 0.7315 - mae: 0.7315\n",
            "Epoch 188/500\n",
            "1/1 [==============================] - 0s 10ms/step - loss: 0.9792 - mae: 0.9792\n",
            "Epoch 189/500\n",
            "1/1 [==============================] - 0s 10ms/step - loss: 0.7025 - mae: 0.7025\n",
            "Epoch 190/500\n",
            "1/1 [==============================] - 0s 11ms/step - loss: 0.0952 - mae: 0.0952\n",
            "Epoch 191/500\n",
            "1/1 [==============================] - 0s 12ms/step - loss: 0.4469 - mae: 0.4469\n",
            "Epoch 192/500\n",
            "1/1 [==============================] - 0s 10ms/step - loss: 0.2057 - mae: 0.2057\n",
            "Epoch 193/500\n",
            "1/1 [==============================] - 0s 10ms/step - loss: 0.6212 - mae: 0.6212\n",
            "Epoch 194/500\n",
            "1/1 [==============================] - 0s 10ms/step - loss: 0.7945 - mae: 0.7945\n",
            "Epoch 195/500\n",
            "1/1 [==============================] - 0s 10ms/step - loss: 0.5094 - mae: 0.5094\n",
            "Epoch 196/500\n",
            "1/1 [==============================] - 0s 10ms/step - loss: 0.2970 - mae: 0.2970\n",
            "Epoch 197/500\n",
            "1/1 [==============================] - 0s 10ms/step - loss: 0.5033 - mae: 0.5033\n",
            "Epoch 198/500\n",
            "1/1 [==============================] - 0s 10ms/step - loss: 0.1618 - mae: 0.1618\n",
            "Epoch 199/500\n",
            "1/1 [==============================] - 0s 10ms/step - loss: 0.6709 - mae: 0.6709\n",
            "Epoch 200/500\n",
            "1/1 [==============================] - 0s 9ms/step - loss: 0.9039 - mae: 0.9039\n",
            "Epoch 201/500\n",
            "1/1 [==============================] - 0s 9ms/step - loss: 0.6583 - mae: 0.6583\n",
            "Epoch 202/500\n",
            "1/1 [==============================] - 0s 10ms/step - loss: 0.0871 - mae: 0.0871\n",
            "Epoch 203/500\n",
            "1/1 [==============================] - 0s 10ms/step - loss: 0.3467 - mae: 0.3467\n",
            "Epoch 204/500\n",
            "1/1 [==============================] - 0s 9ms/step - loss: 0.0616 - mae: 0.0616\n",
            "Epoch 205/500\n",
            "1/1 [==============================] - 0s 10ms/step - loss: 0.6019 - mae: 0.6019\n",
            "Epoch 206/500\n",
            "1/1 [==============================] - 0s 9ms/step - loss: 0.6641 - mae: 0.6641\n",
            "Epoch 207/500\n",
            "1/1 [==============================] - 0s 9ms/step - loss: 0.2219 - mae: 0.2219\n",
            "Epoch 208/500\n",
            "1/1 [==============================] - 0s 9ms/step - loss: 0.7235 - mae: 0.7235\n",
            "Epoch 209/500\n",
            "1/1 [==============================] - 0s 8ms/step - loss: 1.0222 - mae: 1.0222\n",
            "Epoch 210/500\n",
            "1/1 [==============================] - 0s 9ms/step - loss: 0.7028 - mae: 0.7028\n",
            "Epoch 211/500\n",
            "1/1 [==============================] - 0s 12ms/step - loss: 0.1310 - mae: 0.1310\n",
            "Epoch 212/500\n",
            "1/1 [==============================] - 0s 9ms/step - loss: 0.3434 - mae: 0.3434\n",
            "Epoch 213/500\n",
            "1/1 [==============================] - 0s 10ms/step - loss: 0.0478 - mae: 0.0478\n",
            "Epoch 214/500\n",
            "1/1 [==============================] - 0s 17ms/step - loss: 0.3584 - mae: 0.3584\n",
            "Epoch 215/500\n",
            "1/1 [==============================] - 0s 9ms/step - loss: 0.1669 - mae: 0.1669\n",
            "Epoch 216/500\n",
            "1/1 [==============================] - 0s 10ms/step - loss: 0.5187 - mae: 0.5187\n",
            "Epoch 217/500\n",
            "1/1 [==============================] - 0s 10ms/step - loss: 0.5796 - mae: 0.5796\n",
            "Epoch 218/500\n",
            "1/1 [==============================] - 0s 10ms/step - loss: 0.1394 - mae: 0.1394\n",
            "Epoch 219/500\n",
            "1/1 [==============================] - 0s 14ms/step - loss: 0.8362 - mae: 0.8362\n",
            "Epoch 220/500\n",
            "1/1 [==============================] - 0s 9ms/step - loss: 1.0427 - mae: 1.0427\n",
            "Epoch 221/500\n",
            "1/1 [==============================] - 0s 13ms/step - loss: 0.6404 - mae: 0.6404\n",
            "Epoch 222/500\n",
            "1/1 [==============================] - 0s 9ms/step - loss: 0.2709 - mae: 0.2709\n",
            "Epoch 223/500\n",
            "1/1 [==============================] - 0s 11ms/step - loss: 0.5051 - mae: 0.5051\n",
            "Epoch 224/500\n",
            "1/1 [==============================] - 0s 9ms/step - loss: 0.2103 - mae: 0.2103\n",
            "Epoch 225/500\n",
            "1/1 [==============================] - 0s 9ms/step - loss: 0.5892 - mae: 0.5892\n",
            "Epoch 226/500\n",
            "1/1 [==============================] - 0s 9ms/step - loss: 0.7600 - mae: 0.7600\n",
            "Epoch 227/500\n",
            "1/1 [==============================] - 0s 10ms/step - loss: 0.3472 - mae: 0.3472\n",
            "Epoch 228/500\n",
            "1/1 [==============================] - 0s 10ms/step - loss: 0.5450 - mae: 0.5450\n",
            "Epoch 229/500\n",
            "1/1 [==============================] - 0s 10ms/step - loss: 0.8353 - mae: 0.8353\n",
            "Epoch 230/500\n",
            "1/1 [==============================] - 0s 12ms/step - loss: 0.6423 - mae: 0.6423\n",
            "Epoch 231/500\n",
            "1/1 [==============================] - 0s 9ms/step - loss: 0.0943 - mae: 0.0943\n",
            "Epoch 232/500\n",
            "1/1 [==============================] - 0s 9ms/step - loss: 0.5888 - mae: 0.5888\n",
            "Epoch 233/500\n",
            "1/1 [==============================] - 0s 9ms/step - loss: 0.5665 - mae: 0.5665\n",
            "Epoch 234/500\n",
            "1/1 [==============================] - 0s 9ms/step - loss: 0.1111 - mae: 0.1111\n",
            "Epoch 235/500\n",
            "1/1 [==============================] - 0s 11ms/step - loss: 0.7060 - mae: 0.7060\n",
            "Epoch 236/500\n",
            "1/1 [==============================] - 0s 11ms/step - loss: 0.8733 - mae: 0.8733\n",
            "Epoch 237/500\n",
            "1/1 [==============================] - 0s 13ms/step - loss: 0.5867 - mae: 0.5867\n",
            "Epoch 238/500\n",
            "1/1 [==============================] - 0s 11ms/step - loss: 0.1269 - mae: 0.1269\n",
            "Epoch 239/500\n",
            "1/1 [==============================] - 0s 12ms/step - loss: 0.2532 - mae: 0.2532\n",
            "Epoch 240/500\n",
            "1/1 [==============================] - 0s 13ms/step - loss: 0.1895 - mae: 0.1895\n",
            "Epoch 241/500\n",
            "1/1 [==============================] - 0s 10ms/step - loss: 0.2021 - mae: 0.2021\n",
            "Epoch 242/500\n",
            "1/1 [==============================] - 0s 9ms/step - loss: 0.3151 - mae: 0.3151\n",
            "Epoch 243/500\n",
            "1/1 [==============================] - 0s 9ms/step - loss: 0.2357 - mae: 0.2357\n",
            "Epoch 244/500\n",
            "1/1 [==============================] - 0s 12ms/step - loss: 0.3709 - mae: 0.3709\n",
            "Epoch 245/500\n",
            "1/1 [==============================] - 0s 9ms/step - loss: 0.3022 - mae: 0.3022\n",
            "Epoch 246/500\n",
            "1/1 [==============================] - 0s 11ms/step - loss: 0.2440 - mae: 0.2440\n",
            "Epoch 247/500\n",
            "1/1 [==============================] - 0s 12ms/step - loss: 0.2368 - mae: 0.2368\n",
            "Epoch 248/500\n",
            "1/1 [==============================] - 0s 10ms/step - loss: 0.4307 - mae: 0.4307\n",
            "Epoch 249/500\n",
            "1/1 [==============================] - 0s 12ms/step - loss: 0.4423 - mae: 0.4423\n",
            "Epoch 250/500\n",
            "1/1 [==============================] - 0s 10ms/step - loss: 0.0866 - mae: 0.0866\n",
            "Epoch 251/500\n",
            "1/1 [==============================] - 0s 11ms/step - loss: 0.2114 - mae: 0.2114\n",
            "Epoch 252/500\n",
            "1/1 [==============================] - 0s 16ms/step - loss: 0.1286 - mae: 0.1286\n",
            "Epoch 253/500\n",
            "1/1 [==============================] - 0s 9ms/step - loss: 0.1629 - mae: 0.1629\n",
            "Epoch 254/500\n",
            "1/1 [==============================] - 0s 9ms/step - loss: 0.3664 - mae: 0.3664\n",
            "Epoch 255/500\n",
            "1/1 [==============================] - 0s 12ms/step - loss: 0.3154 - mae: 0.3154\n",
            "Epoch 256/500\n",
            "1/1 [==============================] - 0s 11ms/step - loss: 0.1846 - mae: 0.1846\n",
            "Epoch 257/500\n",
            "1/1 [==============================] - 0s 11ms/step - loss: 0.2369 - mae: 0.2369\n",
            "Epoch 258/500\n",
            "1/1 [==============================] - 0s 11ms/step - loss: 0.2112 - mae: 0.2112\n",
            "Epoch 259/500\n",
            "1/1 [==============================] - 0s 10ms/step - loss: 0.0391 - mae: 0.0391\n",
            "Epoch 260/500\n",
            "1/1 [==============================] - 0s 13ms/step - loss: 0.3178 - mae: 0.3178\n",
            "Epoch 261/500\n",
            "1/1 [==============================] - 0s 10ms/step - loss: 0.1553 - mae: 0.1553\n",
            "Epoch 262/500\n",
            "1/1 [==============================] - 0s 14ms/step - loss: 0.5892 - mae: 0.5892\n",
            "Epoch 263/500\n",
            "1/1 [==============================] - 0s 9ms/step - loss: 0.6835 - mae: 0.6835\n",
            "Epoch 264/500\n",
            "1/1 [==============================] - 0s 8ms/step - loss: 0.3137 - mae: 0.3137\n",
            "Epoch 265/500\n",
            "1/1 [==============================] - 0s 10ms/step - loss: 0.4313 - mae: 0.4313\n",
            "Epoch 266/500\n",
            "1/1 [==============================] - 0s 9ms/step - loss: 0.6658 - mae: 0.6658\n",
            "Epoch 267/500\n",
            "1/1 [==============================] - 0s 11ms/step - loss: 0.4771 - mae: 0.4771\n",
            "Epoch 268/500\n",
            "1/1 [==============================] - 0s 10ms/step - loss: 0.2592 - mae: 0.2592\n",
            "Epoch 269/500\n",
            "1/1 [==============================] - 0s 13ms/step - loss: 0.3214 - mae: 0.3214\n",
            "Epoch 270/500\n",
            "1/1 [==============================] - 0s 13ms/step - loss: 0.1217 - mae: 0.1217\n",
            "Epoch 271/500\n",
            "1/1 [==============================] - 0s 15ms/step - loss: 0.0947 - mae: 0.0947\n",
            "Epoch 272/500\n",
            "1/1 [==============================] - 0s 14ms/step - loss: 0.1317 - mae: 0.1317\n",
            "Epoch 273/500\n",
            "1/1 [==============================] - 0s 12ms/step - loss: 0.2526 - mae: 0.2526\n",
            "Epoch 274/500\n",
            "1/1 [==============================] - 0s 12ms/step - loss: 0.1157 - mae: 0.1157\n",
            "Epoch 275/500\n",
            "1/1 [==============================] - 0s 11ms/step - loss: 0.4313 - mae: 0.4313\n",
            "Epoch 276/500\n",
            "1/1 [==============================] - 0s 13ms/step - loss: 0.3535 - mae: 0.3535\n",
            "Epoch 277/500\n",
            "1/1 [==============================] - 0s 12ms/step - loss: 0.2029 - mae: 0.2029\n",
            "Epoch 278/500\n",
            "1/1 [==============================] - 0s 14ms/step - loss: 0.2512 - mae: 0.2512\n",
            "Epoch 279/500\n",
            "1/1 [==============================] - 0s 13ms/step - loss: 0.1884 - mae: 0.1884\n",
            "Epoch 280/500\n",
            "1/1 [==============================] - 0s 14ms/step - loss: 0.0969 - mae: 0.0969\n",
            "Epoch 281/500\n",
            "1/1 [==============================] - 0s 13ms/step - loss: 0.4150 - mae: 0.4150\n",
            "Epoch 282/500\n",
            "1/1 [==============================] - 0s 14ms/step - loss: 0.4384 - mae: 0.4384\n",
            "Epoch 283/500\n",
            "1/1 [==============================] - 0s 11ms/step - loss: 0.0954 - mae: 0.0954\n",
            "Epoch 284/500\n",
            "1/1 [==============================] - 0s 15ms/step - loss: 0.6380 - mae: 0.6380\n",
            "Epoch 285/500\n",
            "1/1 [==============================] - 0s 12ms/step - loss: 0.7568 - mae: 0.7568\n",
            "Epoch 286/500\n",
            "1/1 [==============================] - 0s 11ms/step - loss: 0.4514 - mae: 0.4514\n",
            "Epoch 287/500\n",
            "1/1 [==============================] - 0s 13ms/step - loss: 0.3785 - mae: 0.3785\n",
            "Epoch 288/500\n",
            "1/1 [==============================] - 0s 12ms/step - loss: 0.5427 - mae: 0.5427\n",
            "Epoch 289/500\n",
            "1/1 [==============================] - 0s 11ms/step - loss: 0.2623 - mae: 0.2623\n",
            "Epoch 290/500\n",
            "1/1 [==============================] - 0s 12ms/step - loss: 0.4825 - mae: 0.4825\n",
            "Epoch 291/500\n",
            "1/1 [==============================] - 0s 10ms/step - loss: 0.6504 - mae: 0.6504\n",
            "Epoch 292/500\n",
            "1/1 [==============================] - 0s 13ms/step - loss: 0.2982 - mae: 0.2982\n",
            "Epoch 293/500\n",
            "1/1 [==============================] - 0s 10ms/step - loss: 0.5114 - mae: 0.5114\n",
            "Epoch 294/500\n",
            "1/1 [==============================] - 0s 12ms/step - loss: 0.7499 - mae: 0.7499\n",
            "Epoch 295/500\n",
            "1/1 [==============================] - 0s 12ms/step - loss: 0.5657 - mae: 0.5657\n",
            "Epoch 296/500\n",
            "1/1 [==============================] - 0s 8ms/step - loss: 0.0964 - mae: 0.0964\n",
            "Epoch 297/500\n",
            "1/1 [==============================] - 0s 8ms/step - loss: 0.4662 - mae: 0.4662\n",
            "Epoch 298/500\n",
            "1/1 [==============================] - 0s 8ms/step - loss: 0.3596 - mae: 0.3596\n",
            "Epoch 299/500\n",
            "1/1 [==============================] - 0s 9ms/step - loss: 0.2482 - mae: 0.2482\n",
            "Epoch 300/500\n",
            "1/1 [==============================] - 0s 11ms/step - loss: 0.3330 - mae: 0.3330\n",
            "Epoch 301/500\n",
            "1/1 [==============================] - 0s 8ms/step - loss: 0.0489 - mae: 0.0489\n",
            "Epoch 302/500\n",
            "1/1 [==============================] - 0s 10ms/step - loss: 0.1941 - mae: 0.1941\n",
            "Epoch 303/500\n",
            "1/1 [==============================] - 0s 8ms/step - loss: 0.1263 - mae: 0.1263\n",
            "Epoch 304/500\n",
            "1/1 [==============================] - 0s 8ms/step - loss: 0.0727 - mae: 0.0727\n",
            "Epoch 305/500\n",
            "1/1 [==============================] - 0s 9ms/step - loss: 0.2691 - mae: 0.2691\n",
            "Epoch 306/500\n",
            "1/1 [==============================] - 0s 8ms/step - loss: 0.1556 - mae: 0.1556\n",
            "Epoch 307/500\n",
            "1/1 [==============================] - 0s 9ms/step - loss: 0.3888 - mae: 0.3888\n",
            "Epoch 308/500\n",
            "1/1 [==============================] - 0s 8ms/step - loss: 0.3587 - mae: 0.3587\n",
            "Epoch 309/500\n",
            "1/1 [==============================] - 0s 9ms/step - loss: 0.1122 - mae: 0.1122\n",
            "Epoch 310/500\n",
            "1/1 [==============================] - 0s 8ms/step - loss: 0.0837 - mae: 0.0837\n",
            "Epoch 311/500\n",
            "1/1 [==============================] - 0s 8ms/step - loss: 0.0529 - mae: 0.0529\n",
            "Epoch 312/500\n",
            "1/1 [==============================] - 0s 10ms/step - loss: 0.1673 - mae: 0.1673\n",
            "Epoch 313/500\n",
            "1/1 [==============================] - 0s 12ms/step - loss: 0.2476 - mae: 0.2476\n",
            "Epoch 314/500\n",
            "1/1 [==============================] - 0s 13ms/step - loss: 0.1542 - mae: 0.1542\n",
            "Epoch 315/500\n",
            "1/1 [==============================] - 0s 9ms/step - loss: 0.1576 - mae: 0.1576\n",
            "Epoch 316/500\n",
            "1/1 [==============================] - 0s 10ms/step - loss: 0.2393 - mae: 0.2393\n",
            "Epoch 317/500\n",
            "1/1 [==============================] - 0s 12ms/step - loss: 0.1328 - mae: 0.1328\n",
            "Epoch 318/500\n",
            "1/1 [==============================] - 0s 13ms/step - loss: 0.4749 - mae: 0.4749\n",
            "Epoch 319/500\n",
            "1/1 [==============================] - 0s 13ms/step - loss: 0.5388 - mae: 0.5388\n",
            "Epoch 320/500\n",
            "1/1 [==============================] - 0s 10ms/step - loss: 0.1603 - mae: 0.1603\n",
            "Epoch 321/500\n",
            "1/1 [==============================] - 0s 11ms/step - loss: 0.5937 - mae: 0.5937\n",
            "Epoch 322/500\n",
            "1/1 [==============================] - 0s 11ms/step - loss: 0.8379 - mae: 0.8379\n",
            "Epoch 323/500\n",
            "1/1 [==============================] - 0s 13ms/step - loss: 0.7045 - mae: 0.7045\n",
            "Epoch 324/500\n",
            "1/1 [==============================] - 0s 11ms/step - loss: 0.2162 - mae: 0.2162\n",
            "Epoch 325/500\n",
            "1/1 [==============================] - 0s 10ms/step - loss: 0.6416 - mae: 0.6416\n",
            "Epoch 326/500\n",
            "1/1 [==============================] - 0s 10ms/step - loss: 0.8567 - mae: 0.8567\n",
            "Epoch 327/500\n",
            "1/1 [==============================] - 0s 9ms/step - loss: 0.6258 - mae: 0.6258\n",
            "Epoch 328/500\n",
            "1/1 [==============================] - 0s 10ms/step - loss: 0.1839 - mae: 0.1839\n",
            "Epoch 329/500\n",
            "1/1 [==============================] - 0s 10ms/step - loss: 0.5609 - mae: 0.5609\n",
            "Epoch 330/500\n",
            "1/1 [==============================] - 0s 10ms/step - loss: 0.4775 - mae: 0.4775\n",
            "Epoch 331/500\n",
            "1/1 [==============================] - 0s 12ms/step - loss: 0.1759 - mae: 0.1759\n",
            "Epoch 332/500\n",
            "1/1 [==============================] - 0s 14ms/step - loss: 0.1759 - mae: 0.1759\n",
            "Epoch 333/500\n",
            "1/1 [==============================] - 0s 10ms/step - loss: 0.1999 - mae: 0.1999\n",
            "Epoch 334/500\n",
            "1/1 [==============================] - 0s 12ms/step - loss: 0.1239 - mae: 0.1239\n",
            "Epoch 335/500\n",
            "1/1 [==============================] - 0s 13ms/step - loss: 0.4034 - mae: 0.4034\n",
            "Epoch 336/500\n",
            "1/1 [==============================] - 0s 12ms/step - loss: 0.3113 - mae: 0.3113\n",
            "Epoch 337/500\n",
            "1/1 [==============================] - 0s 11ms/step - loss: 0.2335 - mae: 0.2335\n",
            "Epoch 338/500\n",
            "1/1 [==============================] - 0s 13ms/step - loss: 0.2745 - mae: 0.2745\n",
            "Epoch 339/500\n",
            "1/1 [==============================] - 0s 11ms/step - loss: 0.1585 - mae: 0.1585\n",
            "Epoch 340/500\n",
            "1/1 [==============================] - 0s 12ms/step - loss: 0.1028 - mae: 0.1028\n",
            "Epoch 341/500\n",
            "1/1 [==============================] - 0s 12ms/step - loss: 0.3667 - mae: 0.3667\n",
            "Epoch 342/500\n",
            "1/1 [==============================] - 0s 11ms/step - loss: 0.3820 - mae: 0.3820\n",
            "Epoch 343/500\n",
            "1/1 [==============================] - 0s 9ms/step - loss: 0.0482 - mae: 0.0482\n",
            "Epoch 344/500\n",
            "1/1 [==============================] - 0s 9ms/step - loss: 0.6390 - mae: 0.6390\n",
            "Epoch 345/500\n",
            "1/1 [==============================] - 0s 8ms/step - loss: 0.7543 - mae: 0.7543\n",
            "Epoch 346/500\n",
            "1/1 [==============================] - 0s 11ms/step - loss: 0.4637 - mae: 0.4637\n",
            "Epoch 347/500\n",
            "1/1 [==============================] - 0s 11ms/step - loss: 0.3098 - mae: 0.3098\n",
            "Epoch 348/500\n",
            "1/1 [==============================] - 0s 12ms/step - loss: 0.4618 - mae: 0.4618\n",
            "Epoch 349/500\n",
            "1/1 [==============================] - 0s 11ms/step - loss: 0.1724 - mae: 0.1724\n",
            "Epoch 350/500\n",
            "1/1 [==============================] - 0s 9ms/step - loss: 0.5421 - mae: 0.5421\n",
            "Epoch 351/500\n",
            "1/1 [==============================] - 0s 9ms/step - loss: 0.7228 - mae: 0.7228\n",
            "Epoch 352/500\n",
            "1/1 [==============================] - 0s 9ms/step - loss: 0.4040 - mae: 0.4040\n",
            "Epoch 353/500\n",
            "1/1 [==============================] - 0s 8ms/step - loss: 0.3935 - mae: 0.3935\n",
            "Epoch 354/500\n",
            "1/1 [==============================] - 0s 9ms/step - loss: 0.6155 - mae: 0.6155\n",
            "Epoch 355/500\n",
            "1/1 [==============================] - 0s 8ms/step - loss: 0.4513 - mae: 0.4513\n",
            "Epoch 356/500\n",
            "1/1 [==============================] - 0s 9ms/step - loss: 0.1315 - mae: 0.1315\n",
            "Epoch 357/500\n",
            "1/1 [==============================] - 0s 9ms/step - loss: 0.2451 - mae: 0.2451\n",
            "Epoch 358/500\n",
            "1/1 [==============================] - 0s 8ms/step - loss: 0.0619 - mae: 0.0619\n",
            "Epoch 359/500\n",
            "1/1 [==============================] - 0s 9ms/step - loss: 0.2498 - mae: 0.2498\n",
            "Epoch 360/500\n",
            "1/1 [==============================] - 0s 9ms/step - loss: 0.1079 - mae: 0.1079\n",
            "Epoch 361/500\n",
            "1/1 [==============================] - 0s 9ms/step - loss: 0.4685 - mae: 0.4685\n",
            "Epoch 362/500\n",
            "1/1 [==============================] - 0s 9ms/step - loss: 0.4768 - mae: 0.4768\n",
            "Epoch 363/500\n",
            "1/1 [==============================] - 0s 8ms/step - loss: 0.0878 - mae: 0.0878\n",
            "Epoch 364/500\n",
            "1/1 [==============================] - 0s 9ms/step - loss: 0.7257 - mae: 0.7257\n",
            "Epoch 365/500\n",
            "1/1 [==============================] - 0s 9ms/step - loss: 0.9870 - mae: 0.9870\n",
            "Epoch 366/500\n",
            "1/1 [==============================] - 0s 10ms/step - loss: 0.8317 - mae: 0.8317\n",
            "Epoch 367/500\n",
            "1/1 [==============================] - 0s 9ms/step - loss: 0.3403 - mae: 0.3403\n",
            "Epoch 368/500\n",
            "1/1 [==============================] - 0s 9ms/step - loss: 0.5572 - mae: 0.5572\n",
            "Epoch 369/500\n",
            "1/1 [==============================] - 0s 9ms/step - loss: 0.8845 - mae: 0.8845\n",
            "Epoch 370/500\n",
            "1/1 [==============================] - 0s 9ms/step - loss: 0.6958 - mae: 0.6958\n",
            "Epoch 371/500\n",
            "1/1 [==============================] - 0s 9ms/step - loss: 0.0528 - mae: 0.0528\n",
            "Epoch 372/500\n",
            "1/1 [==============================] - 0s 9ms/step - loss: 0.8073 - mae: 0.8073\n",
            "Epoch 373/500\n",
            "1/1 [==============================] - 0s 10ms/step - loss: 1.0521 - mae: 1.0521\n",
            "Epoch 374/500\n",
            "1/1 [==============================] - 0s 10ms/step - loss: 0.8673 - mae: 0.8673\n",
            "Epoch 375/500\n",
            "1/1 [==============================] - 0s 9ms/step - loss: 0.3308 - mae: 0.3308\n",
            "Epoch 376/500\n",
            "1/1 [==============================] - 0s 9ms/step - loss: 0.5595 - mae: 0.5595\n",
            "Epoch 377/500\n",
            "1/1 [==============================] - 0s 9ms/step - loss: 0.8989 - mae: 0.8989\n",
            "Epoch 378/500\n",
            "1/1 [==============================] - 0s 11ms/step - loss: 0.7269 - mae: 0.7269\n",
            "Epoch 379/500\n",
            "1/1 [==============================] - 0s 9ms/step - loss: 0.1551 - mae: 0.1551\n",
            "Epoch 380/500\n",
            "1/1 [==============================] - 0s 9ms/step - loss: 0.7839 - mae: 0.7839\n",
            "Epoch 381/500\n",
            "1/1 [==============================] - 0s 10ms/step - loss: 1.1718 - mae: 1.1718\n",
            "Epoch 382/500\n",
            "1/1 [==============================] - 0s 9ms/step - loss: 1.1467 - mae: 1.1467\n",
            "Epoch 383/500\n",
            "1/1 [==============================] - 0s 10ms/step - loss: 0.7493 - mae: 0.7493\n",
            "Epoch 384/500\n",
            "1/1 [==============================] - 0s 9ms/step - loss: 0.0997 - mae: 0.0997\n",
            "Epoch 385/500\n",
            "1/1 [==============================] - 0s 10ms/step - loss: 0.9893 - mae: 0.9893\n",
            "Epoch 386/500\n",
            "1/1 [==============================] - 0s 9ms/step - loss: 1.4109 - mae: 1.4109\n",
            "Epoch 387/500\n",
            "1/1 [==============================] - 0s 9ms/step - loss: 1.2948 - mae: 1.2948\n",
            "Epoch 388/500\n",
            "1/1 [==============================] - 0s 8ms/step - loss: 0.7077 - mae: 0.7077\n",
            "Epoch 389/500\n",
            "1/1 [==============================] - 0s 9ms/step - loss: 0.2434 - mae: 0.2434\n",
            "Epoch 390/500\n",
            "1/1 [==============================] - 0s 9ms/step - loss: 0.6581 - mae: 0.6581\n",
            "Epoch 391/500\n",
            "1/1 [==============================] - 0s 12ms/step - loss: 0.6377 - mae: 0.6377\n",
            "Epoch 392/500\n",
            "1/1 [==============================] - 0s 9ms/step - loss: 0.2588 - mae: 0.2588\n",
            "Epoch 393/500\n",
            "1/1 [==============================] - 0s 10ms/step - loss: 0.5195 - mae: 0.5195\n",
            "Epoch 394/500\n",
            "1/1 [==============================] - 0s 9ms/step - loss: 0.5940 - mae: 0.5940\n",
            "Epoch 395/500\n",
            "1/1 [==============================] - 0s 11ms/step - loss: 0.3796 - mae: 0.3796\n",
            "Epoch 396/500\n",
            "1/1 [==============================] - 0s 10ms/step - loss: 0.2576 - mae: 0.2576\n",
            "Epoch 397/500\n",
            "1/1 [==============================] - 0s 19ms/step - loss: 0.4287 - mae: 0.4287\n",
            "Epoch 398/500\n",
            "1/1 [==============================] - 0s 10ms/step - loss: 0.2257 - mae: 0.2257\n",
            "Epoch 399/500\n",
            "1/1 [==============================] - 0s 11ms/step - loss: 0.3746 - mae: 0.3746\n",
            "Epoch 400/500\n",
            "1/1 [==============================] - 0s 10ms/step - loss: 0.4441 - mae: 0.4441\n",
            "Epoch 401/500\n",
            "1/1 [==============================] - 0s 13ms/step - loss: 0.1684 - mae: 0.1684\n",
            "Epoch 402/500\n",
            "1/1 [==============================] - 0s 14ms/step - loss: 0.5361 - mae: 0.5361\n",
            "Epoch 403/500\n",
            "1/1 [==============================] - 0s 15ms/step - loss: 0.7159 - mae: 0.7159\n",
            "Epoch 404/500\n",
            "1/1 [==============================] - 0s 13ms/step - loss: 0.4971 - mae: 0.4971\n",
            "Epoch 405/500\n",
            "1/1 [==============================] - 0s 13ms/step - loss: 0.1000 - mae: 0.1000\n",
            "Epoch 406/500\n",
            "1/1 [==============================] - 0s 9ms/step - loss: 0.2296 - mae: 0.2296\n",
            "Epoch 407/500\n",
            "1/1 [==============================] - 0s 13ms/step - loss: 0.2180 - mae: 0.2180\n",
            "Epoch 408/500\n",
            "1/1 [==============================] - 0s 15ms/step - loss: 0.1471 - mae: 0.1471\n",
            "Epoch 409/500\n",
            "1/1 [==============================] - 0s 10ms/step - loss: 0.2151 - mae: 0.2151\n",
            "Epoch 410/500\n",
            "1/1 [==============================] - 0s 8ms/step - loss: 0.1445 - mae: 0.1445\n",
            "Epoch 411/500\n",
            "1/1 [==============================] - 0s 8ms/step - loss: 0.3767 - mae: 0.3767\n",
            "Epoch 412/500\n",
            "1/1 [==============================] - 0s 8ms/step - loss: 0.3328 - mae: 0.3328\n",
            "Epoch 413/500\n",
            "1/1 [==============================] - 0s 9ms/step - loss: 0.2493 - mae: 0.2493\n",
            "Epoch 414/500\n",
            "1/1 [==============================] - 0s 11ms/step - loss: 0.2593 - mae: 0.2593\n",
            "Epoch 415/500\n",
            "1/1 [==============================] - 0s 10ms/step - loss: 0.0972 - mae: 0.0972\n",
            "Epoch 416/500\n",
            "1/1 [==============================] - 0s 12ms/step - loss: 0.0726 - mae: 0.0726\n",
            "Epoch 417/500\n",
            "1/1 [==============================] - 0s 10ms/step - loss: 0.1712 - mae: 0.1712\n",
            "Epoch 418/500\n",
            "1/1 [==============================] - 0s 10ms/step - loss: 0.2146 - mae: 0.2146\n",
            "Epoch 419/500\n",
            "1/1 [==============================] - 0s 11ms/step - loss: 0.1289 - mae: 0.1289\n",
            "Epoch 420/500\n",
            "1/1 [==============================] - 0s 11ms/step - loss: 0.2716 - mae: 0.2716\n",
            "Epoch 421/500\n",
            "1/1 [==============================] - 0s 10ms/step - loss: 0.2629 - mae: 0.2629\n",
            "Epoch 422/500\n",
            "1/1 [==============================] - 0s 12ms/step - loss: 0.2280 - mae: 0.2280\n",
            "Epoch 423/500\n",
            "1/1 [==============================] - 0s 11ms/step - loss: 0.1890 - mae: 0.1890\n",
            "Epoch 424/500\n",
            "1/1 [==============================] - 0s 9ms/step - loss: 0.1756 - mae: 0.1756\n",
            "Epoch 425/500\n",
            "1/1 [==============================] - 0s 10ms/step - loss: 0.0753 - mae: 0.0753\n",
            "Epoch 426/500\n",
            "1/1 [==============================] - 0s 9ms/step - loss: 0.1843 - mae: 0.1843\n",
            "Epoch 427/500\n",
            "1/1 [==============================] - 0s 9ms/step - loss: 0.1141 - mae: 0.1141\n",
            "Epoch 428/500\n",
            "1/1 [==============================] - 0s 10ms/step - loss: 0.1968 - mae: 0.1968\n",
            "Epoch 429/500\n",
            "1/1 [==============================] - 0s 11ms/step - loss: 0.2737 - mae: 0.2737\n",
            "Epoch 430/500\n",
            "1/1 [==============================] - 0s 9ms/step - loss: 0.2047 - mae: 0.2047\n",
            "Epoch 431/500\n",
            "1/1 [==============================] - 0s 9ms/step - loss: 0.2171 - mae: 0.2171\n",
            "Epoch 432/500\n",
            "1/1 [==============================] - 0s 10ms/step - loss: 0.1789 - mae: 0.1789\n",
            "Epoch 433/500\n",
            "1/1 [==============================] - 0s 11ms/step - loss: 0.3879 - mae: 0.3879\n",
            "Epoch 434/500\n",
            "1/1 [==============================] - 0s 10ms/step - loss: 0.4076 - mae: 0.4076\n",
            "Epoch 435/500\n",
            "1/1 [==============================] - 0s 9ms/step - loss: 0.1423 - mae: 0.1423\n",
            "Epoch 436/500\n",
            "1/1 [==============================] - 0s 10ms/step - loss: 0.1171 - mae: 0.1171\n",
            "Epoch 437/500\n",
            "1/1 [==============================] - 0s 9ms/step - loss: 0.2847 - mae: 0.2847\n",
            "Epoch 438/500\n",
            "1/1 [==============================] - 0s 8ms/step - loss: 0.1964 - mae: 0.1964\n",
            "Epoch 439/500\n",
            "1/1 [==============================] - 0s 9ms/step - loss: 0.2972 - mae: 0.2972\n",
            "Epoch 440/500\n",
            "1/1 [==============================] - 0s 10ms/step - loss: 0.2719 - mae: 0.2719\n",
            "Epoch 441/500\n",
            "1/1 [==============================] - 0s 10ms/step - loss: 0.2764 - mae: 0.2764\n",
            "Epoch 442/500\n",
            "1/1 [==============================] - 0s 11ms/step - loss: 0.2909 - mae: 0.2909\n",
            "Epoch 443/500\n",
            "1/1 [==============================] - 0s 10ms/step - loss: 0.0550 - mae: 0.0550\n",
            "Epoch 444/500\n",
            "1/1 [==============================] - 0s 12ms/step - loss: 0.5079 - mae: 0.5079\n",
            "Epoch 445/500\n",
            "1/1 [==============================] - 0s 10ms/step - loss: 0.5934 - mae: 0.5934\n",
            "Epoch 446/500\n",
            "1/1 [==============================] - 0s 13ms/step - loss: 0.3203 - mae: 0.3203\n",
            "Epoch 447/500\n",
            "1/1 [==============================] - 0s 9ms/step - loss: 0.4371 - mae: 0.4371\n",
            "Epoch 448/500\n",
            "1/1 [==============================] - 0s 9ms/step - loss: 0.5837 - mae: 0.5837\n",
            "Epoch 449/500\n",
            "1/1 [==============================] - 0s 10ms/step - loss: 0.3551 - mae: 0.3551\n",
            "Epoch 450/500\n",
            "1/1 [==============================] - 0s 10ms/step - loss: 0.2888 - mae: 0.2888\n",
            "Epoch 451/500\n",
            "1/1 [==============================] - 0s 10ms/step - loss: 0.4713 - mae: 0.4713\n",
            "Epoch 452/500\n",
            "1/1 [==============================] - 0s 10ms/step - loss: 0.2193 - mae: 0.2193\n",
            "Epoch 453/500\n",
            "1/1 [==============================] - 0s 11ms/step - loss: 0.4511 - mae: 0.4511\n",
            "Epoch 454/500\n",
            "1/1 [==============================] - 0s 10ms/step - loss: 0.5945 - mae: 0.5945\n",
            "Epoch 455/500\n",
            "1/1 [==============================] - 0s 10ms/step - loss: 0.4014 - mae: 0.4014\n",
            "Epoch 456/500\n",
            "1/1 [==============================] - 0s 9ms/step - loss: 0.1750 - mae: 0.1750\n",
            "Epoch 457/500\n",
            "1/1 [==============================] - 0s 13ms/step - loss: 0.2941 - mae: 0.2941\n",
            "Epoch 458/500\n",
            "1/1 [==============================] - 0s 9ms/step - loss: 0.1127 - mae: 0.1127\n",
            "Epoch 459/500\n",
            "1/1 [==============================] - 0s 11ms/step - loss: 0.3892 - mae: 0.3892\n",
            "Epoch 460/500\n",
            "1/1 [==============================] - 0s 10ms/step - loss: 0.3443 - mae: 0.3443\n",
            "Epoch 461/500\n",
            "1/1 [==============================] - 0s 8ms/step - loss: 0.1280 - mae: 0.1280\n",
            "Epoch 462/500\n",
            "1/1 [==============================] - 0s 8ms/step - loss: 0.1430 - mae: 0.1430\n",
            "Epoch 463/500\n",
            "1/1 [==============================] - 0s 10ms/step - loss: 0.2924 - mae: 0.2924\n",
            "Epoch 464/500\n",
            "1/1 [==============================] - 0s 9ms/step - loss: 0.3192 - mae: 0.3192\n",
            "Epoch 465/500\n",
            "1/1 [==============================] - 0s 10ms/step - loss: 0.0963 - mae: 0.0963\n",
            "Epoch 466/500\n",
            "1/1 [==============================] - 0s 14ms/step - loss: 0.4211 - mae: 0.4211\n",
            "Epoch 467/500\n",
            "1/1 [==============================] - 0s 13ms/step - loss: 0.3957 - mae: 0.3957\n",
            "Epoch 468/500\n",
            "1/1 [==============================] - 0s 11ms/step - loss: 0.0971 - mae: 0.0971\n",
            "Epoch 469/500\n",
            "1/1 [==============================] - 0s 10ms/step - loss: 0.2666 - mae: 0.2666\n",
            "Epoch 470/500\n",
            "1/1 [==============================] - 0s 12ms/step - loss: 0.0855 - mae: 0.0855\n",
            "Epoch 471/500\n",
            "1/1 [==============================] - 0s 13ms/step - loss: 0.2194 - mae: 0.2194\n",
            "Epoch 472/500\n",
            "1/1 [==============================] - 0s 10ms/step - loss: 0.0466 - mae: 0.0466\n",
            "Epoch 473/500\n",
            "1/1 [==============================] - 0s 11ms/step - loss: 0.1575 - mae: 0.1575\n",
            "Epoch 474/500\n",
            "1/1 [==============================] - 0s 10ms/step - loss: 0.1428 - mae: 0.1428\n",
            "Epoch 475/500\n",
            "1/1 [==============================] - 0s 11ms/step - loss: 0.1446 - mae: 0.1446\n",
            "Epoch 476/500\n",
            "1/1 [==============================] - 0s 9ms/step - loss: 0.0451 - mae: 0.0451\n",
            "Epoch 477/500\n",
            "1/1 [==============================] - 0s 10ms/step - loss: 0.2674 - mae: 0.2674\n",
            "Epoch 478/500\n",
            "1/1 [==============================] - 0s 9ms/step - loss: 0.1454 - mae: 0.1454\n",
            "Epoch 479/500\n",
            "1/1 [==============================] - 0s 11ms/step - loss: 0.4307 - mae: 0.4307\n",
            "Epoch 480/500\n",
            "1/1 [==============================] - 0s 10ms/step - loss: 0.5397 - mae: 0.5397\n",
            "Epoch 481/500\n",
            "1/1 [==============================] - 0s 10ms/step - loss: 0.2777 - mae: 0.2777\n",
            "Epoch 482/500\n",
            "1/1 [==============================] - 0s 11ms/step - loss: 0.3032 - mae: 0.3032\n",
            "Epoch 483/500\n",
            "1/1 [==============================] - 0s 12ms/step - loss: 0.4389 - mae: 0.4389\n",
            "Epoch 484/500\n",
            "1/1 [==============================] - 0s 11ms/step - loss: 0.2411 - mae: 0.2411\n",
            "Epoch 485/500\n",
            "1/1 [==============================] - 0s 11ms/step - loss: 0.4231 - mae: 0.4231\n",
            "Epoch 486/500\n",
            "1/1 [==============================] - 0s 12ms/step - loss: 0.5244 - mae: 0.5244\n",
            "Epoch 487/500\n",
            "1/1 [==============================] - 0s 10ms/step - loss: 0.1951 - mae: 0.1951\n",
            "Epoch 488/500\n",
            "1/1 [==============================] - 0s 11ms/step - loss: 0.4885 - mae: 0.4885\n",
            "Epoch 489/500\n",
            "1/1 [==============================] - 0s 14ms/step - loss: 0.7050 - mae: 0.7050\n",
            "Epoch 490/500\n",
            "1/1 [==============================] - 0s 10ms/step - loss: 0.5284 - mae: 0.5284\n",
            "Epoch 491/500\n",
            "1/1 [==============================] - 0s 11ms/step - loss: 0.0370 - mae: 0.0370\n",
            "Epoch 492/500\n",
            "1/1 [==============================] - 0s 9ms/step - loss: 0.5572 - mae: 0.5572\n",
            "Epoch 493/500\n",
            "1/1 [==============================] - 0s 10ms/step - loss: 0.6234 - mae: 0.6234\n",
            "Epoch 494/500\n",
            "1/1 [==============================] - 0s 7ms/step - loss: 0.2551 - mae: 0.2551\n",
            "Epoch 495/500\n",
            "1/1 [==============================] - 0s 10ms/step - loss: 0.4569 - mae: 0.4569\n",
            "Epoch 496/500\n",
            "1/1 [==============================] - 0s 10ms/step - loss: 0.7030 - mae: 0.7030\n",
            "Epoch 497/500\n",
            "1/1 [==============================] - 0s 11ms/step - loss: 0.5573 - mae: 0.5573\n",
            "Epoch 498/500\n",
            "1/1 [==============================] - 0s 10ms/step - loss: 0.0727 - mae: 0.0727\n",
            "Epoch 499/500\n",
            "1/1 [==============================] - 0s 9ms/step - loss: 0.6142 - mae: 0.6142\n",
            "Epoch 500/500\n",
            "1/1 [==============================] - 0s 10ms/step - loss: 0.7923 - mae: 0.7923\n"
          ]
        },
        {
          "output_type": "execute_result",
          "data": {
            "text/plain": [
              "<keras.callbacks.History at 0x7facf639fc70>"
            ]
          },
          "metadata": {},
          "execution_count": 15
        }
      ]
    },
    {
      "cell_type": "code",
      "source": [
        "X, y"
      ],
      "metadata": {
        "colab": {
          "base_uri": "https://localhost:8080/"
        },
        "id": "s_R-XE0OIRFN",
        "outputId": "2511bc6e-d20a-4244-b24f-05c924fadd69"
      },
      "execution_count": 16,
      "outputs": [
        {
          "output_type": "execute_result",
          "data": {
            "text/plain": [
              "(<tf.Tensor: shape=(8,), dtype=float32, numpy=array([-7., -4., -1.,  2.,  5.,  8., 11., 14.], dtype=float32)>,\n",
              " <tf.Tensor: shape=(8,), dtype=float32, numpy=array([ 3.,  6.,  9., 12., 15., 18., 21., 24.], dtype=float32)>)"
            ]
          },
          "metadata": {},
          "execution_count": 16
        }
      ]
    },
    {
      "cell_type": "code",
      "source": [
        "y_pred = improved_model.predict([17.0])\n",
        "y_pred"
      ],
      "metadata": {
        "colab": {
          "base_uri": "https://localhost:8080/"
        },
        "id": "NATH_SjdIfUL",
        "outputId": "6e428275-cde7-4ff9-f7fc-f360068107ca"
      },
      "execution_count": 17,
      "outputs": [
        {
          "output_type": "stream",
          "name": "stdout",
          "text": [
            "1/1 [==============================] - 0s 108ms/step\n"
          ]
        },
        {
          "output_type": "execute_result",
          "data": {
            "text/plain": [
              "array([[28.356165]], dtype=float32)"
            ]
          },
          "metadata": {},
          "execution_count": 17
        }
      ]
    },
    {
      "cell_type": "markdown",
      "source": [
        "# **Evaluating**\n",
        "\n",
        "Lets start with creating larger dataset."
      ],
      "metadata": {
        "id": "en4DLX39jFto"
      }
    },
    {
      "cell_type": "code",
      "source": [
        "X = tf.range(-100, 100, 4)\n",
        "X\n",
        "# Numbers from -100 to 100 with a step size of 4"
      ],
      "metadata": {
        "colab": {
          "base_uri": "https://localhost:8080/"
        },
        "id": "sTNOGeHgIk5t",
        "outputId": "5cdf6c90-3abe-4c21-ae2f-430afa075db3"
      },
      "execution_count": 18,
      "outputs": [
        {
          "output_type": "execute_result",
          "data": {
            "text/plain": [
              "<tf.Tensor: shape=(50,), dtype=int32, numpy=\n",
              "array([-100,  -96,  -92,  -88,  -84,  -80,  -76,  -72,  -68,  -64,  -60,\n",
              "        -56,  -52,  -48,  -44,  -40,  -36,  -32,  -28,  -24,  -20,  -16,\n",
              "        -12,   -8,   -4,    0,    4,    8,   12,   16,   20,   24,   28,\n",
              "         32,   36,   40,   44,   48,   52,   56,   60,   64,   68,   72,\n",
              "         76,   80,   84,   88,   92,   96], dtype=int32)>"
            ]
          },
          "metadata": {},
          "execution_count": 18
        }
      ]
    },
    {
      "cell_type": "code",
      "source": [
        "# Creating labels for the dataset.\n",
        "y = X + 10\n",
        "y"
      ],
      "metadata": {
        "colab": {
          "base_uri": "https://localhost:8080/"
        },
        "id": "7GUWjC0AjfAl",
        "outputId": "ee8d707d-58fe-4da0-ca0a-03db130f66c8"
      },
      "execution_count": 19,
      "outputs": [
        {
          "output_type": "execute_result",
          "data": {
            "text/plain": [
              "<tf.Tensor: shape=(50,), dtype=int32, numpy=\n",
              "array([-90, -86, -82, -78, -74, -70, -66, -62, -58, -54, -50, -46, -42,\n",
              "       -38, -34, -30, -26, -22, -18, -14, -10,  -6,  -2,   2,   6,  10,\n",
              "        14,  18,  22,  26,  30,  34,  38,  42,  46,  50,  54,  58,  62,\n",
              "        66,  70,  74,  78,  82,  86,  90,  94,  98, 102, 106], dtype=int32)>"
            ]
          },
          "metadata": {},
          "execution_count": 19
        }
      ]
    },
    {
      "cell_type": "code",
      "source": [
        "# Visualize the data.\n",
        "import matplotlib.pyplot as plt\n",
        "plt.scatter(X, y)"
      ],
      "metadata": {
        "colab": {
          "base_uri": "https://localhost:8080/",
          "height": 282
        },
        "id": "wzIo7_yojspG",
        "outputId": "c4e640ef-7f71-42da-ff4e-5b69563bfa1f"
      },
      "execution_count": 20,
      "outputs": [
        {
          "output_type": "execute_result",
          "data": {
            "text/plain": [
              "<matplotlib.collections.PathCollection at 0x7facf620bac0>"
            ]
          },
          "metadata": {},
          "execution_count": 20
        },
        {
          "output_type": "display_data",
          "data": {
            "text/plain": [
              "<Figure size 432x288 with 1 Axes>"
            ],
            "image/png": "[encoded data removed]"
          },
          "metadata": {
            "needs_background": "light"
          }
        }
      ]
    },
    {
      "cell_type": "code",
      "source": [
        "plt.plot(X, y)"
      ],
      "metadata": {
        "colab": {
          "base_uri": "https://localhost:8080/",
          "height": 282
        },
        "id": "4_coOR_Bj51L",
        "outputId": "8c473766-10c7-4aca-b2d3-ffaf0c18bc58"
      },
      "execution_count": 21,
      "outputs": [
        {
          "output_type": "execute_result",
          "data": {
            "text/plain": [
              "[<matplotlib.lines.Line2D at 0x7facf617c280>]"
            ]
          },
          "metadata": {},
          "execution_count": 21
        },
        {
          "output_type": "display_data",
          "data": {
            "text/plain": [
              "<Figure size 432x288 with 1 Axes>"
            ],
            "image/png": "[encoded data removed]"
          },
          "metadata": {
            "needs_background": "light"
          }
        }
      ]
    },
    {
      "cell_type": "markdown",
      "source": [
        "# **Splitting data into 3 sets...**\n",
        "\n",
        "1) **Training set** - 70%-80% of the dataset, model learns from this data.\n",
        "\n",
        "2) **Validation set** - using this dataset model is tunned or tweeked, like chnaging hyperparameters. Typically 10%-15% of the data availale.\n",
        "\n",
        "3) **Test set** - model gets evaluated on this data, its 10%-15%."
      ],
      "metadata": {
        "id": "JrAfotc0kUx6"
      }
    },
    {
      "cell_type": "code",
      "source": [
        "# Lets check the size of data available.\n",
        "len(X)"
      ],
      "metadata": {
        "colab": {
          "base_uri": "https://localhost:8080/"
        },
        "id": "3ItetzrbkGUI",
        "outputId": "5e3e62be-3617-4831-ef99-4f6f9e071307"
      },
      "execution_count": 22,
      "outputs": [
        {
          "output_type": "execute_result",
          "data": {
            "text/plain": [
              "50"
            ]
          },
          "metadata": {},
          "execution_count": 22
        }
      ]
    },
    {
      "cell_type": "code",
      "source": [
        "# Splitting data into train and test. Validation is another split done when data size is a 100+.\n",
        "X_train = X[:40] # 80% of the data (the first 40 samples).\n",
        "y_train = y[:40]\n",
        "\n",
        "X_test = X[40:] # 20% of the data (the last 10 samples).\n",
        "y_test = y[40:]\n",
        "\n",
        "len(X_train), len(X_test), len(y_train), len(y_test)"
      ],
      "metadata": {
        "colab": {
          "base_uri": "https://localhost:8080/"
        },
        "id": "YvSb7q6hlyDd",
        "outputId": "d555fb79-ff7f-41ca-c9f2-0ce78f54a923"
      },
      "execution_count": 23,
      "outputs": [
        {
          "output_type": "execute_result",
          "data": {
            "text/plain": [
              "(40, 10, 40, 10)"
            ]
          },
          "metadata": {},
          "execution_count": 23
        }
      ]
    },
    {
      "cell_type": "code",
      "source": [
        "# Visualize the datasets.\n",
        "plt.figure(figsize=(10, 7))\n",
        "plt.scatter(X_train, y_train, c=\"b\", label=\"Training Dataset\")\n",
        "plt.scatter(X_test, y_test, c=\"g\", label=\"Testing Dataset\")\n",
        "plt.legend()"
      ],
      "metadata": {
        "colab": {
          "base_uri": "https://localhost:8080/",
          "height": 445
        },
        "id": "ED8hVC_7mnxU",
        "outputId": "6b5aa4a8-137d-47a0-9b33-b23eaea4ee6a"
      },
      "execution_count": 24,
      "outputs": [
        {
          "output_type": "execute_result",
          "data": {
            "text/plain": [
              "<matplotlib.legend.Legend at 0x7facf6105a30>"
            ]
          },
          "metadata": {},
          "execution_count": 24
        },
        {
          "output_type": "display_data",
          "data": {
            "text/plain": [
              "<Figure size 720x504 with 1 Axes>"
            ],
            "image/png": "[encoded data removed]"
          },
          "metadata": {
            "needs_background": "light"
          }
        }
      ]
    },
    {
      "cell_type": "markdown",
      "source": [
        "## Building a model for above data"
      ],
      "metadata": {
        "id": "79KNI6N3rFBK"
      }
    },
    {
      "cell_type": "code",
      "source": [
        "tf.random.set_seed(42)\n",
        "\n",
        "# Create Model\n",
        "model_2 = tf.keras.Sequential([\n",
        "    tf.keras.layers.Dense(100, activation=\"relu\"),\n",
        "    tf.keras.layers.Dense(100, activation=\"relu\"),\n",
        "    tf.keras.layers.Dense(100, activation=\"relu\"),\n",
        "    tf.keras.layers.Dense(1)\n",
        "])\n",
        "\n",
        "# Compile Model\n",
        "model_2.compile(loss = tf.keras.losses.mae,\n",
        "                optimizer = tf.keras.optimizers.Adam(learning_rate=0.001),\n",
        "                metrics=[\"mae\"])\n",
        "\n",
        "# Fitting Model\n",
        "model_2.fit(tf.expand_dims(X_train, axis = 1), y_train, epochs = 500)"
      ],
      "metadata": {
        "colab": {
          "base_uri": "https://localhost:8080/"
        },
        "id": "ILAYpByMmwIK",
        "outputId": "d0ef00e3-0fb7-4a75-937b-10cbdd5f8e3d"
      },
      "execution_count": 25,
      "outputs": [
        {
          "output_type": "stream",
          "name": "stdout",
          "text": [
            "Epoch 1/500\n",
            "2/2 [==============================] - 1s 16ms/step - loss: 41.5437 - mae: 41.5437\n",
            "Epoch 2/500\n",
            "2/2 [==============================] - 0s 9ms/step - loss: 37.1088 - mae: 37.1088\n",
            "Epoch 3/500\n",
            "2/2 [==============================] - 0s 7ms/step - loss: 33.5454 - mae: 33.5454\n",
            "Epoch 4/500\n",
            "2/2 [==============================] - 0s 7ms/step - loss: 30.1366 - mae: 30.1366\n",
            "Epoch 5/500\n",
            "2/2 [==============================] - 0s 7ms/step - loss: 26.8855 - mae: 26.8855\n",
            "Epoch 6/500\n",
            "2/2 [==============================] - 0s 7ms/step - loss: 23.8126 - mae: 23.8126\n",
            "Epoch 7/500\n",
            "2/2 [==============================] - 0s 7ms/step - loss: 20.4525 - mae: 20.4525\n",
            "Epoch 8/500\n",
            "2/2 [==============================] - 0s 10ms/step - loss: 16.8996 - mae: 16.8996\n",
            "Epoch 9/500\n",
            "2/2 [==============================] - 0s 7ms/step - loss: 13.3218 - mae: 13.3218\n",
            "Epoch 10/500\n",
            "2/2 [==============================] - 0s 8ms/step - loss: 10.0646 - mae: 10.0646\n",
            "Epoch 11/500\n",
            "2/2 [==============================] - 0s 7ms/step - loss: 9.8279 - mae: 9.8279\n",
            "Epoch 12/500\n",
            "2/2 [==============================] - 0s 8ms/step - loss: 9.6235 - mae: 9.6235\n",
            "Epoch 13/500\n",
            "2/2 [==============================] - 0s 8ms/step - loss: 7.5432 - mae: 7.5432\n",
            "Epoch 14/500\n",
            "2/2 [==============================] - 0s 16ms/step - loss: 4.6810 - mae: 4.6810\n",
            "Epoch 15/500\n",
            "2/2 [==============================] - 0s 10ms/step - loss: 4.6906 - mae: 4.6906\n",
            "Epoch 16/500\n",
            "2/2 [==============================] - 0s 8ms/step - loss: 5.7596 - mae: 5.7596\n",
            "Epoch 17/500\n",
            "2/2 [==============================] - 0s 9ms/step - loss: 6.2197 - mae: 6.2197\n",
            "Epoch 18/500\n",
            "2/2 [==============================] - 0s 9ms/step - loss: 5.8578 - mae: 5.8578\n",
            "Epoch 19/500\n",
            "2/2 [==============================] - 0s 9ms/step - loss: 5.0364 - mae: 5.0364\n",
            "Epoch 20/500\n",
            "2/2 [==============================] - 0s 9ms/step - loss: 4.2588 - mae: 4.2588\n",
            "Epoch 21/500\n",
            "2/2 [==============================] - 0s 8ms/step - loss: 4.2555 - mae: 4.2555\n",
            "Epoch 22/500\n",
            "2/2 [==============================] - 0s 9ms/step - loss: 4.4874 - mae: 4.4874\n",
            "Epoch 23/500\n",
            "2/2 [==============================] - 0s 8ms/step - loss: 4.2466 - mae: 4.2466\n",
            "Epoch 24/500\n",
            "2/2 [==============================] - 0s 7ms/step - loss: 4.1876 - mae: 4.1876\n",
            "Epoch 25/500\n",
            "2/2 [==============================] - 0s 7ms/step - loss: 4.1515 - mae: 4.1515\n",
            "Epoch 26/500\n",
            "2/2 [==============================] - 0s 8ms/step - loss: 4.1818 - mae: 4.1818\n",
            "Epoch 27/500\n",
            "2/2 [==============================] - 0s 7ms/step - loss: 4.1640 - mae: 4.1640\n",
            "Epoch 28/500\n",
            "2/2 [==============================] - 0s 9ms/step - loss: 4.1332 - mae: 4.1332\n",
            "Epoch 29/500\n",
            "2/2 [==============================] - 0s 8ms/step - loss: 4.1003 - mae: 4.1003\n",
            "Epoch 30/500\n",
            "2/2 [==============================] - 0s 8ms/step - loss: 4.0476 - mae: 4.0476\n",
            "Epoch 31/500\n",
            "2/2 [==============================] - 0s 8ms/step - loss: 4.0650 - mae: 4.0650\n",
            "Epoch 32/500\n",
            "2/2 [==============================] - 0s 10ms/step - loss: 4.0537 - mae: 4.0537\n",
            "Epoch 33/500\n",
            "2/2 [==============================] - 0s 7ms/step - loss: 4.1662 - mae: 4.1662\n",
            "Epoch 34/500\n",
            "2/2 [==============================] - 0s 8ms/step - loss: 4.1405 - mae: 4.1405\n",
            "Epoch 35/500\n",
            "2/2 [==============================] - 0s 7ms/step - loss: 4.0588 - mae: 4.0588\n",
            "Epoch 36/500\n",
            "2/2 [==============================] - 0s 7ms/step - loss: 4.0180 - mae: 4.0180\n",
            "Epoch 37/500\n",
            "2/2 [==============================] - 0s 7ms/step - loss: 4.0110 - mae: 4.0110\n",
            "Epoch 38/500\n",
            "2/2 [==============================] - 0s 7ms/step - loss: 3.9832 - mae: 3.9832\n",
            "Epoch 39/500\n",
            "2/2 [==============================] - 0s 8ms/step - loss: 3.9614 - mae: 3.9614\n",
            "Epoch 40/500\n",
            "2/2 [==============================] - 0s 8ms/step - loss: 3.9462 - mae: 3.9462\n",
            "Epoch 41/500\n",
            "2/2 [==============================] - 0s 14ms/step - loss: 3.9406 - mae: 3.9406\n",
            "Epoch 42/500\n",
            "2/2 [==============================] - 0s 7ms/step - loss: 3.9462 - mae: 3.9462\n",
            "Epoch 43/500\n",
            "2/2 [==============================] - 0s 7ms/step - loss: 3.9494 - mae: 3.9494\n",
            "Epoch 44/500\n",
            "2/2 [==============================] - 0s 11ms/step - loss: 3.9505 - mae: 3.9505\n",
            "Epoch 45/500\n",
            "2/2 [==============================] - 0s 8ms/step - loss: 3.9399 - mae: 3.9399\n",
            "Epoch 46/500\n",
            "2/2 [==============================] - 0s 7ms/step - loss: 3.9422 - mae: 3.9422\n",
            "Epoch 47/500\n",
            "2/2 [==============================] - 0s 8ms/step - loss: 3.9226 - mae: 3.9226\n",
            "Epoch 48/500\n",
            "2/2 [==============================] - 0s 7ms/step - loss: 3.9424 - mae: 3.9424\n",
            "Epoch 49/500\n",
            "2/2 [==============================] - 0s 8ms/step - loss: 3.9359 - mae: 3.9359\n",
            "Epoch 50/500\n",
            "2/2 [==============================] - 0s 9ms/step - loss: 3.9171 - mae: 3.9171\n",
            "Epoch 51/500\n",
            "2/2 [==============================] - 0s 8ms/step - loss: 3.8754 - mae: 3.8754\n",
            "Epoch 52/500\n",
            "2/2 [==============================] - 0s 9ms/step - loss: 3.8766 - mae: 3.8766\n",
            "Epoch 53/500\n",
            "2/2 [==============================] - 0s 8ms/step - loss: 3.8121 - mae: 3.8121\n",
            "Epoch 54/500\n",
            "2/2 [==============================] - 0s 8ms/step - loss: 3.7918 - mae: 3.7918\n",
            "Epoch 55/500\n",
            "2/2 [==============================] - 0s 13ms/step - loss: 3.8198 - mae: 3.8198\n",
            "Epoch 56/500\n",
            "2/2 [==============================] - 0s 8ms/step - loss: 3.8740 - mae: 3.8740\n",
            "Epoch 57/500\n",
            "2/2 [==============================] - 0s 9ms/step - loss: 3.8295 - mae: 3.8295\n",
            "Epoch 58/500\n",
            "2/2 [==============================] - 0s 9ms/step - loss: 3.7925 - mae: 3.7925\n",
            "Epoch 59/500\n",
            "2/2 [==============================] - 0s 9ms/step - loss: 3.7738 - mae: 3.7738\n",
            "Epoch 60/500\n",
            "2/2 [==============================] - 0s 7ms/step - loss: 3.7659 - mae: 3.7659\n",
            "Epoch 61/500\n",
            "2/2 [==============================] - 0s 11ms/step - loss: 3.7876 - mae: 3.7876\n",
            "Epoch 62/500\n",
            "2/2 [==============================] - 0s 8ms/step - loss: 3.7836 - mae: 3.7836\n",
            "Epoch 63/500\n",
            "2/2 [==============================] - 0s 8ms/step - loss: 3.7483 - mae: 3.7483\n",
            "Epoch 64/500\n",
            "2/2 [==============================] - 0s 8ms/step - loss: 3.7184 - mae: 3.7184\n",
            "Epoch 65/500\n",
            "2/2 [==============================] - 0s 8ms/step - loss: 3.7118 - mae: 3.7118\n",
            "Epoch 66/500\n",
            "2/2 [==============================] - 0s 8ms/step - loss: 3.6992 - mae: 3.6992\n",
            "Epoch 67/500\n",
            "2/2 [==============================] - 0s 11ms/step - loss: 3.7536 - mae: 3.7536\n",
            "Epoch 68/500\n",
            "2/2 [==============================] - 0s 8ms/step - loss: 3.7494 - mae: 3.7494\n",
            "Epoch 69/500\n",
            "2/2 [==============================] - 0s 8ms/step - loss: 3.7024 - mae: 3.7024\n",
            "Epoch 70/500\n",
            "2/2 [==============================] - 0s 9ms/step - loss: 3.8653 - mae: 3.8653\n",
            "Epoch 71/500\n",
            "2/2 [==============================] - 0s 8ms/step - loss: 3.8623 - mae: 3.8623\n",
            "Epoch 72/500\n",
            "2/2 [==============================] - 0s 10ms/step - loss: 3.6907 - mae: 3.6907\n",
            "Epoch 73/500\n",
            "2/2 [==============================] - 0s 7ms/step - loss: 3.6135 - mae: 3.6135\n",
            "Epoch 74/500\n",
            "2/2 [==============================] - 0s 8ms/step - loss: 3.6977 - mae: 3.6977\n",
            "Epoch 75/500\n",
            "2/2 [==============================] - 0s 8ms/step - loss: 3.6814 - mae: 3.6814\n",
            "Epoch 76/500\n",
            "2/2 [==============================] - 0s 12ms/step - loss: 3.8089 - mae: 3.8089\n",
            "Epoch 77/500\n",
            "2/2 [==============================] - 0s 8ms/step - loss: 3.8169 - mae: 3.8169\n",
            "Epoch 78/500\n",
            "2/2 [==============================] - 0s 7ms/step - loss: 3.5996 - mae: 3.5996\n",
            "Epoch 79/500\n",
            "2/2 [==============================] - 0s 8ms/step - loss: 3.5168 - mae: 3.5168\n",
            "Epoch 80/500\n",
            "2/2 [==============================] - 0s 8ms/step - loss: 3.7540 - mae: 3.7540\n",
            "Epoch 81/500\n",
            "2/2 [==============================] - 0s 14ms/step - loss: 3.7004 - mae: 3.7004\n",
            "Epoch 82/500\n",
            "2/2 [==============================] - 0s 8ms/step - loss: 3.5001 - mae: 3.5001\n",
            "Epoch 83/500\n",
            "2/2 [==============================] - 0s 8ms/step - loss: 3.7310 - mae: 3.7310\n",
            "Epoch 84/500\n",
            "2/2 [==============================] - 0s 8ms/step - loss: 3.8623 - mae: 3.8623\n",
            "Epoch 85/500\n",
            "2/2 [==============================] - 0s 8ms/step - loss: 3.5665 - mae: 3.5665\n",
            "Epoch 86/500\n",
            "2/2 [==============================] - 0s 8ms/step - loss: 3.5189 - mae: 3.5189\n",
            "Epoch 87/500\n",
            "2/2 [==============================] - 0s 7ms/step - loss: 3.6751 - mae: 3.6751\n",
            "Epoch 88/500\n",
            "2/2 [==============================] - 0s 7ms/step - loss: 3.4734 - mae: 3.4734\n",
            "Epoch 89/500\n",
            "2/2 [==============================] - 0s 8ms/step - loss: 3.4828 - mae: 3.4828\n",
            "Epoch 90/500\n",
            "2/2 [==============================] - 0s 8ms/step - loss: 3.5678 - mae: 3.5678\n",
            "Epoch 91/500\n",
            "2/2 [==============================] - 0s 8ms/step - loss: 3.4731 - mae: 3.4731\n",
            "Epoch 92/500\n",
            "2/2 [==============================] - 0s 8ms/step - loss: 3.4343 - mae: 3.4343\n",
            "Epoch 93/500\n",
            "2/2 [==============================] - 0s 9ms/step - loss: 3.5596 - mae: 3.5596\n",
            "Epoch 94/500\n",
            "2/2 [==============================] - 0s 8ms/step - loss: 3.5807 - mae: 3.5807\n",
            "Epoch 95/500\n",
            "2/2 [==============================] - 0s 8ms/step - loss: 3.5445 - mae: 3.5445\n",
            "Epoch 96/500\n",
            "2/2 [==============================] - 0s 13ms/step - loss: 3.5195 - mae: 3.5195\n",
            "Epoch 97/500\n",
            "2/2 [==============================] - 0s 8ms/step - loss: 3.4727 - mae: 3.4727\n",
            "Epoch 98/500\n",
            "2/2 [==============================] - 0s 8ms/step - loss: 3.4870 - mae: 3.4870\n",
            "Epoch 99/500\n",
            "2/2 [==============================] - 0s 9ms/step - loss: 3.2454 - mae: 3.2454\n",
            "Epoch 100/500\n",
            "2/2 [==============================] - 0s 8ms/step - loss: 3.3839 - mae: 3.3839\n",
            "Epoch 101/500\n",
            "2/2 [==============================] - 0s 8ms/step - loss: 3.4144 - mae: 3.4144\n",
            "Epoch 102/500\n",
            "2/2 [==============================] - 0s 8ms/step - loss: 3.5385 - mae: 3.5385\n",
            "Epoch 103/500\n",
            "2/2 [==============================] - 0s 7ms/step - loss: 3.2688 - mae: 3.2688\n",
            "Epoch 104/500\n",
            "2/2 [==============================] - 0s 8ms/step - loss: 3.3637 - mae: 3.3637\n",
            "Epoch 105/500\n",
            "2/2 [==============================] - 0s 16ms/step - loss: 3.3419 - mae: 3.3419\n",
            "Epoch 106/500\n",
            "2/2 [==============================] - 0s 8ms/step - loss: 3.2146 - mae: 3.2146\n",
            "Epoch 107/500\n",
            "2/2 [==============================] - 0s 8ms/step - loss: 3.2836 - mae: 3.2836\n",
            "Epoch 108/500\n",
            "2/2 [==============================] - 0s 7ms/step - loss: 3.1537 - mae: 3.1537\n",
            "Epoch 109/500\n",
            "2/2 [==============================] - 0s 8ms/step - loss: 3.2132 - mae: 3.2132\n",
            "Epoch 110/500\n",
            "2/2 [==============================] - 0s 11ms/step - loss: 3.1090 - mae: 3.1090\n",
            "Epoch 111/500\n",
            "2/2 [==============================] - 0s 10ms/step - loss: 3.0707 - mae: 3.0707\n",
            "Epoch 112/500\n",
            "2/2 [==============================] - 0s 8ms/step - loss: 3.0396 - mae: 3.0396\n",
            "Epoch 113/500\n",
            "2/2 [==============================] - 0s 7ms/step - loss: 3.0370 - mae: 3.0370\n",
            "Epoch 114/500\n",
            "2/2 [==============================] - 0s 8ms/step - loss: 3.0499 - mae: 3.0499\n",
            "Epoch 115/500\n",
            "2/2 [==============================] - 0s 9ms/step - loss: 2.8715 - mae: 2.8715\n",
            "Epoch 116/500\n",
            "2/2 [==============================] - 0s 9ms/step - loss: 3.1775 - mae: 3.1775\n",
            "Epoch 117/500\n",
            "2/2 [==============================] - 0s 9ms/step - loss: 2.8911 - mae: 2.8911\n",
            "Epoch 118/500\n",
            "2/2 [==============================] - 0s 7ms/step - loss: 2.8003 - mae: 2.8003\n",
            "Epoch 119/500\n",
            "2/2 [==============================] - 0s 8ms/step - loss: 2.7934 - mae: 2.7934\n",
            "Epoch 120/500\n",
            "2/2 [==============================] - 0s 8ms/step - loss: 2.7711 - mae: 2.7711\n",
            "Epoch 121/500\n",
            "2/2 [==============================] - 0s 13ms/step - loss: 3.0550 - mae: 3.0550\n",
            "Epoch 122/500\n",
            "2/2 [==============================] - 0s 8ms/step - loss: 2.8749 - mae: 2.8749\n",
            "Epoch 123/500\n",
            "2/2 [==============================] - 0s 7ms/step - loss: 2.5749 - mae: 2.5749\n",
            "Epoch 124/500\n",
            "2/2 [==============================] - 0s 7ms/step - loss: 3.2660 - mae: 3.2660\n",
            "Epoch 125/500\n",
            "2/2 [==============================] - 0s 8ms/step - loss: 2.7211 - mae: 2.7211\n",
            "Epoch 126/500\n",
            "2/2 [==============================] - 0s 16ms/step - loss: 2.9603 - mae: 2.9603\n",
            "Epoch 127/500\n",
            "2/2 [==============================] - 0s 8ms/step - loss: 2.6948 - mae: 2.6948\n",
            "Epoch 128/500\n",
            "2/2 [==============================] - 0s 9ms/step - loss: 2.4400 - mae: 2.4400\n",
            "Epoch 129/500\n",
            "2/2 [==============================] - 0s 7ms/step - loss: 2.4768 - mae: 2.4768\n",
            "Epoch 130/500\n",
            "2/2 [==============================] - 0s 10ms/step - loss: 2.2908 - mae: 2.2908\n",
            "Epoch 131/500\n",
            "2/2 [==============================] - 0s 9ms/step - loss: 2.3668 - mae: 2.3668\n",
            "Epoch 132/500\n",
            "2/2 [==============================] - 0s 9ms/step - loss: 2.2786 - mae: 2.2786\n",
            "Epoch 133/500\n",
            "2/2 [==============================] - 0s 8ms/step - loss: 2.2733 - mae: 2.2733\n",
            "Epoch 134/500\n",
            "2/2 [==============================] - 0s 7ms/step - loss: 2.2204 - mae: 2.2204\n",
            "Epoch 135/500\n",
            "2/2 [==============================] - 0s 8ms/step - loss: 2.1442 - mae: 2.1442\n",
            "Epoch 136/500\n",
            "2/2 [==============================] - 0s 8ms/step - loss: 2.5731 - mae: 2.5731\n",
            "Epoch 137/500\n",
            "2/2 [==============================] - 0s 8ms/step - loss: 2.3499 - mae: 2.3499\n",
            "Epoch 138/500\n",
            "2/2 [==============================] - 0s 7ms/step - loss: 2.0972 - mae: 2.0972\n",
            "Epoch 139/500\n",
            "2/2 [==============================] - 0s 7ms/step - loss: 2.6322 - mae: 2.6322\n",
            "Epoch 140/500\n",
            "2/2 [==============================] - 0s 9ms/step - loss: 2.6379 - mae: 2.6379\n",
            "Epoch 141/500\n",
            "2/2 [==============================] - 0s 8ms/step - loss: 1.8799 - mae: 1.8799\n",
            "Epoch 142/500\n",
            "2/2 [==============================] - 0s 15ms/step - loss: 2.0345 - mae: 2.0345\n",
            "Epoch 143/500\n",
            "2/2 [==============================] - 0s 8ms/step - loss: 2.2187 - mae: 2.2187\n",
            "Epoch 144/500\n",
            "2/2 [==============================] - 0s 8ms/step - loss: 1.8807 - mae: 1.8807\n",
            "Epoch 145/500\n",
            "2/2 [==============================] - 0s 7ms/step - loss: 2.6181 - mae: 2.6181\n",
            "Epoch 146/500\n",
            "2/2 [==============================] - 0s 8ms/step - loss: 2.7573 - mae: 2.7573\n",
            "Epoch 147/500\n",
            "2/2 [==============================] - 0s 13ms/step - loss: 2.1578 - mae: 2.1578\n",
            "Epoch 148/500\n",
            "2/2 [==============================] - 0s 9ms/step - loss: 1.9888 - mae: 1.9888\n",
            "Epoch 149/500\n",
            "2/2 [==============================] - 0s 8ms/step - loss: 2.4157 - mae: 2.4157\n",
            "Epoch 150/500\n",
            "2/2 [==============================] - 0s 8ms/step - loss: 1.4730 - mae: 1.4730\n",
            "Epoch 151/500\n",
            "2/2 [==============================] - 0s 8ms/step - loss: 2.2074 - mae: 2.2074\n",
            "Epoch 152/500\n",
            "2/2 [==============================] - 0s 9ms/step - loss: 1.7093 - mae: 1.7093\n",
            "Epoch 153/500\n",
            "2/2 [==============================] - 0s 38ms/step - loss: 1.6485 - mae: 1.6485\n",
            "Epoch 154/500\n",
            "2/2 [==============================] - 0s 17ms/step - loss: 1.6469 - mae: 1.6469\n",
            "Epoch 155/500\n",
            "2/2 [==============================] - 0s 14ms/step - loss: 1.2988 - mae: 1.2988\n",
            "Epoch 156/500\n",
            "2/2 [==============================] - 0s 16ms/step - loss: 1.2153 - mae: 1.2153\n",
            "Epoch 157/500\n",
            "2/2 [==============================] - 0s 19ms/step - loss: 1.0682 - mae: 1.0682\n",
            "Epoch 158/500\n",
            "2/2 [==============================] - 0s 11ms/step - loss: 1.0626 - mae: 1.0626\n",
            "Epoch 159/500\n",
            "2/2 [==============================] - 0s 13ms/step - loss: 2.8860 - mae: 2.8860\n",
            "Epoch 160/500\n",
            "2/2 [==============================] - 0s 19ms/step - loss: 1.4046 - mae: 1.4046\n",
            "Epoch 161/500\n",
            "2/2 [==============================] - 0s 10ms/step - loss: 3.2122 - mae: 3.2122\n",
            "Epoch 162/500\n",
            "2/2 [==============================] - 0s 10ms/step - loss: 1.6923 - mae: 1.6923\n",
            "Epoch 163/500\n",
            "2/2 [==============================] - 0s 11ms/step - loss: 1.5839 - mae: 1.5839\n",
            "Epoch 164/500\n",
            "2/2 [==============================] - 0s 14ms/step - loss: 1.2642 - mae: 1.2642\n",
            "Epoch 165/500\n",
            "2/2 [==============================] - 0s 19ms/step - loss: 1.1446 - mae: 1.1446\n",
            "Epoch 166/500\n",
            "2/2 [==============================] - 0s 12ms/step - loss: 1.1110 - mae: 1.1110\n",
            "Epoch 167/500\n",
            "2/2 [==============================] - 0s 19ms/step - loss: 1.4079 - mae: 1.4079\n",
            "Epoch 168/500\n",
            "2/2 [==============================] - 0s 21ms/step - loss: 1.2225 - mae: 1.2225\n",
            "Epoch 169/500\n",
            "2/2 [==============================] - 0s 16ms/step - loss: 1.4119 - mae: 1.4119\n",
            "Epoch 170/500\n",
            "2/2 [==============================] - 0s 13ms/step - loss: 1.3324 - mae: 1.3324\n",
            "Epoch 171/500\n",
            "2/2 [==============================] - 0s 13ms/step - loss: 1.1350 - mae: 1.1350\n",
            "Epoch 172/500\n",
            "2/2 [==============================] - 0s 17ms/step - loss: 1.2329 - mae: 1.2329\n",
            "Epoch 173/500\n",
            "2/2 [==============================] - 0s 19ms/step - loss: 1.6444 - mae: 1.6444\n",
            "Epoch 174/500\n",
            "2/2 [==============================] - 0s 18ms/step - loss: 1.4153 - mae: 1.4153\n",
            "Epoch 175/500\n",
            "2/2 [==============================] - 0s 10ms/step - loss: 0.8911 - mae: 0.8911\n",
            "Epoch 176/500\n",
            "2/2 [==============================] - 0s 9ms/step - loss: 1.1643 - mae: 1.1643\n",
            "Epoch 177/500\n",
            "2/2 [==============================] - 0s 8ms/step - loss: 1.1433 - mae: 1.1433\n",
            "Epoch 178/500\n",
            "2/2 [==============================] - 0s 8ms/step - loss: 0.5378 - mae: 0.5378\n",
            "Epoch 179/500\n",
            "2/2 [==============================] - 0s 11ms/step - loss: 0.5112 - mae: 0.5112\n",
            "Epoch 180/500\n",
            "2/2 [==============================] - 0s 8ms/step - loss: 0.8095 - mae: 0.8095\n",
            "Epoch 181/500\n",
            "2/2 [==============================] - 0s 9ms/step - loss: 0.9638 - mae: 0.9638\n",
            "Epoch 182/500\n",
            "2/2 [==============================] - 0s 8ms/step - loss: 0.9761 - mae: 0.9761\n",
            "Epoch 183/500\n",
            "2/2 [==============================] - 0s 9ms/step - loss: 1.1052 - mae: 1.1052\n",
            "Epoch 184/500\n",
            "2/2 [==============================] - 0s 12ms/step - loss: 1.7911 - mae: 1.7911\n",
            "Epoch 185/500\n",
            "2/2 [==============================] - 0s 8ms/step - loss: 2.1348 - mae: 2.1348\n",
            "Epoch 186/500\n",
            "2/2 [==============================] - 0s 9ms/step - loss: 0.8571 - mae: 0.8571\n",
            "Epoch 187/500\n",
            "2/2 [==============================] - 0s 8ms/step - loss: 1.4004 - mae: 1.4004\n",
            "Epoch 188/500\n",
            "2/2 [==============================] - 0s 8ms/step - loss: 1.2154 - mae: 1.2154\n",
            "Epoch 189/500\n",
            "2/2 [==============================] - 0s 9ms/step - loss: 1.7535 - mae: 1.7535\n",
            "Epoch 190/500\n",
            "2/2 [==============================] - 0s 13ms/step - loss: 0.5220 - mae: 0.5220\n",
            "Epoch 191/500\n",
            "2/2 [==============================] - 0s 10ms/step - loss: 0.7342 - mae: 0.7342\n",
            "Epoch 192/500\n",
            "2/2 [==============================] - 0s 9ms/step - loss: 1.1357 - mae: 1.1357\n",
            "Epoch 193/500\n",
            "2/2 [==============================] - 0s 9ms/step - loss: 0.7905 - mae: 0.7905\n",
            "Epoch 194/500\n",
            "2/2 [==============================] - 0s 9ms/step - loss: 0.9193 - mae: 0.9193\n",
            "Epoch 195/500\n",
            "2/2 [==============================] - 0s 11ms/step - loss: 1.2302 - mae: 1.2302\n",
            "Epoch 196/500\n",
            "2/2 [==============================] - 0s 28ms/step - loss: 0.7085 - mae: 0.7085\n",
            "Epoch 197/500\n",
            "2/2 [==============================] - 0s 18ms/step - loss: 2.1137 - mae: 2.1137\n",
            "Epoch 198/500\n",
            "2/2 [==============================] - 0s 22ms/step - loss: 1.4301 - mae: 1.4301\n",
            "Epoch 199/500\n",
            "2/2 [==============================] - 0s 18ms/step - loss: 0.9258 - mae: 0.9258\n",
            "Epoch 200/500\n",
            "2/2 [==============================] - 0s 22ms/step - loss: 0.7087 - mae: 0.7087\n",
            "Epoch 201/500\n",
            "2/2 [==============================] - 0s 27ms/step - loss: 1.2767 - mae: 1.2767\n",
            "Epoch 202/500\n",
            "2/2 [==============================] - 0s 16ms/step - loss: 1.8027 - mae: 1.8027\n",
            "Epoch 203/500\n",
            "2/2 [==============================] - 0s 16ms/step - loss: 1.4578 - mae: 1.4578\n",
            "Epoch 204/500\n",
            "2/2 [==============================] - 0s 24ms/step - loss: 0.9838 - mae: 0.9838\n",
            "Epoch 205/500\n",
            "2/2 [==============================] - 0s 19ms/step - loss: 1.2003 - mae: 1.2003\n",
            "Epoch 206/500\n",
            "2/2 [==============================] - 0s 22ms/step - loss: 0.9124 - mae: 0.9124\n",
            "Epoch 207/500\n",
            "2/2 [==============================] - 0s 16ms/step - loss: 0.6993 - mae: 0.6993\n",
            "Epoch 208/500\n",
            "2/2 [==============================] - 0s 13ms/step - loss: 1.7820 - mae: 1.7820\n",
            "Epoch 209/500\n",
            "2/2 [==============================] - 0s 7ms/step - loss: 1.4177 - mae: 1.4177\n",
            "Epoch 210/500\n",
            "2/2 [==============================] - 0s 21ms/step - loss: 1.8326 - mae: 1.8326\n",
            "Epoch 211/500\n",
            "2/2 [==============================] - 0s 12ms/step - loss: 2.6529 - mae: 2.6529\n",
            "Epoch 212/500\n",
            "2/2 [==============================] - 0s 20ms/step - loss: 0.8551 - mae: 0.8551\n",
            "Epoch 213/500\n",
            "2/2 [==============================] - 0s 10ms/step - loss: 2.6571 - mae: 2.6571\n",
            "Epoch 214/500\n",
            "2/2 [==============================] - 0s 18ms/step - loss: 2.4335 - mae: 2.4335\n",
            "Epoch 215/500\n",
            "2/2 [==============================] - 0s 17ms/step - loss: 2.0449 - mae: 2.0449\n",
            "Epoch 216/500\n",
            "2/2 [==============================] - 0s 9ms/step - loss: 2.2328 - mae: 2.2328\n",
            "Epoch 217/500\n",
            "2/2 [==============================] - 0s 8ms/step - loss: 2.1606 - mae: 2.1606\n",
            "Epoch 218/500\n",
            "2/2 [==============================] - 0s 9ms/step - loss: 2.6896 - mae: 2.6896\n",
            "Epoch 219/500\n",
            "2/2 [==============================] - 0s 11ms/step - loss: 2.6373 - mae: 2.6373\n",
            "Epoch 220/500\n",
            "2/2 [==============================] - 0s 8ms/step - loss: 1.1838 - mae: 1.1838\n",
            "Epoch 221/500\n",
            "2/2 [==============================] - 0s 8ms/step - loss: 1.0755 - mae: 1.0755\n",
            "Epoch 222/500\n",
            "2/2 [==============================] - 0s 9ms/step - loss: 0.7529 - mae: 0.7529\n",
            "Epoch 223/500\n",
            "2/2 [==============================] - 0s 9ms/step - loss: 0.7420 - mae: 0.7420\n",
            "Epoch 224/500\n",
            "2/2 [==============================] - 0s 8ms/step - loss: 0.7929 - mae: 0.7929\n",
            "Epoch 225/500\n",
            "2/2 [==============================] - 0s 8ms/step - loss: 0.5116 - mae: 0.5116\n",
            "Epoch 226/500\n",
            "2/2 [==============================] - 0s 9ms/step - loss: 1.2090 - mae: 1.2090\n",
            "Epoch 227/500\n",
            "2/2 [==============================] - 0s 8ms/step - loss: 1.0683 - mae: 1.0683\n",
            "Epoch 228/500\n",
            "2/2 [==============================] - 0s 8ms/step - loss: 1.0116 - mae: 1.0116\n",
            "Epoch 229/500\n",
            "2/2 [==============================] - 0s 9ms/step - loss: 0.6257 - mae: 0.6257\n",
            "Epoch 230/500\n",
            "2/2 [==============================] - 0s 10ms/step - loss: 0.3605 - mae: 0.3605\n",
            "Epoch 231/500\n",
            "2/2 [==============================] - 0s 9ms/step - loss: 0.8135 - mae: 0.8135\n",
            "Epoch 232/500\n",
            "2/2 [==============================] - 0s 11ms/step - loss: 0.5921 - mae: 0.5921\n",
            "Epoch 233/500\n",
            "2/2 [==============================] - 0s 9ms/step - loss: 0.8496 - mae: 0.8496\n",
            "Epoch 234/500\n",
            "2/2 [==============================] - 0s 8ms/step - loss: 0.7092 - mae: 0.7092\n",
            "Epoch 235/500\n",
            "2/2 [==============================] - 0s 8ms/step - loss: 0.4850 - mae: 0.4850\n",
            "Epoch 236/500\n",
            "2/2 [==============================] - 0s 9ms/step - loss: 1.0047 - mae: 1.0047\n",
            "Epoch 237/500\n",
            "2/2 [==============================] - 0s 51ms/step - loss: 0.3369 - mae: 0.3369\n",
            "Epoch 238/500\n",
            "2/2 [==============================] - 0s 23ms/step - loss: 0.3915 - mae: 0.3915\n",
            "Epoch 239/500\n",
            "2/2 [==============================] - 0s 20ms/step - loss: 0.3749 - mae: 0.3749\n",
            "Epoch 240/500\n",
            "2/2 [==============================] - 0s 25ms/step - loss: 0.2957 - mae: 0.2957\n",
            "Epoch 241/500\n",
            "2/2 [==============================] - 0s 14ms/step - loss: 0.2377 - mae: 0.2377\n",
            "Epoch 242/500\n",
            "2/2 [==============================] - 0s 29ms/step - loss: 0.6603 - mae: 0.6603\n",
            "Epoch 243/500\n",
            "2/2 [==============================] - 0s 17ms/step - loss: 0.4668 - mae: 0.4668\n",
            "Epoch 244/500\n",
            "2/2 [==============================] - 0s 15ms/step - loss: 0.3690 - mae: 0.3690\n",
            "Epoch 245/500\n",
            "2/2 [==============================] - 0s 18ms/step - loss: 0.4968 - mae: 0.4968\n",
            "Epoch 246/500\n",
            "2/2 [==============================] - 0s 13ms/step - loss: 0.5507 - mae: 0.5507\n",
            "Epoch 247/500\n",
            "2/2 [==============================] - 0s 21ms/step - loss: 0.5199 - mae: 0.5199\n",
            "Epoch 248/500\n",
            "2/2 [==============================] - 0s 23ms/step - loss: 0.3834 - mae: 0.3834\n",
            "Epoch 249/500\n",
            "2/2 [==============================] - 0s 18ms/step - loss: 0.6396 - mae: 0.6396\n",
            "Epoch 250/500\n",
            "2/2 [==============================] - 0s 16ms/step - loss: 0.6038 - mae: 0.6038\n",
            "Epoch 251/500\n",
            "2/2 [==============================] - 0s 19ms/step - loss: 0.5565 - mae: 0.5565\n",
            "Epoch 252/500\n",
            "2/2 [==============================] - 0s 11ms/step - loss: 0.2778 - mae: 0.2778\n",
            "Epoch 253/500\n",
            "2/2 [==============================] - 0s 10ms/step - loss: 0.4370 - mae: 0.4370\n",
            "Epoch 254/500\n",
            "2/2 [==============================] - 0s 13ms/step - loss: 0.4921 - mae: 0.4921\n",
            "Epoch 255/500\n",
            "2/2 [==============================] - 0s 9ms/step - loss: 0.9490 - mae: 0.9490\n",
            "Epoch 256/500\n",
            "2/2 [==============================] - 0s 9ms/step - loss: 0.7506 - mae: 0.7506\n",
            "Epoch 257/500\n",
            "2/2 [==============================] - 0s 7ms/step - loss: 0.7191 - mae: 0.7191\n",
            "Epoch 258/500\n",
            "2/2 [==============================] - 0s 11ms/step - loss: 0.4270 - mae: 0.4270\n",
            "Epoch 259/500\n",
            "2/2 [==============================] - 0s 8ms/step - loss: 0.6460 - mae: 0.6460\n",
            "Epoch 260/500\n",
            "2/2 [==============================] - 0s 11ms/step - loss: 1.0757 - mae: 1.0757\n",
            "Epoch 261/500\n",
            "2/2 [==============================] - 0s 10ms/step - loss: 1.3159 - mae: 1.3159\n",
            "Epoch 262/500\n",
            "2/2 [==============================] - 0s 9ms/step - loss: 0.3731 - mae: 0.3731\n",
            "Epoch 263/500\n",
            "2/2 [==============================] - 0s 10ms/step - loss: 0.8514 - mae: 0.8514\n",
            "Epoch 264/500\n",
            "2/2 [==============================] - 0s 10ms/step - loss: 0.5845 - mae: 0.5845\n",
            "Epoch 265/500\n",
            "2/2 [==============================] - 0s 9ms/step - loss: 0.6768 - mae: 0.6768\n",
            "Epoch 266/500\n",
            "2/2 [==============================] - 0s 11ms/step - loss: 0.9568 - mae: 0.9568\n",
            "Epoch 267/500\n",
            "2/2 [==============================] - 0s 10ms/step - loss: 0.5470 - mae: 0.5470\n",
            "Epoch 268/500\n",
            "2/2 [==============================] - 0s 13ms/step - loss: 0.7760 - mae: 0.7760\n",
            "Epoch 269/500\n",
            "2/2 [==============================] - 0s 9ms/step - loss: 0.9432 - mae: 0.9432\n",
            "Epoch 270/500\n",
            "2/2 [==============================] - 0s 8ms/step - loss: 0.5329 - mae: 0.5329\n",
            "Epoch 271/500\n",
            "2/2 [==============================] - 0s 9ms/step - loss: 0.6473 - mae: 0.6473\n",
            "Epoch 272/500\n",
            "2/2 [==============================] - 0s 9ms/step - loss: 0.8496 - mae: 0.8496\n",
            "Epoch 273/500\n",
            "2/2 [==============================] - 0s 13ms/step - loss: 0.6094 - mae: 0.6094\n",
            "Epoch 274/500\n",
            "2/2 [==============================] - 0s 9ms/step - loss: 0.4633 - mae: 0.4633\n",
            "Epoch 275/500\n",
            "2/2 [==============================] - 0s 9ms/step - loss: 0.7326 - mae: 0.7326\n",
            "Epoch 276/500\n",
            "2/2 [==============================] - 0s 9ms/step - loss: 0.6232 - mae: 0.6232\n",
            "Epoch 277/500\n",
            "2/2 [==============================] - 0s 10ms/step - loss: 0.7150 - mae: 0.7150\n",
            "Epoch 278/500\n",
            "2/2 [==============================] - 0s 7ms/step - loss: 0.5093 - mae: 0.5093\n",
            "Epoch 279/500\n",
            "2/2 [==============================] - 0s 11ms/step - loss: 0.7502 - mae: 0.7502\n",
            "Epoch 280/500\n",
            "2/2 [==============================] - 0s 8ms/step - loss: 1.1414 - mae: 1.1414\n",
            "Epoch 281/500\n",
            "2/2 [==============================] - 0s 9ms/step - loss: 1.1588 - mae: 1.1588\n",
            "Epoch 282/500\n",
            "2/2 [==============================] - 0s 8ms/step - loss: 0.8623 - mae: 0.8623\n",
            "Epoch 283/500\n",
            "2/2 [==============================] - 0s 7ms/step - loss: 1.0180 - mae: 1.0180\n",
            "Epoch 284/500\n",
            "2/2 [==============================] - 0s 10ms/step - loss: 1.1310 - mae: 1.1310\n",
            "Epoch 285/500\n",
            "2/2 [==============================] - 0s 10ms/step - loss: 1.0908 - mae: 1.0908\n",
            "Epoch 286/500\n",
            "2/2 [==============================] - 0s 9ms/step - loss: 0.8599 - mae: 0.8599\n",
            "Epoch 287/500\n",
            "2/2 [==============================] - 0s 11ms/step - loss: 0.9515 - mae: 0.9515\n",
            "Epoch 288/500\n",
            "2/2 [==============================] - 0s 7ms/step - loss: 1.1036 - mae: 1.1036\n",
            "Epoch 289/500\n",
            "2/2 [==============================] - 0s 11ms/step - loss: 1.5599 - mae: 1.5599\n",
            "Epoch 290/500\n",
            "2/2 [==============================] - 0s 10ms/step - loss: 0.4239 - mae: 0.4239\n",
            "Epoch 291/500\n",
            "2/2 [==============================] - 0s 7ms/step - loss: 1.7358 - mae: 1.7358\n",
            "Epoch 292/500\n",
            "2/2 [==============================] - 0s 11ms/step - loss: 1.1429 - mae: 1.1429\n",
            "Epoch 293/500\n",
            "2/2 [==============================] - 0s 10ms/step - loss: 0.6425 - mae: 0.6425\n",
            "Epoch 294/500\n",
            "2/2 [==============================] - 0s 10ms/step - loss: 0.4918 - mae: 0.4918\n",
            "Epoch 295/500\n",
            "2/2 [==============================] - 0s 10ms/step - loss: 0.4845 - mae: 0.4845\n",
            "Epoch 296/500\n",
            "2/2 [==============================] - 0s 9ms/step - loss: 0.3353 - mae: 0.3353\n",
            "Epoch 297/500\n",
            "2/2 [==============================] - 0s 9ms/step - loss: 0.4291 - mae: 0.4291\n",
            "Epoch 298/500\n",
            "2/2 [==============================] - 0s 11ms/step - loss: 0.3864 - mae: 0.3864\n",
            "Epoch 299/500\n",
            "2/2 [==============================] - 0s 9ms/step - loss: 0.2726 - mae: 0.2726\n",
            "Epoch 300/500\n",
            "2/2 [==============================] - 0s 10ms/step - loss: 0.7381 - mae: 0.7381\n",
            "Epoch 301/500\n",
            "2/2 [==============================] - 0s 8ms/step - loss: 0.3438 - mae: 0.3438\n",
            "Epoch 302/500\n",
            "2/2 [==============================] - 0s 10ms/step - loss: 0.5531 - mae: 0.5531\n",
            "Epoch 303/500\n",
            "2/2 [==============================] - 0s 9ms/step - loss: 1.0578 - mae: 1.0578\n",
            "Epoch 304/500\n",
            "2/2 [==============================] - 0s 9ms/step - loss: 0.8761 - mae: 0.8761\n",
            "Epoch 305/500\n",
            "2/2 [==============================] - 0s 11ms/step - loss: 0.9202 - mae: 0.9202\n",
            "Epoch 306/500\n",
            "2/2 [==============================] - 0s 10ms/step - loss: 0.9079 - mae: 0.9079\n",
            "Epoch 307/500\n",
            "2/2 [==============================] - 0s 11ms/step - loss: 1.1049 - mae: 1.1049\n",
            "Epoch 308/500\n",
            "2/2 [==============================] - 0s 10ms/step - loss: 0.7033 - mae: 0.7033\n",
            "Epoch 309/500\n",
            "2/2 [==============================] - 0s 10ms/step - loss: 0.9323 - mae: 0.9323\n",
            "Epoch 310/500\n",
            "2/2 [==============================] - 0s 10ms/step - loss: 0.4956 - mae: 0.4956\n",
            "Epoch 311/500\n",
            "2/2 [==============================] - 0s 9ms/step - loss: 0.5695 - mae: 0.5695\n",
            "Epoch 312/500\n",
            "2/2 [==============================] - 0s 9ms/step - loss: 0.7815 - mae: 0.7815\n",
            "Epoch 313/500\n",
            "2/2 [==============================] - 0s 10ms/step - loss: 0.7501 - mae: 0.7501\n",
            "Epoch 314/500\n",
            "2/2 [==============================] - 0s 11ms/step - loss: 0.7689 - mae: 0.7689\n",
            "Epoch 315/500\n",
            "2/2 [==============================] - 0s 13ms/step - loss: 0.3872 - mae: 0.3872\n",
            "Epoch 316/500\n",
            "2/2 [==============================] - 0s 12ms/step - loss: 0.7995 - mae: 0.7995\n",
            "Epoch 317/500\n",
            "2/2 [==============================] - 0s 11ms/step - loss: 0.3895 - mae: 0.3895\n",
            "Epoch 318/500\n",
            "2/2 [==============================] - 0s 13ms/step - loss: 0.8983 - mae: 0.8983\n",
            "Epoch 319/500\n",
            "2/2 [==============================] - 0s 12ms/step - loss: 0.6440 - mae: 0.6440\n",
            "Epoch 320/500\n",
            "2/2 [==============================] - 0s 11ms/step - loss: 0.9674 - mae: 0.9674\n",
            "Epoch 321/500\n",
            "2/2 [==============================] - 0s 8ms/step - loss: 0.7941 - mae: 0.7941\n",
            "Epoch 322/500\n",
            "2/2 [==============================] - 0s 10ms/step - loss: 0.8718 - mae: 0.8718\n",
            "Epoch 323/500\n",
            "2/2 [==============================] - 0s 9ms/step - loss: 0.8285 - mae: 0.8285\n",
            "Epoch 324/500\n",
            "2/2 [==============================] - 0s 10ms/step - loss: 1.0081 - mae: 1.0081\n",
            "Epoch 325/500\n",
            "2/2 [==============================] - 0s 10ms/step - loss: 0.4240 - mae: 0.4240\n",
            "Epoch 326/500\n",
            "2/2 [==============================] - 0s 10ms/step - loss: 0.5500 - mae: 0.5500\n",
            "Epoch 327/500\n",
            "2/2 [==============================] - 0s 11ms/step - loss: 0.3082 - mae: 0.3082\n",
            "Epoch 328/500\n",
            "2/2 [==============================] - 0s 8ms/step - loss: 0.4503 - mae: 0.4503\n",
            "Epoch 329/500\n",
            "2/2 [==============================] - 0s 10ms/step - loss: 0.1868 - mae: 0.1868\n",
            "Epoch 330/500\n",
            "2/2 [==============================] - 0s 9ms/step - loss: 0.2898 - mae: 0.2898\n",
            "Epoch 331/500\n",
            "2/2 [==============================] - 0s 10ms/step - loss: 0.4973 - mae: 0.4973\n",
            "Epoch 332/500\n",
            "2/2 [==============================] - 0s 10ms/step - loss: 0.6537 - mae: 0.6537\n",
            "Epoch 333/500\n",
            "2/2 [==============================] - 0s 12ms/step - loss: 0.3579 - mae: 0.3579\n",
            "Epoch 334/500\n",
            "2/2 [==============================] - 0s 12ms/step - loss: 1.2566 - mae: 1.2566\n",
            "Epoch 335/500\n",
            "2/2 [==============================] - 0s 8ms/step - loss: 0.4923 - mae: 0.4923\n",
            "Epoch 336/500\n",
            "2/2 [==============================] - 0s 10ms/step - loss: 0.5619 - mae: 0.5619\n",
            "Epoch 337/500\n",
            "2/2 [==============================] - 0s 8ms/step - loss: 0.5080 - mae: 0.5080\n",
            "Epoch 338/500\n",
            "2/2 [==============================] - 0s 11ms/step - loss: 0.2796 - mae: 0.2796\n",
            "Epoch 339/500\n",
            "2/2 [==============================] - 0s 12ms/step - loss: 0.5559 - mae: 0.5559\n",
            "Epoch 340/500\n",
            "2/2 [==============================] - 0s 10ms/step - loss: 0.4894 - mae: 0.4894\n",
            "Epoch 341/500\n",
            "2/2 [==============================] - 0s 10ms/step - loss: 0.7532 - mae: 0.7532\n",
            "Epoch 342/500\n",
            "2/2 [==============================] - 0s 10ms/step - loss: 0.4692 - mae: 0.4692\n",
            "Epoch 343/500\n",
            "2/2 [==============================] - 0s 10ms/step - loss: 1.2577 - mae: 1.2577\n",
            "Epoch 344/500\n",
            "2/2 [==============================] - 0s 9ms/step - loss: 0.9462 - mae: 0.9462\n",
            "Epoch 345/500\n",
            "2/2 [==============================] - 0s 10ms/step - loss: 0.4833 - mae: 0.4833\n",
            "Epoch 346/500\n",
            "2/2 [==============================] - 0s 13ms/step - loss: 0.5352 - mae: 0.5352\n",
            "Epoch 347/500\n",
            "2/2 [==============================] - 0s 9ms/step - loss: 0.8395 - mae: 0.8395\n",
            "Epoch 348/500\n",
            "2/2 [==============================] - 0s 13ms/step - loss: 0.4368 - mae: 0.4368\n",
            "Epoch 349/500\n",
            "2/2 [==============================] - 0s 10ms/step - loss: 1.0127 - mae: 1.0127\n",
            "Epoch 350/500\n",
            "2/2 [==============================] - 0s 10ms/step - loss: 0.5155 - mae: 0.5155\n",
            "Epoch 351/500\n",
            "2/2 [==============================] - 0s 10ms/step - loss: 0.2279 - mae: 0.2279\n",
            "Epoch 352/500\n",
            "2/2 [==============================] - 0s 9ms/step - loss: 0.2409 - mae: 0.2409\n",
            "Epoch 353/500\n",
            "2/2 [==============================] - 0s 8ms/step - loss: 0.2845 - mae: 0.2845\n",
            "Epoch 354/500\n",
            "2/2 [==============================] - 0s 7ms/step - loss: 0.3544 - mae: 0.3544\n",
            "Epoch 355/500\n",
            "2/2 [==============================] - 0s 12ms/step - loss: 0.3530 - mae: 0.3530\n",
            "Epoch 356/500\n",
            "2/2 [==============================] - 0s 8ms/step - loss: 0.1605 - mae: 0.1605\n",
            "Epoch 357/500\n",
            "2/2 [==============================] - 0s 11ms/step - loss: 0.1881 - mae: 0.1881\n",
            "Epoch 358/500\n",
            "2/2 [==============================] - 0s 8ms/step - loss: 0.4674 - mae: 0.4674\n",
            "Epoch 359/500\n",
            "2/2 [==============================] - 0s 8ms/step - loss: 0.2855 - mae: 0.2855\n",
            "Epoch 360/500\n",
            "2/2 [==============================] - 0s 10ms/step - loss: 0.3364 - mae: 0.3364\n",
            "Epoch 361/500\n",
            "2/2 [==============================] - 0s 9ms/step - loss: 0.2856 - mae: 0.2856\n",
            "Epoch 362/500\n",
            "2/2 [==============================] - 0s 11ms/step - loss: 0.4044 - mae: 0.4044\n",
            "Epoch 363/500\n",
            "2/2 [==============================] - 0s 9ms/step - loss: 0.5701 - mae: 0.5701\n",
            "Epoch 364/500\n",
            "2/2 [==============================] - 0s 9ms/step - loss: 0.2365 - mae: 0.2365\n",
            "Epoch 365/500\n",
            "2/2 [==============================] - 0s 11ms/step - loss: 0.5599 - mae: 0.5599\n",
            "Epoch 366/500\n",
            "2/2 [==============================] - 0s 11ms/step - loss: 0.6594 - mae: 0.6594\n",
            "Epoch 367/500\n",
            "2/2 [==============================] - 0s 11ms/step - loss: 0.6113 - mae: 0.6113\n",
            "Epoch 368/500\n",
            "2/2 [==============================] - 0s 11ms/step - loss: 0.6346 - mae: 0.6346\n",
            "Epoch 369/500\n",
            "2/2 [==============================] - 0s 11ms/step - loss: 0.6122 - mae: 0.6122\n",
            "Epoch 370/500\n",
            "2/2 [==============================] - 0s 10ms/step - loss: 0.6916 - mae: 0.6916\n",
            "Epoch 371/500\n",
            "2/2 [==============================] - 0s 8ms/step - loss: 0.4374 - mae: 0.4374\n",
            "Epoch 372/500\n",
            "2/2 [==============================] - 0s 9ms/step - loss: 0.3070 - mae: 0.3070\n",
            "Epoch 373/500\n",
            "2/2 [==============================] - 0s 11ms/step - loss: 0.3382 - mae: 0.3382\n",
            "Epoch 374/500\n",
            "2/2 [==============================] - 0s 9ms/step - loss: 0.6497 - mae: 0.6497\n",
            "Epoch 375/500\n",
            "2/2 [==============================] - 0s 11ms/step - loss: 0.3017 - mae: 0.3017\n",
            "Epoch 376/500\n",
            "2/2 [==============================] - 0s 10ms/step - loss: 0.9460 - mae: 0.9460\n",
            "Epoch 377/500\n",
            "2/2 [==============================] - 0s 12ms/step - loss: 0.2245 - mae: 0.2245\n",
            "Epoch 378/500\n",
            "2/2 [==============================] - 0s 9ms/step - loss: 0.6159 - mae: 0.6159\n",
            "Epoch 379/500\n",
            "2/2 [==============================] - 0s 10ms/step - loss: 0.7306 - mae: 0.7306\n",
            "Epoch 380/500\n",
            "2/2 [==============================] - 0s 10ms/step - loss: 0.6636 - mae: 0.6636\n",
            "Epoch 381/500\n",
            "2/2 [==============================] - 0s 11ms/step - loss: 0.7538 - mae: 0.7538\n",
            "Epoch 382/500\n",
            "2/2 [==============================] - 0s 8ms/step - loss: 0.8941 - mae: 0.8941\n",
            "Epoch 383/500\n",
            "2/2 [==============================] - 0s 8ms/step - loss: 0.4557 - mae: 0.4557\n",
            "Epoch 384/500\n",
            "2/2 [==============================] - 0s 11ms/step - loss: 0.9409 - mae: 0.9409\n",
            "Epoch 385/500\n",
            "2/2 [==============================] - 0s 10ms/step - loss: 0.4576 - mae: 0.4576\n",
            "Epoch 386/500\n",
            "2/2 [==============================] - 0s 11ms/step - loss: 0.5418 - mae: 0.5418\n",
            "Epoch 387/500\n",
            "2/2 [==============================] - 0s 10ms/step - loss: 0.6736 - mae: 0.6736\n",
            "Epoch 388/500\n",
            "2/2 [==============================] - 0s 12ms/step - loss: 0.4289 - mae: 0.4289\n",
            "Epoch 389/500\n",
            "2/2 [==============================] - 0s 12ms/step - loss: 0.7827 - mae: 0.7827\n",
            "Epoch 390/500\n",
            "2/2 [==============================] - 0s 9ms/step - loss: 0.4296 - mae: 0.4296\n",
            "Epoch 391/500\n",
            "2/2 [==============================] - 0s 11ms/step - loss: 0.1380 - mae: 0.1380\n",
            "Epoch 392/500\n",
            "2/2 [==============================] - 0s 9ms/step - loss: 0.2262 - mae: 0.2262\n",
            "Epoch 393/500\n",
            "2/2 [==============================] - 0s 9ms/step - loss: 0.6413 - mae: 0.6413\n",
            "Epoch 394/500\n",
            "2/2 [==============================] - 0s 9ms/step - loss: 1.1501 - mae: 1.1501\n",
            "Epoch 395/500\n",
            "2/2 [==============================] - 0s 10ms/step - loss: 0.6942 - mae: 0.6942\n",
            "Epoch 396/500\n",
            "2/2 [==============================] - 0s 11ms/step - loss: 1.2382 - mae: 1.2382\n",
            "Epoch 397/500\n",
            "2/2 [==============================] - 0s 9ms/step - loss: 1.5082 - mae: 1.5082\n",
            "Epoch 398/500\n",
            "2/2 [==============================] - 0s 10ms/step - loss: 0.8877 - mae: 0.8877\n",
            "Epoch 399/500\n",
            "2/2 [==============================] - 0s 8ms/step - loss: 1.3901 - mae: 1.3901\n",
            "Epoch 400/500\n",
            "2/2 [==============================] - 0s 11ms/step - loss: 0.7853 - mae: 0.7853\n",
            "Epoch 401/500\n",
            "2/2 [==============================] - 0s 12ms/step - loss: 0.8952 - mae: 0.8952\n",
            "Epoch 402/500\n",
            "2/2 [==============================] - 0s 11ms/step - loss: 0.9894 - mae: 0.9894\n",
            "Epoch 403/500\n",
            "2/2 [==============================] - 0s 10ms/step - loss: 0.6045 - mae: 0.6045\n",
            "Epoch 404/500\n",
            "2/2 [==============================] - 0s 9ms/step - loss: 0.6820 - mae: 0.6820\n",
            "Epoch 405/500\n",
            "2/2 [==============================] - 0s 10ms/step - loss: 0.5893 - mae: 0.5893\n",
            "Epoch 406/500\n",
            "2/2 [==============================] - 0s 8ms/step - loss: 0.4921 - mae: 0.4921\n",
            "Epoch 407/500\n",
            "2/2 [==============================] - 0s 12ms/step - loss: 0.4182 - mae: 0.4182\n",
            "Epoch 408/500\n",
            "2/2 [==============================] - 0s 7ms/step - loss: 0.3082 - mae: 0.3082\n",
            "Epoch 409/500\n",
            "2/2 [==============================] - 0s 10ms/step - loss: 0.2731 - mae: 0.2731\n",
            "Epoch 410/500\n",
            "2/2 [==============================] - 0s 11ms/step - loss: 0.4503 - mae: 0.4503\n",
            "Epoch 411/500\n",
            "2/2 [==============================] - 0s 7ms/step - loss: 0.3112 - mae: 0.3112\n",
            "Epoch 412/500\n",
            "2/2 [==============================] - 0s 12ms/step - loss: 0.2168 - mae: 0.2168\n",
            "Epoch 413/500\n",
            "2/2 [==============================] - 0s 10ms/step - loss: 0.2692 - mae: 0.2692\n",
            "Epoch 414/500\n",
            "2/2 [==============================] - 0s 12ms/step - loss: 0.4916 - mae: 0.4916\n",
            "Epoch 415/500\n",
            "2/2 [==============================] - 0s 10ms/step - loss: 0.4278 - mae: 0.4278\n",
            "Epoch 416/500\n",
            "2/2 [==============================] - 0s 12ms/step - loss: 0.2652 - mae: 0.2652\n",
            "Epoch 417/500\n",
            "2/2 [==============================] - 0s 13ms/step - loss: 0.2261 - mae: 0.2261\n",
            "Epoch 418/500\n",
            "2/2 [==============================] - 0s 12ms/step - loss: 0.2441 - mae: 0.2441\n",
            "Epoch 419/500\n",
            "2/2 [==============================] - 0s 10ms/step - loss: 0.5217 - mae: 0.5217\n",
            "Epoch 420/500\n",
            "2/2 [==============================] - 0s 8ms/step - loss: 0.2448 - mae: 0.2448\n",
            "Epoch 421/500\n",
            "2/2 [==============================] - 0s 10ms/step - loss: 0.4594 - mae: 0.4594\n",
            "Epoch 422/500\n",
            "2/2 [==============================] - 0s 8ms/step - loss: 0.3516 - mae: 0.3516\n",
            "Epoch 423/500\n",
            "2/2 [==============================] - 0s 9ms/step - loss: 0.8838 - mae: 0.8838\n",
            "Epoch 424/500\n",
            "2/2 [==============================] - 0s 10ms/step - loss: 0.6637 - mae: 0.6637\n",
            "Epoch 425/500\n",
            "2/2 [==============================] - 0s 9ms/step - loss: 0.6331 - mae: 0.6331\n",
            "Epoch 426/500\n",
            "2/2 [==============================] - 0s 10ms/step - loss: 0.3720 - mae: 0.3720\n",
            "Epoch 427/500\n",
            "2/2 [==============================] - 0s 10ms/step - loss: 0.4053 - mae: 0.4053\n",
            "Epoch 428/500\n",
            "2/2 [==============================] - 0s 10ms/step - loss: 0.4925 - mae: 0.4925\n",
            "Epoch 429/500\n",
            "2/2 [==============================] - 0s 10ms/step - loss: 0.4560 - mae: 0.4560\n",
            "Epoch 430/500\n",
            "2/2 [==============================] - 0s 9ms/step - loss: 0.8490 - mae: 0.8490\n",
            "Epoch 431/500\n",
            "2/2 [==============================] - 0s 8ms/step - loss: 0.7492 - mae: 0.7492\n",
            "Epoch 432/500\n",
            "2/2 [==============================] - 0s 11ms/step - loss: 0.5451 - mae: 0.5451\n",
            "Epoch 433/500\n",
            "2/2 [==============================] - 0s 10ms/step - loss: 0.4968 - mae: 0.4968\n",
            "Epoch 434/500\n",
            "2/2 [==============================] - 0s 9ms/step - loss: 0.4175 - mae: 0.4175\n",
            "Epoch 435/500\n",
            "2/2 [==============================] - 0s 8ms/step - loss: 0.4298 - mae: 0.4298\n",
            "Epoch 436/500\n",
            "2/2 [==============================] - 0s 8ms/step - loss: 0.1550 - mae: 0.1550\n",
            "Epoch 437/500\n",
            "2/2 [==============================] - 0s 7ms/step - loss: 0.1231 - mae: 0.1231\n",
            "Epoch 438/500\n",
            "2/2 [==============================] - 0s 9ms/step - loss: 0.0865 - mae: 0.0865\n",
            "Epoch 439/500\n",
            "2/2 [==============================] - 0s 9ms/step - loss: 0.6775 - mae: 0.6775\n",
            "Epoch 440/500\n",
            "2/2 [==============================] - 0s 7ms/step - loss: 0.1229 - mae: 0.1229\n",
            "Epoch 441/500\n",
            "2/2 [==============================] - 0s 8ms/step - loss: 0.5075 - mae: 0.5075\n",
            "Epoch 442/500\n",
            "2/2 [==============================] - 0s 7ms/step - loss: 0.4641 - mae: 0.4641\n",
            "Epoch 443/500\n",
            "2/2 [==============================] - 0s 9ms/step - loss: 0.4969 - mae: 0.4969\n",
            "Epoch 444/500\n",
            "2/2 [==============================] - 0s 12ms/step - loss: 0.5149 - mae: 0.5149\n",
            "Epoch 445/500\n",
            "2/2 [==============================] - 0s 8ms/step - loss: 0.3577 - mae: 0.3577\n",
            "Epoch 446/500\n",
            "2/2 [==============================] - 0s 10ms/step - loss: 0.5280 - mae: 0.5280\n",
            "Epoch 447/500\n",
            "2/2 [==============================] - 0s 8ms/step - loss: 0.7316 - mae: 0.7316\n",
            "Epoch 448/500\n",
            "2/2 [==============================] - 0s 11ms/step - loss: 0.3745 - mae: 0.3745\n",
            "Epoch 449/500\n",
            "2/2 [==============================] - 0s 6ms/step - loss: 0.5063 - mae: 0.5063\n",
            "Epoch 450/500\n",
            "2/2 [==============================] - 0s 7ms/step - loss: 0.2193 - mae: 0.2193\n",
            "Epoch 451/500\n",
            "2/2 [==============================] - 0s 8ms/step - loss: 0.4157 - mae: 0.4157\n",
            "Epoch 452/500\n",
            "2/2 [==============================] - 0s 7ms/step - loss: 0.7093 - mae: 0.7093\n",
            "Epoch 453/500\n",
            "2/2 [==============================] - 0s 9ms/step - loss: 0.6876 - mae: 0.6876\n",
            "Epoch 454/500\n",
            "2/2 [==============================] - 0s 8ms/step - loss: 1.2413 - mae: 1.2413\n",
            "Epoch 455/500\n",
            "2/2 [==============================] - 0s 11ms/step - loss: 1.8999 - mae: 1.8999\n",
            "Epoch 456/500\n",
            "2/2 [==============================] - 0s 11ms/step - loss: 0.7243 - mae: 0.7243\n",
            "Epoch 457/500\n",
            "2/2 [==============================] - 0s 12ms/step - loss: 1.0283 - mae: 1.0283\n",
            "Epoch 458/500\n",
            "2/2 [==============================] - 0s 12ms/step - loss: 0.7116 - mae: 0.7116\n",
            "Epoch 459/500\n",
            "2/2 [==============================] - 0s 12ms/step - loss: 0.5093 - mae: 0.5093\n",
            "Epoch 460/500\n",
            "2/2 [==============================] - 0s 11ms/step - loss: 0.3358 - mae: 0.3358\n",
            "Epoch 461/500\n",
            "2/2 [==============================] - 0s 11ms/step - loss: 0.5035 - mae: 0.5035\n",
            "Epoch 462/500\n",
            "2/2 [==============================] - 0s 13ms/step - loss: 0.6661 - mae: 0.6661\n",
            "Epoch 463/500\n",
            "2/2 [==============================] - 0s 11ms/step - loss: 0.5280 - mae: 0.5280\n",
            "Epoch 464/500\n",
            "2/2 [==============================] - 0s 10ms/step - loss: 0.6698 - mae: 0.6698\n",
            "Epoch 465/500\n",
            "2/2 [==============================] - 0s 12ms/step - loss: 0.5532 - mae: 0.5532\n",
            "Epoch 466/500\n",
            "2/2 [==============================] - 0s 10ms/step - loss: 0.3492 - mae: 0.3492\n",
            "Epoch 467/500\n",
            "2/2 [==============================] - 0s 14ms/step - loss: 0.2373 - mae: 0.2373\n",
            "Epoch 468/500\n",
            "2/2 [==============================] - 0s 11ms/step - loss: 0.2894 - mae: 0.2894\n",
            "Epoch 469/500\n",
            "2/2 [==============================] - 0s 10ms/step - loss: 0.2678 - mae: 0.2678\n",
            "Epoch 470/500\n",
            "2/2 [==============================] - 0s 9ms/step - loss: 0.2050 - mae: 0.2050\n",
            "Epoch 471/500\n",
            "2/2 [==============================] - 0s 10ms/step - loss: 0.1696 - mae: 0.1696\n",
            "Epoch 472/500\n",
            "2/2 [==============================] - 0s 12ms/step - loss: 0.1844 - mae: 0.1844\n",
            "Epoch 473/500\n",
            "2/2 [==============================] - 0s 11ms/step - loss: 0.2742 - mae: 0.2742\n",
            "Epoch 474/500\n",
            "2/2 [==============================] - 0s 10ms/step - loss: 0.1819 - mae: 0.1819\n",
            "Epoch 475/500\n",
            "2/2 [==============================] - 0s 14ms/step - loss: 0.4920 - mae: 0.4920\n",
            "Epoch 476/500\n",
            "2/2 [==============================] - 0s 10ms/step - loss: 0.3946 - mae: 0.3946\n",
            "Epoch 477/500\n",
            "2/2 [==============================] - 0s 10ms/step - loss: 0.7897 - mae: 0.7897\n",
            "Epoch 478/500\n",
            "2/2 [==============================] - 0s 12ms/step - loss: 0.7286 - mae: 0.7286\n",
            "Epoch 479/500\n",
            "2/2 [==============================] - 0s 11ms/step - loss: 0.7395 - mae: 0.7395\n",
            "Epoch 480/500\n",
            "2/2 [==============================] - 0s 8ms/step - loss: 0.6246 - mae: 0.6246\n",
            "Epoch 481/500\n",
            "2/2 [==============================] - 0s 8ms/step - loss: 0.3274 - mae: 0.3274\n",
            "Epoch 482/500\n",
            "2/2 [==============================] - 0s 8ms/step - loss: 0.5986 - mae: 0.5986\n",
            "Epoch 483/500\n",
            "2/2 [==============================] - 0s 13ms/step - loss: 0.5103 - mae: 0.5103\n",
            "Epoch 484/500\n",
            "2/2 [==============================] - 0s 11ms/step - loss: 0.8248 - mae: 0.8248\n",
            "Epoch 485/500\n",
            "2/2 [==============================] - 0s 8ms/step - loss: 1.0074 - mae: 1.0074\n",
            "Epoch 486/500\n",
            "2/2 [==============================] - 0s 7ms/step - loss: 0.2013 - mae: 0.2013\n",
            "Epoch 487/500\n",
            "2/2 [==============================] - 0s 8ms/step - loss: 0.5150 - mae: 0.5150\n",
            "Epoch 488/500\n",
            "2/2 [==============================] - 0s 10ms/step - loss: 0.5617 - mae: 0.5617\n",
            "Epoch 489/500\n",
            "2/2 [==============================] - 0s 8ms/step - loss: 0.8276 - mae: 0.8276\n",
            "Epoch 490/500\n",
            "2/2 [==============================] - 0s 8ms/step - loss: 0.3151 - mae: 0.3151\n",
            "Epoch 491/500\n",
            "2/2 [==============================] - 0s 8ms/step - loss: 0.4751 - mae: 0.4751\n",
            "Epoch 492/500\n",
            "2/2 [==============================] - 0s 8ms/step - loss: 0.6986 - mae: 0.6986\n",
            "Epoch 493/500\n",
            "2/2 [==============================] - 0s 6ms/step - loss: 0.6330 - mae: 0.6330\n",
            "Epoch 494/500\n",
            "2/2 [==============================] - 0s 8ms/step - loss: 0.6619 - mae: 0.6619\n",
            "Epoch 495/500\n",
            "2/2 [==============================] - 0s 8ms/step - loss: 0.7991 - mae: 0.7991\n",
            "Epoch 496/500\n",
            "2/2 [==============================] - 0s 12ms/step - loss: 0.5189 - mae: 0.5189\n",
            "Epoch 497/500\n",
            "2/2 [==============================] - 0s 11ms/step - loss: 0.3973 - mae: 0.3973\n",
            "Epoch 498/500\n",
            "2/2 [==============================] - 0s 9ms/step - loss: 0.4255 - mae: 0.4255\n",
            "Epoch 499/500\n",
            "2/2 [==============================] - 0s 7ms/step - loss: 0.2929 - mae: 0.2929\n",
            "Epoch 500/500\n",
            "2/2 [==============================] - 0s 8ms/step - loss: 0.6384 - mae: 0.6384\n"
          ]
        },
        {
          "output_type": "execute_result",
          "data": {
            "text/plain": [
              "<keras.callbacks.History at 0x7facf40254f0>"
            ]
          },
          "metadata": {},
          "execution_count": 25
        }
      ]
    },
    {
      "cell_type": "code",
      "source": [
        "# Actual values\n",
        "X_test, y_test"
      ],
      "metadata": {
        "colab": {
          "base_uri": "https://localhost:8080/"
        },
        "id": "VqAke2y-q5h5",
        "outputId": "33bd84b0-43f7-4269-e3c7-ba960e6e0fc4"
      },
      "execution_count": 26,
      "outputs": [
        {
          "output_type": "execute_result",
          "data": {
            "text/plain": [
              "(<tf.Tensor: shape=(10,), dtype=int32, numpy=array([60, 64, 68, 72, 76, 80, 84, 88, 92, 96], dtype=int32)>,\n",
              " <tf.Tensor: shape=(10,), dtype=int32, numpy=array([ 70,  74,  78,  82,  86,  90,  94,  98, 102, 106], dtype=int32)>)"
            ]
          },
          "metadata": {},
          "execution_count": 26
        }
      ]
    },
    {
      "cell_type": "code",
      "source": [
        "# Testing\n",
        "y_pred = model_2.predict([X_test])\n",
        "y_pred"
      ],
      "metadata": {
        "colab": {
          "base_uri": "https://localhost:8080/"
        },
        "id": "Ov4gf1mDn0C9",
        "outputId": "bf034b68-9faf-4e7f-d0f5-6ca522fb93f6"
      },
      "execution_count": 27,
      "outputs": [
        {
          "output_type": "stream",
          "name": "stderr",
          "text": [
            "WARNING:tensorflow:Layers in a Sequential model should only have a single input tensor. Received: inputs=(<tf.Tensor 'IteratorGetNext:0' shape=(None,) dtype=int32>,). Consider rewriting this model with the Functional API.\n"
          ]
        },
        {
          "output_type": "stream",
          "name": "stdout",
          "text": [
            "1/1 [==============================] - 0s 96ms/step\n"
          ]
        },
        {
          "output_type": "execute_result",
          "data": {
            "text/plain": [
              "array([[ 73.57807 ],\n",
              "       [ 77.81014 ],\n",
              "       [ 82.04224 ],\n",
              "       [ 86.27431 ],\n",
              "       [ 90.50641 ],\n",
              "       [ 94.73849 ],\n",
              "       [ 98.970566],\n",
              "       [103.202644],\n",
              "       [107.43474 ],\n",
              "       [111.66681 ]], dtype=float32)"
            ]
          },
          "metadata": {},
          "execution_count": 27
        }
      ]
    },
    {
      "cell_type": "code",
      "source": [
        "plt.scatter(X_test, y_pred)"
      ],
      "metadata": {
        "colab": {
          "base_uri": "https://localhost:8080/",
          "height": 282
        },
        "id": "njBp2NXjoLMC",
        "outputId": "c18694c6-2a8b-4d6e-ad15-6babb56c7273"
      },
      "execution_count": 28,
      "outputs": [
        {
          "output_type": "execute_result",
          "data": {
            "text/plain": [
              "<matplotlib.collections.PathCollection at 0x7facdb64a4f0>"
            ]
          },
          "metadata": {},
          "execution_count": 28
        },
        {
          "output_type": "display_data",
          "data": {
            "text/plain": [
              "<Figure size 432x288 with 1 Axes>"
            ],
            "image/png": "[encoded data removed]"
          },
          "metadata": {
            "needs_background": "light"
          }
        }
      ]
    },
    {
      "cell_type": "code",
      "source": [
        "# Creating a model that builds automatically by defining the input_shape argument\n",
        "import tensorflow as tf\n",
        "tf.random.set_seed(42)\n",
        "\n",
        "# Create a model\n",
        "model = tf.keras.Sequential([\n",
        "    # tf.keras.layers.Dense(100, activation = \"relu\"),\n",
        "    tf.keras.layers.Dense(100, input_shape=[1], name = \"input_layer\"),\n",
        "    tf.keras.layers.Dense(100, input_shape=[1], name = \"hidden_layer\"),\n",
        "    tf.keras.layers.Dense(1, name = \"output_layer\")\n",
        "], name = \"model_1\")\n",
        "\n",
        "model.compile(loss = tf.keras.losses.mse,\n",
        "              optimizer = tf.keras.optimizers.Adam(learning_rate = 0.01),\n",
        "              metrics = [\"mse\"])\n",
        "\n",
        "# model.fit(tf.expand_dims(X_train, axis = 1), y_train, epochs = 100)"
      ],
      "metadata": {
        "id": "Zirix-WGvjHQ"
      },
      "execution_count": 29,
      "outputs": []
    },
    {
      "cell_type": "code",
      "source": [
        "model.summary()"
      ],
      "metadata": {
        "colab": {
          "base_uri": "https://localhost:8080/"
        },
        "id": "6C7m7GQWvxYK",
        "outputId": "8fa4cd54-c74c-45e1-c021-a50e4c79fe6c"
      },
      "execution_count": 30,
      "outputs": [
        {
          "output_type": "stream",
          "name": "stdout",
          "text": [
            "Model: \"model_1\"\n",
            "_________________________________________________________________\n",
            " Layer (type)                Output Shape              Param #   \n",
            "=================================================================\n",
            " input_layer (Dense)         (None, 100)               200       \n",
            "                                                                 \n",
            " hidden_layer (Dense)        (None, 100)               10100     \n",
            "                                                                 \n",
            " output_layer (Dense)        (None, 1)                 101       \n",
            "                                                                 \n",
            "=================================================================\n",
            "Total params: 10,401\n",
            "Trainable params: 10,401\n",
            "Non-trainable params: 0\n",
            "_________________________________________________________________\n"
          ]
        }
      ]
    },
    {
      "cell_type": "markdown",
      "source": [
        "## **What is that summary!**\n",
        "Total Params - Total number of parameters in the model.\n",
        "\n",
        "Trainable params - Parameters the model can update as it trains.\n",
        "\n",
        "Non-trainable params - These are the parameters aren't updated while training."
      ],
      "metadata": {
        "id": "I1qEJ4Jbyg9L"
      }
    },
    {
      "cell_type": "code",
      "source": [
        "model.fit(X_train, y_train, epochs = 200, verbose = 0)"
      ],
      "metadata": {
        "colab": {
          "base_uri": "https://localhost:8080/"
        },
        "id": "O2tTtVMnxsQm",
        "outputId": "d2504c18-6ebc-4856-a657-c84c964eb931"
      },
      "execution_count": 31,
      "outputs": [
        {
          "output_type": "execute_result",
          "data": {
            "text/plain": [
              "<keras.callbacks.History at 0x7facf402cdf0>"
            ]
          },
          "metadata": {},
          "execution_count": 31
        }
      ]
    },
    {
      "cell_type": "code",
      "source": [
        "X_test, y_test"
      ],
      "metadata": {
        "colab": {
          "base_uri": "https://localhost:8080/"
        },
        "id": "FiCODmY84LFC",
        "outputId": "184c5a0d-5f60-4cfb-d6f0-d50c696c0574"
      },
      "execution_count": 32,
      "outputs": [
        {
          "output_type": "execute_result",
          "data": {
            "text/plain": [
              "(<tf.Tensor: shape=(10,), dtype=int32, numpy=array([60, 64, 68, 72, 76, 80, 84, 88, 92, 96], dtype=int32)>,\n",
              " <tf.Tensor: shape=(10,), dtype=int32, numpy=array([ 70,  74,  78,  82,  86,  90,  94,  98, 102, 106], dtype=int32)>)"
            ]
          },
          "metadata": {},
          "execution_count": 32
        }
      ]
    },
    {
      "cell_type": "code",
      "source": [
        "y_pred = model.predict([X_test])\n",
        "y_pred"
      ],
      "metadata": {
        "colab": {
          "base_uri": "https://localhost:8080/"
        },
        "id": "UXW3_E9L4C3b",
        "outputId": "e6d23ed7-4a13-4c15-a5a6-3f6734407ce2"
      },
      "execution_count": 33,
      "outputs": [
        {
          "output_type": "stream",
          "name": "stdout",
          "text": [
            "1/1 [==============================] - 0s 63ms/step\n"
          ]
        },
        {
          "output_type": "execute_result",
          "data": {
            "text/plain": [
              "array([[ 69.99999 ],\n",
              "       [ 73.99999 ],\n",
              "       [ 77.99999 ],\n",
              "       [ 81.99999 ],\n",
              "       [ 85.99999 ],\n",
              "       [ 90.      ],\n",
              "       [ 93.999985],\n",
              "       [ 97.999985],\n",
              "       [101.99999 ],\n",
              "       [106.      ]], dtype=float32)"
            ]
          },
          "metadata": {},
          "execution_count": 33
        }
      ]
    },
    {
      "cell_type": "code",
      "source": [
        "model.summary()"
      ],
      "metadata": {
        "colab": {
          "base_uri": "https://localhost:8080/"
        },
        "id": "MY-gzunD29jb",
        "outputId": "59d1b331-4495-4e48-dd4d-d757103ee0ce"
      },
      "execution_count": 34,
      "outputs": [
        {
          "output_type": "stream",
          "name": "stdout",
          "text": [
            "Model: \"model_1\"\n",
            "_________________________________________________________________\n",
            " Layer (type)                Output Shape              Param #   \n",
            "=================================================================\n",
            " input_layer (Dense)         (None, 100)               200       \n",
            "                                                                 \n",
            " hidden_layer (Dense)        (None, 100)               10100     \n",
            "                                                                 \n",
            " output_layer (Dense)        (None, 1)                 101       \n",
            "                                                                 \n",
            "=================================================================\n",
            "Total params: 10,401\n",
            "Trainable params: 10,401\n",
            "Non-trainable params: 0\n",
            "_________________________________________________________________\n"
          ]
        }
      ]
    },
    {
      "cell_type": "code",
      "source": [
        "from tensorflow.keras.utils import plot_model\n",
        "plot_model(model = model, show_shapes = True)"
      ],
      "metadata": {
        "colab": {
          "base_uri": "https://localhost:8080/",
          "height": 422
        },
        "id": "xDHYNeRF2-wf",
        "outputId": "904cd222-6446-4172-bfd7-ebe9bc159158"
      },
      "execution_count": 35,
      "outputs": [
        {
          "output_type": "execute_result",
          "data": {
            "image/png": "[encoded data removed]",
            "text/plain": [
              "<IPython.core.display.Image object>"
            ]
          },
          "metadata": {},
          "execution_count": 35
        }
      ]
    },
    {
      "cell_type": "code",
      "source": [
        "# Lets set a function for plotting\n",
        "def plot_predictions(train_data = X_train, train_labels = y_train, test_data = X_test, test_labels = y_test, predictions = y_pred):\n",
        "  plt.figure(figsize = (10, 7))\n",
        "  plt.scatter(train_data, train_labels, c = \"b\", label = \"Training Data\")\n",
        "  plt.scatter(test_data, test_labels, c = \"g\", label = \"Testing Data\")\n",
        "  plt.scatter(test_data, predictions, c = \"r\", label = \"Predictions\")\n",
        "  plt.legend()"
      ],
      "metadata": {
        "id": "bItzGkXZ35HC"
      },
      "execution_count": 36,
      "outputs": []
    },
    {
      "cell_type": "code",
      "source": [
        "plot_predictions()"
      ],
      "metadata": {
        "colab": {
          "base_uri": "https://localhost:8080/",
          "height": 428
        },
        "id": "ietRxLxF7y6H",
        "outputId": "d7c7ba70-039d-4b38-b102-c30a8285a628"
      },
      "execution_count": 37,
      "outputs": [
        {
          "output_type": "display_data",
          "data": {
            "text/plain": [
              "<Figure size 720x504 with 1 Axes>"
            ],
            "image/png": "[encoded data removed]"
          },
          "metadata": {
            "needs_background": "light"
          }
        }
      ]
    },
    {
      "cell_type": "markdown",
      "source": [
        "## Evaluation using regression evaluation matrics.\n",
        "\n",
        "Here, we have two main metrices:\n",
        "\n",
        "1) MAE - Mean Absolute Error.\n",
        "\n",
        "2) MSE - Mean Square Error."
      ],
      "metadata": {
        "id": "-GVp19CS99Fn"
      }
    },
    {
      "cell_type": "code",
      "source": [
        "model.evaluate(X_test, y_test)"
      ],
      "metadata": {
        "colab": {
          "base_uri": "https://localhost:8080/"
        },
        "id": "IqPL_535_2_R",
        "outputId": "c6838c91-8cf9-4f9d-ae2d-4ca2da4269a0"
      },
      "execution_count": 38,
      "outputs": [
        {
          "output_type": "stream",
          "name": "stdout",
          "text": [
            "1/1 [==============================] - 0s 138ms/step - loss: 8.1491e-11 - mse: 8.1491e-11\n"
          ]
        },
        {
          "output_type": "execute_result",
          "data": {
            "text/plain": [
              "[8.149072389107559e-11, 8.149072389107559e-11]"
            ]
          },
          "metadata": {},
          "execution_count": 38
        }
      ]
    },
    {
      "cell_type": "code",
      "source": [
        "y_pred"
      ],
      "metadata": {
        "colab": {
          "base_uri": "https://localhost:8080/"
        },
        "id": "g1uy5dlx_7lu",
        "outputId": "812a2f78-519b-4c8b-be6b-9f740ced7f5d"
      },
      "execution_count": 39,
      "outputs": [
        {
          "output_type": "execute_result",
          "data": {
            "text/plain": [
              "array([[ 69.99999 ],\n",
              "       [ 73.99999 ],\n",
              "       [ 77.99999 ],\n",
              "       [ 81.99999 ],\n",
              "       [ 85.99999 ],\n",
              "       [ 90.      ],\n",
              "       [ 93.999985],\n",
              "       [ 97.999985],\n",
              "       [101.99999 ],\n",
              "       [106.      ]], dtype=float32)"
            ]
          },
          "metadata": {},
          "execution_count": 39
        }
      ]
    },
    {
      "cell_type": "code",
      "source": [
        "y_test"
      ],
      "metadata": {
        "colab": {
          "base_uri": "https://localhost:8080/"
        },
        "id": "ydm5hRNOAUV6",
        "outputId": "bd8f4556-f794-4af5-d552-3b386b29e7f0"
      },
      "execution_count": 40,
      "outputs": [
        {
          "output_type": "execute_result",
          "data": {
            "text/plain": [
              "<tf.Tensor: shape=(10,), dtype=int32, numpy=array([ 70,  74,  78,  82,  86,  90,  94,  98, 102, 106], dtype=int32)>"
            ]
          },
          "metadata": {},
          "execution_count": 40
        }
      ]
    },
    {
      "cell_type": "code",
      "source": [
        "mae = tf.reduce_mean(tf.abs(y_test - y_pred))\n",
        "mae"
      ],
      "metadata": {
        "colab": {
          "base_uri": "https://localhost:8080/"
        },
        "id": "C0AQ7bLqAVue",
        "outputId": "87832435-07d7-48f2-def6-b213a2d3be54"
      },
      "execution_count": 41,
      "outputs": [
        {
          "output_type": "execute_result",
          "data": {
            "text/plain": [
              "<tf.Tensor: shape=(), dtype=int32, numpy=13>"
            ]
          },
          "metadata": {},
          "execution_count": 41
        }
      ]
    },
    {
      "cell_type": "code",
      "source": [
        "tf.metrics.mean_absolute_error(y_test, tf.squeeze(y_pred))"
      ],
      "metadata": {
        "colab": {
          "base_uri": "https://localhost:8080/"
        },
        "id": "zpU6lebG4JgZ",
        "outputId": "f06648d4-6736-4037-ff82-8f562a3be2f7"
      },
      "execution_count": 42,
      "outputs": [
        {
          "output_type": "execute_result",
          "data": {
            "text/plain": [
              "<tf.Tensor: shape=(), dtype=float32, numpy=7.6293945e-06>"
            ]
          },
          "metadata": {},
          "execution_count": 42
        }
      ]
    },
    {
      "cell_type": "code",
      "source": [
        "tf.metrics.mean_squared_error(y_test, tf.squeeze(y_pred))"
      ],
      "metadata": {
        "colab": {
          "base_uri": "https://localhost:8080/"
        },
        "id": "M2TQjj5G5juo",
        "outputId": "c0df5061-d9b2-4602-a9d5-9ad474551333"
      },
      "execution_count": 43,
      "outputs": [
        {
          "output_type": "execute_result",
          "data": {
            "text/plain": [
              "<tf.Tensor: shape=(), dtype=float32, numpy=8.1490724e-11>"
            ]
          },
          "metadata": {},
          "execution_count": 43
        }
      ]
    },
    {
      "cell_type": "code",
      "source": [
        "def mae(y_test, y_pred):\n",
        "  return tf.metrics.mean_absolute_error(y_test, tf.squeeze(y_pred))\n",
        "\n",
        "def mse(y_test, y_pred):\n",
        "  return tf.metrics.mean_squared_error(y_test, tf.squeeze(y_pred))"
      ],
      "metadata": {
        "id": "x_bTrp7M6LQD"
      },
      "execution_count": 44,
      "outputs": []
    },
    {
      "cell_type": "code",
      "source": [
        "# Model 1\n",
        "tf.random.set_seed(42)\n",
        "\n",
        "# Create Model\n",
        "model_1 = tf.keras.Sequential([\n",
        "    tf.keras.layers.Dense(1)\n",
        "])\n",
        "\n",
        "model_1.compile(loss = tf.keras.losses.mae,\n",
        "                optimizer = tf.keras.optimizers.SGD(),\n",
        "                metrics = ['mae'])"
      ],
      "metadata": {
        "id": "BiMR_Zpc6cJf"
      },
      "execution_count": 45,
      "outputs": []
    },
    {
      "cell_type": "code",
      "source": [
        "model_1.fit(tf.expand_dims(X_train, axis = 1), y_train, epochs = 100)"
      ],
      "metadata": {
        "colab": {
          "base_uri": "https://localhost:8080/"
        },
        "id": "ZIa-kp4j8pf_",
        "outputId": "4a1d760e-45ad-401e-9bd0-a74169be1481"
      },
      "execution_count": 46,
      "outputs": [
        {
          "output_type": "stream",
          "name": "stdout",
          "text": [
            "Epoch 1/100\n",
            "2/2 [==============================] - 0s 11ms/step - loss: 18.7381 - mae: 18.7381\n",
            "Epoch 2/100\n",
            "2/2 [==============================] - 0s 7ms/step - loss: 11.6251 - mae: 11.6251\n",
            "Epoch 3/100\n",
            "2/2 [==============================] - 0s 6ms/step - loss: 11.6425 - mae: 11.6425\n",
            "Epoch 4/100\n",
            "2/2 [==============================] - 0s 7ms/step - loss: 9.3543 - mae: 9.3543\n",
            "Epoch 5/100\n",
            "2/2 [==============================] - 0s 6ms/step - loss: 10.2321 - mae: 10.2321\n",
            "Epoch 6/100\n",
            "2/2 [==============================] - 0s 6ms/step - loss: 9.4864 - mae: 9.4864\n",
            "Epoch 7/100\n",
            "2/2 [==============================] - 0s 6ms/step - loss: 8.6167 - mae: 8.6167\n",
            "Epoch 8/100\n",
            "2/2 [==============================] - 0s 7ms/step - loss: 9.0441 - mae: 9.0441\n",
            "Epoch 9/100\n",
            "2/2 [==============================] - 0s 7ms/step - loss: 18.8754 - mae: 18.8754\n",
            "Epoch 10/100\n",
            "2/2 [==============================] - 0s 6ms/step - loss: 10.1801 - mae: 10.1801\n",
            "Epoch 11/100\n",
            "2/2 [==============================] - 0s 6ms/step - loss: 8.4212 - mae: 8.4212\n",
            "Epoch 12/100\n",
            "2/2 [==============================] - 0s 7ms/step - loss: 10.7158 - mae: 10.7158\n",
            "Epoch 13/100\n",
            "2/2 [==============================] - 0s 6ms/step - loss: 9.8158 - mae: 9.8158\n",
            "Epoch 14/100\n",
            "2/2 [==============================] - 0s 6ms/step - loss: 16.1426 - mae: 16.1426\n",
            "Epoch 15/100\n",
            "2/2 [==============================] - 0s 11ms/step - loss: 11.2979 - mae: 11.2979\n",
            "Epoch 16/100\n",
            "2/2 [==============================] - 0s 7ms/step - loss: 8.5669 - mae: 8.5669\n",
            "Epoch 17/100\n",
            "2/2 [==============================] - 0s 6ms/step - loss: 13.7032 - mae: 13.7032\n",
            "Epoch 18/100\n",
            "2/2 [==============================] - 0s 7ms/step - loss: 11.5495 - mae: 11.5495\n",
            "Epoch 19/100\n",
            "2/2 [==============================] - 0s 6ms/step - loss: 17.8023 - mae: 17.8023\n",
            "Epoch 20/100\n",
            "2/2 [==============================] - 0s 13ms/step - loss: 14.9377 - mae: 14.9377\n",
            "Epoch 21/100\n",
            "2/2 [==============================] - 0s 6ms/step - loss: 10.8231 - mae: 10.8231\n",
            "Epoch 22/100\n",
            "2/2 [==============================] - 0s 8ms/step - loss: 8.5716 - mae: 8.5716\n",
            "Epoch 23/100\n",
            "2/2 [==============================] - 0s 6ms/step - loss: 9.7210 - mae: 9.7210\n",
            "Epoch 24/100\n",
            "2/2 [==============================] - 0s 7ms/step - loss: 10.9337 - mae: 10.9337\n",
            "Epoch 25/100\n",
            "2/2 [==============================] - 0s 8ms/step - loss: 9.1476 - mae: 9.1476\n",
            "Epoch 26/100\n",
            "2/2 [==============================] - 0s 7ms/step - loss: 13.1704 - mae: 13.1704\n",
            "Epoch 27/100\n",
            "2/2 [==============================] - 0s 7ms/step - loss: 10.6471 - mae: 10.6471\n",
            "Epoch 28/100\n",
            "2/2 [==============================] - 0s 7ms/step - loss: 12.8605 - mae: 12.8605\n",
            "Epoch 29/100\n",
            "2/2 [==============================] - 0s 7ms/step - loss: 9.5002 - mae: 9.5002\n",
            "Epoch 30/100\n",
            "2/2 [==============================] - 0s 10ms/step - loss: 16.3748 - mae: 16.3748\n",
            "Epoch 31/100\n",
            "2/2 [==============================] - 0s 7ms/step - loss: 23.6078 - mae: 23.6078\n",
            "Epoch 32/100\n",
            "2/2 [==============================] - 0s 11ms/step - loss: 7.6084 - mae: 7.6084\n",
            "Epoch 33/100\n",
            "2/2 [==============================] - 0s 6ms/step - loss: 9.3074 - mae: 9.3074\n",
            "Epoch 34/100\n",
            "2/2 [==============================] - 0s 8ms/step - loss: 13.6996 - mae: 13.6996\n",
            "Epoch 35/100\n",
            "2/2 [==============================] - 0s 7ms/step - loss: 11.1356 - mae: 11.1356\n",
            "Epoch 36/100\n",
            "2/2 [==============================] - 0s 7ms/step - loss: 13.3466 - mae: 13.3466\n",
            "Epoch 37/100\n",
            "2/2 [==============================] - 0s 7ms/step - loss: 9.4575 - mae: 9.4575\n",
            "Epoch 38/100\n",
            "2/2 [==============================] - 0s 9ms/step - loss: 10.1139 - mae: 10.1139\n",
            "Epoch 39/100\n",
            "2/2 [==============================] - 0s 8ms/step - loss: 10.1875 - mae: 10.1875\n",
            "Epoch 40/100\n",
            "2/2 [==============================] - 0s 6ms/step - loss: 10.9282 - mae: 10.9282\n",
            "Epoch 41/100\n",
            "2/2 [==============================] - 0s 7ms/step - loss: 7.9154 - mae: 7.9154\n",
            "Epoch 42/100\n",
            "2/2 [==============================] - 0s 7ms/step - loss: 10.0700 - mae: 10.0700\n",
            "Epoch 43/100\n",
            "2/2 [==============================] - 0s 8ms/step - loss: 8.6874 - mae: 8.6874\n",
            "Epoch 44/100\n",
            "2/2 [==============================] - 0s 7ms/step - loss: 12.1728 - mae: 12.1728\n",
            "Epoch 45/100\n",
            "2/2 [==============================] - 0s 7ms/step - loss: 13.8166 - mae: 13.8166\n",
            "Epoch 46/100\n",
            "2/2 [==============================] - 0s 6ms/step - loss: 8.4786 - mae: 8.4786\n",
            "Epoch 47/100\n",
            "2/2 [==============================] - 0s 7ms/step - loss: 9.1139 - mae: 9.1139\n",
            "Epoch 48/100\n",
            "2/2 [==============================] - 0s 8ms/step - loss: 10.5938 - mae: 10.5938\n",
            "Epoch 49/100\n",
            "2/2 [==============================] - 0s 7ms/step - loss: 7.7330 - mae: 7.7330\n",
            "Epoch 50/100\n",
            "2/2 [==============================] - 0s 7ms/step - loss: 9.5173 - mae: 9.5173\n",
            "Epoch 51/100\n",
            "2/2 [==============================] - 0s 7ms/step - loss: 9.1475 - mae: 9.1475\n",
            "Epoch 52/100\n",
            "2/2 [==============================] - 0s 6ms/step - loss: 16.3258 - mae: 16.3258\n",
            "Epoch 53/100\n",
            "2/2 [==============================] - 0s 6ms/step - loss: 14.1396 - mae: 14.1396\n",
            "Epoch 54/100\n",
            "2/2 [==============================] - 0s 7ms/step - loss: 21.1597 - mae: 21.1597\n",
            "Epoch 55/100\n",
            "2/2 [==============================] - 0s 8ms/step - loss: 16.3607 - mae: 16.3607\n",
            "Epoch 56/100\n",
            "2/2 [==============================] - 0s 6ms/step - loss: 9.9997 - mae: 9.9997\n",
            "Epoch 57/100\n",
            "2/2 [==============================] - 0s 7ms/step - loss: 9.9385 - mae: 9.9385\n",
            "Epoch 58/100\n",
            "2/2 [==============================] - 0s 7ms/step - loss: 9.2006 - mae: 9.2006\n",
            "Epoch 59/100\n",
            "2/2 [==============================] - 0s 8ms/step - loss: 8.4047 - mae: 8.4047\n",
            "Epoch 60/100\n",
            "2/2 [==============================] - 0s 7ms/step - loss: 9.4696 - mae: 9.4696\n",
            "Epoch 61/100\n",
            "2/2 [==============================] - 0s 9ms/step - loss: 11.4070 - mae: 11.4070\n",
            "Epoch 62/100\n",
            "2/2 [==============================] - 0s 7ms/step - loss: 11.7070 - mae: 11.7070\n",
            "Epoch 63/100\n",
            "2/2 [==============================] - 0s 6ms/step - loss: 7.0686 - mae: 7.0686\n",
            "Epoch 64/100\n",
            "2/2 [==============================] - 0s 9ms/step - loss: 16.9885 - mae: 16.9885\n",
            "Epoch 65/100\n",
            "2/2 [==============================] - 0s 8ms/step - loss: 12.4729 - mae: 12.4729\n",
            "Epoch 66/100\n",
            "2/2 [==============================] - 0s 9ms/step - loss: 13.0376 - mae: 13.0376\n",
            "Epoch 67/100\n",
            "2/2 [==============================] - 0s 7ms/step - loss: 8.0621 - mae: 8.0621\n",
            "Epoch 68/100\n",
            "2/2 [==============================] - 0s 8ms/step - loss: 10.1977 - mae: 10.1977\n",
            "Epoch 69/100\n",
            "2/2 [==============================] - 0s 8ms/step - loss: 12.3841 - mae: 12.3841\n",
            "Epoch 70/100\n",
            "2/2 [==============================] - 0s 7ms/step - loss: 9.0316 - mae: 9.0316\n",
            "Epoch 71/100\n",
            "2/2 [==============================] - 0s 7ms/step - loss: 10.0166 - mae: 10.0166\n",
            "Epoch 72/100\n",
            "2/2 [==============================] - 0s 9ms/step - loss: 10.0338 - mae: 10.0338\n",
            "Epoch 73/100\n",
            "2/2 [==============================] - 0s 7ms/step - loss: 12.5850 - mae: 12.5850\n",
            "Epoch 74/100\n",
            "2/2 [==============================] - 0s 12ms/step - loss: 10.4016 - mae: 10.4016\n",
            "Epoch 75/100\n",
            "2/2 [==============================] - 0s 7ms/step - loss: 9.7036 - mae: 9.7036\n",
            "Epoch 76/100\n",
            "2/2 [==============================] - 0s 11ms/step - loss: 11.2007 - mae: 11.2007\n",
            "Epoch 77/100\n",
            "2/2 [==============================] - 0s 7ms/step - loss: 8.3463 - mae: 8.3463\n",
            "Epoch 78/100\n",
            "2/2 [==============================] - 0s 8ms/step - loss: 9.0990 - mae: 9.0990\n",
            "Epoch 79/100\n",
            "2/2 [==============================] - 0s 9ms/step - loss: 19.5367 - mae: 19.5367\n",
            "Epoch 80/100\n",
            "2/2 [==============================] - 0s 15ms/step - loss: 14.8607 - mae: 14.8607\n",
            "Epoch 81/100\n",
            "2/2 [==============================] - 0s 7ms/step - loss: 9.0268 - mae: 9.0268\n",
            "Epoch 82/100\n",
            "2/2 [==============================] - 0s 7ms/step - loss: 12.9911 - mae: 12.9911\n",
            "Epoch 83/100\n",
            "2/2 [==============================] - 0s 7ms/step - loss: 7.9067 - mae: 7.9067\n",
            "Epoch 84/100\n",
            "2/2 [==============================] - 0s 7ms/step - loss: 7.6880 - mae: 7.6880\n",
            "Epoch 85/100\n",
            "2/2 [==============================] - 0s 7ms/step - loss: 10.0445 - mae: 10.0445\n",
            "Epoch 86/100\n",
            "2/2 [==============================] - 0s 7ms/step - loss: 9.2486 - mae: 9.2486\n",
            "Epoch 87/100\n",
            "2/2 [==============================] - 0s 6ms/step - loss: 12.0367 - mae: 12.0367\n",
            "Epoch 88/100\n",
            "2/2 [==============================] - 0s 7ms/step - loss: 10.6552 - mae: 10.6552\n",
            "Epoch 89/100\n",
            "2/2 [==============================] - 0s 7ms/step - loss: 7.2613 - mae: 7.2613\n",
            "Epoch 90/100\n",
            "2/2 [==============================] - 0s 7ms/step - loss: 12.7977 - mae: 12.7977\n",
            "Epoch 91/100\n",
            "2/2 [==============================] - 0s 6ms/step - loss: 7.4730 - mae: 7.4730\n",
            "Epoch 92/100\n",
            "2/2 [==============================] - 0s 8ms/step - loss: 6.7451 - mae: 6.7451\n",
            "Epoch 93/100\n",
            "2/2 [==============================] - 0s 7ms/step - loss: 11.9472 - mae: 11.9472\n",
            "Epoch 94/100\n",
            "2/2 [==============================] - 0s 6ms/step - loss: 8.8774 - mae: 8.8774\n",
            "Epoch 95/100\n",
            "2/2 [==============================] - 0s 9ms/step - loss: 7.7151 - mae: 7.7151\n",
            "Epoch 96/100\n",
            "2/2 [==============================] - 0s 7ms/step - loss: 6.7440 - mae: 6.7440\n",
            "Epoch 97/100\n",
            "2/2 [==============================] - 0s 6ms/step - loss: 8.6293 - mae: 8.6293\n",
            "Epoch 98/100\n",
            "2/2 [==============================] - 0s 8ms/step - loss: 9.3842 - mae: 9.3842\n",
            "Epoch 99/100\n",
            "2/2 [==============================] - 0s 7ms/step - loss: 9.1205 - mae: 9.1205\n",
            "Epoch 100/100\n",
            "2/2 [==============================] - 0s 12ms/step - loss: 10.4763 - mae: 10.4763\n"
          ]
        },
        {
          "output_type": "execute_result",
          "data": {
            "text/plain": [
              "<keras.callbacks.History at 0x7facd54991f0>"
            ]
          },
          "metadata": {},
          "execution_count": 46
        }
      ]
    },
    {
      "cell_type": "code",
      "source": [
        "X_test, y_test"
      ],
      "metadata": {
        "colab": {
          "base_uri": "https://localhost:8080/"
        },
        "id": "wFhXibh89WsG",
        "outputId": "bc249a65-c6c0-4983-b005-b837c0550bc2"
      },
      "execution_count": 47,
      "outputs": [
        {
          "output_type": "execute_result",
          "data": {
            "text/plain": [
              "(<tf.Tensor: shape=(10,), dtype=int32, numpy=array([60, 64, 68, 72, 76, 80, 84, 88, 92, 96], dtype=int32)>,\n",
              " <tf.Tensor: shape=(10,), dtype=int32, numpy=array([ 70,  74,  78,  82,  86,  90,  94,  98, 102, 106], dtype=int32)>)"
            ]
          },
          "metadata": {},
          "execution_count": 47
        }
      ]
    },
    {
      "cell_type": "code",
      "source": [
        "y_pred = model_1.predict([X_test])\n",
        "y_pred"
      ],
      "metadata": {
        "colab": {
          "base_uri": "https://localhost:8080/"
        },
        "id": "4jbO_5l683Xr",
        "outputId": "24e4290d-0178-49f6-b9dd-d97a2cb9b9ae"
      },
      "execution_count": 48,
      "outputs": [
        {
          "output_type": "stream",
          "name": "stderr",
          "text": [
            "WARNING:tensorflow:Layers in a Sequential model should only have a single input tensor. Received: inputs=(<tf.Tensor 'IteratorGetNext:0' shape=(None,) dtype=int32>,). Consider rewriting this model with the Functional API.\n",
            "WARNING:tensorflow:5 out of the last 5 calls to <function Model.make_predict_function.<locals>.predict_function at 0x7facd5437a60> triggered tf.function retracing. Tracing is expensive and the excessive number of tracings could be due to (1) creating @tf.function repeatedly in a loop, (2) passing tensors with different shapes, (3) passing Python objects instead of tensors. For (1), please define your @tf.function outside of the loop. For (2), @tf.function has reduce_retracing=True option that can avoid unnecessary retracing. For (3), please refer to https://www.tensorflow.org/guide/function#controlling_retracing and https://www.tensorflow.org/api_docs/python/tf/function for  more details.\n"
          ]
        },
        {
          "output_type": "stream",
          "name": "stdout",
          "text": [
            "1/1 [==============================] - 0s 57ms/step\n"
          ]
        },
        {
          "output_type": "execute_result",
          "data": {
            "text/plain": [
              "array([[56.536777],\n",
              "       [60.21877 ],\n",
              "       [63.90076 ],\n",
              "       [67.582756],\n",
              "       [71.264755],\n",
              "       [74.94675 ],\n",
              "       [78.62874 ],\n",
              "       [82.31074 ],\n",
              "       [85.99273 ],\n",
              "       [89.67472 ]], dtype=float32)"
            ]
          },
          "metadata": {},
          "execution_count": 48
        }
      ]
    },
    {
      "cell_type": "code",
      "source": [
        "plot_predictions(predictions = y_pred)"
      ],
      "metadata": {
        "colab": {
          "base_uri": "https://localhost:8080/",
          "height": 428
        },
        "id": "BO2zzABh_hip",
        "outputId": "50ad8790-93df-41cd-a0e6-3e17a804baac"
      },
      "execution_count": 49,
      "outputs": [
        {
          "output_type": "display_data",
          "data": {
            "text/plain": [
              "<Figure size 720x504 with 1 Axes>"
            ],
            "image/png": "[encoded data removed]"
          },
          "metadata": {
            "needs_background": "light"
          }
        }
      ]
    },
    {
      "cell_type": "code",
      "source": [
        "mae_1 = mae(y_test, y_pred)\n",
        "mse_1 = mse(y_test, y_pred)\n",
        "mae_1, mse_1"
      ],
      "metadata": {
        "colab": {
          "base_uri": "https://localhost:8080/"
        },
        "id": "jMOmHVAlAJMn",
        "outputId": "28afceeb-005c-4d2c-db00-05bd941e26de"
      },
      "execution_count": 50,
      "outputs": [
        {
          "output_type": "execute_result",
          "data": {
            "text/plain": [
              "(<tf.Tensor: shape=(), dtype=float32, numpy=14.894251>,\n",
              " <tf.Tensor: shape=(), dtype=float32, numpy=222.673>)"
            ]
          },
          "metadata": {},
          "execution_count": 50
        }
      ]
    },
    {
      "cell_type": "code",
      "source": [
        "# Model 2\n",
        "tf.random.set_seed(42)\n",
        "\n",
        "model_2 = tf.keras.Sequential([\n",
        "    tf.keras.layers.Dense(10),\n",
        "    tf.keras.layers.Dense(1)\n",
        "])\n",
        "\n",
        "model_2.compile(loss = tf.keras.losses.mae,\n",
        "                optimizer = tf.keras.optimizers.SGD(),\n",
        "                metrics = ['mse'])"
      ],
      "metadata": {
        "id": "HxUMoFu79aIk"
      },
      "execution_count": 51,
      "outputs": []
    },
    {
      "cell_type": "code",
      "source": [
        "model_2.fit(tf.expand_dims(X_train, axis = 1), y_train, epochs = 100, verbose=0)"
      ],
      "metadata": {
        "colab": {
          "base_uri": "https://localhost:8080/"
        },
        "id": "2gnUjDdZ-BI6",
        "outputId": "98683a0e-0b68-409f-f90b-b100c4b2ca9c"
      },
      "execution_count": 52,
      "outputs": [
        {
          "output_type": "execute_result",
          "data": {
            "text/plain": [
              "<keras.callbacks.History at 0x7fadedebe910>"
            ]
          },
          "metadata": {},
          "execution_count": 52
        }
      ]
    },
    {
      "cell_type": "code",
      "source": [
        "X_test, y_test"
      ],
      "metadata": {
        "colab": {
          "base_uri": "https://localhost:8080/"
        },
        "id": "991goUY2BiIg",
        "outputId": "38a4c272-bebe-40c1-bdfb-778bf888e768"
      },
      "execution_count": 53,
      "outputs": [
        {
          "output_type": "execute_result",
          "data": {
            "text/plain": [
              "(<tf.Tensor: shape=(10,), dtype=int32, numpy=array([60, 64, 68, 72, 76, 80, 84, 88, 92, 96], dtype=int32)>,\n",
              " <tf.Tensor: shape=(10,), dtype=int32, numpy=array([ 70,  74,  78,  82,  86,  90,  94,  98, 102, 106], dtype=int32)>)"
            ]
          },
          "metadata": {},
          "execution_count": 53
        }
      ]
    },
    {
      "cell_type": "code",
      "source": [
        "y_pred = model_2.predict([X_test])\n",
        "y_pred"
      ],
      "metadata": {
        "colab": {
          "base_uri": "https://localhost:8080/"
        },
        "id": "Z7cnYP9G-R55",
        "outputId": "98e1286d-e5d8-4519-c608-fe7b9f005cc5"
      },
      "execution_count": 54,
      "outputs": [
        {
          "output_type": "stream",
          "name": "stderr",
          "text": [
            "WARNING:tensorflow:Layers in a Sequential model should only have a single input tensor. Received: inputs=(<tf.Tensor 'IteratorGetNext:0' shape=(None,) dtype=int32>,). Consider rewriting this model with the Functional API.\n",
            "WARNING:tensorflow:6 out of the last 6 calls to <function Model.make_predict_function.<locals>.predict_function at 0x7fadede87a60> triggered tf.function retracing. Tracing is expensive and the excessive number of tracings could be due to (1) creating @tf.function repeatedly in a loop, (2) passing tensors with different shapes, (3) passing Python objects instead of tensors. For (1), please define your @tf.function outside of the loop. For (2), @tf.function has reduce_retracing=True option that can avoid unnecessary retracing. For (3), please refer to https://www.tensorflow.org/guide/function#controlling_retracing and https://www.tensorflow.org/api_docs/python/tf/function for  more details.\n"
          ]
        },
        {
          "output_type": "stream",
          "name": "stdout",
          "text": [
            "1/1 [==============================] - 0s 51ms/step\n"
          ]
        },
        {
          "output_type": "execute_result",
          "data": {
            "text/plain": [
              "array([[34.92176 ],\n",
              "       [37.15325 ],\n",
              "       [39.38474 ],\n",
              "       [41.61623 ],\n",
              "       [43.84772 ],\n",
              "       [46.07921 ],\n",
              "       [48.3107  ],\n",
              "       [50.542187],\n",
              "       [52.77368 ],\n",
              "       [55.00517 ]], dtype=float32)"
            ]
          },
          "metadata": {},
          "execution_count": 54
        }
      ]
    },
    {
      "cell_type": "code",
      "source": [
        "plot_predictions(predictions = y_pred)"
      ],
      "metadata": {
        "colab": {
          "base_uri": "https://localhost:8080/",
          "height": 428
        },
        "id": "DDq3YWUjBn-v",
        "outputId": "1f048529-f9f3-4b17-d07c-3fac08feec9e"
      },
      "execution_count": 55,
      "outputs": [
        {
          "output_type": "display_data",
          "data": {
            "text/plain": [
              "<Figure size 720x504 with 1 Axes>"
            ],
            "image/png": "[encoded data removed]"
          },
          "metadata": {
            "needs_background": "light"
          }
        }
      ]
    },
    {
      "cell_type": "code",
      "source": [
        "mae_2 = mae(y_test, y_pred)\n",
        "mse_2 = mse(y_test, y_pred)\n",
        "mae_2, mse_2"
      ],
      "metadata": {
        "colab": {
          "base_uri": "https://localhost:8080/"
        },
        "id": "UWRSeNdrBuwS",
        "outputId": "5acfc15d-6ff4-446b-af61-46268d44b899"
      },
      "execution_count": 56,
      "outputs": [
        {
          "output_type": "execute_result",
          "data": {
            "text/plain": [
              "(<tf.Tensor: shape=(), dtype=float32, numpy=43.036537>,\n",
              " <tf.Tensor: shape=(), dtype=float32, numpy=1877.9463>)"
            ]
          },
          "metadata": {},
          "execution_count": 56
        }
      ]
    },
    {
      "cell_type": "markdown",
      "source": [
        "# Model 3"
      ],
      "metadata": {
        "id": "GnvPrMLASio2"
      }
    },
    {
      "cell_type": "code",
      "source": [
        "# Model 3\n",
        "tf.random.set_seed(42)\n",
        "\n",
        "model_3 = tf.keras.Sequential([\n",
        "    tf.keras.layers.Dense(100, activation='relu'),\n",
        "    tf.keras.layers.Dense(1)\n",
        "])\n",
        "\n",
        "model_3.compile(loss = tf.keras.losses.mae,\n",
        "                optimizer = tf.keras.optimizers.SGD(),\n",
        "                metrics = ['mae'])"
      ],
      "metadata": {
        "id": "sftGnsyx-gTg"
      },
      "execution_count": 68,
      "outputs": []
    },
    {
      "cell_type": "code",
      "source": [
        "model_3.fit(tf.expand_dims(X_train, axis = 1), y_train, epochs = 200, verbose = 0) # Never always overtrain, meaning always increasing number of epochs will not always improve model."
      ],
      "metadata": {
        "colab": {
          "base_uri": "https://localhost:8080/"
        },
        "id": "ZmF591Aa-oFS",
        "outputId": "6d284b70-078f-4ede-eb75-8b0bacc58e5b"
      },
      "execution_count": 69,
      "outputs": [
        {
          "output_type": "execute_result",
          "data": {
            "text/plain": [
              "<keras.callbacks.History at 0x7fadedd4e040>"
            ]
          },
          "metadata": {},
          "execution_count": 69
        }
      ]
    },
    {
      "cell_type": "code",
      "source": [
        "X_test, y_test"
      ],
      "metadata": {
        "colab": {
          "base_uri": "https://localhost:8080/"
        },
        "id": "r4eEvD7CD98T",
        "outputId": "95c545db-1082-4cce-d175-da9f48a7d846"
      },
      "execution_count": 70,
      "outputs": [
        {
          "output_type": "execute_result",
          "data": {
            "text/plain": [
              "(<tf.Tensor: shape=(10,), dtype=int32, numpy=array([60, 64, 68, 72, 76, 80, 84, 88, 92, 96], dtype=int32)>,\n",
              " <tf.Tensor: shape=(10,), dtype=int32, numpy=array([ 70,  74,  78,  82,  86,  90,  94,  98, 102, 106], dtype=int32)>)"
            ]
          },
          "metadata": {},
          "execution_count": 70
        }
      ]
    },
    {
      "cell_type": "code",
      "source": [
        "y_pred = model_3.predict([X_test])\n",
        "y_pred"
      ],
      "metadata": {
        "colab": {
          "base_uri": "https://localhost:8080/"
        },
        "id": "DT6AYWJ0-3cE",
        "outputId": "ea9a0d19-2daf-44d9-a159-c6b0ed76ed6a"
      },
      "execution_count": 71,
      "outputs": [
        {
          "output_type": "stream",
          "name": "stderr",
          "text": [
            "WARNING:tensorflow:Layers in a Sequential model should only have a single input tensor. Received: inputs=(<tf.Tensor 'IteratorGetNext:0' shape=(None,) dtype=int32>,). Consider rewriting this model with the Functional API.\n"
          ]
        },
        {
          "output_type": "stream",
          "name": "stdout",
          "text": [
            "1/1 [==============================] - 0s 48ms/step\n"
          ]
        },
        {
          "output_type": "execute_result",
          "data": {
            "text/plain": [
              "array([[ 69.99959 ],\n",
              "       [ 74.57338 ],\n",
              "       [ 79.147194],\n",
              "       [ 83.72099 ],\n",
              "       [ 88.29479 ],\n",
              "       [ 92.8686  ],\n",
              "       [ 97.442406],\n",
              "       [102.016205],\n",
              "       [106.59001 ],\n",
              "       [111.1638  ]], dtype=float32)"
            ]
          },
          "metadata": {},
          "execution_count": 71
        }
      ]
    },
    {
      "cell_type": "code",
      "source": [
        "plot_predictions(predictions = y_pred)"
      ],
      "metadata": {
        "colab": {
          "base_uri": "https://localhost:8080/",
          "height": 428
        },
        "id": "UTm9e29PD0Qu",
        "outputId": "f7ccc1fa-ac60-45df-92cc-dc9a71ba1ab5"
      },
      "execution_count": 72,
      "outputs": [
        {
          "output_type": "display_data",
          "data": {
            "text/plain": [
              "<Figure size 720x504 with 1 Axes>"
            ],
            "image/png": "[encoded data removed]"
          },
          "metadata": {
            "needs_background": "light"
          }
        }
      ]
    },
    {
      "cell_type": "code",
      "source": [
        "mae_3 = mae(y_test, y_pred)\n",
        "mse_3 = mse(y_test, y_pred)\n",
        "mae_3, mse_3"
      ],
      "metadata": {
        "colab": {
          "base_uri": "https://localhost:8080/"
        },
        "id": "riQ-FQSWESpA",
        "outputId": "06e49e08-d523-4466-d4bb-97c6cf41ec76"
      },
      "execution_count": 62,
      "outputs": [
        {
          "output_type": "execute_result",
          "data": {
            "text/plain": [
              "(<tf.Tensor: shape=(), dtype=float32, numpy=5.64172>,\n",
              " <tf.Tensor: shape=(), dtype=float32, numpy=32.021767>)"
            ]
          },
          "metadata": {},
          "execution_count": 62
        }
      ]
    },
    {
      "cell_type": "markdown",
      "source": [
        "## **Compairing Results of our experiments.**"
      ],
      "metadata": {
        "id": "Wlmb8stLFdyc"
      }
    },
    {
      "cell_type": "code",
      "source": [
        "# Using pandas DataFrame to compair our model's results\n",
        "import pandas as pd\n",
        "\n",
        "model_results = [['model_1', mae_1.numpy(), mse_1.numpy()],\n",
        "                 ['model_2', mae_2.numpy(), mse_2.numpy()],\n",
        "                 ['model_3', mae_3.numpy(), mse_3.numpy()]]\n",
        "\n",
        "all_results = pd.DataFrame(model_results, columns=['model', 'mae', 'mse'])\n",
        "all_results"
      ],
      "metadata": {
        "colab": {
          "base_uri": "https://localhost:8080/",
          "height": 168
        },
        "id": "_sOfEm1IEn3N",
        "outputId": "f08b44b0-f914-4bbb-d411-49d9717f2f17"
      },
      "execution_count": 74,
      "outputs": [
        {
          "output_type": "execute_result",
          "data": {
            "text/plain": [
              "     model        mae          mse\n",
              "0  model_1  14.894251   222.673004\n",
              "1  model_2  43.036537  1877.946289\n",
              "2  model_3   5.641720    32.021767"
            ],
            "text/html": [
              "\n",
              "  <div id=\"df-8b67d06d-4615-4e84-a911-1b149efdc430\">\n",
              "    <div class=\"colab-df-container\">\n",
              "      <div>\n",
              "<style scoped>\n",
              "    .dataframe tbody tr th:only-of-type {\n",
              "        vertical-align: middle;\n",
              "    }\n",
              "\n",
              "    .dataframe tbody tr th {\n",
              "        vertical-align: top;\n",
              "    }\n",
              "\n",
              "    .dataframe thead th {\n",
              "        text-align: right;\n",
              "    }\n",
              "</style>\n",
              "<table border=\"1\" class=\"dataframe\">\n",
              "  <thead>\n",
              "    <tr style=\"text-align: right;\">\n",
              "      <th></th>\n",
              "      <th>model</th>\n",
              "      <th>mae</th>\n",
              "      <th>mse</th>\n",
              "    </tr>\n",
              "  </thead>\n",
              "  <tbody>\n",
              "    <tr>\n",
              "      <th>0</th>\n",
              "      <td>model_1</td>\n",
              "      <td>14.894251</td>\n",
              "      <td>222.673004</td>\n",
              "    </tr>\n",
              "    <tr>\n",
              "      <th>1</th>\n",
              "      <td>model_2</td>\n",
              "      <td>43.036537</td>\n",
              "      <td>1877.946289</td>\n",
              "    </tr>\n",
              "    <tr>\n",
              "      <th>2</th>\n",
              "      <td>model_3</td>\n",
              "      <td>5.641720</td>\n",
              "      <td>32.021767</td>\n",
              "    </tr>\n",
              "  </tbody>\n",
              "</table>\n",
              "</div>\n",
              "      <button class=\"colab-df-convert\" onclick=\"convertToInteractive('df-8b67d06d-4615-4e84-a911-1b149efdc430')\"\n",
              "              title=\"Convert this dataframe to an interactive table.\"\n",
              "              style=\"display:none;\">\n",
              "        \n",
              "  <svg xmlns=\"http://www.w3.org/2000/svg\" height=\"24px\"viewBox=\"0 0 24 24\"\n",
              "       width=\"24px\">\n",
              "    <path d=\"M0 0h24v24H0V0z\" fill=\"none\"/>\n",
              "    <path d=\"M18.56 5.44l.94 2.06.94-2.06 2.06-.94-2.06-.94-.94-2.06-.94 2.06-2.06.94zm-11 1L8.5 8.5l.94-2.06 2.06-.94-2.06-.94L8.5 2.5l-.94 2.06-2.06.94zm10 10l.94 2.06.94-2.06 2.06-.94-2.06-.94-.94-2.06-.94 2.06-2.06.94z\"/><path d=\"M17.41 7.96l-1.37-1.37c-.4-.4-.92-.59-1.43-.59-.52 0-1.04.2-1.43.59L10.3 9.45l-7.72 7.72c-.78.78-.78 2.05 0 2.83L4 21.41c.39.39.9.59 1.41.59.51 0 1.02-.2 1.41-.59l7.78-7.78 2.81-2.81c.8-.78.8-2.07 0-2.86zM5.41 20L4 18.59l7.72-7.72 1.47 1.35L5.41 20z\"/>\n",
              "  </svg>\n",
              "      </button>\n",
              "      \n",
              "  <style>\n",
              "    .colab-df-container {\n",
              "      display:flex;\n",
              "      flex-wrap:wrap;\n",
              "      gap: 12px;\n",
              "    }\n",
              "\n",
              "    .colab-df-convert {\n",
              "      background-color: #E8F0FE;\n",
              "      border: none;\n",
              "      border-radius: 50%;\n",
              "      cursor: pointer;\n",
              "      display: none;\n",
              "      fill: #1967D2;\n",
              "      height: 32px;\n",
              "      padding: 0 0 0 0;\n",
              "      width: 32px;\n",
              "    }\n",
              "\n",
              "    .colab-df-convert:hover {\n",
              "      background-color: #E2EBFA;\n",
              "      box-shadow: 0px 1px 2px rgba(60, 64, 67, 0.3), 0px 1px 3px 1px rgba(60, 64, 67, 0.15);\n",
              "      fill: #174EA6;\n",
              "    }\n",
              "\n",
              "    [theme=dark] .colab-df-convert {\n",
              "      background-color: #3B4455;\n",
              "      fill: #D2E3FC;\n",
              "    }\n",
              "\n",
              "    [theme=dark] .colab-df-convert:hover {\n",
              "      background-color: #434B5C;\n",
              "      box-shadow: 0px 1px 3px 1px rgba(0, 0, 0, 0.15);\n",
              "      filter: drop-shadow(0px 1px 2px rgba(0, 0, 0, 0.3));\n",
              "      fill: #FFFFFF;\n",
              "    }\n",
              "  </style>\n",
              "\n",
              "      <script>\n",
              "        const buttonEl =\n",
              "          document.querySelector('#df-8b67d06d-4615-4e84-a911-1b149efdc430 button.colab-df-convert');\n",
              "        buttonEl.style.display =\n",
              "          google.colab.kernel.accessAllowed ? 'block' : 'none';\n",
              "\n",
              "        async function convertToInteractive(key) {\n",
              "          const element = document.querySelector('#df-8b67d06d-4615-4e84-a911-1b149efdc430');\n",
              "          const dataTable =\n",
              "            await google.colab.kernel.invokeFunction('convertToInteractive',\n",
              "                                                     [key], {});\n",
              "          if (!dataTable) return;\n",
              "\n",
              "          const docLinkHtml = 'Like what you see? Visit the ' +\n",
              "            '<a target=\"_blank\" href=https://colab.research.google.com/notebooks/data_table.ipynb>data table notebook</a>'\n",
              "            + ' to learn more about interactive tables.';\n",
              "          element.innerHTML = '';\n",
              "          dataTable['output_type'] = 'display_data';\n",
              "          await google.colab.output.renderOutput(dataTable, element);\n",
              "          const docLink = document.createElement('div');\n",
              "          docLink.innerHTML = docLinkHtml;\n",
              "          element.appendChild(docLink);\n",
              "        }\n",
              "      </script>\n",
              "    </div>\n",
              "  </div>\n",
              "  "
            ]
          },
          "metadata": {},
          "execution_count": 74
        }
      ]
    },
    {
      "cell_type": "markdown",
      "source": [
        "### **Saving our models**\n",
        "Saving our models allow us to use them outside of google colab say, in a web application or mobile app.\n",
        "\n",
        "There two main formats to save our model:\n",
        "\n",
        "1. The SaveModel format.\n",
        "2. The HDF5 format."
      ],
      "metadata": {
        "id": "QDss7PyrY2kK"
      }
    },
    {
      "cell_type": "code",
      "source": [
        "model_3.save('model_3_SavedModel_format')"
      ],
      "metadata": {
        "colab": {
          "base_uri": "https://localhost:8080/"
        },
        "id": "ys-thW7xY1qi",
        "outputId": "fe36e768-b362-4274-8035-e1d4febe37a8"
      },
      "execution_count": 75,
      "outputs": [
        {
          "output_type": "stream",
          "name": "stderr",
          "text": [
            "WARNING:absl:Found untraced functions such as _update_step_xla while saving (showing 1 of 1). These functions will not be directly callable after loading.\n"
          ]
        }
      ]
    },
    {
      "cell_type": "code",
      "source": [
        "# HDF5 format\n",
        "model_3.save('model_3_HDF5_format.h5')"
      ],
      "metadata": {
        "id": "xv6roc6gbCZQ"
      },
      "execution_count": 76,
      "outputs": []
    },
    {
      "cell_type": "markdown",
      "source": [
        "### **Loading our models**"
      ],
      "metadata": {
        "id": "tV6y_7y_bbg3"
      }
    },
    {
      "cell_type": "code",
      "source": [
        "load_model_3 = tf.keras.models.load_model('/content/model_3_SavedModel_format')\n",
        "load_model_3.summary()"
      ],
      "metadata": {
        "colab": {
          "base_uri": "https://localhost:8080/"
        },
        "id": "A_VhZmozb4Uc",
        "outputId": "373ca5b2-d7e2-49f5-b099-b19cbab67789"
      },
      "execution_count": 79,
      "outputs": [
        {
          "output_type": "stream",
          "name": "stdout",
          "text": [
            "Model: \"sequential_7\"\n",
            "_________________________________________________________________\n",
            " Layer (type)                Output Shape              Param #   \n",
            "=================================================================\n",
            " dense_16 (Dense)            (None, 100)               200       \n",
            "                                                                 \n",
            " dense_17 (Dense)            (None, 1)                 101       \n",
            "                                                                 \n",
            "=================================================================\n",
            "Total params: 301\n",
            "Trainable params: 301\n",
            "Non-trainable params: 0\n",
            "_________________________________________________________________\n"
          ]
        }
      ]
    },
    {
      "cell_type": "code",
      "source": [
        "model_3.summary()"
      ],
      "metadata": {
        "colab": {
          "base_uri": "https://localhost:8080/"
        },
        "id": "7FSRoqpEcaaO",
        "outputId": "46887dc3-c226-4db3-aa27-8cddec96a0a0"
      },
      "execution_count": 80,
      "outputs": [
        {
          "output_type": "stream",
          "name": "stdout",
          "text": [
            "Model: \"sequential_7\"\n",
            "_________________________________________________________________\n",
            " Layer (type)                Output Shape              Param #   \n",
            "=================================================================\n",
            " dense_16 (Dense)            (None, 100)               200       \n",
            "                                                                 \n",
            " dense_17 (Dense)            (None, 1)                 101       \n",
            "                                                                 \n",
            "=================================================================\n",
            "Total params: 301\n",
            "Trainable params: 301\n",
            "Non-trainable params: 0\n",
            "_________________________________________________________________\n"
          ]
        }
      ]
    },
    {
      "cell_type": "code",
      "source": [
        "# Lets test whether saved model is making same predictions as model_3.\n",
        "# First lets check loaded model\n",
        "y_saved_pred = load_model_3.predict(X_test)\n",
        "y_saved_pred"
      ],
      "metadata": {
        "colab": {
          "base_uri": "https://localhost:8080/"
        },
        "id": "wrGePNH9ccbO",
        "outputId": "1f593deb-9f68-4d9f-b30b-e4b556b26c37"
      },
      "execution_count": 81,
      "outputs": [
        {
          "output_type": "stream",
          "name": "stdout",
          "text": [
            "1/1 [==============================] - 0s 72ms/step\n"
          ]
        },
        {
          "output_type": "execute_result",
          "data": {
            "text/plain": [
              "array([[ 69.99959 ],\n",
              "       [ 74.57338 ],\n",
              "       [ 79.147194],\n",
              "       [ 83.72099 ],\n",
              "       [ 88.29479 ],\n",
              "       [ 92.8686  ],\n",
              "       [ 97.442406],\n",
              "       [102.016205],\n",
              "       [106.59001 ],\n",
              "       [111.1638  ]], dtype=float32)"
            ]
          },
          "metadata": {},
          "execution_count": 81
        }
      ]
    },
    {
      "cell_type": "code",
      "source": [
        "# Now lets check the model_2's prections\n",
        "y_model_3_pred = model_3.predict(X_test)\n",
        "y_model_3_pred"
      ],
      "metadata": {
        "colab": {
          "base_uri": "https://localhost:8080/"
        },
        "id": "9bvUOl00c6Fy",
        "outputId": "ef260707-edc9-4636-aca6-7d09a9dd8988"
      },
      "execution_count": 83,
      "outputs": [
        {
          "output_type": "stream",
          "name": "stdout",
          "text": [
            "1/1 [==============================] - 0s 52ms/step\n"
          ]
        },
        {
          "output_type": "execute_result",
          "data": {
            "text/plain": [
              "array([[ 69.99959 ],\n",
              "       [ 74.57338 ],\n",
              "       [ 79.147194],\n",
              "       [ 83.72099 ],\n",
              "       [ 88.29479 ],\n",
              "       [ 92.8686  ],\n",
              "       [ 97.442406],\n",
              "       [102.016205],\n",
              "       [106.59001 ],\n",
              "       [111.1638  ]], dtype=float32)"
            ]
          },
          "metadata": {},
          "execution_count": 83
        }
      ]
    },
    {
      "cell_type": "markdown",
      "source": [
        "Looks like the saved model works the same as model_3"
      ],
      "metadata": {
        "id": "UA_M6ZELdhik"
      }
    },
    {
      "cell_type": "code",
      "source": [
        "plot_predictions(predictions = y_saved_pred), plot_predictions(predictions = y_model_3_pred)"
      ],
      "metadata": {
        "colab": {
          "base_uri": "https://localhost:8080/",
          "height": 856
        },
        "id": "GSX84-FYdQXp",
        "outputId": "5655bbf7-399a-4dac-d595-eda9cf3f2403"
      },
      "execution_count": 84,
      "outputs": [
        {
          "output_type": "execute_result",
          "data": {
            "text/plain": [
              "(None, None)"
            ]
          },
          "metadata": {},
          "execution_count": 84
        },
        {
          "output_type": "display_data",
          "data": {
            "text/plain": [
              "<Figure size 720x504 with 1 Axes>"
            ],
            "image/png": "[encoded data removed]"
          },
          "metadata": {
            "needs_background": "light"
          }
        },
        {
          "output_type": "display_data",
          "data": {
            "text/plain": [
              "<Figure size 720x504 with 1 Axes>"
            ],
            "image/png": "[encoded data removed]"
          },
          "metadata": {
            "needs_background": "light"
          }
        }
      ]
    }
  ]
}