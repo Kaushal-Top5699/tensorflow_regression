{
  "nbformat": 4,
  "nbformat_minor": 0,
  "metadata": {
    "colab": {
      "provenance": [],
      "authorship_tag": "ABX9TyNAoVJa26MI+HXZm8DOqNoo",
      "include_colab_link": true
    },
    "kernelspec": {
      "name": "python3",
      "display_name": "Python 3"
    },
    "language_info": {
      "name": "python"
    },
    "accelerator": "GPU",
    "gpuClass": "standard"
  },
  "cells": [
    {
      "cell_type": "markdown",
      "metadata": {
        "id": "view-in-github",
        "colab_type": "text"
      },
      "source": [
        "<a href=\"https://colab.research.google.com/github/Kaushal-Top5699/tensorflow_regression/blob/main/tensorflow_regression.ipynb\" target=\"_parent\"><img src=\"https://colab.research.google.com/assets/colab-badge.svg\" alt=\"Open In Colab\"/></a>"
      ]
    },
    {
      "cell_type": "markdown",
      "source": [
        "# **Regression in Neural Networks**\n",
        "Introduction to Regression in Neural Networks in Tensorflow.\n",
        "Predicting numerical values based on someother combination of values or more specifically variables."
      ],
      "metadata": {
        "id": "VgH3Sw6wVtUr"
      }
    },
    {
      "cell_type": "code",
      "source": [
        "import tensorflow as tf\n",
        "tf.__version__"
      ],
      "metadata": {
        "colab": {
          "base_uri": "https://localhost:8080/",
          "height": 35
        },
        "id": "ES9WGICnVrU3",
        "outputId": "7a5d1e97-db75-4d93-d662-9498477017a7"
      },
      "execution_count": 4,
      "outputs": [
        {
          "output_type": "execute_result",
          "data": {
            "text/plain": [
              "'2.11.0'"
            ],
            "application/vnd.google.colaboratory.intrinsic+json": {
              "type": "string"
            }
          },
          "metadata": {},
          "execution_count": 4
        }
      ]
    },
    {
      "cell_type": "markdown",
      "source": [
        "Creating data to view and fit."
      ],
      "metadata": {
        "id": "r-dLNR8m2awI"
      }
    },
    {
      "cell_type": "code",
      "source": [
        "import numpy as np\n",
        "import matplotlib.pyplot as plt\n",
        "\n",
        "# Creating features\n",
        "X = np.array([-7.0, -4.0, -1.0, 2.0, 5.0, 8.0, 11.0, 14.0])\n",
        "\n",
        "# Creating lables\n",
        "y = np.array([3.0, 6.0, 9.0, 12.0, 15.0, 18.0, 21.0, 24.0])\n",
        "\n",
        "# Visualise it\n",
        "plt.scatter(X, y)"
      ],
      "metadata": {
        "colab": {
          "base_uri": "https://localhost:8080/",
          "height": 286
        },
        "id": "eNIrDxhy2Hh5",
        "outputId": "87f32870-d8cb-45a4-8585-b3f3c023ccdb"
      },
      "execution_count": 5,
      "outputs": [
        {
          "output_type": "execute_result",
          "data": {
            "text/plain": [
              "<matplotlib.collections.PathCollection at 0x7fc8ac059730>"
            ]
          },
          "metadata": {},
          "execution_count": 5
        },
        {
          "output_type": "display_data",
          "data": {
            "text/plain": [
              "<Figure size 432x288 with 1 Axes>"
            ],
            "image/png": "[encoded data removed]"
          },
          "metadata": {
            "needs_background": "light"
          }
        }
      ]
    },
    {
      "cell_type": "code",
      "source": [
        "# Try find relation between X and y. Its basically X + 10. For example, -7.0 + 10 = 3.0 and same is the case with other features and lables.\n",
        "# Perform a check\n",
        "X + 10"
      ],
      "metadata": {
        "colab": {
          "base_uri": "https://localhost:8080/"
        },
        "id": "gKoqLW1H3Qwo",
        "outputId": "90e4aad5-3cdd-4541-f58b-cc6bbb4c807b"
      },
      "execution_count": 6,
      "outputs": [
        {
          "output_type": "execute_result",
          "data": {
            "text/plain": [
              "array([ 3.,  6.,  9., 12., 15., 18., 21., 24.])"
            ]
          },
          "metadata": {},
          "execution_count": 6
        }
      ]
    },
    {
      "cell_type": "markdown",
      "source": [
        "The model will basically return a number or predict a number or what 'y' should be when we pass it an 'X'. So after all the work is done if we pass it a number say, 17.0 the model should output 27.0 (Remeber the relation between X and y is? its X + 10). This is what we are trying to do here, happy learning."
      ],
      "metadata": {
        "id": "_CtFVrBD5Elz"
      }
    },
    {
      "cell_type": "code",
      "source": [
        "# Verify our check\n",
        "y == X + 10"
      ],
      "metadata": {
        "colab": {
          "base_uri": "https://localhost:8080/"
        },
        "id": "oHlmjxfp3uA9",
        "outputId": "93e82823-c4fe-4b8b-c5a5-1d35fdfaa0b9"
      },
      "execution_count": 7,
      "outputs": [
        {
          "output_type": "execute_result",
          "data": {
            "text/plain": [
              "array([ True,  True,  True,  True,  True,  True,  True,  True])"
            ]
          },
          "metadata": {},
          "execution_count": 7
        }
      ]
    },
    {
      "cell_type": "markdown",
      "source": [
        "### Input and output shapes"
      ],
      "metadata": {
        "id": "__ZAhdOI4Evc"
      }
    },
    {
      "cell_type": "code",
      "source": [
        "# Create a demo tensor for housing price prediction problem.\n",
        "house_info = tf.constant([\"bedroom\", \"bathroom\", \"gurage\"])\n",
        "house_price = tf.constant([939700])\n",
        "house_info, house_price"
      ],
      "metadata": {
        "colab": {
          "base_uri": "https://localhost:8080/"
        },
        "id": "dgJTArAt3yol",
        "outputId": "9db62036-b12d-45a8-efa7-6ba930dc82ea"
      },
      "execution_count": 8,
      "outputs": [
        {
          "output_type": "execute_result",
          "data": {
            "text/plain": [
              "(<tf.Tensor: shape=(3,), dtype=string, numpy=array([b'bedroom', b'bathroom', b'gurage'], dtype=object)>,\n",
              " <tf.Tensor: shape=(1,), dtype=int32, numpy=array([939700], dtype=int32)>)"
            ]
          },
          "metadata": {},
          "execution_count": 8
        }
      ]
    },
    {
      "cell_type": "code",
      "source": [
        "input_shape = X.shape\n",
        "output_shape = y.shape\n",
        "input_shape, output_shape"
      ],
      "metadata": {
        "colab": {
          "base_uri": "https://localhost:8080/"
        },
        "id": "6rGHQqo94sV9",
        "outputId": "581b7e84-0290-463f-967e-ac2e8b740f12"
      },
      "execution_count": 9,
      "outputs": [
        {
          "output_type": "execute_result",
          "data": {
            "text/plain": [
              "((8,), (8,))"
            ]
          },
          "metadata": {},
          "execution_count": 9
        }
      ]
    },
    {
      "cell_type": "code",
      "source": [
        "# Note that the input X is a scalar and same is the output, lets check, because if it is then it should have 0 dimensions.\n",
        "# Remember we want one feature which is one of the elements of X and then predict or output one value or number which again an element of y.\n",
        "X[0].ndim, y[0].ndim"
      ],
      "metadata": {
        "colab": {
          "base_uri": "https://localhost:8080/"
        },
        "id": "z_eCDArx49ob",
        "outputId": "f7885e92-0a07-41cb-9e7a-1c3db3d34d45"
      },
      "execution_count": 10,
      "outputs": [
        {
          "output_type": "execute_result",
          "data": {
            "text/plain": [
              "(0, 0)"
            ]
          },
          "metadata": {},
          "execution_count": 10
        }
      ]
    },
    {
      "cell_type": "code",
      "source": [
        "# Lets turn our numpy arrays into tensors. More specifically, turning data into tensors!\n",
        "X = tf.cast(tf.constant(X), dtype=tf.float32)\n",
        "y = tf.cast(tf.constant(y), dtype=tf.float32)\n",
        "X, y"
      ],
      "metadata": {
        "colab": {
          "base_uri": "https://localhost:8080/"
        },
        "id": "-RogcmTY6Npe",
        "outputId": "0d1b8b4b-875d-46b1-b38c-f477d0b5e683"
      },
      "execution_count": 11,
      "outputs": [
        {
          "output_type": "execute_result",
          "data": {
            "text/plain": [
              "(<tf.Tensor: shape=(8,), dtype=float32, numpy=array([-7., -4., -1.,  2.,  5.,  8., 11., 14.], dtype=float32)>,\n",
              " <tf.Tensor: shape=(8,), dtype=float32, numpy=array([ 3.,  6.,  9., 12., 15., 18., 21., 24.], dtype=float32)>)"
            ]
          },
          "metadata": {},
          "execution_count": 11
        }
      ]
    },
    {
      "cell_type": "code",
      "source": [
        "input_shape = X[0].shape\n",
        "output_shape = y[0].shape\n",
        "input_shape, output_shape"
      ],
      "metadata": {
        "colab": {
          "base_uri": "https://localhost:8080/"
        },
        "id": "pUHOP8bN63dv",
        "outputId": "7f4137f5-a147-4181-f6f3-f59d6553457b"
      },
      "execution_count": 12,
      "outputs": [
        {
          "output_type": "execute_result",
          "data": {
            "text/plain": [
              "(TensorShape([]), TensorShape([]))"
            ]
          },
          "metadata": {},
          "execution_count": 12
        }
      ]
    },
    {
      "cell_type": "code",
      "source": [
        "plt.scatter(X, y)"
      ],
      "metadata": {
        "colab": {
          "base_uri": "https://localhost:8080/",
          "height": 286
        },
        "id": "BSjJ4KHG65nb",
        "outputId": "e3d1c3ad-2a85-40b7-d57e-a58c912dcfa8"
      },
      "execution_count": 13,
      "outputs": [
        {
          "output_type": "execute_result",
          "data": {
            "text/plain": [
              "<matplotlib.collections.PathCollection at 0x7fc8417cf8b0>"
            ]
          },
          "metadata": {},
          "execution_count": 13
        },
        {
          "output_type": "display_data",
          "data": {
            "text/plain": [
              "<Figure size 432x288 with 1 Axes>"
            ],
            "image/png": "[encoded data removed]"
          },
          "metadata": {
            "needs_background": "light"
          }
        }
      ]
    },
    {
      "cell_type": "markdown",
      "source": [
        "## **Steps for modelling with tensorflow**\n",
        "1) **Creating a model** - defining the number of input and output layers, as well as the hindden layers of deep learning model.\n",
        "\n",
        "2) **Compile the model** - defining the loss function (which tells our model how wrong it is), the optimizer (which tells our model how to correct the error) and evaluation matrix (which we can use to interpret the performance of our model).\n",
        "\n",
        "3) **Fitting the model** - leting the model try to find patterns between X and y (features and labels)."
      ],
      "metadata": {
        "id": "edi9fKTQ7ano"
      }
    },
    {
      "cell_type": "code",
      "source": [
        "# Set the random seed.\n",
        "tf.random.set_seed(42)\n",
        "\n",
        "# 1) Create the model. Sequential API\n",
        "model = tf.keras.Sequential([\n",
        "    tf.keras.layers.Dense(1) # Note that we want to take one feature and predict the output therefore, 1.\n",
        "])\n",
        "\n",
        "\n",
        "# 2) Compile the model.\n",
        "model.compile(loss=tf.keras.losses.mae,\n",
        "              optimizer=tf.keras.optimizers.SGD(),\n",
        "              metrics=[\"mae\"])\n",
        "# MAE is Mean Absolute Error (On Avg. how wrong our model is?)\n",
        "# SGD is Stcochastic Gradient Descent\n",
        "\n",
        "\n",
        "# 3) Fit the model. (Here we fit the model and tell it you have 5 chances to look at the patterns and finally start the prediction).\n",
        "X_input = tf.expand_dims(X, axis = 1) # No of dimensions of one input is Zero and that gave error so I increased the dimensions by 1.\n",
        "model.fit(X_input, y, epochs=5)"
      ],
      "metadata": {
        "colab": {
          "base_uri": "https://localhost:8080/"
        },
        "id": "ASpNjdWW7Yuw",
        "outputId": "4bfa7bc4-8431-4b3c-814f-8d950005a584"
      },
      "execution_count": 14,
      "outputs": [
        {
          "output_type": "stream",
          "name": "stdout",
          "text": [
            "Epoch 1/5\n",
            "1/1 [==============================] - 4s 4s/step - loss: 13.9756 - mae: 13.9756\n",
            "Epoch 2/5\n",
            "1/1 [==============================] - 0s 10ms/step - loss: 13.8431 - mae: 13.8431\n",
            "Epoch 3/5\n",
            "1/1 [==============================] - 0s 10ms/step - loss: 13.7106 - mae: 13.7106\n",
            "Epoch 4/5\n",
            "1/1 [==============================] - 0s 16ms/step - loss: 13.5781 - mae: 13.5781\n",
            "Epoch 5/5\n",
            "1/1 [==============================] - 0s 9ms/step - loss: 13.4456 - mae: 13.4456\n"
          ]
        },
        {
          "output_type": "execute_result",
          "data": {
            "text/plain": [
              "<keras.callbacks.History at 0x7fc9513ffac0>"
            ]
          },
          "metadata": {},
          "execution_count": 14
        }
      ]
    },
    {
      "cell_type": "code",
      "source": [
        "# This is how X and y looks like.\n",
        "X, y"
      ],
      "metadata": {
        "colab": {
          "base_uri": "https://localhost:8080/"
        },
        "id": "gYyBQda-APlf",
        "outputId": "b64dc4b5-bc48-4820-9f88-c3e7a1f8b30a"
      },
      "execution_count": 15,
      "outputs": [
        {
          "output_type": "execute_result",
          "data": {
            "text/plain": [
              "(<tf.Tensor: shape=(8,), dtype=float32, numpy=array([-7., -4., -1.,  2.,  5.,  8., 11., 14.], dtype=float32)>,\n",
              " <tf.Tensor: shape=(8,), dtype=float32, numpy=array([ 3.,  6.,  9., 12., 15., 18., 21., 24.], dtype=float32)>)"
            ]
          },
          "metadata": {},
          "execution_count": 15
        }
      ]
    },
    {
      "cell_type": "code",
      "source": [
        "# Now lets try to make a prediction.\n",
        "y_pred = model.predict([17.0])\n",
        "y_pred"
      ],
      "metadata": {
        "colab": {
          "base_uri": "https://localhost:8080/"
        },
        "id": "Mw6lQAMNDB1f",
        "outputId": "a3cf7491-6f6b-4016-c113-660d64960072"
      },
      "execution_count": 16,
      "outputs": [
        {
          "output_type": "stream",
          "name": "stdout",
          "text": [
            "1/1 [==============================] - 0s 95ms/step\n"
          ]
        },
        {
          "output_type": "execute_result",
          "data": {
            "text/plain": [
              "array([[0.71508664]], dtype=float32)"
            ]
          },
          "metadata": {},
          "execution_count": 16
        }
      ]
    },
    {
      "cell_type": "code",
      "source": [
        "# Now if you look at last epoch data, its says on avg. our model will make mistake approximately 10.6 points off. Lets try it to add those 10.6 points,\n",
        "# our predicted value and check how correct or closer is the prediction of model now.\n",
        "y_pred + 10.6\n",
        "# Pretty close to actual answer which is 27.0"
      ],
      "metadata": {
        "colab": {
          "base_uri": "https://localhost:8080/"
        },
        "id": "TA3RgqteDVx0",
        "outputId": "d9589610-840c-43be-e9b8-3ada8560389c"
      },
      "execution_count": 17,
      "outputs": [
        {
          "output_type": "execute_result",
          "data": {
            "text/plain": [
              "array([[11.315087]], dtype=float32)"
            ]
          },
          "metadata": {},
          "execution_count": 17
        }
      ]
    },
    {
      "cell_type": "markdown",
      "source": [
        "### Improving our model. Now since, we are getting wrong predictions lets try to improve it.\n",
        "We can improve the model by altering the steps we used while creating the model.\n",
        "\n",
        "1) **Create Model** - we might increase the number of layers, neurons and change activation or transfer functions within each layer.\n",
        "\n",
        "2) **Compile Model** - we might change the optimization function and perhaps the **learning rate** of the optimization function.\n",
        "\n",
        "3) **Fitting Model** - we might increase the number of **epochs**, or on more **Data**."
      ],
      "metadata": {
        "id": "TMUqxqGVEie2"
      }
    },
    {
      "cell_type": "code",
      "source": [
        "# Lets create the same model again with improvements.\n",
        "tf.random.set_seed(42)\n",
        "\n",
        "# Create Model\n",
        "improved_model = tf.keras.Sequential([\n",
        "    # These are the 2 hidden layers\n",
        "    tf.keras.layers.Dense(50, activation=\"relu\"),\n",
        "    tf.keras.layers.Dense(50, activation=\"relu\"),\n",
        "    tf.keras.layers.Dense(100, activation=\"relu\"),\n",
        "    # These are the 2 hidden layers\n",
        "    tf.keras.layers.Dense(1)\n",
        "    # Totally, we have 4 layers with 100 in each of the hidden layers and one in 4th layer.\n",
        "])\n",
        "\n",
        "# Compile Model\n",
        "improved_model.compile(loss = tf.keras.losses.mae,\n",
        "                       optimizer = tf.keras.optimizers.Adam(learning_rate = 0.01), # Learning Rate is the most important hyperparameter in Neural Networks. \n",
        "                       metrics=[\"mae\"])\n",
        "\n",
        "# Fitting Model\n",
        "X_input = tf.expand_dims(X, axis = 1) # Don't forget increase the dimension to prevent the error.\n",
        "improved_model.fit(X_input, y, epochs = 500)"
      ],
      "metadata": {
        "colab": {
          "base_uri": "https://localhost:8080/"
        },
        "id": "2Uqh8CWPDxIp",
        "outputId": "f1f29ac9-716a-4c36-8ff1-7608ac83b363"
      },
      "execution_count": 18,
      "outputs": [
        {
          "output_type": "stream",
          "name": "stdout",
          "text": [
            "Epoch 1/500\n",
            "1/1 [==============================] - 2s 2s/step - loss: 13.7230 - mae: 13.7230\n",
            "Epoch 2/500\n",
            "1/1 [==============================] - 0s 10ms/step - loss: 11.4924 - mae: 11.4924\n",
            "Epoch 3/500\n",
            "1/1 [==============================] - 0s 9ms/step - loss: 9.4601 - mae: 9.4601\n",
            "Epoch 4/500\n",
            "1/1 [==============================] - 0s 10ms/step - loss: 7.3622 - mae: 7.3622\n",
            "Epoch 5/500\n",
            "1/1 [==============================] - 0s 10ms/step - loss: 4.5214 - mae: 4.5214\n",
            "Epoch 6/500\n",
            "1/1 [==============================] - 0s 9ms/step - loss: 4.9373 - mae: 4.9373\n",
            "Epoch 7/500\n",
            "1/1 [==============================] - 0s 9ms/step - loss: 6.2520 - mae: 6.2520\n",
            "Epoch 8/500\n",
            "1/1 [==============================] - 0s 9ms/step - loss: 6.4274 - mae: 6.4274\n",
            "Epoch 9/500\n",
            "1/1 [==============================] - 0s 10ms/step - loss: 5.5820 - mae: 5.5820\n",
            "Epoch 10/500\n",
            "1/1 [==============================] - 0s 11ms/step - loss: 4.4891 - mae: 4.4891\n",
            "Epoch 11/500\n",
            "1/1 [==============================] - 0s 10ms/step - loss: 3.7498 - mae: 3.7498\n",
            "Epoch 12/500\n",
            "1/1 [==============================] - 0s 15ms/step - loss: 4.1962 - mae: 4.1962\n",
            "Epoch 13/500\n",
            "1/1 [==============================] - 0s 10ms/step - loss: 4.7872 - mae: 4.7872\n",
            "Epoch 14/500\n",
            "1/1 [==============================] - 0s 9ms/step - loss: 4.8010 - mae: 4.8010\n",
            "Epoch 15/500\n",
            "1/1 [==============================] - 0s 11ms/step - loss: 4.3671 - mae: 4.3671\n",
            "Epoch 16/500\n",
            "1/1 [==============================] - 0s 9ms/step - loss: 3.6335 - mae: 3.6335\n",
            "Epoch 17/500\n",
            "1/1 [==============================] - 0s 10ms/step - loss: 3.4349 - mae: 3.4349\n",
            "Epoch 18/500\n",
            "1/1 [==============================] - 0s 15ms/step - loss: 3.5721 - mae: 3.5721\n",
            "Epoch 19/500\n",
            "1/1 [==============================] - 0s 11ms/step - loss: 3.7738 - mae: 3.7738\n",
            "Epoch 20/500\n",
            "1/1 [==============================] - 0s 10ms/step - loss: 3.8131 - mae: 3.8131\n",
            "Epoch 21/500\n",
            "1/1 [==============================] - 0s 10ms/step - loss: 3.5843 - mae: 3.5843\n",
            "Epoch 22/500\n",
            "1/1 [==============================] - 0s 10ms/step - loss: 3.3205 - mae: 3.3205\n",
            "Epoch 23/500\n",
            "1/1 [==============================] - 0s 13ms/step - loss: 3.1337 - mae: 3.1337\n",
            "Epoch 24/500\n",
            "1/1 [==============================] - 0s 11ms/step - loss: 3.1844 - mae: 3.1844\n",
            "Epoch 25/500\n",
            "1/1 [==============================] - 0s 11ms/step - loss: 3.3389 - mae: 3.3389\n",
            "Epoch 26/500\n",
            "1/1 [==============================] - 0s 14ms/step - loss: 3.1722 - mae: 3.1722\n",
            "Epoch 27/500\n",
            "1/1 [==============================] - 0s 10ms/step - loss: 2.8768 - mae: 2.8768\n",
            "Epoch 28/500\n",
            "1/1 [==============================] - 0s 10ms/step - loss: 2.7862 - mae: 2.7862\n",
            "Epoch 29/500\n",
            "1/1 [==============================] - 0s 12ms/step - loss: 2.9187 - mae: 2.9187\n",
            "Epoch 30/500\n",
            "1/1 [==============================] - 0s 18ms/step - loss: 2.8994 - mae: 2.8994\n",
            "Epoch 31/500\n",
            "1/1 [==============================] - 0s 10ms/step - loss: 2.5823 - mae: 2.5823\n",
            "Epoch 32/500\n",
            "1/1 [==============================] - 0s 11ms/step - loss: 2.3566 - mae: 2.3566\n",
            "Epoch 33/500\n",
            "1/1 [==============================] - 0s 10ms/step - loss: 2.1741 - mae: 2.1741\n",
            "Epoch 34/500\n",
            "1/1 [==============================] - 0s 10ms/step - loss: 2.0893 - mae: 2.0893\n",
            "Epoch 35/500\n",
            "1/1 [==============================] - 0s 10ms/step - loss: 1.9587 - mae: 1.9587\n",
            "Epoch 36/500\n",
            "1/1 [==============================] - 0s 17ms/step - loss: 1.6557 - mae: 1.6557\n",
            "Epoch 37/500\n",
            "1/1 [==============================] - 0s 10ms/step - loss: 1.4886 - mae: 1.4886\n",
            "Epoch 38/500\n",
            "1/1 [==============================] - 0s 10ms/step - loss: 1.7202 - mae: 1.7202\n",
            "Epoch 39/500\n",
            "1/1 [==============================] - 0s 13ms/step - loss: 1.3741 - mae: 1.3741\n",
            "Epoch 40/500\n",
            "1/1 [==============================] - 0s 10ms/step - loss: 0.8670 - mae: 0.8670\n",
            "Epoch 41/500\n",
            "1/1 [==============================] - 0s 12ms/step - loss: 0.4895 - mae: 0.4895\n",
            "Epoch 42/500\n",
            "1/1 [==============================] - 0s 10ms/step - loss: 0.5433 - mae: 0.5433\n",
            "Epoch 43/500\n",
            "1/1 [==============================] - 0s 11ms/step - loss: 1.1474 - mae: 1.1474\n",
            "Epoch 44/500\n",
            "1/1 [==============================] - 0s 10ms/step - loss: 0.8912 - mae: 0.8912\n",
            "Epoch 45/500\n",
            "1/1 [==============================] - 0s 10ms/step - loss: 0.8550 - mae: 0.8550\n",
            "Epoch 46/500\n",
            "1/1 [==============================] - 0s 10ms/step - loss: 0.7560 - mae: 0.7560\n",
            "Epoch 47/500\n",
            "1/1 [==============================] - 0s 10ms/step - loss: 1.0250 - mae: 1.0250\n",
            "Epoch 48/500\n",
            "1/1 [==============================] - 0s 9ms/step - loss: 1.1637 - mae: 1.1637\n",
            "Epoch 49/500\n",
            "1/1 [==============================] - 0s 10ms/step - loss: 0.5739 - mae: 0.5739\n",
            "Epoch 50/500\n",
            "1/1 [==============================] - 0s 17ms/step - loss: 1.0954 - mae: 1.0954\n",
            "Epoch 51/500\n",
            "1/1 [==============================] - 0s 10ms/step - loss: 1.2772 - mae: 1.2772\n",
            "Epoch 52/500\n",
            "1/1 [==============================] - 0s 11ms/step - loss: 0.5127 - mae: 0.5127\n",
            "Epoch 53/500\n",
            "1/1 [==============================] - 0s 11ms/step - loss: 1.2576 - mae: 1.2576\n",
            "Epoch 54/500\n",
            "1/1 [==============================] - 0s 11ms/step - loss: 1.6428 - mae: 1.6428\n",
            "Epoch 55/500\n",
            "1/1 [==============================] - 0s 11ms/step - loss: 1.3998 - mae: 1.3998\n",
            "Epoch 56/500\n",
            "1/1 [==============================] - 0s 12ms/step - loss: 0.7243 - mae: 0.7243\n",
            "Epoch 57/500\n",
            "1/1 [==============================] - 0s 9ms/step - loss: 1.1560 - mae: 1.1560\n",
            "Epoch 58/500\n",
            "1/1 [==============================] - 0s 10ms/step - loss: 1.5780 - mae: 1.5780\n",
            "Epoch 59/500\n",
            "1/1 [==============================] - 0s 10ms/step - loss: 1.0923 - mae: 1.0923\n",
            "Epoch 60/500\n",
            "1/1 [==============================] - 0s 10ms/step - loss: 0.5005 - mae: 0.5005\n",
            "Epoch 61/500\n",
            "1/1 [==============================] - 0s 10ms/step - loss: 1.0817 - mae: 1.0817\n",
            "Epoch 62/500\n",
            "1/1 [==============================] - 0s 15ms/step - loss: 1.3194 - mae: 1.3194\n",
            "Epoch 63/500\n",
            "1/1 [==============================] - 0s 12ms/step - loss: 0.9306 - mae: 0.9306\n",
            "Epoch 64/500\n",
            "1/1 [==============================] - 0s 10ms/step - loss: 0.7469 - mae: 0.7469\n",
            "Epoch 65/500\n",
            "1/1 [==============================] - 0s 10ms/step - loss: 1.0421 - mae: 1.0421\n",
            "Epoch 66/500\n",
            "1/1 [==============================] - 0s 11ms/step - loss: 0.9476 - mae: 0.9476\n",
            "Epoch 67/500\n",
            "1/1 [==============================] - 0s 9ms/step - loss: 0.4644 - mae: 0.4644\n",
            "Epoch 68/500\n",
            "1/1 [==============================] - 0s 17ms/step - loss: 0.7261 - mae: 0.7261\n",
            "Epoch 69/500\n",
            "1/1 [==============================] - 0s 10ms/step - loss: 0.8927 - mae: 0.8927\n",
            "Epoch 70/500\n",
            "1/1 [==============================] - 0s 9ms/step - loss: 0.4963 - mae: 0.4963\n",
            "Epoch 71/500\n",
            "1/1 [==============================] - 0s 10ms/step - loss: 0.6056 - mae: 0.6056\n",
            "Epoch 72/500\n",
            "1/1 [==============================] - 0s 10ms/step - loss: 0.7161 - mae: 0.7161\n",
            "Epoch 73/500\n",
            "1/1 [==============================] - 0s 11ms/step - loss: 0.3529 - mae: 0.3529\n",
            "Epoch 74/500\n",
            "1/1 [==============================] - 0s 10ms/step - loss: 0.6612 - mae: 0.6612\n",
            "Epoch 75/500\n",
            "1/1 [==============================] - 0s 10ms/step - loss: 0.6525 - mae: 0.6525\n",
            "Epoch 76/500\n",
            "1/1 [==============================] - 0s 16ms/step - loss: 0.2295 - mae: 0.2295\n",
            "Epoch 77/500\n",
            "1/1 [==============================] - 0s 10ms/step - loss: 0.5070 - mae: 0.5070\n",
            "Epoch 78/500\n",
            "1/1 [==============================] - 0s 10ms/step - loss: 0.2093 - mae: 0.2093\n",
            "Epoch 79/500\n",
            "1/1 [==============================] - 0s 10ms/step - loss: 0.7525 - mae: 0.7525\n",
            "Epoch 80/500\n",
            "1/1 [==============================] - 0s 11ms/step - loss: 0.9850 - mae: 0.9850\n",
            "Epoch 81/500\n",
            "1/1 [==============================] - 0s 10ms/step - loss: 0.7398 - mae: 0.7398\n",
            "Epoch 82/500\n",
            "1/1 [==============================] - 0s 8ms/step - loss: 0.1536 - mae: 0.1536\n",
            "Epoch 83/500\n",
            "1/1 [==============================] - 0s 12ms/step - loss: 0.9602 - mae: 0.9602\n",
            "Epoch 84/500\n",
            "1/1 [==============================] - 0s 11ms/step - loss: 1.1665 - mae: 1.1665\n",
            "Epoch 85/500\n",
            "1/1 [==============================] - 0s 10ms/step - loss: 0.7231 - mae: 0.7231\n",
            "Epoch 86/500\n",
            "1/1 [==============================] - 0s 10ms/step - loss: 0.4827 - mae: 0.4827\n",
            "Epoch 87/500\n",
            "1/1 [==============================] - 0s 9ms/step - loss: 0.7335 - mae: 0.7335\n",
            "Epoch 88/500\n",
            "1/1 [==============================] - 0s 12ms/step - loss: 0.4097 - mae: 0.4097\n",
            "Epoch 89/500\n",
            "1/1 [==============================] - 0s 16ms/step - loss: 0.4387 - mae: 0.4387\n",
            "Epoch 90/500\n",
            "1/1 [==============================] - 0s 12ms/step - loss: 0.6594 - mae: 0.6594\n",
            "Epoch 91/500\n",
            "1/1 [==============================] - 0s 13ms/step - loss: 0.2697 - mae: 0.2697\n",
            "Epoch 92/500\n",
            "1/1 [==============================] - 0s 10ms/step - loss: 0.5941 - mae: 0.5941\n",
            "Epoch 93/500\n",
            "1/1 [==============================] - 0s 10ms/step - loss: 0.7051 - mae: 0.7051\n",
            "Epoch 94/500\n",
            "1/1 [==============================] - 0s 12ms/step - loss: 0.3137 - mae: 0.3137\n",
            "Epoch 95/500\n",
            "1/1 [==============================] - 0s 11ms/step - loss: 0.6212 - mae: 0.6212\n",
            "Epoch 96/500\n",
            "1/1 [==============================] - 0s 10ms/step - loss: 0.8495 - mae: 0.8495\n",
            "Epoch 97/500\n",
            "1/1 [==============================] - 0s 11ms/step - loss: 0.5652 - mae: 0.5652\n",
            "Epoch 98/500\n",
            "1/1 [==============================] - 0s 9ms/step - loss: 0.2829 - mae: 0.2829\n",
            "Epoch 99/500\n",
            "1/1 [==============================] - 0s 15ms/step - loss: 0.6580 - mae: 0.6580\n",
            "Epoch 100/500\n",
            "1/1 [==============================] - 0s 11ms/step - loss: 0.5193 - mae: 0.5193\n",
            "Epoch 101/500\n",
            "1/1 [==============================] - 0s 11ms/step - loss: 0.2001 - mae: 0.2001\n",
            "Epoch 102/500\n",
            "1/1 [==============================] - 0s 13ms/step - loss: 0.2982 - mae: 0.2982\n",
            "Epoch 103/500\n",
            "1/1 [==============================] - 0s 11ms/step - loss: 0.2269 - mae: 0.2269\n",
            "Epoch 104/500\n",
            "1/1 [==============================] - 0s 10ms/step - loss: 0.1783 - mae: 0.1783\n",
            "Epoch 105/500\n",
            "1/1 [==============================] - 0s 9ms/step - loss: 0.5054 - mae: 0.5054\n",
            "Epoch 106/500\n",
            "1/1 [==============================] - 0s 13ms/step - loss: 0.5254 - mae: 0.5254\n",
            "Epoch 107/500\n",
            "1/1 [==============================] - 0s 11ms/step - loss: 0.1488 - mae: 0.1488\n",
            "Epoch 108/500\n",
            "1/1 [==============================] - 0s 10ms/step - loss: 0.4720 - mae: 0.4720\n",
            "Epoch 109/500\n",
            "1/1 [==============================] - 0s 9ms/step - loss: 0.3952 - mae: 0.3952\n",
            "Epoch 110/500\n",
            "1/1 [==============================] - 0s 15ms/step - loss: 0.1936 - mae: 0.1936\n",
            "Epoch 111/500\n",
            "1/1 [==============================] - 0s 10ms/step - loss: 0.1263 - mae: 0.1263\n",
            "Epoch 112/500\n",
            "1/1 [==============================] - 0s 9ms/step - loss: 0.1957 - mae: 0.1957\n",
            "Epoch 113/500\n",
            "1/1 [==============================] - 0s 10ms/step - loss: 0.1412 - mae: 0.1412\n",
            "Epoch 114/500\n",
            "1/1 [==============================] - 0s 16ms/step - loss: 0.1451 - mae: 0.1451\n",
            "Epoch 115/500\n",
            "1/1 [==============================] - 0s 13ms/step - loss: 0.1271 - mae: 0.1271\n",
            "Epoch 116/500\n",
            "1/1 [==============================] - 0s 16ms/step - loss: 0.2286 - mae: 0.2286\n",
            "Epoch 117/500\n",
            "1/1 [==============================] - 0s 12ms/step - loss: 0.0707 - mae: 0.0707\n",
            "Epoch 118/500\n",
            "1/1 [==============================] - 0s 13ms/step - loss: 0.1052 - mae: 0.1052\n",
            "Epoch 119/500\n",
            "1/1 [==============================] - 0s 13ms/step - loss: 0.4102 - mae: 0.4102\n",
            "Epoch 120/500\n",
            "1/1 [==============================] - 0s 12ms/step - loss: 0.3513 - mae: 0.3513\n",
            "Epoch 121/500\n",
            "1/1 [==============================] - 0s 12ms/step - loss: 0.2182 - mae: 0.2182\n",
            "Epoch 122/500\n",
            "1/1 [==============================] - 0s 10ms/step - loss: 0.1816 - mae: 0.1816\n",
            "Epoch 123/500\n",
            "1/1 [==============================] - 0s 11ms/step - loss: 0.3968 - mae: 0.3968\n",
            "Epoch 124/500\n",
            "1/1 [==============================] - 0s 10ms/step - loss: 0.3924 - mae: 0.3924\n",
            "Epoch 125/500\n",
            "1/1 [==============================] - 0s 12ms/step - loss: 0.1852 - mae: 0.1852\n",
            "Epoch 126/500\n",
            "1/1 [==============================] - 0s 16ms/step - loss: 0.1447 - mae: 0.1447\n",
            "Epoch 127/500\n",
            "1/1 [==============================] - 0s 9ms/step - loss: 0.3946 - mae: 0.3946\n",
            "Epoch 128/500\n",
            "1/1 [==============================] - 0s 12ms/step - loss: 0.3919 - mae: 0.3919\n",
            "Epoch 129/500\n",
            "1/1 [==============================] - 0s 10ms/step - loss: 0.1194 - mae: 0.1194\n",
            "Epoch 130/500\n",
            "1/1 [==============================] - 0s 9ms/step - loss: 0.0487 - mae: 0.0487\n",
            "Epoch 131/500\n",
            "1/1 [==============================] - 0s 10ms/step - loss: 0.3491 - mae: 0.3491\n",
            "Epoch 132/500\n",
            "1/1 [==============================] - 0s 12ms/step - loss: 0.1679 - mae: 0.1679\n",
            "Epoch 133/500\n",
            "1/1 [==============================] - 0s 9ms/step - loss: 0.4956 - mae: 0.4956\n",
            "Epoch 134/500\n",
            "1/1 [==============================] - 0s 10ms/step - loss: 0.5577 - mae: 0.5577\n",
            "Epoch 135/500\n",
            "1/1 [==============================] - 0s 10ms/step - loss: 0.1146 - mae: 0.1146\n",
            "Epoch 136/500\n",
            "1/1 [==============================] - 0s 10ms/step - loss: 0.7792 - mae: 0.7792\n",
            "Epoch 137/500\n",
            "1/1 [==============================] - 0s 11ms/step - loss: 1.0408 - mae: 1.0408\n",
            "Epoch 138/500\n",
            "1/1 [==============================] - 0s 18ms/step - loss: 0.9243 - mae: 0.9243\n",
            "Epoch 139/500\n",
            "1/1 [==============================] - 0s 13ms/step - loss: 0.4589 - mae: 0.4589\n",
            "Epoch 140/500\n",
            "1/1 [==============================] - 0s 11ms/step - loss: 0.6973 - mae: 0.6973\n",
            "Epoch 141/500\n",
            "1/1 [==============================] - 0s 12ms/step - loss: 0.9900 - mae: 0.9900\n",
            "Epoch 142/500\n",
            "1/1 [==============================] - 0s 12ms/step - loss: 0.7355 - mae: 0.7355\n",
            "Epoch 143/500\n",
            "1/1 [==============================] - 0s 14ms/step - loss: 0.1494 - mae: 0.1494\n",
            "Epoch 144/500\n",
            "1/1 [==============================] - 0s 10ms/step - loss: 0.9920 - mae: 0.9920\n",
            "Epoch 145/500\n",
            "1/1 [==============================] - 0s 11ms/step - loss: 1.3841 - mae: 1.3841\n",
            "Epoch 146/500\n",
            "1/1 [==============================] - 0s 11ms/step - loss: 1.3149 - mae: 1.3149\n",
            "Epoch 147/500\n",
            "1/1 [==============================] - 0s 10ms/step - loss: 0.8922 - mae: 0.8922\n",
            "Epoch 148/500\n",
            "1/1 [==============================] - 0s 10ms/step - loss: 0.1561 - mae: 0.1561\n",
            "Epoch 149/500\n",
            "1/1 [==============================] - 0s 12ms/step - loss: 1.1011 - mae: 1.1011\n",
            "Epoch 150/500\n",
            "1/1 [==============================] - 0s 11ms/step - loss: 1.5592 - mae: 1.5592\n",
            "Epoch 151/500\n",
            "1/1 [==============================] - 0s 12ms/step - loss: 1.3999 - mae: 1.3999\n",
            "Epoch 152/500\n",
            "1/1 [==============================] - 0s 14ms/step - loss: 0.8257 - mae: 0.8257\n",
            "Epoch 153/500\n",
            "1/1 [==============================] - 0s 10ms/step - loss: 0.3210 - mae: 0.3210\n",
            "Epoch 154/500\n",
            "1/1 [==============================] - 0s 13ms/step - loss: 0.7452 - mae: 0.7452\n",
            "Epoch 155/500\n",
            "1/1 [==============================] - 0s 14ms/step - loss: 0.6867 - mae: 0.6867\n",
            "Epoch 156/500\n",
            "1/1 [==============================] - 0s 12ms/step - loss: 0.2319 - mae: 0.2319\n",
            "Epoch 157/500\n",
            "1/1 [==============================] - 0s 9ms/step - loss: 0.5323 - mae: 0.5323\n",
            "Epoch 158/500\n",
            "1/1 [==============================] - 0s 12ms/step - loss: 0.6994 - mae: 0.6994\n",
            "Epoch 159/500\n",
            "1/1 [==============================] - 0s 10ms/step - loss: 0.3831 - mae: 0.3831\n",
            "Epoch 160/500\n",
            "1/1 [==============================] - 0s 10ms/step - loss: 0.5082 - mae: 0.5082\n",
            "Epoch 161/500\n",
            "1/1 [==============================] - 0s 8ms/step - loss: 0.7442 - mae: 0.7442\n",
            "Epoch 162/500\n",
            "1/1 [==============================] - 0s 9ms/step - loss: 0.6012 - mae: 0.6012\n",
            "Epoch 163/500\n",
            "1/1 [==============================] - 0s 15ms/step - loss: 0.1230 - mae: 0.1230\n",
            "Epoch 164/500\n",
            "1/1 [==============================] - 0s 12ms/step - loss: 0.4456 - mae: 0.4456\n",
            "Epoch 165/500\n",
            "1/1 [==============================] - 0s 10ms/step - loss: 0.4461 - mae: 0.4461\n",
            "Epoch 166/500\n",
            "1/1 [==============================] - 0s 12ms/step - loss: 0.0765 - mae: 0.0765\n",
            "Epoch 167/500\n",
            "1/1 [==============================] - 0s 12ms/step - loss: 0.3317 - mae: 0.3317\n",
            "Epoch 168/500\n",
            "1/1 [==============================] - 0s 15ms/step - loss: 0.2950 - mae: 0.2950\n",
            "Epoch 169/500\n",
            "1/1 [==============================] - 0s 14ms/step - loss: 0.1652 - mae: 0.1652\n",
            "Epoch 170/500\n",
            "1/1 [==============================] - 0s 12ms/step - loss: 0.1032 - mae: 0.1032\n",
            "Epoch 171/500\n",
            "1/1 [==============================] - 0s 10ms/step - loss: 0.4321 - mae: 0.4321\n",
            "Epoch 172/500\n",
            "1/1 [==============================] - 0s 10ms/step - loss: 0.4411 - mae: 0.4411\n",
            "Epoch 173/500\n",
            "1/1 [==============================] - 0s 12ms/step - loss: 0.0768 - mae: 0.0768\n",
            "Epoch 174/500\n",
            "1/1 [==============================] - 0s 11ms/step - loss: 0.7159 - mae: 0.7159\n",
            "Epoch 175/500\n",
            "1/1 [==============================] - 0s 9ms/step - loss: 0.8814 - mae: 0.8814\n",
            "Epoch 176/500\n",
            "1/1 [==============================] - 0s 10ms/step - loss: 0.5263 - mae: 0.5263\n",
            "Epoch 177/500\n",
            "1/1 [==============================] - 0s 10ms/step - loss: 0.2490 - mae: 0.2490\n",
            "Epoch 178/500\n",
            "1/1 [==============================] - 0s 9ms/step - loss: 0.4897 - mae: 0.4897\n",
            "Epoch 179/500\n",
            "1/1 [==============================] - 0s 10ms/step - loss: 0.2822 - mae: 0.2822\n",
            "Epoch 180/500\n",
            "1/1 [==============================] - 0s 10ms/step - loss: 0.3616 - mae: 0.3616\n",
            "Epoch 181/500\n",
            "1/1 [==============================] - 0s 10ms/step - loss: 0.4749 - mae: 0.4749\n",
            "Epoch 182/500\n",
            "1/1 [==============================] - 0s 10ms/step - loss: 0.1638 - mae: 0.1638\n",
            "Epoch 183/500\n",
            "1/1 [==============================] - 0s 13ms/step - loss: 0.5086 - mae: 0.5086\n",
            "Epoch 184/500\n",
            "1/1 [==============================] - 0s 13ms/step - loss: 0.7054 - mae: 0.7054\n",
            "Epoch 185/500\n",
            "1/1 [==============================] - 0s 11ms/step - loss: 0.5348 - mae: 0.5348\n",
            "Epoch 186/500\n",
            "1/1 [==============================] - 0s 11ms/step - loss: 0.0773 - mae: 0.0773\n",
            "Epoch 187/500\n",
            "1/1 [==============================] - 0s 8ms/step - loss: 0.4037 - mae: 0.4037\n",
            "Epoch 188/500\n",
            "1/1 [==============================] - 0s 11ms/step - loss: 0.2933 - mae: 0.2933\n",
            "Epoch 189/500\n",
            "1/1 [==============================] - 0s 11ms/step - loss: 0.2810 - mae: 0.2810\n",
            "Epoch 190/500\n",
            "1/1 [==============================] - 0s 12ms/step - loss: 0.3245 - mae: 0.3245\n",
            "Epoch 191/500\n",
            "1/1 [==============================] - 0s 17ms/step - loss: 0.1147 - mae: 0.1147\n",
            "Epoch 192/500\n",
            "1/1 [==============================] - 0s 7ms/step - loss: 0.0927 - mae: 0.0927\n",
            "Epoch 193/500\n",
            "1/1 [==============================] - 0s 9ms/step - loss: 0.3855 - mae: 0.3855\n",
            "Epoch 194/500\n",
            "1/1 [==============================] - 0s 12ms/step - loss: 0.4016 - mae: 0.4016\n",
            "Epoch 195/500\n",
            "1/1 [==============================] - 0s 12ms/step - loss: 0.0926 - mae: 0.0926\n",
            "Epoch 196/500\n",
            "1/1 [==============================] - 0s 11ms/step - loss: 0.4289 - mae: 0.4289\n",
            "Epoch 197/500\n",
            "1/1 [==============================] - 0s 15ms/step - loss: 0.3421 - mae: 0.3421\n",
            "Epoch 198/500\n",
            "1/1 [==============================] - 0s 9ms/step - loss: 0.2010 - mae: 0.2010\n",
            "Epoch 199/500\n",
            "1/1 [==============================] - 0s 13ms/step - loss: 0.2287 - mae: 0.2287\n",
            "Epoch 200/500\n",
            "1/1 [==============================] - 0s 10ms/step - loss: 0.2789 - mae: 0.2789\n",
            "Epoch 201/500\n",
            "1/1 [==============================] - 0s 11ms/step - loss: 0.2459 - mae: 0.2459\n",
            "Epoch 202/500\n",
            "1/1 [==============================] - 0s 9ms/step - loss: 0.1720 - mae: 0.1720\n",
            "Epoch 203/500\n",
            "1/1 [==============================] - 0s 10ms/step - loss: 0.1648 - mae: 0.1648\n",
            "Epoch 204/500\n",
            "1/1 [==============================] - 0s 10ms/step - loss: 0.3070 - mae: 0.3070\n",
            "Epoch 205/500\n",
            "1/1 [==============================] - 0s 9ms/step - loss: 0.2030 - mae: 0.2030\n",
            "Epoch 206/500\n",
            "1/1 [==============================] - 0s 9ms/step - loss: 0.3244 - mae: 0.3244\n",
            "Epoch 207/500\n",
            "1/1 [==============================] - 0s 11ms/step - loss: 0.3760 - mae: 0.3760\n",
            "Epoch 208/500\n",
            "1/1 [==============================] - 0s 10ms/step - loss: 0.0938 - mae: 0.0938\n",
            "Epoch 209/500\n",
            "1/1 [==============================] - 0s 10ms/step - loss: 0.3570 - mae: 0.3570\n",
            "Epoch 210/500\n",
            "1/1 [==============================] - 0s 9ms/step - loss: 0.2047 - mae: 0.2047\n",
            "Epoch 211/500\n",
            "1/1 [==============================] - 0s 10ms/step - loss: 0.3541 - mae: 0.3541\n",
            "Epoch 212/500\n",
            "1/1 [==============================] - 0s 8ms/step - loss: 0.4667 - mae: 0.4667\n",
            "Epoch 213/500\n",
            "1/1 [==============================] - 0s 12ms/step - loss: 0.2185 - mae: 0.2185\n",
            "Epoch 214/500\n",
            "1/1 [==============================] - 0s 10ms/step - loss: 0.3899 - mae: 0.3899\n",
            "Epoch 215/500\n",
            "1/1 [==============================] - 0s 14ms/step - loss: 0.4915 - mae: 0.4915\n",
            "Epoch 216/500\n",
            "1/1 [==============================] - 0s 10ms/step - loss: 0.2725 - mae: 0.2725\n",
            "Epoch 217/500\n",
            "1/1 [==============================] - 0s 10ms/step - loss: 0.5254 - mae: 0.5254\n",
            "Epoch 218/500\n",
            "1/1 [==============================] - 0s 10ms/step - loss: 0.6742 - mae: 0.6742\n",
            "Epoch 219/500\n",
            "1/1 [==============================] - 0s 12ms/step - loss: 0.4165 - mae: 0.4165\n",
            "Epoch 220/500\n",
            "1/1 [==============================] - 0s 10ms/step - loss: 0.2704 - mae: 0.2704\n",
            "Epoch 221/500\n",
            "1/1 [==============================] - 0s 9ms/step - loss: 0.4686 - mae: 0.4686\n",
            "Epoch 222/500\n",
            "1/1 [==============================] - 0s 10ms/step - loss: 0.2300 - mae: 0.2300\n",
            "Epoch 223/500\n",
            "1/1 [==============================] - 0s 10ms/step - loss: 0.5088 - mae: 0.5088\n",
            "Epoch 224/500\n",
            "1/1 [==============================] - 0s 9ms/step - loss: 0.6782 - mae: 0.6782\n",
            "Epoch 225/500\n",
            "1/1 [==============================] - 0s 10ms/step - loss: 0.4558 - mae: 0.4558\n",
            "Epoch 226/500\n",
            "1/1 [==============================] - 0s 9ms/step - loss: 0.1490 - mae: 0.1490\n",
            "Epoch 227/500\n",
            "1/1 [==============================] - 0s 11ms/step - loss: 0.2603 - mae: 0.2603\n",
            "Epoch 228/500\n",
            "1/1 [==============================] - 0s 10ms/step - loss: 0.0943 - mae: 0.0943\n",
            "Epoch 229/500\n",
            "1/1 [==============================] - 0s 10ms/step - loss: 0.0931 - mae: 0.0931\n",
            "Epoch 230/500\n",
            "1/1 [==============================] - 0s 10ms/step - loss: 0.0816 - mae: 0.0816\n",
            "Epoch 231/500\n",
            "1/1 [==============================] - 0s 9ms/step - loss: 0.1617 - mae: 0.1617\n",
            "Epoch 232/500\n",
            "1/1 [==============================] - 0s 11ms/step - loss: 0.1497 - mae: 0.1497\n",
            "Epoch 233/500\n",
            "1/1 [==============================] - 0s 9ms/step - loss: 0.0579 - mae: 0.0579\n",
            "Epoch 234/500\n",
            "1/1 [==============================] - 0s 10ms/step - loss: 0.3228 - mae: 0.3228\n",
            "Epoch 235/500\n",
            "1/1 [==============================] - 0s 10ms/step - loss: 0.2757 - mae: 0.2757\n",
            "Epoch 236/500\n",
            "1/1 [==============================] - 0s 9ms/step - loss: 0.2241 - mae: 0.2241\n",
            "Epoch 237/500\n",
            "1/1 [==============================] - 0s 10ms/step - loss: 0.1670 - mae: 0.1670\n",
            "Epoch 238/500\n",
            "1/1 [==============================] - 0s 10ms/step - loss: 0.2806 - mae: 0.2806\n",
            "Epoch 239/500\n",
            "1/1 [==============================] - 0s 9ms/step - loss: 0.2440 - mae: 0.2440\n",
            "Epoch 240/500\n",
            "1/1 [==============================] - 0s 9ms/step - loss: 0.1745 - mae: 0.1745\n",
            "Epoch 241/500\n",
            "1/1 [==============================] - 0s 10ms/step - loss: 0.1457 - mae: 0.1457\n",
            "Epoch 242/500\n",
            "1/1 [==============================] - 0s 10ms/step - loss: 0.2939 - mae: 0.2939\n",
            "Epoch 243/500\n",
            "1/1 [==============================] - 0s 9ms/step - loss: 0.2708 - mae: 0.2708\n",
            "Epoch 244/500\n",
            "1/1 [==============================] - 0s 9ms/step - loss: 0.1633 - mae: 0.1633\n",
            "Epoch 245/500\n",
            "1/1 [==============================] - 0s 9ms/step - loss: 0.1345 - mae: 0.1345\n",
            "Epoch 246/500\n",
            "1/1 [==============================] - 0s 10ms/step - loss: 0.2997 - mae: 0.2997\n",
            "Epoch 247/500\n",
            "1/1 [==============================] - 0s 10ms/step - loss: 0.2699 - mae: 0.2699\n",
            "Epoch 248/500\n",
            "1/1 [==============================] - 0s 9ms/step - loss: 0.1875 - mae: 0.1875\n",
            "Epoch 249/500\n",
            "1/1 [==============================] - 0s 9ms/step - loss: 0.2212 - mae: 0.2212\n",
            "Epoch 250/500\n",
            "1/1 [==============================] - 0s 9ms/step - loss: 0.1610 - mae: 0.1610\n",
            "Epoch 251/500\n",
            "1/1 [==============================] - 0s 10ms/step - loss: 0.1499 - mae: 0.1499\n",
            "Epoch 252/500\n",
            "1/1 [==============================] - 0s 11ms/step - loss: 0.2222 - mae: 0.2222\n",
            "Epoch 253/500\n",
            "1/1 [==============================] - 0s 10ms/step - loss: 0.2020 - mae: 0.2020\n",
            "Epoch 254/500\n",
            "1/1 [==============================] - 0s 9ms/step - loss: 0.1777 - mae: 0.1777\n",
            "Epoch 255/500\n",
            "1/1 [==============================] - 0s 9ms/step - loss: 0.1359 - mae: 0.1359\n",
            "Epoch 256/500\n",
            "1/1 [==============================] - 0s 10ms/step - loss: 0.2997 - mae: 0.2997\n",
            "Epoch 257/500\n",
            "1/1 [==============================] - 0s 11ms/step - loss: 0.2703 - mae: 0.2703\n",
            "Epoch 258/500\n",
            "1/1 [==============================] - 0s 11ms/step - loss: 0.1521 - mae: 0.1521\n",
            "Epoch 259/500\n",
            "1/1 [==============================] - 0s 12ms/step - loss: 0.1270 - mae: 0.1270\n",
            "Epoch 260/500\n",
            "1/1 [==============================] - 0s 9ms/step - loss: 0.3490 - mae: 0.3490\n",
            "Epoch 261/500\n",
            "1/1 [==============================] - 0s 13ms/step - loss: 0.3968 - mae: 0.3968\n",
            "Epoch 262/500\n",
            "1/1 [==============================] - 0s 13ms/step - loss: 0.1003 - mae: 0.1003\n",
            "Epoch 263/500\n",
            "1/1 [==============================] - 0s 13ms/step - loss: 0.5375 - mae: 0.5375\n",
            "Epoch 264/500\n",
            "1/1 [==============================] - 0s 10ms/step - loss: 0.6939 - mae: 0.6939\n",
            "Epoch 265/500\n",
            "1/1 [==============================] - 0s 12ms/step - loss: 0.4733 - mae: 0.4733\n",
            "Epoch 266/500\n",
            "1/1 [==============================] - 0s 12ms/step - loss: 0.1548 - mae: 0.1548\n",
            "Epoch 267/500\n",
            "1/1 [==============================] - 0s 13ms/step - loss: 0.2789 - mae: 0.2789\n",
            "Epoch 268/500\n",
            "1/1 [==============================] - 0s 10ms/step - loss: 0.0587 - mae: 0.0587\n",
            "Epoch 269/500\n",
            "1/1 [==============================] - 0s 10ms/step - loss: 0.3933 - mae: 0.3933\n",
            "Epoch 270/500\n",
            "1/1 [==============================] - 0s 10ms/step - loss: 0.3365 - mae: 0.3365\n",
            "Epoch 271/500\n",
            "1/1 [==============================] - 0s 12ms/step - loss: 0.1473 - mae: 0.1473\n",
            "Epoch 272/500\n",
            "1/1 [==============================] - 0s 11ms/step - loss: 0.1908 - mae: 0.1908\n",
            "Epoch 273/500\n",
            "1/1 [==============================] - 0s 10ms/step - loss: 0.1751 - mae: 0.1751\n",
            "Epoch 274/500\n",
            "1/1 [==============================] - 0s 10ms/step - loss: 0.1428 - mae: 0.1428\n",
            "Epoch 275/500\n",
            "1/1 [==============================] - 0s 10ms/step - loss: 0.1983 - mae: 0.1983\n",
            "Epoch 276/500\n",
            "1/1 [==============================] - 0s 12ms/step - loss: 0.1594 - mae: 0.1594\n",
            "Epoch 277/500\n",
            "1/1 [==============================] - 0s 10ms/step - loss: 0.2533 - mae: 0.2533\n",
            "Epoch 278/500\n",
            "1/1 [==============================] - 0s 12ms/step - loss: 0.2274 - mae: 0.2274\n",
            "Epoch 279/500\n",
            "1/1 [==============================] - 0s 10ms/step - loss: 0.2058 - mae: 0.2058\n",
            "Epoch 280/500\n",
            "1/1 [==============================] - 0s 13ms/step - loss: 0.1922 - mae: 0.1922\n",
            "Epoch 281/500\n",
            "1/1 [==============================] - 0s 13ms/step - loss: 0.1761 - mae: 0.1761\n",
            "Epoch 282/500\n",
            "1/1 [==============================] - 0s 10ms/step - loss: 0.1089 - mae: 0.1089\n",
            "Epoch 283/500\n",
            "1/1 [==============================] - 0s 8ms/step - loss: 0.3374 - mae: 0.3374\n",
            "Epoch 284/500\n",
            "1/1 [==============================] - 0s 14ms/step - loss: 0.3666 - mae: 0.3666\n",
            "Epoch 285/500\n",
            "1/1 [==============================] - 0s 11ms/step - loss: 0.0737 - mae: 0.0737\n",
            "Epoch 286/500\n",
            "1/1 [==============================] - 0s 13ms/step - loss: 0.5215 - mae: 0.5215\n",
            "Epoch 287/500\n",
            "1/1 [==============================] - 0s 10ms/step - loss: 0.6069 - mae: 0.6069\n",
            "Epoch 288/500\n",
            "1/1 [==============================] - 0s 10ms/step - loss: 0.3513 - mae: 0.3513\n",
            "Epoch 289/500\n",
            "1/1 [==============================] - 0s 10ms/step - loss: 0.3469 - mae: 0.3469\n",
            "Epoch 290/500\n",
            "1/1 [==============================] - 0s 10ms/step - loss: 0.5200 - mae: 0.5200\n",
            "Epoch 291/500\n",
            "1/1 [==============================] - 0s 10ms/step - loss: 0.3083 - mae: 0.3083\n",
            "Epoch 292/500\n",
            "1/1 [==============================] - 0s 7ms/step - loss: 0.2666 - mae: 0.2666\n",
            "Epoch 293/500\n",
            "1/1 [==============================] - 0s 9ms/step - loss: 0.3923 - mae: 0.3923\n",
            "Epoch 294/500\n",
            "1/1 [==============================] - 0s 9ms/step - loss: 0.1149 - mae: 0.1149\n",
            "Epoch 295/500\n",
            "1/1 [==============================] - 0s 10ms/step - loss: 0.4989 - mae: 0.4989\n",
            "Epoch 296/500\n",
            "1/1 [==============================] - 0s 9ms/step - loss: 0.6353 - mae: 0.6353\n",
            "Epoch 297/500\n",
            "1/1 [==============================] - 0s 9ms/step - loss: 0.3911 - mae: 0.3911\n",
            "Epoch 298/500\n",
            "1/1 [==============================] - 0s 9ms/step - loss: 0.2490 - mae: 0.2490\n",
            "Epoch 299/500\n",
            "1/1 [==============================] - 0s 10ms/step - loss: 0.3475 - mae: 0.3475\n",
            "Epoch 300/500\n",
            "1/1 [==============================] - 0s 10ms/step - loss: 0.1059 - mae: 0.1059\n",
            "Epoch 301/500\n",
            "1/1 [==============================] - 0s 9ms/step - loss: 0.3832 - mae: 0.3832\n",
            "Epoch 302/500\n",
            "1/1 [==============================] - 0s 9ms/step - loss: 0.3483 - mae: 0.3483\n",
            "Epoch 303/500\n",
            "1/1 [==============================] - 0s 8ms/step - loss: 0.0848 - mae: 0.0848\n",
            "Epoch 304/500\n",
            "1/1 [==============================] - 0s 11ms/step - loss: 0.2997 - mae: 0.2997\n",
            "Epoch 305/500\n",
            "1/1 [==============================] - 0s 10ms/step - loss: 0.1025 - mae: 0.1025\n",
            "Epoch 306/500\n",
            "1/1 [==============================] - 0s 9ms/step - loss: 0.2304 - mae: 0.2304\n",
            "Epoch 307/500\n",
            "1/1 [==============================] - 0s 11ms/step - loss: 0.1279 - mae: 0.1279\n",
            "Epoch 308/500\n",
            "1/1 [==============================] - 0s 11ms/step - loss: 0.3470 - mae: 0.3470\n",
            "Epoch 309/500\n",
            "1/1 [==============================] - 0s 9ms/step - loss: 0.3967 - mae: 0.3967\n",
            "Epoch 310/500\n",
            "1/1 [==============================] - 0s 11ms/step - loss: 0.0883 - mae: 0.0883\n",
            "Epoch 311/500\n",
            "1/1 [==============================] - 0s 10ms/step - loss: 0.5461 - mae: 0.5461\n",
            "Epoch 312/500\n",
            "1/1 [==============================] - 0s 11ms/step - loss: 0.7156 - mae: 0.7156\n",
            "Epoch 313/500\n",
            "1/1 [==============================] - 0s 9ms/step - loss: 0.5644 - mae: 0.5644\n",
            "Epoch 314/500\n",
            "1/1 [==============================] - 0s 11ms/step - loss: 0.1680 - mae: 0.1680\n",
            "Epoch 315/500\n",
            "1/1 [==============================] - 0s 11ms/step - loss: 0.6979 - mae: 0.6979\n",
            "Epoch 316/500\n",
            "1/1 [==============================] - 0s 11ms/step - loss: 0.9059 - mae: 0.9059\n",
            "Epoch 317/500\n",
            "1/1 [==============================] - 0s 11ms/step - loss: 0.6660 - mae: 0.6660\n",
            "Epoch 318/500\n",
            "1/1 [==============================] - 0s 11ms/step - loss: 0.1664 - mae: 0.1664\n",
            "Epoch 319/500\n",
            "1/1 [==============================] - 0s 14ms/step - loss: 0.7671 - mae: 0.7671\n",
            "Epoch 320/500\n",
            "1/1 [==============================] - 0s 11ms/step - loss: 1.1258 - mae: 1.1258\n",
            "Epoch 321/500\n",
            "1/1 [==============================] - 0s 10ms/step - loss: 1.1154 - mae: 1.1154\n",
            "Epoch 322/500\n",
            "1/1 [==============================] - 0s 10ms/step - loss: 0.7741 - mae: 0.7741\n",
            "Epoch 323/500\n",
            "1/1 [==============================] - 0s 9ms/step - loss: 0.1081 - mae: 0.1081\n",
            "Epoch 324/500\n",
            "1/1 [==============================] - 0s 11ms/step - loss: 0.9049 - mae: 0.9049\n",
            "Epoch 325/500\n",
            "1/1 [==============================] - 0s 13ms/step - loss: 1.4389 - mae: 1.4389\n",
            "Epoch 326/500\n",
            "1/1 [==============================] - 0s 11ms/step - loss: 1.4681 - mae: 1.4681\n",
            "Epoch 327/500\n",
            "1/1 [==============================] - 0s 9ms/step - loss: 1.0508 - mae: 1.0508\n",
            "Epoch 328/500\n",
            "1/1 [==============================] - 0s 9ms/step - loss: 0.3002 - mae: 0.3002\n",
            "Epoch 329/500\n",
            "1/1 [==============================] - 0s 9ms/step - loss: 0.7583 - mae: 0.7583\n",
            "Epoch 330/500\n",
            "1/1 [==============================] - 0s 8ms/step - loss: 1.2639 - mae: 1.2639\n",
            "Epoch 331/500\n",
            "1/1 [==============================] - 0s 9ms/step - loss: 1.4109 - mae: 1.4109\n",
            "Epoch 332/500\n",
            "1/1 [==============================] - 0s 9ms/step - loss: 1.2430 - mae: 1.2430\n",
            "Epoch 333/500\n",
            "1/1 [==============================] - 0s 9ms/step - loss: 0.7738 - mae: 0.7738\n",
            "Epoch 334/500\n",
            "1/1 [==============================] - 0s 10ms/step - loss: 0.0614 - mae: 0.0614\n",
            "Epoch 335/500\n",
            "1/1 [==============================] - 0s 8ms/step - loss: 0.8591 - mae: 0.8591\n",
            "Epoch 336/500\n",
            "1/1 [==============================] - 0s 9ms/step - loss: 1.2499 - mae: 1.2499\n",
            "Epoch 337/500\n",
            "1/1 [==============================] - 0s 9ms/step - loss: 1.1820 - mae: 1.1820\n",
            "Epoch 338/500\n",
            "1/1 [==============================] - 0s 9ms/step - loss: 0.7116 - mae: 0.7116\n",
            "Epoch 339/500\n",
            "1/1 [==============================] - 0s 10ms/step - loss: 0.1144 - mae: 0.1144\n",
            "Epoch 340/500\n",
            "1/1 [==============================] - 0s 9ms/step - loss: 0.4375 - mae: 0.4375\n",
            "Epoch 341/500\n",
            "1/1 [==============================] - 0s 10ms/step - loss: 0.4086 - mae: 0.4086\n",
            "Epoch 342/500\n",
            "1/1 [==============================] - 0s 10ms/step - loss: 0.0804 - mae: 0.0804\n",
            "Epoch 343/500\n",
            "1/1 [==============================] - 0s 10ms/step - loss: 0.4514 - mae: 0.4514\n",
            "Epoch 344/500\n",
            "1/1 [==============================] - 0s 8ms/step - loss: 0.5363 - mae: 0.5363\n",
            "Epoch 345/500\n",
            "1/1 [==============================] - 0s 9ms/step - loss: 0.2589 - mae: 0.2589\n",
            "Epoch 346/500\n",
            "1/1 [==============================] - 0s 10ms/step - loss: 0.3381 - mae: 0.3381\n",
            "Epoch 347/500\n",
            "1/1 [==============================] - 0s 9ms/step - loss: 0.5052 - mae: 0.5052\n",
            "Epoch 348/500\n",
            "1/1 [==============================] - 0s 9ms/step - loss: 0.3420 - mae: 0.3420\n",
            "Epoch 349/500\n",
            "1/1 [==============================] - 0s 9ms/step - loss: 0.1408 - mae: 0.1408\n",
            "Epoch 350/500\n",
            "1/1 [==============================] - 0s 10ms/step - loss: 0.2068 - mae: 0.2068\n",
            "Epoch 351/500\n",
            "1/1 [==============================] - 0s 9ms/step - loss: 0.1405 - mae: 0.1405\n",
            "Epoch 352/500\n",
            "1/1 [==============================] - 0s 10ms/step - loss: 0.0933 - mae: 0.0933\n",
            "Epoch 353/500\n",
            "1/1 [==============================] - 0s 9ms/step - loss: 0.2605 - mae: 0.2605\n",
            "Epoch 354/500\n",
            "1/1 [==============================] - 0s 9ms/step - loss: 0.2325 - mae: 0.2325\n",
            "Epoch 355/500\n",
            "1/1 [==============================] - 0s 10ms/step - loss: 0.1714 - mae: 0.1714\n",
            "Epoch 356/500\n",
            "1/1 [==============================] - 0s 10ms/step - loss: 0.1112 - mae: 0.1112\n",
            "Epoch 357/500\n",
            "1/1 [==============================] - 0s 9ms/step - loss: 0.2915 - mae: 0.2915\n",
            "Epoch 358/500\n",
            "1/1 [==============================] - 0s 10ms/step - loss: 0.2970 - mae: 0.2970\n",
            "Epoch 359/500\n",
            "1/1 [==============================] - 0s 10ms/step - loss: 0.0863 - mae: 0.0863\n",
            "Epoch 360/500\n",
            "1/1 [==============================] - 0s 9ms/step - loss: 0.0706 - mae: 0.0706\n",
            "Epoch 361/500\n",
            "1/1 [==============================] - 0s 10ms/step - loss: 0.3129 - mae: 0.3129\n",
            "Epoch 362/500\n",
            "1/1 [==============================] - 0s 10ms/step - loss: 0.2714 - mae: 0.2714\n",
            "Epoch 363/500\n",
            "1/1 [==============================] - 0s 9ms/step - loss: 0.1258 - mae: 0.1258\n",
            "Epoch 364/500\n",
            "1/1 [==============================] - 0s 11ms/step - loss: 0.1386 - mae: 0.1386\n",
            "Epoch 365/500\n",
            "1/1 [==============================] - 0s 9ms/step - loss: 0.2088 - mae: 0.2088\n",
            "Epoch 366/500\n",
            "1/1 [==============================] - 0s 10ms/step - loss: 0.2172 - mae: 0.2172\n",
            "Epoch 367/500\n",
            "1/1 [==============================] - 0s 12ms/step - loss: 0.1142 - mae: 0.1142\n",
            "Epoch 368/500\n",
            "1/1 [==============================] - 0s 10ms/step - loss: 0.0911 - mae: 0.0911\n",
            "Epoch 369/500\n",
            "1/1 [==============================] - 0s 10ms/step - loss: 0.2510 - mae: 0.2510\n",
            "Epoch 370/500\n",
            "1/1 [==============================] - 0s 10ms/step - loss: 0.2148 - mae: 0.2148\n",
            "Epoch 371/500\n",
            "1/1 [==============================] - 0s 9ms/step - loss: 0.1345 - mae: 0.1345\n",
            "Epoch 372/500\n",
            "1/1 [==============================] - 0s 8ms/step - loss: 0.1212 - mae: 0.1212\n",
            "Epoch 373/500\n",
            "1/1 [==============================] - 0s 10ms/step - loss: 0.2349 - mae: 0.2349\n",
            "Epoch 374/500\n",
            "1/1 [==============================] - 0s 9ms/step - loss: 0.1967 - mae: 0.1967\n",
            "Epoch 375/500\n",
            "1/1 [==============================] - 0s 8ms/step - loss: 0.1850 - mae: 0.1850\n",
            "Epoch 376/500\n",
            "1/1 [==============================] - 0s 11ms/step - loss: 0.1888 - mae: 0.1888\n",
            "Epoch 377/500\n",
            "1/1 [==============================] - 0s 12ms/step - loss: 0.1516 - mae: 0.1516\n",
            "Epoch 378/500\n",
            "1/1 [==============================] - 0s 15ms/step - loss: 0.1311 - mae: 0.1311\n",
            "Epoch 379/500\n",
            "1/1 [==============================] - 0s 8ms/step - loss: 0.2265 - mae: 0.2265\n",
            "Epoch 380/500\n",
            "1/1 [==============================] - 0s 9ms/step - loss: 0.2199 - mae: 0.2199\n",
            "Epoch 381/500\n",
            "1/1 [==============================] - 0s 9ms/step - loss: 0.0946 - mae: 0.0946\n",
            "Epoch 382/500\n",
            "1/1 [==============================] - 0s 9ms/step - loss: 0.0446 - mae: 0.0446\n",
            "Epoch 383/500\n",
            "1/1 [==============================] - 0s 15ms/step - loss: 0.3332 - mae: 0.3332\n",
            "Epoch 384/500\n",
            "1/1 [==============================] - 0s 10ms/step - loss: 0.3378 - mae: 0.3378\n",
            "Epoch 385/500\n",
            "1/1 [==============================] - 0s 10ms/step - loss: 0.0690 - mae: 0.0690\n",
            "Epoch 386/500\n",
            "1/1 [==============================] - 0s 9ms/step - loss: 0.4824 - mae: 0.4824\n",
            "Epoch 387/500\n",
            "1/1 [==============================] - 0s 9ms/step - loss: 0.5710 - mae: 0.5710\n",
            "Epoch 388/500\n",
            "1/1 [==============================] - 0s 9ms/step - loss: 0.3208 - mae: 0.3208\n",
            "Epoch 389/500\n",
            "1/1 [==============================] - 0s 14ms/step - loss: 0.2679 - mae: 0.2679\n",
            "Epoch 390/500\n",
            "1/1 [==============================] - 0s 8ms/step - loss: 0.4273 - mae: 0.4273\n",
            "Epoch 391/500\n",
            "1/1 [==============================] - 0s 9ms/step - loss: 0.2470 - mae: 0.2470\n",
            "Epoch 392/500\n",
            "1/1 [==============================] - 0s 9ms/step - loss: 0.2725 - mae: 0.2725\n",
            "Epoch 393/500\n",
            "1/1 [==============================] - 0s 8ms/step - loss: 0.4306 - mae: 0.4306\n",
            "Epoch 394/500\n",
            "1/1 [==============================] - 0s 9ms/step - loss: 0.2365 - mae: 0.2365\n",
            "Epoch 395/500\n",
            "1/1 [==============================] - 0s 9ms/step - loss: 0.3270 - mae: 0.3270\n",
            "Epoch 396/500\n",
            "1/1 [==============================] - 0s 11ms/step - loss: 0.4777 - mae: 0.4777\n",
            "Epoch 397/500\n",
            "1/1 [==============================] - 0s 11ms/step - loss: 0.3168 - mae: 0.3168\n",
            "Epoch 398/500\n",
            "1/1 [==============================] - 0s 11ms/step - loss: 0.1583 - mae: 0.1583\n",
            "Epoch 399/500\n",
            "1/1 [==============================] - 0s 8ms/step - loss: 0.2363 - mae: 0.2363\n",
            "Epoch 400/500\n",
            "1/1 [==============================] - 0s 9ms/step - loss: 0.0811 - mae: 0.0811\n",
            "Epoch 401/500\n",
            "1/1 [==============================] - 0s 9ms/step - loss: 0.1991 - mae: 0.1991\n",
            "Epoch 402/500\n",
            "1/1 [==============================] - 0s 9ms/step - loss: 0.0998 - mae: 0.0998\n",
            "Epoch 403/500\n",
            "1/1 [==============================] - 0s 10ms/step - loss: 0.3585 - mae: 0.3585\n",
            "Epoch 404/500\n",
            "1/1 [==============================] - 0s 9ms/step - loss: 0.3719 - mae: 0.3719\n",
            "Epoch 405/500\n",
            "1/1 [==============================] - 0s 9ms/step - loss: 0.0614 - mae: 0.0614\n",
            "Epoch 406/500\n",
            "1/1 [==============================] - 0s 10ms/step - loss: 0.3592 - mae: 0.3592\n",
            "Epoch 407/500\n",
            "1/1 [==============================] - 0s 9ms/step - loss: 0.3920 - mae: 0.3920\n",
            "Epoch 408/500\n",
            "1/1 [==============================] - 0s 9ms/step - loss: 0.0977 - mae: 0.0977\n",
            "Epoch 409/500\n",
            "1/1 [==============================] - 0s 9ms/step - loss: 0.5139 - mae: 0.5139\n",
            "Epoch 410/500\n",
            "1/1 [==============================] - 0s 9ms/step - loss: 0.7170 - mae: 0.7170\n",
            "Epoch 411/500\n",
            "1/1 [==============================] - 0s 9ms/step - loss: 0.5334 - mae: 0.5334\n",
            "Epoch 412/500\n",
            "1/1 [==============================] - 0s 9ms/step - loss: 0.0584 - mae: 0.0584\n",
            "Epoch 413/500\n",
            "1/1 [==============================] - 0s 9ms/step - loss: 0.6900 - mae: 0.6900\n",
            "Epoch 414/500\n",
            "1/1 [==============================] - 0s 10ms/step - loss: 1.0012 - mae: 1.0012\n",
            "Epoch 415/500\n",
            "1/1 [==============================] - 0s 9ms/step - loss: 0.9842 - mae: 0.9842\n",
            "Epoch 416/500\n",
            "1/1 [==============================] - 0s 8ms/step - loss: 0.6937 - mae: 0.6937\n",
            "Epoch 417/500\n",
            "1/1 [==============================] - 0s 10ms/step - loss: 0.1957 - mae: 0.1957\n",
            "Epoch 418/500\n",
            "1/1 [==============================] - 0s 8ms/step - loss: 0.7191 - mae: 0.7191\n",
            "Epoch 419/500\n",
            "1/1 [==============================] - 0s 9ms/step - loss: 1.1006 - mae: 1.1006\n",
            "Epoch 420/500\n",
            "1/1 [==============================] - 0s 9ms/step - loss: 1.0674 - mae: 1.0674\n",
            "Epoch 421/500\n",
            "1/1 [==============================] - 0s 9ms/step - loss: 0.6634 - mae: 0.6634\n",
            "Epoch 422/500\n",
            "1/1 [==============================] - 0s 8ms/step - loss: 0.0636 - mae: 0.0636\n",
            "Epoch 423/500\n",
            "1/1 [==============================] - 0s 9ms/step - loss: 0.4923 - mae: 0.4923\n",
            "Epoch 424/500\n",
            "1/1 [==============================] - 0s 9ms/step - loss: 0.5798 - mae: 0.5798\n",
            "Epoch 425/500\n",
            "1/1 [==============================] - 0s 9ms/step - loss: 0.3483 - mae: 0.3483\n",
            "Epoch 426/500\n",
            "1/1 [==============================] - 0s 9ms/step - loss: 0.2431 - mae: 0.2431\n",
            "Epoch 427/500\n",
            "1/1 [==============================] - 0s 9ms/step - loss: 0.3856 - mae: 0.3856\n",
            "Epoch 428/500\n",
            "1/1 [==============================] - 0s 9ms/step - loss: 0.2243 - mae: 0.2243\n",
            "Epoch 429/500\n",
            "1/1 [==============================] - 0s 9ms/step - loss: 0.2768 - mae: 0.2768\n",
            "Epoch 430/500\n",
            "1/1 [==============================] - 0s 8ms/step - loss: 0.4331 - mae: 0.4331\n",
            "Epoch 431/500\n",
            "1/1 [==============================] - 0s 10ms/step - loss: 0.2923 - mae: 0.2923\n",
            "Epoch 432/500\n",
            "1/1 [==============================] - 0s 9ms/step - loss: 0.1495 - mae: 0.1495\n",
            "Epoch 433/500\n",
            "1/1 [==============================] - 0s 9ms/step - loss: 0.2150 - mae: 0.2150\n",
            "Epoch 434/500\n",
            "1/1 [==============================] - 0s 9ms/step - loss: 0.0511 - mae: 0.0511\n",
            "Epoch 435/500\n",
            "1/1 [==============================] - 0s 9ms/step - loss: 0.0770 - mae: 0.0770\n",
            "Epoch 436/500\n",
            "1/1 [==============================] - 0s 8ms/step - loss: 0.1292 - mae: 0.1292\n",
            "Epoch 437/500\n",
            "1/1 [==============================] - 0s 10ms/step - loss: 0.0488 - mae: 0.0488\n",
            "Epoch 438/500\n",
            "1/1 [==============================] - 0s 10ms/step - loss: 0.1257 - mae: 0.1257\n",
            "Epoch 439/500\n",
            "1/1 [==============================] - 0s 8ms/step - loss: 0.1572 - mae: 0.1572\n",
            "Epoch 440/500\n",
            "1/1 [==============================] - 0s 10ms/step - loss: 0.0802 - mae: 0.0802\n",
            "Epoch 441/500\n",
            "1/1 [==============================] - 0s 9ms/step - loss: 0.2782 - mae: 0.2782\n",
            "Epoch 442/500\n",
            "1/1 [==============================] - 0s 9ms/step - loss: 0.3055 - mae: 0.3055\n",
            "Epoch 443/500\n",
            "1/1 [==============================] - 0s 9ms/step - loss: 0.0517 - mae: 0.0517\n",
            "Epoch 444/500\n",
            "1/1 [==============================] - 0s 12ms/step - loss: 0.3118 - mae: 0.3118\n",
            "Epoch 445/500\n",
            "1/1 [==============================] - 0s 11ms/step - loss: 0.2700 - mae: 0.2700\n",
            "Epoch 446/500\n",
            "1/1 [==============================] - 0s 10ms/step - loss: 0.0790 - mae: 0.0790\n",
            "Epoch 447/500\n",
            "1/1 [==============================] - 0s 10ms/step - loss: 0.0560 - mae: 0.0560\n",
            "Epoch 448/500\n",
            "1/1 [==============================] - 0s 9ms/step - loss: 0.0942 - mae: 0.0942\n",
            "Epoch 449/500\n",
            "1/1 [==============================] - 0s 11ms/step - loss: 0.1056 - mae: 0.1056\n",
            "Epoch 450/500\n",
            "1/1 [==============================] - 0s 10ms/step - loss: 0.0700 - mae: 0.0700\n",
            "Epoch 451/500\n",
            "1/1 [==============================] - 0s 10ms/step - loss: 0.0556 - mae: 0.0556\n",
            "Epoch 452/500\n",
            "1/1 [==============================] - 0s 9ms/step - loss: 0.1583 - mae: 0.1583\n",
            "Epoch 453/500\n",
            "1/1 [==============================] - 0s 8ms/step - loss: 0.0160 - mae: 0.0160\n",
            "Epoch 454/500\n",
            "1/1 [==============================] - 0s 16ms/step - loss: 0.0353 - mae: 0.0353\n",
            "Epoch 455/500\n",
            "1/1 [==============================] - 0s 11ms/step - loss: 0.2846 - mae: 0.2846\n",
            "Epoch 456/500\n",
            "1/1 [==============================] - 0s 10ms/step - loss: 0.2313 - mae: 0.2313\n",
            "Epoch 457/500\n",
            "1/1 [==============================] - 0s 12ms/step - loss: 0.1823 - mae: 0.1823\n",
            "Epoch 458/500\n",
            "1/1 [==============================] - 0s 10ms/step - loss: 0.1255 - mae: 0.1255\n",
            "Epoch 459/500\n",
            "1/1 [==============================] - 0s 8ms/step - loss: 0.2556 - mae: 0.2556\n",
            "Epoch 460/500\n",
            "1/1 [==============================] - 0s 13ms/step - loss: 0.2074 - mae: 0.2074\n",
            "Epoch 461/500\n",
            "1/1 [==============================] - 0s 10ms/step - loss: 0.1709 - mae: 0.1709\n",
            "Epoch 462/500\n",
            "1/1 [==============================] - 0s 10ms/step - loss: 0.1751 - mae: 0.1751\n",
            "Epoch 463/500\n",
            "1/1 [==============================] - 0s 11ms/step - loss: 0.1721 - mae: 0.1721\n",
            "Epoch 464/500\n",
            "1/1 [==============================] - 0s 9ms/step - loss: 0.1558 - mae: 0.1558\n",
            "Epoch 465/500\n",
            "1/1 [==============================] - 0s 11ms/step - loss: 0.1868 - mae: 0.1868\n",
            "Epoch 466/500\n",
            "1/1 [==============================] - 0s 10ms/step - loss: 0.1658 - mae: 0.1658\n",
            "Epoch 467/500\n",
            "1/1 [==============================] - 0s 9ms/step - loss: 0.1608 - mae: 0.1608\n",
            "Epoch 468/500\n",
            "1/1 [==============================] - 0s 10ms/step - loss: 0.1403 - mae: 0.1403\n",
            "Epoch 469/500\n",
            "1/1 [==============================] - 0s 9ms/step - loss: 0.2153 - mae: 0.2153\n",
            "Epoch 470/500\n",
            "1/1 [==============================] - 0s 12ms/step - loss: 0.1875 - mae: 0.1875\n",
            "Epoch 471/500\n",
            "1/1 [==============================] - 0s 11ms/step - loss: 0.1783 - mae: 0.1783\n",
            "Epoch 472/500\n",
            "1/1 [==============================] - 0s 9ms/step - loss: 0.1792 - mae: 0.1792\n",
            "Epoch 473/500\n",
            "1/1 [==============================] - 0s 13ms/step - loss: 0.1390 - mae: 0.1390\n",
            "Epoch 474/500\n",
            "1/1 [==============================] - 0s 9ms/step - loss: 0.0981 - mae: 0.0981\n",
            "Epoch 475/500\n",
            "1/1 [==============================] - 0s 10ms/step - loss: 0.2664 - mae: 0.2664\n",
            "Epoch 476/500\n",
            "1/1 [==============================] - 0s 9ms/step - loss: 0.2671 - mae: 0.2671\n",
            "Epoch 477/500\n",
            "1/1 [==============================] - 0s 12ms/step - loss: 0.0562 - mae: 0.0562\n",
            "Epoch 478/500\n",
            "1/1 [==============================] - 0s 12ms/step - loss: 0.0492 - mae: 0.0492\n",
            "Epoch 479/500\n",
            "1/1 [==============================] - 0s 10ms/step - loss: 0.1005 - mae: 0.1005\n",
            "Epoch 480/500\n",
            "1/1 [==============================] - 0s 8ms/step - loss: 0.1634 - mae: 0.1634\n",
            "Epoch 481/500\n",
            "1/1 [==============================] - 0s 11ms/step - loss: 0.0766 - mae: 0.0766\n",
            "Epoch 482/500\n",
            "1/1 [==============================] - 0s 11ms/step - loss: 0.3555 - mae: 0.3555\n",
            "Epoch 483/500\n",
            "1/1 [==============================] - 0s 10ms/step - loss: 0.4031 - mae: 0.4031\n",
            "Epoch 484/500\n",
            "1/1 [==============================] - 0s 11ms/step - loss: 0.1376 - mae: 0.1376\n",
            "Epoch 485/500\n",
            "1/1 [==============================] - 0s 10ms/step - loss: 0.3740 - mae: 0.3740\n",
            "Epoch 486/500\n",
            "1/1 [==============================] - 0s 8ms/step - loss: 0.5226 - mae: 0.5226\n",
            "Epoch 487/500\n",
            "1/1 [==============================] - 0s 11ms/step - loss: 0.3860 - mae: 0.3860\n",
            "Epoch 488/500\n",
            "1/1 [==============================] - 0s 13ms/step - loss: 0.0759 - mae: 0.0759\n",
            "Epoch 489/500\n",
            "1/1 [==============================] - 0s 8ms/step - loss: 0.1326 - mae: 0.1326\n",
            "Epoch 490/500\n",
            "1/1 [==============================] - 0s 10ms/step - loss: 0.1402 - mae: 0.1402\n",
            "Epoch 491/500\n",
            "1/1 [==============================] - 0s 10ms/step - loss: 0.0595 - mae: 0.0595\n",
            "Epoch 492/500\n",
            "1/1 [==============================] - 0s 11ms/step - loss: 0.3715 - mae: 0.3715\n",
            "Epoch 493/500\n",
            "1/1 [==============================] - 0s 9ms/step - loss: 0.4120 - mae: 0.4120\n",
            "Epoch 494/500\n",
            "1/1 [==============================] - 0s 9ms/step - loss: 0.1519 - mae: 0.1519\n",
            "Epoch 495/500\n",
            "1/1 [==============================] - 0s 13ms/step - loss: 0.4000 - mae: 0.4000\n",
            "Epoch 496/500\n",
            "1/1 [==============================] - 0s 13ms/step - loss: 0.5784 - mae: 0.5784\n",
            "Epoch 497/500\n",
            "1/1 [==============================] - 0s 10ms/step - loss: 0.4597 - mae: 0.4597\n",
            "Epoch 498/500\n",
            "1/1 [==============================] - 0s 10ms/step - loss: 0.1166 - mae: 0.1166\n",
            "Epoch 499/500\n",
            "1/1 [==============================] - 0s 8ms/step - loss: 0.5648 - mae: 0.5648\n",
            "Epoch 500/500\n",
            "1/1 [==============================] - 0s 10ms/step - loss: 0.7802 - mae: 0.7802\n"
          ]
        },
        {
          "output_type": "execute_result",
          "data": {
            "text/plain": [
              "<keras.callbacks.History at 0x7fc840492460>"
            ]
          },
          "metadata": {},
          "execution_count": 18
        }
      ]
    },
    {
      "cell_type": "code",
      "source": [
        "X, y"
      ],
      "metadata": {
        "colab": {
          "base_uri": "https://localhost:8080/"
        },
        "id": "s_R-XE0OIRFN",
        "outputId": "7695f939-2b0e-4877-9cf5-b0fced0f2db6"
      },
      "execution_count": 19,
      "outputs": [
        {
          "output_type": "execute_result",
          "data": {
            "text/plain": [
              "(<tf.Tensor: shape=(8,), dtype=float32, numpy=array([-7., -4., -1.,  2.,  5.,  8., 11., 14.], dtype=float32)>,\n",
              " <tf.Tensor: shape=(8,), dtype=float32, numpy=array([ 3.,  6.,  9., 12., 15., 18., 21., 24.], dtype=float32)>)"
            ]
          },
          "metadata": {},
          "execution_count": 19
        }
      ]
    },
    {
      "cell_type": "code",
      "source": [
        "y_pred = improved_model.predict([17.0])\n",
        "y_pred"
      ],
      "metadata": {
        "colab": {
          "base_uri": "https://localhost:8080/"
        },
        "id": "NATH_SjdIfUL",
        "outputId": "9759b72e-600c-48d8-a266-d614d5be1f5f"
      },
      "execution_count": 20,
      "outputs": [
        {
          "output_type": "stream",
          "name": "stdout",
          "text": [
            "1/1 [==============================] - 0s 104ms/step\n"
          ]
        },
        {
          "output_type": "execute_result",
          "data": {
            "text/plain": [
              "array([[28.807348]], dtype=float32)"
            ]
          },
          "metadata": {},
          "execution_count": 20
        }
      ]
    },
    {
      "cell_type": "markdown",
      "source": [
        "# **Evaluating**\n",
        "\n",
        "Lets start with creating larger dataset."
      ],
      "metadata": {
        "id": "en4DLX39jFto"
      }
    },
    {
      "cell_type": "code",
      "source": [
        "X = tf.range(-100, 100, 4)\n",
        "X\n",
        "# Numbers from -100 to 100 with a step size of 4"
      ],
      "metadata": {
        "colab": {
          "base_uri": "https://localhost:8080/"
        },
        "id": "sTNOGeHgIk5t",
        "outputId": "2c4dd296-df29-4d35-c48b-5718107d7760"
      },
      "execution_count": 21,
      "outputs": [
        {
          "output_type": "execute_result",
          "data": {
            "text/plain": [
              "<tf.Tensor: shape=(50,), dtype=int32, numpy=\n",
              "array([-100,  -96,  -92,  -88,  -84,  -80,  -76,  -72,  -68,  -64,  -60,\n",
              "        -56,  -52,  -48,  -44,  -40,  -36,  -32,  -28,  -24,  -20,  -16,\n",
              "        -12,   -8,   -4,    0,    4,    8,   12,   16,   20,   24,   28,\n",
              "         32,   36,   40,   44,   48,   52,   56,   60,   64,   68,   72,\n",
              "         76,   80,   84,   88,   92,   96], dtype=int32)>"
            ]
          },
          "metadata": {},
          "execution_count": 21
        }
      ]
    },
    {
      "cell_type": "code",
      "source": [
        "# Creating labels for the dataset.\n",
        "y = X + 10\n",
        "y"
      ],
      "metadata": {
        "colab": {
          "base_uri": "https://localhost:8080/"
        },
        "id": "7GUWjC0AjfAl",
        "outputId": "0468c387-9a58-4b53-b3cf-36a97228b013"
      },
      "execution_count": 22,
      "outputs": [
        {
          "output_type": "execute_result",
          "data": {
            "text/plain": [
              "<tf.Tensor: shape=(50,), dtype=int32, numpy=\n",
              "array([-90, -86, -82, -78, -74, -70, -66, -62, -58, -54, -50, -46, -42,\n",
              "       -38, -34, -30, -26, -22, -18, -14, -10,  -6,  -2,   2,   6,  10,\n",
              "        14,  18,  22,  26,  30,  34,  38,  42,  46,  50,  54,  58,  62,\n",
              "        66,  70,  74,  78,  82,  86,  90,  94,  98, 102, 106], dtype=int32)>"
            ]
          },
          "metadata": {},
          "execution_count": 22
        }
      ]
    },
    {
      "cell_type": "code",
      "source": [
        "# Visualize the data.\n",
        "import matplotlib.pyplot as plt\n",
        "plt.scatter(X, y)"
      ],
      "metadata": {
        "colab": {
          "base_uri": "https://localhost:8080/",
          "height": 282
        },
        "id": "wzIo7_yojspG",
        "outputId": "c619e1ba-cddb-472b-9e2a-d6c33e60e6d3"
      },
      "execution_count": 23,
      "outputs": [
        {
          "output_type": "execute_result",
          "data": {
            "text/plain": [
              "<matplotlib.collections.PathCollection at 0x7fc84028a730>"
            ]
          },
          "metadata": {},
          "execution_count": 23
        },
        {
          "output_type": "display_data",
          "data": {
            "text/plain": [
              "<Figure size 432x288 with 1 Axes>"
            ],
            "image/png": "[encoded data removed]"
          },
          "metadata": {
            "needs_background": "light"
          }
        }
      ]
    },
    {
      "cell_type": "code",
      "source": [
        "plt.plot(X, y)"
      ],
      "metadata": {
        "colab": {
          "base_uri": "https://localhost:8080/",
          "height": 282
        },
        "id": "4_coOR_Bj51L",
        "outputId": "905fb480-946c-41da-8d19-9c52875dcae9"
      },
      "execution_count": 24,
      "outputs": [
        {
          "output_type": "execute_result",
          "data": {
            "text/plain": [
              "[<matplotlib.lines.Line2D at 0x7fc84020c190>]"
            ]
          },
          "metadata": {},
          "execution_count": 24
        },
        {
          "output_type": "display_data",
          "data": {
            "text/plain": [
              "<Figure size 432x288 with 1 Axes>"
            ],
            "image/png": "[encoded data removed]"
          },
          "metadata": {
            "needs_background": "light"
          }
        }
      ]
    },
    {
      "cell_type": "markdown",
      "source": [
        "# **Splitting data into 3 sets...**\n",
        "\n",
        "1) **Training set** - 70%-80% of the dataset, model learns from this data.\n",
        "\n",
        "2) **Validation set** - using this dataset model is tunned or tweeked, like chnaging hyperparameters. Typically 10%-15% of the data availale.\n",
        "\n",
        "3) **Test set** - model gets evaluated on this data, its 10%-15%."
      ],
      "metadata": {
        "id": "JrAfotc0kUx6"
      }
    },
    {
      "cell_type": "code",
      "source": [
        "# Lets check the size of data available.\n",
        "len(X)"
      ],
      "metadata": {
        "colab": {
          "base_uri": "https://localhost:8080/"
        },
        "id": "3ItetzrbkGUI",
        "outputId": "36fdcdf7-1d81-4ced-9df0-5c07ee54b931"
      },
      "execution_count": 25,
      "outputs": [
        {
          "output_type": "execute_result",
          "data": {
            "text/plain": [
              "50"
            ]
          },
          "metadata": {},
          "execution_count": 25
        }
      ]
    },
    {
      "cell_type": "code",
      "source": [
        "# Splitting data into train and test. Validation is another split done when data size is a 100+.\n",
        "X_train = X[:40] # 80% of the data (the first 40 samples).\n",
        "y_train = y[:40]\n",
        "\n",
        "X_test = X[40:] # 20% of the data (the last 10 samples).\n",
        "y_test = y[40:]\n",
        "\n",
        "len(X_train), len(X_test), len(y_train), len(y_test)"
      ],
      "metadata": {
        "colab": {
          "base_uri": "https://localhost:8080/"
        },
        "id": "YvSb7q6hlyDd",
        "outputId": "e0052ba9-71fd-4901-ef5a-04f5db2b69a7"
      },
      "execution_count": 26,
      "outputs": [
        {
          "output_type": "execute_result",
          "data": {
            "text/plain": [
              "(40, 10, 40, 10)"
            ]
          },
          "metadata": {},
          "execution_count": 26
        }
      ]
    },
    {
      "cell_type": "code",
      "source": [
        "# Visualize the datasets.\n",
        "plt.figure(figsize=(10, 7))\n",
        "plt.scatter(X_train, y_train, c=\"b\", label=\"Training Dataset\")\n",
        "plt.scatter(X_test, y_test, c=\"g\", label=\"Testing Dataset\")\n",
        "plt.legend()"
      ],
      "metadata": {
        "colab": {
          "base_uri": "https://localhost:8080/",
          "height": 445
        },
        "id": "ED8hVC_7mnxU",
        "outputId": "58daf08b-3c17-45f6-f6d9-d54a049cd9a6"
      },
      "execution_count": 27,
      "outputs": [
        {
          "output_type": "execute_result",
          "data": {
            "text/plain": [
              "<matplotlib.legend.Legend at 0x7fc84018ceb0>"
            ]
          },
          "metadata": {},
          "execution_count": 27
        },
        {
          "output_type": "display_data",
          "data": {
            "text/plain": [
              "<Figure size 720x504 with 1 Axes>"
            ],
            "image/png": "[encoded data removed]"
          },
          "metadata": {
            "needs_background": "light"
          }
        }
      ]
    },
    {
      "cell_type": "markdown",
      "source": [
        "## Building a model for above data"
      ],
      "metadata": {
        "id": "79KNI6N3rFBK"
      }
    },
    {
      "cell_type": "code",
      "source": [
        "tf.random.set_seed(42)\n",
        "\n",
        "# Create Model\n",
        "model_2 = tf.keras.Sequential([\n",
        "    tf.keras.layers.Dense(100, activation=\"relu\"),\n",
        "    tf.keras.layers.Dense(100, activation=\"relu\"),\n",
        "    tf.keras.layers.Dense(100, activation=\"relu\"),\n",
        "    tf.keras.layers.Dense(1)\n",
        "])\n",
        "\n",
        "# Compile Model\n",
        "model_2.compile(loss = tf.keras.losses.mae,\n",
        "                optimizer = tf.keras.optimizers.Adam(learning_rate=0.001),\n",
        "                metrics=[\"mae\"])\n",
        "\n",
        "# Fitting Model\n",
        "model_2.fit(tf.expand_dims(X_train, axis = 1), y_train, epochs = 500)"
      ],
      "metadata": {
        "colab": {
          "base_uri": "https://localhost:8080/"
        },
        "id": "ILAYpByMmwIK",
        "outputId": "af03aacf-b44f-487a-c2df-7c6fe019d5b7"
      },
      "execution_count": 28,
      "outputs": [
        {
          "output_type": "stream",
          "name": "stdout",
          "text": [
            "Epoch 1/500\n",
            "2/2 [==============================] - 1s 20ms/step - loss: 38.2264 - mae: 38.2264\n",
            "Epoch 2/500\n",
            "2/2 [==============================] - 0s 10ms/step - loss: 34.8081 - mae: 34.8081\n",
            "Epoch 3/500\n",
            "2/2 [==============================] - 0s 9ms/step - loss: 31.7763 - mae: 31.7763\n",
            "Epoch 4/500\n",
            "2/2 [==============================] - 0s 10ms/step - loss: 28.9610 - mae: 28.9610\n",
            "Epoch 5/500\n",
            "2/2 [==============================] - 0s 7ms/step - loss: 26.0267 - mae: 26.0267\n",
            "Epoch 6/500\n",
            "2/2 [==============================] - 0s 6ms/step - loss: 22.8464 - mae: 22.8464\n",
            "Epoch 7/500\n",
            "2/2 [==============================] - 0s 7ms/step - loss: 19.1946 - mae: 19.1946\n",
            "Epoch 8/500\n",
            "2/2 [==============================] - 0s 6ms/step - loss: 15.1724 - mae: 15.1724\n",
            "Epoch 9/500\n",
            "2/2 [==============================] - 0s 14ms/step - loss: 11.2348 - mae: 11.2348\n",
            "Epoch 10/500\n",
            "2/2 [==============================] - 0s 7ms/step - loss: 8.1223 - mae: 8.1223\n",
            "Epoch 11/500\n",
            "2/2 [==============================] - 0s 8ms/step - loss: 9.3449 - mae: 9.3449\n",
            "Epoch 12/500\n",
            "2/2 [==============================] - 0s 7ms/step - loss: 8.3723 - mae: 8.3723\n",
            "Epoch 13/500\n",
            "2/2 [==============================] - 0s 8ms/step - loss: 6.1030 - mae: 6.1030\n",
            "Epoch 14/500\n",
            "2/2 [==============================] - 0s 7ms/step - loss: 4.8353 - mae: 4.8353\n",
            "Epoch 15/500\n",
            "2/2 [==============================] - 0s 13ms/step - loss: 5.5306 - mae: 5.5306\n",
            "Epoch 16/500\n",
            "2/2 [==============================] - 0s 8ms/step - loss: 6.2311 - mae: 6.2311\n",
            "Epoch 17/500\n",
            "2/2 [==============================] - 0s 8ms/step - loss: 6.0418 - mae: 6.0418\n",
            "Epoch 18/500\n",
            "2/2 [==============================] - 0s 9ms/step - loss: 5.4724 - mae: 5.4724\n",
            "Epoch 19/500\n",
            "2/2 [==============================] - 0s 8ms/step - loss: 4.6062 - mae: 4.6062\n",
            "Epoch 20/500\n",
            "2/2 [==============================] - 0s 8ms/step - loss: 4.1401 - mae: 4.1401\n",
            "Epoch 21/500\n",
            "2/2 [==============================] - 0s 9ms/step - loss: 4.7189 - mae: 4.7189\n",
            "Epoch 22/500\n",
            "2/2 [==============================] - 0s 8ms/step - loss: 5.0102 - mae: 5.0102\n",
            "Epoch 23/500\n",
            "2/2 [==============================] - 0s 10ms/step - loss: 4.2979 - mae: 4.2979\n",
            "Epoch 24/500\n",
            "2/2 [==============================] - 0s 9ms/step - loss: 4.1919 - mae: 4.1919\n",
            "Epoch 25/500\n",
            "2/2 [==============================] - 0s 8ms/step - loss: 4.3362 - mae: 4.3362\n",
            "Epoch 26/500\n",
            "2/2 [==============================] - 0s 7ms/step - loss: 4.4674 - mae: 4.4674\n",
            "Epoch 27/500\n",
            "2/2 [==============================] - 0s 7ms/step - loss: 4.3631 - mae: 4.3631\n",
            "Epoch 28/500\n",
            "2/2 [==============================] - 0s 11ms/step - loss: 4.2164 - mae: 4.2164\n",
            "Epoch 29/500\n",
            "2/2 [==============================] - 0s 7ms/step - loss: 4.1663 - mae: 4.1663\n",
            "Epoch 30/500\n",
            "2/2 [==============================] - 0s 7ms/step - loss: 4.1001 - mae: 4.1001\n",
            "Epoch 31/500\n",
            "2/2 [==============================] - 0s 7ms/step - loss: 4.1127 - mae: 4.1127\n",
            "Epoch 32/500\n",
            "2/2 [==============================] - 0s 7ms/step - loss: 4.0962 - mae: 4.0962\n",
            "Epoch 33/500\n",
            "2/2 [==============================] - 0s 8ms/step - loss: 4.1664 - mae: 4.1664\n",
            "Epoch 34/500\n",
            "2/2 [==============================] - 0s 7ms/step - loss: 4.1387 - mae: 4.1387\n",
            "Epoch 35/500\n",
            "2/2 [==============================] - 0s 7ms/step - loss: 4.0557 - mae: 4.0557\n",
            "Epoch 36/500\n",
            "2/2 [==============================] - 0s 7ms/step - loss: 4.0433 - mae: 4.0433\n",
            "Epoch 37/500\n",
            "2/2 [==============================] - 0s 7ms/step - loss: 4.0636 - mae: 4.0636\n",
            "Epoch 38/500\n",
            "2/2 [==============================] - 0s 8ms/step - loss: 4.0185 - mae: 4.0185\n",
            "Epoch 39/500\n",
            "2/2 [==============================] - 0s 9ms/step - loss: 3.9559 - mae: 3.9559\n",
            "Epoch 40/500\n",
            "2/2 [==============================] - 0s 7ms/step - loss: 3.9383 - mae: 3.9383\n",
            "Epoch 41/500\n",
            "2/2 [==============================] - 0s 7ms/step - loss: 3.9092 - mae: 3.9092\n",
            "Epoch 42/500\n",
            "2/2 [==============================] - 0s 13ms/step - loss: 3.9310 - mae: 3.9310\n",
            "Epoch 43/500\n",
            "2/2 [==============================] - 0s 7ms/step - loss: 3.9301 - mae: 3.9301\n",
            "Epoch 44/500\n",
            "2/2 [==============================] - 0s 7ms/step - loss: 3.8868 - mae: 3.8868\n",
            "Epoch 45/500\n",
            "2/2 [==============================] - 0s 7ms/step - loss: 3.9208 - mae: 3.9208\n",
            "Epoch 46/500\n",
            "2/2 [==============================] - 0s 7ms/step - loss: 4.0049 - mae: 4.0049\n",
            "Epoch 47/500\n",
            "2/2 [==============================] - 0s 17ms/step - loss: 4.0322 - mae: 4.0322\n",
            "Epoch 48/500\n",
            "2/2 [==============================] - 0s 7ms/step - loss: 3.9589 - mae: 3.9589\n",
            "Epoch 49/500\n",
            "2/2 [==============================] - 0s 8ms/step - loss: 3.8758 - mae: 3.8758\n",
            "Epoch 50/500\n",
            "2/2 [==============================] - 0s 7ms/step - loss: 3.8485 - mae: 3.8485\n",
            "Epoch 51/500\n",
            "2/2 [==============================] - 0s 11ms/step - loss: 3.8467 - mae: 3.8467\n",
            "Epoch 52/500\n",
            "2/2 [==============================] - 0s 8ms/step - loss: 3.8337 - mae: 3.8337\n",
            "Epoch 53/500\n",
            "2/2 [==============================] - 0s 9ms/step - loss: 3.8258 - mae: 3.8258\n",
            "Epoch 54/500\n",
            "2/2 [==============================] - 0s 7ms/step - loss: 3.7656 - mae: 3.7656\n",
            "Epoch 55/500\n",
            "2/2 [==============================] - 0s 7ms/step - loss: 3.7555 - mae: 3.7555\n",
            "Epoch 56/500\n",
            "2/2 [==============================] - 0s 7ms/step - loss: 3.8151 - mae: 3.8151\n",
            "Epoch 57/500\n",
            "2/2 [==============================] - 0s 7ms/step - loss: 3.7928 - mae: 3.7928\n",
            "Epoch 58/500\n",
            "2/2 [==============================] - 0s 7ms/step - loss: 3.7884 - mae: 3.7884\n",
            "Epoch 59/500\n",
            "2/2 [==============================] - 0s 8ms/step - loss: 3.7635 - mae: 3.7635\n",
            "Epoch 60/500\n",
            "2/2 [==============================] - 0s 7ms/step - loss: 3.7228 - mae: 3.7228\n",
            "Epoch 61/500\n",
            "2/2 [==============================] - 0s 8ms/step - loss: 3.7376 - mae: 3.7376\n",
            "Epoch 62/500\n",
            "2/2 [==============================] - 0s 8ms/step - loss: 3.7353 - mae: 3.7353\n",
            "Epoch 63/500\n",
            "2/2 [==============================] - 0s 7ms/step - loss: 3.7260 - mae: 3.7260\n",
            "Epoch 64/500\n",
            "2/2 [==============================] - 0s 10ms/step - loss: 3.6993 - mae: 3.6993\n",
            "Epoch 65/500\n",
            "2/2 [==============================] - 0s 8ms/step - loss: 3.5818 - mae: 3.5818\n",
            "Epoch 66/500\n",
            "2/2 [==============================] - 0s 15ms/step - loss: 3.6884 - mae: 3.6884\n",
            "Epoch 67/500\n",
            "2/2 [==============================] - 0s 8ms/step - loss: 3.6937 - mae: 3.6937\n",
            "Epoch 68/500\n",
            "2/2 [==============================] - 0s 7ms/step - loss: 3.8825 - mae: 3.8825\n",
            "Epoch 69/500\n",
            "2/2 [==============================] - 0s 8ms/step - loss: 3.7414 - mae: 3.7414\n",
            "Epoch 70/500\n",
            "2/2 [==============================] - 0s 13ms/step - loss: 3.6452 - mae: 3.6452\n",
            "Epoch 71/500\n",
            "2/2 [==============================] - 0s 7ms/step - loss: 3.7685 - mae: 3.7685\n",
            "Epoch 72/500\n",
            "2/2 [==============================] - 0s 7ms/step - loss: 3.5619 - mae: 3.5619\n",
            "Epoch 73/500\n",
            "2/2 [==============================] - 0s 7ms/step - loss: 3.6617 - mae: 3.6617\n",
            "Epoch 74/500\n",
            "2/2 [==============================] - 0s 7ms/step - loss: 3.7188 - mae: 3.7188\n",
            "Epoch 75/500\n",
            "2/2 [==============================] - 0s 9ms/step - loss: 3.5264 - mae: 3.5264\n",
            "Epoch 76/500\n",
            "2/2 [==============================] - 0s 7ms/step - loss: 3.5112 - mae: 3.5112\n",
            "Epoch 77/500\n",
            "2/2 [==============================] - 0s 14ms/step - loss: 3.5780 - mae: 3.5780\n",
            "Epoch 78/500\n",
            "2/2 [==============================] - 0s 7ms/step - loss: 3.4925 - mae: 3.4925\n",
            "Epoch 79/500\n",
            "2/2 [==============================] - 0s 9ms/step - loss: 3.4038 - mae: 3.4038\n",
            "Epoch 80/500\n",
            "2/2 [==============================] - 0s 7ms/step - loss: 3.4777 - mae: 3.4777\n",
            "Epoch 81/500\n",
            "2/2 [==============================] - 0s 7ms/step - loss: 3.2899 - mae: 3.2899\n",
            "Epoch 82/500\n",
            "2/2 [==============================] - 0s 10ms/step - loss: 3.5431 - mae: 3.5431\n",
            "Epoch 83/500\n",
            "2/2 [==============================] - 0s 8ms/step - loss: 3.6518 - mae: 3.6518\n",
            "Epoch 84/500\n",
            "2/2 [==============================] - 0s 7ms/step - loss: 3.3281 - mae: 3.3281\n",
            "Epoch 85/500\n",
            "2/2 [==============================] - 0s 7ms/step - loss: 3.3468 - mae: 3.3468\n",
            "Epoch 86/500\n",
            "2/2 [==============================] - 0s 7ms/step - loss: 3.3728 - mae: 3.3728\n",
            "Epoch 87/500\n",
            "2/2 [==============================] - 0s 7ms/step - loss: 3.1440 - mae: 3.1440\n",
            "Epoch 88/500\n",
            "2/2 [==============================] - 0s 7ms/step - loss: 3.3992 - mae: 3.3992\n",
            "Epoch 89/500\n",
            "2/2 [==============================] - 0s 8ms/step - loss: 3.3585 - mae: 3.3585\n",
            "Epoch 90/500\n",
            "2/2 [==============================] - 0s 7ms/step - loss: 3.2095 - mae: 3.2095\n",
            "Epoch 91/500\n",
            "2/2 [==============================] - 0s 14ms/step - loss: 3.1198 - mae: 3.1198\n",
            "Epoch 92/500\n",
            "2/2 [==============================] - 0s 8ms/step - loss: 3.2455 - mae: 3.2455\n",
            "Epoch 93/500\n",
            "2/2 [==============================] - 0s 7ms/step - loss: 3.1866 - mae: 3.1866\n",
            "Epoch 94/500\n",
            "2/2 [==============================] - 0s 8ms/step - loss: 3.0839 - mae: 3.0839\n",
            "Epoch 95/500\n",
            "2/2 [==============================] - 0s 14ms/step - loss: 3.1666 - mae: 3.1666\n",
            "Epoch 96/500\n",
            "2/2 [==============================] - 0s 9ms/step - loss: 4.0185 - mae: 4.0185\n",
            "Epoch 97/500\n",
            "2/2 [==============================] - 0s 7ms/step - loss: 3.3738 - mae: 3.3738\n",
            "Epoch 98/500\n",
            "2/2 [==============================] - 0s 11ms/step - loss: 3.6692 - mae: 3.6692\n",
            "Epoch 99/500\n",
            "2/2 [==============================] - 0s 8ms/step - loss: 2.9349 - mae: 2.9349\n",
            "Epoch 100/500\n",
            "2/2 [==============================] - 0s 12ms/step - loss: 3.1585 - mae: 3.1585\n",
            "Epoch 101/500\n",
            "2/2 [==============================] - 0s 8ms/step - loss: 2.8798 - mae: 2.8798\n",
            "Epoch 102/500\n",
            "2/2 [==============================] - 0s 7ms/step - loss: 3.0502 - mae: 3.0502\n",
            "Epoch 103/500\n",
            "2/2 [==============================] - 0s 7ms/step - loss: 2.8606 - mae: 2.8606\n",
            "Epoch 104/500\n",
            "2/2 [==============================] - 0s 8ms/step - loss: 2.7335 - mae: 2.7335\n",
            "Epoch 105/500\n",
            "2/2 [==============================] - 0s 8ms/step - loss: 3.1025 - mae: 3.1025\n",
            "Epoch 106/500\n",
            "2/2 [==============================] - 0s 7ms/step - loss: 2.7737 - mae: 2.7737\n",
            "Epoch 107/500\n",
            "2/2 [==============================] - 0s 7ms/step - loss: 2.9833 - mae: 2.9833\n",
            "Epoch 108/500\n",
            "2/2 [==============================] - 0s 7ms/step - loss: 2.7364 - mae: 2.7364\n",
            "Epoch 109/500\n",
            "2/2 [==============================] - 0s 8ms/step - loss: 2.6225 - mae: 2.6225\n",
            "Epoch 110/500\n",
            "2/2 [==============================] - 0s 9ms/step - loss: 2.5792 - mae: 2.5792\n",
            "Epoch 111/500\n",
            "2/2 [==============================] - 0s 7ms/step - loss: 2.8273 - mae: 2.8273\n",
            "Epoch 112/500\n",
            "2/2 [==============================] - 0s 7ms/step - loss: 2.4813 - mae: 2.4813\n",
            "Epoch 113/500\n",
            "2/2 [==============================] - 0s 7ms/step - loss: 2.6402 - mae: 2.6402\n",
            "Epoch 114/500\n",
            "2/2 [==============================] - 0s 8ms/step - loss: 2.7382 - mae: 2.7382\n",
            "Epoch 115/500\n",
            "2/2 [==============================] - 0s 9ms/step - loss: 2.4623 - mae: 2.4623\n",
            "Epoch 116/500\n",
            "2/2 [==============================] - 0s 8ms/step - loss: 2.4015 - mae: 2.4015\n",
            "Epoch 117/500\n",
            "2/2 [==============================] - 0s 7ms/step - loss: 2.6260 - mae: 2.6260\n",
            "Epoch 118/500\n",
            "2/2 [==============================] - 0s 10ms/step - loss: 2.6395 - mae: 2.6395\n",
            "Epoch 119/500\n",
            "2/2 [==============================] - 0s 7ms/step - loss: 2.8091 - mae: 2.8091\n",
            "Epoch 120/500\n",
            "2/2 [==============================] - 0s 7ms/step - loss: 2.6613 - mae: 2.6613\n",
            "Epoch 121/500\n",
            "2/2 [==============================] - 0s 9ms/step - loss: 3.2514 - mae: 3.2514\n",
            "Epoch 122/500\n",
            "2/2 [==============================] - 0s 15ms/step - loss: 3.0303 - mae: 3.0303\n",
            "Epoch 123/500\n",
            "2/2 [==============================] - 0s 8ms/step - loss: 3.5919 - mae: 3.5919\n",
            "Epoch 124/500\n",
            "2/2 [==============================] - 0s 8ms/step - loss: 2.4426 - mae: 2.4426\n",
            "Epoch 125/500\n",
            "2/2 [==============================] - 0s 8ms/step - loss: 3.7755 - mae: 3.7755\n",
            "Epoch 126/500\n",
            "2/2 [==============================] - 0s 8ms/step - loss: 2.7567 - mae: 2.7567\n",
            "Epoch 127/500\n",
            "2/2 [==============================] - 0s 9ms/step - loss: 2.4011 - mae: 2.4011\n",
            "Epoch 128/500\n",
            "2/2 [==============================] - 0s 7ms/step - loss: 2.3322 - mae: 2.3322\n",
            "Epoch 129/500\n",
            "2/2 [==============================] - 0s 8ms/step - loss: 2.0461 - mae: 2.0461\n",
            "Epoch 130/500\n",
            "2/2 [==============================] - 0s 7ms/step - loss: 1.9461 - mae: 1.9461\n",
            "Epoch 131/500\n",
            "2/2 [==============================] - 0s 9ms/step - loss: 2.0226 - mae: 2.0226\n",
            "Epoch 132/500\n",
            "2/2 [==============================] - 0s 7ms/step - loss: 1.8287 - mae: 1.8287\n",
            "Epoch 133/500\n",
            "2/2 [==============================] - 0s 7ms/step - loss: 1.7497 - mae: 1.7497\n",
            "Epoch 134/500\n",
            "2/2 [==============================] - 0s 7ms/step - loss: 1.9095 - mae: 1.9095\n",
            "Epoch 135/500\n",
            "2/2 [==============================] - 0s 7ms/step - loss: 1.5044 - mae: 1.5044\n",
            "Epoch 136/500\n",
            "2/2 [==============================] - 0s 7ms/step - loss: 1.5386 - mae: 1.5386\n",
            "Epoch 137/500\n",
            "2/2 [==============================] - 0s 7ms/step - loss: 1.3591 - mae: 1.3591\n",
            "Epoch 138/500\n",
            "2/2 [==============================] - 0s 7ms/step - loss: 1.2410 - mae: 1.2410\n",
            "Epoch 139/500\n",
            "2/2 [==============================] - 0s 7ms/step - loss: 1.2381 - mae: 1.2381\n",
            "Epoch 140/500\n",
            "2/2 [==============================] - 0s 8ms/step - loss: 1.4360 - mae: 1.4360\n",
            "Epoch 141/500\n",
            "2/2 [==============================] - 0s 9ms/step - loss: 1.0213 - mae: 1.0213\n",
            "Epoch 142/500\n",
            "2/2 [==============================] - 0s 7ms/step - loss: 1.1777 - mae: 1.1777\n",
            "Epoch 143/500\n",
            "2/2 [==============================] - 0s 7ms/step - loss: 1.0002 - mae: 1.0002\n",
            "Epoch 144/500\n",
            "2/2 [==============================] - 0s 16ms/step - loss: 1.4840 - mae: 1.4840\n",
            "Epoch 145/500\n",
            "2/2 [==============================] - 0s 7ms/step - loss: 3.0118 - mae: 3.0118\n",
            "Epoch 146/500\n",
            "2/2 [==============================] - 0s 7ms/step - loss: 3.5412 - mae: 3.5412\n",
            "Epoch 147/500\n",
            "2/2 [==============================] - 0s 8ms/step - loss: 1.4627 - mae: 1.4627\n",
            "Epoch 148/500\n",
            "2/2 [==============================] - 0s 8ms/step - loss: 2.2169 - mae: 2.2169\n",
            "Epoch 149/500\n",
            "2/2 [==============================] - 0s 15ms/step - loss: 0.9572 - mae: 0.9572\n",
            "Epoch 150/500\n",
            "2/2 [==============================] - 0s 7ms/step - loss: 2.1612 - mae: 2.1612\n",
            "Epoch 151/500\n",
            "2/2 [==============================] - 0s 8ms/step - loss: 0.9694 - mae: 0.9694\n",
            "Epoch 152/500\n",
            "2/2 [==============================] - 0s 9ms/step - loss: 1.8083 - mae: 1.8083\n",
            "Epoch 153/500\n",
            "2/2 [==============================] - 0s 6ms/step - loss: 1.1583 - mae: 1.1583\n",
            "Epoch 154/500\n",
            "2/2 [==============================] - 0s 12ms/step - loss: 2.4394 - mae: 2.4394\n",
            "Epoch 155/500\n",
            "2/2 [==============================] - 0s 8ms/step - loss: 1.8330 - mae: 1.8330\n",
            "Epoch 156/500\n",
            "2/2 [==============================] - 0s 8ms/step - loss: 1.5397 - mae: 1.5397\n",
            "Epoch 157/500\n",
            "2/2 [==============================] - 0s 8ms/step - loss: 0.9685 - mae: 0.9685\n",
            "Epoch 158/500\n",
            "2/2 [==============================] - 0s 8ms/step - loss: 1.2963 - mae: 1.2963\n",
            "Epoch 159/500\n",
            "2/2 [==============================] - 0s 12ms/step - loss: 0.8842 - mae: 0.8842\n",
            "Epoch 160/500\n",
            "2/2 [==============================] - 0s 8ms/step - loss: 0.9996 - mae: 0.9996\n",
            "Epoch 161/500\n",
            "2/2 [==============================] - 0s 11ms/step - loss: 0.7567 - mae: 0.7567\n",
            "Epoch 162/500\n",
            "2/2 [==============================] - 0s 7ms/step - loss: 1.0993 - mae: 1.0993\n",
            "Epoch 163/500\n",
            "2/2 [==============================] - 0s 8ms/step - loss: 1.2259 - mae: 1.2259\n",
            "Epoch 164/500\n",
            "2/2 [==============================] - 0s 8ms/step - loss: 0.9008 - mae: 0.9008\n",
            "Epoch 165/500\n",
            "2/2 [==============================] - 0s 8ms/step - loss: 2.2152 - mae: 2.2152\n",
            "Epoch 166/500\n",
            "2/2 [==============================] - 0s 8ms/step - loss: 1.0300 - mae: 1.0300\n",
            "Epoch 167/500\n",
            "2/2 [==============================] - 0s 9ms/step - loss: 1.3752 - mae: 1.3752\n",
            "Epoch 168/500\n",
            "2/2 [==============================] - 0s 8ms/step - loss: 0.7369 - mae: 0.7369\n",
            "Epoch 169/500\n",
            "2/2 [==============================] - 0s 8ms/step - loss: 1.0374 - mae: 1.0374\n",
            "Epoch 170/500\n",
            "2/2 [==============================] - 0s 9ms/step - loss: 0.7784 - mae: 0.7784\n",
            "Epoch 171/500\n",
            "2/2 [==============================] - 0s 8ms/step - loss: 0.9748 - mae: 0.9748\n",
            "Epoch 172/500\n",
            "2/2 [==============================] - 0s 8ms/step - loss: 0.7729 - mae: 0.7729\n",
            "Epoch 173/500\n",
            "2/2 [==============================] - 0s 9ms/step - loss: 1.4333 - mae: 1.4333\n",
            "Epoch 174/500\n",
            "2/2 [==============================] - 0s 7ms/step - loss: 0.6071 - mae: 0.6071\n",
            "Epoch 175/500\n",
            "2/2 [==============================] - 0s 8ms/step - loss: 0.7693 - mae: 0.7693\n",
            "Epoch 176/500\n",
            "2/2 [==============================] - 0s 8ms/step - loss: 0.5819 - mae: 0.5819\n",
            "Epoch 177/500\n",
            "2/2 [==============================] - 0s 8ms/step - loss: 1.3245 - mae: 1.3245\n",
            "Epoch 178/500\n",
            "2/2 [==============================] - 0s 7ms/step - loss: 0.6508 - mae: 0.6508\n",
            "Epoch 179/500\n",
            "2/2 [==============================] - 0s 8ms/step - loss: 1.6814 - mae: 1.6814\n",
            "Epoch 180/500\n",
            "2/2 [==============================] - 0s 8ms/step - loss: 1.2208 - mae: 1.2208\n",
            "Epoch 181/500\n",
            "2/2 [==============================] - 0s 7ms/step - loss: 1.0360 - mae: 1.0360\n",
            "Epoch 182/500\n",
            "2/2 [==============================] - 0s 8ms/step - loss: 1.3329 - mae: 1.3329\n",
            "Epoch 183/500\n",
            "2/2 [==============================] - 0s 8ms/step - loss: 0.9679 - mae: 0.9679\n",
            "Epoch 184/500\n",
            "2/2 [==============================] - 0s 7ms/step - loss: 0.6914 - mae: 0.6914\n",
            "Epoch 185/500\n",
            "2/2 [==============================] - 0s 10ms/step - loss: 1.4248 - mae: 1.4248\n",
            "Epoch 186/500\n",
            "2/2 [==============================] - 0s 8ms/step - loss: 0.8067 - mae: 0.8067\n",
            "Epoch 187/500\n",
            "2/2 [==============================] - 0s 8ms/step - loss: 1.2626 - mae: 1.2626\n",
            "Epoch 188/500\n",
            "2/2 [==============================] - 0s 9ms/step - loss: 1.0153 - mae: 1.0153\n",
            "Epoch 189/500\n",
            "2/2 [==============================] - 0s 8ms/step - loss: 1.1370 - mae: 1.1370\n",
            "Epoch 190/500\n",
            "2/2 [==============================] - 0s 8ms/step - loss: 1.6633 - mae: 1.6633\n",
            "Epoch 191/500\n",
            "2/2 [==============================] - 0s 7ms/step - loss: 1.0123 - mae: 1.0123\n",
            "Epoch 192/500\n",
            "2/2 [==============================] - 0s 8ms/step - loss: 0.8637 - mae: 0.8637\n",
            "Epoch 193/500\n",
            "2/2 [==============================] - 0s 8ms/step - loss: 1.1472 - mae: 1.1472\n",
            "Epoch 194/500\n",
            "2/2 [==============================] - 0s 8ms/step - loss: 1.1833 - mae: 1.1833\n",
            "Epoch 195/500\n",
            "2/2 [==============================] - 0s 8ms/step - loss: 1.0216 - mae: 1.0216\n",
            "Epoch 196/500\n",
            "2/2 [==============================] - 0s 8ms/step - loss: 0.6984 - mae: 0.6984\n",
            "Epoch 197/500\n",
            "2/2 [==============================] - 0s 9ms/step - loss: 1.1079 - mae: 1.1079\n",
            "Epoch 198/500\n",
            "2/2 [==============================] - 0s 8ms/step - loss: 0.5436 - mae: 0.5436\n",
            "Epoch 199/500\n",
            "2/2 [==============================] - 0s 9ms/step - loss: 0.7393 - mae: 0.7393\n",
            "Epoch 200/500\n",
            "2/2 [==============================] - 0s 8ms/step - loss: 0.3404 - mae: 0.3404\n",
            "Epoch 201/500\n",
            "2/2 [==============================] - 0s 7ms/step - loss: 0.3092 - mae: 0.3092\n",
            "Epoch 202/500\n",
            "2/2 [==============================] - 0s 9ms/step - loss: 0.3454 - mae: 0.3454\n",
            "Epoch 203/500\n",
            "2/2 [==============================] - 0s 7ms/step - loss: 0.5125 - mae: 0.5125\n",
            "Epoch 204/500\n",
            "2/2 [==============================] - 0s 7ms/step - loss: 0.5331 - mae: 0.5331\n",
            "Epoch 205/500\n",
            "2/2 [==============================] - 0s 7ms/step - loss: 0.4319 - mae: 0.4319\n",
            "Epoch 206/500\n",
            "2/2 [==============================] - 0s 6ms/step - loss: 0.6945 - mae: 0.6945\n",
            "Epoch 207/500\n",
            "2/2 [==============================] - 0s 8ms/step - loss: 0.7075 - mae: 0.7075\n",
            "Epoch 208/500\n",
            "2/2 [==============================] - 0s 9ms/step - loss: 0.6305 - mae: 0.6305\n",
            "Epoch 209/500\n",
            "2/2 [==============================] - 0s 8ms/step - loss: 0.8652 - mae: 0.8652\n",
            "Epoch 210/500\n",
            "2/2 [==============================] - 0s 8ms/step - loss: 0.8941 - mae: 0.8941\n",
            "Epoch 211/500\n",
            "2/2 [==============================] - 0s 7ms/step - loss: 0.6519 - mae: 0.6519\n",
            "Epoch 212/500\n",
            "2/2 [==============================] - 0s 9ms/step - loss: 1.1397 - mae: 1.1397\n",
            "Epoch 213/500\n",
            "2/2 [==============================] - 0s 8ms/step - loss: 1.2745 - mae: 1.2745\n",
            "Epoch 214/500\n",
            "2/2 [==============================] - 0s 9ms/step - loss: 0.8980 - mae: 0.8980\n",
            "Epoch 215/500\n",
            "2/2 [==============================] - 0s 9ms/step - loss: 0.3112 - mae: 0.3112\n",
            "Epoch 216/500\n",
            "2/2 [==============================] - 0s 11ms/step - loss: 0.8715 - mae: 0.8715\n",
            "Epoch 217/500\n",
            "2/2 [==============================] - 0s 8ms/step - loss: 0.4485 - mae: 0.4485\n",
            "Epoch 218/500\n",
            "2/2 [==============================] - 0s 9ms/step - loss: 0.5833 - mae: 0.5833\n",
            "Epoch 219/500\n",
            "2/2 [==============================] - 0s 9ms/step - loss: 0.6624 - mae: 0.6624\n",
            "Epoch 220/500\n",
            "2/2 [==============================] - 0s 9ms/step - loss: 0.3663 - mae: 0.3663\n",
            "Epoch 221/500\n",
            "2/2 [==============================] - 0s 9ms/step - loss: 0.6224 - mae: 0.6224\n",
            "Epoch 222/500\n",
            "2/2 [==============================] - 0s 13ms/step - loss: 0.3374 - mae: 0.3374\n",
            "Epoch 223/500\n",
            "2/2 [==============================] - 0s 8ms/step - loss: 0.9381 - mae: 0.9381\n",
            "Epoch 224/500\n",
            "2/2 [==============================] - 0s 8ms/step - loss: 0.4531 - mae: 0.4531\n",
            "Epoch 225/500\n",
            "2/2 [==============================] - 0s 9ms/step - loss: 0.3081 - mae: 0.3081\n",
            "Epoch 226/500\n",
            "2/2 [==============================] - 0s 8ms/step - loss: 0.3280 - mae: 0.3280\n",
            "Epoch 227/500\n",
            "2/2 [==============================] - 0s 11ms/step - loss: 0.2460 - mae: 0.2460\n",
            "Epoch 228/500\n",
            "2/2 [==============================] - 0s 10ms/step - loss: 0.3034 - mae: 0.3034\n",
            "Epoch 229/500\n",
            "2/2 [==============================] - 0s 12ms/step - loss: 0.4233 - mae: 0.4233\n",
            "Epoch 230/500\n",
            "2/2 [==============================] - 0s 7ms/step - loss: 0.2607 - mae: 0.2607\n",
            "Epoch 231/500\n",
            "2/2 [==============================] - 0s 10ms/step - loss: 0.8948 - mae: 0.8948\n",
            "Epoch 232/500\n",
            "2/2 [==============================] - 0s 10ms/step - loss: 1.0529 - mae: 1.0529\n",
            "Epoch 233/500\n",
            "2/2 [==============================] - 0s 8ms/step - loss: 0.3321 - mae: 0.3321\n",
            "Epoch 234/500\n",
            "2/2 [==============================] - 0s 7ms/step - loss: 0.6176 - mae: 0.6176\n",
            "Epoch 235/500\n",
            "2/2 [==============================] - 0s 8ms/step - loss: 0.4023 - mae: 0.4023\n",
            "Epoch 236/500\n",
            "2/2 [==============================] - 0s 8ms/step - loss: 0.5287 - mae: 0.5287\n",
            "Epoch 237/500\n",
            "2/2 [==============================] - 0s 8ms/step - loss: 0.7275 - mae: 0.7275\n",
            "Epoch 238/500\n",
            "2/2 [==============================] - 0s 8ms/step - loss: 0.6020 - mae: 0.6020\n",
            "Epoch 239/500\n",
            "2/2 [==============================] - 0s 8ms/step - loss: 1.0764 - mae: 1.0764\n",
            "Epoch 240/500\n",
            "2/2 [==============================] - 0s 6ms/step - loss: 0.7073 - mae: 0.7073\n",
            "Epoch 241/500\n",
            "2/2 [==============================] - 0s 6ms/step - loss: 1.1154 - mae: 1.1154\n",
            "Epoch 242/500\n",
            "2/2 [==============================] - 0s 9ms/step - loss: 1.2812 - mae: 1.2812\n",
            "Epoch 243/500\n",
            "2/2 [==============================] - 0s 8ms/step - loss: 0.4517 - mae: 0.4517\n",
            "Epoch 244/500\n",
            "2/2 [==============================] - 0s 9ms/step - loss: 1.8148 - mae: 1.8148\n",
            "Epoch 245/500\n",
            "2/2 [==============================] - 0s 6ms/step - loss: 1.4429 - mae: 1.4429\n",
            "Epoch 246/500\n",
            "2/2 [==============================] - 0s 8ms/step - loss: 0.8971 - mae: 0.8971\n",
            "Epoch 247/500\n",
            "2/2 [==============================] - 0s 8ms/step - loss: 1.2104 - mae: 1.2104\n",
            "Epoch 248/500\n",
            "2/2 [==============================] - 0s 7ms/step - loss: 0.5811 - mae: 0.5811\n",
            "Epoch 249/500\n",
            "2/2 [==============================] - 0s 8ms/step - loss: 1.0750 - mae: 1.0750\n",
            "Epoch 250/500\n",
            "2/2 [==============================] - 0s 8ms/step - loss: 0.5830 - mae: 0.5830\n",
            "Epoch 251/500\n",
            "2/2 [==============================] - 0s 8ms/step - loss: 0.7719 - mae: 0.7719\n",
            "Epoch 252/500\n",
            "2/2 [==============================] - 0s 8ms/step - loss: 0.5318 - mae: 0.5318\n",
            "Epoch 253/500\n",
            "2/2 [==============================] - 0s 13ms/step - loss: 1.1258 - mae: 1.1258\n",
            "Epoch 254/500\n",
            "2/2 [==============================] - 0s 9ms/step - loss: 0.4752 - mae: 0.4752\n",
            "Epoch 255/500\n",
            "2/2 [==============================] - 0s 8ms/step - loss: 0.9972 - mae: 0.9972\n",
            "Epoch 256/500\n",
            "2/2 [==============================] - 0s 7ms/step - loss: 0.7987 - mae: 0.7987\n",
            "Epoch 257/500\n",
            "2/2 [==============================] - 0s 6ms/step - loss: 0.8571 - mae: 0.8571\n",
            "Epoch 258/500\n",
            "2/2 [==============================] - 0s 8ms/step - loss: 1.1218 - mae: 1.1218\n",
            "Epoch 259/500\n",
            "2/2 [==============================] - 0s 8ms/step - loss: 0.7189 - mae: 0.7189\n",
            "Epoch 260/500\n",
            "2/2 [==============================] - 0s 14ms/step - loss: 1.1875 - mae: 1.1875\n",
            "Epoch 261/500\n",
            "2/2 [==============================] - 0s 7ms/step - loss: 0.5218 - mae: 0.5218\n",
            "Epoch 262/500\n",
            "2/2 [==============================] - 0s 11ms/step - loss: 1.4531 - mae: 1.4531\n",
            "Epoch 263/500\n",
            "2/2 [==============================] - 0s 8ms/step - loss: 1.1118 - mae: 1.1118\n",
            "Epoch 264/500\n",
            "2/2 [==============================] - 0s 8ms/step - loss: 0.7488 - mae: 0.7488\n",
            "Epoch 265/500\n",
            "2/2 [==============================] - 0s 8ms/step - loss: 0.2904 - mae: 0.2904\n",
            "Epoch 266/500\n",
            "2/2 [==============================] - 0s 10ms/step - loss: 0.3883 - mae: 0.3883\n",
            "Epoch 267/500\n",
            "2/2 [==============================] - 0s 9ms/step - loss: 0.3944 - mae: 0.3944\n",
            "Epoch 268/500\n",
            "2/2 [==============================] - 0s 9ms/step - loss: 0.5644 - mae: 0.5644\n",
            "Epoch 269/500\n",
            "2/2 [==============================] - 0s 8ms/step - loss: 0.4423 - mae: 0.4423\n",
            "Epoch 270/500\n",
            "2/2 [==============================] - 0s 9ms/step - loss: 0.9014 - mae: 0.9014\n",
            "Epoch 271/500\n",
            "2/2 [==============================] - 0s 8ms/step - loss: 0.2026 - mae: 0.2026\n",
            "Epoch 272/500\n",
            "2/2 [==============================] - 0s 7ms/step - loss: 0.2796 - mae: 0.2796\n",
            "Epoch 273/500\n",
            "2/2 [==============================] - 0s 6ms/step - loss: 0.2795 - mae: 0.2795\n",
            "Epoch 274/500\n",
            "2/2 [==============================] - 0s 8ms/step - loss: 0.3588 - mae: 0.3588\n",
            "Epoch 275/500\n",
            "2/2 [==============================] - 0s 10ms/step - loss: 0.4141 - mae: 0.4141\n",
            "Epoch 276/500\n",
            "2/2 [==============================] - 0s 8ms/step - loss: 0.1314 - mae: 0.1314\n",
            "Epoch 277/500\n",
            "2/2 [==============================] - 0s 7ms/step - loss: 0.5195 - mae: 0.5195\n",
            "Epoch 278/500\n",
            "2/2 [==============================] - 0s 8ms/step - loss: 0.3598 - mae: 0.3598\n",
            "Epoch 279/500\n",
            "2/2 [==============================] - 0s 8ms/step - loss: 0.7605 - mae: 0.7605\n",
            "Epoch 280/500\n",
            "2/2 [==============================] - 0s 8ms/step - loss: 0.4794 - mae: 0.4794\n",
            "Epoch 281/500\n",
            "2/2 [==============================] - 0s 9ms/step - loss: 0.5361 - mae: 0.5361\n",
            "Epoch 282/500\n",
            "2/2 [==============================] - 0s 7ms/step - loss: 0.6315 - mae: 0.6315\n",
            "Epoch 283/500\n",
            "2/2 [==============================] - 0s 8ms/step - loss: 0.2686 - mae: 0.2686\n",
            "Epoch 284/500\n",
            "2/2 [==============================] - 0s 8ms/step - loss: 0.6069 - mae: 0.6069\n",
            "Epoch 285/500\n",
            "2/2 [==============================] - 0s 6ms/step - loss: 0.4062 - mae: 0.4062\n",
            "Epoch 286/500\n",
            "2/2 [==============================] - 0s 7ms/step - loss: 0.3788 - mae: 0.3788\n",
            "Epoch 287/500\n",
            "2/2 [==============================] - 0s 10ms/step - loss: 0.6563 - mae: 0.6563\n",
            "Epoch 288/500\n",
            "2/2 [==============================] - 0s 8ms/step - loss: 0.5775 - mae: 0.5775\n",
            "Epoch 289/500\n",
            "2/2 [==============================] - 0s 16ms/step - loss: 0.8089 - mae: 0.8089\n",
            "Epoch 290/500\n",
            "2/2 [==============================] - 0s 9ms/step - loss: 1.6386 - mae: 1.6386\n",
            "Epoch 291/500\n",
            "2/2 [==============================] - 0s 10ms/step - loss: 0.4461 - mae: 0.4461\n",
            "Epoch 292/500\n",
            "2/2 [==============================] - 0s 8ms/step - loss: 2.0069 - mae: 2.0069\n",
            "Epoch 293/500\n",
            "2/2 [==============================] - 0s 9ms/step - loss: 1.2284 - mae: 1.2284\n",
            "Epoch 294/500\n",
            "2/2 [==============================] - 0s 10ms/step - loss: 1.3761 - mae: 1.3761\n",
            "Epoch 295/500\n",
            "2/2 [==============================] - 0s 9ms/step - loss: 2.3752 - mae: 2.3752\n",
            "Epoch 296/500\n",
            "2/2 [==============================] - 0s 8ms/step - loss: 1.2059 - mae: 1.2059\n",
            "Epoch 297/500\n",
            "2/2 [==============================] - 0s 9ms/step - loss: 1.5780 - mae: 1.5780\n",
            "Epoch 298/500\n",
            "2/2 [==============================] - 0s 13ms/step - loss: 1.9073 - mae: 1.9073\n",
            "Epoch 299/500\n",
            "2/2 [==============================] - 0s 9ms/step - loss: 0.6477 - mae: 0.6477\n",
            "Epoch 300/500\n",
            "2/2 [==============================] - 0s 11ms/step - loss: 1.4519 - mae: 1.4519\n",
            "Epoch 301/500\n",
            "2/2 [==============================] - 0s 10ms/step - loss: 0.8731 - mae: 0.8731\n",
            "Epoch 302/500\n",
            "2/2 [==============================] - 0s 10ms/step - loss: 1.0809 - mae: 1.0809\n",
            "Epoch 303/500\n",
            "2/2 [==============================] - 0s 10ms/step - loss: 1.2213 - mae: 1.2213\n",
            "Epoch 304/500\n",
            "2/2 [==============================] - 0s 8ms/step - loss: 1.0643 - mae: 1.0643\n",
            "Epoch 305/500\n",
            "2/2 [==============================] - 0s 11ms/step - loss: 0.5497 - mae: 0.5497\n",
            "Epoch 306/500\n",
            "2/2 [==============================] - 0s 7ms/step - loss: 0.8456 - mae: 0.8456\n",
            "Epoch 307/500\n",
            "2/2 [==============================] - 0s 9ms/step - loss: 0.5767 - mae: 0.5767\n",
            "Epoch 308/500\n",
            "2/2 [==============================] - 0s 7ms/step - loss: 0.3043 - mae: 0.3043\n",
            "Epoch 309/500\n",
            "2/2 [==============================] - 0s 8ms/step - loss: 0.2026 - mae: 0.2026\n",
            "Epoch 310/500\n",
            "2/2 [==============================] - 0s 8ms/step - loss: 0.1756 - mae: 0.1756\n",
            "Epoch 311/500\n",
            "2/2 [==============================] - 0s 8ms/step - loss: 0.1235 - mae: 0.1235\n",
            "Epoch 312/500\n",
            "2/2 [==============================] - 0s 8ms/step - loss: 0.6475 - mae: 0.6475\n",
            "Epoch 313/500\n",
            "2/2 [==============================] - 0s 7ms/step - loss: 0.2903 - mae: 0.2903\n",
            "Epoch 314/500\n",
            "2/2 [==============================] - 0s 8ms/step - loss: 1.7595 - mae: 1.7595\n",
            "Epoch 315/500\n",
            "2/2 [==============================] - 0s 8ms/step - loss: 1.1948 - mae: 1.1948\n",
            "Epoch 316/500\n",
            "2/2 [==============================] - 0s 8ms/step - loss: 1.5141 - mae: 1.5141\n",
            "Epoch 317/500\n",
            "2/2 [==============================] - 0s 9ms/step - loss: 1.8633 - mae: 1.8633\n",
            "Epoch 318/500\n",
            "2/2 [==============================] - 0s 7ms/step - loss: 0.3672 - mae: 0.3672\n",
            "Epoch 319/500\n",
            "2/2 [==============================] - 0s 7ms/step - loss: 1.8011 - mae: 1.8011\n",
            "Epoch 320/500\n",
            "2/2 [==============================] - 0s 7ms/step - loss: 1.0524 - mae: 1.0524\n",
            "Epoch 321/500\n",
            "2/2 [==============================] - 0s 7ms/step - loss: 1.0065 - mae: 1.0065\n",
            "Epoch 322/500\n",
            "2/2 [==============================] - 0s 7ms/step - loss: 1.0188 - mae: 1.0188\n",
            "Epoch 323/500\n",
            "2/2 [==============================] - 0s 9ms/step - loss: 0.7279 - mae: 0.7279\n",
            "Epoch 324/500\n",
            "2/2 [==============================] - 0s 7ms/step - loss: 1.0408 - mae: 1.0408\n",
            "Epoch 325/500\n",
            "2/2 [==============================] - 0s 10ms/step - loss: 0.4421 - mae: 0.4421\n",
            "Epoch 326/500\n",
            "2/2 [==============================] - 0s 9ms/step - loss: 0.6371 - mae: 0.6371\n",
            "Epoch 327/500\n",
            "2/2 [==============================] - 0s 8ms/step - loss: 0.5411 - mae: 0.5411\n",
            "Epoch 328/500\n",
            "2/2 [==============================] - 0s 8ms/step - loss: 0.6791 - mae: 0.6791\n",
            "Epoch 329/500\n",
            "2/2 [==============================] - 0s 7ms/step - loss: 0.4946 - mae: 0.4946\n",
            "Epoch 330/500\n",
            "2/2 [==============================] - 0s 9ms/step - loss: 0.4084 - mae: 0.4084\n",
            "Epoch 331/500\n",
            "2/2 [==============================] - 0s 7ms/step - loss: 0.3213 - mae: 0.3213\n",
            "Epoch 332/500\n",
            "2/2 [==============================] - 0s 8ms/step - loss: 0.4307 - mae: 0.4307\n",
            "Epoch 333/500\n",
            "2/2 [==============================] - 0s 8ms/step - loss: 0.4466 - mae: 0.4466\n",
            "Epoch 334/500\n",
            "2/2 [==============================] - 0s 8ms/step - loss: 0.3037 - mae: 0.3037\n",
            "Epoch 335/500\n",
            "2/2 [==============================] - 0s 8ms/step - loss: 0.3992 - mae: 0.3992\n",
            "Epoch 336/500\n",
            "2/2 [==============================] - 0s 8ms/step - loss: 0.8206 - mae: 0.8206\n",
            "Epoch 337/500\n",
            "2/2 [==============================] - 0s 7ms/step - loss: 0.4316 - mae: 0.4316\n",
            "Epoch 338/500\n",
            "2/2 [==============================] - 0s 8ms/step - loss: 1.0488 - mae: 1.0488\n",
            "Epoch 339/500\n",
            "2/2 [==============================] - 0s 7ms/step - loss: 0.6407 - mae: 0.6407\n",
            "Epoch 340/500\n",
            "2/2 [==============================] - 0s 7ms/step - loss: 1.6355 - mae: 1.6355\n",
            "Epoch 341/500\n",
            "2/2 [==============================] - 0s 7ms/step - loss: 0.8860 - mae: 0.8860\n",
            "Epoch 342/500\n",
            "2/2 [==============================] - 0s 7ms/step - loss: 1.2109 - mae: 1.2109\n",
            "Epoch 343/500\n",
            "2/2 [==============================] - 0s 8ms/step - loss: 1.1723 - mae: 1.1723\n",
            "Epoch 344/500\n",
            "2/2 [==============================] - 0s 8ms/step - loss: 0.2563 - mae: 0.2563\n",
            "Epoch 345/500\n",
            "2/2 [==============================] - 0s 7ms/step - loss: 1.3382 - mae: 1.3382\n",
            "Epoch 346/500\n",
            "2/2 [==============================] - 0s 8ms/step - loss: 1.5261 - mae: 1.5261\n",
            "Epoch 347/500\n",
            "2/2 [==============================] - 0s 7ms/step - loss: 1.6548 - mae: 1.6548\n",
            "Epoch 348/500\n",
            "2/2 [==============================] - 0s 7ms/step - loss: 0.9316 - mae: 0.9316\n",
            "Epoch 349/500\n",
            "2/2 [==============================] - 0s 7ms/step - loss: 1.1950 - mae: 1.1950\n",
            "Epoch 350/500\n",
            "2/2 [==============================] - 0s 8ms/step - loss: 1.4526 - mae: 1.4526\n",
            "Epoch 351/500\n",
            "2/2 [==============================] - 0s 8ms/step - loss: 1.0799 - mae: 1.0799\n",
            "Epoch 352/500\n",
            "2/2 [==============================] - 0s 7ms/step - loss: 0.8490 - mae: 0.8490\n",
            "Epoch 353/500\n",
            "2/2 [==============================] - 0s 8ms/step - loss: 0.6759 - mae: 0.6759\n",
            "Epoch 354/500\n",
            "2/2 [==============================] - 0s 8ms/step - loss: 0.7218 - mae: 0.7218\n",
            "Epoch 355/500\n",
            "2/2 [==============================] - 0s 8ms/step - loss: 0.8802 - mae: 0.8802\n",
            "Epoch 356/500\n",
            "2/2 [==============================] - 0s 8ms/step - loss: 1.1840 - mae: 1.1840\n",
            "Epoch 357/500\n",
            "2/2 [==============================] - 0s 8ms/step - loss: 0.8227 - mae: 0.8227\n",
            "Epoch 358/500\n",
            "2/2 [==============================] - 0s 8ms/step - loss: 0.3637 - mae: 0.3637\n",
            "Epoch 359/500\n",
            "2/2 [==============================] - 0s 8ms/step - loss: 0.9108 - mae: 0.9108\n",
            "Epoch 360/500\n",
            "2/2 [==============================] - 0s 7ms/step - loss: 0.3074 - mae: 0.3074\n",
            "Epoch 361/500\n",
            "2/2 [==============================] - 0s 7ms/step - loss: 0.7053 - mae: 0.7053\n",
            "Epoch 362/500\n",
            "2/2 [==============================] - 0s 7ms/step - loss: 0.7580 - mae: 0.7580\n",
            "Epoch 363/500\n",
            "2/2 [==============================] - 0s 11ms/step - loss: 0.9182 - mae: 0.9182\n",
            "Epoch 364/500\n",
            "2/2 [==============================] - 0s 8ms/step - loss: 0.8966 - mae: 0.8966\n",
            "Epoch 365/500\n",
            "2/2 [==============================] - 0s 8ms/step - loss: 1.3711 - mae: 1.3711\n",
            "Epoch 366/500\n",
            "2/2 [==============================] - 0s 7ms/step - loss: 0.8370 - mae: 0.8370\n",
            "Epoch 367/500\n",
            "2/2 [==============================] - 0s 8ms/step - loss: 1.1613 - mae: 1.1613\n",
            "Epoch 368/500\n",
            "2/2 [==============================] - 0s 8ms/step - loss: 1.3775 - mae: 1.3775\n",
            "Epoch 369/500\n",
            "2/2 [==============================] - 0s 8ms/step - loss: 0.6661 - mae: 0.6661\n",
            "Epoch 370/500\n",
            "2/2 [==============================] - 0s 8ms/step - loss: 0.8838 - mae: 0.8838\n",
            "Epoch 371/500\n",
            "2/2 [==============================] - 0s 8ms/step - loss: 1.2450 - mae: 1.2450\n",
            "Epoch 372/500\n",
            "2/2 [==============================] - 0s 8ms/step - loss: 0.6506 - mae: 0.6506\n",
            "Epoch 373/500\n",
            "2/2 [==============================] - 0s 8ms/step - loss: 0.6114 - mae: 0.6114\n",
            "Epoch 374/500\n",
            "2/2 [==============================] - 0s 7ms/step - loss: 1.1506 - mae: 1.1506\n",
            "Epoch 375/500\n",
            "2/2 [==============================] - 0s 7ms/step - loss: 0.5700 - mae: 0.5700\n",
            "Epoch 376/500\n",
            "2/2 [==============================] - 0s 8ms/step - loss: 0.6955 - mae: 0.6955\n",
            "Epoch 377/500\n",
            "2/2 [==============================] - 0s 7ms/step - loss: 0.5656 - mae: 0.5656\n",
            "Epoch 378/500\n",
            "2/2 [==============================] - 0s 7ms/step - loss: 0.4526 - mae: 0.4526\n",
            "Epoch 379/500\n",
            "2/2 [==============================] - 0s 7ms/step - loss: 0.4881 - mae: 0.4881\n",
            "Epoch 380/500\n",
            "2/2 [==============================] - 0s 7ms/step - loss: 0.2728 - mae: 0.2728\n",
            "Epoch 381/500\n",
            "2/2 [==============================] - 0s 6ms/step - loss: 0.8573 - mae: 0.8573\n",
            "Epoch 382/500\n",
            "2/2 [==============================] - 0s 7ms/step - loss: 0.4506 - mae: 0.4506\n",
            "Epoch 383/500\n",
            "2/2 [==============================] - 0s 8ms/step - loss: 0.6422 - mae: 0.6422\n",
            "Epoch 384/500\n",
            "2/2 [==============================] - 0s 8ms/step - loss: 0.7251 - mae: 0.7251\n",
            "Epoch 385/500\n",
            "2/2 [==============================] - 0s 7ms/step - loss: 0.5418 - mae: 0.5418\n",
            "Epoch 386/500\n",
            "2/2 [==============================] - 0s 7ms/step - loss: 0.3353 - mae: 0.3353\n",
            "Epoch 387/500\n",
            "2/2 [==============================] - 0s 10ms/step - loss: 0.3543 - mae: 0.3543\n",
            "Epoch 388/500\n",
            "2/2 [==============================] - 0s 10ms/step - loss: 0.3003 - mae: 0.3003\n",
            "Epoch 389/500\n",
            "2/2 [==============================] - 0s 8ms/step - loss: 0.2447 - mae: 0.2447\n",
            "Epoch 390/500\n",
            "2/2 [==============================] - 0s 7ms/step - loss: 0.7072 - mae: 0.7072\n",
            "Epoch 391/500\n",
            "2/2 [==============================] - 0s 11ms/step - loss: 0.3697 - mae: 0.3697\n",
            "Epoch 392/500\n",
            "2/2 [==============================] - 0s 8ms/step - loss: 0.6656 - mae: 0.6656\n",
            "Epoch 393/500\n",
            "2/2 [==============================] - 0s 8ms/step - loss: 0.3656 - mae: 0.3656\n",
            "Epoch 394/500\n",
            "2/2 [==============================] - 0s 7ms/step - loss: 0.2845 - mae: 0.2845\n",
            "Epoch 395/500\n",
            "2/2 [==============================] - 0s 8ms/step - loss: 0.2817 - mae: 0.2817\n",
            "Epoch 396/500\n",
            "2/2 [==============================] - 0s 7ms/step - loss: 0.3009 - mae: 0.3009\n",
            "Epoch 397/500\n",
            "2/2 [==============================] - 0s 8ms/step - loss: 0.5113 - mae: 0.5113\n",
            "Epoch 398/500\n",
            "2/2 [==============================] - 0s 7ms/step - loss: 0.1591 - mae: 0.1591\n",
            "Epoch 399/500\n",
            "2/2 [==============================] - 0s 7ms/step - loss: 0.2330 - mae: 0.2330\n",
            "Epoch 400/500\n",
            "2/2 [==============================] - 0s 8ms/step - loss: 0.3594 - mae: 0.3594\n",
            "Epoch 401/500\n",
            "2/2 [==============================] - 0s 8ms/step - loss: 0.2780 - mae: 0.2780\n",
            "Epoch 402/500\n",
            "2/2 [==============================] - 0s 8ms/step - loss: 0.4088 - mae: 0.4088\n",
            "Epoch 403/500\n",
            "2/2 [==============================] - 0s 7ms/step - loss: 0.2646 - mae: 0.2646\n",
            "Epoch 404/500\n",
            "2/2 [==============================] - 0s 8ms/step - loss: 0.3339 - mae: 0.3339\n",
            "Epoch 405/500\n",
            "2/2 [==============================] - 0s 8ms/step - loss: 0.1968 - mae: 0.1968\n",
            "Epoch 406/500\n",
            "2/2 [==============================] - 0s 8ms/step - loss: 0.3434 - mae: 0.3434\n",
            "Epoch 407/500\n",
            "2/2 [==============================] - 0s 7ms/step - loss: 0.2240 - mae: 0.2240\n",
            "Epoch 408/500\n",
            "2/2 [==============================] - 0s 8ms/step - loss: 0.3968 - mae: 0.3968\n",
            "Epoch 409/500\n",
            "2/2 [==============================] - 0s 8ms/step - loss: 0.2167 - mae: 0.2167\n",
            "Epoch 410/500\n",
            "2/2 [==============================] - 0s 8ms/step - loss: 0.3002 - mae: 0.3002\n",
            "Epoch 411/500\n",
            "2/2 [==============================] - 0s 7ms/step - loss: 0.2254 - mae: 0.2254\n",
            "Epoch 412/500\n",
            "2/2 [==============================] - 0s 8ms/step - loss: 0.3238 - mae: 0.3238\n",
            "Epoch 413/500\n",
            "2/2 [==============================] - 0s 8ms/step - loss: 0.5482 - mae: 0.5482\n",
            "Epoch 414/500\n",
            "2/2 [==============================] - 0s 7ms/step - loss: 0.4254 - mae: 0.4254\n",
            "Epoch 415/500\n",
            "2/2 [==============================] - 0s 8ms/step - loss: 0.8028 - mae: 0.8028\n",
            "Epoch 416/500\n",
            "2/2 [==============================] - 0s 9ms/step - loss: 0.6109 - mae: 0.6109\n",
            "Epoch 417/500\n",
            "2/2 [==============================] - 0s 7ms/step - loss: 1.0551 - mae: 1.0551\n",
            "Epoch 418/500\n",
            "2/2 [==============================] - 0s 8ms/step - loss: 0.4292 - mae: 0.4292\n",
            "Epoch 419/500\n",
            "2/2 [==============================] - 0s 8ms/step - loss: 0.7862 - mae: 0.7862\n",
            "Epoch 420/500\n",
            "2/2 [==============================] - 0s 7ms/step - loss: 0.9397 - mae: 0.9397\n",
            "Epoch 421/500\n",
            "2/2 [==============================] - 0s 10ms/step - loss: 0.5700 - mae: 0.5700\n",
            "Epoch 422/500\n",
            "2/2 [==============================] - 0s 12ms/step - loss: 0.7413 - mae: 0.7413\n",
            "Epoch 423/500\n",
            "2/2 [==============================] - 0s 11ms/step - loss: 0.9227 - mae: 0.9227\n",
            "Epoch 424/500\n",
            "2/2 [==============================] - 0s 10ms/step - loss: 0.7865 - mae: 0.7865\n",
            "Epoch 425/500\n",
            "2/2 [==============================] - 0s 9ms/step - loss: 0.3806 - mae: 0.3806\n",
            "Epoch 426/500\n",
            "2/2 [==============================] - 0s 7ms/step - loss: 0.5288 - mae: 0.5288\n",
            "Epoch 427/500\n",
            "2/2 [==============================] - 0s 7ms/step - loss: 0.3587 - mae: 0.3587\n",
            "Epoch 428/500\n",
            "2/2 [==============================] - 0s 7ms/step - loss: 0.4343 - mae: 0.4343\n",
            "Epoch 429/500\n",
            "2/2 [==============================] - 0s 9ms/step - loss: 0.3702 - mae: 0.3702\n",
            "Epoch 430/500\n",
            "2/2 [==============================] - 0s 8ms/step - loss: 0.5506 - mae: 0.5506\n",
            "Epoch 431/500\n",
            "2/2 [==============================] - 0s 7ms/step - loss: 0.3350 - mae: 0.3350\n",
            "Epoch 432/500\n",
            "2/2 [==============================] - 0s 7ms/step - loss: 0.3821 - mae: 0.3821\n",
            "Epoch 433/500\n",
            "2/2 [==============================] - 0s 7ms/step - loss: 0.6998 - mae: 0.6998\n",
            "Epoch 434/500\n",
            "2/2 [==============================] - 0s 9ms/step - loss: 0.8122 - mae: 0.8122\n",
            "Epoch 435/500\n",
            "2/2 [==============================] - 0s 7ms/step - loss: 1.0194 - mae: 1.0194\n",
            "Epoch 436/500\n",
            "2/2 [==============================] - 0s 6ms/step - loss: 0.5973 - mae: 0.5973\n",
            "Epoch 437/500\n",
            "2/2 [==============================] - 0s 7ms/step - loss: 1.0474 - mae: 1.0474\n",
            "Epoch 438/500\n",
            "2/2 [==============================] - 0s 8ms/step - loss: 0.2856 - mae: 0.2856\n",
            "Epoch 439/500\n",
            "2/2 [==============================] - 0s 8ms/step - loss: 0.6687 - mae: 0.6687\n",
            "Epoch 440/500\n",
            "2/2 [==============================] - 0s 9ms/step - loss: 0.7966 - mae: 0.7966\n",
            "Epoch 441/500\n",
            "2/2 [==============================] - 0s 9ms/step - loss: 0.5310 - mae: 0.5310\n",
            "Epoch 442/500\n",
            "2/2 [==============================] - 0s 11ms/step - loss: 0.7387 - mae: 0.7387\n",
            "Epoch 443/500\n",
            "2/2 [==============================] - 0s 8ms/step - loss: 0.6101 - mae: 0.6101\n",
            "Epoch 444/500\n",
            "2/2 [==============================] - 0s 8ms/step - loss: 0.8872 - mae: 0.8872\n",
            "Epoch 445/500\n",
            "2/2 [==============================] - 0s 8ms/step - loss: 1.0899 - mae: 1.0899\n",
            "Epoch 446/500\n",
            "2/2 [==============================] - 0s 9ms/step - loss: 0.4473 - mae: 0.4473\n",
            "Epoch 447/500\n",
            "2/2 [==============================] - 0s 8ms/step - loss: 1.0087 - mae: 1.0087\n",
            "Epoch 448/500\n",
            "2/2 [==============================] - 0s 7ms/step - loss: 0.4344 - mae: 0.4344\n",
            "Epoch 449/500\n",
            "2/2 [==============================] - 0s 9ms/step - loss: 0.6714 - mae: 0.6714\n",
            "Epoch 450/500\n",
            "2/2 [==============================] - 0s 14ms/step - loss: 0.4826 - mae: 0.4826\n",
            "Epoch 451/500\n",
            "2/2 [==============================] - 0s 8ms/step - loss: 0.4509 - mae: 0.4509\n",
            "Epoch 452/500\n",
            "2/2 [==============================] - 0s 10ms/step - loss: 0.9373 - mae: 0.9373\n",
            "Epoch 453/500\n",
            "2/2 [==============================] - 0s 7ms/step - loss: 0.9809 - mae: 0.9809\n",
            "Epoch 454/500\n",
            "2/2 [==============================] - 0s 9ms/step - loss: 0.5458 - mae: 0.5458\n",
            "Epoch 455/500\n",
            "2/2 [==============================] - 0s 9ms/step - loss: 0.8776 - mae: 0.8776\n",
            "Epoch 456/500\n",
            "2/2 [==============================] - 0s 10ms/step - loss: 0.5179 - mae: 0.5179\n",
            "Epoch 457/500\n",
            "2/2 [==============================] - 0s 10ms/step - loss: 0.9102 - mae: 0.9102\n",
            "Epoch 458/500\n",
            "2/2 [==============================] - 0s 7ms/step - loss: 0.6284 - mae: 0.6284\n",
            "Epoch 459/500\n",
            "2/2 [==============================] - 0s 9ms/step - loss: 0.2732 - mae: 0.2732\n",
            "Epoch 460/500\n",
            "2/2 [==============================] - 0s 9ms/step - loss: 0.2891 - mae: 0.2891\n",
            "Epoch 461/500\n",
            "2/2 [==============================] - 0s 9ms/step - loss: 0.2779 - mae: 0.2779\n",
            "Epoch 462/500\n",
            "2/2 [==============================] - 0s 8ms/step - loss: 0.1510 - mae: 0.1510\n",
            "Epoch 463/500\n",
            "2/2 [==============================] - 0s 7ms/step - loss: 0.4868 - mae: 0.4868\n",
            "Epoch 464/500\n",
            "2/2 [==============================] - 0s 7ms/step - loss: 0.3409 - mae: 0.3409\n",
            "Epoch 465/500\n",
            "2/2 [==============================] - 0s 7ms/step - loss: 0.9421 - mae: 0.9421\n",
            "Epoch 466/500\n",
            "2/2 [==============================] - 0s 8ms/step - loss: 0.3988 - mae: 0.3988\n",
            "Epoch 467/500\n",
            "2/2 [==============================] - 0s 8ms/step - loss: 0.6095 - mae: 0.6095\n",
            "Epoch 468/500\n",
            "2/2 [==============================] - 0s 10ms/step - loss: 0.3428 - mae: 0.3428\n",
            "Epoch 469/500\n",
            "2/2 [==============================] - 0s 10ms/step - loss: 0.1914 - mae: 0.1914\n",
            "Epoch 470/500\n",
            "2/2 [==============================] - 0s 7ms/step - loss: 0.3933 - mae: 0.3933\n",
            "Epoch 471/500\n",
            "2/2 [==============================] - 0s 7ms/step - loss: 0.1552 - mae: 0.1552\n",
            "Epoch 472/500\n",
            "2/2 [==============================] - 0s 8ms/step - loss: 0.6173 - mae: 0.6173\n",
            "Epoch 473/500\n",
            "2/2 [==============================] - 0s 7ms/step - loss: 0.6028 - mae: 0.6028\n",
            "Epoch 474/500\n",
            "2/2 [==============================] - 0s 8ms/step - loss: 0.2445 - mae: 0.2445\n",
            "Epoch 475/500\n",
            "2/2 [==============================] - 0s 9ms/step - loss: 1.1778 - mae: 1.1778\n",
            "Epoch 476/500\n",
            "2/2 [==============================] - 0s 12ms/step - loss: 1.1031 - mae: 1.1031\n",
            "Epoch 477/500\n",
            "2/2 [==============================] - 0s 8ms/step - loss: 0.6153 - mae: 0.6153\n",
            "Epoch 478/500\n",
            "2/2 [==============================] - 0s 8ms/step - loss: 0.5010 - mae: 0.5010\n",
            "Epoch 479/500\n",
            "2/2 [==============================] - 0s 9ms/step - loss: 1.0667 - mae: 1.0667\n",
            "Epoch 480/500\n",
            "2/2 [==============================] - 0s 8ms/step - loss: 0.7863 - mae: 0.7863\n",
            "Epoch 481/500\n",
            "2/2 [==============================] - 0s 7ms/step - loss: 0.5079 - mae: 0.5079\n",
            "Epoch 482/500\n",
            "2/2 [==============================] - 0s 8ms/step - loss: 0.4967 - mae: 0.4967\n",
            "Epoch 483/500\n",
            "2/2 [==============================] - 0s 9ms/step - loss: 0.1855 - mae: 0.1855\n",
            "Epoch 484/500\n",
            "2/2 [==============================] - 0s 10ms/step - loss: 0.2630 - mae: 0.2630\n",
            "Epoch 485/500\n",
            "2/2 [==============================] - 0s 11ms/step - loss: 0.3029 - mae: 0.3029\n",
            "Epoch 486/500\n",
            "2/2 [==============================] - 0s 12ms/step - loss: 0.4809 - mae: 0.4809\n",
            "Epoch 487/500\n",
            "2/2 [==============================] - 0s 12ms/step - loss: 0.3126 - mae: 0.3126\n",
            "Epoch 488/500\n",
            "2/2 [==============================] - 0s 8ms/step - loss: 0.5849 - mae: 0.5849\n",
            "Epoch 489/500\n",
            "2/2 [==============================] - 0s 7ms/step - loss: 0.3449 - mae: 0.3449\n",
            "Epoch 490/500\n",
            "2/2 [==============================] - 0s 8ms/step - loss: 0.4956 - mae: 0.4956\n",
            "Epoch 491/500\n",
            "2/2 [==============================] - 0s 8ms/step - loss: 0.7064 - mae: 0.7064\n",
            "Epoch 492/500\n",
            "2/2 [==============================] - 0s 8ms/step - loss: 0.5265 - mae: 0.5265\n",
            "Epoch 493/500\n",
            "2/2 [==============================] - 0s 10ms/step - loss: 0.8011 - mae: 0.8011\n",
            "Epoch 494/500\n",
            "2/2 [==============================] - 0s 10ms/step - loss: 0.8610 - mae: 0.8610\n",
            "Epoch 495/500\n",
            "2/2 [==============================] - 0s 9ms/step - loss: 1.4463 - mae: 1.4463\n",
            "Epoch 496/500\n",
            "2/2 [==============================] - 0s 11ms/step - loss: 0.8154 - mae: 0.8154\n",
            "Epoch 497/500\n",
            "2/2 [==============================] - 0s 9ms/step - loss: 0.9694 - mae: 0.9694\n",
            "Epoch 498/500\n",
            "2/2 [==============================] - 0s 9ms/step - loss: 0.7781 - mae: 0.7781\n",
            "Epoch 499/500\n",
            "2/2 [==============================] - 0s 10ms/step - loss: 0.7679 - mae: 0.7679\n",
            "Epoch 500/500\n",
            "2/2 [==============================] - 0s 8ms/step - loss: 0.8627 - mae: 0.8627\n"
          ]
        },
        {
          "output_type": "execute_result",
          "data": {
            "text/plain": [
              "<keras.callbacks.History at 0x7fc840160310>"
            ]
          },
          "metadata": {},
          "execution_count": 28
        }
      ]
    },
    {
      "cell_type": "code",
      "source": [
        "# Actual values\n",
        "X_test, y_test"
      ],
      "metadata": {
        "colab": {
          "base_uri": "https://localhost:8080/"
        },
        "id": "VqAke2y-q5h5",
        "outputId": "f4f03685-497a-4b79-d602-19eb9fe83f40"
      },
      "execution_count": 29,
      "outputs": [
        {
          "output_type": "execute_result",
          "data": {
            "text/plain": [
              "(<tf.Tensor: shape=(10,), dtype=int32, numpy=array([60, 64, 68, 72, 76, 80, 84, 88, 92, 96], dtype=int32)>,\n",
              " <tf.Tensor: shape=(10,), dtype=int32, numpy=array([ 70,  74,  78,  82,  86,  90,  94,  98, 102, 106], dtype=int32)>)"
            ]
          },
          "metadata": {},
          "execution_count": 29
        }
      ]
    },
    {
      "cell_type": "code",
      "source": [
        "# Testing\n",
        "y_pred = model_2.predict([X_test])\n",
        "y_pred"
      ],
      "metadata": {
        "colab": {
          "base_uri": "https://localhost:8080/"
        },
        "id": "Ov4gf1mDn0C9",
        "outputId": "6de1c786-d6c9-45fa-f2be-1ef6390438f9"
      },
      "execution_count": 30,
      "outputs": [
        {
          "output_type": "stream",
          "name": "stderr",
          "text": [
            "WARNING:tensorflow:Layers in a Sequential model should only have a single input tensor. Received: inputs=(<tf.Tensor 'IteratorGetNext:0' shape=(None,) dtype=int32>,). Consider rewriting this model with the Functional API.\n"
          ]
        },
        {
          "output_type": "stream",
          "name": "stdout",
          "text": [
            "1/1 [==============================] - 0s 119ms/step\n"
          ]
        },
        {
          "output_type": "execute_result",
          "data": {
            "text/plain": [
              "array([[ 70.440056],\n",
              "       [ 74.465675],\n",
              "       [ 78.49129 ],\n",
              "       [ 82.5169  ],\n",
              "       [ 86.5425  ],\n",
              "       [ 90.56812 ],\n",
              "       [ 94.593735],\n",
              "       [ 98.618126],\n",
              "       [102.641556],\n",
              "       [106.66499 ]], dtype=float32)"
            ]
          },
          "metadata": {},
          "execution_count": 30
        }
      ]
    },
    {
      "cell_type": "code",
      "source": [
        "plt.scatter(X_test, y_pred)"
      ],
      "metadata": {
        "colab": {
          "base_uri": "https://localhost:8080/",
          "height": 282
        },
        "id": "njBp2NXjoLMC",
        "outputId": "adf3b64f-fb99-445a-ddac-3b358efbbf7f"
      },
      "execution_count": 31,
      "outputs": [
        {
          "output_type": "execute_result",
          "data": {
            "text/plain": [
              "<matplotlib.collections.PathCollection at 0x7fc831d0fd60>"
            ]
          },
          "metadata": {},
          "execution_count": 31
        },
        {
          "output_type": "display_data",
          "data": {
            "text/plain": [
              "<Figure size 432x288 with 1 Axes>"
            ],
            "image/png": "[encoded data removed]"
          },
          "metadata": {
            "needs_background": "light"
          }
        }
      ]
    },
    {
      "cell_type": "code",
      "source": [
        "# Creating a model that builds automatically by defining the input_shape argument\n",
        "import tensorflow as tf\n",
        "tf.random.set_seed(42)\n",
        "\n",
        "# Create a model\n",
        "model = tf.keras.Sequential([\n",
        "    # tf.keras.layers.Dense(100, activation = \"relu\"),\n",
        "    tf.keras.layers.Dense(100, input_shape=[1], name = \"input_layer\"),\n",
        "    tf.keras.layers.Dense(100, input_shape=[1], name = \"hidden_layer\"),\n",
        "    tf.keras.layers.Dense(1, name = \"output_layer\")\n",
        "], name = \"model_1\")\n",
        "\n",
        "model.compile(loss = tf.keras.losses.mse,\n",
        "              optimizer = tf.keras.optimizers.Adam(learning_rate = 0.01),\n",
        "              metrics = [\"mse\"])\n",
        "\n",
        "# model.fit(tf.expand_dims(X_train, axis = 1), y_train, epochs = 100)"
      ],
      "metadata": {
        "id": "Zirix-WGvjHQ"
      },
      "execution_count": 36,
      "outputs": []
    },
    {
      "cell_type": "code",
      "source": [
        "model.summary()"
      ],
      "metadata": {
        "colab": {
          "base_uri": "https://localhost:8080/"
        },
        "id": "6C7m7GQWvxYK",
        "outputId": "ead88381-27ad-4e04-d837-6a03f78f97a7"
      },
      "execution_count": 2,
      "outputs": [
        {
          "output_type": "stream",
          "name": "stdout",
          "text": [
            "Model: \"model_1\"\n",
            "_________________________________________________________________\n",
            " Layer (type)                Output Shape              Param #   \n",
            "=================================================================\n",
            " input_layer (Dense)         (None, 100)               200       \n",
            "                                                                 \n",
            " hidden_layer (Dense)        (None, 100)               10100     \n",
            "                                                                 \n",
            " output_layer (Dense)        (None, 1)                 101       \n",
            "                                                                 \n",
            "=================================================================\n",
            "Total params: 10,401\n",
            "Trainable params: 10,401\n",
            "Non-trainable params: 0\n",
            "_________________________________________________________________\n"
          ]
        }
      ]
    },
    {
      "cell_type": "markdown",
      "source": [
        "## **What is that summary!**\n",
        "Total Params - Total number of parameters in the model.\n",
        "\n",
        "Trainable params - Parameters the model can update as it trains.\n",
        "\n",
        "Non-trainable params - These are the parameters aren't updated while training."
      ],
      "metadata": {
        "id": "I1qEJ4Jbyg9L"
      }
    },
    {
      "cell_type": "code",
      "source": [
        "model.fit(X_train, y_train, epochs = 200, verbose = 0)"
      ],
      "metadata": {
        "colab": {
          "base_uri": "https://localhost:8080/"
        },
        "id": "O2tTtVMnxsQm",
        "outputId": "9db2e84f-321a-472a-f589-34e7f516df87"
      },
      "execution_count": 37,
      "outputs": [
        {
          "output_type": "execute_result",
          "data": {
            "text/plain": [
              "<keras.callbacks.History at 0x7fc8480b7430>"
            ]
          },
          "metadata": {},
          "execution_count": 37
        }
      ]
    },
    {
      "cell_type": "code",
      "source": [
        "X_test, y_test"
      ],
      "metadata": {
        "colab": {
          "base_uri": "https://localhost:8080/"
        },
        "id": "FiCODmY84LFC",
        "outputId": "245ba3e3-15d2-4008-eb5a-a04b6a1f26ae"
      },
      "execution_count": 34,
      "outputs": [
        {
          "output_type": "execute_result",
          "data": {
            "text/plain": [
              "(<tf.Tensor: shape=(10,), dtype=int32, numpy=array([60, 64, 68, 72, 76, 80, 84, 88, 92, 96], dtype=int32)>,\n",
              " <tf.Tensor: shape=(10,), dtype=int32, numpy=array([ 70,  74,  78,  82,  86,  90,  94,  98, 102, 106], dtype=int32)>)"
            ]
          },
          "metadata": {},
          "execution_count": 34
        }
      ]
    },
    {
      "cell_type": "code",
      "source": [
        "y_pred = model.predict([X_test])\n",
        "y_pred"
      ],
      "metadata": {
        "colab": {
          "base_uri": "https://localhost:8080/"
        },
        "id": "UXW3_E9L4C3b",
        "outputId": "17fa0180-752d-40f6-b711-ef9a6193d66a"
      },
      "execution_count": 38,
      "outputs": [
        {
          "output_type": "stream",
          "name": "stderr",
          "text": [
            "WARNING:tensorflow:5 out of the last 5 calls to <function Model.make_predict_function.<locals>.predict_function at 0x7fc831cc5790> triggered tf.function retracing. Tracing is expensive and the excessive number of tracings could be due to (1) creating @tf.function repeatedly in a loop, (2) passing tensors with different shapes, (3) passing Python objects instead of tensors. For (1), please define your @tf.function outside of the loop. For (2), @tf.function has reduce_retracing=True option that can avoid unnecessary retracing. For (3), please refer to https://www.tensorflow.org/guide/function#controlling_retracing and https://www.tensorflow.org/api_docs/python/tf/function for  more details.\n"
          ]
        },
        {
          "output_type": "stream",
          "name": "stdout",
          "text": [
            "1/1 [==============================] - 0s 51ms/step\n"
          ]
        },
        {
          "output_type": "execute_result",
          "data": {
            "text/plain": [
              "array([[ 70.      ],\n",
              "       [ 74.      ],\n",
              "       [ 78.      ],\n",
              "       [ 82.00001 ],\n",
              "       [ 86.      ],\n",
              "       [ 90.      ],\n",
              "       [ 94.      ],\n",
              "       [ 97.99999 ],\n",
              "       [102.      ],\n",
              "       [105.999985]], dtype=float32)"
            ]
          },
          "metadata": {},
          "execution_count": 38
        }
      ]
    },
    {
      "cell_type": "code",
      "source": [
        "model.summary()"
      ],
      "metadata": {
        "colab": {
          "base_uri": "https://localhost:8080/"
        },
        "id": "MY-gzunD29jb",
        "outputId": "10cde2b8-6c18-4b9b-cab3-0d8b613b2521"
      },
      "execution_count": 106,
      "outputs": [
        {
          "output_type": "stream",
          "name": "stdout",
          "text": [
            "Model: \"model_1\"\n",
            "_________________________________________________________________\n",
            " Layer (type)                Output Shape              Param #   \n",
            "=================================================================\n",
            " input_layer (Dense)         (None, 10)                20        \n",
            "                                                                 \n",
            " output_layer (Dense)        (None, 1)                 11        \n",
            "                                                                 \n",
            "=================================================================\n",
            "Total params: 31\n",
            "Trainable params: 31\n",
            "Non-trainable params: 0\n",
            "_________________________________________________________________\n"
          ]
        }
      ]
    },
    {
      "cell_type": "code",
      "source": [
        "from tensorflow.keras.utils import plot_model\n",
        "plot_model(model = model, show_shapes = True)"
      ],
      "metadata": {
        "colab": {
          "base_uri": "https://localhost:8080/",
          "height": 422
        },
        "id": "xDHYNeRF2-wf",
        "outputId": "21146e4b-0ab6-413f-c71a-7a745b113f8f"
      },
      "execution_count": 131,
      "outputs": [
        {
          "output_type": "execute_result",
          "data": {
            "image/png": "[encoded data removed]",
            "text/plain": [
              "<IPython.core.display.Image object>"
            ]
          },
          "metadata": {},
          "execution_count": 131
        }
      ]
    },
    {
      "cell_type": "code",
      "source": [
        "# Lets set a function for plotting\n",
        "def plot_predictions(train_data = X_train, train_labels = y_train, test_data = X_test, test_labels = y_test, predictions = y_pred):\n",
        "  plt.figure(figsize = (10, 7))\n",
        "  plt.scatter(train_data, train_labels, c = \"b\", label = \"Training Data\")\n",
        "  plt.scatter(test_data, test_labels, c = \"g\", label = \"Testing Data\")\n",
        "  plt.scatter(test_data, predictions, c = \"r\", label = \"Predictions\")\n",
        "  plt.legend()"
      ],
      "metadata": {
        "id": "bItzGkXZ35HC"
      },
      "execution_count": 76,
      "outputs": []
    },
    {
      "cell_type": "code",
      "source": [
        "plot_predictions()"
      ],
      "metadata": {
        "colab": {
          "base_uri": "https://localhost:8080/",
          "height": 428
        },
        "id": "ietRxLxF7y6H",
        "outputId": "7872c4ca-bc40-48cf-9bc1-b39a0cd15372"
      },
      "execution_count": 143,
      "outputs": [
        {
          "output_type": "display_data",
          "data": {
            "text/plain": [
              "<Figure size 720x504 with 1 Axes>"
            ],
            "image/png": "[encoded data removed]"
          },
          "metadata": {
            "needs_background": "light"
          }
        }
      ]
    },
    {
      "cell_type": "markdown",
      "source": [
        "## Evaluation using regression evaluation matrics.\n",
        "\n",
        "Here, we have two main metrices:\n",
        "\n",
        "1) MAE - Mean Absolute Error.\n",
        "\n",
        "2) MSE - Mean Square Error."
      ],
      "metadata": {
        "id": "-GVp19CS99Fn"
      }
    },
    {
      "cell_type": "code",
      "source": [
        "model.evaluate(X_test, y_test)"
      ],
      "metadata": {
        "colab": {
          "base_uri": "https://localhost:8080/"
        },
        "id": "IqPL_535_2_R",
        "outputId": "46db94a9-899e-429c-8005-cbe9b24278b5"
      },
      "execution_count": 41,
      "outputs": [
        {
          "output_type": "stream",
          "name": "stdout",
          "text": [
            "1/1 [==============================] - 0s 127ms/step - loss: 3.4925e-11 - mse: 3.4925e-11\n"
          ]
        },
        {
          "output_type": "execute_result",
          "data": {
            "text/plain": [
              "[3.4924597935859225e-11, 3.4924597935859225e-11]"
            ]
          },
          "metadata": {},
          "execution_count": 41
        }
      ]
    },
    {
      "cell_type": "code",
      "source": [
        "y_pred"
      ],
      "metadata": {
        "colab": {
          "base_uri": "https://localhost:8080/"
        },
        "id": "g1uy5dlx_7lu",
        "outputId": "b910799f-580c-452d-dc12-a1b13ebef83c"
      },
      "execution_count": 145,
      "outputs": [
        {
          "output_type": "execute_result",
          "data": {
            "text/plain": [
              "array([[ 70.      ],\n",
              "       [ 73.99999 ],\n",
              "       [ 78.      ],\n",
              "       [ 82.00001 ],\n",
              "       [ 85.99999 ],\n",
              "       [ 90.      ],\n",
              "       [ 93.999985],\n",
              "       [ 97.99999 ],\n",
              "       [101.99999 ],\n",
              "       [106.      ]], dtype=float32)"
            ]
          },
          "metadata": {},
          "execution_count": 145
        }
      ]
    },
    {
      "cell_type": "code",
      "source": [
        "y_test"
      ],
      "metadata": {
        "colab": {
          "base_uri": "https://localhost:8080/"
        },
        "id": "ydm5hRNOAUV6",
        "outputId": "a1376929-5ef6-451d-e723-f652c23b2d56"
      },
      "execution_count": 146,
      "outputs": [
        {
          "output_type": "execute_result",
          "data": {
            "text/plain": [
              "<tf.Tensor: shape=(10,), dtype=int32, numpy=array([ 70,  74,  78,  82,  86,  90,  94,  98, 102, 106], dtype=int32)>"
            ]
          },
          "metadata": {},
          "execution_count": 146
        }
      ]
    },
    {
      "cell_type": "code",
      "source": [
        "mae = tf.reduce_mean(tf.abs(y_test - y_pred))\n",
        "mae"
      ],
      "metadata": {
        "colab": {
          "base_uri": "https://localhost:8080/"
        },
        "id": "C0AQ7bLqAVue",
        "outputId": "bd3a5f51-0a38-4171-b80c-ce84a082bf5d"
      },
      "execution_count": 39,
      "outputs": [
        {
          "output_type": "execute_result",
          "data": {
            "text/plain": [
              "<tf.Tensor: shape=(), dtype=int32, numpy=13>"
            ]
          },
          "metadata": {},
          "execution_count": 39
        }
      ]
    },
    {
      "cell_type": "code",
      "source": [
        "tf.metrics.mean_absolute_error(y_test, tf.squeeze(y_pred))"
      ],
      "metadata": {
        "colab": {
          "base_uri": "https://localhost:8080/"
        },
        "id": "zpU6lebG4JgZ",
        "outputId": "e9b88fac-f788-4f07-c8d2-f3e108e58e3a"
      },
      "execution_count": 42,
      "outputs": [
        {
          "output_type": "execute_result",
          "data": {
            "text/plain": [
              "<tf.Tensor: shape=(), dtype=float32, numpy=3.0517579e-06>"
            ]
          },
          "metadata": {},
          "execution_count": 42
        }
      ]
    },
    {
      "cell_type": "code",
      "source": [
        "tf.metrics.mean_squared_error(y_test, tf.squeeze(y_pred))"
      ],
      "metadata": {
        "colab": {
          "base_uri": "https://localhost:8080/"
        },
        "id": "M2TQjj5G5juo",
        "outputId": "e9de171c-f4b9-4d66-9d1d-8ec41fbce371"
      },
      "execution_count": 43,
      "outputs": [
        {
          "output_type": "execute_result",
          "data": {
            "text/plain": [
              "<tf.Tensor: shape=(), dtype=float32, numpy=3.4924598e-11>"
            ]
          },
          "metadata": {},
          "execution_count": 43
        }
      ]
    },
    {
      "cell_type": "code",
      "source": [
        "def mae(y_test, y_pred):\n",
        "  return tf.metrics.mean_absolute_error(y_test, tf.squeeze(y_pred))\n",
        "\n",
        "def mse(y_test, y_pred):\n",
        "  return tf.metrics.mean_squared_error(y_test, tf.squeeze(y_pred))"
      ],
      "metadata": {
        "id": "x_bTrp7M6LQD"
      },
      "execution_count": 82,
      "outputs": []
    },
    {
      "cell_type": "code",
      "source": [
        "# Model 1\n",
        "tf.random.set_seed(42)\n",
        "\n",
        "# Create Model\n",
        "model_1 = tf.keras.Sequential([\n",
        "    tf.keras.layers.Dense(1)\n",
        "])\n",
        "\n",
        "model_1.compile(loss = tf.keras.losses.mae,\n",
        "                optimizer = tf.keras.optimizers.SGD(),\n",
        "                metrics = ['mae'])"
      ],
      "metadata": {
        "id": "BiMR_Zpc6cJf"
      },
      "execution_count": 52,
      "outputs": []
    },
    {
      "cell_type": "code",
      "source": [
        "model_1.fit(tf.expand_dims(X_train, axis = 1), y_train, epochs = 100)"
      ],
      "metadata": {
        "colab": {
          "base_uri": "https://localhost:8080/"
        },
        "id": "ZIa-kp4j8pf_",
        "outputId": "2e6caf84-fb98-48cd-d2d4-553aeb8f27e3"
      },
      "execution_count": 59,
      "outputs": [
        {
          "output_type": "stream",
          "name": "stdout",
          "text": [
            "Epoch 1/100\n",
            "2/2 [==============================] - 0s 11ms/step - loss: 12.0342 - mae: 12.0342\n",
            "Epoch 2/100\n",
            "2/2 [==============================] - 0s 8ms/step - loss: 8.4222 - mae: 8.4222\n",
            "Epoch 3/100\n",
            "2/2 [==============================] - 0s 7ms/step - loss: 11.1029 - mae: 11.1029\n",
            "Epoch 4/100\n",
            "2/2 [==============================] - 0s 6ms/step - loss: 8.5920 - mae: 8.5920\n",
            "Epoch 5/100\n",
            "2/2 [==============================] - 0s 6ms/step - loss: 9.5337 - mae: 9.5337\n",
            "Epoch 6/100\n",
            "2/2 [==============================] - 0s 7ms/step - loss: 8.7299 - mae: 8.7299\n",
            "Epoch 7/100\n",
            "2/2 [==============================] - 0s 6ms/step - loss: 7.8560 - mae: 7.8560\n",
            "Epoch 8/100\n",
            "2/2 [==============================] - 0s 7ms/step - loss: 8.0893 - mae: 8.0893\n",
            "Epoch 9/100\n",
            "2/2 [==============================] - 0s 6ms/step - loss: 18.7503 - mae: 18.7503\n",
            "Epoch 10/100\n",
            "2/2 [==============================] - 0s 8ms/step - loss: 9.1733 - mae: 9.1733\n",
            "Epoch 11/100\n",
            "2/2 [==============================] - 0s 6ms/step - loss: 7.4649 - mae: 7.4649\n",
            "Epoch 12/100\n",
            "2/2 [==============================] - 0s 6ms/step - loss: 9.7268 - mae: 9.7268\n",
            "Epoch 13/100\n",
            "2/2 [==============================] - 0s 6ms/step - loss: 8.8427 - mae: 8.8427\n",
            "Epoch 14/100\n",
            "2/2 [==============================] - 0s 8ms/step - loss: 15.5726 - mae: 15.5726\n",
            "Epoch 15/100\n",
            "2/2 [==============================] - 0s 8ms/step - loss: 11.0890 - mae: 11.0890\n",
            "Epoch 16/100\n",
            "2/2 [==============================] - 0s 14ms/step - loss: 7.7102 - mae: 7.7102\n",
            "Epoch 17/100\n",
            "2/2 [==============================] - 0s 6ms/step - loss: 12.7500 - mae: 12.7500\n",
            "Epoch 18/100\n",
            "2/2 [==============================] - 0s 7ms/step - loss: 10.0185 - mae: 10.0185\n",
            "Epoch 19/100\n",
            "2/2 [==============================] - 0s 7ms/step - loss: 19.1117 - mae: 19.1117\n",
            "Epoch 20/100\n",
            "2/2 [==============================] - 0s 6ms/step - loss: 9.1557 - mae: 9.1557\n",
            "Epoch 21/100\n",
            "2/2 [==============================] - 0s 11ms/step - loss: 7.2697 - mae: 7.2697\n",
            "Epoch 22/100\n",
            "2/2 [==============================] - 0s 6ms/step - loss: 8.6912 - mae: 8.6912\n",
            "Epoch 23/100\n",
            "2/2 [==============================] - 0s 7ms/step - loss: 9.7992 - mae: 9.7992\n",
            "Epoch 24/100\n",
            "2/2 [==============================] - 0s 6ms/step - loss: 14.1251 - mae: 14.1251\n",
            "Epoch 25/100\n",
            "2/2 [==============================] - 0s 6ms/step - loss: 10.6592 - mae: 10.6592\n",
            "Epoch 26/100\n",
            "2/2 [==============================] - 0s 6ms/step - loss: 11.6891 - mae: 11.6891\n",
            "Epoch 27/100\n",
            "2/2 [==============================] - 0s 6ms/step - loss: 9.1179 - mae: 9.1179\n",
            "Epoch 28/100\n",
            "2/2 [==============================] - 0s 6ms/step - loss: 11.9034 - mae: 11.9034\n",
            "Epoch 29/100\n",
            "2/2 [==============================] - 0s 6ms/step - loss: 8.5378 - mae: 8.5378\n",
            "Epoch 30/100\n",
            "2/2 [==============================] - 0s 8ms/step - loss: 15.5565 - mae: 15.5565\n",
            "Epoch 31/100\n",
            "2/2 [==============================] - 0s 6ms/step - loss: 23.6049 - mae: 23.6049\n",
            "Epoch 32/100\n",
            "2/2 [==============================] - 0s 7ms/step - loss: 6.3927 - mae: 6.3927\n",
            "Epoch 33/100\n",
            "2/2 [==============================] - 0s 6ms/step - loss: 8.8334 - mae: 8.8334\n",
            "Epoch 34/100\n",
            "2/2 [==============================] - 0s 6ms/step - loss: 11.2290 - mae: 11.2290\n",
            "Epoch 35/100\n",
            "2/2 [==============================] - 0s 6ms/step - loss: 11.3859 - mae: 11.3859\n",
            "Epoch 36/100\n",
            "2/2 [==============================] - 0s 6ms/step - loss: 12.2206 - mae: 12.2206\n",
            "Epoch 37/100\n",
            "2/2 [==============================] - 0s 6ms/step - loss: 8.6937 - mae: 8.6937\n",
            "Epoch 38/100\n",
            "2/2 [==============================] - 0s 6ms/step - loss: 9.4280 - mae: 9.4280\n",
            "Epoch 39/100\n",
            "2/2 [==============================] - 0s 6ms/step - loss: 15.2641 - mae: 15.2641\n",
            "Epoch 40/100\n",
            "2/2 [==============================] - 0s 7ms/step - loss: 12.6105 - mae: 12.6105\n",
            "Epoch 41/100\n",
            "2/2 [==============================] - 0s 7ms/step - loss: 8.3727 - mae: 8.3727\n",
            "Epoch 42/100\n",
            "2/2 [==============================] - 0s 7ms/step - loss: 10.0842 - mae: 10.0842\n",
            "Epoch 43/100\n",
            "2/2 [==============================] - 0s 6ms/step - loss: 7.4239 - mae: 7.4239\n",
            "Epoch 44/100\n",
            "2/2 [==============================] - 0s 6ms/step - loss: 15.3356 - mae: 15.3356\n",
            "Epoch 45/100\n",
            "2/2 [==============================] - 0s 6ms/step - loss: 12.6960 - mae: 12.6960\n",
            "Epoch 46/100\n",
            "2/2 [==============================] - 0s 6ms/step - loss: 7.1891 - mae: 7.1891\n",
            "Epoch 47/100\n",
            "2/2 [==============================] - 0s 6ms/step - loss: 7.9052 - mae: 7.9052\n",
            "Epoch 48/100\n",
            "2/2 [==============================] - 0s 6ms/step - loss: 9.2397 - mae: 9.2397\n",
            "Epoch 49/100\n",
            "2/2 [==============================] - 0s 7ms/step - loss: 7.6997 - mae: 7.6997\n",
            "Epoch 50/100\n",
            "2/2 [==============================] - 0s 7ms/step - loss: 8.2669 - mae: 8.2669\n",
            "Epoch 51/100\n",
            "2/2 [==============================] - 0s 7ms/step - loss: 8.4628 - mae: 8.4628\n",
            "Epoch 52/100\n",
            "2/2 [==============================] - 0s 6ms/step - loss: 14.0436 - mae: 14.0436\n",
            "Epoch 53/100\n",
            "2/2 [==============================] - 0s 7ms/step - loss: 14.5566 - mae: 14.5566\n",
            "Epoch 54/100\n",
            "2/2 [==============================] - 0s 7ms/step - loss: 14.2569 - mae: 14.2569\n",
            "Epoch 55/100\n",
            "2/2 [==============================] - 0s 7ms/step - loss: 18.6481 - mae: 18.6481\n",
            "Epoch 56/100\n",
            "2/2 [==============================] - 0s 7ms/step - loss: 6.6221 - mae: 6.6221\n",
            "Epoch 57/100\n",
            "2/2 [==============================] - 0s 6ms/step - loss: 12.0946 - mae: 12.0946\n",
            "Epoch 58/100\n",
            "2/2 [==============================] - 0s 7ms/step - loss: 8.0495 - mae: 8.0495\n",
            "Epoch 59/100\n",
            "2/2 [==============================] - 0s 6ms/step - loss: 9.2812 - mae: 9.2812\n",
            "Epoch 60/100\n",
            "2/2 [==============================] - 0s 7ms/step - loss: 7.4618 - mae: 7.4618\n",
            "Epoch 61/100\n",
            "2/2 [==============================] - 0s 7ms/step - loss: 8.3125 - mae: 8.3125\n",
            "Epoch 62/100\n",
            "2/2 [==============================] - 0s 7ms/step - loss: 6.3024 - mae: 6.3024\n",
            "Epoch 63/100\n",
            "2/2 [==============================] - 0s 6ms/step - loss: 7.2975 - mae: 7.2975\n",
            "Epoch 64/100\n",
            "2/2 [==============================] - 0s 6ms/step - loss: 12.0735 - mae: 12.0735\n",
            "Epoch 65/100\n",
            "2/2 [==============================] - 0s 7ms/step - loss: 9.1395 - mae: 9.1395\n",
            "Epoch 66/100\n",
            "2/2 [==============================] - 0s 7ms/step - loss: 15.5162 - mae: 15.5162\n",
            "Epoch 67/100\n",
            "2/2 [==============================] - 0s 7ms/step - loss: 9.4489 - mae: 9.4489\n",
            "Epoch 68/100\n",
            "2/2 [==============================] - 0s 7ms/step - loss: 7.3247 - mae: 7.3247\n",
            "Epoch 69/100\n",
            "2/2 [==============================] - 0s 7ms/step - loss: 13.3100 - mae: 13.3100\n",
            "Epoch 70/100\n",
            "2/2 [==============================] - 0s 8ms/step - loss: 6.4803 - mae: 6.4803\n",
            "Epoch 71/100\n",
            "2/2 [==============================] - 0s 7ms/step - loss: 11.5631 - mae: 11.5631\n",
            "Epoch 72/100\n",
            "2/2 [==============================] - 0s 8ms/step - loss: 9.5932 - mae: 9.5932\n",
            "Epoch 73/100\n",
            "2/2 [==============================] - 0s 8ms/step - loss: 8.5342 - mae: 8.5342\n",
            "Epoch 74/100\n",
            "2/2 [==============================] - 0s 7ms/step - loss: 14.7751 - mae: 14.7751\n",
            "Epoch 75/100\n",
            "2/2 [==============================] - 0s 8ms/step - loss: 8.2263 - mae: 8.2263\n",
            "Epoch 76/100\n",
            "2/2 [==============================] - 0s 9ms/step - loss: 8.5696 - mae: 8.5696\n",
            "Epoch 77/100\n",
            "2/2 [==============================] - 0s 8ms/step - loss: 10.7119 - mae: 10.7119\n",
            "Epoch 78/100\n",
            "2/2 [==============================] - 0s 7ms/step - loss: 11.6629 - mae: 11.6629\n",
            "Epoch 79/100\n",
            "2/2 [==============================] - 0s 7ms/step - loss: 14.6076 - mae: 14.6076\n",
            "Epoch 80/100\n",
            "2/2 [==============================] - 0s 7ms/step - loss: 11.0434 - mae: 11.0434\n",
            "Epoch 81/100\n",
            "2/2 [==============================] - 0s 8ms/step - loss: 10.1886 - mae: 10.1886\n",
            "Epoch 82/100\n",
            "2/2 [==============================] - 0s 7ms/step - loss: 7.0881 - mae: 7.0881\n",
            "Epoch 83/100\n",
            "2/2 [==============================] - 0s 7ms/step - loss: 8.1011 - mae: 8.1011\n",
            "Epoch 84/100\n",
            "2/2 [==============================] - 0s 7ms/step - loss: 7.3018 - mae: 7.3018\n",
            "Epoch 85/100\n",
            "2/2 [==============================] - 0s 7ms/step - loss: 14.2189 - mae: 14.2189\n",
            "Epoch 86/100\n",
            "2/2 [==============================] - 0s 7ms/step - loss: 12.9263 - mae: 12.9263\n",
            "Epoch 87/100\n",
            "2/2 [==============================] - 0s 6ms/step - loss: 12.3927 - mae: 12.3927\n",
            "Epoch 88/100\n",
            "2/2 [==============================] - 0s 8ms/step - loss: 10.7020 - mae: 10.7020\n",
            "Epoch 89/100\n",
            "2/2 [==============================] - 0s 6ms/step - loss: 6.0205 - mae: 6.0205\n",
            "Epoch 90/100\n",
            "2/2 [==============================] - 0s 7ms/step - loss: 12.9381 - mae: 12.9381\n",
            "Epoch 91/100\n",
            "2/2 [==============================] - 0s 7ms/step - loss: 6.8844 - mae: 6.8844\n",
            "Epoch 92/100\n",
            "2/2 [==============================] - 0s 7ms/step - loss: 7.1080 - mae: 7.1080\n",
            "Epoch 93/100\n",
            "2/2 [==============================] - 0s 9ms/step - loss: 8.5356 - mae: 8.5356\n",
            "Epoch 94/100\n",
            "2/2 [==============================] - 0s 7ms/step - loss: 7.8858 - mae: 7.8858\n",
            "Epoch 95/100\n",
            "2/2 [==============================] - 0s 6ms/step - loss: 11.3667 - mae: 11.3667\n",
            "Epoch 96/100\n",
            "2/2 [==============================] - 0s 7ms/step - loss: 8.3992 - mae: 8.3992\n",
            "Epoch 97/100\n",
            "2/2 [==============================] - 0s 7ms/step - loss: 12.1458 - mae: 12.1458\n",
            "Epoch 98/100\n",
            "2/2 [==============================] - 0s 8ms/step - loss: 7.4630 - mae: 7.4630\n",
            "Epoch 99/100\n",
            "2/2 [==============================] - 0s 8ms/step - loss: 8.2081 - mae: 8.2081\n",
            "Epoch 100/100\n",
            "2/2 [==============================] - 0s 7ms/step - loss: 9.6784 - mae: 9.6784\n"
          ]
        },
        {
          "output_type": "execute_result",
          "data": {
            "text/plain": [
              "<keras.callbacks.History at 0x7fc82e138d90>"
            ]
          },
          "metadata": {},
          "execution_count": 59
        }
      ]
    },
    {
      "cell_type": "code",
      "source": [
        "X_test, y_test"
      ],
      "metadata": {
        "colab": {
          "base_uri": "https://localhost:8080/"
        },
        "id": "wFhXibh89WsG",
        "outputId": "092ad23e-7101-4a2e-ead0-ce60203cba3c"
      },
      "execution_count": 81,
      "outputs": [
        {
          "output_type": "execute_result",
          "data": {
            "text/plain": [
              "(<tf.Tensor: shape=(10,), dtype=int32, numpy=array([60, 64, 68, 72, 76, 80, 84, 88, 92, 96], dtype=int32)>,\n",
              " <tf.Tensor: shape=(10,), dtype=int32, numpy=array([ 70,  74,  78,  82,  86,  90,  94,  98, 102, 106], dtype=int32)>)"
            ]
          },
          "metadata": {},
          "execution_count": 81
        }
      ]
    },
    {
      "cell_type": "code",
      "source": [
        "y_pred = model_1.predict([X_test])\n",
        "y_pred"
      ],
      "metadata": {
        "colab": {
          "base_uri": "https://localhost:8080/"
        },
        "id": "4jbO_5l683Xr",
        "outputId": "c506a368-a38b-43d4-cdca-2e0a558f9cdf"
      },
      "execution_count": 61,
      "outputs": [
        {
          "output_type": "stream",
          "name": "stdout",
          "text": [
            "1/1 [==============================] - 0s 28ms/step\n"
          ]
        },
        {
          "output_type": "execute_result",
          "data": {
            "text/plain": [
              "array([[ 69.3105  ],\n",
              "       [ 73.7587  ],\n",
              "       [ 78.206894],\n",
              "       [ 82.6551  ],\n",
              "       [ 87.103294],\n",
              "       [ 91.5515  ],\n",
              "       [ 95.999695],\n",
              "       [100.4479  ],\n",
              "       [104.896095],\n",
              "       [109.34429 ]], dtype=float32)"
            ]
          },
          "metadata": {},
          "execution_count": 61
        }
      ]
    },
    {
      "cell_type": "code",
      "source": [
        "plot_predictions(predictions = y_pred)"
      ],
      "metadata": {
        "colab": {
          "base_uri": "https://localhost:8080/",
          "height": 428
        },
        "id": "BO2zzABh_hip",
        "outputId": "858f2217-749f-4d00-87b7-0edf1582fac4"
      },
      "execution_count": 77,
      "outputs": [
        {
          "output_type": "display_data",
          "data": {
            "text/plain": [
              "<Figure size 720x504 with 1 Axes>"
            ],
            "image/png": "[encoded data removed]"
          },
          "metadata": {
            "needs_background": "light"
          }
        }
      ]
    },
    {
      "cell_type": "code",
      "source": [
        "mae_1 = mae(y_test, y_pred)\n",
        "mse_1 = mse(y_test, y_pred)\n",
        "mae_1, mse_1"
      ],
      "metadata": {
        "colab": {
          "base_uri": "https://localhost:8080/"
        },
        "id": "jMOmHVAlAJMn",
        "outputId": "7e87b80c-c0a8-4bfe-aeb8-2bd105f0a4a3"
      },
      "execution_count": 86,
      "outputs": [
        {
          "output_type": "execute_result",
          "data": {
            "text/plain": [
              "(<tf.Tensor: shape=(), dtype=float32, numpy=68.71915>,\n",
              " <tf.Tensor: shape=(), dtype=float32, numpy=4808.838>)"
            ]
          },
          "metadata": {},
          "execution_count": 86
        }
      ]
    },
    {
      "cell_type": "code",
      "source": [
        "# Model 2\n",
        "tf.random.set_seed(42)\n",
        "\n",
        "model_2 = tf.keras.Sequential([\n",
        "    tf.keras.layers.Dense(10),\n",
        "    tf.keras.layers.Dense(1)\n",
        "])\n",
        "\n",
        "model_2.compile(loss = tf.keras.losses.mae,\n",
        "                optimizer = tf.keras.optimizers.SGD(),\n",
        "                metrics = ['mse'])"
      ],
      "metadata": {
        "id": "HxUMoFu79aIk"
      },
      "execution_count": 119,
      "outputs": []
    },
    {
      "cell_type": "code",
      "source": [
        "model_2.fit(tf.expand_dims(X_train, axis = 1), y_train, epochs = 100, verbose=0)"
      ],
      "metadata": {
        "colab": {
          "base_uri": "https://localhost:8080/"
        },
        "id": "2gnUjDdZ-BI6",
        "outputId": "d8ed4f7c-d07a-4e38-fd97-479076f0fd84"
      },
      "execution_count": 120,
      "outputs": [
        {
          "output_type": "execute_result",
          "data": {
            "text/plain": [
              "<keras.callbacks.History at 0x7fc82e88ea60>"
            ]
          },
          "metadata": {},
          "execution_count": 120
        }
      ]
    },
    {
      "cell_type": "code",
      "source": [
        "X_test, y_test"
      ],
      "metadata": {
        "colab": {
          "base_uri": "https://localhost:8080/"
        },
        "id": "991goUY2BiIg",
        "outputId": "27172b84-7e83-4dce-99aa-aa3f4e299976"
      },
      "execution_count": 121,
      "outputs": [
        {
          "output_type": "execute_result",
          "data": {
            "text/plain": [
              "(<tf.Tensor: shape=(10,), dtype=int32, numpy=array([60, 64, 68, 72, 76, 80, 84, 88, 92, 96], dtype=int32)>,\n",
              " <tf.Tensor: shape=(10,), dtype=int32, numpy=array([ 70,  74,  78,  82,  86,  90,  94,  98, 102, 106], dtype=int32)>)"
            ]
          },
          "metadata": {},
          "execution_count": 121
        }
      ]
    },
    {
      "cell_type": "code",
      "source": [
        "y_pred = model_2.predict([X_test])\n",
        "y_pred"
      ],
      "metadata": {
        "colab": {
          "base_uri": "https://localhost:8080/"
        },
        "id": "Z7cnYP9G-R55",
        "outputId": "5fd67f51-074c-499c-f3e3-f4230cee1181"
      },
      "execution_count": 122,
      "outputs": [
        {
          "output_type": "stream",
          "name": "stderr",
          "text": [
            "WARNING:tensorflow:Layers in a Sequential model should only have a single input tensor. Received: inputs=(<tf.Tensor 'IteratorGetNext:0' shape=(None,) dtype=int32>,). Consider rewriting this model with the Functional API.\n"
          ]
        },
        {
          "output_type": "stream",
          "name": "stdout",
          "text": [
            "1/1 [==============================] - 0s 47ms/step\n"
          ]
        },
        {
          "output_type": "execute_result",
          "data": {
            "text/plain": [
              "array([[ 91.20907],\n",
              "       [ 97.16543],\n",
              "       [103.12178],\n",
              "       [109.07815],\n",
              "       [115.03451],\n",
              "       [120.99087],\n",
              "       [126.94723],\n",
              "       [132.9036 ],\n",
              "       [138.85994],\n",
              "       [144.81631]], dtype=float32)"
            ]
          },
          "metadata": {},
          "execution_count": 122
        }
      ]
    },
    {
      "cell_type": "code",
      "source": [
        "plot_predictions(predictions = y_pred)"
      ],
      "metadata": {
        "colab": {
          "base_uri": "https://localhost:8080/",
          "height": 428
        },
        "id": "DDq3YWUjBn-v",
        "outputId": "71205b7b-b7cb-4a68-f7e7-16e501041e50"
      },
      "execution_count": 123,
      "outputs": [
        {
          "output_type": "display_data",
          "data": {
            "text/plain": [
              "<Figure size 720x504 with 1 Axes>"
            ],
            "image/png": "[encoded data removed]"
          },
          "metadata": {
            "needs_background": "light"
          }
        }
      ]
    },
    {
      "cell_type": "code",
      "source": [
        "mae_2 = mae(y_test, y_pred)\n",
        "mse_2 = mse(y_test, y_pred)\n",
        "mae_2, mse_2"
      ],
      "metadata": {
        "colab": {
          "base_uri": "https://localhost:8080/"
        },
        "id": "UWRSeNdrBuwS",
        "outputId": "c074c448-d6cc-4dbe-ea8d-b7337957d088"
      },
      "execution_count": 124,
      "outputs": [
        {
          "output_type": "execute_result",
          "data": {
            "text/plain": [
              "(<tf.Tensor: shape=(), dtype=float32, numpy=30.01269>,\n",
              " <tf.Tensor: shape=(), dtype=float32, numpy=932.33704>)"
            ]
          },
          "metadata": {},
          "execution_count": 124
        }
      ]
    },
    {
      "cell_type": "code",
      "source": [
        "# Model 3\n",
        "tf.random.set_seed(42)\n",
        "\n",
        "model_3 = tf.keras.Sequential([\n",
        "    tf.keras.layers.Dense(100, activation='relu'),\n",
        "    tf.keras.layers.Dense(1)\n",
        "])\n",
        "\n",
        "model_3.compile(loss = tf.keras.losses.mae,\n",
        "                optimizer = tf.keras.optimizers.SGD(),\n",
        "                metrics = ['mae'])"
      ],
      "metadata": {
        "id": "sftGnsyx-gTg"
      },
      "execution_count": 146,
      "outputs": []
    },
    {
      "cell_type": "code",
      "source": [
        "model_3.fit(tf.expand_dims(X_train, axis = 1), y_train, epochs = 500, verbose = 0)"
      ],
      "metadata": {
        "colab": {
          "base_uri": "https://localhost:8080/"
        },
        "id": "ZmF591Aa-oFS",
        "outputId": "6d376bf9-310c-464d-ca72-739bedd5c26c"
      },
      "execution_count": 147,
      "outputs": [
        {
          "output_type": "execute_result",
          "data": {
            "text/plain": [
              "<keras.callbacks.History at 0x7fc823f14640>"
            ]
          },
          "metadata": {},
          "execution_count": 147
        }
      ]
    },
    {
      "cell_type": "code",
      "source": [
        "X_test, y_test"
      ],
      "metadata": {
        "colab": {
          "base_uri": "https://localhost:8080/"
        },
        "id": "r4eEvD7CD98T",
        "outputId": "d890f790-b9c3-4199-8182-4c771e5fc1ff"
      },
      "execution_count": 148,
      "outputs": [
        {
          "output_type": "execute_result",
          "data": {
            "text/plain": [
              "(<tf.Tensor: shape=(10,), dtype=int32, numpy=array([60, 64, 68, 72, 76, 80, 84, 88, 92, 96], dtype=int32)>,\n",
              " <tf.Tensor: shape=(10,), dtype=int32, numpy=array([ 70,  74,  78,  82,  86,  90,  94,  98, 102, 106], dtype=int32)>)"
            ]
          },
          "metadata": {},
          "execution_count": 148
        }
      ]
    },
    {
      "cell_type": "code",
      "source": [
        "y_pred = model_3.predict([X_test])\n",
        "y_pred"
      ],
      "metadata": {
        "colab": {
          "base_uri": "https://localhost:8080/"
        },
        "id": "DT6AYWJ0-3cE",
        "outputId": "39c98083-1425-4eb7-dd7d-949e3a84c7bd"
      },
      "execution_count": 149,
      "outputs": [
        {
          "output_type": "stream",
          "name": "stderr",
          "text": [
            "WARNING:tensorflow:Layers in a Sequential model should only have a single input tensor. Received: inputs=(<tf.Tensor 'IteratorGetNext:0' shape=(None,) dtype=int32>,). Consider rewriting this model with the Functional API.\n"
          ]
        },
        {
          "output_type": "stream",
          "name": "stdout",
          "text": [
            "1/1 [==============================] - 0s 50ms/step\n"
          ]
        },
        {
          "output_type": "execute_result",
          "data": {
            "text/plain": [
              "array([[ 67.2633  ],\n",
              "       [ 71.517944],\n",
              "       [ 75.77256 ],\n",
              "       [ 80.02715 ],\n",
              "       [ 84.28175 ],\n",
              "       [ 88.536316],\n",
              "       [ 92.79084 ],\n",
              "       [ 97.04534 ],\n",
              "       [101.29984 ],\n",
              "       [105.554344]], dtype=float32)"
            ]
          },
          "metadata": {},
          "execution_count": 149
        }
      ]
    },
    {
      "cell_type": "code",
      "source": [
        "plot_predictions(predictions = y_pred)"
      ],
      "metadata": {
        "colab": {
          "base_uri": "https://localhost:8080/",
          "height": 428
        },
        "id": "UTm9e29PD0Qu",
        "outputId": "725f7992-bbc6-4d46-d9db-9388587b7daf"
      },
      "execution_count": 150,
      "outputs": [
        {
          "output_type": "display_data",
          "data": {
            "text/plain": [
              "<Figure size 720x504 with 1 Axes>"
            ],
            "image/png": "[encoded data removed]"
          },
          "metadata": {
            "needs_background": "light"
          }
        }
      ]
    },
    {
      "cell_type": "code",
      "source": [
        "mae_3 = mae(y_test, y_pred)\n",
        "mse_3 = mse(y_test, y_pred)\n",
        "mae_3, mse_3"
      ],
      "metadata": {
        "colab": {
          "base_uri": "https://localhost:8080/"
        },
        "id": "riQ-FQSWESpA",
        "outputId": "000cf779-0dbc-4d28-86e2-a5e97102fa24"
      },
      "execution_count": 151,
      "outputs": [
        {
          "output_type": "execute_result",
          "data": {
            "text/plain": [
              "(<tf.Tensor: shape=(), dtype=float32, numpy=1.5910606>,\n",
              " <tf.Tensor: shape=(), dtype=float32, numpy=3.066076>)"
            ]
          },
          "metadata": {},
          "execution_count": 151
        }
      ]
    },
    {
      "cell_type": "markdown",
      "source": [
        "## **Compairing Results of our experiments.**"
      ],
      "metadata": {
        "id": "Wlmb8stLFdyc"
      }
    },
    {
      "cell_type": "code",
      "source": [],
      "metadata": {
        "id": "_sOfEm1IEn3N"
      },
      "execution_count": null,
      "outputs": []
    }
  ]
}